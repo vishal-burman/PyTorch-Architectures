{
  "nbformat": 4,
  "nbformat_minor": 0,
  "metadata": {
    "colab": {
      "name": "test_sample_BERT.ipynb",
      "provenance": [],
      "collapsed_sections": [],
      "mount_file_id": "1Xc0DWSxMwvNFVMANNfvmSUyPoPy-rKp7",
      "authorship_tag": "ABX9TyPYpFbu15XV1bxm8K2STg9f",
      "include_colab_link": true
    },
    "kernelspec": {
      "name": "python3",
      "display_name": "Python 3"
    },
    "accelerator": "GPU",
    "widgets": {
      "application/vnd.jupyter.widget-state+json": {
        "f63669d2596b456a833c2d997ace615f": {
          "model_module": "@jupyter-widgets/controls",
          "model_name": "HBoxModel",
          "state": {
            "_view_name": "HBoxView",
            "_dom_classes": [],
            "_model_name": "HBoxModel",
            "_view_module": "@jupyter-widgets/controls",
            "_model_module_version": "1.5.0",
            "_view_count": null,
            "_view_module_version": "1.5.0",
            "box_style": "",
            "layout": "IPY_MODEL_28f630db2a4e4b748cb26fb24902e409",
            "_model_module": "@jupyter-widgets/controls",
            "children": [
              "IPY_MODEL_e2379a160cb642f79ed0c0f139c44fc4",
              "IPY_MODEL_dc8738dde032415889afa1c99ac2c3d6"
            ]
          }
        },
        "28f630db2a4e4b748cb26fb24902e409": {
          "model_module": "@jupyter-widgets/base",
          "model_name": "LayoutModel",
          "state": {
            "_view_name": "LayoutView",
            "grid_template_rows": null,
            "right": null,
            "justify_content": null,
            "_view_module": "@jupyter-widgets/base",
            "overflow": null,
            "_model_module_version": "1.2.0",
            "_view_count": null,
            "flex_flow": null,
            "width": null,
            "min_width": null,
            "border": null,
            "align_items": null,
            "bottom": null,
            "_model_module": "@jupyter-widgets/base",
            "top": null,
            "grid_column": null,
            "overflow_y": null,
            "overflow_x": null,
            "grid_auto_flow": null,
            "grid_area": null,
            "grid_template_columns": null,
            "flex": null,
            "_model_name": "LayoutModel",
            "justify_items": null,
            "grid_row": null,
            "max_height": null,
            "align_content": null,
            "visibility": null,
            "align_self": null,
            "height": null,
            "min_height": null,
            "padding": null,
            "grid_auto_rows": null,
            "grid_gap": null,
            "max_width": null,
            "order": null,
            "_view_module_version": "1.2.0",
            "grid_template_areas": null,
            "object_position": null,
            "object_fit": null,
            "grid_auto_columns": null,
            "margin": null,
            "display": null,
            "left": null
          }
        },
        "e2379a160cb642f79ed0c0f139c44fc4": {
          "model_module": "@jupyter-widgets/controls",
          "model_name": "FloatProgressModel",
          "state": {
            "_view_name": "ProgressView",
            "style": "IPY_MODEL_f91ee3b6971543678b070e1b31f2bf08",
            "_dom_classes": [],
            "description": "Downloading: 100%",
            "_model_name": "FloatProgressModel",
            "bar_style": "success",
            "max": 231508,
            "_view_module": "@jupyter-widgets/controls",
            "_model_module_version": "1.5.0",
            "value": 231508,
            "_view_count": null,
            "_view_module_version": "1.5.0",
            "orientation": "horizontal",
            "min": 0,
            "description_tooltip": null,
            "_model_module": "@jupyter-widgets/controls",
            "layout": "IPY_MODEL_7db21aba63bc46cfae59c4324e2d80bf"
          }
        },
        "dc8738dde032415889afa1c99ac2c3d6": {
          "model_module": "@jupyter-widgets/controls",
          "model_name": "HTMLModel",
          "state": {
            "_view_name": "HTMLView",
            "style": "IPY_MODEL_7ed175c8e88041e78965e48cb818becb",
            "_dom_classes": [],
            "description": "",
            "_model_name": "HTMLModel",
            "placeholder": "​",
            "_view_module": "@jupyter-widgets/controls",
            "_model_module_version": "1.5.0",
            "value": " 232k/232k [00:00&lt;00:00, 618kB/s]",
            "_view_count": null,
            "_view_module_version": "1.5.0",
            "description_tooltip": null,
            "_model_module": "@jupyter-widgets/controls",
            "layout": "IPY_MODEL_25b4bd3d3ceb45a5953f0a756947ea99"
          }
        },
        "f91ee3b6971543678b070e1b31f2bf08": {
          "model_module": "@jupyter-widgets/controls",
          "model_name": "ProgressStyleModel",
          "state": {
            "_view_name": "StyleView",
            "_model_name": "ProgressStyleModel",
            "description_width": "initial",
            "_view_module": "@jupyter-widgets/base",
            "_model_module_version": "1.5.0",
            "_view_count": null,
            "_view_module_version": "1.2.0",
            "bar_color": null,
            "_model_module": "@jupyter-widgets/controls"
          }
        },
        "7db21aba63bc46cfae59c4324e2d80bf": {
          "model_module": "@jupyter-widgets/base",
          "model_name": "LayoutModel",
          "state": {
            "_view_name": "LayoutView",
            "grid_template_rows": null,
            "right": null,
            "justify_content": null,
            "_view_module": "@jupyter-widgets/base",
            "overflow": null,
            "_model_module_version": "1.2.0",
            "_view_count": null,
            "flex_flow": null,
            "width": null,
            "min_width": null,
            "border": null,
            "align_items": null,
            "bottom": null,
            "_model_module": "@jupyter-widgets/base",
            "top": null,
            "grid_column": null,
            "overflow_y": null,
            "overflow_x": null,
            "grid_auto_flow": null,
            "grid_area": null,
            "grid_template_columns": null,
            "flex": null,
            "_model_name": "LayoutModel",
            "justify_items": null,
            "grid_row": null,
            "max_height": null,
            "align_content": null,
            "visibility": null,
            "align_self": null,
            "height": null,
            "min_height": null,
            "padding": null,
            "grid_auto_rows": null,
            "grid_gap": null,
            "max_width": null,
            "order": null,
            "_view_module_version": "1.2.0",
            "grid_template_areas": null,
            "object_position": null,
            "object_fit": null,
            "grid_auto_columns": null,
            "margin": null,
            "display": null,
            "left": null
          }
        },
        "7ed175c8e88041e78965e48cb818becb": {
          "model_module": "@jupyter-widgets/controls",
          "model_name": "DescriptionStyleModel",
          "state": {
            "_view_name": "StyleView",
            "_model_name": "DescriptionStyleModel",
            "description_width": "",
            "_view_module": "@jupyter-widgets/base",
            "_model_module_version": "1.5.0",
            "_view_count": null,
            "_view_module_version": "1.2.0",
            "_model_module": "@jupyter-widgets/controls"
          }
        },
        "25b4bd3d3ceb45a5953f0a756947ea99": {
          "model_module": "@jupyter-widgets/base",
          "model_name": "LayoutModel",
          "state": {
            "_view_name": "LayoutView",
            "grid_template_rows": null,
            "right": null,
            "justify_content": null,
            "_view_module": "@jupyter-widgets/base",
            "overflow": null,
            "_model_module_version": "1.2.0",
            "_view_count": null,
            "flex_flow": null,
            "width": null,
            "min_width": null,
            "border": null,
            "align_items": null,
            "bottom": null,
            "_model_module": "@jupyter-widgets/base",
            "top": null,
            "grid_column": null,
            "overflow_y": null,
            "overflow_x": null,
            "grid_auto_flow": null,
            "grid_area": null,
            "grid_template_columns": null,
            "flex": null,
            "_model_name": "LayoutModel",
            "justify_items": null,
            "grid_row": null,
            "max_height": null,
            "align_content": null,
            "visibility": null,
            "align_self": null,
            "height": null,
            "min_height": null,
            "padding": null,
            "grid_auto_rows": null,
            "grid_gap": null,
            "max_width": null,
            "order": null,
            "_view_module_version": "1.2.0",
            "grid_template_areas": null,
            "object_position": null,
            "object_fit": null,
            "grid_auto_columns": null,
            "margin": null,
            "display": null,
            "left": null
          }
        }
      }
    }
  },
  "cells": [
    {
      "cell_type": "markdown",
      "metadata": {
        "id": "view-in-github",
        "colab_type": "text"
      },
      "source": [
        "<a href=\"https://colab.research.google.com/github/vishal-burman/PyTorch-Architectures/blob/master/modeling_bert/test_sample_BERT.ipynb\" target=\"_parent\"><img src=\"https://colab.research.google.com/assets/colab-badge.svg\" alt=\"Open In Colab\"/></a>"
      ]
    },
    {
      "cell_type": "code",
      "metadata": {
        "id": "086whqMNZoOW"
      },
      "source": [
        "! nvidia-smi"
      ],
      "execution_count": null,
      "outputs": []
    },
    {
      "cell_type": "code",
      "metadata": {
        "id": "CGjacpdN4pe6"
      },
      "source": [
        "! pip install transformers"
      ],
      "execution_count": null,
      "outputs": []
    },
    {
      "cell_type": "code",
      "metadata": {
        "id": "k-MUtCHC4wYZ"
      },
      "source": [
        "#! rm -rf PyTorch-Architectures/\n",
        "! git clone https://github.com/vishal-burman/PyTorch-Architectures.git"
      ],
      "execution_count": null,
      "outputs": []
    },
    {
      "cell_type": "code",
      "metadata": {
        "id": "RQgMhF8E5RAF"
      },
      "source": [
        "! cp /content/drive/'My Drive'/dataset.csv ."
      ],
      "execution_count": 4,
      "outputs": []
    },
    {
      "cell_type": "code",
      "metadata": {
        "id": "2GnP4BTA8DD5"
      },
      "source": [
        "! cp dataset.csv PyTorch-Architectures/modeling_bert/"
      ],
      "execution_count": 5,
      "outputs": []
    },
    {
      "cell_type": "code",
      "metadata": {
        "id": "yRlSBeNM8aEO",
        "colab": {
          "base_uri": "https://localhost:8080/"
        },
        "outputId": "02d7550d-94d9-41c0-ce86-a449e0dc1ab0"
      },
      "source": [
        "%cd PyTorch-Architectures/modeling_bert/"
      ],
      "execution_count": 6,
      "outputs": [
        {
          "output_type": "stream",
          "text": [
            "/content/PyTorch-Architectures/modeling_bert\n"
          ],
          "name": "stdout"
        }
      ]
    },
    {
      "cell_type": "code",
      "metadata": {
        "id": "I_6mzxsj5b5p",
        "colab": {
          "base_uri": "https://localhost:8080/",
          "height": 66,
          "referenced_widgets": [
            "f63669d2596b456a833c2d997ace615f",
            "28f630db2a4e4b748cb26fb24902e409",
            "e2379a160cb642f79ed0c0f139c44fc4",
            "dc8738dde032415889afa1c99ac2c3d6",
            "f91ee3b6971543678b070e1b31f2bf08",
            "7db21aba63bc46cfae59c4324e2d80bf",
            "7ed175c8e88041e78965e48cb818becb",
            "25b4bd3d3ceb45a5953f0a756947ea99"
          ]
        },
        "outputId": "c9cd430f-5391-4200-d876-997dc6912183"
      },
      "source": [
        "import time\n",
        "import csv\n",
        "import sys\n",
        "import pdb\n",
        "import torch\n",
        "import torch.nn as nn\n",
        "import torch.nn.functional as F\n",
        "from torch.utils.data import Dataset, DataLoader\n",
        "from model import BertClassify\n",
        "from transformers import BertTokenizer\n",
        "from config_bert import BertConfig\n",
        "config = BertConfig()\n",
        "device = torch.device(\"cuda:0\" if torch.cuda.is_available() else \"cpu\")\n",
        "tokenizer = BertTokenizer.from_pretrained('bert-base-uncased')"
      ],
      "execution_count": 8,
      "outputs": [
        {
          "output_type": "display_data",
          "data": {
            "application/vnd.jupyter.widget-view+json": {
              "model_id": "f63669d2596b456a833c2d997ace615f",
              "version_minor": 0,
              "version_major": 2
            },
            "text/plain": [
              "HBox(children=(FloatProgress(value=0.0, description='Downloading', max=231508.0, style=ProgressStyle(descripti…"
            ]
          },
          "metadata": {
            "tags": []
          }
        },
        {
          "output_type": "stream",
          "text": [
            "\n"
          ],
          "name": "stdout"
        }
      ]
    },
    {
      "cell_type": "code",
      "metadata": {
        "id": "7veKShFA7uuk"
      },
      "source": [
        "#########################################\n",
        "# Sample data code\n",
        "class CustomDataset(Dataset):\n",
        "    def __init__(self, texts, labels, tokenizer):\n",
        "        self.tokenizer = tokenizer\n",
        "        self.texts = texts\n",
        "        self.labels = labels\n",
        "        self.train_list = []\n",
        "        self.label_list = []\n",
        "        self.build()\n",
        "\n",
        "    def __len__(self):\n",
        "        return len(self.train_list)\n",
        "\n",
        "    def __getitem__(self, index):\n",
        "        ids = self.train_list[index]['input_ids']\n",
        "        mask = self.train_list[index]['attention_mask']\n",
        "        target = self.label_list[index]\n",
        "\n",
        "        return{\n",
        "                'ids': torch.tensor(ids, dtype=torch.long),\n",
        "                'mask': torch.tensor(ids, dtype=torch.long),\n",
        "                'target': torch.tensor(target, dtype=torch.long).unsqueeze(0)\n",
        "                }\n",
        "\n",
        "    def build(self):\n",
        "        for t, l in zip(self.texts, self.labels):\n",
        "            self.train_list.append(tokenizer(t, max_length=128, pad_to_max_length=True, truncation=True))\n",
        "            self.label_list.append(l)\n",
        "##########################################\n"
      ],
      "execution_count": 9,
      "outputs": []
    },
    {
      "cell_type": "code",
      "metadata": {
        "id": "7RVFP3DJ5pPu",
        "colab": {
          "base_uri": "https://localhost:8080/"
        },
        "outputId": "2486bde6-2615-49f2-e5d9-c3f8c4bb7348"
      },
      "source": [
        "texts = []\n",
        "labels = []\n",
        "with open(\"dataset.csv\", \"r\") as file_1:\n",
        "    reader = csv.reader(file_1)\n",
        "    for line in reader:\n",
        "        texts.append(line[0].strip())\n",
        "        labels.append(line[1].strip())\n",
        "\n",
        "texts = texts[1:]\n",
        "labels = labels[1:]\n",
        "\n",
        "labels = [1 if label == \"positive\" else 0 for label in labels]\n",
        "\n",
        "texts_train = texts[:45000]\n",
        "labels_train = labels[:45000]\n",
        "\n",
        "texts_valid = texts[45000:]\n",
        "labels_valid = labels[45000:]\n",
        "\n",
        "start_time = time.time()\n",
        "train_dataset = CustomDataset(texts_train, labels_train, tokenizer)\n",
        "valid_dataset = CustomDataset(texts_valid, labels_valid, tokenizer)\n",
        "print(\"Dataset Conversion Done!!\")\n",
        "print(\"Time Taken = \", (time.time() - start_time)/60)"
      ],
      "execution_count": 10,
      "outputs": [
        {
          "output_type": "stream",
          "text": [
            "/usr/local/lib/python3.6/dist-packages/transformers/tokenization_utils_base.py:2022: FutureWarning: The `pad_to_max_length` argument is deprecated and will be removed in a future version, use `padding=True` or `padding='longest'` to pad to the longest sequence in the batch, or use `padding='max_length'` to pad to a max length. In this case, you can give a specific length with `max_length` (e.g. `max_length=45`) or leave max_length to None to pad to the maximal input size of the model (e.g. 512 for Bert).\n",
            "  FutureWarning,\n"
          ],
          "name": "stderr"
        },
        {
          "output_type": "stream",
          "text": [
            "Dataset Conversion Done!!\n",
            "Time Taken =  4.4791104634602865\n"
          ],
          "name": "stdout"
        }
      ]
    },
    {
      "cell_type": "code",
      "metadata": {
        "id": "jHX1qodi5wTa"
      },
      "source": [
        "BATCH_SIZE = 64\n",
        "LEARNING_RATE = 5e-05\n",
        "EPOCHS = 5"
      ],
      "execution_count": 11,
      "outputs": []
    },
    {
      "cell_type": "code",
      "metadata": {
        "id": "4kVCZMx785L1",
        "colab": {
          "base_uri": "https://localhost:8080/"
        },
        "outputId": "d5ab6a18-ba90-44ab-f28f-f81dc0b354a9"
      },
      "source": [
        "train_loader = DataLoader(dataset=train_dataset, shuffle=True, batch_size=BATCH_SIZE)\n",
        "valid_loader = DataLoader(dataset=valid_dataset, shuffle=False, batch_size=BATCH_SIZE)\n",
        "print(\"Total train batches = \", len(train_loader))\n",
        "print(\"Total valid batches = \", len(valid_loader))"
      ],
      "execution_count": 12,
      "outputs": [
        {
          "output_type": "stream",
          "text": [
            "Total train batches =  704\n",
            "Total valid batches =  79\n"
          ],
          "name": "stdout"
        }
      ]
    },
    {
      "cell_type": "code",
      "metadata": {
        "id": "nPZpPFc597Iw",
        "colab": {
          "base_uri": "https://localhost:8080/"
        },
        "outputId": "3504bdf1-80b3-4210-e3c9-38eeeac52192"
      },
      "source": [
        "def init_weights(module):\n",
        "  if isinstance(module, (nn.Linear, nn.Embedding)):\n",
        "    module.weight.data.normal_(mean=0.0, std=0.02)\n",
        "  elif isinstance(module, nn.LayerNorm):\n",
        "      module.bias.data.zero_()\n",
        "      module.weight.data.fill_(1.0)\n",
        "  if isinstance(module, nn.Linear) and module.bias is not None:\n",
        "      module.bias.data.zero_()\n",
        "\n",
        "model = BertClassify(config)\n",
        "model.apply(init_weights)\n",
        "model = model.to(device)\n",
        "pytorch_total_params = sum(p.numel() for p in model.parameters())\n",
        "print(\"Total Parameters = \", pytorch_total_params)\n",
        "\n",
        "optimizer = torch.optim.AdamW(params=model.parameters(), lr=LEARNING_RATE)"
      ],
      "execution_count": 14,
      "outputs": [
        {
          "output_type": "stream",
          "text": [
            "Total Parameters =  66956546\n"
          ],
          "name": "stdout"
        }
      ]
    },
    {
      "cell_type": "code",
      "metadata": {
        "id": "fyNIlFkY-BRX",
        "colab": {
          "base_uri": "https://localhost:8080/"
        },
        "outputId": "e7a5188a-84db-4b9b-bfb0-40a6eaabcaa8"
      },
      "source": [
        "def compute_accuracy(model, data_loader, device):\n",
        "    correct_pred, num_examples = 0, 0\n",
        "    model.eval()\n",
        "    for idx, sample in enumerate(data_loader):\n",
        "        ids = sample['ids'].to(device)\n",
        "        mask = sample['mask'].to(device)\n",
        "        target = sample['target'].to(device)\n",
        "\n",
        "        output = model(input_ids=ids, attention_mask=mask)\n",
        "        logits = output[0]\n",
        "        probas = F.softmax(logits, dim=1)\n",
        "        _, predicted_labels = torch.max(probas, 1)\n",
        "        num_examples += target.size(0)\n",
        "        correct_pred += (predicted_labels.unsqueeze(1) == target).sum()\n",
        "    return correct_pred.float()/num_examples*100\n",
        "        \n",
        "\n",
        "start_time = time.time()\n",
        "for epoch in range(EPOCHS):\n",
        "    model.train()\n",
        "    for idx, sample in enumerate(train_loader):\n",
        "        ids = sample['ids'].to(device)\n",
        "        mask = sample['mask'].to(device)\n",
        "        target = sample['target'].to(device)\n",
        "        \n",
        "        optimizer.zero_grad()\n",
        "        output = model(input_ids=ids, attention_mask=mask, labels=target)\n",
        "        loss = output[0]\n",
        "\n",
        "        # LOGGING\n",
        "        if idx % 100 == 0:\n",
        "            print(\"Epoch: %05d || Batch: %05d || Loss: %.3f\" % (epoch+1, idx, loss.item()))\n",
        "        \n",
        "        loss.backward()\n",
        "        optimizer.step()\n",
        "\n",
        "    model.eval()\n",
        "    with torch.set_grad_enabled(False):\n",
        "\n",
        "        train_acc = compute_accuracy(model, train_loader, device)\n",
        "        valid_acc = compute_accuracy(model, valid_loader, device)\n",
        "\n",
        "        print(\"Train Accuracy = \", train_acc)\n",
        "        print(\"Valid Accuracy = \", valid_acc)\n",
        "\n",
        "    elapsed_time = (time.time() - start_time) / 60\n",
        "    print(\"Elapsed Time: \", elapsed_time)"
      ],
      "execution_count": 15,
      "outputs": [
        {
          "output_type": "stream",
          "text": [
            "Epoch: 00001 || Batch: 00000 || Loss: 0.716\n",
            "Epoch: 00001 || Batch: 00100 || Loss: 0.684\n",
            "Epoch: 00001 || Batch: 00200 || Loss: 0.703\n",
            "Epoch: 00001 || Batch: 00300 || Loss: 0.694\n",
            "Epoch: 00001 || Batch: 00400 || Loss: 0.671\n",
            "Epoch: 00001 || Batch: 00500 || Loss: 0.665\n",
            "Epoch: 00001 || Batch: 00600 || Loss: 0.674\n",
            "Epoch: 00001 || Batch: 00700 || Loss: 0.682\n",
            "Train Accuracy =  tensor(53.9356, device='cuda:0')\n",
            "Valid Accuracy =  tensor(53.2400, device='cuda:0')\n",
            "Elapsed Time:  6.72454807360967\n",
            "Epoch: 00002 || Batch: 00000 || Loss: 0.690\n",
            "Epoch: 00002 || Batch: 00100 || Loss: 0.648\n",
            "Epoch: 00002 || Batch: 00200 || Loss: 0.672\n",
            "Epoch: 00002 || Batch: 00300 || Loss: 0.652\n",
            "Epoch: 00002 || Batch: 00400 || Loss: 0.686\n",
            "Epoch: 00002 || Batch: 00500 || Loss: 0.630\n",
            "Epoch: 00002 || Batch: 00600 || Loss: 0.665\n",
            "Epoch: 00002 || Batch: 00700 || Loss: 0.650\n",
            "Train Accuracy =  tensor(62.9733, device='cuda:0')\n",
            "Valid Accuracy =  tensor(57.6200, device='cuda:0')\n",
            "Elapsed Time:  13.445187520980834\n",
            "Epoch: 00003 || Batch: 00000 || Loss: 0.693\n",
            "Epoch: 00003 || Batch: 00100 || Loss: 0.628\n",
            "Epoch: 00003 || Batch: 00200 || Loss: 0.653\n",
            "Epoch: 00003 || Batch: 00300 || Loss: 0.688\n",
            "Epoch: 00003 || Batch: 00400 || Loss: 0.686\n",
            "Epoch: 00003 || Batch: 00500 || Loss: 0.588\n",
            "Epoch: 00003 || Batch: 00600 || Loss: 0.619\n",
            "Epoch: 00003 || Batch: 00700 || Loss: 0.669\n",
            "Train Accuracy =  tensor(66.8889, device='cuda:0')\n",
            "Valid Accuracy =  tensor(58.8000, device='cuda:0')\n",
            "Elapsed Time:  20.170411972204842\n",
            "Epoch: 00004 || Batch: 00000 || Loss: 0.601\n",
            "Epoch: 00004 || Batch: 00100 || Loss: 0.652\n",
            "Epoch: 00004 || Batch: 00200 || Loss: 0.706\n",
            "Epoch: 00004 || Batch: 00300 || Loss: 0.600\n",
            "Epoch: 00004 || Batch: 00400 || Loss: 0.690\n",
            "Epoch: 00004 || Batch: 00500 || Loss: 0.663\n",
            "Epoch: 00004 || Batch: 00600 || Loss: 0.735\n",
            "Epoch: 00004 || Batch: 00700 || Loss: 0.674\n",
            "Train Accuracy =  tensor(69.0156, device='cuda:0')\n",
            "Valid Accuracy =  tensor(59.4000, device='cuda:0')\n",
            "Elapsed Time:  26.90172047217687\n",
            "Epoch: 00005 || Batch: 00000 || Loss: 0.522\n",
            "Epoch: 00005 || Batch: 00100 || Loss: 0.566\n",
            "Epoch: 00005 || Batch: 00200 || Loss: 0.621\n",
            "Epoch: 00005 || Batch: 00300 || Loss: 0.474\n",
            "Epoch: 00005 || Batch: 00400 || Loss: 0.732\n",
            "Epoch: 00005 || Batch: 00500 || Loss: 0.609\n",
            "Epoch: 00005 || Batch: 00600 || Loss: 0.658\n",
            "Epoch: 00005 || Batch: 00700 || Loss: 0.585\n",
            "Train Accuracy =  tensor(68.9978, device='cuda:0')\n",
            "Valid Accuracy =  tensor(59.5600, device='cuda:0')\n",
            "Elapsed Time:  33.637627534071605\n"
          ],
          "name": "stdout"
        }
      ]
    },
    {
      "cell_type": "code",
      "metadata": {
        "id": "3gRZ9tU2-O_j"
      },
      "source": [
        "# Further improvements can be done!!"
      ],
      "execution_count": null,
      "outputs": []
    }
  ]
}