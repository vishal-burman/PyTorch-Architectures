{
  "nbformat": 4,
  "nbformat_minor": 0,
  "metadata": {
    "colab": {
      "name": "test_sample_ResNet18.ipynb",
      "provenance": [],
      "collapsed_sections": [],
      "authorship_tag": "ABX9TyOxyeyFLc6rnZEl/IBbTinq",
      "include_colab_link": true
    },
    "kernelspec": {
      "name": "python3",
      "display_name": "Python 3"
    }
  },
  "cells": [
    {
      "cell_type": "markdown",
      "metadata": {
        "id": "view-in-github",
        "colab_type": "text"
      },
      "source": [
        "<a href=\"https://colab.research.google.com/github/vishal-burman/PyTorch-Architectures/blob/master/modeling_ResNet/test_sample_ResNet18.ipynb\" target=\"_parent\"><img src=\"https://colab.research.google.com/assets/colab-badge.svg\" alt=\"Open In Colab\"/></a>"
      ]
    },
    {
      "cell_type": "code",
      "metadata": {
        "colab": {
          "base_uri": "https://localhost:8080/"
        },
        "id": "wuzUR0tO_mRh",
        "outputId": "07e162ab-380e-495f-cd9f-e164d76984fe"
      },
      "source": [
        "! git clone https://github.com/vishal-burman/PyTorch-Architectures.git"
      ],
      "execution_count": 1,
      "outputs": [
        {
          "output_type": "stream",
          "text": [
            "Cloning into 'PyTorch-Architectures'...\n",
            "remote: Enumerating objects: 199, done.\u001b[K\n",
            "remote: Counting objects: 100% (199/199), done.\u001b[K\n",
            "remote: Compressing objects: 100% (131/131), done.\u001b[K\n",
            "remote: Total 1137 (delta 93), reused 133 (delta 48), pack-reused 938\u001b[K\n",
            "Receiving objects: 100% (1137/1137), 8.50 MiB | 21.02 MiB/s, done.\n",
            "Resolving deltas: 100% (664/664), done.\n"
          ],
          "name": "stdout"
        }
      ]
    },
    {
      "cell_type": "code",
      "metadata": {
        "colab": {
          "base_uri": "https://localhost:8080/"
        },
        "id": "gdQKFvkIAtCF",
        "outputId": "d3c49e2b-b4d0-432f-a2f6-e2a7614a7287"
      },
      "source": [
        "%cd PyTorch-Architectures/modeling_ResNet/"
      ],
      "execution_count": 2,
      "outputs": [
        {
          "output_type": "stream",
          "text": [
            "/content/PyTorch-Architectures/modeling_ResNet\n"
          ],
          "name": "stdout"
        }
      ]
    },
    {
      "cell_type": "code",
      "metadata": {
        "id": "5M42wlySA2jo"
      },
      "source": [
        "# TODO --> paper needs to be read carefully\r\n",
        "import torch\r\n",
        "import torch.nn as nn\r\n",
        "from torch.utils.data import DataLoader\r\n",
        "import torch.nn.functional as F\r\n",
        "from torchvision import transforms, datasets\r\n",
        "\r\n",
        "from model_ResNet18 import ResNet, BasicBlock\r\n",
        "\r\n",
        "if torch.cuda.is_available():\r\n",
        "  torch.backends.cudnn.deterministic = True"
      ],
      "execution_count": 7,
      "outputs": []
    },
    {
      "cell_type": "code",
      "metadata": {
        "id": "LMgReTFGA5qs"
      },
      "source": [
        "# Hyper parameters\r\n",
        "RANDOM_SEED = 1\r\n",
        "LEARNING_RATE = 0.001 \r\n",
        "BATCH_SIZE = 128\r\n",
        "NUM_EPOCHS = 10\r\n",
        "\r\n",
        "# Architecture\r\n",
        "NUM_FEATURES = 28 * 28\r\n",
        "NUM_CLASSES = 10\r\n",
        "\r\n",
        "# Other\r\n",
        "device = torch.device(\"cuda:0\" if torch.cuda.is_available() else \"cpu\")\r\n",
        "grayscale = True"
      ],
      "execution_count": 4,
      "outputs": []
    },
    {
      "cell_type": "code",
      "metadata": {
        "id": "Rd_TbbB3tRMm"
      },
      "source": [
        "##################\r\n",
        "# MNIST Dataset\r\n",
        "##################\r\n",
        "\r\n",
        "train_dataset = datasets.MNIST(\r\n",
        "    root='data',\r\n",
        "    train=True,\r\n",
        "    transform=transforms.ToTensor(),\r\n",
        "    download=True,\r\n",
        ")\r\n",
        "test_dataset = datasets.MNIST(\r\n",
        "    root='data',\r\n",
        "    train=False,\r\n",
        "    transform=transforms.ToTensor(),\r\n",
        ")\r\n",
        "\r\n",
        "train_loader = DataLoader(\r\n",
        "    dataset=train_dataset,\r\n",
        "    batch_size=BATCH_SIZE,\r\n",
        "    shuffle=True,\r\n",
        "    )\r\n",
        "test_loader = DataLoader(\r\n",
        "    dataset=test_dataset,\r\n",
        "    batch_size=BATCH_SIZE,\r\n",
        "    shuffle=False,\r\n",
        ")"
      ],
      "execution_count": null,
      "outputs": []
    },
    {
      "cell_type": "code",
      "metadata": {
        "colab": {
          "base_uri": "https://localhost:8080/"
        },
        "id": "VSO7vxiAuCBP",
        "outputId": "adc4ceb0-db56-4454-fab0-bd67075e46bd"
      },
      "source": [
        "# Checking the dataset\r\n",
        "for images, labels in train_loader:\r\n",
        "  print('Image Batch Dimensions: ', images.shape)\r\n",
        "  print('Label Batch Dimensions: ', labels.shape)\r\n",
        "  break"
      ],
      "execution_count": 6,
      "outputs": [
        {
          "output_type": "stream",
          "text": [
            "\n",
            "Image Batch Dimensions:  torch.Size([128, 1, 28, 28])\n",
            "Label Batch Dimensions:  torch.Size([128])\n"
          ],
          "name": "stdout"
        }
      ]
    },
    {
      "cell_type": "code",
      "metadata": {
        "id": "HTFwqL72odE3"
      },
      "source": [
        "def resnet18(num_classes):\r\n",
        "  model = ResNet(block=BasicBlock,\r\n",
        "                 layers=[2, 2, 2, 2],\r\n",
        "                 num_classes=NUM_CLASSES,\r\n",
        "                 grayscale=grayscale)\r\n",
        "  return model"
      ],
      "execution_count": 8,
      "outputs": []
    },
    {
      "cell_type": "code",
      "metadata": {
        "colab": {
          "base_uri": "https://localhost:8080/"
        },
        "id": "CHlWu5ffpC80",
        "outputId": "aed741ba-b1b0-46f0-eceb-f082ee60e83a"
      },
      "source": [
        "torch.manual_seed(RANDOM_SEED)\r\n",
        "\r\n",
        "model = resnet18(NUM_CLASSES)\r\n",
        "model.to(device)\r\n",
        "\r\n",
        "params = sum(p.numel() for p in model.parameters() if p.requires_grad)\r\n",
        "print(\"Total Trainable Parameters: \", params)\r\n",
        "\r\n",
        "optimizer = torch.optim.Adam(model.parameters(), lr=LEARNING_RATE)"
      ],
      "execution_count": 13,
      "outputs": [
        {
          "output_type": "stream",
          "text": [
            "Total Trainable Parameters:  11175370\n"
          ],
          "name": "stdout"
        }
      ]
    },
    {
      "cell_type": "code",
      "metadata": {
        "id": "j3qT56ydpeCw"
      },
      "source": [
        "def compute_accuracy(model, data_loader, device):\r\n",
        "  pass\r\n",
        "\r\n",
        "start_time = time.time()\r\n",
        "for epoch in range(NUM_EPOCHS):\r\n",
        "  model.train()\r\n",
        "  for batch_idx, (features, targets) in enumerate(train_loader):\r\n",
        "    features = features.to(device)\r\n",
        "    targets = targets.to(device)\r\n",
        "\r\n",
        "    logits, probas = model(features)\r\n",
        "    cost = F.cross_entropy(logits, targets)\r\n",
        "\r\n",
        "    optimizer.zero_grad()\r\n",
        "    cost.backward()\r\n",
        "    optimizer.step()\r\n",
        "\r\n",
        "    #LOGGING\r\n",
        "    if batch_idx % 50 == 0:\r\n",
        "      print('Batch: %04d/%04d | Epoch: %04d/%04d | Cost: %.4f' % (batch_idx, len(train_loader), epoch+1, NUM_EPOCHS, cost.item()))\r\n",
        "  \r\n",
        "  model.eval()\r\n",
        "  with torch.set_grad_enabled(False):\r\n",
        "    print('Epoch: %04d/%04d | Train %.3f%%' % (epoch+1, NUM_EPOCHS, compute_accuracy(model, test_loader, device=device)))\r\n",
        "  \r\n",
        "  print(\"Epoch elapsed time %.2f min\" % ((time.time() - start_time) / 60))\r\n",
        "print('Total Training Time: %.2f min' % ((time.time() - start_time) / 60))"
      ],
      "execution_count": null,
      "outputs": []
    }
  ]
}