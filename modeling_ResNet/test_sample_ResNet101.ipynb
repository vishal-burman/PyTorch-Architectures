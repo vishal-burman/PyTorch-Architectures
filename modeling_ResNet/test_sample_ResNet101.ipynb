{
  "nbformat": 4,
  "nbformat_minor": 0,
  "metadata": {
    "colab": {
      "name": "test_sample_ResNet101.ipynb",
      "provenance": [],
      "authorship_tag": "ABX9TyPKGv1AcUXvamA/rSgQ2VR3",
      "include_colab_link": true
    },
    "kernelspec": {
      "name": "python3",
      "display_name": "Python 3"
    },
    "accelerator": "GPU"
  },
  "cells": [
    {
      "cell_type": "markdown",
      "metadata": {
        "id": "view-in-github",
        "colab_type": "text"
      },
      "source": [
        "<a href=\"https://colab.research.google.com/github/vishal-burman/PyTorch-Architectures/blob/master/modeling_ResNet/test_sample_ResNet101.ipynb\" target=\"_parent\"><img src=\"https://colab.research.google.com/assets/colab-badge.svg\" alt=\"Open In Colab\"/></a>"
      ]
    },
    {
      "cell_type": "code",
      "metadata": {
        "colab": {
          "base_uri": "https://localhost:8080/"
        },
        "id": "AaMzqK_xRG6Q",
        "outputId": "084c1b96-3897-4fc2-d74b-5ab638981b58"
      },
      "source": [
        "! nvidia-smi"
      ],
      "execution_count": 1,
      "outputs": [
        {
          "output_type": "stream",
          "text": [
            "Wed Jan 13 15:06:37 2021       \n",
            "+-----------------------------------------------------------------------------+\n",
            "| NVIDIA-SMI 460.27.04    Driver Version: 418.67       CUDA Version: 10.1     |\n",
            "|-------------------------------+----------------------+----------------------+\n",
            "| GPU  Name        Persistence-M| Bus-Id        Disp.A | Volatile Uncorr. ECC |\n",
            "| Fan  Temp  Perf  Pwr:Usage/Cap|         Memory-Usage | GPU-Util  Compute M. |\n",
            "|                               |                      |               MIG M. |\n",
            "|===============================+======================+======================|\n",
            "|   0  Tesla T4            Off  | 00000000:00:04.0 Off |                    0 |\n",
            "| N/A   36C    P8     9W /  70W |      0MiB / 15079MiB |      0%      Default |\n",
            "|                               |                      |                 ERR! |\n",
            "+-------------------------------+----------------------+----------------------+\n",
            "                                                                               \n",
            "+-----------------------------------------------------------------------------+\n",
            "| Processes:                                                                  |\n",
            "|  GPU   GI   CI        PID   Type   Process name                  GPU Memory |\n",
            "|        ID   ID                                                   Usage      |\n",
            "|=============================================================================|\n",
            "|  No running processes found                                                 |\n",
            "+-----------------------------------------------------------------------------+\n"
          ],
          "name": "stdout"
        }
      ]
    },
    {
      "cell_type": "code",
      "metadata": {
        "colab": {
          "base_uri": "https://localhost:8080/"
        },
        "id": "4-BfI2aDSMew",
        "outputId": "1db7b9c8-e360-4688-84bb-1aad3746ee63"
      },
      "source": [
        "! git clone https://github.com/vishal-burman/PyTorch-Architectures.git\r\n",
        "%cd PyTorch-Architectures/modeling_ResNet/"
      ],
      "execution_count": 2,
      "outputs": [
        {
          "output_type": "stream",
          "text": [
            "Cloning into 'PyTorch-Architectures'...\n",
            "remote: Enumerating objects: 21, done.\u001b[K\n",
            "remote: Counting objects: 100% (21/21), done.\u001b[K\n",
            "remote: Compressing objects: 100% (17/17), done.\u001b[K\n",
            "remote: Total 1324 (delta 10), reused 11 (delta 4), pack-reused 1303\u001b[K\n",
            "Receiving objects: 100% (1324/1324), 8.54 MiB | 21.12 MiB/s, done.\n",
            "Resolving deltas: 100% (778/778), done.\n",
            "/content/PyTorch-Architectures/modeling_ResNet\n"
          ],
          "name": "stdout"
        }
      ]
    },
    {
      "cell_type": "code",
      "metadata": {
        "id": "WO1ZS8ajSPEg"
      },
      "source": [
        "import time\r\n",
        "\r\n",
        "import torch\r\n",
        "import torch.nn as nn\r\n",
        "import torch.nn.functional as F\r\n",
        "\r\n",
        "from torch.utils.data import Dataset, DataLoader\r\n",
        "\r\n",
        "from torchvision import datasets\r\n",
        "from torchvision import transforms\r\n",
        "\r\n",
        "from model_large import ResNet, Bottleneck\r\n",
        "\r\n",
        "if torch.cuda.is_available():\r\n",
        "  torch.backends.cudnn.deterministic = True"
      ],
      "execution_count": 3,
      "outputs": []
    },
    {
      "cell_type": "code",
      "metadata": {
        "id": "UlP2ffmJSRib"
      },
      "source": [
        "# Hyperparameters\r\n",
        "RANDOM_SEED = 1\r\n",
        "LEARNING_RATE = 0.001\r\n",
        "EPOCHS = 2\r\n",
        "\r\n",
        "# Architecture\r\n",
        "NUM_FEATURES = 128 * 128\r\n",
        "NUM_CLASSES = 10\r\n",
        "BATCH_SIZE = 128\r\n",
        "DEVICE = torch.device(\"cuda:0\" if torch.cuda.is_available() else \"cpu\")\r\n",
        "GRAYSCALE = True"
      ],
      "execution_count": 4,
      "outputs": []
    },
    {
      "cell_type": "code",
      "metadata": {
        "id": "wVWg2QjeSVKp"
      },
      "source": [
        "custom_transform = transforms.Compose([transforms.Resize((128, 128)),\r\n",
        "                                       transforms.ToTensor()]) # --> Done to accomodate large architecture\r\n",
        "\r\n",
        "train_dataset = datasets.MNIST(\r\n",
        "    root='data',\r\n",
        "    train=True,\r\n",
        "    transform=custom_transform,\r\n",
        "    download=True,\r\n",
        ")\r\n",
        "test_dataset = datasets.MNIST(\r\n",
        "    root='data',\r\n",
        "    train=False,\r\n",
        "    transform=custom_transform,\r\n",
        ")\r\n",
        "\r\n",
        "train_loader = DataLoader(dataset=train_dataset, batch_size=BATCH_SIZE, shuffle=True, num_workers=4)\r\n",
        "test_loader = DataLoader(dataset=test_dataset, batch_size=BATCH_SIZE, shuffle=False, num_workers=4)"
      ],
      "execution_count": null,
      "outputs": []
    },
    {
      "cell_type": "code",
      "metadata": {
        "colab": {
          "base_uri": "https://localhost:8080/"
        },
        "id": "GhMZ6skOSXhp",
        "outputId": "8f792f17-f89d-4917-c6a2-6af8abf68ee1"
      },
      "source": [
        "# Check Dataloaders dimensions\r\n",
        "for features, targets in train_loader:\r\n",
        "  print('Image Dimensions: ', features.shape)\r\n",
        "  print('Label Dimensions: ', targets.shape)\r\n",
        "  break"
      ],
      "execution_count": 6,
      "outputs": [
        {
          "output_type": "stream",
          "text": [
            "Image Dimensions:  torch.Size([128, 1, 128, 128])\n",
            "Label Dimensions:  torch.Size([128])\n"
          ],
          "name": "stdout"
        }
      ]
    },
    {
      "cell_type": "code",
      "metadata": {
        "colab": {
          "base_uri": "https://localhost:8080/"
        },
        "id": "1Kwdg0BJSbdJ",
        "outputId": "46d0bc14-087e-435d-8efe-2e50556ab9b6"
      },
      "source": [
        "# Model\r\n",
        "torch.manual_seed(RANDOM_SEED)\r\n",
        "\r\n",
        "def resnet50(num_classes, grayscale):\r\n",
        "  model = ResNet(\r\n",
        "      block=Bottleneck,\r\n",
        "      layers=[3, 4, 23, 3],\r\n",
        "      num_classes=NUM_CLASSES,\r\n",
        "      grayscale=GRAYSCALE,\r\n",
        "  )\r\n",
        "  return model\r\n",
        "\r\n",
        "model = resnet50(NUM_CLASSES, GRAYSCALE)\r\n",
        "model.to(DEVICE)\r\n",
        "\r\n",
        "params = sum(p.numel() for p in model.parameters() if p.requires_grad)\r\n",
        "print('Total Trainable Parameters: ', params)"
      ],
      "execution_count": 7,
      "outputs": [
        {
          "output_type": "stream",
          "text": [
            "Total Trainable Parameters:  42575818\n"
          ],
          "name": "stdout"
        }
      ]
    },
    {
      "cell_type": "code",
      "metadata": {
        "id": "XiK6pxE9ShSZ"
      },
      "source": [
        "optimizer = torch.optim.Adam(model.parameters(), lr=LEARNING_RATE)"
      ],
      "execution_count": 8,
      "outputs": []
    },
    {
      "cell_type": "code",
      "metadata": {
        "colab": {
          "base_uri": "https://localhost:8080/"
        },
        "id": "mCTMfUiQSqMm",
        "outputId": "7790a2e2-4a79-4fc5-8480-31b9e0d70536"
      },
      "source": [
        "def compute_accuracy(model, data_loader, device):\r\n",
        "  correct_pred, num_examples = 0, 0\r\n",
        "  for i, (features, targets) in enumerate(data_loader):\r\n",
        "    features = features.to(DEVICE)\r\n",
        "    targets = targets.to(DEVICE)\r\n",
        "    logits, probas = model(features)\r\n",
        "    _, predicted_labels = torch.max(probas, 1)\r\n",
        "    correct_pred += (predicted_labels == targets).sum()\r\n",
        "    num_examples += targets.size(0)\r\n",
        "  return correct_pred.float() / num_examples * 100\r\n",
        "\r\n",
        "start_time = time.time()\r\n",
        "for epoch in range(EPOCHS):\r\n",
        "  model.train()\r\n",
        "  for idx, (features, targets) in enumerate(train_loader):\r\n",
        "    features = features.to(DEVICE)\r\n",
        "    targets = targets.to(DEVICE)\r\n",
        "\r\n",
        "    logits, probas = model(features)\r\n",
        "\r\n",
        "    optimizer.zero_grad()\r\n",
        "    loss = F.cross_entropy(logits, targets)\r\n",
        "    loss.backward()\r\n",
        "    optimizer.step()\r\n",
        "\r\n",
        "    # LOGGING\r\n",
        "    if idx % 50 == 0:\r\n",
        "      print('Epoch: %04d/%04d || Batch: %04d/%04d || Loss: %.3f' % (epoch+1, EPOCHS, idx, len(train_loader), loss.item()))\r\n",
        "  \r\n",
        "  model.eval()\r\n",
        "  with torch.set_grad_enabled(False):\r\n",
        "    train_accuracy = compute_accuracy(model, train_loader, DEVICE)\r\n",
        "    test_accuracy = compute_accuracy(model, test_loader, DEVICE)\r\n",
        "    print('Train Accuracy: %.2f%%' % (train_accuracy))\r\n",
        "    print('Test Accuracy: %.2f%%' % (test_accuracy))\r\n",
        "  epoch_elapsed_time = (time.time() - start_time) / 60\r\n",
        "  print('Epoch Elapsed Time: %.2f min' % (epoch_elapsed_time))\r\n",
        "total_training_time = (time.time() - start_time) / 60\r\n",
        "print('Total Training Time: %.2f min' % (total_training_time))"
      ],
      "execution_count": 9,
      "outputs": [
        {
          "output_type": "stream",
          "text": [
            "Epoch: 0001/0002 || Batch: 0000/0469 || Loss: 2.340\n",
            "Epoch: 0001/0002 || Batch: 0050/0469 || Loss: 0.274\n",
            "Epoch: 0001/0002 || Batch: 0100/0469 || Loss: 0.213\n",
            "Epoch: 0001/0002 || Batch: 0150/0469 || Loss: 0.123\n",
            "Epoch: 0001/0002 || Batch: 0200/0469 || Loss: 0.087\n",
            "Epoch: 0001/0002 || Batch: 0250/0469 || Loss: 0.131\n",
            "Epoch: 0001/0002 || Batch: 0300/0469 || Loss: 0.108\n",
            "Epoch: 0001/0002 || Batch: 0350/0469 || Loss: 0.061\n",
            "Epoch: 0001/0002 || Batch: 0400/0469 || Loss: 0.073\n",
            "Epoch: 0001/0002 || Batch: 0450/0469 || Loss: 0.061\n",
            "Train Accuracy: 95.07%\n",
            "Test Accuracy: 94.92%\n",
            "Epoch Elapsed Time: 8.10 min\n",
            "Epoch: 0002/0002 || Batch: 0000/0469 || Loss: 0.029\n",
            "Epoch: 0002/0002 || Batch: 0050/0469 || Loss: 0.118\n",
            "Epoch: 0002/0002 || Batch: 0100/0469 || Loss: 0.092\n",
            "Epoch: 0002/0002 || Batch: 0150/0469 || Loss: 0.037\n",
            "Epoch: 0002/0002 || Batch: 0200/0469 || Loss: 0.085\n",
            "Epoch: 0002/0002 || Batch: 0250/0469 || Loss: 0.023\n",
            "Epoch: 0002/0002 || Batch: 0300/0469 || Loss: 0.025\n",
            "Epoch: 0002/0002 || Batch: 0350/0469 || Loss: 0.039\n",
            "Epoch: 0002/0002 || Batch: 0400/0469 || Loss: 0.060\n",
            "Epoch: 0002/0002 || Batch: 0450/0469 || Loss: 0.034\n",
            "Train Accuracy: 98.58%\n",
            "Test Accuracy: 98.63%\n",
            "Epoch Elapsed Time: 16.43 min\n",
            "Total Training Time: 16.43 min\n"
          ],
          "name": "stdout"
        }
      ]
    },
    {
      "cell_type": "code",
      "metadata": {
        "id": "RVq7clJrSszi"
      },
      "source": [
        ""
      ],
      "execution_count": null,
      "outputs": []
    }
  ]
}