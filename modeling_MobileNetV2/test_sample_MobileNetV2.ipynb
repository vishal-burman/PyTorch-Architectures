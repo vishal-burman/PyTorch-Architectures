{
  "nbformat": 4,
  "nbformat_minor": 0,
  "metadata": {
    "colab": {
      "name": "test_sample_MobileNetV2.ipynb",
      "provenance": [],
      "authorship_tag": "ABX9TyNCPIit+Y8JskchQIGZ4Bdw",
      "include_colab_link": true
    },
    "kernelspec": {
      "name": "python3",
      "display_name": "Python 3"
    },
    "language_info": {
      "name": "python"
    },
    "accelerator": "GPU",
    "widgets": {
      "application/vnd.jupyter.widget-state+json": {
        "4338e3f306884f0794f1c95c8e9f0381": {
          "model_module": "@jupyter-widgets/controls",
          "model_name": "HBoxModel",
          "state": {
            "_view_name": "HBoxView",
            "_dom_classes": [],
            "_model_name": "HBoxModel",
            "_view_module": "@jupyter-widgets/controls",
            "_model_module_version": "1.5.0",
            "_view_count": null,
            "_view_module_version": "1.5.0",
            "box_style": "",
            "layout": "IPY_MODEL_03201d8beb234d7fb379a6e8388db642",
            "_model_module": "@jupyter-widgets/controls",
            "children": [
              "IPY_MODEL_65ac9388eeb54738ba032140048ff22b",
              "IPY_MODEL_f288d61014784521b8f461b93a8da4b5"
            ]
          }
        },
        "03201d8beb234d7fb379a6e8388db642": {
          "model_module": "@jupyter-widgets/base",
          "model_name": "LayoutModel",
          "state": {
            "_view_name": "LayoutView",
            "grid_template_rows": null,
            "right": null,
            "justify_content": null,
            "_view_module": "@jupyter-widgets/base",
            "overflow": null,
            "_model_module_version": "1.2.0",
            "_view_count": null,
            "flex_flow": null,
            "width": null,
            "min_width": null,
            "border": null,
            "align_items": null,
            "bottom": null,
            "_model_module": "@jupyter-widgets/base",
            "top": null,
            "grid_column": null,
            "overflow_y": null,
            "overflow_x": null,
            "grid_auto_flow": null,
            "grid_area": null,
            "grid_template_columns": null,
            "flex": null,
            "_model_name": "LayoutModel",
            "justify_items": null,
            "grid_row": null,
            "max_height": null,
            "align_content": null,
            "visibility": null,
            "align_self": null,
            "height": null,
            "min_height": null,
            "padding": null,
            "grid_auto_rows": null,
            "grid_gap": null,
            "max_width": null,
            "order": null,
            "_view_module_version": "1.2.0",
            "grid_template_areas": null,
            "object_position": null,
            "object_fit": null,
            "grid_auto_columns": null,
            "margin": null,
            "display": null,
            "left": null
          }
        },
        "65ac9388eeb54738ba032140048ff22b": {
          "model_module": "@jupyter-widgets/controls",
          "model_name": "FloatProgressModel",
          "state": {
            "_view_name": "ProgressView",
            "style": "IPY_MODEL_db779b95fe384a8d9817abc0acec286e",
            "_dom_classes": [],
            "description": " 22%",
            "_model_name": "FloatProgressModel",
            "bar_style": "",
            "max": 78200,
            "_view_module": "@jupyter-widgets/controls",
            "_model_module_version": "1.5.0",
            "value": 17203,
            "_view_count": null,
            "_view_module_version": "1.5.0",
            "orientation": "horizontal",
            "min": 0,
            "description_tooltip": null,
            "_model_module": "@jupyter-widgets/controls",
            "layout": "IPY_MODEL_3a5b29f99c714503aae08a180aaec39a"
          }
        },
        "f288d61014784521b8f461b93a8da4b5": {
          "model_module": "@jupyter-widgets/controls",
          "model_name": "HTMLModel",
          "state": {
            "_view_name": "HTMLView",
            "style": "IPY_MODEL_7d414137e6ce4b42b95a77d7cd60a536",
            "_dom_classes": [],
            "description": "",
            "_model_name": "HTMLModel",
            "placeholder": "​",
            "_view_module": "@jupyter-widgets/controls",
            "_model_module_version": "1.5.0",
            "value": " 17203/78200 [1:53:33&lt;6:03:39,  2.80it/s]",
            "_view_count": null,
            "_view_module_version": "1.5.0",
            "description_tooltip": null,
            "_model_module": "@jupyter-widgets/controls",
            "layout": "IPY_MODEL_87a2577ff24e4f05ba595e95192fdf67"
          }
        },
        "db779b95fe384a8d9817abc0acec286e": {
          "model_module": "@jupyter-widgets/controls",
          "model_name": "ProgressStyleModel",
          "state": {
            "_view_name": "StyleView",
            "_model_name": "ProgressStyleModel",
            "description_width": "initial",
            "_view_module": "@jupyter-widgets/base",
            "_model_module_version": "1.5.0",
            "_view_count": null,
            "_view_module_version": "1.2.0",
            "bar_color": null,
            "_model_module": "@jupyter-widgets/controls"
          }
        },
        "3a5b29f99c714503aae08a180aaec39a": {
          "model_module": "@jupyter-widgets/base",
          "model_name": "LayoutModel",
          "state": {
            "_view_name": "LayoutView",
            "grid_template_rows": null,
            "right": null,
            "justify_content": null,
            "_view_module": "@jupyter-widgets/base",
            "overflow": null,
            "_model_module_version": "1.2.0",
            "_view_count": null,
            "flex_flow": null,
            "width": null,
            "min_width": null,
            "border": null,
            "align_items": null,
            "bottom": null,
            "_model_module": "@jupyter-widgets/base",
            "top": null,
            "grid_column": null,
            "overflow_y": null,
            "overflow_x": null,
            "grid_auto_flow": null,
            "grid_area": null,
            "grid_template_columns": null,
            "flex": null,
            "_model_name": "LayoutModel",
            "justify_items": null,
            "grid_row": null,
            "max_height": null,
            "align_content": null,
            "visibility": null,
            "align_self": null,
            "height": null,
            "min_height": null,
            "padding": null,
            "grid_auto_rows": null,
            "grid_gap": null,
            "max_width": null,
            "order": null,
            "_view_module_version": "1.2.0",
            "grid_template_areas": null,
            "object_position": null,
            "object_fit": null,
            "grid_auto_columns": null,
            "margin": null,
            "display": null,
            "left": null
          }
        },
        "7d414137e6ce4b42b95a77d7cd60a536": {
          "model_module": "@jupyter-widgets/controls",
          "model_name": "DescriptionStyleModel",
          "state": {
            "_view_name": "StyleView",
            "_model_name": "DescriptionStyleModel",
            "description_width": "",
            "_view_module": "@jupyter-widgets/base",
            "_model_module_version": "1.5.0",
            "_view_count": null,
            "_view_module_version": "1.2.0",
            "_model_module": "@jupyter-widgets/controls"
          }
        },
        "87a2577ff24e4f05ba595e95192fdf67": {
          "model_module": "@jupyter-widgets/base",
          "model_name": "LayoutModel",
          "state": {
            "_view_name": "LayoutView",
            "grid_template_rows": null,
            "right": null,
            "justify_content": null,
            "_view_module": "@jupyter-widgets/base",
            "overflow": null,
            "_model_module_version": "1.2.0",
            "_view_count": null,
            "flex_flow": null,
            "width": null,
            "min_width": null,
            "border": null,
            "align_items": null,
            "bottom": null,
            "_model_module": "@jupyter-widgets/base",
            "top": null,
            "grid_column": null,
            "overflow_y": null,
            "overflow_x": null,
            "grid_auto_flow": null,
            "grid_area": null,
            "grid_template_columns": null,
            "flex": null,
            "_model_name": "LayoutModel",
            "justify_items": null,
            "grid_row": null,
            "max_height": null,
            "align_content": null,
            "visibility": null,
            "align_self": null,
            "height": null,
            "min_height": null,
            "padding": null,
            "grid_auto_rows": null,
            "grid_gap": null,
            "max_width": null,
            "order": null,
            "_view_module_version": "1.2.0",
            "grid_template_areas": null,
            "object_position": null,
            "object_fit": null,
            "grid_auto_columns": null,
            "margin": null,
            "display": null,
            "left": null
          }
        }
      }
    }
  },
  "cells": [
    {
      "cell_type": "markdown",
      "metadata": {
        "id": "view-in-github",
        "colab_type": "text"
      },
      "source": [
        "<a href=\"https://colab.research.google.com/github/vishal-burman/PyTorch-Architectures/blob/master/modeling_MobileNetV2/test_sample_MobileNetV2.ipynb\" target=\"_parent\"><img src=\"https://colab.research.google.com/assets/colab-badge.svg\" alt=\"Open In Colab\"/></a>"
      ]
    },
    {
      "cell_type": "code",
      "metadata": {
        "id": "kmaAi58UOvFr"
      },
      "source": [
        "! pip install datasets\n",
        "! pip install wget"
      ],
      "execution_count": null,
      "outputs": []
    },
    {
      "cell_type": "code",
      "metadata": {
        "colab": {
          "base_uri": "https://localhost:8080/"
        },
        "id": "0IueorjFO_S3",
        "outputId": "54996b1e-589c-4f46-d132-9161485a2963"
      },
      "source": [
        "# ! rm -rf PyTorch-Architectures/\n",
        "# ! git clone https://github.com/vishal-burman/PyTorch-Architectures.git\n",
        "%cd PyTorch-Architectures/"
      ],
      "execution_count": 1,
      "outputs": [
        {
          "output_type": "stream",
          "text": [
            "/content/PyTorch-Architectures\n"
          ],
          "name": "stdout"
        }
      ]
    },
    {
      "cell_type": "code",
      "metadata": {
        "id": "q66A8074PJPB"
      },
      "source": [
        "from tqdm.auto import tqdm\n",
        "import torch\n",
        "from toolkit.custom_dataset_cv import DataLoaderCIFAR10Classification\n",
        "from toolkit.metrics import cv_compute_accuracy\n",
        "from toolkit.utils import get_optimal_batchsize, dict_to_device, EarlyStopping\n",
        "from toolkit.utils import get_linear_schedule_with_warmup\n",
        "from modeling_MobileNetV2.model import MobileNetV2\n",
        "from modeling_MobileNetV2.config import MobileNetV2Config"
      ],
      "execution_count": 2,
      "outputs": []
    },
    {
      "cell_type": "code",
      "metadata": {
        "id": "A9EbT049PiRY"
      },
      "source": [
        "device = torch.device('cuda:0' if torch.cuda.is_available() else 'cpu')\n",
        "config = MobileNetV2Config()\n",
        "model = MobileNetV2(config)\n",
        "model.to(device)"
      ],
      "execution_count": null,
      "outputs": []
    },
    {
      "cell_type": "code",
      "metadata": {
        "colab": {
          "base_uri": "https://localhost:8080/"
        },
        "id": "UrMXBk8LP1PE",
        "outputId": "27d531ba-2059-4a83-d209-db4d362310b4"
      },
      "source": [
        "params = sum(p.numel() for p in model.parameters() if p.requires_grad)\n",
        "print('Trainable Parameters: ', params)"
      ],
      "execution_count": 4,
      "outputs": [
        {
          "output_type": "stream",
          "text": [
            "Trainable Parameters:  2634560\n"
          ],
          "name": "stdout"
        }
      ]
    },
    {
      "cell_type": "code",
      "metadata": {
        "colab": {
          "base_uri": "https://localhost:8080/"
        },
        "id": "8l1GMPLnP_LP",
        "outputId": "b938e27d-0f20-40d0-8d99-838e887706a7"
      },
      "source": [
        "train_loader = DataLoaderCIFAR10Classification(resize=224, train=True)\n",
        "valid_loader = DataLoaderCIFAR10Classification(resize=224, train=False)"
      ],
      "execution_count": 5,
      "outputs": [
        {
          "output_type": "stream",
          "text": [
            "cifar10 exists...\n",
            "cifar10 exists...\n"
          ],
          "name": "stdout"
        }
      ]
    },
    {
      "cell_type": "code",
      "metadata": {
        "colab": {
          "base_uri": "https://localhost:8080/"
        },
        "id": "g35ODAV5QFbJ",
        "outputId": "7290cb18-ef56-4270-888a-1dd815e773b5"
      },
      "source": [
        "# get_optimal_batchsize(train_loader.dataset, model) --> 64"
      ],
      "execution_count": 6,
      "outputs": [
        {
          "output_type": "execute_result",
          "data": {
            "text/plain": [
              "64"
            ]
          },
          "metadata": {
            "tags": []
          },
          "execution_count": 6
        }
      ]
    },
    {
      "cell_type": "code",
      "metadata": {
        "id": "Xn62R3ohQ6Jn"
      },
      "source": [
        "# Hyperparameters\n",
        "BS = 64\n",
        "MAX_EPOCHS = 100\n",
        "LR = 5e-3"
      ],
      "execution_count": 6,
      "outputs": []
    },
    {
      "cell_type": "code",
      "metadata": {
        "colab": {
          "base_uri": "https://localhost:8080/"
        },
        "id": "JN6LdcQOTgzM",
        "outputId": "40f8f1ca-5f7c-47d9-efe2-bee35787ea03"
      },
      "source": [
        "train_loader = train_loader.return_dataloader(batch_size=BS, shuffle=True)\n",
        "valid_loader = valid_loader.return_dataloader(batch_size=BS, shuffle=False)\n",
        "print('Length of Train Loader: ', len(train_loader))\n",
        "print('Length of Valid Loader: ', len(valid_loader))"
      ],
      "execution_count": 7,
      "outputs": [
        {
          "output_type": "stream",
          "text": [
            "Length of Train Loader:  782\n",
            "Length of Valid Loader:  157\n"
          ],
          "name": "stdout"
        }
      ]
    },
    {
      "cell_type": "code",
      "metadata": {
        "colab": {
          "base_uri": "https://localhost:8080/"
        },
        "id": "hPDfCrBhTlTg",
        "outputId": "cf7158d4-2392-45a8-86b3-93c611874f97"
      },
      "source": [
        "# Sanity check forward pass\n",
        "model.eval()\n",
        "with torch.set_grad_enabled(False):\n",
        "  for sample in train_loader:\n",
        "    outputs = model(**dict_to_device(sample, device))\n",
        "    loss, logits = outputs[0], outputs[1]\n",
        "    print(logits.shape, loss.item())\n",
        "    break"
      ],
      "execution_count": 8,
      "outputs": [
        {
          "output_type": "stream",
          "text": [
            "torch.Size([64, 320]) 5.768321514129639\n"
          ],
          "name": "stdout"
        }
      ]
    },
    {
      "cell_type": "code",
      "metadata": {
        "id": "9s-kXIE3Uc-2"
      },
      "source": [
        "early_stop = EarlyStopping(metric=\"val_accuracy\", verbose=True)"
      ],
      "execution_count": 9,
      "outputs": []
    },
    {
      "cell_type": "code",
      "metadata": {
        "id": "cu4KLTALUhHX"
      },
      "source": [
        "num_training_steps = MAX_EPOCHS * len(train_loader)\n",
        "optimizer = torch.optim.AdamW(model.parameters(), lr=LR)\n",
        "scheduler = get_linear_schedule_with_warmup(optimizer=optimizer,\n",
        "                                            num_warmup_steps=0,\n",
        "                                            num_training_steps=num_training_steps)"
      ],
      "execution_count": 10,
      "outputs": []
    },
    {
      "cell_type": "code",
      "metadata": {
        "colab": {
          "base_uri": "https://localhost:8080/",
          "height": 448,
          "referenced_widgets": [
            "4338e3f306884f0794f1c95c8e9f0381",
            "03201d8beb234d7fb379a6e8388db642",
            "65ac9388eeb54738ba032140048ff22b",
            "f288d61014784521b8f461b93a8da4b5",
            "db779b95fe384a8d9817abc0acec286e",
            "3a5b29f99c714503aae08a180aaec39a",
            "7d414137e6ce4b42b95a77d7cd60a536",
            "87a2577ff24e4f05ba595e95192fdf67"
          ]
        },
        "id": "6du95_SlUplO",
        "outputId": "1b090965-705c-423e-a3e6-ce91e1cc4523"
      },
      "source": [
        "progress_bar = tqdm(range(num_training_steps))\n",
        "\n",
        "for epoch in range(MAX_EPOCHS):\n",
        "  model.train()\n",
        "  for sample in train_loader:\n",
        "      outputs = model(**dict_to_device(sample, device))\n",
        "      loss = outputs[0]\n",
        "      loss.backward()\n",
        "\n",
        "      optimizer.step()\n",
        "      scheduler.step()\n",
        "      optimizer.zero_grad()\n",
        "      progress_bar.update(1)\n",
        "  model.eval()\n",
        "  with torch.set_grad_enabled(False):\n",
        "    valid_acc = cv_compute_accuracy(model, valid_loader, device)\n",
        "    early_stop(valid_acc, model)\n",
        "    if early_stop.early_stop:\n",
        "      print(\"Early Stopping!\")\n",
        "      break"
      ],
      "execution_count": 11,
      "outputs": [
        {
          "output_type": "display_data",
          "data": {
            "application/vnd.jupyter.widget-view+json": {
              "model_id": "4338e3f306884f0794f1c95c8e9f0381",
              "version_major": 2,
              "version_minor": 0
            },
            "text/plain": [
              "HBox(children=(FloatProgress(value=0.0, max=78200.0), HTML(value='')))"
            ]
          },
          "metadata": {
            "tags": []
          }
        },
        {
          "output_type": "stream",
          "text": [
            "Validation accuracy increased from -inf% to 49.50%\n",
            "Validation accuracy increased from 49.50% to 65.71%\n",
            "EarlyStopping counter: 1 out of 3\n",
            "Validation accuracy increased from 65.71% to 71.30%\n",
            "Validation accuracy increased from 71.30% to 75.38%\n",
            "Validation accuracy increased from 75.38% to 80.54%\n",
            "EarlyStopping counter: 1 out of 3\n",
            "Validation accuracy increased from 80.54% to 80.86%\n",
            "Validation accuracy increased from 80.86% to 81.11%\n",
            "Validation accuracy increased from 81.11% to 82.18%\n",
            "EarlyStopping counter: 1 out of 3\n",
            "EarlyStopping counter: 2 out of 3\n",
            "Validation accuracy increased from 82.18% to 83.02%\n",
            "Validation accuracy increased from 83.02% to 83.70%\n",
            "Validation accuracy increased from 83.70% to 84.45%\n",
            "Validation accuracy increased from 84.45% to 84.73%\n",
            "EarlyStopping counter: 1 out of 3\n",
            "EarlyStopping counter: 2 out of 3\n",
            "Validation accuracy increased from 84.73% to 85.65%\n",
            "EarlyStopping counter: 1 out of 3\n",
            "EarlyStopping counter: 2 out of 3\n",
            "EarlyStopping counter: 3 out of 3\n",
            "Early Stopping!\n"
          ],
          "name": "stdout"
        }
      ]
    },
    {
      "cell_type": "markdown",
      "metadata": {
        "id": "90mwRNDgx3jL"
      },
      "source": [
        "**Loading state_dict for fp_32 model**"
      ]
    },
    {
      "cell_type": "code",
      "metadata": {
        "colab": {
          "base_uri": "https://localhost:8080/"
        },
        "id": "2JecKCmYWW54",
        "outputId": "9c9bec28-c3d5-448c-a970-f9554ce27b97"
      },
      "source": [
        "model_fp32 = MobileNetV2(config)\n",
        "model_fp32.load_state_dict(torch.load('checkpoint.pt'))"
      ],
      "execution_count": 14,
      "outputs": [
        {
          "output_type": "execute_result",
          "data": {
            "text/plain": [
              "<All keys matched successfully>"
            ]
          },
          "metadata": {
            "tags": []
          },
          "execution_count": 14
        }
      ]
    },
    {
      "cell_type": "markdown",
      "metadata": {
        "id": "kbtV9npiy0v7"
      },
      "source": [
        "**Valid Accuracy for fp32 MobileNetV2**"
      ]
    },
    {
      "cell_type": "code",
      "metadata": {
        "colab": {
          "base_uri": "https://localhost:8080/"
        },
        "id": "NlnDJFTgwzqw",
        "outputId": "92750d3a-d9b7-4376-adff-9e7540594868"
      },
      "source": [
        "model_fp32.to(device)\n",
        "model_fp32.eval()\n",
        "valid_acc = cv_compute_accuracy(model_fp32, valid_loader, device)\n",
        "print(f\"Valid Accuracy: {valid_acc}\")"
      ],
      "execution_count": 16,
      "outputs": [
        {
          "output_type": "stream",
          "text": [
            "Valid Accuracy: 85.64999389648438\n"
          ],
          "name": "stdout"
        }
      ]
    },
    {
      "cell_type": "markdown",
      "metadata": {
        "id": "Isi1kcaWznBc"
      },
      "source": [
        "**Dynamic Quantization to INT8 for MobileNetV2**"
      ]
    },
    {
      "cell_type": "code",
      "metadata": {
        "id": "TM8iC5KvyKyt"
      },
      "source": [
        "model_int8 = torch.quantization.quantize_dynamic(\n",
        "    model_fp32,\n",
        "    {torch.nn.Linear},\n",
        "    dtype=torch.qint8,\n",
        ")"
      ],
      "execution_count": 17,
      "outputs": []
    },
    {
      "cell_type": "code",
      "metadata": {
        "id": "7C_-sBf7zTzF"
      },
      "source": [
        "torch.save(model_int8.state_dict(), \"checkpoint_int8.pt\")"
      ],
      "execution_count": 19,
      "outputs": []
    },
    {
      "cell_type": "code",
      "metadata": {
        "colab": {
          "base_uri": "https://localhost:8080/"
        },
        "id": "ZtzCSl4LzXvI",
        "outputId": "1376ff45-db6c-4ea7-8a9e-d926bffb6d32"
      },
      "source": [
        "model_int8.to(device)\n",
        "model_int8.eval()\n",
        "valid_acc = cv_compute_accuracy(model_int8, valid_loader, device)\n",
        "print(f\"Valid Accuracy: {valid_acc}\")"
      ],
      "execution_count": 21,
      "outputs": [
        {
          "output_type": "stream",
          "text": [
            "Valid Accuracy: 85.64999389648438\n"
          ],
          "name": "stdout"
        }
      ]
    },
    {
      "cell_type": "markdown",
      "metadata": {
        "id": "GLjjEb690rLK"
      },
      "source": [
        "**Size difference between fp32 and int8**"
      ]
    },
    {
      "cell_type": "code",
      "metadata": {
        "colab": {
          "base_uri": "https://localhost:8080/"
        },
        "id": "6Vp220_70JPE",
        "outputId": "7339fc04-0be1-43fc-bfa2-fee7854c44f2"
      },
      "source": [
        "! du -sh *.pt"
      ],
      "execution_count": 22,
      "outputs": [
        {
          "output_type": "stream",
          "text": [
            "11M\tcheckpoint_int8.pt\n",
            "11M\tcheckpoint.pt\n"
          ],
          "name": "stdout"
        }
      ]
    },
    {
      "cell_type": "code",
      "metadata": {
        "id": "ZIwJ4_6m0zF2"
      },
      "source": [
        ""
      ],
      "execution_count": null,
      "outputs": []
    }
  ]
}