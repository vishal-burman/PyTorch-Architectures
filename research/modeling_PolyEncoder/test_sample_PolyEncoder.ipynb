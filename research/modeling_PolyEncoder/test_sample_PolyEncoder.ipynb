{
  "nbformat": 4,
  "nbformat_minor": 0,
  "metadata": {
    "colab": {
      "name": "test_sample_PolyEncoder.ipynb",
      "provenance": [],
      "collapsed_sections": [],
      "authorship_tag": "ABX9TyP0nr2ECxvnbvmbfeIdej/j",
      "include_colab_link": true
    },
    "kernelspec": {
      "name": "python3",
      "display_name": "Python 3"
    },
    "language_info": {
      "name": "python"
    },
    "widgets": {
      "application/vnd.jupyter.widget-state+json": {
        "44708dda1f1f473bbb317785d54e8d13": {
          "model_module": "@jupyter-widgets/controls",
          "model_name": "HBoxModel",
          "model_module_version": "1.5.0",
          "state": {
            "_view_name": "HBoxView",
            "_dom_classes": [],
            "_model_name": "HBoxModel",
            "_view_module": "@jupyter-widgets/controls",
            "_model_module_version": "1.5.0",
            "_view_count": null,
            "_view_module_version": "1.5.0",
            "box_style": "",
            "layout": "IPY_MODEL_a349aaf1f71f408c8c9ab962ec71c958",
            "_model_module": "@jupyter-widgets/controls",
            "children": [
              "IPY_MODEL_6409a137949e4dd9b3f49394cc8e026f",
              "IPY_MODEL_4e6119abea3b4b06aa0da1efa6f61fec",
              "IPY_MODEL_523bee55fc0e42b9aeb84c26defd459e"
            ]
          }
        },
        "a349aaf1f71f408c8c9ab962ec71c958": {
          "model_module": "@jupyter-widgets/base",
          "model_name": "LayoutModel",
          "model_module_version": "1.2.0",
          "state": {
            "_view_name": "LayoutView",
            "grid_template_rows": null,
            "right": null,
            "justify_content": null,
            "_view_module": "@jupyter-widgets/base",
            "overflow": null,
            "_model_module_version": "1.2.0",
            "_view_count": null,
            "flex_flow": null,
            "width": null,
            "min_width": null,
            "border": null,
            "align_items": null,
            "bottom": null,
            "_model_module": "@jupyter-widgets/base",
            "top": null,
            "grid_column": null,
            "overflow_y": null,
            "overflow_x": null,
            "grid_auto_flow": null,
            "grid_area": null,
            "grid_template_columns": null,
            "flex": null,
            "_model_name": "LayoutModel",
            "justify_items": null,
            "grid_row": null,
            "max_height": null,
            "align_content": null,
            "visibility": null,
            "align_self": null,
            "height": null,
            "min_height": null,
            "padding": null,
            "grid_auto_rows": null,
            "grid_gap": null,
            "max_width": null,
            "order": null,
            "_view_module_version": "1.2.0",
            "grid_template_areas": null,
            "object_position": null,
            "object_fit": null,
            "grid_auto_columns": null,
            "margin": null,
            "display": null,
            "left": null
          }
        },
        "6409a137949e4dd9b3f49394cc8e026f": {
          "model_module": "@jupyter-widgets/controls",
          "model_name": "HTMLModel",
          "model_module_version": "1.5.0",
          "state": {
            "_view_name": "HTMLView",
            "style": "IPY_MODEL_a89d01b4557a47c78129224a23c0c8ec",
            "_dom_classes": [],
            "description": "",
            "_model_name": "HTMLModel",
            "placeholder": "​",
            "_view_module": "@jupyter-widgets/controls",
            "_model_module_version": "1.5.0",
            "value": "100%",
            "_view_count": null,
            "_view_module_version": "1.5.0",
            "description_tooltip": null,
            "_model_module": "@jupyter-widgets/controls",
            "layout": "IPY_MODEL_eb1205daaf094756aa13f3baf9ad8b51"
          }
        },
        "4e6119abea3b4b06aa0da1efa6f61fec": {
          "model_module": "@jupyter-widgets/controls",
          "model_name": "FloatProgressModel",
          "model_module_version": "1.5.0",
          "state": {
            "_view_name": "ProgressView",
            "style": "IPY_MODEL_6f9918e80f2f471ca499128abd94037d",
            "_dom_classes": [],
            "description": "",
            "_model_name": "FloatProgressModel",
            "bar_style": "success",
            "max": 3,
            "_view_module": "@jupyter-widgets/controls",
            "_model_module_version": "1.5.0",
            "value": 3,
            "_view_count": null,
            "_view_module_version": "1.5.0",
            "orientation": "horizontal",
            "min": 0,
            "description_tooltip": null,
            "_model_module": "@jupyter-widgets/controls",
            "layout": "IPY_MODEL_5485cb576b374898bdb30361d929eac2"
          }
        },
        "523bee55fc0e42b9aeb84c26defd459e": {
          "model_module": "@jupyter-widgets/controls",
          "model_name": "HTMLModel",
          "model_module_version": "1.5.0",
          "state": {
            "_view_name": "HTMLView",
            "style": "IPY_MODEL_9a295435ebad4cbd94f39d18ad8feb94",
            "_dom_classes": [],
            "description": "",
            "_model_name": "HTMLModel",
            "placeholder": "​",
            "_view_module": "@jupyter-widgets/controls",
            "_model_module_version": "1.5.0",
            "value": " 3/3 [00:00&lt;00:00, 59.36it/s]",
            "_view_count": null,
            "_view_module_version": "1.5.0",
            "description_tooltip": null,
            "_model_module": "@jupyter-widgets/controls",
            "layout": "IPY_MODEL_135d0a2b70a242f190597ad1acfc8044"
          }
        },
        "a89d01b4557a47c78129224a23c0c8ec": {
          "model_module": "@jupyter-widgets/controls",
          "model_name": "DescriptionStyleModel",
          "model_module_version": "1.5.0",
          "state": {
            "_view_name": "StyleView",
            "_model_name": "DescriptionStyleModel",
            "description_width": "",
            "_view_module": "@jupyter-widgets/base",
            "_model_module_version": "1.5.0",
            "_view_count": null,
            "_view_module_version": "1.2.0",
            "_model_module": "@jupyter-widgets/controls"
          }
        },
        "eb1205daaf094756aa13f3baf9ad8b51": {
          "model_module": "@jupyter-widgets/base",
          "model_name": "LayoutModel",
          "model_module_version": "1.2.0",
          "state": {
            "_view_name": "LayoutView",
            "grid_template_rows": null,
            "right": null,
            "justify_content": null,
            "_view_module": "@jupyter-widgets/base",
            "overflow": null,
            "_model_module_version": "1.2.0",
            "_view_count": null,
            "flex_flow": null,
            "width": null,
            "min_width": null,
            "border": null,
            "align_items": null,
            "bottom": null,
            "_model_module": "@jupyter-widgets/base",
            "top": null,
            "grid_column": null,
            "overflow_y": null,
            "overflow_x": null,
            "grid_auto_flow": null,
            "grid_area": null,
            "grid_template_columns": null,
            "flex": null,
            "_model_name": "LayoutModel",
            "justify_items": null,
            "grid_row": null,
            "max_height": null,
            "align_content": null,
            "visibility": null,
            "align_self": null,
            "height": null,
            "min_height": null,
            "padding": null,
            "grid_auto_rows": null,
            "grid_gap": null,
            "max_width": null,
            "order": null,
            "_view_module_version": "1.2.0",
            "grid_template_areas": null,
            "object_position": null,
            "object_fit": null,
            "grid_auto_columns": null,
            "margin": null,
            "display": null,
            "left": null
          }
        },
        "6f9918e80f2f471ca499128abd94037d": {
          "model_module": "@jupyter-widgets/controls",
          "model_name": "ProgressStyleModel",
          "model_module_version": "1.5.0",
          "state": {
            "_view_name": "StyleView",
            "_model_name": "ProgressStyleModel",
            "description_width": "",
            "_view_module": "@jupyter-widgets/base",
            "_model_module_version": "1.5.0",
            "_view_count": null,
            "_view_module_version": "1.2.0",
            "bar_color": null,
            "_model_module": "@jupyter-widgets/controls"
          }
        },
        "5485cb576b374898bdb30361d929eac2": {
          "model_module": "@jupyter-widgets/base",
          "model_name": "LayoutModel",
          "model_module_version": "1.2.0",
          "state": {
            "_view_name": "LayoutView",
            "grid_template_rows": null,
            "right": null,
            "justify_content": null,
            "_view_module": "@jupyter-widgets/base",
            "overflow": null,
            "_model_module_version": "1.2.0",
            "_view_count": null,
            "flex_flow": null,
            "width": null,
            "min_width": null,
            "border": null,
            "align_items": null,
            "bottom": null,
            "_model_module": "@jupyter-widgets/base",
            "top": null,
            "grid_column": null,
            "overflow_y": null,
            "overflow_x": null,
            "grid_auto_flow": null,
            "grid_area": null,
            "grid_template_columns": null,
            "flex": null,
            "_model_name": "LayoutModel",
            "justify_items": null,
            "grid_row": null,
            "max_height": null,
            "align_content": null,
            "visibility": null,
            "align_self": null,
            "height": null,
            "min_height": null,
            "padding": null,
            "grid_auto_rows": null,
            "grid_gap": null,
            "max_width": null,
            "order": null,
            "_view_module_version": "1.2.0",
            "grid_template_areas": null,
            "object_position": null,
            "object_fit": null,
            "grid_auto_columns": null,
            "margin": null,
            "display": null,
            "left": null
          }
        },
        "9a295435ebad4cbd94f39d18ad8feb94": {
          "model_module": "@jupyter-widgets/controls",
          "model_name": "DescriptionStyleModel",
          "model_module_version": "1.5.0",
          "state": {
            "_view_name": "StyleView",
            "_model_name": "DescriptionStyleModel",
            "description_width": "",
            "_view_module": "@jupyter-widgets/base",
            "_model_module_version": "1.5.0",
            "_view_count": null,
            "_view_module_version": "1.2.0",
            "_model_module": "@jupyter-widgets/controls"
          }
        },
        "135d0a2b70a242f190597ad1acfc8044": {
          "model_module": "@jupyter-widgets/base",
          "model_name": "LayoutModel",
          "model_module_version": "1.2.0",
          "state": {
            "_view_name": "LayoutView",
            "grid_template_rows": null,
            "right": null,
            "justify_content": null,
            "_view_module": "@jupyter-widgets/base",
            "overflow": null,
            "_model_module_version": "1.2.0",
            "_view_count": null,
            "flex_flow": null,
            "width": null,
            "min_width": null,
            "border": null,
            "align_items": null,
            "bottom": null,
            "_model_module": "@jupyter-widgets/base",
            "top": null,
            "grid_column": null,
            "overflow_y": null,
            "overflow_x": null,
            "grid_auto_flow": null,
            "grid_area": null,
            "grid_template_columns": null,
            "flex": null,
            "_model_name": "LayoutModel",
            "justify_items": null,
            "grid_row": null,
            "max_height": null,
            "align_content": null,
            "visibility": null,
            "align_self": null,
            "height": null,
            "min_height": null,
            "padding": null,
            "grid_auto_rows": null,
            "grid_gap": null,
            "max_width": null,
            "order": null,
            "_view_module_version": "1.2.0",
            "grid_template_areas": null,
            "object_position": null,
            "object_fit": null,
            "grid_auto_columns": null,
            "margin": null,
            "display": null,
            "left": null
          }
        }
      }
    }
  },
  "cells": [
    {
      "cell_type": "markdown",
      "metadata": {
        "id": "view-in-github",
        "colab_type": "text"
      },
      "source": [
        "<a href=\"https://colab.research.google.com/github/vishal-burman/PyTorch-Architectures/blob/master/research/modeling_PolyEncoder/test_sample_PolyEncoder.ipynb\" target=\"_parent\"><img src=\"https://colab.research.google.com/assets/colab-badge.svg\" alt=\"Open In Colab\"/></a>"
      ]
    },
    {
      "cell_type": "code",
      "execution_count": null,
      "metadata": {
        "id": "tPkLz09JFPIQ"
      },
      "outputs": [],
      "source": [
        "! pip install -q transformers\n",
        "! pip install -q datasets"
      ]
    },
    {
      "cell_type": "code",
      "source": [
        "! rm -rf PyTorch-Architectures/\n",
        "! git clone https://github.com/vishal-burman/PyTorch-Architectures.git\n",
        "%cd PyTorch-Architectures/"
      ],
      "metadata": {
        "id": "ieKAgsGmFSIg"
      },
      "execution_count": null,
      "outputs": []
    },
    {
      "cell_type": "code",
      "source": [
        "import torch\n",
        "from torch.utils.data import Dataset, DataLoader\n",
        "from datasets import load_dataset\n",
        "from transformers import AutoTokenizer\n",
        "from research import PolyEncoder"
      ],
      "metadata": {
        "id": "SEnCtRHwFds4"
      },
      "execution_count": 2,
      "outputs": []
    },
    {
      "cell_type": "code",
      "source": [
        "dataset = load_dataset(\"glue\", \"mrpc\")"
      ],
      "metadata": {
        "id": "MVHdem3lGRRe",
        "colab": {
          "base_uri": "https://localhost:8080/",
          "height": 67,
          "referenced_widgets": [
            "44708dda1f1f473bbb317785d54e8d13",
            "a349aaf1f71f408c8c9ab962ec71c958",
            "6409a137949e4dd9b3f49394cc8e026f",
            "4e6119abea3b4b06aa0da1efa6f61fec",
            "523bee55fc0e42b9aeb84c26defd459e",
            "a89d01b4557a47c78129224a23c0c8ec",
            "eb1205daaf094756aa13f3baf9ad8b51",
            "6f9918e80f2f471ca499128abd94037d",
            "5485cb576b374898bdb30361d929eac2",
            "9a295435ebad4cbd94f39d18ad8feb94",
            "135d0a2b70a242f190597ad1acfc8044"
          ]
        },
        "outputId": "a42d7e70-e0d4-4d92-e601-b36860743f2c"
      },
      "execution_count": 3,
      "outputs": [
        {
          "output_type": "stream",
          "name": "stderr",
          "text": [
            "Reusing dataset glue (/root/.cache/huggingface/datasets/glue/mrpc/1.0.0/dacbe3125aa31d7f70367a07a8a9e72a5a0bfeb5fc42e75c9db75b96da6053ad)\n"
          ]
        },
        {
          "output_type": "display_data",
          "data": {
            "application/vnd.jupyter.widget-view+json": {
              "model_id": "44708dda1f1f473bbb317785d54e8d13",
              "version_minor": 0,
              "version_major": 2
            },
            "text/plain": [
              "  0%|          | 0/3 [00:00<?, ?it/s]"
            ]
          },
          "metadata": {}
        }
      ]
    },
    {
      "cell_type": "code",
      "source": [
        "def print_details(samples):\n",
        "  labels = []\n",
        "  max_len_sent1, max_len_sent2 = -1, -1\n",
        "  min_len_sent1, min_len_sent2 = 100, 100\n",
        "  for sample in samples:\n",
        "    max_len_sent1 = max(len(sample[\"sentence1\"].split()), max_len_sent1)\n",
        "    max_len_sent2 = max(len(sample[\"sentence2\"].split()), max_len_sent2)\n",
        "\n",
        "    min_len_sent1 = min(len(sample[\"sentence1\"].split()), min_len_sent1)\n",
        "    min_len_sent2 = min(len(sample[\"sentence2\"].split()), min_len_sent2)\n",
        "    labels.append(sample[\"label\"])\n",
        "  \n",
        "  print(f\"Total pairs --> {len(samples)}\")\n",
        "  print(f\"No of positive pairs --> {sum(labels)}\")\n",
        "  print(f\"No of negative pairs --> {len(labels) - sum(labels)}\")\n",
        "\n",
        "  print(f\"Maximum length of sentence1 --> {max_len_sent1}\")\n",
        "  print(f\"Maximum length of sentence2 --> {max_len_sent2}\")\n",
        "\n",
        "  print(f\"Minimum length of sentence1 --> {min_len_sent1}\")\n",
        "  print(f\"Minimum length of sentence2 --> {min_len_sent2}\")\n",
        "\n",
        "print(f\"For Training Set:\")\n",
        "print_details(dataset[\"train\"])\n",
        "\n",
        "print(f\"\\nFor Validation Set:\")\n",
        "print_details(dataset[\"validation\"])\n",
        "\n",
        "print(f\"\\nFor Test Set:\")\n",
        "print_details(dataset[\"test\"])"
      ],
      "metadata": {
        "colab": {
          "base_uri": "https://localhost:8080/"
        },
        "id": "RoBlDDih2Fmg",
        "outputId": "5d5c0136-5a02-430e-c562-f586d9c81acc"
      },
      "execution_count": 4,
      "outputs": [
        {
          "output_type": "stream",
          "name": "stdout",
          "text": [
            "For Training Set:\n",
            "Total pairs --> 3668\n",
            "No of positive pairs --> 2474\n",
            "No of negative pairs --> 1194\n",
            "Maximum length of sentence1 --> 39\n",
            "Maximum length of sentence2 --> 42\n",
            "Minimum length of sentence1 --> 7\n",
            "Minimum length of sentence2 --> 8\n",
            "\n",
            "For Validation Set:\n",
            "Total pairs --> 408\n",
            "No of positive pairs --> 279\n",
            "No of negative pairs --> 129\n",
            "Maximum length of sentence1 --> 35\n",
            "Maximum length of sentence2 --> 34\n",
            "Minimum length of sentence1 --> 9\n",
            "Minimum length of sentence2 --> 9\n",
            "\n",
            "For Test Set:\n",
            "Total pairs --> 1725\n",
            "No of positive pairs --> 1147\n",
            "No of negative pairs --> 578\n",
            "Maximum length of sentence1 --> 36\n",
            "Maximum length of sentence2 --> 35\n",
            "Minimum length of sentence1 --> 8\n",
            "Minimum length of sentence2 --> 7\n"
          ]
        }
      ]
    },
    {
      "cell_type": "code",
      "source": [
        "class CustomDataset(Dataset):\n",
        "  def __init__(self, tokenizer, list_samples, max_length=64):\n",
        "    self.tokenizer = tokenizer\n",
        "    self.list_sent1 = [sample[0] for sample in list_samples]\n",
        "    self.list_sent2 = [sample[1] for sample in list_samples]\n",
        "    self.labels = [sample[2] for sample in list_samples]\n",
        "    self.max_length = max_length\n",
        "\n",
        "    assert len(self.list_sent1) == len(self.list_sent2), \\\n",
        "    f\"Length mismatch {len(self.list_sent1)} -- {len(self.list_sent2)}\"\n",
        "  \n",
        "  def __len__(self,):\n",
        "    return len(self.list_sent1)\n",
        "  \n",
        "  def __getitem__(self, idx):\n",
        "    sent1 = self.list_sent1[idx]\n",
        "    sent2 = self.list_sent2[idx]\n",
        "    labels = self.labels[idx]\n",
        "    return {\n",
        "        \"sent1\": sent1,\n",
        "        \"sent2\": sent2,\n",
        "        \"labels\": labels,\n",
        "    }\n",
        "  \n",
        "  def collate_fn(self, batch):\n",
        "    sents_1, sents_2, labels = [], [], []\n",
        "    for sample in batch:\n",
        "      sents_1.append(sample[\"sent1\"])\n",
        "      sents_2.append(sample[\"sent2\"])\n",
        "      labels.append(sample[\"labels\"])\n",
        "    \n",
        "    tokens_1 = self.tokenizer(sents_1,\n",
        "                              max_length=self.max_length,\n",
        "                              padding=True,\n",
        "                              truncation=True,\n",
        "                              return_tensors=\"pt\",\n",
        "                              )\n",
        "    tokens_2 = self.tokenizer(sents_2,\n",
        "                              max_length=self.max_length,\n",
        "                              padding=True,\n",
        "                              truncation=True,\n",
        "                              return_tensors=\"pt\",\n",
        "                              )\n",
        "    \n",
        "    return {\n",
        "        \"context_ids\": tokens_1[\"input_ids\"],\n",
        "        \"context_mask\": tokens_1[\"attention_mask\"],\n",
        "        \"candidate_ids\": tokens_2[\"input_ids\"],\n",
        "        \"candidate_mask\": tokens_2[\"attention_mask\"],\n",
        "        \"labels\": torch.tensor(labels, dtype=torch.long),\n",
        "    }"
      ],
      "metadata": {
        "id": "eGxO-nUDRhgJ"
      },
      "execution_count": 5,
      "outputs": []
    },
    {
      "cell_type": "code",
      "source": [
        "device = torch.device(\"cuda:0\" if torch.cuda.is_available() else \"cpu\")\n",
        "model_name = \"distilbert-base-uncased\"\n",
        "tokenizer = AutoTokenizer.from_pretrained(model_name)\n",
        "\n",
        "model = PolyEncoder(poly_m=2,\n",
        "                    hidden_size=768,\n",
        "                    num_labels=2,\n",
        "                    encoder_name=model_name)\n",
        "model.to(device)\n",
        "\n",
        "params = sum(p.numel() for p in model.parameters() if p.requires_grad)\n",
        "print(f\"Trainable Parameters --> {params}\")"
      ],
      "metadata": {
        "id": "tiTvUb69mqW5",
        "colab": {
          "base_uri": "https://localhost:8080/"
        },
        "outputId": "7ff7803f-c782-46b2-ce8c-1ec67208c742"
      },
      "execution_count": 6,
      "outputs": [
        {
          "output_type": "stream",
          "name": "stderr",
          "text": [
            "Some weights of the model checkpoint at distilbert-base-uncased were not used when initializing DistilBertModel: ['vocab_projector.bias', 'vocab_transform.weight', 'vocab_layer_norm.bias', 'vocab_layer_norm.weight', 'vocab_transform.bias', 'vocab_projector.weight']\n",
            "- This IS expected if you are initializing DistilBertModel from the checkpoint of a model trained on another task or with another architecture (e.g. initializing a BertForSequenceClassification model from a BertForPreTraining model).\n",
            "- This IS NOT expected if you are initializing DistilBertModel from the checkpoint of a model that you expect to be exactly identical (initializing a BertForSequenceClassification model from a BertForSequenceClassification model).\n"
          ]
        },
        {
          "output_type": "stream",
          "name": "stdout",
          "text": [
            "Trainable Parameters --> 66365954\n"
          ]
        }
      ]
    },
    {
      "cell_type": "code",
      "source": [
        "# Hyperparameters\n",
        "BS = 8"
      ],
      "metadata": {
        "id": "5fjC_7viD3ft"
      },
      "execution_count": 7,
      "outputs": []
    },
    {
      "cell_type": "code",
      "source": [
        "train_samples = [(s[\"sentence1\"], s[\"sentence2\"], s[\"label\"]) \\\n",
        "                 for s in dataset[\"train\"]]\n",
        "valid_samples = [(s[\"sentence1\"], s[\"sentence2\"], s[\"label\"]) \\\n",
        "                 for s in dataset[\"validation\"]]\n",
        "\n",
        "print(f\"Total Train samples --> {len(train_samples)}\")\n",
        "print(f\"Total Validation samples --> {len(valid_samples)}\")"
      ],
      "metadata": {
        "id": "6yNlo4E6JFHN",
        "colab": {
          "base_uri": "https://localhost:8080/"
        },
        "outputId": "af6f0e47-dfa2-4996-d9d0-ba12ddce8adf"
      },
      "execution_count": 8,
      "outputs": [
        {
          "output_type": "stream",
          "name": "stdout",
          "text": [
            "Total Train samples --> 3668\n",
            "Total Validation samples --> 408\n"
          ]
        }
      ]
    },
    {
      "cell_type": "code",
      "source": [
        "train_dataset = CustomDataset(tokenizer=tokenizer,\n",
        "                              list_samples=train_samples)\n",
        "valid_dataset = CustomDataset(tokenizer=tokenizer,\n",
        "                              list_samples=valid_samples)\n",
        "\n",
        "train_loader = DataLoader(train_dataset,\n",
        "                          batch_size=BS,\n",
        "                          shuffle=True,\n",
        "                          collate_fn=train_dataset.collate_fn,\n",
        "                          )\n",
        "valid_loader = DataLoader(valid_dataset,\n",
        "                          batch_size=BS,\n",
        "                          shuffle=True,\n",
        "                          collate_fn=valid_dataset.collate_fn,\n",
        "                          )\n",
        "\n",
        "print(f\"Length of Train Loader --> {len(train_loader)}\")\n",
        "print(f\"Length of Valid Loader --> {len(valid_loader)}\")"
      ],
      "metadata": {
        "colab": {
          "base_uri": "https://localhost:8080/"
        },
        "id": "QWJ37FCPmJdf",
        "outputId": "69f6fdbc-b42e-4114-974a-0c0d10e73464"
      },
      "execution_count": 9,
      "outputs": [
        {
          "output_type": "stream",
          "name": "stdout",
          "text": [
            "Length of Train Loader --> 459\n",
            "Length of Valid Loader --> 51\n"
          ]
        }
      ]
    },
    {
      "cell_type": "code",
      "source": [
        "# Sanity check forward pass\n",
        "with torch.set_grad_enabled(False):\n",
        "  for sample in train_loader:\n",
        "    # for key in sample.keys():\n",
        "    #   print(key, sample[key].shape)\n",
        "    loss, logits = model(**sample)\n",
        "    print(f\"Loss --> {loss.item(): .2f}\")\n",
        "    print(f\"Logits Shape --> {logits.shape}\")\n",
        "    break"
      ],
      "metadata": {
        "colab": {
          "base_uri": "https://localhost:8080/"
        },
        "id": "jG-qLng1Cl28",
        "outputId": "fe8936ec-07a7-4be3-ba4d-407161d0d644"
      },
      "execution_count": 11,
      "outputs": [
        {
          "output_type": "stream",
          "name": "stdout",
          "text": [
            "Loss -->  0.55\n",
            "Logits Shape --> torch.Size([8, 2])\n"
          ]
        }
      ]
    },
    {
      "cell_type": "code",
      "source": [
        ""
      ],
      "metadata": {
        "id": "e9ZCA7zvPEaL"
      },
      "execution_count": null,
      "outputs": []
    }
  ]
}