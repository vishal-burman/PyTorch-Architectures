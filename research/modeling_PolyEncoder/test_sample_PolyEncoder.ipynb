{
  "nbformat": 4,
  "nbformat_minor": 0,
  "metadata": {
    "colab": {
      "name": "test_sample_PolyEncoder.ipynb",
      "provenance": [],
      "collapsed_sections": [],
      "authorship_tag": "ABX9TyPdzNtzyWYhKaY0Vht3kja9",
      "include_colab_link": true
    },
    "kernelspec": {
      "name": "python3",
      "display_name": "Python 3"
    },
    "language_info": {
      "name": "python"
    }
  },
  "cells": [
    {
      "cell_type": "markdown",
      "metadata": {
        "id": "view-in-github",
        "colab_type": "text"
      },
      "source": [
        "<a href=\"https://colab.research.google.com/github/vishal-burman/PyTorch-Architectures/blob/master/research/modeling_PolyEncoder/test_sample_PolyEncoder.ipynb\" target=\"_parent\"><img src=\"https://colab.research.google.com/assets/colab-badge.svg\" alt=\"Open In Colab\"/></a>"
      ]
    },
    {
      "cell_type": "code",
      "execution_count": null,
      "metadata": {
        "id": "tPkLz09JFPIQ"
      },
      "outputs": [],
      "source": [
        "! pip install -q transformers\n",
        "! pip install -q datasets"
      ]
    },
    {
      "cell_type": "code",
      "source": [
        "! rm -rf PyTorch-Architectures/\n",
        "! git clone https://github.com/vishal-burman/PyTorch-Architectures.git\n",
        "%cd PyTorch-Architectures/"
      ],
      "metadata": {
        "id": "ieKAgsGmFSIg"
      },
      "execution_count": null,
      "outputs": []
    },
    {
      "cell_type": "code",
      "source": [
        "import torch\n",
        "from torch.utils.data import Dataset, DataLoader\n",
        "from datasets import load_dataset\n",
        "from transformers import AutoTokenizer\n",
        "from research import PolyEncoder"
      ],
      "metadata": {
        "id": "SEnCtRHwFds4"
      },
      "execution_count": 3,
      "outputs": []
    },
    {
      "cell_type": "code",
      "source": [
        "dataset = load_dataset(\"glue\", \"mrpc\")"
      ],
      "metadata": {
        "id": "MVHdem3lGRRe"
      },
      "execution_count": null,
      "outputs": []
    },
    {
      "cell_type": "code",
      "source": [
        "def print_details(samples):\n",
        "  labels = []\n",
        "  max_len_sent1, max_len_sent2 = -1, -1\n",
        "  min_len_sent1, min_len_sent2 = 100, 100\n",
        "  for sample in samples:\n",
        "    max_len_sent1 = max(len(sample[\"sentence1\"].split()), max_len_sent1)\n",
        "    max_len_sent2 = max(len(sample[\"sentence2\"].split()), max_len_sent2)\n",
        "\n",
        "    min_len_sent1 = min(len(sample[\"sentence1\"].split()), min_len_sent1)\n",
        "    min_len_sent2 = min(len(sample[\"sentence2\"].split()), min_len_sent2)\n",
        "    labels.append(sample[\"label\"])\n",
        "  \n",
        "  print(f\"Total pairs --> {len(samples)}\")\n",
        "  print(f\"No of positive pairs --> {sum(labels)}\")\n",
        "  print(f\"No of negative pairs --> {len(labels) - sum(labels)}\")\n",
        "\n",
        "  print(f\"Maximum length of sentence1 --> {max_len_sent1}\")\n",
        "  print(f\"Maximum length of sentence2 --> {max_len_sent2}\")\n",
        "\n",
        "  print(f\"Minimum length of sentence1 --> {min_len_sent1}\")\n",
        "  print(f\"Minimum length of sentence2 --> {min_len_sent2}\")\n",
        "\n",
        "print(f\"For Training Set:\")\n",
        "print_details(dataset[\"train\"])\n",
        "\n",
        "print(f\"\\nFor Validation Set:\")\n",
        "print_details(dataset[\"validation\"])\n",
        "\n",
        "print(f\"\\nFor Test Set:\")\n",
        "print_details(dataset[\"test\"])"
      ],
      "metadata": {
        "colab": {
          "base_uri": "https://localhost:8080/"
        },
        "id": "RoBlDDih2Fmg",
        "outputId": "17bb8504-cd0d-4b01-e42b-e194870bcd3d"
      },
      "execution_count": 5,
      "outputs": [
        {
          "output_type": "stream",
          "name": "stdout",
          "text": [
            "For Training Set:\n",
            "Total pairs --> 3668\n",
            "No of positive pairs --> 2474\n",
            "No of negative pairs --> 1194\n",
            "Maximum length of sentence1 --> 39\n",
            "Maximum length of sentence2 --> 42\n",
            "Minimum length of sentence1 --> 7\n",
            "Minimum length of sentence2 --> 8\n",
            "\n",
            "For Validation Set:\n",
            "Total pairs --> 408\n",
            "No of positive pairs --> 279\n",
            "No of negative pairs --> 129\n",
            "Maximum length of sentence1 --> 35\n",
            "Maximum length of sentence2 --> 34\n",
            "Minimum length of sentence1 --> 9\n",
            "Minimum length of sentence2 --> 9\n",
            "\n",
            "For Test Set:\n",
            "Total pairs --> 1725\n",
            "No of positive pairs --> 1147\n",
            "No of negative pairs --> 578\n",
            "Maximum length of sentence1 --> 36\n",
            "Maximum length of sentence2 --> 35\n",
            "Minimum length of sentence1 --> 8\n",
            "Minimum length of sentence2 --> 7\n"
          ]
        }
      ]
    },
    {
      "cell_type": "code",
      "source": [
        "class CustomDataset(Dataset):\n",
        "  def __init__(self, tokenizer, list_samples, max_length=64):\n",
        "    self.tokenizer = tokenizer\n",
        "    self.list_sent1 = [sample[0] for sample in list_samples]\n",
        "    self.list_sent2 = [sample[1] for sample in list_samples]\n",
        "    self.labels = [sample[2] for sample in list_samples]\n",
        "    self.max_length = max_length\n",
        "\n",
        "    assert len(self.list_sent1) == len(self.list_sent2), \\\n",
        "    f\"Length mismatch {len(self.list_sent1)} -- {len(self.list_sent2)}\"\n",
        "  \n",
        "  def __len__(self,):\n",
        "    return len(self.list_sent1)\n",
        "  \n",
        "  def __getitem__(self, idx):\n",
        "    sent1 = self.list_sent1[idx]\n",
        "    sent2 = self.list_sent2[idx]\n",
        "    labels = self.labels[idx]\n",
        "    return {\n",
        "        \"sent1\": sent1,\n",
        "        \"sent2\": sent2,\n",
        "        \"labels\": labels,\n",
        "    }\n",
        "  \n",
        "  def collate_fn(self, batch):\n",
        "    sents_1, sents_2, labels = [], [], []\n",
        "    for sample in batch:\n",
        "      sents_1.append(sample[\"sent1\"])\n",
        "      sents_2.append(sample[\"sent2\"])\n",
        "      labels.append(sample[\"labels\"])\n",
        "    \n",
        "    tokens_1 = self.tokenizer(sents_1,\n",
        "                              max_length=self.max_length,\n",
        "                              padding=True,\n",
        "                              truncation=True,\n",
        "                              return_tensors=\"pt\",\n",
        "                              )\n",
        "    tokens_2 = self.tokenizer(sents_2,\n",
        "                              max_length=self.max_length,\n",
        "                              padding=True,\n",
        "                              truncation=True,\n",
        "                              return_tensors=\"pt\",\n",
        "                              )\n",
        "    \n",
        "    return {\n",
        "        \"context_input_ids\": tokens_1[\"input_ids\"],\n",
        "        \"context_attention_mask\": tokens_1[\"attention_mask\"],\n",
        "        \"candidate_input_ids\": tokens_2[\"input_ids\"],\n",
        "        \"candidate_attention_mask\": tokens_2[\"attention_mask\"],\n",
        "        \"labels\": torch.tensor(labels, dtype=torch.long),\n",
        "    }"
      ],
      "metadata": {
        "id": "eGxO-nUDRhgJ"
      },
      "execution_count": 6,
      "outputs": []
    },
    {
      "cell_type": "code",
      "source": [
        "device = torch.device(\"cuda:0\" if torch.cuda.is_available() else \"cpu\")\n",
        "model_name = \"distilbert-base-uncased\"\n",
        "tokenizer = AutoTokenizer.from_pretrained(model_name)\n",
        "\n",
        "model = PolyEncoder(poly_m=2,\n",
        "                    hidden_size=784,\n",
        "                    num_labels=2,\n",
        "                    encoder_name=model_name)\n",
        "model.to(device)\n",
        "\n",
        "params = sum(p.numel() for p in model.parameters() if p.requires_grad)\n",
        "print(f\"Trainable Parameters --> {params}\")"
      ],
      "metadata": {
        "id": "tiTvUb69mqW5"
      },
      "execution_count": null,
      "outputs": []
    },
    {
      "cell_type": "code",
      "source": [
        "train_samples = [(s[\"sentence1\"], s[\"sentence2\"], s[\"label\"]) \\\n",
        "                 for s in dataset[\"train\"]]\n",
        "valid_samples = [(s[\"sentence1\"], s[\"sentence2\"], s[\"label\"]) \\\n",
        "                 for s in dataset[\"validation\"]]\n",
        "\n",
        "print(f\"Total Train samples --> {len(train_samples)}\")\n",
        "print(f\"Total Validation samples --> {len(valid_samples)}\")"
      ],
      "metadata": {
        "id": "6yNlo4E6JFHN",
        "colab": {
          "base_uri": "https://localhost:8080/"
        },
        "outputId": "cae2cf0e-5241-4bc6-e57d-b5d326a7d4a2"
      },
      "execution_count": 8,
      "outputs": [
        {
          "output_type": "stream",
          "name": "stdout",
          "text": [
            "Total Train samples --> 3668\n",
            "Total Validation samples --> 408\n"
          ]
        }
      ]
    },
    {
      "cell_type": "code",
      "source": [
        "train_dataset = CustomDataset(tokenizer=tokenizer,\n",
        "                              list_samples=train_samples)\n",
        "valid_dataset = CustomDataset(tokenizer=tokenizer,\n",
        "                              list_samples=valid_samples)"
      ],
      "metadata": {
        "id": "QWJ37FCPmJdf"
      },
      "execution_count": 9,
      "outputs": []
    },
    {
      "cell_type": "code",
      "source": [
        ""
      ],
      "metadata": {
        "id": "jG-qLng1Cl28"
      },
      "execution_count": null,
      "outputs": []
    }
  ]
}