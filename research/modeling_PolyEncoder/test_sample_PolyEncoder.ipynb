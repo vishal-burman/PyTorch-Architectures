{
  "nbformat": 4,
  "nbformat_minor": 0,
  "metadata": {
    "colab": {
      "name": "test_sample_PolyEncoder.ipynb",
      "provenance": [],
      "authorship_tag": "ABX9TyO/Bx+ykAeuzuFrCOk3hMvN",
      "include_colab_link": true
    },
    "kernelspec": {
      "name": "python3",
      "display_name": "Python 3"
    },
    "language_info": {
      "name": "python"
    }
  },
  "cells": [
    {
      "cell_type": "markdown",
      "metadata": {
        "id": "view-in-github",
        "colab_type": "text"
      },
      "source": [
        "<a href=\"https://colab.research.google.com/github/vishal-burman/PyTorch-Architectures/blob/master/research/modeling_PolyEncoder/test_sample_PolyEncoder.ipynb\" target=\"_parent\"><img src=\"https://colab.research.google.com/assets/colab-badge.svg\" alt=\"Open In Colab\"/></a>"
      ]
    },
    {
      "cell_type": "code",
      "execution_count": null,
      "metadata": {
        "id": "tPkLz09JFPIQ"
      },
      "outputs": [],
      "source": [
        "! pip install -q transformers\n",
        "! pip install -q datasets"
      ]
    },
    {
      "cell_type": "code",
      "source": [
        "! rm -rf PyTorch-Architectures/\n",
        "! git clone https://github.com/vishal-burman/PyTorch-Architectures.git\n",
        "%cd PyTorch-Architectures/"
      ],
      "metadata": {
        "id": "ieKAgsGmFSIg"
      },
      "execution_count": null,
      "outputs": []
    },
    {
      "cell_type": "code",
      "source": [
        "import torch\n",
        "from datasets import load_dataset\n",
        "from transformers import AutoTokenizer\n",
        "from research import PolyEncoder"
      ],
      "metadata": {
        "id": "SEnCtRHwFds4"
      },
      "execution_count": 3,
      "outputs": []
    },
    {
      "cell_type": "code",
      "source": [
        "dataset = load_dataset(\"glue\", \"mrpc\")"
      ],
      "metadata": {
        "id": "MVHdem3lGRRe"
      },
      "execution_count": null,
      "outputs": []
    },
    {
      "cell_type": "code",
      "source": [
        "def print_details(samples):\n",
        "  labels = []\n",
        "  max_len_sent1, max_len_sent2 = -1, -1\n",
        "  min_len_sent1, min_len_sent2 = 100, 100\n",
        "  for sample in samples:\n",
        "    max_len_sent1 = max(len(sample[\"sentence1\"].split()), max_len_sent1)\n",
        "    max_len_sent2 = max(len(sample[\"sentence2\"].split()), max_len_sent2)\n",
        "\n",
        "    min_len_sent1 = min(len(sample[\"sentence1\"].split()), min_len_sent1)\n",
        "    min_len_sent2 = min(len(sample[\"sentence2\"].split()), min_len_sent2)\n",
        "    labels.append(sample[\"label\"])\n",
        "  \n",
        "  print(f\"Total pairs --> {len(samples)}\")\n",
        "  print(f\"No of positive pairs --> {sum(labels)}\")\n",
        "  print(f\"No of negative pairs --> {len(labels) - sum(labels)}\")\n",
        "\n",
        "  print(f\"Maximum length of sentence1 --> {max_len_sent1}\")\n",
        "  print(f\"Maximum length of sentence2 --> {max_len_sent2}\")\n",
        "\n",
        "  print(f\"Minimum length of sentence1 --> {min_len_sent1}\")\n",
        "  print(f\"Minimum length of sentence2 --> {min_len_sent2}\")\n",
        "\n",
        "print(f\"For Training Set:\")\n",
        "print_details(dataset[\"train\"])\n",
        "\n",
        "print(f\"\\nFor Validation Set:\")\n",
        "print_details(dataset[\"validation\"])\n",
        "\n",
        "print(f\"\\nFor Test Set:\")\n",
        "print_details(dataset[\"test\"])"
      ],
      "metadata": {
        "colab": {
          "base_uri": "https://localhost:8080/"
        },
        "id": "RoBlDDih2Fmg",
        "outputId": "9752dae2-b19e-4f1a-8f54-6d01c59c3a0c"
      },
      "execution_count": 13,
      "outputs": [
        {
          "output_type": "stream",
          "name": "stdout",
          "text": [
            "For Training Set:\n",
            "Total pairs --> 3668\n",
            "No of positive pairs --> 2474\n",
            "No of negative pairs --> 1194\n",
            "Maximum length of sentence1 --> 39\n",
            "Maximum length of sentence2 --> 42\n",
            "Minimum length of sentence1 --> 7\n",
            "Minimum length of sentence2 --> 8\n",
            "\n",
            "For Validation Set:\n",
            "Total pairs --> 408\n",
            "No of positive pairs --> 279\n",
            "No of negative pairs --> 129\n",
            "Maximum length of sentence1 --> 35\n",
            "Maximum length of sentence2 --> 34\n",
            "Minimum length of sentence1 --> 9\n",
            "Minimum length of sentence2 --> 9\n",
            "\n",
            "For Test Set:\n",
            "Total pairs --> 1725\n",
            "No of positive pairs --> 1147\n",
            "No of negative pairs --> 578\n",
            "Maximum length of sentence1 --> 36\n",
            "Maximum length of sentence2 --> 35\n",
            "Minimum length of sentence1 --> 8\n",
            "Minimum length of sentence2 --> 7\n"
          ]
        }
      ]
    },
    {
      "cell_type": "code",
      "source": [
        ""
      ],
      "metadata": {
        "id": "eGxO-nUDRhgJ"
      },
      "execution_count": null,
      "outputs": []
    },
    {
      "cell_type": "code",
      "source": [
        ""
      ],
      "metadata": {
        "id": "6yNlo4E6JFHN"
      },
      "execution_count": null,
      "outputs": []
    }
  ]
}