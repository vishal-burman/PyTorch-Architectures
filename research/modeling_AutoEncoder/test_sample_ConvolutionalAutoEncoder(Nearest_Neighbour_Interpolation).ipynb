{
  "nbformat": 4,
  "nbformat_minor": 0,
  "metadata": {
    "colab": {
      "name": "test_sample_ConvolutionalAutoEncoder(Nearest_Neighbour_Interpolation).ipynb",
      "provenance": [],
      "authorship_tag": "ABX9TyNv/mvrS0ut45j8eVJlZIi9",
      "include_colab_link": true
    },
    "kernelspec": {
      "name": "python3",
      "display_name": "Python 3"
    },
    "widgets": {
      "application/vnd.jupyter.widget-state+json": {
        "1d76e58db7a74e78956aa78c31d80f23": {
          "model_module": "@jupyter-widgets/controls",
          "model_name": "HBoxModel",
          "state": {
            "_view_name": "HBoxView",
            "_dom_classes": [],
            "_model_name": "HBoxModel",
            "_view_module": "@jupyter-widgets/controls",
            "_model_module_version": "1.5.0",
            "_view_count": null,
            "_view_module_version": "1.5.0",
            "box_style": "",
            "layout": "IPY_MODEL_471ad44972624c56a8c575071ce6d23a",
            "_model_module": "@jupyter-widgets/controls",
            "children": [
              "IPY_MODEL_7602db002773413bac153d1443f8f652",
              "IPY_MODEL_a175c453510446b999b7e51e761fcf37"
            ]
          }
        },
        "471ad44972624c56a8c575071ce6d23a": {
          "model_module": "@jupyter-widgets/base",
          "model_name": "LayoutModel",
          "state": {
            "_view_name": "LayoutView",
            "grid_template_rows": null,
            "right": null,
            "justify_content": null,
            "_view_module": "@jupyter-widgets/base",
            "overflow": null,
            "_model_module_version": "1.2.0",
            "_view_count": null,
            "flex_flow": null,
            "width": null,
            "min_width": null,
            "border": null,
            "align_items": null,
            "bottom": null,
            "_model_module": "@jupyter-widgets/base",
            "top": null,
            "grid_column": null,
            "overflow_y": null,
            "overflow_x": null,
            "grid_auto_flow": null,
            "grid_area": null,
            "grid_template_columns": null,
            "flex": null,
            "_model_name": "LayoutModel",
            "justify_items": null,
            "grid_row": null,
            "max_height": null,
            "align_content": null,
            "visibility": null,
            "align_self": null,
            "height": null,
            "min_height": null,
            "padding": null,
            "grid_auto_rows": null,
            "grid_gap": null,
            "max_width": null,
            "order": null,
            "_view_module_version": "1.2.0",
            "grid_template_areas": null,
            "object_position": null,
            "object_fit": null,
            "grid_auto_columns": null,
            "margin": null,
            "display": null,
            "left": null
          }
        },
        "7602db002773413bac153d1443f8f652": {
          "model_module": "@jupyter-widgets/controls",
          "model_name": "FloatProgressModel",
          "state": {
            "_view_name": "ProgressView",
            "style": "IPY_MODEL_1e98ef5f74814b93a761490864258886",
            "_dom_classes": [],
            "description": "",
            "_model_name": "FloatProgressModel",
            "bar_style": "info",
            "max": 1,
            "_view_module": "@jupyter-widgets/controls",
            "_model_module_version": "1.5.0",
            "value": 1,
            "_view_count": null,
            "_view_module_version": "1.5.0",
            "orientation": "horizontal",
            "min": 0,
            "description_tooltip": null,
            "_model_module": "@jupyter-widgets/controls",
            "layout": "IPY_MODEL_66e77e29bda3482b8a4b4214da9a6c39"
          }
        },
        "a175c453510446b999b7e51e761fcf37": {
          "model_module": "@jupyter-widgets/controls",
          "model_name": "HTMLModel",
          "state": {
            "_view_name": "HTMLView",
            "style": "IPY_MODEL_1899d9ec9f0d468395604ab7c6e8b350",
            "_dom_classes": [],
            "description": "",
            "_model_name": "HTMLModel",
            "placeholder": "​",
            "_view_module": "@jupyter-widgets/controls",
            "_model_module_version": "1.5.0",
            "value": " 9920512/? [00:20&lt;00:00, 11448698.54it/s]",
            "_view_count": null,
            "_view_module_version": "1.5.0",
            "description_tooltip": null,
            "_model_module": "@jupyter-widgets/controls",
            "layout": "IPY_MODEL_094822c27a97469fb51d2885dc7a8a16"
          }
        },
        "1e98ef5f74814b93a761490864258886": {
          "model_module": "@jupyter-widgets/controls",
          "model_name": "ProgressStyleModel",
          "state": {
            "_view_name": "StyleView",
            "_model_name": "ProgressStyleModel",
            "description_width": "initial",
            "_view_module": "@jupyter-widgets/base",
            "_model_module_version": "1.5.0",
            "_view_count": null,
            "_view_module_version": "1.2.0",
            "bar_color": null,
            "_model_module": "@jupyter-widgets/controls"
          }
        },
        "66e77e29bda3482b8a4b4214da9a6c39": {
          "model_module": "@jupyter-widgets/base",
          "model_name": "LayoutModel",
          "state": {
            "_view_name": "LayoutView",
            "grid_template_rows": null,
            "right": null,
            "justify_content": null,
            "_view_module": "@jupyter-widgets/base",
            "overflow": null,
            "_model_module_version": "1.2.0",
            "_view_count": null,
            "flex_flow": null,
            "width": null,
            "min_width": null,
            "border": null,
            "align_items": null,
            "bottom": null,
            "_model_module": "@jupyter-widgets/base",
            "top": null,
            "grid_column": null,
            "overflow_y": null,
            "overflow_x": null,
            "grid_auto_flow": null,
            "grid_area": null,
            "grid_template_columns": null,
            "flex": null,
            "_model_name": "LayoutModel",
            "justify_items": null,
            "grid_row": null,
            "max_height": null,
            "align_content": null,
            "visibility": null,
            "align_self": null,
            "height": null,
            "min_height": null,
            "padding": null,
            "grid_auto_rows": null,
            "grid_gap": null,
            "max_width": null,
            "order": null,
            "_view_module_version": "1.2.0",
            "grid_template_areas": null,
            "object_position": null,
            "object_fit": null,
            "grid_auto_columns": null,
            "margin": null,
            "display": null,
            "left": null
          }
        },
        "1899d9ec9f0d468395604ab7c6e8b350": {
          "model_module": "@jupyter-widgets/controls",
          "model_name": "DescriptionStyleModel",
          "state": {
            "_view_name": "StyleView",
            "_model_name": "DescriptionStyleModel",
            "description_width": "",
            "_view_module": "@jupyter-widgets/base",
            "_model_module_version": "1.5.0",
            "_view_count": null,
            "_view_module_version": "1.2.0",
            "_model_module": "@jupyter-widgets/controls"
          }
        },
        "094822c27a97469fb51d2885dc7a8a16": {
          "model_module": "@jupyter-widgets/base",
          "model_name": "LayoutModel",
          "state": {
            "_view_name": "LayoutView",
            "grid_template_rows": null,
            "right": null,
            "justify_content": null,
            "_view_module": "@jupyter-widgets/base",
            "overflow": null,
            "_model_module_version": "1.2.0",
            "_view_count": null,
            "flex_flow": null,
            "width": null,
            "min_width": null,
            "border": null,
            "align_items": null,
            "bottom": null,
            "_model_module": "@jupyter-widgets/base",
            "top": null,
            "grid_column": null,
            "overflow_y": null,
            "overflow_x": null,
            "grid_auto_flow": null,
            "grid_area": null,
            "grid_template_columns": null,
            "flex": null,
            "_model_name": "LayoutModel",
            "justify_items": null,
            "grid_row": null,
            "max_height": null,
            "align_content": null,
            "visibility": null,
            "align_self": null,
            "height": null,
            "min_height": null,
            "padding": null,
            "grid_auto_rows": null,
            "grid_gap": null,
            "max_width": null,
            "order": null,
            "_view_module_version": "1.2.0",
            "grid_template_areas": null,
            "object_position": null,
            "object_fit": null,
            "grid_auto_columns": null,
            "margin": null,
            "display": null,
            "left": null
          }
        },
        "f01e54304bf447209ad82b89df03e470": {
          "model_module": "@jupyter-widgets/controls",
          "model_name": "HBoxModel",
          "state": {
            "_view_name": "HBoxView",
            "_dom_classes": [],
            "_model_name": "HBoxModel",
            "_view_module": "@jupyter-widgets/controls",
            "_model_module_version": "1.5.0",
            "_view_count": null,
            "_view_module_version": "1.5.0",
            "box_style": "",
            "layout": "IPY_MODEL_4f26e52b219044d3af5b67bcbeac46b6",
            "_model_module": "@jupyter-widgets/controls",
            "children": [
              "IPY_MODEL_147beab2551e487197d68eb488daf709",
              "IPY_MODEL_5c51694660e648b8b609fff443ad2a4b"
            ]
          }
        },
        "4f26e52b219044d3af5b67bcbeac46b6": {
          "model_module": "@jupyter-widgets/base",
          "model_name": "LayoutModel",
          "state": {
            "_view_name": "LayoutView",
            "grid_template_rows": null,
            "right": null,
            "justify_content": null,
            "_view_module": "@jupyter-widgets/base",
            "overflow": null,
            "_model_module_version": "1.2.0",
            "_view_count": null,
            "flex_flow": null,
            "width": null,
            "min_width": null,
            "border": null,
            "align_items": null,
            "bottom": null,
            "_model_module": "@jupyter-widgets/base",
            "top": null,
            "grid_column": null,
            "overflow_y": null,
            "overflow_x": null,
            "grid_auto_flow": null,
            "grid_area": null,
            "grid_template_columns": null,
            "flex": null,
            "_model_name": "LayoutModel",
            "justify_items": null,
            "grid_row": null,
            "max_height": null,
            "align_content": null,
            "visibility": null,
            "align_self": null,
            "height": null,
            "min_height": null,
            "padding": null,
            "grid_auto_rows": null,
            "grid_gap": null,
            "max_width": null,
            "order": null,
            "_view_module_version": "1.2.0",
            "grid_template_areas": null,
            "object_position": null,
            "object_fit": null,
            "grid_auto_columns": null,
            "margin": null,
            "display": null,
            "left": null
          }
        },
        "147beab2551e487197d68eb488daf709": {
          "model_module": "@jupyter-widgets/controls",
          "model_name": "FloatProgressModel",
          "state": {
            "_view_name": "ProgressView",
            "style": "IPY_MODEL_2147d6dd876a4a5abfab1bd2c8dd28d9",
            "_dom_classes": [],
            "description": "",
            "_model_name": "FloatProgressModel",
            "bar_style": "success",
            "max": 1,
            "_view_module": "@jupyter-widgets/controls",
            "_model_module_version": "1.5.0",
            "value": 1,
            "_view_count": null,
            "_view_module_version": "1.5.0",
            "orientation": "horizontal",
            "min": 0,
            "description_tooltip": null,
            "_model_module": "@jupyter-widgets/controls",
            "layout": "IPY_MODEL_4c0a188753934fdb80df8f10c58530cc"
          }
        },
        "5c51694660e648b8b609fff443ad2a4b": {
          "model_module": "@jupyter-widgets/controls",
          "model_name": "HTMLModel",
          "state": {
            "_view_name": "HTMLView",
            "style": "IPY_MODEL_c6a51b1743dc47e3b25f87481038af30",
            "_dom_classes": [],
            "description": "",
            "_model_name": "HTMLModel",
            "placeholder": "​",
            "_view_module": "@jupyter-widgets/controls",
            "_model_module_version": "1.5.0",
            "value": " 32768/? [00:00&lt;00:00, 52136.80it/s]",
            "_view_count": null,
            "_view_module_version": "1.5.0",
            "description_tooltip": null,
            "_model_module": "@jupyter-widgets/controls",
            "layout": "IPY_MODEL_3b9b9234213448b695db875ee8bf2bd5"
          }
        },
        "2147d6dd876a4a5abfab1bd2c8dd28d9": {
          "model_module": "@jupyter-widgets/controls",
          "model_name": "ProgressStyleModel",
          "state": {
            "_view_name": "StyleView",
            "_model_name": "ProgressStyleModel",
            "description_width": "initial",
            "_view_module": "@jupyter-widgets/base",
            "_model_module_version": "1.5.0",
            "_view_count": null,
            "_view_module_version": "1.2.0",
            "bar_color": null,
            "_model_module": "@jupyter-widgets/controls"
          }
        },
        "4c0a188753934fdb80df8f10c58530cc": {
          "model_module": "@jupyter-widgets/base",
          "model_name": "LayoutModel",
          "state": {
            "_view_name": "LayoutView",
            "grid_template_rows": null,
            "right": null,
            "justify_content": null,
            "_view_module": "@jupyter-widgets/base",
            "overflow": null,
            "_model_module_version": "1.2.0",
            "_view_count": null,
            "flex_flow": null,
            "width": null,
            "min_width": null,
            "border": null,
            "align_items": null,
            "bottom": null,
            "_model_module": "@jupyter-widgets/base",
            "top": null,
            "grid_column": null,
            "overflow_y": null,
            "overflow_x": null,
            "grid_auto_flow": null,
            "grid_area": null,
            "grid_template_columns": null,
            "flex": null,
            "_model_name": "LayoutModel",
            "justify_items": null,
            "grid_row": null,
            "max_height": null,
            "align_content": null,
            "visibility": null,
            "align_self": null,
            "height": null,
            "min_height": null,
            "padding": null,
            "grid_auto_rows": null,
            "grid_gap": null,
            "max_width": null,
            "order": null,
            "_view_module_version": "1.2.0",
            "grid_template_areas": null,
            "object_position": null,
            "object_fit": null,
            "grid_auto_columns": null,
            "margin": null,
            "display": null,
            "left": null
          }
        },
        "c6a51b1743dc47e3b25f87481038af30": {
          "model_module": "@jupyter-widgets/controls",
          "model_name": "DescriptionStyleModel",
          "state": {
            "_view_name": "StyleView",
            "_model_name": "DescriptionStyleModel",
            "description_width": "",
            "_view_module": "@jupyter-widgets/base",
            "_model_module_version": "1.5.0",
            "_view_count": null,
            "_view_module_version": "1.2.0",
            "_model_module": "@jupyter-widgets/controls"
          }
        },
        "3b9b9234213448b695db875ee8bf2bd5": {
          "model_module": "@jupyter-widgets/base",
          "model_name": "LayoutModel",
          "state": {
            "_view_name": "LayoutView",
            "grid_template_rows": null,
            "right": null,
            "justify_content": null,
            "_view_module": "@jupyter-widgets/base",
            "overflow": null,
            "_model_module_version": "1.2.0",
            "_view_count": null,
            "flex_flow": null,
            "width": null,
            "min_width": null,
            "border": null,
            "align_items": null,
            "bottom": null,
            "_model_module": "@jupyter-widgets/base",
            "top": null,
            "grid_column": null,
            "overflow_y": null,
            "overflow_x": null,
            "grid_auto_flow": null,
            "grid_area": null,
            "grid_template_columns": null,
            "flex": null,
            "_model_name": "LayoutModel",
            "justify_items": null,
            "grid_row": null,
            "max_height": null,
            "align_content": null,
            "visibility": null,
            "align_self": null,
            "height": null,
            "min_height": null,
            "padding": null,
            "grid_auto_rows": null,
            "grid_gap": null,
            "max_width": null,
            "order": null,
            "_view_module_version": "1.2.0",
            "grid_template_areas": null,
            "object_position": null,
            "object_fit": null,
            "grid_auto_columns": null,
            "margin": null,
            "display": null,
            "left": null
          }
        },
        "4b71d2f171e8480982b4ebf59e059692": {
          "model_module": "@jupyter-widgets/controls",
          "model_name": "HBoxModel",
          "state": {
            "_view_name": "HBoxView",
            "_dom_classes": [],
            "_model_name": "HBoxModel",
            "_view_module": "@jupyter-widgets/controls",
            "_model_module_version": "1.5.0",
            "_view_count": null,
            "_view_module_version": "1.5.0",
            "box_style": "",
            "layout": "IPY_MODEL_7d04fba2de2d4935baf198e2c95f0286",
            "_model_module": "@jupyter-widgets/controls",
            "children": [
              "IPY_MODEL_7d0d9f701d7e4ffe8cea0026013778f5",
              "IPY_MODEL_222669a717e0498bafd4d8bfb27de002"
            ]
          }
        },
        "7d04fba2de2d4935baf198e2c95f0286": {
          "model_module": "@jupyter-widgets/base",
          "model_name": "LayoutModel",
          "state": {
            "_view_name": "LayoutView",
            "grid_template_rows": null,
            "right": null,
            "justify_content": null,
            "_view_module": "@jupyter-widgets/base",
            "overflow": null,
            "_model_module_version": "1.2.0",
            "_view_count": null,
            "flex_flow": null,
            "width": null,
            "min_width": null,
            "border": null,
            "align_items": null,
            "bottom": null,
            "_model_module": "@jupyter-widgets/base",
            "top": null,
            "grid_column": null,
            "overflow_y": null,
            "overflow_x": null,
            "grid_auto_flow": null,
            "grid_area": null,
            "grid_template_columns": null,
            "flex": null,
            "_model_name": "LayoutModel",
            "justify_items": null,
            "grid_row": null,
            "max_height": null,
            "align_content": null,
            "visibility": null,
            "align_self": null,
            "height": null,
            "min_height": null,
            "padding": null,
            "grid_auto_rows": null,
            "grid_gap": null,
            "max_width": null,
            "order": null,
            "_view_module_version": "1.2.0",
            "grid_template_areas": null,
            "object_position": null,
            "object_fit": null,
            "grid_auto_columns": null,
            "margin": null,
            "display": null,
            "left": null
          }
        },
        "7d0d9f701d7e4ffe8cea0026013778f5": {
          "model_module": "@jupyter-widgets/controls",
          "model_name": "FloatProgressModel",
          "state": {
            "_view_name": "ProgressView",
            "style": "IPY_MODEL_0a825155deb34f0880261d6e05b039ee",
            "_dom_classes": [],
            "description": "",
            "_model_name": "FloatProgressModel",
            "bar_style": "info",
            "max": 1,
            "_view_module": "@jupyter-widgets/controls",
            "_model_module_version": "1.5.0",
            "value": 1,
            "_view_count": null,
            "_view_module_version": "1.5.0",
            "orientation": "horizontal",
            "min": 0,
            "description_tooltip": null,
            "_model_module": "@jupyter-widgets/controls",
            "layout": "IPY_MODEL_33742e231ccb453595b4c17205eacfa2"
          }
        },
        "222669a717e0498bafd4d8bfb27de002": {
          "model_module": "@jupyter-widgets/controls",
          "model_name": "HTMLModel",
          "state": {
            "_view_name": "HTMLView",
            "style": "IPY_MODEL_f4e47be83a16407eb4c6c915bd2f404a",
            "_dom_classes": [],
            "description": "",
            "_model_name": "HTMLModel",
            "placeholder": "​",
            "_view_module": "@jupyter-widgets/controls",
            "_model_module_version": "1.5.0",
            "value": " 1654784/? [00:18&lt;00:00, 8452600.16it/s]",
            "_view_count": null,
            "_view_module_version": "1.5.0",
            "description_tooltip": null,
            "_model_module": "@jupyter-widgets/controls",
            "layout": "IPY_MODEL_66455ffa755747328189246575f27001"
          }
        },
        "0a825155deb34f0880261d6e05b039ee": {
          "model_module": "@jupyter-widgets/controls",
          "model_name": "ProgressStyleModel",
          "state": {
            "_view_name": "StyleView",
            "_model_name": "ProgressStyleModel",
            "description_width": "initial",
            "_view_module": "@jupyter-widgets/base",
            "_model_module_version": "1.5.0",
            "_view_count": null,
            "_view_module_version": "1.2.0",
            "bar_color": null,
            "_model_module": "@jupyter-widgets/controls"
          }
        },
        "33742e231ccb453595b4c17205eacfa2": {
          "model_module": "@jupyter-widgets/base",
          "model_name": "LayoutModel",
          "state": {
            "_view_name": "LayoutView",
            "grid_template_rows": null,
            "right": null,
            "justify_content": null,
            "_view_module": "@jupyter-widgets/base",
            "overflow": null,
            "_model_module_version": "1.2.0",
            "_view_count": null,
            "flex_flow": null,
            "width": null,
            "min_width": null,
            "border": null,
            "align_items": null,
            "bottom": null,
            "_model_module": "@jupyter-widgets/base",
            "top": null,
            "grid_column": null,
            "overflow_y": null,
            "overflow_x": null,
            "grid_auto_flow": null,
            "grid_area": null,
            "grid_template_columns": null,
            "flex": null,
            "_model_name": "LayoutModel",
            "justify_items": null,
            "grid_row": null,
            "max_height": null,
            "align_content": null,
            "visibility": null,
            "align_self": null,
            "height": null,
            "min_height": null,
            "padding": null,
            "grid_auto_rows": null,
            "grid_gap": null,
            "max_width": null,
            "order": null,
            "_view_module_version": "1.2.0",
            "grid_template_areas": null,
            "object_position": null,
            "object_fit": null,
            "grid_auto_columns": null,
            "margin": null,
            "display": null,
            "left": null
          }
        },
        "f4e47be83a16407eb4c6c915bd2f404a": {
          "model_module": "@jupyter-widgets/controls",
          "model_name": "DescriptionStyleModel",
          "state": {
            "_view_name": "StyleView",
            "_model_name": "DescriptionStyleModel",
            "description_width": "",
            "_view_module": "@jupyter-widgets/base",
            "_model_module_version": "1.5.0",
            "_view_count": null,
            "_view_module_version": "1.2.0",
            "_model_module": "@jupyter-widgets/controls"
          }
        },
        "66455ffa755747328189246575f27001": {
          "model_module": "@jupyter-widgets/base",
          "model_name": "LayoutModel",
          "state": {
            "_view_name": "LayoutView",
            "grid_template_rows": null,
            "right": null,
            "justify_content": null,
            "_view_module": "@jupyter-widgets/base",
            "overflow": null,
            "_model_module_version": "1.2.0",
            "_view_count": null,
            "flex_flow": null,
            "width": null,
            "min_width": null,
            "border": null,
            "align_items": null,
            "bottom": null,
            "_model_module": "@jupyter-widgets/base",
            "top": null,
            "grid_column": null,
            "overflow_y": null,
            "overflow_x": null,
            "grid_auto_flow": null,
            "grid_area": null,
            "grid_template_columns": null,
            "flex": null,
            "_model_name": "LayoutModel",
            "justify_items": null,
            "grid_row": null,
            "max_height": null,
            "align_content": null,
            "visibility": null,
            "align_self": null,
            "height": null,
            "min_height": null,
            "padding": null,
            "grid_auto_rows": null,
            "grid_gap": null,
            "max_width": null,
            "order": null,
            "_view_module_version": "1.2.0",
            "grid_template_areas": null,
            "object_position": null,
            "object_fit": null,
            "grid_auto_columns": null,
            "margin": null,
            "display": null,
            "left": null
          }
        },
        "82f7ad6d2ea2491ba35a12a42c61cd06": {
          "model_module": "@jupyter-widgets/controls",
          "model_name": "HBoxModel",
          "state": {
            "_view_name": "HBoxView",
            "_dom_classes": [],
            "_model_name": "HBoxModel",
            "_view_module": "@jupyter-widgets/controls",
            "_model_module_version": "1.5.0",
            "_view_count": null,
            "_view_module_version": "1.5.0",
            "box_style": "",
            "layout": "IPY_MODEL_2698c8e30499481393017688f2f2c781",
            "_model_module": "@jupyter-widgets/controls",
            "children": [
              "IPY_MODEL_92f72cfeb3d94813bc4df2a7176a9550",
              "IPY_MODEL_0b941aa918cd47939e6b56525cfc6d36"
            ]
          }
        },
        "2698c8e30499481393017688f2f2c781": {
          "model_module": "@jupyter-widgets/base",
          "model_name": "LayoutModel",
          "state": {
            "_view_name": "LayoutView",
            "grid_template_rows": null,
            "right": null,
            "justify_content": null,
            "_view_module": "@jupyter-widgets/base",
            "overflow": null,
            "_model_module_version": "1.2.0",
            "_view_count": null,
            "flex_flow": null,
            "width": null,
            "min_width": null,
            "border": null,
            "align_items": null,
            "bottom": null,
            "_model_module": "@jupyter-widgets/base",
            "top": null,
            "grid_column": null,
            "overflow_y": null,
            "overflow_x": null,
            "grid_auto_flow": null,
            "grid_area": null,
            "grid_template_columns": null,
            "flex": null,
            "_model_name": "LayoutModel",
            "justify_items": null,
            "grid_row": null,
            "max_height": null,
            "align_content": null,
            "visibility": null,
            "align_self": null,
            "height": null,
            "min_height": null,
            "padding": null,
            "grid_auto_rows": null,
            "grid_gap": null,
            "max_width": null,
            "order": null,
            "_view_module_version": "1.2.0",
            "grid_template_areas": null,
            "object_position": null,
            "object_fit": null,
            "grid_auto_columns": null,
            "margin": null,
            "display": null,
            "left": null
          }
        },
        "92f72cfeb3d94813bc4df2a7176a9550": {
          "model_module": "@jupyter-widgets/controls",
          "model_name": "FloatProgressModel",
          "state": {
            "_view_name": "ProgressView",
            "style": "IPY_MODEL_d7d3e04a3a764918ba88937b9a9d61d5",
            "_dom_classes": [],
            "description": "",
            "_model_name": "FloatProgressModel",
            "bar_style": "success",
            "max": 1,
            "_view_module": "@jupyter-widgets/controls",
            "_model_module_version": "1.5.0",
            "value": 1,
            "_view_count": null,
            "_view_module_version": "1.5.0",
            "orientation": "horizontal",
            "min": 0,
            "description_tooltip": null,
            "_model_module": "@jupyter-widgets/controls",
            "layout": "IPY_MODEL_716f515ffc2a4dfaa1ffb64ef2a0dfb8"
          }
        },
        "0b941aa918cd47939e6b56525cfc6d36": {
          "model_module": "@jupyter-widgets/controls",
          "model_name": "HTMLModel",
          "state": {
            "_view_name": "HTMLView",
            "style": "IPY_MODEL_3600a85b38c949bb854f6b0f7b4295c7",
            "_dom_classes": [],
            "description": "",
            "_model_name": "HTMLModel",
            "placeholder": "​",
            "_view_module": "@jupyter-widgets/controls",
            "_model_module_version": "1.5.0",
            "value": " 8192/? [00:00&lt;00:00, 26786.37it/s]",
            "_view_count": null,
            "_view_module_version": "1.5.0",
            "description_tooltip": null,
            "_model_module": "@jupyter-widgets/controls",
            "layout": "IPY_MODEL_cef4408c2cfa4eb6a0deefc61980226d"
          }
        },
        "d7d3e04a3a764918ba88937b9a9d61d5": {
          "model_module": "@jupyter-widgets/controls",
          "model_name": "ProgressStyleModel",
          "state": {
            "_view_name": "StyleView",
            "_model_name": "ProgressStyleModel",
            "description_width": "initial",
            "_view_module": "@jupyter-widgets/base",
            "_model_module_version": "1.5.0",
            "_view_count": null,
            "_view_module_version": "1.2.0",
            "bar_color": null,
            "_model_module": "@jupyter-widgets/controls"
          }
        },
        "716f515ffc2a4dfaa1ffb64ef2a0dfb8": {
          "model_module": "@jupyter-widgets/base",
          "model_name": "LayoutModel",
          "state": {
            "_view_name": "LayoutView",
            "grid_template_rows": null,
            "right": null,
            "justify_content": null,
            "_view_module": "@jupyter-widgets/base",
            "overflow": null,
            "_model_module_version": "1.2.0",
            "_view_count": null,
            "flex_flow": null,
            "width": null,
            "min_width": null,
            "border": null,
            "align_items": null,
            "bottom": null,
            "_model_module": "@jupyter-widgets/base",
            "top": null,
            "grid_column": null,
            "overflow_y": null,
            "overflow_x": null,
            "grid_auto_flow": null,
            "grid_area": null,
            "grid_template_columns": null,
            "flex": null,
            "_model_name": "LayoutModel",
            "justify_items": null,
            "grid_row": null,
            "max_height": null,
            "align_content": null,
            "visibility": null,
            "align_self": null,
            "height": null,
            "min_height": null,
            "padding": null,
            "grid_auto_rows": null,
            "grid_gap": null,
            "max_width": null,
            "order": null,
            "_view_module_version": "1.2.0",
            "grid_template_areas": null,
            "object_position": null,
            "object_fit": null,
            "grid_auto_columns": null,
            "margin": null,
            "display": null,
            "left": null
          }
        },
        "3600a85b38c949bb854f6b0f7b4295c7": {
          "model_module": "@jupyter-widgets/controls",
          "model_name": "DescriptionStyleModel",
          "state": {
            "_view_name": "StyleView",
            "_model_name": "DescriptionStyleModel",
            "description_width": "",
            "_view_module": "@jupyter-widgets/base",
            "_model_module_version": "1.5.0",
            "_view_count": null,
            "_view_module_version": "1.2.0",
            "_model_module": "@jupyter-widgets/controls"
          }
        },
        "cef4408c2cfa4eb6a0deefc61980226d": {
          "model_module": "@jupyter-widgets/base",
          "model_name": "LayoutModel",
          "state": {
            "_view_name": "LayoutView",
            "grid_template_rows": null,
            "right": null,
            "justify_content": null,
            "_view_module": "@jupyter-widgets/base",
            "overflow": null,
            "_model_module_version": "1.2.0",
            "_view_count": null,
            "flex_flow": null,
            "width": null,
            "min_width": null,
            "border": null,
            "align_items": null,
            "bottom": null,
            "_model_module": "@jupyter-widgets/base",
            "top": null,
            "grid_column": null,
            "overflow_y": null,
            "overflow_x": null,
            "grid_auto_flow": null,
            "grid_area": null,
            "grid_template_columns": null,
            "flex": null,
            "_model_name": "LayoutModel",
            "justify_items": null,
            "grid_row": null,
            "max_height": null,
            "align_content": null,
            "visibility": null,
            "align_self": null,
            "height": null,
            "min_height": null,
            "padding": null,
            "grid_auto_rows": null,
            "grid_gap": null,
            "max_width": null,
            "order": null,
            "_view_module_version": "1.2.0",
            "grid_template_areas": null,
            "object_position": null,
            "object_fit": null,
            "grid_auto_columns": null,
            "margin": null,
            "display": null,
            "left": null
          }
        }
      }
    }
  },
  "cells": [
    {
      "cell_type": "markdown",
      "metadata": {
        "id": "view-in-github",
        "colab_type": "text"
      },
      "source": [
        "<a href=\"https://colab.research.google.com/github/vishal-burman/PyTorch-Architectures/blob/master/research/modeling_AutoEncoder/test_sample_ConvolutionalAutoEncoder(Nearest_Neighbour_Interpolation).ipynb\" target=\"_parent\"><img src=\"https://colab.research.google.com/assets/colab-badge.svg\" alt=\"Open In Colab\"/></a>"
      ]
    },
    {
      "cell_type": "code",
      "metadata": {
        "id": "4orraaigKwe0"
      },
      "source": [
        "# ! rm -rf PyTorch-Architectures/\r\n",
        "! git clone https://github.com/vishal-burman/PyTorch-Architectures.git\r\n",
        "%cd PyTorch-Architectures/research/modeling_AutoEncoder/"
      ],
      "execution_count": null,
      "outputs": []
    },
    {
      "cell_type": "code",
      "metadata": {
        "id": "9jusv0ZYLI5G"
      },
      "source": [
        "import time\r\n",
        "import torch\r\n",
        "import torch.nn as nn\r\n",
        "import torch.nn.functional as F\r\n",
        "from torch.utils.data import DataLoader\r\n",
        "from torchvision import datasets, transforms\r\n",
        "\r\n",
        "from model_ae_nni import ConvolutionalAutoEncoder\r\n",
        "\r\n",
        "if torch.cuda.is_available():\r\n",
        "  torch.backends.cudnn.deterministic = True"
      ],
      "execution_count": 2,
      "outputs": []
    },
    {
      "cell_type": "code",
      "metadata": {
        "colab": {
          "base_uri": "https://localhost:8080/",
          "height": 479,
          "referenced_widgets": [
            "1d76e58db7a74e78956aa78c31d80f23",
            "471ad44972624c56a8c575071ce6d23a",
            "7602db002773413bac153d1443f8f652",
            "a175c453510446b999b7e51e761fcf37",
            "1e98ef5f74814b93a761490864258886",
            "66e77e29bda3482b8a4b4214da9a6c39",
            "1899d9ec9f0d468395604ab7c6e8b350",
            "094822c27a97469fb51d2885dc7a8a16",
            "f01e54304bf447209ad82b89df03e470",
            "4f26e52b219044d3af5b67bcbeac46b6",
            "147beab2551e487197d68eb488daf709",
            "5c51694660e648b8b609fff443ad2a4b",
            "2147d6dd876a4a5abfab1bd2c8dd28d9",
            "4c0a188753934fdb80df8f10c58530cc",
            "c6a51b1743dc47e3b25f87481038af30",
            "3b9b9234213448b695db875ee8bf2bd5",
            "4b71d2f171e8480982b4ebf59e059692",
            "7d04fba2de2d4935baf198e2c95f0286",
            "7d0d9f701d7e4ffe8cea0026013778f5",
            "222669a717e0498bafd4d8bfb27de002",
            "0a825155deb34f0880261d6e05b039ee",
            "33742e231ccb453595b4c17205eacfa2",
            "f4e47be83a16407eb4c6c915bd2f404a",
            "66455ffa755747328189246575f27001",
            "82f7ad6d2ea2491ba35a12a42c61cd06",
            "2698c8e30499481393017688f2f2c781",
            "92f72cfeb3d94813bc4df2a7176a9550",
            "0b941aa918cd47939e6b56525cfc6d36",
            "d7d3e04a3a764918ba88937b9a9d61d5",
            "716f515ffc2a4dfaa1ffb64ef2a0dfb8",
            "3600a85b38c949bb854f6b0f7b4295c7",
            "cef4408c2cfa4eb6a0deefc61980226d"
          ]
        },
        "id": "UlyBamwZNdeU",
        "outputId": "d2afb5a8-5a90-46c7-e8a8-38d0cdb3a598"
      },
      "source": [
        "###############\r\n",
        "# Settings\r\n",
        "###############\r\n",
        "\r\n",
        "# Device\r\n",
        "device = torch.device('cuda:0' if torch.cuda.is_available() else 'cpu')\r\n",
        "print('Device: ', device)\r\n",
        "\r\n",
        "# Hyperparameters\r\n",
        "RANDOM_SEED = 456\r\n",
        "LEARNING_RATE = 0.05\r\n",
        "NUM_EPOCHS = 10\r\n",
        "BATCH_SIZE = 128\r\n",
        "\r\n",
        "# MNIST Dataset\r\n",
        "train_dataset = datasets.MNIST(root=\"data\",\r\n",
        "                               train=True,\r\n",
        "                               transform=transforms.ToTensor(),\r\n",
        "                               download=True)\r\n",
        "valid_dataset = datasets.MNIST(root=\"data\",\r\n",
        "                               train=False,\r\n",
        "                               transform=transforms.ToTensor())\r\n",
        "\r\n",
        "train_loader = DataLoader(dataset=train_dataset,\r\n",
        "                          batch_size=BATCH_SIZE,\r\n",
        "                          shuffle=True)\r\n",
        "valid_loader = DataLoader(dataset=valid_dataset,\r\n",
        "                          batch_size=BATCH_SIZE,\r\n",
        "                          shuffle=False)\r\n",
        "\r\n",
        "# Checking the dataset\r\n",
        "for images, labels in train_loader:  \r\n",
        "    print('Image batch dimensions:', images.shape)\r\n",
        "    print('Image label dimensions:', labels.shape)\r\n",
        "    break"
      ],
      "execution_count": 3,
      "outputs": [
        {
          "output_type": "stream",
          "text": [
            "Device:  cpu\n",
            "Downloading http://yann.lecun.com/exdb/mnist/train-images-idx3-ubyte.gz to data/MNIST/raw/train-images-idx3-ubyte.gz\n"
          ],
          "name": "stdout"
        },
        {
          "output_type": "display_data",
          "data": {
            "application/vnd.jupyter.widget-view+json": {
              "model_id": "1d76e58db7a74e78956aa78c31d80f23",
              "version_minor": 0,
              "version_major": 2
            },
            "text/plain": [
              "HBox(children=(FloatProgress(value=1.0, bar_style='info', max=1.0), HTML(value='')))"
            ]
          },
          "metadata": {
            "tags": []
          }
        },
        {
          "output_type": "stream",
          "text": [
            "Extracting data/MNIST/raw/train-images-idx3-ubyte.gz to data/MNIST/raw\n",
            "Downloading http://yann.lecun.com/exdb/mnist/train-labels-idx1-ubyte.gz to data/MNIST/raw/train-labels-idx1-ubyte.gz\n"
          ],
          "name": "stdout"
        },
        {
          "output_type": "display_data",
          "data": {
            "application/vnd.jupyter.widget-view+json": {
              "model_id": "f01e54304bf447209ad82b89df03e470",
              "version_minor": 0,
              "version_major": 2
            },
            "text/plain": [
              "HBox(children=(FloatProgress(value=1.0, bar_style='info', max=1.0), HTML(value='')))"
            ]
          },
          "metadata": {
            "tags": []
          }
        },
        {
          "output_type": "stream",
          "text": [
            "Extracting data/MNIST/raw/train-labels-idx1-ubyte.gz to data/MNIST/raw\n",
            "Downloading http://yann.lecun.com/exdb/mnist/t10k-images-idx3-ubyte.gz to data/MNIST/raw/t10k-images-idx3-ubyte.gz\n",
            "\n"
          ],
          "name": "stdout"
        },
        {
          "output_type": "display_data",
          "data": {
            "application/vnd.jupyter.widget-view+json": {
              "model_id": "4b71d2f171e8480982b4ebf59e059692",
              "version_minor": 0,
              "version_major": 2
            },
            "text/plain": [
              "HBox(children=(FloatProgress(value=1.0, bar_style='info', max=1.0), HTML(value='')))"
            ]
          },
          "metadata": {
            "tags": []
          }
        },
        {
          "output_type": "stream",
          "text": [
            "Extracting data/MNIST/raw/t10k-images-idx3-ubyte.gz to data/MNIST/raw\n",
            "Downloading http://yann.lecun.com/exdb/mnist/t10k-labels-idx1-ubyte.gz to data/MNIST/raw/t10k-labels-idx1-ubyte.gz\n"
          ],
          "name": "stdout"
        },
        {
          "output_type": "display_data",
          "data": {
            "application/vnd.jupyter.widget-view+json": {
              "model_id": "82f7ad6d2ea2491ba35a12a42c61cd06",
              "version_minor": 0,
              "version_major": 2
            },
            "text/plain": [
              "HBox(children=(FloatProgress(value=1.0, bar_style='info', max=1.0), HTML(value='')))"
            ]
          },
          "metadata": {
            "tags": []
          }
        },
        {
          "output_type": "stream",
          "text": [
            "Extracting data/MNIST/raw/t10k-labels-idx1-ubyte.gz to data/MNIST/raw\n",
            "Processing...\n",
            "Done!\n",
            "\n",
            "Image batch dimensions: torch.Size([128, 1, 28, 28])\n",
            "Image label dimensions: torch.Size([128])\n"
          ],
          "name": "stdout"
        },
        {
          "output_type": "stream",
          "text": [
            "/usr/local/lib/python3.6/dist-packages/torchvision/datasets/mnist.py:480: UserWarning: The given NumPy array is not writeable, and PyTorch does not support non-writeable tensors. This means you can write to the underlying (supposedly non-writeable) NumPy array using the tensor. You may want to copy the array to protect its data or make it writeable before converting it to a tensor. This type of warning will be suppressed for the rest of this program. (Triggered internally at  /pytorch/torch/csrc/utils/tensor_numpy.cpp:141.)\n",
            "  return torch.from_numpy(parsed.astype(m[2], copy=False)).view(*s)\n"
          ],
          "name": "stderr"
        }
      ]
    },
    {
      "cell_type": "code",
      "metadata": {
        "colab": {
          "base_uri": "https://localhost:8080/"
        },
        "id": "viyPB-WcPz_M",
        "outputId": "9c281052-24b9-4935-aa47-9d6debd72df6"
      },
      "source": [
        "torch.manual_seed(RANDOM_SEED)\r\n",
        "model = ConvolutionalAutoEncoder()\r\n",
        "model.to(device)"
      ],
      "execution_count": 4,
      "outputs": [
        {
          "output_type": "execute_result",
          "data": {
            "text/plain": [
              "ConvolutionalAutoEncoder(\n",
              "  (conv_1): Conv2d(1, 4, kernel_size=(3, 3), stride=(1, 1), padding=(1, 1))\n",
              "  (pool_1): MaxPool2d(kernel_size=2, stride=2, padding=0, dilation=1, ceil_mode=False)\n",
              "  (conv_2): Conv2d(4, 8, kernel_size=(3, 3), stride=(1, 1), padding=(1, 1))\n",
              "  (pool_2): MaxPool2d(kernel_size=2, stride=2, padding=0, dilation=1, ceil_mode=False)\n",
              "  (conv_3): Conv2d(8, 4, kernel_size=(3, 3), stride=(1, 1), padding=(1, 1))\n",
              "  (conv_4): Conv2d(4, 1, kernel_size=(3, 3), stride=(1, 1), padding=(1, 1))\n",
              ")"
            ]
          },
          "metadata": {
            "tags": []
          },
          "execution_count": 4
        }
      ]
    },
    {
      "cell_type": "code",
      "metadata": {
        "colab": {
          "base_uri": "https://localhost:8080/"
        },
        "id": "pIkfXJisQYQ2",
        "outputId": "10f12e3f-3209-4d68-f2cc-58fd6a271e3d"
      },
      "source": [
        "params = sum(p.numel() for p in model.parameters() if p.requires_grad)\r\n",
        "print('Total Trainable Parameters: ', params)"
      ],
      "execution_count": 5,
      "outputs": [
        {
          "output_type": "stream",
          "text": [
            "Total Trainable Parameters:  665\n"
          ],
          "name": "stdout"
        }
      ]
    },
    {
      "cell_type": "code",
      "metadata": {
        "id": "lRzaC9UwV8i8"
      },
      "source": [
        "optimizer = torch.optim.Adam(model.parameters(), lr=LEARNING_RATE)"
      ],
      "execution_count": 7,
      "outputs": []
    },
    {
      "cell_type": "code",
      "metadata": {
        "colab": {
          "base_uri": "https://localhost:8080/"
        },
        "id": "_yCYuv56REVf",
        "outputId": "688c3327-8e8a-4b68-b283-8882d59565b9"
      },
      "source": [
        "model.train()\r\n",
        "start_time = time.time()\r\n",
        "for epoch in range(NUM_EPOCHS):\r\n",
        "  for idx, (features, labels) in enumerate(train_loader):\r\n",
        "    features = features.to(device)\r\n",
        "\r\n",
        "    logits, decoded = model(features)\r\n",
        "    cost = F.binary_cross_entropy_with_logits(logits, features)\r\n",
        "\r\n",
        "    optimizer.zero_grad()\r\n",
        "    cost.backward()\r\n",
        "    optimizer.step()\r\n",
        "\r\n",
        "    # LOGGING\r\n",
        "    if idx % 50 == 0:\r\n",
        "      print('Epoch: %04d/%04d || Batch: %04d/%04d || Loss: %.2f' % (epoch+1, NUM_EPOCHS, idx, len(train_loader), cost.item()))\r\n",
        "  epoch_elapsed_time = (time.time() - start_time) / 60\r\n",
        "  print('Epoch Elapsed Time: %.2f min' % (epoch_elapsed_time))\r\n",
        "total_training_time = (time.time() - start_time) / 60\r\n",
        "print('Total Training Time: %.2f min' % (total_training_time))"
      ],
      "execution_count": 8,
      "outputs": [
        {
          "output_type": "stream",
          "text": [
            "Epoch: 0001/0010 || Batch: 0000/0469 || Loss: 0.70\n",
            "Epoch: 0001/0010 || Batch: 0050/0469 || Loss: 0.18\n",
            "Epoch: 0001/0010 || Batch: 0100/0469 || Loss: 0.15\n",
            "Epoch: 0001/0010 || Batch: 0150/0469 || Loss: 0.13\n",
            "Epoch: 0001/0010 || Batch: 0200/0469 || Loss: 0.12\n",
            "Epoch: 0001/0010 || Batch: 0250/0469 || Loss: 0.11\n",
            "Epoch: 0001/0010 || Batch: 0300/0469 || Loss: 0.11\n",
            "Epoch: 0001/0010 || Batch: 0350/0469 || Loss: 0.11\n",
            "Epoch: 0001/0010 || Batch: 0400/0469 || Loss: 0.11\n",
            "Epoch: 0001/0010 || Batch: 0450/0469 || Loss: 0.11\n",
            "Epoch Elapsed Time: 0.45 min\n",
            "Epoch: 0002/0010 || Batch: 0000/0469 || Loss: 0.10\n",
            "Epoch: 0002/0010 || Batch: 0050/0469 || Loss: 0.10\n",
            "Epoch: 0002/0010 || Batch: 0100/0469 || Loss: 0.10\n",
            "Epoch: 0002/0010 || Batch: 0150/0469 || Loss: 0.10\n",
            "Epoch: 0002/0010 || Batch: 0200/0469 || Loss: 0.10\n",
            "Epoch: 0002/0010 || Batch: 0250/0469 || Loss: 0.10\n",
            "Epoch: 0002/0010 || Batch: 0300/0469 || Loss: 0.09\n",
            "Epoch: 0002/0010 || Batch: 0350/0469 || Loss: 0.10\n",
            "Epoch: 0002/0010 || Batch: 0400/0469 || Loss: 0.10\n",
            "Epoch: 0002/0010 || Batch: 0450/0469 || Loss: 0.10\n",
            "Epoch Elapsed Time: 0.90 min\n",
            "Epoch: 0003/0010 || Batch: 0000/0469 || Loss: 0.10\n",
            "Epoch: 0003/0010 || Batch: 0050/0469 || Loss: 0.09\n",
            "Epoch: 0003/0010 || Batch: 0100/0469 || Loss: 0.10\n",
            "Epoch: 0003/0010 || Batch: 0150/0469 || Loss: 0.09\n",
            "Epoch: 0003/0010 || Batch: 0200/0469 || Loss: 0.10\n",
            "Epoch: 0003/0010 || Batch: 0250/0469 || Loss: 0.10\n",
            "Epoch: 0003/0010 || Batch: 0300/0469 || Loss: 0.10\n",
            "Epoch: 0003/0010 || Batch: 0350/0469 || Loss: 0.09\n",
            "Epoch: 0003/0010 || Batch: 0400/0469 || Loss: 0.10\n",
            "Epoch: 0003/0010 || Batch: 0450/0469 || Loss: 0.10\n",
            "Epoch Elapsed Time: 1.35 min\n",
            "Epoch: 0004/0010 || Batch: 0000/0469 || Loss: 0.10\n",
            "Epoch: 0004/0010 || Batch: 0050/0469 || Loss: 0.10\n",
            "Epoch: 0004/0010 || Batch: 0100/0469 || Loss: 0.10\n",
            "Epoch: 0004/0010 || Batch: 0150/0469 || Loss: 0.09\n",
            "Epoch: 0004/0010 || Batch: 0200/0469 || Loss: 0.10\n",
            "Epoch: 0004/0010 || Batch: 0250/0469 || Loss: 0.10\n",
            "Epoch: 0004/0010 || Batch: 0300/0469 || Loss: 0.09\n",
            "Epoch: 0004/0010 || Batch: 0350/0469 || Loss: 0.09\n",
            "Epoch: 0004/0010 || Batch: 0400/0469 || Loss: 0.10\n",
            "Epoch: 0004/0010 || Batch: 0450/0469 || Loss: 0.09\n",
            "Epoch Elapsed Time: 1.80 min\n",
            "Epoch: 0005/0010 || Batch: 0000/0469 || Loss: 0.10\n",
            "Epoch: 0005/0010 || Batch: 0050/0469 || Loss: 0.10\n",
            "Epoch: 0005/0010 || Batch: 0100/0469 || Loss: 0.10\n",
            "Epoch: 0005/0010 || Batch: 0150/0469 || Loss: 0.09\n",
            "Epoch: 0005/0010 || Batch: 0200/0469 || Loss: 0.09\n",
            "Epoch: 0005/0010 || Batch: 0250/0469 || Loss: 0.09\n",
            "Epoch: 0005/0010 || Batch: 0300/0469 || Loss: 0.09\n",
            "Epoch: 0005/0010 || Batch: 0350/0469 || Loss: 0.10\n",
            "Epoch: 0005/0010 || Batch: 0400/0469 || Loss: 0.09\n",
            "Epoch: 0005/0010 || Batch: 0450/0469 || Loss: 0.10\n",
            "Epoch Elapsed Time: 2.25 min\n",
            "Epoch: 0006/0010 || Batch: 0000/0469 || Loss: 0.09\n",
            "Epoch: 0006/0010 || Batch: 0050/0469 || Loss: 0.09\n",
            "Epoch: 0006/0010 || Batch: 0100/0469 || Loss: 0.09\n",
            "Epoch: 0006/0010 || Batch: 0150/0469 || Loss: 0.09\n",
            "Epoch: 0006/0010 || Batch: 0200/0469 || Loss: 0.09\n",
            "Epoch: 0006/0010 || Batch: 0250/0469 || Loss: 0.09\n",
            "Epoch: 0006/0010 || Batch: 0300/0469 || Loss: 0.09\n",
            "Epoch: 0006/0010 || Batch: 0350/0469 || Loss: 0.10\n",
            "Epoch: 0006/0010 || Batch: 0400/0469 || Loss: 0.09\n",
            "Epoch: 0006/0010 || Batch: 0450/0469 || Loss: 0.09\n",
            "Epoch Elapsed Time: 2.70 min\n",
            "Epoch: 0007/0010 || Batch: 0000/0469 || Loss: 0.09\n",
            "Epoch: 0007/0010 || Batch: 0050/0469 || Loss: 0.09\n",
            "Epoch: 0007/0010 || Batch: 0100/0469 || Loss: 0.09\n",
            "Epoch: 0007/0010 || Batch: 0150/0469 || Loss: 0.10\n",
            "Epoch: 0007/0010 || Batch: 0200/0469 || Loss: 0.09\n",
            "Epoch: 0007/0010 || Batch: 0250/0469 || Loss: 0.10\n",
            "Epoch: 0007/0010 || Batch: 0300/0469 || Loss: 0.09\n",
            "Epoch: 0007/0010 || Batch: 0350/0469 || Loss: 0.09\n",
            "Epoch: 0007/0010 || Batch: 0400/0469 || Loss: 0.09\n",
            "Epoch: 0007/0010 || Batch: 0450/0469 || Loss: 0.10\n",
            "Epoch Elapsed Time: 3.15 min\n",
            "Epoch: 0008/0010 || Batch: 0000/0469 || Loss: 0.09\n",
            "Epoch: 0008/0010 || Batch: 0050/0469 || Loss: 0.09\n",
            "Epoch: 0008/0010 || Batch: 0100/0469 || Loss: 0.09\n",
            "Epoch: 0008/0010 || Batch: 0150/0469 || Loss: 0.09\n",
            "Epoch: 0008/0010 || Batch: 0200/0469 || Loss: 0.10\n",
            "Epoch: 0008/0010 || Batch: 0250/0469 || Loss: 0.09\n",
            "Epoch: 0008/0010 || Batch: 0300/0469 || Loss: 0.09\n",
            "Epoch: 0008/0010 || Batch: 0350/0469 || Loss: 0.09\n",
            "Epoch: 0008/0010 || Batch: 0400/0469 || Loss: 0.09\n",
            "Epoch: 0008/0010 || Batch: 0450/0469 || Loss: 0.09\n",
            "Epoch Elapsed Time: 3.61 min\n",
            "Epoch: 0009/0010 || Batch: 0000/0469 || Loss: 0.09\n",
            "Epoch: 0009/0010 || Batch: 0050/0469 || Loss: 0.09\n",
            "Epoch: 0009/0010 || Batch: 0100/0469 || Loss: 0.09\n",
            "Epoch: 0009/0010 || Batch: 0150/0469 || Loss: 0.09\n",
            "Epoch: 0009/0010 || Batch: 0200/0469 || Loss: 0.09\n",
            "Epoch: 0009/0010 || Batch: 0250/0469 || Loss: 0.10\n",
            "Epoch: 0009/0010 || Batch: 0300/0469 || Loss: 0.09\n",
            "Epoch: 0009/0010 || Batch: 0350/0469 || Loss: 0.09\n",
            "Epoch: 0009/0010 || Batch: 0400/0469 || Loss: 0.09\n",
            "Epoch: 0009/0010 || Batch: 0450/0469 || Loss: 0.09\n",
            "Epoch Elapsed Time: 4.06 min\n",
            "Epoch: 0010/0010 || Batch: 0000/0469 || Loss: 0.09\n",
            "Epoch: 0010/0010 || Batch: 0050/0469 || Loss: 0.09\n",
            "Epoch: 0010/0010 || Batch: 0100/0469 || Loss: 0.09\n",
            "Epoch: 0010/0010 || Batch: 0150/0469 || Loss: 0.09\n",
            "Epoch: 0010/0010 || Batch: 0200/0469 || Loss: 0.09\n",
            "Epoch: 0010/0010 || Batch: 0250/0469 || Loss: 0.09\n",
            "Epoch: 0010/0010 || Batch: 0300/0469 || Loss: 0.09\n",
            "Epoch: 0010/0010 || Batch: 0350/0469 || Loss: 0.09\n",
            "Epoch: 0010/0010 || Batch: 0400/0469 || Loss: 0.09\n",
            "Epoch: 0010/0010 || Batch: 0450/0469 || Loss: 0.09\n",
            "Epoch Elapsed Time: 4.51 min\n",
            "Total Training Time: 4.51 min\n"
          ],
          "name": "stdout"
        }
      ]
    },
    {
      "cell_type": "code",
      "metadata": {
        "colab": {
          "base_uri": "https://localhost:8080/",
          "height": 187
        },
        "id": "vMSXyUclV7FX",
        "outputId": "322cba7e-3335-4f00-9cf6-8cfbea3ec342"
      },
      "source": [
        "%matplotlib inline\r\n",
        "import matplotlib.pyplot as plt\r\n",
        "\r\n",
        "##########################\r\n",
        "### VISUALIZATION\r\n",
        "##########################\r\n",
        "\r\n",
        "n_images = 15\r\n",
        "image_width = 28\r\n",
        "\r\n",
        "fig, axes = plt.subplots(nrows=2, ncols=n_images, \r\n",
        "                         sharex=True, sharey=True, figsize=(20, 2.5))\r\n",
        "orig_images = features[:n_images]\r\n",
        "decoded_images = decoded[:n_images]\r\n",
        "\r\n",
        "for i in range(n_images):\r\n",
        "    for ax, img in zip(axes, [orig_images, decoded_images]):\r\n",
        "        curr_img = img[i].detach().to(torch.device('cpu'))\r\n",
        "        ax[i].imshow(curr_img.view((image_width, image_width)), cmap='binary')"
      ],
      "execution_count": 9,
      "outputs": [
        {
          "output_type": "display_data",
          "data": {
            "image/png": "[encoded data removed]",
            "text/plain": [
              "<Figure size 1440x180 with 30 Axes>"
            ]
          },
          "metadata": {
            "tags": [],
            "needs_background": "light"
          }
        }
      ]
    },
    {
      "cell_type": "code",
      "metadata": {
        "id": "xUw6f3kbXGuk"
      },
      "source": [
        ""
      ],
      "execution_count": null,
      "outputs": []
    }
  ]
}