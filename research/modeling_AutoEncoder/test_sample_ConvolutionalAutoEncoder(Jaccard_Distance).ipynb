{
  "nbformat": 4,
  "nbformat_minor": 0,
  "metadata": {
    "colab": {
      "name": "test_sample_ConvolutionalAutoEncoder(Jaccard Distance).ipynb",
      "provenance": [],
      "collapsed_sections": [],
      "authorship_tag": "ABX9TyONnIRKkFLpfdg0lZlcBUx3",
      "include_colab_link": true
    },
    "kernelspec": {
      "name": "python3",
      "display_name": "Python 3"
    },
    "widgets": {
      "application/vnd.jupyter.widget-state+json": {
        "a492d6d838d24708a0ddc7a58a95d6ce": {
          "model_module": "@jupyter-widgets/controls",
          "model_name": "HBoxModel",
          "state": {
            "_view_name": "HBoxView",
            "_dom_classes": [],
            "_model_name": "HBoxModel",
            "_view_module": "@jupyter-widgets/controls",
            "_model_module_version": "1.5.0",
            "_view_count": null,
            "_view_module_version": "1.5.0",
            "box_style": "",
            "layout": "IPY_MODEL_49a6c00532094aa4bc085553ba0332bd",
            "_model_module": "@jupyter-widgets/controls",
            "children": [
              "IPY_MODEL_4c0432edccd04396abcde4316a8c4cc7",
              "IPY_MODEL_f5e3952b75d44a14917266fb9e04feaa"
            ]
          }
        },
        "49a6c00532094aa4bc085553ba0332bd": {
          "model_module": "@jupyter-widgets/base",
          "model_name": "LayoutModel",
          "state": {
            "_view_name": "LayoutView",
            "grid_template_rows": null,
            "right": null,
            "justify_content": null,
            "_view_module": "@jupyter-widgets/base",
            "overflow": null,
            "_model_module_version": "1.2.0",
            "_view_count": null,
            "flex_flow": null,
            "width": null,
            "min_width": null,
            "border": null,
            "align_items": null,
            "bottom": null,
            "_model_module": "@jupyter-widgets/base",
            "top": null,
            "grid_column": null,
            "overflow_y": null,
            "overflow_x": null,
            "grid_auto_flow": null,
            "grid_area": null,
            "grid_template_columns": null,
            "flex": null,
            "_model_name": "LayoutModel",
            "justify_items": null,
            "grid_row": null,
            "max_height": null,
            "align_content": null,
            "visibility": null,
            "align_self": null,
            "height": null,
            "min_height": null,
            "padding": null,
            "grid_auto_rows": null,
            "grid_gap": null,
            "max_width": null,
            "order": null,
            "_view_module_version": "1.2.0",
            "grid_template_areas": null,
            "object_position": null,
            "object_fit": null,
            "grid_auto_columns": null,
            "margin": null,
            "display": null,
            "left": null
          }
        },
        "4c0432edccd04396abcde4316a8c4cc7": {
          "model_module": "@jupyter-widgets/controls",
          "model_name": "FloatProgressModel",
          "state": {
            "_view_name": "ProgressView",
            "style": "IPY_MODEL_d50307c0e2bb474cb9272a96e7f0aff5",
            "_dom_classes": [],
            "description": "",
            "_model_name": "FloatProgressModel",
            "bar_style": "info",
            "max": 1,
            "_view_module": "@jupyter-widgets/controls",
            "_model_module_version": "1.5.0",
            "value": 1,
            "_view_count": null,
            "_view_module_version": "1.5.0",
            "orientation": "horizontal",
            "min": 0,
            "description_tooltip": null,
            "_model_module": "@jupyter-widgets/controls",
            "layout": "IPY_MODEL_6577468535fc4b8bb579a66923261a37"
          }
        },
        "f5e3952b75d44a14917266fb9e04feaa": {
          "model_module": "@jupyter-widgets/controls",
          "model_name": "HTMLModel",
          "state": {
            "_view_name": "HTMLView",
            "style": "IPY_MODEL_22655bc25a7e46dfa64a793744acffc5",
            "_dom_classes": [],
            "description": "",
            "_model_name": "HTMLModel",
            "placeholder": "​",
            "_view_module": "@jupyter-widgets/controls",
            "_model_module_version": "1.5.0",
            "value": " 9920512/? [00:20&lt;00:00, 16918366.81it/s]",
            "_view_count": null,
            "_view_module_version": "1.5.0",
            "description_tooltip": null,
            "_model_module": "@jupyter-widgets/controls",
            "layout": "IPY_MODEL_7b002f701ce74a748a9e1a9ada8e78e6"
          }
        },
        "d50307c0e2bb474cb9272a96e7f0aff5": {
          "model_module": "@jupyter-widgets/controls",
          "model_name": "ProgressStyleModel",
          "state": {
            "_view_name": "StyleView",
            "_model_name": "ProgressStyleModel",
            "description_width": "initial",
            "_view_module": "@jupyter-widgets/base",
            "_model_module_version": "1.5.0",
            "_view_count": null,
            "_view_module_version": "1.2.0",
            "bar_color": null,
            "_model_module": "@jupyter-widgets/controls"
          }
        },
        "6577468535fc4b8bb579a66923261a37": {
          "model_module": "@jupyter-widgets/base",
          "model_name": "LayoutModel",
          "state": {
            "_view_name": "LayoutView",
            "grid_template_rows": null,
            "right": null,
            "justify_content": null,
            "_view_module": "@jupyter-widgets/base",
            "overflow": null,
            "_model_module_version": "1.2.0",
            "_view_count": null,
            "flex_flow": null,
            "width": null,
            "min_width": null,
            "border": null,
            "align_items": null,
            "bottom": null,
            "_model_module": "@jupyter-widgets/base",
            "top": null,
            "grid_column": null,
            "overflow_y": null,
            "overflow_x": null,
            "grid_auto_flow": null,
            "grid_area": null,
            "grid_template_columns": null,
            "flex": null,
            "_model_name": "LayoutModel",
            "justify_items": null,
            "grid_row": null,
            "max_height": null,
            "align_content": null,
            "visibility": null,
            "align_self": null,
            "height": null,
            "min_height": null,
            "padding": null,
            "grid_auto_rows": null,
            "grid_gap": null,
            "max_width": null,
            "order": null,
            "_view_module_version": "1.2.0",
            "grid_template_areas": null,
            "object_position": null,
            "object_fit": null,
            "grid_auto_columns": null,
            "margin": null,
            "display": null,
            "left": null
          }
        },
        "22655bc25a7e46dfa64a793744acffc5": {
          "model_module": "@jupyter-widgets/controls",
          "model_name": "DescriptionStyleModel",
          "state": {
            "_view_name": "StyleView",
            "_model_name": "DescriptionStyleModel",
            "description_width": "",
            "_view_module": "@jupyter-widgets/base",
            "_model_module_version": "1.5.0",
            "_view_count": null,
            "_view_module_version": "1.2.0",
            "_model_module": "@jupyter-widgets/controls"
          }
        },
        "7b002f701ce74a748a9e1a9ada8e78e6": {
          "model_module": "@jupyter-widgets/base",
          "model_name": "LayoutModel",
          "state": {
            "_view_name": "LayoutView",
            "grid_template_rows": null,
            "right": null,
            "justify_content": null,
            "_view_module": "@jupyter-widgets/base",
            "overflow": null,
            "_model_module_version": "1.2.0",
            "_view_count": null,
            "flex_flow": null,
            "width": null,
            "min_width": null,
            "border": null,
            "align_items": null,
            "bottom": null,
            "_model_module": "@jupyter-widgets/base",
            "top": null,
            "grid_column": null,
            "overflow_y": null,
            "overflow_x": null,
            "grid_auto_flow": null,
            "grid_area": null,
            "grid_template_columns": null,
            "flex": null,
            "_model_name": "LayoutModel",
            "justify_items": null,
            "grid_row": null,
            "max_height": null,
            "align_content": null,
            "visibility": null,
            "align_self": null,
            "height": null,
            "min_height": null,
            "padding": null,
            "grid_auto_rows": null,
            "grid_gap": null,
            "max_width": null,
            "order": null,
            "_view_module_version": "1.2.0",
            "grid_template_areas": null,
            "object_position": null,
            "object_fit": null,
            "grid_auto_columns": null,
            "margin": null,
            "display": null,
            "left": null
          }
        },
        "d7b755ed462f4c398169fc89ed4e5c7e": {
          "model_module": "@jupyter-widgets/controls",
          "model_name": "HBoxModel",
          "state": {
            "_view_name": "HBoxView",
            "_dom_classes": [],
            "_model_name": "HBoxModel",
            "_view_module": "@jupyter-widgets/controls",
            "_model_module_version": "1.5.0",
            "_view_count": null,
            "_view_module_version": "1.5.0",
            "box_style": "",
            "layout": "IPY_MODEL_099f9ef504944d9bac569590dbe8c01d",
            "_model_module": "@jupyter-widgets/controls",
            "children": [
              "IPY_MODEL_dd894103fa0846b0a7a233cca369db5d",
              "IPY_MODEL_ff002806211641088e3a43fb4e8e7f10"
            ]
          }
        },
        "099f9ef504944d9bac569590dbe8c01d": {
          "model_module": "@jupyter-widgets/base",
          "model_name": "LayoutModel",
          "state": {
            "_view_name": "LayoutView",
            "grid_template_rows": null,
            "right": null,
            "justify_content": null,
            "_view_module": "@jupyter-widgets/base",
            "overflow": null,
            "_model_module_version": "1.2.0",
            "_view_count": null,
            "flex_flow": null,
            "width": null,
            "min_width": null,
            "border": null,
            "align_items": null,
            "bottom": null,
            "_model_module": "@jupyter-widgets/base",
            "top": null,
            "grid_column": null,
            "overflow_y": null,
            "overflow_x": null,
            "grid_auto_flow": null,
            "grid_area": null,
            "grid_template_columns": null,
            "flex": null,
            "_model_name": "LayoutModel",
            "justify_items": null,
            "grid_row": null,
            "max_height": null,
            "align_content": null,
            "visibility": null,
            "align_self": null,
            "height": null,
            "min_height": null,
            "padding": null,
            "grid_auto_rows": null,
            "grid_gap": null,
            "max_width": null,
            "order": null,
            "_view_module_version": "1.2.0",
            "grid_template_areas": null,
            "object_position": null,
            "object_fit": null,
            "grid_auto_columns": null,
            "margin": null,
            "display": null,
            "left": null
          }
        },
        "dd894103fa0846b0a7a233cca369db5d": {
          "model_module": "@jupyter-widgets/controls",
          "model_name": "FloatProgressModel",
          "state": {
            "_view_name": "ProgressView",
            "style": "IPY_MODEL_a21e0604799b404493e3f160af22fad9",
            "_dom_classes": [],
            "description": "",
            "_model_name": "FloatProgressModel",
            "bar_style": "success",
            "max": 1,
            "_view_module": "@jupyter-widgets/controls",
            "_model_module_version": "1.5.0",
            "value": 1,
            "_view_count": null,
            "_view_module_version": "1.5.0",
            "orientation": "horizontal",
            "min": 0,
            "description_tooltip": null,
            "_model_module": "@jupyter-widgets/controls",
            "layout": "IPY_MODEL_1776f19a5ecf489699d37af6f185f8fa"
          }
        },
        "ff002806211641088e3a43fb4e8e7f10": {
          "model_module": "@jupyter-widgets/controls",
          "model_name": "HTMLModel",
          "state": {
            "_view_name": "HTMLView",
            "style": "IPY_MODEL_bd8d2589020043479717d038ccfccc37",
            "_dom_classes": [],
            "description": "",
            "_model_name": "HTMLModel",
            "placeholder": "​",
            "_view_module": "@jupyter-widgets/controls",
            "_model_module_version": "1.5.0",
            "value": " 32768/? [00:00&lt;00:00, 77249.83it/s]",
            "_view_count": null,
            "_view_module_version": "1.5.0",
            "description_tooltip": null,
            "_model_module": "@jupyter-widgets/controls",
            "layout": "IPY_MODEL_34dc5b61f2664c7c9506b45c92b93113"
          }
        },
        "a21e0604799b404493e3f160af22fad9": {
          "model_module": "@jupyter-widgets/controls",
          "model_name": "ProgressStyleModel",
          "state": {
            "_view_name": "StyleView",
            "_model_name": "ProgressStyleModel",
            "description_width": "initial",
            "_view_module": "@jupyter-widgets/base",
            "_model_module_version": "1.5.0",
            "_view_count": null,
            "_view_module_version": "1.2.0",
            "bar_color": null,
            "_model_module": "@jupyter-widgets/controls"
          }
        },
        "1776f19a5ecf489699d37af6f185f8fa": {
          "model_module": "@jupyter-widgets/base",
          "model_name": "LayoutModel",
          "state": {
            "_view_name": "LayoutView",
            "grid_template_rows": null,
            "right": null,
            "justify_content": null,
            "_view_module": "@jupyter-widgets/base",
            "overflow": null,
            "_model_module_version": "1.2.0",
            "_view_count": null,
            "flex_flow": null,
            "width": null,
            "min_width": null,
            "border": null,
            "align_items": null,
            "bottom": null,
            "_model_module": "@jupyter-widgets/base",
            "top": null,
            "grid_column": null,
            "overflow_y": null,
            "overflow_x": null,
            "grid_auto_flow": null,
            "grid_area": null,
            "grid_template_columns": null,
            "flex": null,
            "_model_name": "LayoutModel",
            "justify_items": null,
            "grid_row": null,
            "max_height": null,
            "align_content": null,
            "visibility": null,
            "align_self": null,
            "height": null,
            "min_height": null,
            "padding": null,
            "grid_auto_rows": null,
            "grid_gap": null,
            "max_width": null,
            "order": null,
            "_view_module_version": "1.2.0",
            "grid_template_areas": null,
            "object_position": null,
            "object_fit": null,
            "grid_auto_columns": null,
            "margin": null,
            "display": null,
            "left": null
          }
        },
        "bd8d2589020043479717d038ccfccc37": {
          "model_module": "@jupyter-widgets/controls",
          "model_name": "DescriptionStyleModel",
          "state": {
            "_view_name": "StyleView",
            "_model_name": "DescriptionStyleModel",
            "description_width": "",
            "_view_module": "@jupyter-widgets/base",
            "_model_module_version": "1.5.0",
            "_view_count": null,
            "_view_module_version": "1.2.0",
            "_model_module": "@jupyter-widgets/controls"
          }
        },
        "34dc5b61f2664c7c9506b45c92b93113": {
          "model_module": "@jupyter-widgets/base",
          "model_name": "LayoutModel",
          "state": {
            "_view_name": "LayoutView",
            "grid_template_rows": null,
            "right": null,
            "justify_content": null,
            "_view_module": "@jupyter-widgets/base",
            "overflow": null,
            "_model_module_version": "1.2.0",
            "_view_count": null,
            "flex_flow": null,
            "width": null,
            "min_width": null,
            "border": null,
            "align_items": null,
            "bottom": null,
            "_model_module": "@jupyter-widgets/base",
            "top": null,
            "grid_column": null,
            "overflow_y": null,
            "overflow_x": null,
            "grid_auto_flow": null,
            "grid_area": null,
            "grid_template_columns": null,
            "flex": null,
            "_model_name": "LayoutModel",
            "justify_items": null,
            "grid_row": null,
            "max_height": null,
            "align_content": null,
            "visibility": null,
            "align_self": null,
            "height": null,
            "min_height": null,
            "padding": null,
            "grid_auto_rows": null,
            "grid_gap": null,
            "max_width": null,
            "order": null,
            "_view_module_version": "1.2.0",
            "grid_template_areas": null,
            "object_position": null,
            "object_fit": null,
            "grid_auto_columns": null,
            "margin": null,
            "display": null,
            "left": null
          }
        },
        "18063a391b8e4e7f8ac5c11f3f695a1f": {
          "model_module": "@jupyter-widgets/controls",
          "model_name": "HBoxModel",
          "state": {
            "_view_name": "HBoxView",
            "_dom_classes": [],
            "_model_name": "HBoxModel",
            "_view_module": "@jupyter-widgets/controls",
            "_model_module_version": "1.5.0",
            "_view_count": null,
            "_view_module_version": "1.5.0",
            "box_style": "",
            "layout": "IPY_MODEL_dfa37f1662594f54858653c17cd4d680",
            "_model_module": "@jupyter-widgets/controls",
            "children": [
              "IPY_MODEL_8214462bcb0043538d7b3017fd21a2cd",
              "IPY_MODEL_042f651b31994143ae2b1c8a745079d7"
            ]
          }
        },
        "dfa37f1662594f54858653c17cd4d680": {
          "model_module": "@jupyter-widgets/base",
          "model_name": "LayoutModel",
          "state": {
            "_view_name": "LayoutView",
            "grid_template_rows": null,
            "right": null,
            "justify_content": null,
            "_view_module": "@jupyter-widgets/base",
            "overflow": null,
            "_model_module_version": "1.2.0",
            "_view_count": null,
            "flex_flow": null,
            "width": null,
            "min_width": null,
            "border": null,
            "align_items": null,
            "bottom": null,
            "_model_module": "@jupyter-widgets/base",
            "top": null,
            "grid_column": null,
            "overflow_y": null,
            "overflow_x": null,
            "grid_auto_flow": null,
            "grid_area": null,
            "grid_template_columns": null,
            "flex": null,
            "_model_name": "LayoutModel",
            "justify_items": null,
            "grid_row": null,
            "max_height": null,
            "align_content": null,
            "visibility": null,
            "align_self": null,
            "height": null,
            "min_height": null,
            "padding": null,
            "grid_auto_rows": null,
            "grid_gap": null,
            "max_width": null,
            "order": null,
            "_view_module_version": "1.2.0",
            "grid_template_areas": null,
            "object_position": null,
            "object_fit": null,
            "grid_auto_columns": null,
            "margin": null,
            "display": null,
            "left": null
          }
        },
        "8214462bcb0043538d7b3017fd21a2cd": {
          "model_module": "@jupyter-widgets/controls",
          "model_name": "FloatProgressModel",
          "state": {
            "_view_name": "ProgressView",
            "style": "IPY_MODEL_f0093d09b36243ee96aabd01b8490fc3",
            "_dom_classes": [],
            "description": "",
            "_model_name": "FloatProgressModel",
            "bar_style": "success",
            "max": 1,
            "_view_module": "@jupyter-widgets/controls",
            "_model_module_version": "1.5.0",
            "value": 1,
            "_view_count": null,
            "_view_module_version": "1.5.0",
            "orientation": "horizontal",
            "min": 0,
            "description_tooltip": null,
            "_model_module": "@jupyter-widgets/controls",
            "layout": "IPY_MODEL_53e8bf76c66443c0b9d4c207835e5bb5"
          }
        },
        "042f651b31994143ae2b1c8a745079d7": {
          "model_module": "@jupyter-widgets/controls",
          "model_name": "HTMLModel",
          "state": {
            "_view_name": "HTMLView",
            "style": "IPY_MODEL_1235dcfb8065429f84b951a9314d43f2",
            "_dom_classes": [],
            "description": "",
            "_model_name": "HTMLModel",
            "placeholder": "​",
            "_view_module": "@jupyter-widgets/controls",
            "_model_module_version": "1.5.0",
            "value": " 1654784/? [00:00&lt;00:00, 5470170.46it/s]",
            "_view_count": null,
            "_view_module_version": "1.5.0",
            "description_tooltip": null,
            "_model_module": "@jupyter-widgets/controls",
            "layout": "IPY_MODEL_2bebb9ad18db4c5cb8105e9fa0eaac15"
          }
        },
        "f0093d09b36243ee96aabd01b8490fc3": {
          "model_module": "@jupyter-widgets/controls",
          "model_name": "ProgressStyleModel",
          "state": {
            "_view_name": "StyleView",
            "_model_name": "ProgressStyleModel",
            "description_width": "initial",
            "_view_module": "@jupyter-widgets/base",
            "_model_module_version": "1.5.0",
            "_view_count": null,
            "_view_module_version": "1.2.0",
            "bar_color": null,
            "_model_module": "@jupyter-widgets/controls"
          }
        },
        "53e8bf76c66443c0b9d4c207835e5bb5": {
          "model_module": "@jupyter-widgets/base",
          "model_name": "LayoutModel",
          "state": {
            "_view_name": "LayoutView",
            "grid_template_rows": null,
            "right": null,
            "justify_content": null,
            "_view_module": "@jupyter-widgets/base",
            "overflow": null,
            "_model_module_version": "1.2.0",
            "_view_count": null,
            "flex_flow": null,
            "width": null,
            "min_width": null,
            "border": null,
            "align_items": null,
            "bottom": null,
            "_model_module": "@jupyter-widgets/base",
            "top": null,
            "grid_column": null,
            "overflow_y": null,
            "overflow_x": null,
            "grid_auto_flow": null,
            "grid_area": null,
            "grid_template_columns": null,
            "flex": null,
            "_model_name": "LayoutModel",
            "justify_items": null,
            "grid_row": null,
            "max_height": null,
            "align_content": null,
            "visibility": null,
            "align_self": null,
            "height": null,
            "min_height": null,
            "padding": null,
            "grid_auto_rows": null,
            "grid_gap": null,
            "max_width": null,
            "order": null,
            "_view_module_version": "1.2.0",
            "grid_template_areas": null,
            "object_position": null,
            "object_fit": null,
            "grid_auto_columns": null,
            "margin": null,
            "display": null,
            "left": null
          }
        },
        "1235dcfb8065429f84b951a9314d43f2": {
          "model_module": "@jupyter-widgets/controls",
          "model_name": "DescriptionStyleModel",
          "state": {
            "_view_name": "StyleView",
            "_model_name": "DescriptionStyleModel",
            "description_width": "",
            "_view_module": "@jupyter-widgets/base",
            "_model_module_version": "1.5.0",
            "_view_count": null,
            "_view_module_version": "1.2.0",
            "_model_module": "@jupyter-widgets/controls"
          }
        },
        "2bebb9ad18db4c5cb8105e9fa0eaac15": {
          "model_module": "@jupyter-widgets/base",
          "model_name": "LayoutModel",
          "state": {
            "_view_name": "LayoutView",
            "grid_template_rows": null,
            "right": null,
            "justify_content": null,
            "_view_module": "@jupyter-widgets/base",
            "overflow": null,
            "_model_module_version": "1.2.0",
            "_view_count": null,
            "flex_flow": null,
            "width": null,
            "min_width": null,
            "border": null,
            "align_items": null,
            "bottom": null,
            "_model_module": "@jupyter-widgets/base",
            "top": null,
            "grid_column": null,
            "overflow_y": null,
            "overflow_x": null,
            "grid_auto_flow": null,
            "grid_area": null,
            "grid_template_columns": null,
            "flex": null,
            "_model_name": "LayoutModel",
            "justify_items": null,
            "grid_row": null,
            "max_height": null,
            "align_content": null,
            "visibility": null,
            "align_self": null,
            "height": null,
            "min_height": null,
            "padding": null,
            "grid_auto_rows": null,
            "grid_gap": null,
            "max_width": null,
            "order": null,
            "_view_module_version": "1.2.0",
            "grid_template_areas": null,
            "object_position": null,
            "object_fit": null,
            "grid_auto_columns": null,
            "margin": null,
            "display": null,
            "left": null
          }
        },
        "7b4ee4ba8eaa4fbd9044365c5d973a3f": {
          "model_module": "@jupyter-widgets/controls",
          "model_name": "HBoxModel",
          "state": {
            "_view_name": "HBoxView",
            "_dom_classes": [],
            "_model_name": "HBoxModel",
            "_view_module": "@jupyter-widgets/controls",
            "_model_module_version": "1.5.0",
            "_view_count": null,
            "_view_module_version": "1.5.0",
            "box_style": "",
            "layout": "IPY_MODEL_67f78aed459f4cd38fbdc1e37c921f0b",
            "_model_module": "@jupyter-widgets/controls",
            "children": [
              "IPY_MODEL_72093265cbbd412c9cf341c097ae4e33",
              "IPY_MODEL_e81d554a23ab40d7b998e0f6494cd564"
            ]
          }
        },
        "67f78aed459f4cd38fbdc1e37c921f0b": {
          "model_module": "@jupyter-widgets/base",
          "model_name": "LayoutModel",
          "state": {
            "_view_name": "LayoutView",
            "grid_template_rows": null,
            "right": null,
            "justify_content": null,
            "_view_module": "@jupyter-widgets/base",
            "overflow": null,
            "_model_module_version": "1.2.0",
            "_view_count": null,
            "flex_flow": null,
            "width": null,
            "min_width": null,
            "border": null,
            "align_items": null,
            "bottom": null,
            "_model_module": "@jupyter-widgets/base",
            "top": null,
            "grid_column": null,
            "overflow_y": null,
            "overflow_x": null,
            "grid_auto_flow": null,
            "grid_area": null,
            "grid_template_columns": null,
            "flex": null,
            "_model_name": "LayoutModel",
            "justify_items": null,
            "grid_row": null,
            "max_height": null,
            "align_content": null,
            "visibility": null,
            "align_self": null,
            "height": null,
            "min_height": null,
            "padding": null,
            "grid_auto_rows": null,
            "grid_gap": null,
            "max_width": null,
            "order": null,
            "_view_module_version": "1.2.0",
            "grid_template_areas": null,
            "object_position": null,
            "object_fit": null,
            "grid_auto_columns": null,
            "margin": null,
            "display": null,
            "left": null
          }
        },
        "72093265cbbd412c9cf341c097ae4e33": {
          "model_module": "@jupyter-widgets/controls",
          "model_name": "FloatProgressModel",
          "state": {
            "_view_name": "ProgressView",
            "style": "IPY_MODEL_25d11dfb81194b589dbc5f11b0bca33e",
            "_dom_classes": [],
            "description": "",
            "_model_name": "FloatProgressModel",
            "bar_style": "info",
            "max": 1,
            "_view_module": "@jupyter-widgets/controls",
            "_model_module_version": "1.5.0",
            "value": 0,
            "_view_count": null,
            "_view_module_version": "1.5.0",
            "orientation": "horizontal",
            "min": 0,
            "description_tooltip": null,
            "_model_module": "@jupyter-widgets/controls",
            "layout": "IPY_MODEL_b2986f1c965a4865b92f7103827c8f7d"
          }
        },
        "e81d554a23ab40d7b998e0f6494cd564": {
          "model_module": "@jupyter-widgets/controls",
          "model_name": "HTMLModel",
          "state": {
            "_view_name": "HTMLView",
            "style": "IPY_MODEL_f667ca9ec9cf4a46900876ca4608b6c7",
            "_dom_classes": [],
            "description": "",
            "_model_name": "HTMLModel",
            "placeholder": "​",
            "_view_module": "@jupyter-widgets/controls",
            "_model_module_version": "1.5.0",
            "value": " 0/? [00:00&lt;?, ?it/s]",
            "_view_count": null,
            "_view_module_version": "1.5.0",
            "description_tooltip": null,
            "_model_module": "@jupyter-widgets/controls",
            "layout": "IPY_MODEL_fbfb9e4151e04f6f8e6e7af9fd604531"
          }
        },
        "25d11dfb81194b589dbc5f11b0bca33e": {
          "model_module": "@jupyter-widgets/controls",
          "model_name": "ProgressStyleModel",
          "state": {
            "_view_name": "StyleView",
            "_model_name": "ProgressStyleModel",
            "description_width": "initial",
            "_view_module": "@jupyter-widgets/base",
            "_model_module_version": "1.5.0",
            "_view_count": null,
            "_view_module_version": "1.2.0",
            "bar_color": null,
            "_model_module": "@jupyter-widgets/controls"
          }
        },
        "b2986f1c965a4865b92f7103827c8f7d": {
          "model_module": "@jupyter-widgets/base",
          "model_name": "LayoutModel",
          "state": {
            "_view_name": "LayoutView",
            "grid_template_rows": null,
            "right": null,
            "justify_content": null,
            "_view_module": "@jupyter-widgets/base",
            "overflow": null,
            "_model_module_version": "1.2.0",
            "_view_count": null,
            "flex_flow": null,
            "width": null,
            "min_width": null,
            "border": null,
            "align_items": null,
            "bottom": null,
            "_model_module": "@jupyter-widgets/base",
            "top": null,
            "grid_column": null,
            "overflow_y": null,
            "overflow_x": null,
            "grid_auto_flow": null,
            "grid_area": null,
            "grid_template_columns": null,
            "flex": null,
            "_model_name": "LayoutModel",
            "justify_items": null,
            "grid_row": null,
            "max_height": null,
            "align_content": null,
            "visibility": null,
            "align_self": null,
            "height": null,
            "min_height": null,
            "padding": null,
            "grid_auto_rows": null,
            "grid_gap": null,
            "max_width": null,
            "order": null,
            "_view_module_version": "1.2.0",
            "grid_template_areas": null,
            "object_position": null,
            "object_fit": null,
            "grid_auto_columns": null,
            "margin": null,
            "display": null,
            "left": null
          }
        },
        "f667ca9ec9cf4a46900876ca4608b6c7": {
          "model_module": "@jupyter-widgets/controls",
          "model_name": "DescriptionStyleModel",
          "state": {
            "_view_name": "StyleView",
            "_model_name": "DescriptionStyleModel",
            "description_width": "",
            "_view_module": "@jupyter-widgets/base",
            "_model_module_version": "1.5.0",
            "_view_count": null,
            "_view_module_version": "1.2.0",
            "_model_module": "@jupyter-widgets/controls"
          }
        },
        "fbfb9e4151e04f6f8e6e7af9fd604531": {
          "model_module": "@jupyter-widgets/base",
          "model_name": "LayoutModel",
          "state": {
            "_view_name": "LayoutView",
            "grid_template_rows": null,
            "right": null,
            "justify_content": null,
            "_view_module": "@jupyter-widgets/base",
            "overflow": null,
            "_model_module_version": "1.2.0",
            "_view_count": null,
            "flex_flow": null,
            "width": null,
            "min_width": null,
            "border": null,
            "align_items": null,
            "bottom": null,
            "_model_module": "@jupyter-widgets/base",
            "top": null,
            "grid_column": null,
            "overflow_y": null,
            "overflow_x": null,
            "grid_auto_flow": null,
            "grid_area": null,
            "grid_template_columns": null,
            "flex": null,
            "_model_name": "LayoutModel",
            "justify_items": null,
            "grid_row": null,
            "max_height": null,
            "align_content": null,
            "visibility": null,
            "align_self": null,
            "height": null,
            "min_height": null,
            "padding": null,
            "grid_auto_rows": null,
            "grid_gap": null,
            "max_width": null,
            "order": null,
            "_view_module_version": "1.2.0",
            "grid_template_areas": null,
            "object_position": null,
            "object_fit": null,
            "grid_auto_columns": null,
            "margin": null,
            "display": null,
            "left": null
          }
        }
      }
    }
  },
  "cells": [
    {
      "cell_type": "markdown",
      "metadata": {
        "id": "view-in-github",
        "colab_type": "text"
      },
      "source": [
        "<a href=\"https://colab.research.google.com/github/vishal-burman/PyTorch-Architectures/blob/master/research/modeling_AutoEncoder/test_sample_ConvolutionalAutoEncoder(Jaccard_Distance).ipynb\" target=\"_parent\"><img src=\"https://colab.research.google.com/assets/colab-badge.svg\" alt=\"Open In Colab\"/></a>"
      ]
    },
    {
      "cell_type": "code",
      "metadata": {
        "colab": {
          "base_uri": "https://localhost:8080/"
        },
        "id": "vQAKGwMg8TAu",
        "outputId": "30911dac-3f92-4f34-f0ba-401ce21c7260"
      },
      "source": [
        "! git clone https://github.com/vishal-burman/PyTorch-Architectures.git\r\n",
        "%cd PyTorch-Architectures/research/modeling_AutoEncoder/"
      ],
      "execution_count": 3,
      "outputs": [
        {
          "output_type": "stream",
          "text": [
            "fatal: destination path 'PyTorch-Architectures' already exists and is not an empty directory.\n",
            "/content/PyTorch-Architectures/research/modeling_AutoEncoder\n"
          ],
          "name": "stdout"
        }
      ]
    },
    {
      "cell_type": "code",
      "metadata": {
        "id": "1By4f8iY-HAU"
      },
      "source": [
        "import time\r\n",
        "import torch\r\n",
        "import torch.nn as nn\r\n",
        "import torch.nn.functional as F\r\n",
        "from torch.utils.data import DataLoader\r\n",
        "from torchvision import datasets, transforms\r\n",
        "\r\n",
        "from model_ae_conv import ConvolutionalAutoEncoder"
      ],
      "execution_count": 13,
      "outputs": []
    },
    {
      "cell_type": "code",
      "metadata": {
        "colab": {
          "base_uri": "https://localhost:8080/"
        },
        "id": "9XvnMtZ_-YgH",
        "outputId": "85524b64-eb75-49a3-d930-dcf278405be3"
      },
      "source": [
        "###########\r\n",
        "# Settings\r\n",
        "###########\r\n",
        "\r\n",
        "device = torch.device(\"cuda:0\" if torch.cuda.is_available() else \"cpu\")\r\n",
        "print('Device: ', device)\r\n",
        "\r\n",
        "# Hyperparameters\r\n",
        "RANDOM_SEED = 456\r\n",
        "LEARNING_RATE = 0.005\r\n",
        "NUM_EPOCHS = 10\r\n",
        "BATCH_SIZE = 128"
      ],
      "execution_count": 6,
      "outputs": [
        {
          "output_type": "stream",
          "text": [
            "Device:  cpu\n"
          ],
          "name": "stdout"
        }
      ]
    },
    {
      "cell_type": "code",
      "metadata": {
        "colab": {
          "base_uri": "https://localhost:8080/",
          "height": 460,
          "referenced_widgets": [
            "a492d6d838d24708a0ddc7a58a95d6ce",
            "49a6c00532094aa4bc085553ba0332bd",
            "4c0432edccd04396abcde4316a8c4cc7",
            "f5e3952b75d44a14917266fb9e04feaa",
            "d50307c0e2bb474cb9272a96e7f0aff5",
            "6577468535fc4b8bb579a66923261a37",
            "22655bc25a7e46dfa64a793744acffc5",
            "7b002f701ce74a748a9e1a9ada8e78e6",
            "d7b755ed462f4c398169fc89ed4e5c7e",
            "099f9ef504944d9bac569590dbe8c01d",
            "dd894103fa0846b0a7a233cca369db5d",
            "ff002806211641088e3a43fb4e8e7f10",
            "a21e0604799b404493e3f160af22fad9",
            "1776f19a5ecf489699d37af6f185f8fa",
            "bd8d2589020043479717d038ccfccc37",
            "34dc5b61f2664c7c9506b45c92b93113",
            "18063a391b8e4e7f8ac5c11f3f695a1f",
            "dfa37f1662594f54858653c17cd4d680",
            "8214462bcb0043538d7b3017fd21a2cd",
            "042f651b31994143ae2b1c8a745079d7",
            "f0093d09b36243ee96aabd01b8490fc3",
            "53e8bf76c66443c0b9d4c207835e5bb5",
            "1235dcfb8065429f84b951a9314d43f2",
            "2bebb9ad18db4c5cb8105e9fa0eaac15",
            "7b4ee4ba8eaa4fbd9044365c5d973a3f",
            "67f78aed459f4cd38fbdc1e37c921f0b",
            "72093265cbbd412c9cf341c097ae4e33",
            "e81d554a23ab40d7b998e0f6494cd564",
            "25d11dfb81194b589dbc5f11b0bca33e",
            "b2986f1c965a4865b92f7103827c8f7d",
            "f667ca9ec9cf4a46900876ca4608b6c7",
            "fbfb9e4151e04f6f8e6e7af9fd604531"
          ]
        },
        "id": "z_4XssZq_RyG",
        "outputId": "5de40ab0-a4a5-4b88-870e-9574ceaad8e2"
      },
      "source": [
        "# MNIST Dataset\r\n",
        "train_dataset = datasets.MNIST(root=\"data\",\r\n",
        "                               train=True,\r\n",
        "                               transform=transforms.ToTensor(),\r\n",
        "                               download=True)\r\n",
        "valid_dataset = datasets.MNIST(root=\"data\",\r\n",
        "                               train=False,\r\n",
        "                               transform=transforms.ToTensor(),)\r\n",
        "\r\n",
        "train_loader = DataLoader(dataset=train_dataset,\r\n",
        "                          batch_size=BATCH_SIZE,\r\n",
        "                          shuffle=True,)\r\n",
        "valid_loader = DataLoader(dataset=valid_dataset,\r\n",
        "                          batch_size=BATCH_SIZE,\r\n",
        "                          shuffle=False)\r\n",
        "\r\n",
        "for images, labels in train_loader:\r\n",
        "  print('Images Dimensions: ', images.shape)\r\n",
        "  print('Labels Dimensions: ', labels.shape)\r\n",
        "  break"
      ],
      "execution_count": 8,
      "outputs": [
        {
          "output_type": "stream",
          "text": [
            "Downloading http://yann.lecun.com/exdb/mnist/train-images-idx3-ubyte.gz to data/MNIST/raw/train-images-idx3-ubyte.gz\n"
          ],
          "name": "stdout"
        },
        {
          "output_type": "display_data",
          "data": {
            "application/vnd.jupyter.widget-view+json": {
              "model_id": "a492d6d838d24708a0ddc7a58a95d6ce",
              "version_minor": 0,
              "version_major": 2
            },
            "text/plain": [
              "HBox(children=(FloatProgress(value=1.0, bar_style='info', max=1.0), HTML(value='')))"
            ]
          },
          "metadata": {
            "tags": []
          }
        },
        {
          "output_type": "stream",
          "text": [
            "Extracting data/MNIST/raw/train-images-idx3-ubyte.gz to data/MNIST/raw\n",
            "Downloading http://yann.lecun.com/exdb/mnist/train-labels-idx1-ubyte.gz to data/MNIST/raw/train-labels-idx1-ubyte.gz\n"
          ],
          "name": "stdout"
        },
        {
          "output_type": "display_data",
          "data": {
            "application/vnd.jupyter.widget-view+json": {
              "model_id": "d7b755ed462f4c398169fc89ed4e5c7e",
              "version_minor": 0,
              "version_major": 2
            },
            "text/plain": [
              "HBox(children=(FloatProgress(value=1.0, bar_style='info', max=1.0), HTML(value='')))"
            ]
          },
          "metadata": {
            "tags": []
          }
        },
        {
          "output_type": "stream",
          "text": [
            "Extracting data/MNIST/raw/train-labels-idx1-ubyte.gz to data/MNIST/raw\n",
            "Downloading http://yann.lecun.com/exdb/mnist/t10k-images-idx3-ubyte.gz to data/MNIST/raw/t10k-images-idx3-ubyte.gz\n"
          ],
          "name": "stdout"
        },
        {
          "output_type": "display_data",
          "data": {
            "application/vnd.jupyter.widget-view+json": {
              "model_id": "18063a391b8e4e7f8ac5c11f3f695a1f",
              "version_minor": 0,
              "version_major": 2
            },
            "text/plain": [
              "HBox(children=(FloatProgress(value=1.0, bar_style='info', max=1.0), HTML(value='')))"
            ]
          },
          "metadata": {
            "tags": []
          }
        },
        {
          "output_type": "stream",
          "text": [
            "Extracting data/MNIST/raw/t10k-images-idx3-ubyte.gz to data/MNIST/raw\n",
            "Downloading http://yann.lecun.com/exdb/mnist/t10k-labels-idx1-ubyte.gz to data/MNIST/raw/t10k-labels-idx1-ubyte.gz\n",
            "\n",
            "\n"
          ],
          "name": "stdout"
        },
        {
          "output_type": "display_data",
          "data": {
            "application/vnd.jupyter.widget-view+json": {
              "model_id": "7b4ee4ba8eaa4fbd9044365c5d973a3f",
              "version_minor": 0,
              "version_major": 2
            },
            "text/plain": [
              "HBox(children=(FloatProgress(value=1.0, bar_style='info', max=1.0), HTML(value='')))"
            ]
          },
          "metadata": {
            "tags": []
          }
        },
        {
          "output_type": "stream",
          "text": [
            "Extracting data/MNIST/raw/t10k-labels-idx1-ubyte.gz to data/MNIST/raw\n",
            "Processing...\n",
            "Done!\n"
          ],
          "name": "stdout"
        },
        {
          "output_type": "stream",
          "text": [
            "/usr/local/lib/python3.6/dist-packages/torchvision/datasets/mnist.py:480: UserWarning: The given NumPy array is not writeable, and PyTorch does not support non-writeable tensors. This means you can write to the underlying (supposedly non-writeable) NumPy array using the tensor. You may want to copy the array to protect its data or make it writeable before converting it to a tensor. This type of warning will be suppressed for the rest of this program. (Triggered internally at  /pytorch/torch/csrc/utils/tensor_numpy.cpp:141.)\n",
            "  return torch.from_numpy(parsed.astype(m[2], copy=False)).view(*s)\n"
          ],
          "name": "stderr"
        },
        {
          "output_type": "stream",
          "text": [
            "Images Dimensions:  torch.Size([128, 1, 28, 28])\n",
            "Labels Dimensions:  torch.Size([128])\n"
          ],
          "name": "stdout"
        }
      ]
    },
    {
      "cell_type": "code",
      "metadata": {
        "colab": {
          "base_uri": "https://localhost:8080/"
        },
        "id": "_q3Cxtf1A2_D",
        "outputId": "c7bf1dab-88f4-426a-9889-770daa4640c8"
      },
      "source": [
        "torch.manual_seed(RANDOM_SEED)\r\n",
        "model = ConvolutionalAutoEncoder()\r\n",
        "model.to(device)"
      ],
      "execution_count": 9,
      "outputs": [
        {
          "output_type": "execute_result",
          "data": {
            "text/plain": [
              "ConvolutionalAutoEncoder(\n",
              "  (conv_1): Conv2d(1, 4, kernel_size=(3, 3), stride=(1, 1), padding=(1, 1))\n",
              "  (pool_1): MaxPool2d(kernel_size=2, stride=2, padding=0, dilation=1, ceil_mode=False)\n",
              "  (conv_2): Conv2d(4, 8, kernel_size=(3, 3), stride=(1, 1), padding=(1, 1))\n",
              "  (pool_2): MaxPool2d(kernel_size=2, stride=2, padding=0, dilation=1, ceil_mode=False)\n",
              "  (deconv_1): ConvTranspose2d(8, 4, kernel_size=(3, 3), stride=(2, 2))\n",
              "  (deconv_2): ConvTranspose2d(4, 1, kernel_size=(3, 3), stride=(2, 2))\n",
              ")"
            ]
          },
          "metadata": {
            "tags": []
          },
          "execution_count": 9
        }
      ]
    },
    {
      "cell_type": "code",
      "metadata": {
        "id": "PSDrsu6yBARY"
      },
      "source": [
        "optimizer = torch.optim.Adam(model.parameters(), lr=LEARNING_RATE)"
      ],
      "execution_count": 10,
      "outputs": []
    },
    {
      "cell_type": "code",
      "metadata": {
        "id": "wIpW7AF1CToy"
      },
      "source": [
        "def continuous_jaccard(x, y):\r\n",
        "  c = torch.cat((x.view(-1).unsqueeze(1), y.view(-1).unsqueeze(1)), dim=1)\r\n",
        "\r\n",
        "  numerator = torch.sum(torch.min(c, dim=1)[0])\r\n",
        "  denominator = torch.sum(torch.max(c, dim=1)[0])\r\n",
        "\r\n",
        "  return 1. - numerator/denominator"
      ],
      "execution_count": 11,
      "outputs": []
    },
    {
      "cell_type": "code",
      "metadata": {
        "colab": {
          "base_uri": "https://localhost:8080/"
        },
        "id": "JL1zXPUID0aa",
        "outputId": "1194935f-7195-4bd9-8fb2-1690fc64f37d"
      },
      "source": [
        "# Check jaccard_distance function\r\n",
        "x_sample = torch.rand(4, 1, 28, 28)\r\n",
        "y_sample = torch.rand(4, 1, 28, 28)\r\n",
        "dist = continuous_jaccard(x_sample, y_sample)\r\n",
        "print(dist)"
      ],
      "execution_count": 12,
      "outputs": [
        {
          "output_type": "stream",
          "text": [
            "tensor(0.5042)\n"
          ],
          "name": "stdout"
        }
      ]
    },
    {
      "cell_type": "code",
      "metadata": {
        "colab": {
          "base_uri": "https://localhost:8080/"
        },
        "id": "1XnqrhRBBEJC",
        "outputId": "64daadf7-ce3a-42f7-a561-72cb8cfa80cf"
      },
      "source": [
        "model.train()\r\n",
        "start_time = time.time()\r\n",
        "for epoch in range(NUM_EPOCHS):\r\n",
        "  for idx, (features, targets) in enumerate(train_loader):\r\n",
        "    features = features.to(device)\r\n",
        "\r\n",
        "    logits, decoded = model(features)\r\n",
        "    cost = continuous_jaccard(features, decoded)\r\n",
        "\r\n",
        "    optimizer.zero_grad()\r\n",
        "    cost.backward()\r\n",
        "    optimizer.step()\r\n",
        "\r\n",
        "    # LOGGING\r\n",
        "    if idx % 50 == 0:\r\n",
        "      print('Epoch: %04d/%04d || Batch: %04d/%04d || Loss: %.2f' % (epoch+1, NUM_EPOCHS, idx, len(train_loader), cost.item()))\r\n",
        "  epoch_elapsed_time = (time.time() - start_time) / 60\r\n",
        "  print('Epoch Elapsed Time: %.2f' % (epoch_elapsed_time))\r\n",
        "total_training_time = (time.time() - start_time) / 60\r\n",
        "print('Total Training Time: %.2f' % (total_training_time))"
      ],
      "execution_count": 15,
      "outputs": [
        {
          "output_type": "stream",
          "text": [
            "Epoch: 0001/0010 || Batch: 0000/0469 || Loss: 0.86\n",
            "Epoch: 0001/0010 || Batch: 0050/0469 || Loss: 0.80\n",
            "Epoch: 0001/0010 || Batch: 0100/0469 || Loss: 0.78\n",
            "Epoch: 0001/0010 || Batch: 0150/0469 || Loss: 0.74\n",
            "Epoch: 0001/0010 || Batch: 0200/0469 || Loss: 0.41\n",
            "Epoch: 0001/0010 || Batch: 0250/0469 || Loss: 0.29\n",
            "Epoch: 0001/0010 || Batch: 0300/0469 || Loss: 0.27\n",
            "Epoch: 0001/0010 || Batch: 0350/0469 || Loss: 0.26\n",
            "Epoch: 0001/0010 || Batch: 0400/0469 || Loss: 0.26\n",
            "Epoch: 0001/0010 || Batch: 0450/0469 || Loss: 0.26\n",
            "Epoch Elapsed Time: 0.35\n",
            "Epoch: 0002/0010 || Batch: 0000/0469 || Loss: 0.25\n",
            "Epoch: 0002/0010 || Batch: 0050/0469 || Loss: 0.25\n",
            "Epoch: 0002/0010 || Batch: 0100/0469 || Loss: 0.25\n",
            "Epoch: 0002/0010 || Batch: 0150/0469 || Loss: 0.24\n",
            "Epoch: 0002/0010 || Batch: 0200/0469 || Loss: 0.24\n",
            "Epoch: 0002/0010 || Batch: 0250/0469 || Loss: 0.24\n",
            "Epoch: 0002/0010 || Batch: 0300/0469 || Loss: 0.24\n",
            "Epoch: 0002/0010 || Batch: 0350/0469 || Loss: 0.24\n",
            "Epoch: 0002/0010 || Batch: 0400/0469 || Loss: 0.22\n",
            "Epoch: 0002/0010 || Batch: 0450/0469 || Loss: 0.23\n",
            "Epoch Elapsed Time: 0.69\n",
            "Epoch: 0003/0010 || Batch: 0000/0469 || Loss: 0.24\n",
            "Epoch: 0003/0010 || Batch: 0050/0469 || Loss: 0.23\n",
            "Epoch: 0003/0010 || Batch: 0100/0469 || Loss: 0.23\n",
            "Epoch: 0003/0010 || Batch: 0150/0469 || Loss: 0.22\n",
            "Epoch: 0003/0010 || Batch: 0200/0469 || Loss: 0.22\n",
            "Epoch: 0003/0010 || Batch: 0250/0469 || Loss: 0.23\n",
            "Epoch: 0003/0010 || Batch: 0300/0469 || Loss: 0.21\n",
            "Epoch: 0003/0010 || Batch: 0350/0469 || Loss: 0.21\n",
            "Epoch: 0003/0010 || Batch: 0400/0469 || Loss: 0.22\n",
            "Epoch: 0003/0010 || Batch: 0450/0469 || Loss: 0.21\n",
            "Epoch Elapsed Time: 1.03\n",
            "Epoch: 0004/0010 || Batch: 0000/0469 || Loss: 0.21\n",
            "Epoch: 0004/0010 || Batch: 0050/0469 || Loss: 0.21\n",
            "Epoch: 0004/0010 || Batch: 0100/0469 || Loss: 0.21\n",
            "Epoch: 0004/0010 || Batch: 0150/0469 || Loss: 0.20\n",
            "Epoch: 0004/0010 || Batch: 0200/0469 || Loss: 0.21\n",
            "Epoch: 0004/0010 || Batch: 0250/0469 || Loss: 0.20\n",
            "Epoch: 0004/0010 || Batch: 0300/0469 || Loss: 0.21\n",
            "Epoch: 0004/0010 || Batch: 0350/0469 || Loss: 0.21\n",
            "Epoch: 0004/0010 || Batch: 0400/0469 || Loss: 0.21\n",
            "Epoch: 0004/0010 || Batch: 0450/0469 || Loss: 0.19\n",
            "Epoch Elapsed Time: 1.38\n",
            "Epoch: 0005/0010 || Batch: 0000/0469 || Loss: 0.20\n",
            "Epoch: 0005/0010 || Batch: 0050/0469 || Loss: 0.20\n",
            "Epoch: 0005/0010 || Batch: 0100/0469 || Loss: 0.21\n",
            "Epoch: 0005/0010 || Batch: 0150/0469 || Loss: 0.20\n",
            "Epoch: 0005/0010 || Batch: 0200/0469 || Loss: 0.20\n",
            "Epoch: 0005/0010 || Batch: 0250/0469 || Loss: 0.20\n",
            "Epoch: 0005/0010 || Batch: 0300/0469 || Loss: 0.20\n",
            "Epoch: 0005/0010 || Batch: 0350/0469 || Loss: 0.21\n",
            "Epoch: 0005/0010 || Batch: 0400/0469 || Loss: 0.21\n",
            "Epoch: 0005/0010 || Batch: 0450/0469 || Loss: 0.21\n",
            "Epoch Elapsed Time: 1.72\n",
            "Epoch: 0006/0010 || Batch: 0000/0469 || Loss: 0.20\n",
            "Epoch: 0006/0010 || Batch: 0050/0469 || Loss: 0.19\n",
            "Epoch: 0006/0010 || Batch: 0100/0469 || Loss: 0.21\n",
            "Epoch: 0006/0010 || Batch: 0150/0469 || Loss: 0.20\n",
            "Epoch: 0006/0010 || Batch: 0200/0469 || Loss: 0.21\n",
            "Epoch: 0006/0010 || Batch: 0250/0469 || Loss: 0.19\n",
            "Epoch: 0006/0010 || Batch: 0300/0469 || Loss: 0.20\n",
            "Epoch: 0006/0010 || Batch: 0350/0469 || Loss: 0.20\n",
            "Epoch: 0006/0010 || Batch: 0400/0469 || Loss: 0.21\n",
            "Epoch: 0006/0010 || Batch: 0450/0469 || Loss: 0.19\n",
            "Epoch Elapsed Time: 2.06\n",
            "Epoch: 0007/0010 || Batch: 0000/0469 || Loss: 0.20\n",
            "Epoch: 0007/0010 || Batch: 0050/0469 || Loss: 0.20\n",
            "Epoch: 0007/0010 || Batch: 0100/0469 || Loss: 0.21\n",
            "Epoch: 0007/0010 || Batch: 0150/0469 || Loss: 0.19\n",
            "Epoch: 0007/0010 || Batch: 0200/0469 || Loss: 0.20\n",
            "Epoch: 0007/0010 || Batch: 0250/0469 || Loss: 0.20\n",
            "Epoch: 0007/0010 || Batch: 0300/0469 || Loss: 0.19\n",
            "Epoch: 0007/0010 || Batch: 0350/0469 || Loss: 0.19\n",
            "Epoch: 0007/0010 || Batch: 0400/0469 || Loss: 0.20\n",
            "Epoch: 0007/0010 || Batch: 0450/0469 || Loss: 0.19\n",
            "Epoch Elapsed Time: 2.41\n",
            "Epoch: 0008/0010 || Batch: 0000/0469 || Loss: 0.20\n",
            "Epoch: 0008/0010 || Batch: 0050/0469 || Loss: 0.20\n",
            "Epoch: 0008/0010 || Batch: 0100/0469 || Loss: 0.19\n",
            "Epoch: 0008/0010 || Batch: 0150/0469 || Loss: 0.20\n",
            "Epoch: 0008/0010 || Batch: 0200/0469 || Loss: 0.19\n",
            "Epoch: 0008/0010 || Batch: 0250/0469 || Loss: 0.19\n",
            "Epoch: 0008/0010 || Batch: 0300/0469 || Loss: 0.19\n",
            "Epoch: 0008/0010 || Batch: 0350/0469 || Loss: 0.20\n",
            "Epoch: 0008/0010 || Batch: 0400/0469 || Loss: 0.19\n",
            "Epoch: 0008/0010 || Batch: 0450/0469 || Loss: 0.20\n",
            "Epoch Elapsed Time: 2.76\n",
            "Epoch: 0009/0010 || Batch: 0000/0469 || Loss: 0.20\n",
            "Epoch: 0009/0010 || Batch: 0050/0469 || Loss: 0.19\n",
            "Epoch: 0009/0010 || Batch: 0100/0469 || Loss: 0.19\n",
            "Epoch: 0009/0010 || Batch: 0150/0469 || Loss: 0.19\n",
            "Epoch: 0009/0010 || Batch: 0200/0469 || Loss: 0.20\n",
            "Epoch: 0009/0010 || Batch: 0250/0469 || Loss: 0.19\n",
            "Epoch: 0009/0010 || Batch: 0300/0469 || Loss: 0.18\n",
            "Epoch: 0009/0010 || Batch: 0350/0469 || Loss: 0.19\n",
            "Epoch: 0009/0010 || Batch: 0400/0469 || Loss: 0.18\n",
            "Epoch: 0009/0010 || Batch: 0450/0469 || Loss: 0.18\n",
            "Epoch Elapsed Time: 3.10\n",
            "Epoch: 0010/0010 || Batch: 0000/0469 || Loss: 0.20\n",
            "Epoch: 0010/0010 || Batch: 0050/0469 || Loss: 0.19\n",
            "Epoch: 0010/0010 || Batch: 0100/0469 || Loss: 0.19\n",
            "Epoch: 0010/0010 || Batch: 0150/0469 || Loss: 0.19\n",
            "Epoch: 0010/0010 || Batch: 0200/0469 || Loss: 0.18\n",
            "Epoch: 0010/0010 || Batch: 0250/0469 || Loss: 0.20\n",
            "Epoch: 0010/0010 || Batch: 0300/0469 || Loss: 0.19\n",
            "Epoch: 0010/0010 || Batch: 0350/0469 || Loss: 0.19\n",
            "Epoch: 0010/0010 || Batch: 0400/0469 || Loss: 0.18\n",
            "Epoch: 0010/0010 || Batch: 0450/0469 || Loss: 0.19\n",
            "Epoch Elapsed Time: 3.45\n",
            "Total Training Time: 3.45\n"
          ],
          "name": "stdout"
        }
      ]
    },
    {
      "cell_type": "code",
      "metadata": {
        "colab": {
          "base_uri": "https://localhost:8080/",
          "height": 187
        },
        "id": "4N5rUx8MFTY6",
        "outputId": "c25e3b24-75f5-40e2-df56-29416945550a"
      },
      "source": [
        "%matplotlib inline\r\n",
        "import matplotlib.pyplot as plt\r\n",
        "\r\n",
        "##########################\r\n",
        "### VISUALIZATION\r\n",
        "##########################\r\n",
        "\r\n",
        "n_images = 15\r\n",
        "image_width = 28\r\n",
        "\r\n",
        "fig, axes = plt.subplots(nrows=2, ncols=n_images, \r\n",
        "                         sharex=True, sharey=True, figsize=(20, 2.5))\r\n",
        "orig_images = features[:n_images]\r\n",
        "decoded_images = decoded[:n_images]\r\n",
        "\r\n",
        "for i in range(n_images):\r\n",
        "    for ax, img in zip(axes, [orig_images, decoded_images]):\r\n",
        "        curr_img = img[i].detach().to(torch.device('cpu'))\r\n",
        "        ax[i].imshow(curr_img.view((image_width, image_width)), cmap='binary')"
      ],
      "execution_count": 16,
      "outputs": [
        {
          "output_type": "display_data",
          "data": {
            "image/png": "[encoded data removed]",
            "text/plain": [
              "<Figure size 1440x180 with 30 Axes>"
            ]
          },
          "metadata": {
            "tags": [],
            "needs_background": "light"
          }
        }
      ]
    }
  ]
}