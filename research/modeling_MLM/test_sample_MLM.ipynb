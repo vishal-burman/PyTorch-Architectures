{
  "nbformat": 4,
  "nbformat_minor": 0,
  "metadata": {
    "colab": {
      "name": "test_sample_MLM.ipynb",
      "provenance": [],
      "authorship_tag": "ABX9TyOJACc4CmehfV3wdUq+qtLL",
      "include_colab_link": true
    },
    "kernelspec": {
      "name": "python3",
      "display_name": "Python 3"
    },
    "language_info": {
      "name": "python"
    }
  },
  "cells": [
    {
      "cell_type": "markdown",
      "metadata": {
        "id": "view-in-github",
        "colab_type": "text"
      },
      "source": [
        "<a href=\"https://colab.research.google.com/github/vishal-burman/PyTorch-Architectures/blob/master/research/modeling_MLM/test_sample_MLM.ipynb\" target=\"_parent\"><img src=\"https://colab.research.google.com/assets/colab-badge.svg\" alt=\"Open In Colab\"/></a>"
      ]
    },
    {
      "cell_type": "code",
      "metadata": {
        "id": "Q2VLJlxsnyTS"
      },
      "source": [
        "! pip install datasets\n",
        "! pip install transformers"
      ],
      "execution_count": null,
      "outputs": []
    },
    {
      "cell_type": "code",
      "metadata": {
        "id": "XuOQb-Z8n_Bt"
      },
      "source": [
        "! git clone https://github.com/vishal-burman/PyTorch-Architectures.git/"
      ],
      "execution_count": null,
      "outputs": []
    },
    {
      "cell_type": "code",
      "metadata": {
        "id": "ziFxO-XroMuq"
      },
      "source": [
        "import time\n",
        "from datasets import load_dataset\n",
        "from transformers import DistilBertTokenizer, DistilBertModel, DistilBertConfig\n",
        "import torch\n",
        "import torch.nn as nn\n",
        "from torch.utils.data import Dataset, DataLoader"
      ],
      "execution_count": 6,
      "outputs": []
    },
    {
      "cell_type": "code",
      "metadata": {
        "id": "AM2gVfm4oEA2"
      },
      "source": [
        "%%time\n",
        "dataset = load_dataset('cnn_dailymail', '3.0.0')"
      ],
      "execution_count": null,
      "outputs": []
    },
    {
      "cell_type": "code",
      "metadata": {
        "id": "Svwk9rsqqnaC",
        "colab": {
          "base_uri": "https://localhost:8080/"
        },
        "outputId": "d1415781-25cf-4773-dbbb-628e641ccbd8"
      },
      "source": [
        "sentences = []\n",
        "for sample in dataset['train']:\n",
        "  if len(sentences) == 10000:\n",
        "    break\n",
        "  sentences.append(sample['article'])\n",
        "print('No. of samples: ', len(sentences))"
      ],
      "execution_count": 11,
      "outputs": [
        {
          "output_type": "stream",
          "text": [
            "No. of samples:  10000\n"
          ],
          "name": "stdout"
        }
      ]
    },
    {
      "cell_type": "code",
      "metadata": {
        "colab": {
          "base_uri": "https://localhost:8080/"
        },
        "id": "yW2gi9_1MyA0",
        "outputId": "0ec4407f-0717-429e-b6e7-972385d188c0"
      },
      "source": [
        "split = 90 * len(sentences) // 100\n",
        "train_sentences = sentences[:split]\n",
        "valid_sentences = sentences[split:]\n",
        "print('No. of train samples: ', len(train_sentences))\n",
        "print('No. of train samples: ', len(valid_sentences))"
      ],
      "execution_count": 13,
      "outputs": [
        {
          "output_type": "stream",
          "text": [
            "No. of train samples:  9000\n",
            "No. of train samples:  1000\n"
          ],
          "name": "stdout"
        }
      ]
    },
    {
      "cell_type": "code",
      "metadata": {
        "id": "y5ZYZt3BNZRm"
      },
      "source": [
        "device = torch.device('cuda:0' if torch.cuda.is_available() else 'cpu')\n",
        "tokenizer = DistilBertTokenizer.from_pretrained('distilbert-base-uncased')\n",
        "config = DistilBertConfig()\n",
        "model = DistilBertModel(config)\n",
        "model.to(device)"
      ],
      "execution_count": null,
      "outputs": []
    },
    {
      "cell_type": "code",
      "metadata": {
        "id": "fva6pc7sN_4j"
      },
      "source": [
        "class CustomDataset(Dataset):\n",
        "  def __init__(self, tokenizer, sentences, max_input_length=16):\n",
        "    self.tokenizer = tokenizer\n",
        "    self.sentences = sentences\n",
        "    self.max_input_length = max_input_length\n",
        "  \n",
        "  def __len__(self):\n",
        "    return len(self.sentences)\n",
        "  \n",
        "  def __getitem__(self, idx):\n",
        "    texts = self.sentences[idx]\n",
        "    tokens = self.tokenizer(texts,\n",
        "                            max_length=self.max_input_length,\n",
        "                            padding='max_length',\n",
        "                            truncation=True,\n",
        "                            return_tensors='pt')\n",
        "    return {\n",
        "        'input_ids': tokens['input_ids'],\n",
        "        'attention_mask': tokens['attention_mask'],\n",
        "    }"
      ],
      "execution_count": 18,
      "outputs": []
    },
    {
      "cell_type": "code",
      "metadata": {
        "id": "fRwZEycoODjZ"
      },
      "source": [
        "# Sanity check CustomDataset\n",
        "sample_dataset = CustomDataset(tokenizer=tokenizer,\n",
        "                               sentences=valid_sentences)\n",
        "sample_dataloader = DataLoader(dataset=sample_dataset,\n",
        "                               batch_size=32,\n",
        "                               shuffle=False)\n",
        "\n",
        "for sample in sample_dataloader:\n",
        "  assert sample['input_ids'].squeeze(1).dim() == 2\n",
        "  break"
      ],
      "execution_count": 21,
      "outputs": []
    },
    {
      "cell_type": "code",
      "metadata": {
        "id": "AaoKaUAhQNEQ"
      },
      "source": [
        ""
      ],
      "execution_count": null,
      "outputs": []
    }
  ]
}