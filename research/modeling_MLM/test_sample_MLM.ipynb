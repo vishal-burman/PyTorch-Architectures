{
  "nbformat": 4,
  "nbformat_minor": 0,
  "metadata": {
    "colab": {
      "name": "test_sample_MLM.ipynb",
      "provenance": [],
      "authorship_tag": "ABX9TyPh+yqd4jJU51dY89ahIsZr",
      "include_colab_link": true
    },
    "kernelspec": {
      "name": "python3",
      "display_name": "Python 3"
    },
    "language_info": {
      "name": "python"
    },
    "accelerator": "GPU"
  },
  "cells": [
    {
      "cell_type": "markdown",
      "metadata": {
        "id": "view-in-github",
        "colab_type": "text"
      },
      "source": [
        "<a href=\"https://colab.research.google.com/github/vishal-burman/PyTorch-Architectures/blob/master/research/modeling_MLM/test_sample_MLM.ipynb\" target=\"_parent\"><img src=\"https://colab.research.google.com/assets/colab-badge.svg\" alt=\"Open In Colab\"/></a>"
      ]
    },
    {
      "cell_type": "code",
      "metadata": {
        "id": "Q2VLJlxsnyTS"
      },
      "source": [
        "! pip install datasets\n",
        "! pip install transformers"
      ],
      "execution_count": null,
      "outputs": []
    },
    {
      "cell_type": "code",
      "metadata": {
        "id": "XuOQb-Z8n_Bt",
        "colab": {
          "base_uri": "https://localhost:8080/"
        },
        "outputId": "51cfed74-4dc0-49f7-c9f4-2bb0da2f1de6"
      },
      "source": [
        "# ! rm -rf PyTorch-Architectures/\n",
        "! git clone https://github.com/vishal-burman/PyTorch-Architectures.git/\n",
        "%cd PyTorch-Architectures/research/modeling_MLM/"
      ],
      "execution_count": 1,
      "outputs": [
        {
          "output_type": "stream",
          "text": [
            "fatal: destination path 'PyTorch-Architectures' already exists and is not an empty directory.\n",
            "/content/PyTorch-Architectures/research/modeling_MLM\n"
          ],
          "name": "stdout"
        }
      ]
    },
    {
      "cell_type": "code",
      "metadata": {
        "id": "ziFxO-XroMuq"
      },
      "source": [
        "import string\n",
        "import time\n",
        "from datasets import load_dataset\n",
        "from transformers import DistilBertTokenizer, DistilBertModel, DistilBertConfig\n",
        "import torch\n",
        "import torch.nn as nn\n",
        "import torch.nn.functional as F\n",
        "from torch.utils.data import Dataset, DataLoader\n",
        "from model import MLM"
      ],
      "execution_count": 2,
      "outputs": []
    },
    {
      "cell_type": "code",
      "metadata": {
        "colab": {
          "base_uri": "https://localhost:8080/"
        },
        "id": "AM2gVfm4oEA2",
        "outputId": "4f07a5f4-6bf2-4267-8fb9-2f6045366052"
      },
      "source": [
        "%%time\n",
        "dataset = load_dataset('cnn_dailymail', '3.0.0')"
      ],
      "execution_count": 3,
      "outputs": [
        {
          "output_type": "stream",
          "text": [
            "Reusing dataset cnn_dailymail (/root/.cache/huggingface/datasets/cnn_dailymail/3.0.0/3.0.0/3cb851bf7cf5826e45d49db2863f627cba583cbc32342df7349dfe6c38060234)\n"
          ],
          "name": "stderr"
        },
        {
          "output_type": "stream",
          "text": [
            "CPU times: user 55 ms, sys: 10 ms, total: 65 ms\n",
            "Wall time: 201 ms\n"
          ],
          "name": "stdout"
        }
      ]
    },
    {
      "cell_type": "code",
      "metadata": {
        "id": "5caKuxOvSBp4"
      },
      "source": [
        "# Section for Hyperparameters\n",
        "BATCH_SIZE = 64\n",
        "LR = 3e-5\n",
        "EPOCHS = 10\n",
        "MAX_INPUT_LENGTH = 32"
      ],
      "execution_count": 4,
      "outputs": []
    },
    {
      "cell_type": "code",
      "metadata": {
        "id": "TGTddLSQw-Eg"
      },
      "source": [
        "def sentence_cleanup(text, max_len=32):\n",
        "  text = text.translate(str.maketrans('', '', string.punctuation))\n",
        "  # text = ' '.join(text.split()[:max_len])\n",
        "  text = text.lower()\n",
        "  return text"
      ],
      "execution_count": 5,
      "outputs": []
    },
    {
      "cell_type": "code",
      "metadata": {
        "id": "Svwk9rsqqnaC",
        "colab": {
          "base_uri": "https://localhost:8080/"
        },
        "outputId": "bc73a7de-ecf8-4641-bb91-ec6fe412a9be"
      },
      "source": [
        "sentences = []\n",
        "for sample in dataset['train']:\n",
        "  if len(sentences) == 10000:\n",
        "    break\n",
        "  sentences.append(sample['article'])\n",
        "\n",
        "sentences = list(map(sentence_cleanup, sentences))\n",
        "print('No. of samples: ', len(sentences))"
      ],
      "execution_count": 6,
      "outputs": [
        {
          "output_type": "stream",
          "text": [
            "No. of samples:  10000\n"
          ],
          "name": "stdout"
        }
      ]
    },
    {
      "cell_type": "code",
      "metadata": {
        "colab": {
          "base_uri": "https://localhost:8080/"
        },
        "id": "yW2gi9_1MyA0",
        "outputId": "a3c66ae5-7565-4ecf-8836-2339bd1775da"
      },
      "source": [
        "split = 90 * len(sentences) // 100\n",
        "train_sentences = sentences[:split]\n",
        "valid_sentences = sentences[split:]\n",
        "print('No. of train samples: ', len(train_sentences))\n",
        "print('No. of train samples: ', len(valid_sentences))"
      ],
      "execution_count": 7,
      "outputs": [
        {
          "output_type": "stream",
          "text": [
            "No. of train samples:  9000\n",
            "No. of train samples:  1000\n"
          ],
          "name": "stdout"
        }
      ]
    },
    {
      "cell_type": "code",
      "metadata": {
        "id": "y5ZYZt3BNZRm"
      },
      "source": [
        "device = torch.device('cuda:0' if torch.cuda.is_available() else 'cpu')\n",
        "tokenizer = DistilBertTokenizer.from_pretrained('distilbert-base-uncased')\n",
        "config = DistilBertConfig()\n",
        "transformer = DistilBertModel(config)"
      ],
      "execution_count": 8,
      "outputs": []
    },
    {
      "cell_type": "code",
      "metadata": {
        "id": "12Z2T5GYSt_Z"
      },
      "source": [
        "model = MLM(transformer=transformer,\n",
        "            pad_token_id=tokenizer.pad_token_id,\n",
        "            mask_token_id=tokenizer.mask_token_id,\n",
        "            mask_prob=0.15,\n",
        "            num_tokens=tokenizer.vocab_size,\n",
        "            replace_prob=0.90)\n",
        "model.to(device)"
      ],
      "execution_count": null,
      "outputs": []
    },
    {
      "cell_type": "code",
      "metadata": {
        "id": "6ADfg4IuTsXZ"
      },
      "source": [
        "class CustomDataset(Dataset):\n",
        "  def __init__(self, tokenizer, sentences, max_input_length=16):\n",
        "    self.tokenizer = tokenizer\n",
        "    self.sentences = sentences\n",
        "    self.max_input_length = max_input_length\n",
        "  \n",
        "  def __len__(self):\n",
        "    return len(self.sentences)\n",
        "  \n",
        "  def __getitem__(self, idx):\n",
        "    texts = self.sentences[idx]\n",
        "    tokens = self.tokenizer(texts,\n",
        "                            max_length=self.max_input_length,\n",
        "                            padding=False,\n",
        "                            truncation=True,\n",
        "                            return_tensors='pt')\n",
        "    return {\n",
        "        'input_ids': tokens['input_ids'],\n",
        "        'attention_mask': tokens['attention_mask'],\n",
        "    }"
      ],
      "execution_count": 10,
      "outputs": []
    },
    {
      "cell_type": "code",
      "metadata": {
        "id": "fRwZEycoODjZ"
      },
      "source": [
        "# Sanity check CustomDataset\n",
        "sample_dataset = CustomDataset(tokenizer=tokenizer,\n",
        "                               sentences=valid_sentences,\n",
        "                               max_input_length=16)\n",
        "sample_dataloader = DataLoader(dataset=sample_dataset,\n",
        "                               batch_size=32,\n",
        "                               shuffle=False,)\n",
        "\n",
        "for sample in sample_dataloader:\n",
        "  assert sample['input_ids'].squeeze(1).dim() == 2\n",
        "  break"
      ],
      "execution_count": 11,
      "outputs": []
    },
    {
      "cell_type": "code",
      "metadata": {
        "id": "AaoKaUAhQNEQ"
      },
      "source": [
        "# Sanity check MLM module\n",
        "model.eval()\n",
        "with torch.set_grad_enabled(False):\n",
        "  input_ids = sample['input_ids'].squeeze(1).to(device)\n",
        "  attention_mask = sample['attention_mask'].squeeze(1).to(device)\n",
        "  logits, labels = model(input_ids=input_ids, attention_mask=attention_mask)\n",
        "  assert logits.size(0) == labels.size(0)\n",
        "  assert logits.size(1) == labels.size(1)\n",
        "  assert logits.size(2) == tokenizer.vocab_size"
      ],
      "execution_count": 12,
      "outputs": []
    },
    {
      "cell_type": "code",
      "metadata": {
        "colab": {
          "base_uri": "https://localhost:8080/"
        },
        "id": "FDiAAAf5Jra3",
        "outputId": "d3a9cd28-65db-49c3-b1ae-ab26d2af67ba"
      },
      "source": [
        "train_dataset = CustomDataset(tokenizer, train_sentences, max_input_length=MAX_INPUT_LENGTH)\n",
        "valid_dataset = CustomDataset(tokenizer, valid_sentences, max_input_length=MAX_INPUT_LENGTH)\n",
        "\n",
        "train_loader = DataLoader(dataset=train_dataset,\n",
        "                          batch_size=BATCH_SIZE,\n",
        "                          shuffle=True)\n",
        "valid_loader = DataLoader(dataset=valid_dataset,\n",
        "                          batch_size=BATCH_SIZE,\n",
        "                          shuffle=False)\n",
        "\n",
        "print('Length of Train Loader: ', len(train_loader))\n",
        "print('Length of Valid Loader: ', len(valid_loader))"
      ],
      "execution_count": 13,
      "outputs": [
        {
          "output_type": "stream",
          "text": [
            "Length of Train Loader:  141\n",
            "Length of Valid Loader:  16\n"
          ],
          "name": "stdout"
        }
      ]
    },
    {
      "cell_type": "code",
      "metadata": {
        "id": "J0WiQ_cDKOT1"
      },
      "source": [
        "optimizer = torch.optim.AdamW(model.parameters(), lr=LR)"
      ],
      "execution_count": 14,
      "outputs": []
    },
    {
      "cell_type": "code",
      "metadata": {
        "colab": {
          "base_uri": "https://localhost:8080/"
        },
        "id": "EGfH3yWtKVqw",
        "outputId": "bb014640-2e3a-4383-d052-9f19a0943dc4"
      },
      "source": [
        "def compute_loss(model, data_loader, device):\n",
        "  loss_list = []\n",
        "  with torch.set_grad_enabled(False):\n",
        "    for sample in data_loader:\n",
        "      input_ids = sample['input_ids'].squeeze(1).to(device)\n",
        "      attention_mask = sample['attention_mask'].squeeze(1).to(device)\n",
        "      logits, labels = model(input_ids=input_ids, attention_mask=attention_mask)\n",
        "      \n",
        "      loss = F.cross_entropy(logits.view(-1, logits.size(-1)), labels.view(-1))\n",
        "      loss_list.append(loss.item())\n",
        "  return torch.tensor(loss_list).mean()\n",
        "\n",
        "start_time = time.time()\n",
        "for epoch in range(EPOCHS):\n",
        "  model.train()\n",
        "  for idx, sample in enumerate(train_loader):\n",
        "    input_ids = sample['input_ids'].squeeze(1).to(device)\n",
        "    attention_mask = sample['attention_mask'].squeeze(1).to(device)\n",
        "\n",
        "    logits, labels = model(input_ids, attention_mask=attention_mask)\n",
        "    loss = F.cross_entropy(logits.view(-1, logits.size(-1)), labels.view(-1),\n",
        "                           ignore_index=tokenizer.pad_token_id)\n",
        "    \n",
        "    optimizer.zero_grad\n",
        "    loss.backward()\n",
        "    optimizer.step()\n",
        "    \n",
        "    if idx % 50 == 0:\n",
        "      print('Batch: %04d/%04d || Epoch: %04d/%04d || Loss: %.2f' % (idx,\n",
        "                                                                   len(train_loader),\n",
        "                                                                   epoch+1,\n",
        "                                                                   EPOCHS,\n",
        "                                                                   loss.item()))\n",
        "  model.eval()\n",
        "  with torch.set_grad_enabled(False):\n",
        "    train_loss = compute_loss(model, train_loader, device)\n",
        "    valid_loss = compute_loss(model, valid_loader, device)\n",
        "    print('Train Loss: %.2f || Valid Loss: %.2f' % (train_loss.item(),\n",
        "                                                    valid_loss.item()))\n",
        "  epoch_elapsed_time = (time.time() - start_time) / 60\n",
        "  print('Epoch Elapsed Time: %.2f min' % (epoch_elapsed_time))\n",
        "total_training_time = (time.time() - start_time) / 60\n",
        "print('Total Training Time: %.2f min' % (total_training_time))"
      ],
      "execution_count": 15,
      "outputs": [
        {
          "output_type": "stream",
          "text": [
            "Batch: 0000/0141 || Epoch: 0001/0010 || Loss: 10.50\n",
            "Batch: 0050/0141 || Epoch: 0001/0010 || Loss: 8.17\n",
            "Batch: 0100/0141 || Epoch: 0001/0010 || Loss: 7.21\n",
            "Train Loss: 12.66 || Valid Loss: 12.68\n",
            "Epoch Elapsed Time: 5.24 min\n",
            "Batch: 0000/0141 || Epoch: 0002/0010 || Loss: 7.23\n",
            "Batch: 0050/0141 || Epoch: 0002/0010 || Loss: 7.19\n",
            "Batch: 0100/0141 || Epoch: 0002/0010 || Loss: 7.66\n",
            "Train Loss: 13.77 || Valid Loss: 13.77\n",
            "Epoch Elapsed Time: 10.48 min\n",
            "Batch: 0000/0141 || Epoch: 0003/0010 || Loss: 7.49\n",
            "Batch: 0050/0141 || Epoch: 0003/0010 || Loss: 7.45\n",
            "Batch: 0100/0141 || Epoch: 0003/0010 || Loss: 7.91\n",
            "Train Loss: 14.20 || Valid Loss: 14.21\n",
            "Epoch Elapsed Time: 15.67 min\n",
            "Batch: 0000/0141 || Epoch: 0004/0010 || Loss: 7.80\n",
            "Batch: 0050/0141 || Epoch: 0004/0010 || Loss: 7.95\n",
            "Batch: 0100/0141 || Epoch: 0004/0010 || Loss: 7.89\n",
            "Train Loss: 15.33 || Valid Loss: 15.33\n",
            "Epoch Elapsed Time: 20.85 min\n",
            "Batch: 0000/0141 || Epoch: 0005/0010 || Loss: 8.04\n",
            "Batch: 0050/0141 || Epoch: 0005/0010 || Loss: 7.81\n",
            "Batch: 0100/0141 || Epoch: 0005/0010 || Loss: 8.23\n",
            "Train Loss: 16.10 || Valid Loss: 16.12\n",
            "Epoch Elapsed Time: 26.03 min\n",
            "Batch: 0000/0141 || Epoch: 0006/0010 || Loss: 7.83\n",
            "Batch: 0050/0141 || Epoch: 0006/0010 || Loss: 7.91\n",
            "Batch: 0100/0141 || Epoch: 0006/0010 || Loss: 7.82\n",
            "Train Loss: 16.24 || Valid Loss: 16.24\n",
            "Epoch Elapsed Time: 31.21 min\n",
            "Batch: 0000/0141 || Epoch: 0007/0010 || Loss: 7.80\n",
            "Batch: 0050/0141 || Epoch: 0007/0010 || Loss: 7.92\n",
            "Batch: 0100/0141 || Epoch: 0007/0010 || Loss: 7.94\n",
            "Train Loss: 15.48 || Valid Loss: 15.51\n",
            "Epoch Elapsed Time: 36.39 min\n",
            "Batch: 0000/0141 || Epoch: 0008/0010 || Loss: 7.85\n",
            "Batch: 0050/0141 || Epoch: 0008/0010 || Loss: 7.72\n",
            "Batch: 0100/0141 || Epoch: 0008/0010 || Loss: 7.79\n",
            "Train Loss: 14.90 || Valid Loss: 14.91\n",
            "Epoch Elapsed Time: 41.57 min\n",
            "Batch: 0000/0141 || Epoch: 0009/0010 || Loss: 7.68\n",
            "Batch: 0050/0141 || Epoch: 0009/0010 || Loss: 7.90\n",
            "Batch: 0100/0141 || Epoch: 0009/0010 || Loss: 7.72\n",
            "Train Loss: 14.64 || Valid Loss: 14.65\n",
            "Epoch Elapsed Time: 46.76 min\n",
            "Batch: 0000/0141 || Epoch: 0010/0010 || Loss: 7.75\n",
            "Batch: 0050/0141 || Epoch: 0010/0010 || Loss: 7.76\n",
            "Batch: 0100/0141 || Epoch: 0010/0010 || Loss: 8.14\n",
            "Train Loss: 15.15 || Valid Loss: 15.19\n",
            "Epoch Elapsed Time: 51.96 min\n",
            "Total Training Time: 51.96 min\n"
          ],
          "name": "stdout"
        }
      ]
    },
    {
      "cell_type": "code",
      "metadata": {
        "id": "-R4adBWNXtxD"
      },
      "source": [
        ""
      ],
      "execution_count": null,
      "outputs": []
    }
  ]
}