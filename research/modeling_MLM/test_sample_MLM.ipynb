{
  "nbformat": 4,
  "nbformat_minor": 0,
  "metadata": {
    "colab": {
      "name": "test_sample_MLM.ipynb",
      "provenance": [],
      "authorship_tag": "ABX9TyM1mE0MyYVmvU4bj1ENwDUt",
      "include_colab_link": true
    },
    "kernelspec": {
      "name": "python3",
      "display_name": "Python 3"
    },
    "language_info": {
      "name": "python"
    }
  },
  "cells": [
    {
      "cell_type": "markdown",
      "metadata": {
        "id": "view-in-github",
        "colab_type": "text"
      },
      "source": [
        "<a href=\"https://colab.research.google.com/github/vishal-burman/PyTorch-Architectures/blob/master/research/modeling_MLM/test_sample_MLM.ipynb\" target=\"_parent\"><img src=\"https://colab.research.google.com/assets/colab-badge.svg\" alt=\"Open In Colab\"/></a>"
      ]
    },
    {
      "cell_type": "code",
      "metadata": {
        "id": "Q2VLJlxsnyTS"
      },
      "source": [
        "! pip install datasets\n",
        "! pip install transformers"
      ],
      "execution_count": null,
      "outputs": []
    },
    {
      "cell_type": "code",
      "metadata": {
        "id": "XuOQb-Z8n_Bt"
      },
      "source": [
        "! rm -rf PyTorch-Architectures/\n",
        "! git clone https://github.com/vishal-burman/PyTorch-Architectures.git/\n",
        "%cd PyTorch-Architectures/research/modeling_MLM/"
      ],
      "execution_count": null,
      "outputs": []
    },
    {
      "cell_type": "code",
      "metadata": {
        "id": "ziFxO-XroMuq"
      },
      "source": [
        "import string\n",
        "import time\n",
        "from datasets import load_dataset\n",
        "from transformers import DistilBertTokenizer, DistilBertModel, DistilBertConfig\n",
        "import torch\n",
        "import torch.nn as nn\n",
        "import torch.nn.functional as F\n",
        "from torch.utils.data import Dataset, DataLoader\n",
        "from model import MLM"
      ],
      "execution_count": 2,
      "outputs": []
    },
    {
      "cell_type": "code",
      "metadata": {
        "colab": {
          "base_uri": "https://localhost:8080/"
        },
        "id": "AM2gVfm4oEA2",
        "outputId": "7e8bc59c-3fd0-4230-93b9-6b0d97fc5fc7"
      },
      "source": [
        "%%time\n",
        "dataset = load_dataset('cnn_dailymail', '3.0.0')"
      ],
      "execution_count": 3,
      "outputs": [
        {
          "output_type": "stream",
          "text": [
            "Reusing dataset cnn_dailymail (/root/.cache/huggingface/datasets/cnn_dailymail/3.0.0/3.0.0/3cb851bf7cf5826e45d49db2863f627cba583cbc32342df7349dfe6c38060234)\n"
          ],
          "name": "stderr"
        },
        {
          "output_type": "stream",
          "text": [
            "CPU times: user 84.9 ms, sys: 22.3 ms, total: 107 ms\n",
            "Wall time: 588 ms\n"
          ],
          "name": "stdout"
        }
      ]
    },
    {
      "cell_type": "code",
      "metadata": {
        "id": "TGTddLSQw-Eg"
      },
      "source": [
        "# Crap to deal with less vocabulary\n",
        "def sentence_cleanup(text, max_len=8):\n",
        "  text = text.translate(str.maketrans('', '', string.punctuation))\n",
        "  text = ' '.join(text.split()[:max_len])\n",
        "  text = text.lower()\n",
        "  return text"
      ],
      "execution_count": 4,
      "outputs": []
    },
    {
      "cell_type": "code",
      "metadata": {
        "id": "Svwk9rsqqnaC",
        "colab": {
          "base_uri": "https://localhost:8080/"
        },
        "outputId": "4c7bd496-bb81-4d4c-da47-74e1f42de47c"
      },
      "source": [
        "sentences = []\n",
        "for sample in dataset['train']:\n",
        "  if len(sentences) == 10000:\n",
        "    break\n",
        "  sentences.append(sample['article'])\n",
        "\n",
        "sentences = list(map(sentence_cleanup, sentences))\n",
        "print('No. of samples: ', len(sentences))"
      ],
      "execution_count": 5,
      "outputs": [
        {
          "output_type": "stream",
          "text": [
            "No. of samples:  10000\n"
          ],
          "name": "stdout"
        }
      ]
    },
    {
      "cell_type": "code",
      "metadata": {
        "colab": {
          "base_uri": "https://localhost:8080/"
        },
        "id": "yW2gi9_1MyA0",
        "outputId": "e0c60545-3e7f-4719-f0ad-866715ae4b69"
      },
      "source": [
        "split = 90 * len(sentences) // 100\n",
        "train_sentences = sentences[:split]\n",
        "valid_sentences = sentences[split:]\n",
        "print('No. of train samples: ', len(train_sentences))\n",
        "print('No. of train samples: ', len(valid_sentences))"
      ],
      "execution_count": 6,
      "outputs": [
        {
          "output_type": "stream",
          "text": [
            "No. of train samples:  9000\n",
            "No. of train samples:  1000\n"
          ],
          "name": "stdout"
        }
      ]
    },
    {
      "cell_type": "code",
      "metadata": {
        "id": "y5ZYZt3BNZRm"
      },
      "source": [
        "device = torch.device('cuda:0' if torch.cuda.is_available() else 'cpu')\n",
        "tokenizer = DistilBertTokenizer.from_pretrained('distilbert-base-uncased')\n",
        "config = DistilBertConfig()\n",
        "transformer = DistilBertModel(config)"
      ],
      "execution_count": 7,
      "outputs": []
    },
    {
      "cell_type": "code",
      "metadata": {
        "id": "12Z2T5GYSt_Z"
      },
      "source": [
        "model = MLM(transformer=transformer,\n",
        "            pad_token_id=tokenizer.pad_token_id,\n",
        "            mask_token_id=tokenizer.mask_token_id,\n",
        "            mask_prob=0.15,\n",
        "            num_tokens=tokenizer.vocab_size,\n",
        "            replace_prob=0.90)\n",
        "model.to(device)"
      ],
      "execution_count": null,
      "outputs": []
    },
    {
      "cell_type": "code",
      "metadata": {
        "id": "6ADfg4IuTsXZ"
      },
      "source": [
        "class CustomDataset(Dataset):\n",
        "  def __init__(self, tokenizer, sentences, max_input_length=16):\n",
        "    self.tokenizer = tokenizer\n",
        "    self.sentences = sentences\n",
        "    self.max_input_length = max_input_length\n",
        "  \n",
        "  def __len__(self):\n",
        "    return len(self.sentences)\n",
        "  \n",
        "  def __getitem__(self, idx):\n",
        "    texts = self.sentences[idx]\n",
        "    tokens = self.tokenizer(texts,\n",
        "                            max_length=self.max_input_length,\n",
        "                            padding='max_length',\n",
        "                            truncation=True,\n",
        "                            return_tensors='pt')\n",
        "    return {\n",
        "        'input_ids': tokens['input_ids'],\n",
        "        'attention_mask': tokens['attention_mask'],\n",
        "    }"
      ],
      "execution_count": 10,
      "outputs": []
    },
    {
      "cell_type": "code",
      "metadata": {
        "id": "fRwZEycoODjZ"
      },
      "source": [
        "# Sanity check CustomDataset\n",
        "sample_dataset = CustomDataset(tokenizer=tokenizer,\n",
        "                               sentences=valid_sentences,\n",
        "                               max_input_length=16)\n",
        "sample_dataloader = DataLoader(dataset=sample_dataset,\n",
        "                               batch_size=32,\n",
        "                               shuffle=False,)\n",
        "\n",
        "for sample in sample_dataloader:\n",
        "  assert sample['input_ids'].squeeze(1).dim() == 2\n",
        "  break"
      ],
      "execution_count": 13,
      "outputs": []
    },
    {
      "cell_type": "code",
      "metadata": {
        "id": "AaoKaUAhQNEQ"
      },
      "source": [
        "# Sanity check MLM module\n",
        "model.eval()\n",
        "with torch.set_grad_enabled(False):\n",
        "  input_ids = sample['input_ids'].squeeze(1).to(device)\n",
        "  logits, labels = model(input_ids)\n",
        "  assert logits.size(0) == labels.size(0)\n",
        "  assert logits.size(1) == labels.size(1)\n",
        "  assert logits.size(2) == tokenizer.vocab_size"
      ],
      "execution_count": 22,
      "outputs": []
    },
    {
      "cell_type": "code",
      "metadata": {
        "id": "XNBCje46sRup"
      },
      "source": [
        ""
      ],
      "execution_count": null,
      "outputs": []
    }
  ]
}