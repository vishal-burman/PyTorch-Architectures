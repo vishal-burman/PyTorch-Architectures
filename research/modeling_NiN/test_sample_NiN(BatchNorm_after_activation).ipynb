{
  "nbformat": 4,
  "nbformat_minor": 0,
  "metadata": {
    "colab": {
      "name": "test_sample_NiN(BatchNorm_after_activation).ipynb",
      "provenance": [],
      "authorship_tag": "ABX9TyPlzLitAPtRRHAvAq6HTod+",
      "include_colab_link": true
    },
    "kernelspec": {
      "name": "python3",
      "display_name": "Python 3"
    },
    "accelerator": "GPU",
    "widgets": {
      "application/vnd.jupyter.widget-state+json": {
        "6a0c7341c99b4bd797f814488a72bafe": {
          "model_module": "@jupyter-widgets/controls",
          "model_name": "HBoxModel",
          "state": {
            "_view_name": "HBoxView",
            "_dom_classes": [],
            "_model_name": "HBoxModel",
            "_view_module": "@jupyter-widgets/controls",
            "_model_module_version": "1.5.0",
            "_view_count": null,
            "_view_module_version": "1.5.0",
            "box_style": "",
            "layout": "IPY_MODEL_0facf244a6d440379c080139ff54b05d",
            "_model_module": "@jupyter-widgets/controls",
            "children": [
              "IPY_MODEL_771146656b634cb889c02a71e105e9c1",
              "IPY_MODEL_e97e02489f53490680008c862f97911e"
            ]
          }
        },
        "0facf244a6d440379c080139ff54b05d": {
          "model_module": "@jupyter-widgets/base",
          "model_name": "LayoutModel",
          "state": {
            "_view_name": "LayoutView",
            "grid_template_rows": null,
            "right": null,
            "justify_content": null,
            "_view_module": "@jupyter-widgets/base",
            "overflow": null,
            "_model_module_version": "1.2.0",
            "_view_count": null,
            "flex_flow": null,
            "width": null,
            "min_width": null,
            "border": null,
            "align_items": null,
            "bottom": null,
            "_model_module": "@jupyter-widgets/base",
            "top": null,
            "grid_column": null,
            "overflow_y": null,
            "overflow_x": null,
            "grid_auto_flow": null,
            "grid_area": null,
            "grid_template_columns": null,
            "flex": null,
            "_model_name": "LayoutModel",
            "justify_items": null,
            "grid_row": null,
            "max_height": null,
            "align_content": null,
            "visibility": null,
            "align_self": null,
            "height": null,
            "min_height": null,
            "padding": null,
            "grid_auto_rows": null,
            "grid_gap": null,
            "max_width": null,
            "order": null,
            "_view_module_version": "1.2.0",
            "grid_template_areas": null,
            "object_position": null,
            "object_fit": null,
            "grid_auto_columns": null,
            "margin": null,
            "display": null,
            "left": null
          }
        },
        "771146656b634cb889c02a71e105e9c1": {
          "model_module": "@jupyter-widgets/controls",
          "model_name": "FloatProgressModel",
          "state": {
            "_view_name": "ProgressView",
            "style": "IPY_MODEL_b81456aeb71a41ce9ec882da5d9e6f01",
            "_dom_classes": [],
            "description": "",
            "_model_name": "FloatProgressModel",
            "bar_style": "info",
            "max": 1,
            "_view_module": "@jupyter-widgets/controls",
            "_model_module_version": "1.5.0",
            "value": 1,
            "_view_count": null,
            "_view_module_version": "1.5.0",
            "orientation": "horizontal",
            "min": 0,
            "description_tooltip": null,
            "_model_module": "@jupyter-widgets/controls",
            "layout": "IPY_MODEL_016a34ce13944ea09b1643535fe6f930"
          }
        },
        "e97e02489f53490680008c862f97911e": {
          "model_module": "@jupyter-widgets/controls",
          "model_name": "HTMLModel",
          "state": {
            "_view_name": "HTMLView",
            "style": "IPY_MODEL_b4790436b9c54f71b4f43e2cbf8bb780",
            "_dom_classes": [],
            "description": "",
            "_model_name": "HTMLModel",
            "placeholder": "​",
            "_view_module": "@jupyter-widgets/controls",
            "_model_module_version": "1.5.0",
            "value": " 170500096/? [00:20&lt;00:00, 96515348.13it/s]",
            "_view_count": null,
            "_view_module_version": "1.5.0",
            "description_tooltip": null,
            "_model_module": "@jupyter-widgets/controls",
            "layout": "IPY_MODEL_0ee866a4343e45ff8a09a85502a5cd77"
          }
        },
        "b81456aeb71a41ce9ec882da5d9e6f01": {
          "model_module": "@jupyter-widgets/controls",
          "model_name": "ProgressStyleModel",
          "state": {
            "_view_name": "StyleView",
            "_model_name": "ProgressStyleModel",
            "description_width": "initial",
            "_view_module": "@jupyter-widgets/base",
            "_model_module_version": "1.5.0",
            "_view_count": null,
            "_view_module_version": "1.2.0",
            "bar_color": null,
            "_model_module": "@jupyter-widgets/controls"
          }
        },
        "016a34ce13944ea09b1643535fe6f930": {
          "model_module": "@jupyter-widgets/base",
          "model_name": "LayoutModel",
          "state": {
            "_view_name": "LayoutView",
            "grid_template_rows": null,
            "right": null,
            "justify_content": null,
            "_view_module": "@jupyter-widgets/base",
            "overflow": null,
            "_model_module_version": "1.2.0",
            "_view_count": null,
            "flex_flow": null,
            "width": null,
            "min_width": null,
            "border": null,
            "align_items": null,
            "bottom": null,
            "_model_module": "@jupyter-widgets/base",
            "top": null,
            "grid_column": null,
            "overflow_y": null,
            "overflow_x": null,
            "grid_auto_flow": null,
            "grid_area": null,
            "grid_template_columns": null,
            "flex": null,
            "_model_name": "LayoutModel",
            "justify_items": null,
            "grid_row": null,
            "max_height": null,
            "align_content": null,
            "visibility": null,
            "align_self": null,
            "height": null,
            "min_height": null,
            "padding": null,
            "grid_auto_rows": null,
            "grid_gap": null,
            "max_width": null,
            "order": null,
            "_view_module_version": "1.2.0",
            "grid_template_areas": null,
            "object_position": null,
            "object_fit": null,
            "grid_auto_columns": null,
            "margin": null,
            "display": null,
            "left": null
          }
        },
        "b4790436b9c54f71b4f43e2cbf8bb780": {
          "model_module": "@jupyter-widgets/controls",
          "model_name": "DescriptionStyleModel",
          "state": {
            "_view_name": "StyleView",
            "_model_name": "DescriptionStyleModel",
            "description_width": "",
            "_view_module": "@jupyter-widgets/base",
            "_model_module_version": "1.5.0",
            "_view_count": null,
            "_view_module_version": "1.2.0",
            "_model_module": "@jupyter-widgets/controls"
          }
        },
        "0ee866a4343e45ff8a09a85502a5cd77": {
          "model_module": "@jupyter-widgets/base",
          "model_name": "LayoutModel",
          "state": {
            "_view_name": "LayoutView",
            "grid_template_rows": null,
            "right": null,
            "justify_content": null,
            "_view_module": "@jupyter-widgets/base",
            "overflow": null,
            "_model_module_version": "1.2.0",
            "_view_count": null,
            "flex_flow": null,
            "width": null,
            "min_width": null,
            "border": null,
            "align_items": null,
            "bottom": null,
            "_model_module": "@jupyter-widgets/base",
            "top": null,
            "grid_column": null,
            "overflow_y": null,
            "overflow_x": null,
            "grid_auto_flow": null,
            "grid_area": null,
            "grid_template_columns": null,
            "flex": null,
            "_model_name": "LayoutModel",
            "justify_items": null,
            "grid_row": null,
            "max_height": null,
            "align_content": null,
            "visibility": null,
            "align_self": null,
            "height": null,
            "min_height": null,
            "padding": null,
            "grid_auto_rows": null,
            "grid_gap": null,
            "max_width": null,
            "order": null,
            "_view_module_version": "1.2.0",
            "grid_template_areas": null,
            "object_position": null,
            "object_fit": null,
            "grid_auto_columns": null,
            "margin": null,
            "display": null,
            "left": null
          }
        }
      }
    }
  },
  "cells": [
    {
      "cell_type": "markdown",
      "metadata": {
        "id": "view-in-github",
        "colab_type": "text"
      },
      "source": [
        "<a href=\"https://colab.research.google.com/github/vishal-burman/PyTorch-Architectures/blob/master/research/modeling_NiN/test_sample_NiN(BatchNorm_after_activation).ipynb\" target=\"_parent\"><img src=\"https://colab.research.google.com/assets/colab-badge.svg\" alt=\"Open In Colab\"/></a>"
      ]
    },
    {
      "cell_type": "code",
      "metadata": {
        "colab": {
          "base_uri": "https://localhost:8080/"
        },
        "id": "Iu6mSi35fFSJ",
        "outputId": "50bf0b07-5494-4ae6-f071-040cafb83d5e"
      },
      "source": [
        "! git clone https://github.com/vishal-burman/PyTorch-Architectures.git"
      ],
      "execution_count": 1,
      "outputs": [
        {
          "output_type": "stream",
          "text": [
            "Cloning into 'PyTorch-Architectures'...\n",
            "remote: Enumerating objects: 139, done.\u001b[K\n",
            "remote: Counting objects: 100% (139/139), done.\u001b[K\n",
            "remote: Compressing objects: 100% (93/93), done.\u001b[K\n",
            "remote: Total 1442 (delta 80), reused 74 (delta 33), pack-reused 1303\u001b[K\n",
            "Receiving objects: 100% (1442/1442), 8.57 MiB | 21.99 MiB/s, done.\n",
            "Resolving deltas: 100% (848/848), done.\n"
          ],
          "name": "stdout"
        }
      ]
    },
    {
      "cell_type": "code",
      "metadata": {
        "colab": {
          "base_uri": "https://localhost:8080/"
        },
        "id": "MKoAwcw1hDSd",
        "outputId": "cd29dbf3-5cdf-478c-fc09-956510c081bc"
      },
      "source": [
        "%cd PyTorch-Architectures/research/modeling_NiN/"
      ],
      "execution_count": 2,
      "outputs": [
        {
          "output_type": "stream",
          "text": [
            "/content/PyTorch-Architectures/research/modeling_NiN\n"
          ],
          "name": "stdout"
        }
      ]
    },
    {
      "cell_type": "code",
      "metadata": {
        "id": "WafPjP-4hElz"
      },
      "source": [
        "import time\r\n",
        "\r\n",
        "import torch\r\n",
        "import torch.nn as nn\r\n",
        "import torch.nn.functional as F\r\n",
        "\r\n",
        "from torch.utils.data import Dataset, DataLoader, Subset\r\n",
        "\r\n",
        "from torchvision import datasets, transforms\r\n",
        "\r\n",
        "from NiN_bn_after_activation import NiN\r\n",
        "\r\n",
        "if torch.cuda.is_available():\r\n",
        "  torch.backends.cudnn.deterministic = True"
      ],
      "execution_count": 3,
      "outputs": []
    },
    {
      "cell_type": "code",
      "metadata": {
        "id": "8xfV1U5rhIm9"
      },
      "source": [
        "#############\r\n",
        "# Settings\r\n",
        "#############\r\n",
        "\r\n",
        "RANDOM_SEED = 1\r\n",
        "LEARNING_RATE = 0.0005\r\n",
        "BATCH_SIZE = 256\r\n",
        "EPOCHS = 10\r\n",
        "\r\n",
        "# Architecture\r\n",
        "NUM_CLASSES = 10\r\n",
        "\r\n",
        "# Other\r\n",
        "DEVICE = torch.device(\"cuda:0\" if torch.cuda.is_available() else \"cpu\")\r\n",
        "GRAYSCALE = False"
      ],
      "execution_count": 4,
      "outputs": []
    },
    {
      "cell_type": "code",
      "metadata": {
        "colab": {
          "base_uri": "https://localhost:8080/",
          "height": 308,
          "referenced_widgets": [
            "6a0c7341c99b4bd797f814488a72bafe",
            "0facf244a6d440379c080139ff54b05d",
            "771146656b634cb889c02a71e105e9c1",
            "e97e02489f53490680008c862f97911e",
            "b81456aeb71a41ce9ec882da5d9e6f01",
            "016a34ce13944ea09b1643535fe6f930",
            "b4790436b9c54f71b4f43e2cbf8bb780",
            "0ee866a4343e45ff8a09a85502a5cd77"
          ]
        },
        "id": "F3LTedTShLW7",
        "outputId": "15221570-7e1d-4683-ef8f-1955aba71505"
      },
      "source": [
        "########################\r\n",
        "# CIFAR-10\r\n",
        "########################\r\n",
        "\r\n",
        "train_indices = torch.arange(0, 49000)\r\n",
        "valid_indices = torch.arange(49000, 50000)\r\n",
        "\r\n",
        "train_and_valid = datasets.CIFAR10(root='data',\r\n",
        "                                   train=True,\r\n",
        "                                   transform=transforms.ToTensor(),\r\n",
        "                                   download=True)\r\n",
        "\r\n",
        "train_dataset = Subset(train_and_valid, train_indices)\r\n",
        "valid_dataset = Subset(train_and_valid, valid_indices)\r\n",
        "\r\n",
        "test_dataset = datasets.CIFAR10(root='data',\r\n",
        "                                train=False, \r\n",
        "                                transform=transforms.ToTensor())\r\n",
        "\r\n",
        "########################\r\n",
        "# DataLoaders\r\n",
        "########################\r\n",
        "\r\n",
        "train_loader = DataLoader(dataset=train_dataset,\r\n",
        "                          batch_size=BATCH_SIZE,\r\n",
        "                          num_workers=4,\r\n",
        "                          shuffle=True)\r\n",
        "valid_loader = DataLoader(dataset=valid_dataset,\r\n",
        "                          batch_size=BATCH_SIZE,\r\n",
        "                          num_workers=4,\r\n",
        "                          shuffle=False)\r\n",
        "test_loader = DataLoader(dataset=test_dataset,\r\n",
        "                         batch_size=BATCH_SIZE,\r\n",
        "                         num_workers=4,\r\n",
        "                         shuffle=False)\r\n",
        "\r\n",
        "############################\r\n",
        "# Check dataset\r\n",
        "############################\r\n",
        "for images, labels in train_loader:\r\n",
        "  print('Images Dimensions: ', images.shape)\r\n",
        "  print('Labels Dimensions: ', labels.shape, \"\\n\")\r\n",
        "  break\r\n",
        "\r\n",
        "for images, labels in valid_loader:\r\n",
        "  print('Images Dimensions: ', images.shape)\r\n",
        "  print('Labels Dimensions: ', labels.shape, \"\\n\")\r\n",
        "  break\r\n",
        "\r\n",
        "for images, labels in test_loader:\r\n",
        "  print('Images Dimensions: ', images.shape)\r\n",
        "  print('Labels Dimensions: ', labels.shape, \"\\n\")\r\n",
        "  break\r\n",
        "\r\n",
        "print('Length of train_loader: ', len(train_loader))\r\n",
        "print('Length of valid_loader: ', len(valid_loader))\r\n",
        "print('Length of test_loader: ', len(test_loader))"
      ],
      "execution_count": 5,
      "outputs": [
        {
          "output_type": "stream",
          "text": [
            "Downloading https://www.cs.toronto.edu/~kriz/cifar-10-python.tar.gz to data/cifar-10-python.tar.gz\n"
          ],
          "name": "stdout"
        },
        {
          "output_type": "display_data",
          "data": {
            "application/vnd.jupyter.widget-view+json": {
              "model_id": "6a0c7341c99b4bd797f814488a72bafe",
              "version_minor": 0,
              "version_major": 2
            },
            "text/plain": [
              "HBox(children=(FloatProgress(value=1.0, bar_style='info', max=1.0), HTML(value='')))"
            ]
          },
          "metadata": {
            "tags": []
          }
        },
        {
          "output_type": "stream",
          "text": [
            "Extracting data/cifar-10-python.tar.gz to data\n",
            "Images Dimensions:  torch.Size([256, 3, 32, 32])\n",
            "Labels Dimensions:  torch.Size([256]) \n",
            "\n",
            "Images Dimensions:  torch.Size([256, 3, 32, 32])\n",
            "Labels Dimensions:  torch.Size([256]) \n",
            "\n",
            "Images Dimensions:  torch.Size([256, 3, 32, 32])\n",
            "Labels Dimensions:  torch.Size([256]) \n",
            "\n",
            "Length of train_loader:  192\n",
            "Length of valid_loader:  4\n",
            "Length of test_loader:  40\n"
          ],
          "name": "stdout"
        }
      ]
    },
    {
      "cell_type": "code",
      "metadata": {
        "colab": {
          "base_uri": "https://localhost:8080/"
        },
        "id": "74tKHl7OhQBT",
        "outputId": "3e1e8fe7-474c-443d-c262-0e11a6e9fcf3"
      },
      "source": [
        "torch.manual_seed(RANDOM_SEED)\r\n",
        "\r\n",
        "model = NiN(num_classes=NUM_CLASSES)\r\n",
        "model.to(DEVICE)\r\n",
        "\r\n",
        "params = sum(p.numel() for p in model.parameters() if p.requires_grad)\r\n",
        "print('Total trainable parameters: ', params)\r\n",
        "\r\n",
        "optimizer = torch.optim.Adam(model.parameters(), lr=LEARNING_RATE)"
      ],
      "execution_count": 6,
      "outputs": [
        {
          "output_type": "stream",
          "text": [
            "Total trainable parameters:  968394\n"
          ],
          "name": "stdout"
        }
      ]
    },
    {
      "cell_type": "code",
      "metadata": {
        "colab": {
          "base_uri": "https://localhost:8080/"
        },
        "id": "c0yGbpJUhUki",
        "outputId": "b925b739-0f8f-4ed0-8e69-f7649b450d28"
      },
      "source": [
        "def compute_accuracy(model, data_loader, device):\r\n",
        "  correct_pred, num_examples = 0, 0\r\n",
        "  for idx, (features, targets) in enumerate(data_loader):\r\n",
        "    features = features.to(device)\r\n",
        "    targets = targets.to(device)\r\n",
        "\r\n",
        "    logits, probas = model(features)\r\n",
        "    _, predicted_labels = torch.max(probas, 1)\r\n",
        "    correct_pred += (predicted_labels == targets).sum()\r\n",
        "    num_examples += targets.size(0)\r\n",
        "  return correct_pred.float()/ num_examples * 100\r\n",
        "\r\n",
        "start_time = time.time()\r\n",
        "for epoch in range(EPOCHS):\r\n",
        "  model.train()\r\n",
        "  for idx, (features, targets) in enumerate(train_loader):\r\n",
        "    features = features.to(DEVICE)\r\n",
        "    targets = targets.to(DEVICE)\r\n",
        "\r\n",
        "    logits, _ = model(features)\r\n",
        "\r\n",
        "    loss = F.cross_entropy(logits, targets)\r\n",
        "    optimizer.zero_grad()\r\n",
        "    loss.backward()\r\n",
        "    optimizer.step()\r\n",
        "\r\n",
        "    # LOGGING\r\n",
        "    if idx % 120 == 0:\r\n",
        "      print('Batch: %04d/%04d || Epoch: %04d/%04d || Loss: %.3f' % (idx, len(train_loader), epoch+1, EPOCHS, loss.item()))\r\n",
        "  \r\n",
        "  model.eval()\r\n",
        "  with torch.set_grad_enabled(False):\r\n",
        "    train_accuracy = compute_accuracy(model, train_loader, DEVICE)\r\n",
        "    valid_accuracy = compute_accuracy(model, valid_loader, DEVICE)\r\n",
        "    print('Train Accuracy: %.2f' % (train_accuracy))\r\n",
        "    print('Valid Accuracy: %.2f' % (valid_accuracy))\r\n",
        "  epoch_elapsed_time = (time.time() - start_time) / 60\r\n",
        "  print('Epoch Elapsed Time: %.2f min' % (epoch_elapsed_time))\r\n",
        "total_elapsed_time = (time.time() - start_time) / 60\r\n",
        "print('Total Elapsed Time: %.2f min' % (total_elapsed_time))"
      ],
      "execution_count": 7,
      "outputs": [
        {
          "output_type": "stream",
          "text": [
            "Batch: 0000/0192 || Epoch: 0001/0010 || Loss: 2.304\n",
            "Batch: 0120/0192 || Epoch: 0001/0010 || Loss: 1.134\n",
            "Train Accuracy: 57.13\n",
            "Valid Accuracy: 56.00\n",
            "Epoch Elapsed Time: 0.61 min\n",
            "Batch: 0000/0192 || Epoch: 0002/0010 || Loss: 0.991\n",
            "Batch: 0120/0192 || Epoch: 0002/0010 || Loss: 0.840\n",
            "Train Accuracy: 57.95\n",
            "Valid Accuracy: 57.00\n",
            "Epoch Elapsed Time: 1.25 min\n",
            "Batch: 0000/0192 || Epoch: 0003/0010 || Loss: 0.737\n",
            "Batch: 0120/0192 || Epoch: 0003/0010 || Loss: 0.713\n",
            "Train Accuracy: 74.52\n",
            "Valid Accuracy: 72.70\n",
            "Epoch Elapsed Time: 1.88 min\n",
            "Batch: 0000/0192 || Epoch: 0004/0010 || Loss: 0.670\n",
            "Batch: 0120/0192 || Epoch: 0004/0010 || Loss: 0.679\n",
            "Train Accuracy: 74.97\n",
            "Valid Accuracy: 71.50\n",
            "Epoch Elapsed Time: 2.51 min\n",
            "Batch: 0000/0192 || Epoch: 0005/0010 || Loss: 0.579\n",
            "Batch: 0120/0192 || Epoch: 0005/0010 || Loss: 0.622\n",
            "Train Accuracy: 80.68\n",
            "Valid Accuracy: 77.00\n",
            "Epoch Elapsed Time: 3.13 min\n",
            "Batch: 0000/0192 || Epoch: 0006/0010 || Loss: 0.488\n",
            "Batch: 0120/0192 || Epoch: 0006/0010 || Loss: 0.552\n",
            "Train Accuracy: 79.54\n",
            "Valid Accuracy: 74.60\n",
            "Epoch Elapsed Time: 3.76 min\n",
            "Batch: 0000/0192 || Epoch: 0007/0010 || Loss: 0.406\n",
            "Batch: 0120/0192 || Epoch: 0007/0010 || Loss: 0.517\n",
            "Train Accuracy: 84.15\n",
            "Valid Accuracy: 78.30\n",
            "Epoch Elapsed Time: 4.39 min\n",
            "Batch: 0000/0192 || Epoch: 0008/0010 || Loss: 0.446\n",
            "Batch: 0120/0192 || Epoch: 0008/0010 || Loss: 0.555\n",
            "Train Accuracy: 82.44\n",
            "Valid Accuracy: 76.50\n",
            "Epoch Elapsed Time: 5.01 min\n",
            "Batch: 0000/0192 || Epoch: 0009/0010 || Loss: 0.348\n",
            "Batch: 0120/0192 || Epoch: 0009/0010 || Loss: 0.368\n",
            "Train Accuracy: 86.66\n",
            "Valid Accuracy: 81.00\n",
            "Epoch Elapsed Time: 5.64 min\n",
            "Batch: 0000/0192 || Epoch: 0010/0010 || Loss: 0.463\n",
            "Batch: 0120/0192 || Epoch: 0010/0010 || Loss: 0.373\n",
            "Train Accuracy: 87.03\n",
            "Valid Accuracy: 80.70\n",
            "Epoch Elapsed Time: 6.27 min\n",
            "Total Elapsed Time: 6.27 min\n"
          ],
          "name": "stdout"
        }
      ]
    },
    {
      "cell_type": "code",
      "metadata": {
        "id": "-uvZdHlIhYpa"
      },
      "source": [
        ""
      ],
      "execution_count": null,
      "outputs": []
    }
  ]
}