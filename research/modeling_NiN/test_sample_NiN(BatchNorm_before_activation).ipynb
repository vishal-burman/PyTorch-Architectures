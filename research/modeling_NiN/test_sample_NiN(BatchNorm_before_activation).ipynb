{
  "nbformat": 4,
  "nbformat_minor": 0,
  "metadata": {
    "colab": {
      "name": "test_sample_NiN(BatchNorm before activation).ipynb",
      "provenance": [],
      "authorship_tag": "ABX9TyN9IrzJYYUVKVo70WkMDDfd",
      "include_colab_link": true
    },
    "kernelspec": {
      "name": "python3",
      "display_name": "Python 3"
    },
    "accelerator": "GPU",
    "widgets": {
      "application/vnd.jupyter.widget-state+json": {
        "b645745b44864b7e8280192a54650573": {
          "model_module": "@jupyter-widgets/controls",
          "model_name": "HBoxModel",
          "state": {
            "_view_name": "HBoxView",
            "_dom_classes": [],
            "_model_name": "HBoxModel",
            "_view_module": "@jupyter-widgets/controls",
            "_model_module_version": "1.5.0",
            "_view_count": null,
            "_view_module_version": "1.5.0",
            "box_style": "",
            "layout": "IPY_MODEL_7881b5eb1d714929b5b8bf7ce8444aaf",
            "_model_module": "@jupyter-widgets/controls",
            "children": [
              "IPY_MODEL_59473ea5983d4606acf4d9ec60e1648c",
              "IPY_MODEL_ecf9e55cd1b947f8b8e34b2a1bf57cc2"
            ]
          }
        },
        "7881b5eb1d714929b5b8bf7ce8444aaf": {
          "model_module": "@jupyter-widgets/base",
          "model_name": "LayoutModel",
          "state": {
            "_view_name": "LayoutView",
            "grid_template_rows": null,
            "right": null,
            "justify_content": null,
            "_view_module": "@jupyter-widgets/base",
            "overflow": null,
            "_model_module_version": "1.2.0",
            "_view_count": null,
            "flex_flow": null,
            "width": null,
            "min_width": null,
            "border": null,
            "align_items": null,
            "bottom": null,
            "_model_module": "@jupyter-widgets/base",
            "top": null,
            "grid_column": null,
            "overflow_y": null,
            "overflow_x": null,
            "grid_auto_flow": null,
            "grid_area": null,
            "grid_template_columns": null,
            "flex": null,
            "_model_name": "LayoutModel",
            "justify_items": null,
            "grid_row": null,
            "max_height": null,
            "align_content": null,
            "visibility": null,
            "align_self": null,
            "height": null,
            "min_height": null,
            "padding": null,
            "grid_auto_rows": null,
            "grid_gap": null,
            "max_width": null,
            "order": null,
            "_view_module_version": "1.2.0",
            "grid_template_areas": null,
            "object_position": null,
            "object_fit": null,
            "grid_auto_columns": null,
            "margin": null,
            "display": null,
            "left": null
          }
        },
        "59473ea5983d4606acf4d9ec60e1648c": {
          "model_module": "@jupyter-widgets/controls",
          "model_name": "FloatProgressModel",
          "state": {
            "_view_name": "ProgressView",
            "style": "IPY_MODEL_d27eb8f2905e43df828432e392397b9f",
            "_dom_classes": [],
            "description": "",
            "_model_name": "FloatProgressModel",
            "bar_style": "success",
            "max": 1,
            "_view_module": "@jupyter-widgets/controls",
            "_model_module_version": "1.5.0",
            "value": 1,
            "_view_count": null,
            "_view_module_version": "1.5.0",
            "orientation": "horizontal",
            "min": 0,
            "description_tooltip": null,
            "_model_module": "@jupyter-widgets/controls",
            "layout": "IPY_MODEL_3a87bce1b437422f89bcc2c33dc0063c"
          }
        },
        "ecf9e55cd1b947f8b8e34b2a1bf57cc2": {
          "model_module": "@jupyter-widgets/controls",
          "model_name": "HTMLModel",
          "state": {
            "_view_name": "HTMLView",
            "style": "IPY_MODEL_18c39b6852c041eba22ffa42f9d31eba",
            "_dom_classes": [],
            "description": "",
            "_model_name": "HTMLModel",
            "placeholder": "​",
            "_view_module": "@jupyter-widgets/controls",
            "_model_module_version": "1.5.0",
            "value": " 170500096/? [00:08&lt;00:00, 19697279.56it/s]",
            "_view_count": null,
            "_view_module_version": "1.5.0",
            "description_tooltip": null,
            "_model_module": "@jupyter-widgets/controls",
            "layout": "IPY_MODEL_3f663244df7e4332b9a7aaf3e3921b32"
          }
        },
        "d27eb8f2905e43df828432e392397b9f": {
          "model_module": "@jupyter-widgets/controls",
          "model_name": "ProgressStyleModel",
          "state": {
            "_view_name": "StyleView",
            "_model_name": "ProgressStyleModel",
            "description_width": "initial",
            "_view_module": "@jupyter-widgets/base",
            "_model_module_version": "1.5.0",
            "_view_count": null,
            "_view_module_version": "1.2.0",
            "bar_color": null,
            "_model_module": "@jupyter-widgets/controls"
          }
        },
        "3a87bce1b437422f89bcc2c33dc0063c": {
          "model_module": "@jupyter-widgets/base",
          "model_name": "LayoutModel",
          "state": {
            "_view_name": "LayoutView",
            "grid_template_rows": null,
            "right": null,
            "justify_content": null,
            "_view_module": "@jupyter-widgets/base",
            "overflow": null,
            "_model_module_version": "1.2.0",
            "_view_count": null,
            "flex_flow": null,
            "width": null,
            "min_width": null,
            "border": null,
            "align_items": null,
            "bottom": null,
            "_model_module": "@jupyter-widgets/base",
            "top": null,
            "grid_column": null,
            "overflow_y": null,
            "overflow_x": null,
            "grid_auto_flow": null,
            "grid_area": null,
            "grid_template_columns": null,
            "flex": null,
            "_model_name": "LayoutModel",
            "justify_items": null,
            "grid_row": null,
            "max_height": null,
            "align_content": null,
            "visibility": null,
            "align_self": null,
            "height": null,
            "min_height": null,
            "padding": null,
            "grid_auto_rows": null,
            "grid_gap": null,
            "max_width": null,
            "order": null,
            "_view_module_version": "1.2.0",
            "grid_template_areas": null,
            "object_position": null,
            "object_fit": null,
            "grid_auto_columns": null,
            "margin": null,
            "display": null,
            "left": null
          }
        },
        "18c39b6852c041eba22ffa42f9d31eba": {
          "model_module": "@jupyter-widgets/controls",
          "model_name": "DescriptionStyleModel",
          "state": {
            "_view_name": "StyleView",
            "_model_name": "DescriptionStyleModel",
            "description_width": "",
            "_view_module": "@jupyter-widgets/base",
            "_model_module_version": "1.5.0",
            "_view_count": null,
            "_view_module_version": "1.2.0",
            "_model_module": "@jupyter-widgets/controls"
          }
        },
        "3f663244df7e4332b9a7aaf3e3921b32": {
          "model_module": "@jupyter-widgets/base",
          "model_name": "LayoutModel",
          "state": {
            "_view_name": "LayoutView",
            "grid_template_rows": null,
            "right": null,
            "justify_content": null,
            "_view_module": "@jupyter-widgets/base",
            "overflow": null,
            "_model_module_version": "1.2.0",
            "_view_count": null,
            "flex_flow": null,
            "width": null,
            "min_width": null,
            "border": null,
            "align_items": null,
            "bottom": null,
            "_model_module": "@jupyter-widgets/base",
            "top": null,
            "grid_column": null,
            "overflow_y": null,
            "overflow_x": null,
            "grid_auto_flow": null,
            "grid_area": null,
            "grid_template_columns": null,
            "flex": null,
            "_model_name": "LayoutModel",
            "justify_items": null,
            "grid_row": null,
            "max_height": null,
            "align_content": null,
            "visibility": null,
            "align_self": null,
            "height": null,
            "min_height": null,
            "padding": null,
            "grid_auto_rows": null,
            "grid_gap": null,
            "max_width": null,
            "order": null,
            "_view_module_version": "1.2.0",
            "grid_template_areas": null,
            "object_position": null,
            "object_fit": null,
            "grid_auto_columns": null,
            "margin": null,
            "display": null,
            "left": null
          }
        }
      }
    }
  },
  "cells": [
    {
      "cell_type": "markdown",
      "metadata": {
        "id": "view-in-github",
        "colab_type": "text"
      },
      "source": [
        "<a href=\"https://colab.research.google.com/github/vishal-burman/PyTorch-Architectures/blob/master/research/modeling_NiN/test_sample_NiN(BatchNorm_before_activation).ipynb\" target=\"_parent\"><img src=\"https://colab.research.google.com/assets/colab-badge.svg\" alt=\"Open In Colab\"/></a>"
      ]
    },
    {
      "cell_type": "code",
      "metadata": {
        "colab": {
          "base_uri": "https://localhost:8080/"
        },
        "id": "6xO74DY-XPQ4",
        "outputId": "ef6ab6f3-0594-46cd-e2aa-5ed5383bc5e4"
      },
      "source": [
        "! git clone https://github.com/vishal-burman/PyTorch-Architectures.git"
      ],
      "execution_count": 1,
      "outputs": [
        {
          "output_type": "stream",
          "text": [
            "Cloning into 'PyTorch-Architectures'...\n",
            "remote: Enumerating objects: 134, done.\u001b[K\n",
            "remote: Counting objects: 100% (134/134), done.\u001b[K\n",
            "remote: Compressing objects: 100% (89/89), done.\u001b[K\n",
            "remote: Total 1437 (delta 77), reused 76 (delta 33), pack-reused 1303\u001b[K\n",
            "Receiving objects: 100% (1437/1437), 8.57 MiB | 24.37 MiB/s, done.\n",
            "Resolving deltas: 100% (845/845), done.\n"
          ],
          "name": "stdout"
        }
      ]
    },
    {
      "cell_type": "code",
      "metadata": {
        "colab": {
          "base_uri": "https://localhost:8080/"
        },
        "id": "-jqpTXATX8fV",
        "outputId": "d8ae3420-dc24-4b47-cdc6-cc51032e698b"
      },
      "source": [
        "%cd PyTorch-Architectures/research/modeling_NiN/"
      ],
      "execution_count": 2,
      "outputs": [
        {
          "output_type": "stream",
          "text": [
            "/content/PyTorch-Architectures/research/modeling_NiN\n"
          ],
          "name": "stdout"
        }
      ]
    },
    {
      "cell_type": "code",
      "metadata": {
        "id": "7r5nfAGYX_GR"
      },
      "source": [
        "import time\r\n",
        "\r\n",
        "import torch\r\n",
        "import torch.nn as nn\r\n",
        "import torch.nn.functional as F\r\n",
        "\r\n",
        "from torch.utils.data import Dataset, DataLoader, Subset\r\n",
        "\r\n",
        "from torchvision import datasets, transforms\r\n",
        "\r\n",
        "from NiN_bn_before_activation import NiN\r\n",
        "\r\n",
        "if torch.cuda.is_available():\r\n",
        "  torch.backends.cudnn.deterministic = True"
      ],
      "execution_count": 5,
      "outputs": []
    },
    {
      "cell_type": "code",
      "metadata": {
        "id": "dWd5eJp3YE7S"
      },
      "source": [
        "#############\r\n",
        "# Settings\r\n",
        "#############\r\n",
        "\r\n",
        "RANDOM_SEED = 1\r\n",
        "LEARNING_RATE = 0.0005\r\n",
        "BATCH_SIZE = 256\r\n",
        "EPOCHS = 10\r\n",
        "\r\n",
        "# Architecture\r\n",
        "NUM_CLASSES = 10\r\n",
        "\r\n",
        "# Other\r\n",
        "DEVICE = torch.device(\"cuda:0\" if torch.cuda.is_available() else \"cpu\")\r\n",
        "GRAYSCALE = False"
      ],
      "execution_count": 6,
      "outputs": []
    },
    {
      "cell_type": "code",
      "metadata": {
        "colab": {
          "base_uri": "https://localhost:8080/",
          "height": 400,
          "referenced_widgets": [
            "b645745b44864b7e8280192a54650573",
            "7881b5eb1d714929b5b8bf7ce8444aaf",
            "59473ea5983d4606acf4d9ec60e1648c",
            "ecf9e55cd1b947f8b8e34b2a1bf57cc2",
            "d27eb8f2905e43df828432e392397b9f",
            "3a87bce1b437422f89bcc2c33dc0063c",
            "18c39b6852c041eba22ffa42f9d31eba",
            "3f663244df7e4332b9a7aaf3e3921b32"
          ]
        },
        "id": "B6ppucgZYZKd",
        "outputId": "aebd42cd-a0d2-40b9-ed55-454f93a1968a"
      },
      "source": [
        "########################\r\n",
        "# CIFAR-10\r\n",
        "########################\r\n",
        "\r\n",
        "train_indices = torch.arange(0, 49000)\r\n",
        "valid_indices = torch.arange(49000, 50000)\r\n",
        "\r\n",
        "train_and_valid = datasets.CIFAR10(root='data',\r\n",
        "                                   train=True,\r\n",
        "                                   transform=transforms.ToTensor(),\r\n",
        "                                   download=True)\r\n",
        "\r\n",
        "train_dataset = Subset(train_and_valid, train_indices)\r\n",
        "valid_dataset = Subset(train_and_valid, valid_indices)\r\n",
        "\r\n",
        "test_dataset = datasets.CIFAR10(root='data',\r\n",
        "                                train=False, \r\n",
        "                                transform=transforms.ToTensor())\r\n",
        "\r\n",
        "########################\r\n",
        "# DataLoaders\r\n",
        "########################\r\n",
        "\r\n",
        "train_loader = DataLoader(dataset=train_dataset,\r\n",
        "                          batch_size=BATCH_SIZE,\r\n",
        "                          num_workers=4,\r\n",
        "                          shuffle=True)\r\n",
        "valid_loader = DataLoader(dataset=valid_dataset,\r\n",
        "                          batch_size=BATCH_SIZE,\r\n",
        "                          num_workers=4,\r\n",
        "                          shuffle=False)\r\n",
        "test_loader = DataLoader(dataset=test_dataset,\r\n",
        "                         batch_size=BATCH_SIZE,\r\n",
        "                         num_workers=4,\r\n",
        "                         shuffle=False)\r\n",
        "\r\n",
        "############################\r\n",
        "# Check dataset\r\n",
        "############################\r\n",
        "for images, labels in train_loader:\r\n",
        "  print('Images Dimensions: ', images.shape)\r\n",
        "  print('Labels Dimensions: ', labels.shape, \"\\n\")\r\n",
        "  break\r\n",
        "\r\n",
        "for images, labels in valid_loader:\r\n",
        "  print('Images Dimensions: ', images.shape)\r\n",
        "  print('Labels Dimensions: ', labels.shape, \"\\n\")\r\n",
        "  break\r\n",
        "\r\n",
        "for images, labels in test_loader:\r\n",
        "  print('Images Dimensions: ', images.shape)\r\n",
        "  print('Labels Dimensions: ', labels.shape, \"\\n\")\r\n",
        "  break\r\n",
        "\r\n",
        "print('Length of train_loader: ', len(train_loader))\r\n",
        "print('Length of valid_loader: ', len(valid_loader))\r\n",
        "print('Length of test_loader: ', len(test_loader))"
      ],
      "execution_count": 7,
      "outputs": [
        {
          "output_type": "stream",
          "text": [
            "Downloading https://www.cs.toronto.edu/~kriz/cifar-10-python.tar.gz to data/cifar-10-python.tar.gz\n"
          ],
          "name": "stdout"
        },
        {
          "output_type": "display_data",
          "data": {
            "application/vnd.jupyter.widget-view+json": {
              "model_id": "b645745b44864b7e8280192a54650573",
              "version_minor": 0,
              "version_major": 2
            },
            "text/plain": [
              "HBox(children=(FloatProgress(value=1.0, bar_style='info', max=1.0), HTML(value='')))"
            ]
          },
          "metadata": {
            "tags": []
          }
        },
        {
          "output_type": "stream",
          "text": [
            "Extracting data/cifar-10-python.tar.gz to data\n",
            "\n",
            "\n",
            "\n",
            "\n",
            "Images Dimensions:  torch.Size([256, 3, 32, 32])\n",
            "Labels Dimensions:  torch.Size([256]) \n",
            "\n",
            "\n",
            "Images Dimensions:  torch.Size([256, 3, 32, 32])\n",
            "Labels Dimensions:  torch.Size([256]) \n",
            "\n",
            "Images Dimensions:  torch.Size([256, 3, 32, 32])\n",
            "Labels Dimensions:  torch.Size([256]) \n",
            "\n",
            "Length of train_loader:  192\n",
            "Length of valid_loader:  4\n",
            "Length of test_loader:  40\n"
          ],
          "name": "stdout"
        }
      ]
    },
    {
      "cell_type": "code",
      "metadata": {
        "colab": {
          "base_uri": "https://localhost:8080/"
        },
        "id": "bU5drzUdYc6v",
        "outputId": "96348e3e-a679-4b48-92ba-a74c2714dc93"
      },
      "source": [
        "torch.manual_seed(RANDOM_SEED)\r\n",
        "\r\n",
        "model = NiN(num_classes=NUM_CLASSES)\r\n",
        "model.to(DEVICE)\r\n",
        "\r\n",
        "params = sum(p.numel() for p in model.parameters() if p.requires_grad)\r\n",
        "print('Total trainable parameters: ', params)\r\n",
        "\r\n",
        "optimizer = torch.optim.Adam(model.parameters(), lr=LEARNING_RATE)"
      ],
      "execution_count": 9,
      "outputs": [
        {
          "output_type": "stream",
          "text": [
            "Total trainable parameters:  968394\n"
          ],
          "name": "stdout"
        }
      ]
    },
    {
      "cell_type": "code",
      "metadata": {
        "colab": {
          "base_uri": "https://localhost:8080/"
        },
        "id": "ScTDgQc1YgfQ",
        "outputId": "2f3b1d47-1a0d-4abe-d4a2-3a7bee683880"
      },
      "source": [
        "def compute_accuracy(model, data_loader, device):\r\n",
        "  correct_pred, num_examples = 0, 0\r\n",
        "  for idx, (features, targets) in enumerate(data_loader):\r\n",
        "    features = features.to(device)\r\n",
        "    targets = targets.to(device)\r\n",
        "\r\n",
        "    logits, probas = model(features)\r\n",
        "    _, predicted_labels = torch.max(probas, 1)\r\n",
        "    correct_pred += (predicted_labels == targets).sum()\r\n",
        "    num_examples += targets.size(0)\r\n",
        "  return correct_pred.float()/ num_examples * 100\r\n",
        "\r\n",
        "start_time = time.time()\r\n",
        "for epoch in range(EPOCHS):\r\n",
        "  model.train()\r\n",
        "  for idx, (features, targets) in enumerate(train_loader):\r\n",
        "    features = features.to(DEVICE)\r\n",
        "    targets = targets.to(DEVICE)\r\n",
        "\r\n",
        "    logits, _ = model(features)\r\n",
        "\r\n",
        "    loss = F.cross_entropy(logits, targets)\r\n",
        "    optimizer.zero_grad()\r\n",
        "    loss.backward()\r\n",
        "    optimizer.step()\r\n",
        "\r\n",
        "    # LOGGING\r\n",
        "    if idx % 120 == 0:\r\n",
        "      print('Batch: %04d/%04d || Epoch: %04d/%04d || Loss: %.3f' % (idx, len(train_loader), epoch+1, EPOCHS, loss.item()))\r\n",
        "  \r\n",
        "  model.eval()\r\n",
        "  with torch.set_grad_enabled(False):\r\n",
        "    train_accuracy = compute_accuracy(model, train_loader, DEVICE)\r\n",
        "    valid_accuracy = compute_accuracy(model, valid_loader, DEVICE)\r\n",
        "    print('Train Accuracy: %.2f' % (train_accuracy))\r\n",
        "    print('Valid Accuracy: %.2f' % (valid_accuracy))\r\n",
        "  epoch_elapsed_time = (time.time() - start_time) / 60\r\n",
        "  print('Epoch Elapsed Time: %.2f min' % (epoch_elapsed_time))\r\n",
        "total_elapsed_time = (time.time() - start_time) / 60\r\n",
        "print('Total Elapsed Time: %.2f min' % (total_elapsed_time))"
      ],
      "execution_count": 10,
      "outputs": [
        {
          "output_type": "stream",
          "text": [
            "Batch: 0000/0192 || Epoch: 0001/0010 || Loss: 2.299\n",
            "Batch: 0120/0192 || Epoch: 0001/0010 || Loss: 1.210\n",
            "Train Accuracy: 54.34\n",
            "Valid Accuracy: 52.50\n",
            "Epoch Elapsed Time: 0.57 min\n",
            "Batch: 0000/0192 || Epoch: 0002/0010 || Loss: 1.047\n",
            "Batch: 0120/0192 || Epoch: 0002/0010 || Loss: 0.930\n",
            "Train Accuracy: 63.80\n",
            "Valid Accuracy: 63.00\n",
            "Epoch Elapsed Time: 1.16 min\n",
            "Batch: 0000/0192 || Epoch: 0003/0010 || Loss: 0.803\n",
            "Batch: 0120/0192 || Epoch: 0003/0010 || Loss: 0.863\n",
            "Train Accuracy: 68.95\n",
            "Valid Accuracy: 68.90\n",
            "Epoch Elapsed Time: 1.75 min\n",
            "Batch: 0000/0192 || Epoch: 0004/0010 || Loss: 0.706\n",
            "Batch: 0120/0192 || Epoch: 0004/0010 || Loss: 0.714\n",
            "Train Accuracy: 69.32\n",
            "Valid Accuracy: 67.80\n",
            "Epoch Elapsed Time: 2.35 min\n",
            "Batch: 0000/0192 || Epoch: 0005/0010 || Loss: 0.610\n",
            "Batch: 0120/0192 || Epoch: 0005/0010 || Loss: 0.634\n",
            "Train Accuracy: 75.90\n",
            "Valid Accuracy: 72.90\n",
            "Epoch Elapsed Time: 2.95 min\n",
            "Batch: 0000/0192 || Epoch: 0006/0010 || Loss: 0.500\n",
            "Batch: 0120/0192 || Epoch: 0006/0010 || Loss: 0.602\n",
            "Train Accuracy: 69.10\n",
            "Valid Accuracy: 67.90\n",
            "Epoch Elapsed Time: 3.57 min\n",
            "Batch: 0000/0192 || Epoch: 0007/0010 || Loss: 0.534\n",
            "Batch: 0120/0192 || Epoch: 0007/0010 || Loss: 0.542\n",
            "Train Accuracy: 76.34\n",
            "Valid Accuracy: 73.60\n",
            "Epoch Elapsed Time: 4.18 min\n",
            "Batch: 0000/0192 || Epoch: 0008/0010 || Loss: 0.525\n",
            "Batch: 0120/0192 || Epoch: 0008/0010 || Loss: 0.563\n",
            "Train Accuracy: 83.06\n",
            "Valid Accuracy: 79.70\n",
            "Epoch Elapsed Time: 4.80 min\n",
            "Batch: 0000/0192 || Epoch: 0009/0010 || Loss: 0.441\n",
            "Batch: 0120/0192 || Epoch: 0009/0010 || Loss: 0.465\n",
            "Train Accuracy: 76.54\n",
            "Valid Accuracy: 74.40\n",
            "Epoch Elapsed Time: 5.42 min\n",
            "Batch: 0000/0192 || Epoch: 0010/0010 || Loss: 0.562\n",
            "Batch: 0120/0192 || Epoch: 0010/0010 || Loss: 0.434\n",
            "Train Accuracy: 82.73\n",
            "Valid Accuracy: 80.20\n",
            "Epoch Elapsed Time: 6.04 min\n",
            "Total Elapsed Time: 6.04 min\n"
          ],
          "name": "stdout"
        }
      ]
    },
    {
      "cell_type": "code",
      "metadata": {
        "id": "FYagbFfrYpdz"
      },
      "source": [
        ""
      ],
      "execution_count": null,
      "outputs": []
    }
  ]
}