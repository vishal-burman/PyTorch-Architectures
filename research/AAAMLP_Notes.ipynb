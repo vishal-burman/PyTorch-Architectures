{
  "nbformat": 4,
  "nbformat_minor": 0,
  "metadata": {
    "colab": {
      "name": "AAAMLP_Notes.ipynb",
      "provenance": [],
      "authorship_tag": "ABX9TyPr2hQvWhpBQzSkpSksGvwU",
      "include_colab_link": true
    },
    "kernelspec": {
      "name": "python3",
      "display_name": "Python 3"
    },
    "language_info": {
      "name": "python"
    }
  },
  "cells": [
    {
      "cell_type": "markdown",
      "metadata": {
        "id": "view-in-github",
        "colab_type": "text"
      },
      "source": [
        "<a href=\"https://colab.research.google.com/github/vishal-burman/PyTorch-Architectures/blob/master/research/AAAMLP_Notes.ipynb\" target=\"_parent\"><img src=\"https://colab.research.google.com/assets/colab-badge.svg\" alt=\"Open In Colab\"/></a>"
      ]
    },
    {
      "cell_type": "code",
      "metadata": {
        "id": "BtHdWxoH5zXi"
      },
      "source": [
        "! wget https://archive.ics.uci.edu/ml/machine-learning-databases/wine-quality/winequality-red.csv"
      ],
      "execution_count": null,
      "outputs": []
    },
    {
      "cell_type": "code",
      "metadata": {
        "id": "uTYFIJcN552r"
      },
      "source": [
        "import pandas as pd\n",
        "from sklearn.metrics import accuracy_score\n",
        "from sklearn.tree import DecisionTreeClassifier"
      ],
      "execution_count": 10,
      "outputs": []
    },
    {
      "cell_type": "code",
      "metadata": {
        "id": "GhtAL-E36AJL"
      },
      "source": [
        "dataset = pd.read_csv(\"winequality-red.csv\", sep=\";\")  "
      ],
      "execution_count": 2,
      "outputs": []
    },
    {
      "cell_type": "code",
      "metadata": {
        "colab": {
          "base_uri": "https://localhost:8080/",
          "height": 223
        },
        "id": "yggv02bP6F7Z",
        "outputId": "895f44ba-2781-4f3b-f4e7-ba1c1fed8aa9"
      },
      "source": [
        "dataset.head()"
      ],
      "execution_count": 3,
      "outputs": [
        {
          "output_type": "execute_result",
          "data": {
            "text/html": [
              "<div>\n",
              "<style scoped>\n",
              "    .dataframe tbody tr th:only-of-type {\n",
              "        vertical-align: middle;\n",
              "    }\n",
              "\n",
              "    .dataframe tbody tr th {\n",
              "        vertical-align: top;\n",
              "    }\n",
              "\n",
              "    .dataframe thead th {\n",
              "        text-align: right;\n",
              "    }\n",
              "</style>\n",
              "<table border=\"1\" class=\"dataframe\">\n",
              "  <thead>\n",
              "    <tr style=\"text-align: right;\">\n",
              "      <th></th>\n",
              "      <th>fixed acidity</th>\n",
              "      <th>volatile acidity</th>\n",
              "      <th>citric acid</th>\n",
              "      <th>residual sugar</th>\n",
              "      <th>chlorides</th>\n",
              "      <th>free sulfur dioxide</th>\n",
              "      <th>total sulfur dioxide</th>\n",
              "      <th>density</th>\n",
              "      <th>pH</th>\n",
              "      <th>sulphates</th>\n",
              "      <th>alcohol</th>\n",
              "      <th>quality</th>\n",
              "    </tr>\n",
              "  </thead>\n",
              "  <tbody>\n",
              "    <tr>\n",
              "      <th>0</th>\n",
              "      <td>7.4</td>\n",
              "      <td>0.70</td>\n",
              "      <td>0.00</td>\n",
              "      <td>1.9</td>\n",
              "      <td>0.076</td>\n",
              "      <td>11.0</td>\n",
              "      <td>34.0</td>\n",
              "      <td>0.9978</td>\n",
              "      <td>3.51</td>\n",
              "      <td>0.56</td>\n",
              "      <td>9.4</td>\n",
              "      <td>5</td>\n",
              "    </tr>\n",
              "    <tr>\n",
              "      <th>1</th>\n",
              "      <td>7.8</td>\n",
              "      <td>0.88</td>\n",
              "      <td>0.00</td>\n",
              "      <td>2.6</td>\n",
              "      <td>0.098</td>\n",
              "      <td>25.0</td>\n",
              "      <td>67.0</td>\n",
              "      <td>0.9968</td>\n",
              "      <td>3.20</td>\n",
              "      <td>0.68</td>\n",
              "      <td>9.8</td>\n",
              "      <td>5</td>\n",
              "    </tr>\n",
              "    <tr>\n",
              "      <th>2</th>\n",
              "      <td>7.8</td>\n",
              "      <td>0.76</td>\n",
              "      <td>0.04</td>\n",
              "      <td>2.3</td>\n",
              "      <td>0.092</td>\n",
              "      <td>15.0</td>\n",
              "      <td>54.0</td>\n",
              "      <td>0.9970</td>\n",
              "      <td>3.26</td>\n",
              "      <td>0.65</td>\n",
              "      <td>9.8</td>\n",
              "      <td>5</td>\n",
              "    </tr>\n",
              "    <tr>\n",
              "      <th>3</th>\n",
              "      <td>11.2</td>\n",
              "      <td>0.28</td>\n",
              "      <td>0.56</td>\n",
              "      <td>1.9</td>\n",
              "      <td>0.075</td>\n",
              "      <td>17.0</td>\n",
              "      <td>60.0</td>\n",
              "      <td>0.9980</td>\n",
              "      <td>3.16</td>\n",
              "      <td>0.58</td>\n",
              "      <td>9.8</td>\n",
              "      <td>6</td>\n",
              "    </tr>\n",
              "    <tr>\n",
              "      <th>4</th>\n",
              "      <td>7.4</td>\n",
              "      <td>0.70</td>\n",
              "      <td>0.00</td>\n",
              "      <td>1.9</td>\n",
              "      <td>0.076</td>\n",
              "      <td>11.0</td>\n",
              "      <td>34.0</td>\n",
              "      <td>0.9978</td>\n",
              "      <td>3.51</td>\n",
              "      <td>0.56</td>\n",
              "      <td>9.4</td>\n",
              "      <td>5</td>\n",
              "    </tr>\n",
              "  </tbody>\n",
              "</table>\n",
              "</div>"
            ],
            "text/plain": [
              "   fixed acidity  volatile acidity  citric acid  ...  sulphates  alcohol  quality\n",
              "0            7.4              0.70         0.00  ...       0.56      9.4        5\n",
              "1            7.8              0.88         0.00  ...       0.68      9.8        5\n",
              "2            7.8              0.76         0.04  ...       0.65      9.8        5\n",
              "3           11.2              0.28         0.56  ...       0.58      9.8        6\n",
              "4            7.4              0.70         0.00  ...       0.56      9.4        5\n",
              "\n",
              "[5 rows x 12 columns]"
            ]
          },
          "metadata": {},
          "execution_count": 3
        }
      ]
    },
    {
      "cell_type": "code",
      "metadata": {
        "id": "iAeSmnJ_6GSf"
      },
      "source": [
        "quality_mapping = {\n",
        "    3: 0,\n",
        "    4: 1,\n",
        "    5: 2,\n",
        "    6: 3,\n",
        "    7: 4,\n",
        "    8: 5,\n",
        "}\n",
        "dataset[\"quality\"] = dataset.quality.map(quality_mapping)"
      ],
      "execution_count": 4,
      "outputs": []
    },
    {
      "cell_type": "code",
      "metadata": {
        "id": "cQAWOLVv6Ukm"
      },
      "source": [
        "dataset = dataset.sample(frac=1).reset_index(drop=True) # Randomize the df"
      ],
      "execution_count": 5,
      "outputs": []
    },
    {
      "cell_type": "code",
      "metadata": {
        "id": "ktkIW1Ra_yff"
      },
      "source": [
        "dataset_train = dataset.head(1000)\n",
        "dataset_valid = dataset.tail(599)"
      ],
      "execution_count": 6,
      "outputs": []
    },
    {
      "cell_type": "code",
      "metadata": {
        "colab": {
          "base_uri": "https://localhost:8080/"
        },
        "id": "fayGnp_Y6xAB",
        "outputId": "31c8a832-dd49-48d2-b8e6-00825c0e3ccf"
      },
      "source": [
        "columns = list(dataset.columns)\n",
        "columns.remove(\"quality\")\n",
        "columns"
      ],
      "execution_count": 7,
      "outputs": [
        {
          "output_type": "execute_result",
          "data": {
            "text/plain": [
              "['fixed acidity',\n",
              " 'volatile acidity',\n",
              " 'citric acid',\n",
              " 'residual sugar',\n",
              " 'chlorides',\n",
              " 'free sulfur dioxide',\n",
              " 'total sulfur dioxide',\n",
              " 'density',\n",
              " 'pH',\n",
              " 'sulphates',\n",
              " 'alcohol']"
            ]
          },
          "metadata": {},
          "execution_count": 7
        }
      ]
    },
    {
      "cell_type": "code",
      "metadata": {
        "id": "8aOF65jt-QMN"
      },
      "source": [
        "classifier = DecisionTreeClassifier(max_depth=3)"
      ],
      "execution_count": 8,
      "outputs": []
    },
    {
      "cell_type": "code",
      "metadata": {
        "colab": {
          "base_uri": "https://localhost:8080/"
        },
        "id": "mRabFVMv_ROY",
        "outputId": "e600be23-1577-4848-9c6d-5cdb60a01d8f"
      },
      "source": [
        "classifier.fit(dataset_train[columns], dataset_train.quality)"
      ],
      "execution_count": 9,
      "outputs": [
        {
          "output_type": "execute_result",
          "data": {
            "text/plain": [
              "DecisionTreeClassifier(ccp_alpha=0.0, class_weight=None, criterion='gini',\n",
              "                       max_depth=3, max_features=None, max_leaf_nodes=None,\n",
              "                       min_impurity_decrease=0.0, min_impurity_split=None,\n",
              "                       min_samples_leaf=1, min_samples_split=2,\n",
              "                       min_weight_fraction_leaf=0.0, presort='deprecated',\n",
              "                       random_state=None, splitter='best')"
            ]
          },
          "metadata": {},
          "execution_count": 9
        }
      ]
    },
    {
      "cell_type": "code",
      "metadata": {
        "colab": {
          "base_uri": "https://localhost:8080/"
        },
        "id": "Lc6Loxv6_mZZ",
        "outputId": "06f72af0-14f5-4465-b413-2e3b7a317609"
      },
      "source": [
        "train_predictions = classifier.predict(dataset_train[columns])\n",
        "train_accuracy = accuracy_score(dataset_train.quality, train_predictions)\n",
        "train_accuracy"
      ],
      "execution_count": 11,
      "outputs": [
        {
          "output_type": "execute_result",
          "data": {
            "text/plain": [
              "0.596"
            ]
          },
          "metadata": {},
          "execution_count": 11
        }
      ]
    },
    {
      "cell_type": "code",
      "metadata": {
        "colab": {
          "base_uri": "https://localhost:8080/"
        },
        "id": "67fpPYisAqIF",
        "outputId": "987e8ae4-4f34-446e-f580-011585675833"
      },
      "source": [
        "valid_predictions = classifier.predict(dataset_valid[columns])\n",
        "valid_accuracy = accuracy_score(dataset_valid.quality, valid_predictions)\n",
        "valid_accuracy"
      ],
      "execution_count": 13,
      "outputs": [
        {
          "output_type": "execute_result",
          "data": {
            "text/plain": [
              "0.5575959933222037"
            ]
          },
          "metadata": {},
          "execution_count": 13
        }
      ]
    },
    {
      "cell_type": "code",
      "metadata": {
        "colab": {
          "base_uri": "https://localhost:8080/"
        },
        "id": "nqRdf6GuA86c",
        "outputId": "9d25aea5-36b1-49fc-e9bc-4e9a9c612108"
      },
      "source": [
        "# Changing the depth of tree classifier to max_depth=7\n",
        "classifier = DecisionTreeClassifier(max_depth=7)\n",
        "classifier.fit(dataset_train[columns], dataset_train.quality)\n",
        "\n",
        "train_predictions = classifier.predict(dataset_train[columns])\n",
        "train_accuracy = accuracy_score(dataset_train.quality, train_predictions)\n",
        "\n",
        "valid_predictions = classifier.predict(dataset_valid[columns])\n",
        "valid_accuracy = accuracy_score(dataset_valid.quality, valid_predictions)\n",
        "\n",
        "print(f\"Train Accuracy: {train_accuracy: .3f} || Valid Accuracy: {valid_accuracy: .3f}\")"
      ],
      "execution_count": 14,
      "outputs": [
        {
          "output_type": "stream",
          "text": [
            "Train Accuracy:  0.775 || Valid Accuracy:  0.583\n"
          ],
          "name": "stdout"
        }
      ]
    },
    {
      "cell_type": "code",
      "metadata": {
        "colab": {
          "base_uri": "https://localhost:8080/"
        },
        "id": "oJ8hggdFCBac",
        "outputId": "9cc8a032-f302-43b4-a8f1-359ac73648ce"
      },
      "source": [
        "# Looking at the train and Test Accuracy for depth=1 to depth=25\n",
        "\n",
        "for i in range(1, 26):\n",
        "  classifier = DecisionTreeClassifier(max_depth=i)\n",
        "  classifier.fit(dataset_train[columns], dataset_train.quality)\n",
        "\n",
        "  train_predictions = classifier.predict(dataset_train[columns])\n",
        "  train_accuracy = accuracy_score(dataset_train.quality, train_predictions)\n",
        "\n",
        "  valid_predictions = classifier.predict(dataset_valid[columns])\n",
        "  valid_accuracy = accuracy_score(dataset_valid.quality, valid_predictions)\n",
        "\n",
        "  print(f\"Train Accuracy: {train_accuracy: .3f} || Valid Accuracy: {valid_accuracy: .3f}\")"
      ],
      "execution_count": 18,
      "outputs": [
        {
          "output_type": "stream",
          "text": [
            "Train Accuracy:  0.563 || Valid Accuracy:  0.538\n",
            "Train Accuracy:  0.563 || Valid Accuracy:  0.538\n",
            "Train Accuracy:  0.596 || Valid Accuracy:  0.558\n",
            "Train Accuracy:  0.630 || Valid Accuracy:  0.564\n",
            "Train Accuracy:  0.651 || Valid Accuracy:  0.566\n",
            "Train Accuracy:  0.720 || Valid Accuracy:  0.571\n",
            "Train Accuracy:  0.775 || Valid Accuracy:  0.584\n",
            "Train Accuracy:  0.834 || Valid Accuracy:  0.579\n",
            "Train Accuracy:  0.888 || Valid Accuracy:  0.564\n",
            "Train Accuracy:  0.911 || Valid Accuracy:  0.574\n",
            "Train Accuracy:  0.934 || Valid Accuracy:  0.596\n",
            "Train Accuracy:  0.959 || Valid Accuracy:  0.574\n",
            "Train Accuracy:  0.977 || Valid Accuracy:  0.586\n",
            "Train Accuracy:  0.984 || Valid Accuracy:  0.593\n",
            "Train Accuracy:  0.990 || Valid Accuracy:  0.583\n",
            "Train Accuracy:  0.997 || Valid Accuracy:  0.591\n",
            "Train Accuracy:  1.000 || Valid Accuracy:  0.579\n",
            "Train Accuracy:  1.000 || Valid Accuracy:  0.581\n",
            "Train Accuracy:  1.000 || Valid Accuracy:  0.594\n",
            "Train Accuracy:  1.000 || Valid Accuracy:  0.596\n",
            "Train Accuracy:  1.000 || Valid Accuracy:  0.598\n",
            "Train Accuracy:  1.000 || Valid Accuracy:  0.574\n",
            "Train Accuracy:  1.000 || Valid Accuracy:  0.573\n",
            "Train Accuracy:  1.000 || Valid Accuracy:  0.581\n",
            "Train Accuracy:  1.000 || Valid Accuracy:  0.596\n"
          ],
          "name": "stdout"
        }
      ]
    },
    {
      "cell_type": "code",
      "metadata": {
        "id": "1NFS22ahCdh6"
      },
      "source": [
        ""
      ],
      "execution_count": null,
      "outputs": []
    }
  ]
}