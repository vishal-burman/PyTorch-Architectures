{
  "nbformat": 4,
  "nbformat_minor": 0,
  "metadata": {
    "colab": {
      "name": "AAAMLP_Notes.ipynb",
      "provenance": [],
      "collapsed_sections": [],
      "authorship_tag": "ABX9TyMzi+2A2uaRUwWlgw0lBZO0",
      "include_colab_link": true
    },
    "kernelspec": {
      "name": "python3",
      "display_name": "Python 3"
    },
    "language_info": {
      "name": "python"
    }
  },
  "cells": [
    {
      "cell_type": "markdown",
      "metadata": {
        "id": "view-in-github",
        "colab_type": "text"
      },
      "source": [
        "<a href=\"https://colab.research.google.com/github/vishal-burman/PyTorch-Architectures/blob/master/research/AAAMLP_Notes.ipynb\" target=\"_parent\"><img src=\"https://colab.research.google.com/assets/colab-badge.svg\" alt=\"Open In Colab\"/></a>"
      ]
    },
    {
      "cell_type": "code",
      "metadata": {
        "id": "BtHdWxoH5zXi"
      },
      "source": [
        "! wget https://archive.ics.uci.edu/ml/machine-learning-databases/wine-quality/winequality-red.csv"
      ],
      "execution_count": null,
      "outputs": []
    },
    {
      "cell_type": "code",
      "metadata": {
        "id": "uTYFIJcN552r"
      },
      "source": [
        "import pandas as pd\n",
        "from sklearn import datasets\n",
        "from sklearn.metrics import accuracy_score\n",
        "from sklearn.tree import DecisionTreeClassifier\n",
        "from sklearn.model_selection import StratifiedKFold"
      ],
      "execution_count": 33,
      "outputs": []
    },
    {
      "cell_type": "code",
      "metadata": {
        "id": "GhtAL-E36AJL"
      },
      "source": [
        "dataset = pd.read_csv(\"winequality-red.csv\", sep=\";\")  "
      ],
      "execution_count": 3,
      "outputs": []
    },
    {
      "cell_type": "code",
      "metadata": {
        "colab": {
          "base_uri": "https://localhost:8080/",
          "height": 223
        },
        "id": "yggv02bP6F7Z",
        "outputId": "1fd615ca-3fe7-4fd2-b8d1-60ad2da8a9a7"
      },
      "source": [
        "dataset.head()"
      ],
      "execution_count": 4,
      "outputs": [
        {
          "output_type": "execute_result",
          "data": {
            "text/html": [
              "<div>\n",
              "<style scoped>\n",
              "    .dataframe tbody tr th:only-of-type {\n",
              "        vertical-align: middle;\n",
              "    }\n",
              "\n",
              "    .dataframe tbody tr th {\n",
              "        vertical-align: top;\n",
              "    }\n",
              "\n",
              "    .dataframe thead th {\n",
              "        text-align: right;\n",
              "    }\n",
              "</style>\n",
              "<table border=\"1\" class=\"dataframe\">\n",
              "  <thead>\n",
              "    <tr style=\"text-align: right;\">\n",
              "      <th></th>\n",
              "      <th>fixed acidity</th>\n",
              "      <th>volatile acidity</th>\n",
              "      <th>citric acid</th>\n",
              "      <th>residual sugar</th>\n",
              "      <th>chlorides</th>\n",
              "      <th>free sulfur dioxide</th>\n",
              "      <th>total sulfur dioxide</th>\n",
              "      <th>density</th>\n",
              "      <th>pH</th>\n",
              "      <th>sulphates</th>\n",
              "      <th>alcohol</th>\n",
              "      <th>quality</th>\n",
              "    </tr>\n",
              "  </thead>\n",
              "  <tbody>\n",
              "    <tr>\n",
              "      <th>0</th>\n",
              "      <td>7.4</td>\n",
              "      <td>0.70</td>\n",
              "      <td>0.00</td>\n",
              "      <td>1.9</td>\n",
              "      <td>0.076</td>\n",
              "      <td>11.0</td>\n",
              "      <td>34.0</td>\n",
              "      <td>0.9978</td>\n",
              "      <td>3.51</td>\n",
              "      <td>0.56</td>\n",
              "      <td>9.4</td>\n",
              "      <td>5</td>\n",
              "    </tr>\n",
              "    <tr>\n",
              "      <th>1</th>\n",
              "      <td>7.8</td>\n",
              "      <td>0.88</td>\n",
              "      <td>0.00</td>\n",
              "      <td>2.6</td>\n",
              "      <td>0.098</td>\n",
              "      <td>25.0</td>\n",
              "      <td>67.0</td>\n",
              "      <td>0.9968</td>\n",
              "      <td>3.20</td>\n",
              "      <td>0.68</td>\n",
              "      <td>9.8</td>\n",
              "      <td>5</td>\n",
              "    </tr>\n",
              "    <tr>\n",
              "      <th>2</th>\n",
              "      <td>7.8</td>\n",
              "      <td>0.76</td>\n",
              "      <td>0.04</td>\n",
              "      <td>2.3</td>\n",
              "      <td>0.092</td>\n",
              "      <td>15.0</td>\n",
              "      <td>54.0</td>\n",
              "      <td>0.9970</td>\n",
              "      <td>3.26</td>\n",
              "      <td>0.65</td>\n",
              "      <td>9.8</td>\n",
              "      <td>5</td>\n",
              "    </tr>\n",
              "    <tr>\n",
              "      <th>3</th>\n",
              "      <td>11.2</td>\n",
              "      <td>0.28</td>\n",
              "      <td>0.56</td>\n",
              "      <td>1.9</td>\n",
              "      <td>0.075</td>\n",
              "      <td>17.0</td>\n",
              "      <td>60.0</td>\n",
              "      <td>0.9980</td>\n",
              "      <td>3.16</td>\n",
              "      <td>0.58</td>\n",
              "      <td>9.8</td>\n",
              "      <td>6</td>\n",
              "    </tr>\n",
              "    <tr>\n",
              "      <th>4</th>\n",
              "      <td>7.4</td>\n",
              "      <td>0.70</td>\n",
              "      <td>0.00</td>\n",
              "      <td>1.9</td>\n",
              "      <td>0.076</td>\n",
              "      <td>11.0</td>\n",
              "      <td>34.0</td>\n",
              "      <td>0.9978</td>\n",
              "      <td>3.51</td>\n",
              "      <td>0.56</td>\n",
              "      <td>9.4</td>\n",
              "      <td>5</td>\n",
              "    </tr>\n",
              "  </tbody>\n",
              "</table>\n",
              "</div>"
            ],
            "text/plain": [
              "   fixed acidity  volatile acidity  citric acid  ...  sulphates  alcohol  quality\n",
              "0            7.4              0.70         0.00  ...       0.56      9.4        5\n",
              "1            7.8              0.88         0.00  ...       0.68      9.8        5\n",
              "2            7.8              0.76         0.04  ...       0.65      9.8        5\n",
              "3           11.2              0.28         0.56  ...       0.58      9.8        6\n",
              "4            7.4              0.70         0.00  ...       0.56      9.4        5\n",
              "\n",
              "[5 rows x 12 columns]"
            ]
          },
          "metadata": {},
          "execution_count": 4
        }
      ]
    },
    {
      "cell_type": "code",
      "metadata": {
        "id": "iAeSmnJ_6GSf"
      },
      "source": [
        "quality_mapping = {\n",
        "    3: 0,\n",
        "    4: 1,\n",
        "    5: 2,\n",
        "    6: 3,\n",
        "    7: 4,\n",
        "    8: 5,\n",
        "}\n",
        "dataset[\"quality\"] = dataset.quality.map(quality_mapping)"
      ],
      "execution_count": 5,
      "outputs": []
    },
    {
      "cell_type": "code",
      "metadata": {
        "id": "cQAWOLVv6Ukm"
      },
      "source": [
        "dataset = dataset.sample(frac=1).reset_index(drop=True) # Randomize the df"
      ],
      "execution_count": 6,
      "outputs": []
    },
    {
      "cell_type": "code",
      "metadata": {
        "id": "ktkIW1Ra_yff"
      },
      "source": [
        "dataset_train = dataset.head(1000)\n",
        "dataset_valid = dataset.tail(599)"
      ],
      "execution_count": 7,
      "outputs": []
    },
    {
      "cell_type": "code",
      "metadata": {
        "colab": {
          "base_uri": "https://localhost:8080/"
        },
        "id": "fayGnp_Y6xAB",
        "outputId": "cc7f266e-25ef-4c0e-ac99-ceb3e726a8da"
      },
      "source": [
        "columns = list(dataset.columns)\n",
        "columns.remove(\"quality\")\n",
        "columns"
      ],
      "execution_count": 8,
      "outputs": [
        {
          "output_type": "execute_result",
          "data": {
            "text/plain": [
              "['fixed acidity',\n",
              " 'volatile acidity',\n",
              " 'citric acid',\n",
              " 'residual sugar',\n",
              " 'chlorides',\n",
              " 'free sulfur dioxide',\n",
              " 'total sulfur dioxide',\n",
              " 'density',\n",
              " 'pH',\n",
              " 'sulphates',\n",
              " 'alcohol']"
            ]
          },
          "metadata": {},
          "execution_count": 8
        }
      ]
    },
    {
      "cell_type": "code",
      "metadata": {
        "id": "8aOF65jt-QMN"
      },
      "source": [
        "classifier = DecisionTreeClassifier(max_depth=3)"
      ],
      "execution_count": 9,
      "outputs": []
    },
    {
      "cell_type": "code",
      "metadata": {
        "colab": {
          "base_uri": "https://localhost:8080/"
        },
        "id": "mRabFVMv_ROY",
        "outputId": "906090b5-5c54-4690-dcbf-5baee16cc720"
      },
      "source": [
        "classifier.fit(dataset_train[columns], dataset_train.quality)"
      ],
      "execution_count": 10,
      "outputs": [
        {
          "output_type": "execute_result",
          "data": {
            "text/plain": [
              "DecisionTreeClassifier(ccp_alpha=0.0, class_weight=None, criterion='gini',\n",
              "                       max_depth=3, max_features=None, max_leaf_nodes=None,\n",
              "                       min_impurity_decrease=0.0, min_impurity_split=None,\n",
              "                       min_samples_leaf=1, min_samples_split=2,\n",
              "                       min_weight_fraction_leaf=0.0, presort='deprecated',\n",
              "                       random_state=None, splitter='best')"
            ]
          },
          "metadata": {},
          "execution_count": 10
        }
      ]
    },
    {
      "cell_type": "code",
      "metadata": {
        "colab": {
          "base_uri": "https://localhost:8080/"
        },
        "id": "Lc6Loxv6_mZZ",
        "outputId": "b89007ac-e4a6-41d6-8035-eb2ff69ed468"
      },
      "source": [
        "train_predictions = classifier.predict(dataset_train[columns])\n",
        "train_accuracy = accuracy_score(dataset_train.quality, train_predictions)\n",
        "train_accuracy"
      ],
      "execution_count": 11,
      "outputs": [
        {
          "output_type": "execute_result",
          "data": {
            "text/plain": [
              "0.633"
            ]
          },
          "metadata": {},
          "execution_count": 11
        }
      ]
    },
    {
      "cell_type": "code",
      "metadata": {
        "colab": {
          "base_uri": "https://localhost:8080/"
        },
        "id": "67fpPYisAqIF",
        "outputId": "e81944bf-0a33-43eb-9a4d-0225327ed6aa"
      },
      "source": [
        "valid_predictions = classifier.predict(dataset_valid[columns])\n",
        "valid_accuracy = accuracy_score(dataset_valid.quality, valid_predictions)\n",
        "valid_accuracy"
      ],
      "execution_count": 12,
      "outputs": [
        {
          "output_type": "execute_result",
          "data": {
            "text/plain": [
              "0.5242070116861436"
            ]
          },
          "metadata": {},
          "execution_count": 12
        }
      ]
    },
    {
      "cell_type": "code",
      "metadata": {
        "colab": {
          "base_uri": "https://localhost:8080/"
        },
        "id": "nqRdf6GuA86c",
        "outputId": "2c4d2551-5813-4082-9a5e-f381e1a52395"
      },
      "source": [
        "# Changing the depth of tree classifier to max_depth=7\n",
        "classifier = DecisionTreeClassifier(max_depth=7)\n",
        "classifier.fit(dataset_train[columns], dataset_train.quality)\n",
        "\n",
        "train_predictions = classifier.predict(dataset_train[columns])\n",
        "train_accuracy = accuracy_score(dataset_train.quality, train_predictions)\n",
        "\n",
        "valid_predictions = classifier.predict(dataset_valid[columns])\n",
        "valid_accuracy = accuracy_score(dataset_valid.quality, valid_predictions)\n",
        "\n",
        "print(f\"Train Accuracy: {train_accuracy: .3f} || Valid Accuracy: {valid_accuracy: .3f}\")"
      ],
      "execution_count": 13,
      "outputs": [
        {
          "output_type": "stream",
          "text": [
            "Train Accuracy:  0.808 || Valid Accuracy:  0.536\n"
          ],
          "name": "stdout"
        }
      ]
    },
    {
      "cell_type": "code",
      "metadata": {
        "colab": {
          "base_uri": "https://localhost:8080/"
        },
        "id": "oJ8hggdFCBac",
        "outputId": "993bfe13-70d8-4784-8cc4-cca56ba12dc5"
      },
      "source": [
        "# Looking at the train and Test Accuracy for depth=1 to depth=25\n",
        "\n",
        "for i in range(1, 26):\n",
        "  classifier = DecisionTreeClassifier(max_depth=i)\n",
        "  classifier.fit(dataset_train[columns], dataset_train.quality)\n",
        "\n",
        "  train_predictions = classifier.predict(dataset_train[columns])\n",
        "  train_accuracy = accuracy_score(dataset_train.quality, train_predictions)\n",
        "\n",
        "  valid_predictions = classifier.predict(dataset_valid[columns])\n",
        "  valid_accuracy = accuracy_score(dataset_valid.quality, valid_predictions)\n",
        "\n",
        "  print(f\"Train Accuracy: {train_accuracy: .3f} || Valid Accuracy: {valid_accuracy: .3f}\")"
      ],
      "execution_count": 14,
      "outputs": [
        {
          "output_type": "stream",
          "text": [
            "Train Accuracy:  0.568 || Valid Accuracy:  0.541\n",
            "Train Accuracy:  0.569 || Valid Accuracy:  0.533\n",
            "Train Accuracy:  0.633 || Valid Accuracy:  0.524\n",
            "Train Accuracy:  0.666 || Valid Accuracy:  0.559\n",
            "Train Accuracy:  0.711 || Valid Accuracy:  0.528\n",
            "Train Accuracy:  0.757 || Valid Accuracy:  0.548\n",
            "Train Accuracy:  0.808 || Valid Accuracy:  0.544\n",
            "Train Accuracy:  0.857 || Valid Accuracy:  0.541\n",
            "Train Accuracy:  0.891 || Valid Accuracy:  0.531\n",
            "Train Accuracy:  0.925 || Valid Accuracy:  0.539\n",
            "Train Accuracy:  0.948 || Valid Accuracy:  0.546\n",
            "Train Accuracy:  0.960 || Valid Accuracy:  0.538\n",
            "Train Accuracy:  0.977 || Valid Accuracy:  0.553\n",
            "Train Accuracy:  0.985 || Valid Accuracy:  0.539\n",
            "Train Accuracy:  0.993 || Valid Accuracy:  0.543\n",
            "Train Accuracy:  0.997 || Valid Accuracy:  0.553\n",
            "Train Accuracy:  0.998 || Valid Accuracy:  0.563\n",
            "Train Accuracy:  0.999 || Valid Accuracy:  0.543\n",
            "Train Accuracy:  1.000 || Valid Accuracy:  0.556\n",
            "Train Accuracy:  1.000 || Valid Accuracy:  0.554\n",
            "Train Accuracy:  1.000 || Valid Accuracy:  0.556\n",
            "Train Accuracy:  1.000 || Valid Accuracy:  0.544\n",
            "Train Accuracy:  1.000 || Valid Accuracy:  0.526\n",
            "Train Accuracy:  1.000 || Valid Accuracy:  0.544\n",
            "Train Accuracy:  1.000 || Valid Accuracy:  0.538\n"
          ],
          "name": "stdout"
        }
      ]
    },
    {
      "cell_type": "code",
      "metadata": {
        "id": "1NFS22ahCdh6",
        "colab": {
          "base_uri": "https://localhost:8080/"
        },
        "outputId": "8e57fb72-5a3e-4aec-f2ac-ba0cb4c9feae"
      },
      "source": [
        "# Calculting the distribution of label values\n",
        "distribution_labels = [0] * 6\n",
        "labels = dataset.quality\n",
        "for label in labels:\n",
        "  distribution_labels[label] += 1\n",
        "print(distribution_labels)\n",
        "# Highly skewed dataset favouring some labels --> Using stratified k-fold"
      ],
      "execution_count": 18,
      "outputs": [
        {
          "output_type": "stream",
          "text": [
            "[10, 53, 681, 638, 199, 18]\n"
          ],
          "name": "stdout"
        }
      ]
    },
    {
      "cell_type": "code",
      "metadata": {
        "id": "EXfj8DSM-5bh"
      },
      "source": [
        "dataset_skfold = dataset\n",
        "dataset_skfold[\"kfold\"] = -1\n",
        "dataset_skfold.sample(frac=1).reset_index(drop=True)\n",
        "y = dataset_skfold.quality\n",
        "\n",
        "kf = StratifiedKFold(n_splits=5)\n",
        "\n",
        "for fold, (train_index, valid_index) in enumerate(kf.split(X=dataset_skfold, y=y)):\n",
        "  dataset_skfold.loc[valid_index, 'kfold'] = fold"
      ],
      "execution_count": 22,
      "outputs": []
    },
    {
      "cell_type": "code",
      "metadata": {
        "colab": {
          "base_uri": "https://localhost:8080/"
        },
        "id": "zXyL_gIIDIVE",
        "outputId": "b1f5f85b-0bb4-44fd-819f-81d8147998ba"
      },
      "source": [
        "# For fold=0\n",
        "distribution_labels = [0] * 6\n",
        "labels = dataset_skfold[dataset_skfold.kfold == 0].quality\n",
        "for label in labels:\n",
        "  distribution_labels[label] += 1\n",
        "print(\"For fold=0\")\n",
        "print(distribution_labels)\n",
        "\n",
        "# For fold=1\n",
        "distribution_labels = [0] * 6\n",
        "labels = dataset_skfold[dataset_skfold.kfold == 1].quality\n",
        "for label in labels:\n",
        "  distribution_labels[label] += 1\n",
        "print(\"For fold=1\")\n",
        "print(distribution_labels)"
      ],
      "execution_count": 30,
      "outputs": [
        {
          "output_type": "stream",
          "text": [
            "For fold=0\n",
            "[2, 11, 136, 128, 40, 3]\n",
            "For fold=1\n",
            "[2, 10, 136, 128, 40, 4]\n"
          ],
          "name": "stdout"
        }
      ]
    },
    {
      "cell_type": "code",
      "metadata": {
        "colab": {
          "base_uri": "https://localhost:8080/"
        },
        "id": "FPWEhoCt_vs7",
        "outputId": "22980cd7-149a-4439-cc7f-db74a84dfa7a"
      },
      "source": [
        "# Trying out accuracy between different folds\n",
        "for fold in range(5):\n",
        "  dataset_skfold_train = dataset_skfold[dataset_skfold.kfold != fold]\n",
        "  dataset_skfold_valid = dataset_skfold[dataset_skfold.kfold == fold]\n",
        "\n",
        "  classifier = DecisionTreeClassifier(max_depth=3)\n",
        "  classifier.fit(dataset_skfold_train[columns], dataset_skfold_train.quality)\n",
        "\n",
        "  train_predictions = classifier.predict(dataset_skfold_train[columns])\n",
        "  valid_predictions = classifier.predict(dataset_skfold_valid[columns])\n",
        "\n",
        "  train_accuracy = accuracy_score(dataset_skfold_train.quality, train_predictions)\n",
        "  valid_accuracy = accuracy_score(dataset_skfold_valid.quality, valid_predictions)\n",
        "  \n",
        "  print(f\"Train Accuracy: {train_accuracy: .3f} || Valid Accuracy: {valid_accuracy: .3f}\\n\")"
      ],
      "execution_count": 32,
      "outputs": [
        {
          "output_type": "stream",
          "text": [
            "Train Accuracy:  0.576 || Valid Accuracy:  0.556\n",
            "\n",
            "Train Accuracy:  0.595 || Valid Accuracy:  0.547\n",
            "\n",
            "Train Accuracy:  0.590 || Valid Accuracy:  0.566\n",
            "\n",
            "Train Accuracy:  0.616 || Valid Accuracy:  0.497\n",
            "\n",
            "Train Accuracy:  0.580 || Valid Accuracy:  0.536\n",
            "\n"
          ],
          "name": "stdout"
        }
      ]
    },
    {
      "cell_type": "code",
      "metadata": {
        "id": "e8Ok7icNBUHr"
      },
      "source": [
        "# Making bins for regression dataset\n",
        "def create_folds_regression(dataset):\n",
        "  dataset[\"kfold\"] = -1\n",
        "  \n",
        "  dataset.sample(frac=1).reset_index(drop=True)\n",
        "\n",
        "  num_bins = int(np.floor(1 + np.log2(len(dataset))))\n",
        "  pass\n",
        "\n",
        "X, y = datasets.make_regression(n_samples=150000, n_features=100, n_targets=1)\n",
        "dataset = pd.DataFrame(X, columns=[f\"f_{i}\" for i in range(X.shape[-1])])\n",
        "dataset[\"targets\"] = y\n",
        "\n",
        "dataset = create_folds_regression(dataset)"
      ],
      "execution_count": null,
      "outputs": []
    }
  ]
}