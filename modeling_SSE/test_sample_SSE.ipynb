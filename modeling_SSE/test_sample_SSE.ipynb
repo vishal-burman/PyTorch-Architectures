{
  "nbformat": 4,
  "nbformat_minor": 0,
  "metadata": {
    "colab": {
      "name": "test_sample_SSE.ipynb",
      "provenance": [],
      "collapsed_sections": [],
      "authorship_tag": "ABX9TyOh61xqT7FFUeaPqRCwJNR5",
      "include_colab_link": true
    },
    "kernelspec": {
      "name": "python3",
      "display_name": "Python 3"
    },
    "accelerator": "GPU"
  },
  "cells": [
    {
      "cell_type": "markdown",
      "metadata": {
        "id": "view-in-github",
        "colab_type": "text"
      },
      "source": [
        "<a href=\"https://colab.research.google.com/github/vishal-burman/PyTorch-Architectures/blob/master/modeling_SSE/test_sample_SSE.ipynb\" target=\"_parent\"><img src=\"https://colab.research.google.com/assets/colab-badge.svg\" alt=\"Open In Colab\"/></a>"
      ]
    },
    {
      "cell_type": "code",
      "metadata": {
        "colab": {
          "base_uri": "https://localhost:8080/"
        },
        "id": "gJUP4UcSiHJo",
        "outputId": "954604f2-3f5f-4035-b201-4e34071e038a"
      },
      "source": [
        "! rm -rf PyTorch-Architectures/\r\n",
        "! git clone https://github.com/vishal-burman/PyTorch-Architectures.git"
      ],
      "execution_count": 1,
      "outputs": [
        {
          "output_type": "stream",
          "text": [
            "Cloning into 'PyTorch-Architectures'...\n",
            "remote: Enumerating objects: 136, done.\u001b[K\n",
            "remote: Counting objects: 100% (136/136), done.\u001b[K\n",
            "remote: Compressing objects: 100% (94/94), done.\u001b[K\n",
            "remote: Total 1074 (delta 63), reused 91 (delta 33), pack-reused 938\u001b[K\n",
            "Receiving objects: 100% (1074/1074), 8.48 MiB | 24.60 MiB/s, done.\n",
            "Resolving deltas: 100% (634/634), done.\n"
          ],
          "name": "stdout"
        }
      ]
    },
    {
      "cell_type": "code",
      "metadata": {
        "colab": {
          "base_uri": "https://localhost:8080/"
        },
        "id": "6FuVSnCkiUn_",
        "outputId": "97f37bc8-58a1-4f22-9f5c-cf17af9ef68e"
      },
      "source": [
        "%cd PyTorch-Architectures/modeling_SSE/"
      ],
      "execution_count": 2,
      "outputs": [
        {
          "output_type": "stream",
          "text": [
            "/content/PyTorch-Architectures/modeling_SSE\n"
          ],
          "name": "stdout"
        }
      ]
    },
    {
      "cell_type": "code",
      "metadata": {
        "id": "Hz3T57t5Rxc1"
      },
      "source": [
        "import time\n",
        "import pdb\n",
        "from torchtext import data\n",
        "from torchtext import datasets\n",
        "from torchtext.vocab import Vectors, GloVe\n",
        "import torch\n",
        "import torch.nn as nn\n",
        "import torch.nn.functional as F\n",
        "from model import BiLSTMSE\n",
        "\n",
        "device = torch.device('cuda:0' if torch.cuda.is_available() else 'cpu')"
      ],
      "execution_count": 3,
      "outputs": []
    },
    {
      "cell_type": "code",
      "metadata": {
        "colab": {
          "base_uri": "https://localhost:8080/"
        },
        "id": "iLCIALsyShJY",
        "outputId": "af3bbc61-34c7-4708-c2fa-0f562813dccc"
      },
      "source": [
        "tokenize = lambda x: x.split()\n",
        "TEXT = data.Field(sequential=True, tokenize=tokenize, lower=True, include_lengths=True, batch_first=True, fix_length=200)\n",
        "LABEL = data.LabelField()\n",
        "train_data, test_data = datasets.IMDB.splits(TEXT, LABEL)\n",
        "TEXT.build_vocab(train_data, vectors=GloVe(name='6B', dim=300))\n",
        "LABEL.build_vocab(train_data)\n",
        "word_embeddings = TEXT.vocab.vectors\n",
        "train_data, valid_data = train_data.split()\n",
        "train_iter, valid_iter, test_iter = data.BucketIterator.splits((train_data, valid_data, test_data), batch_size=32, sort_key=lambda x: len(x.text), repeat=False, shuffle=True)"
      ],
      "execution_count": 4,
      "outputs": [
        {
          "output_type": "stream",
          "text": [
            "\raclImdb_v1.tar.gz:   0%|          | 0.00/84.1M [00:00<?, ?B/s]"
          ],
          "name": "stderr"
        },
        {
          "output_type": "stream",
          "text": [
            "downloading aclImdb_v1.tar.gz\n"
          ],
          "name": "stdout"
        },
        {
          "output_type": "stream",
          "text": [
            "aclImdb_v1.tar.gz: 100%|██████████| 84.1M/84.1M [00:03<00:00, 22.7MB/s]\n",
            ".vector_cache/glove.6B.zip: 862MB [06:28, 2.22MB/s]                           \n",
            "100%|█████████▉| 399427/400000 [00:36<00:00, 10696.95it/s]"
          ],
          "name": "stderr"
        }
      ]
    },
    {
      "cell_type": "code",
      "metadata": {
        "colab": {
          "base_uri": "https://localhost:8080/"
        },
        "id": "eEMFv-su7-7r",
        "outputId": "9cb92ccc-9122-4895-b951-c7cd8ea01056"
      },
      "source": [
        "print('Length of Training Iterator: ', len(train_iter))\r\n",
        "print('Length of Valid Iterator: ', len(valid_iter))"
      ],
      "execution_count": 5,
      "outputs": [
        {
          "output_type": "stream",
          "text": [
            "Length of Training Iterator:  547\n",
            "Length of Valid Iterator:  235\n"
          ],
          "name": "stdout"
        }
      ]
    },
    {
      "cell_type": "code",
      "metadata": {
        "id": "TaH221Xpy4bd"
      },
      "source": [
        "# Parameters\r\n",
        "vocab_size = len(TEXT.vocab)\r\n",
        "emb_dim = 300\r\n",
        "hidden_dim = 300\r\n",
        "n_layers = 2\r\n",
        "natt_unit = 300\r\n",
        "natt_hops = 1\r\n",
        "nfc = 512\r\n",
        "n_class = 2\r\n",
        "drop_prob = 0.5\r\n",
        "penal_coeff = 0.1\r\n",
        "learning_rate = 0.001"
      ],
      "execution_count": 6,
      "outputs": []
    },
    {
      "cell_type": "code",
      "metadata": {
        "id": "NFzud3iamwF9"
      },
      "source": [
        "model = BiLSTMSE(\r\n",
        "    vocab_size=vocab_size,\r\n",
        "    emb_dim=emb_dim,\r\n",
        "    hidden_dim=hidden_dim,\r\n",
        "    n_layers=n_layers,\r\n",
        "    natt_unit=natt_unit,\r\n",
        "    natt_hops=natt_hops,\r\n",
        "    nfc=nfc,\r\n",
        "    n_class=n_class,\r\n",
        "    drop_prob=drop_prob,\r\n",
        "    weights=word_embeddings,\r\n",
        ")\r\n",
        "model = model.to(device)"
      ],
      "execution_count": 7,
      "outputs": []
    },
    {
      "cell_type": "code",
      "metadata": {
        "id": "V2E9u8VhumWr"
      },
      "source": [
        "optimizer = torch.optim.Adam(model.parameters(), lr=learning_rate)"
      ],
      "execution_count": 8,
      "outputs": []
    },
    {
      "cell_type": "code",
      "metadata": {
        "id": "3ke_I_YTr68i",
        "colab": {
          "base_uri": "https://localhost:8080/"
        },
        "outputId": "98097873-2b6e-4c72-c61f-f72d26d98762"
      },
      "source": [
        "def loss_fn(x, y, model, penal_coeff, device):\r\n",
        "  pred, att = model(x)\r\n",
        "  loss = F.cross_entropy(pred, y)\r\n",
        "\r\n",
        "  # Penalty\r\n",
        "  div_penalty = (att @ att.transpose(1, 2)) - torch.eye(att.size(1)).to(device)\r\n",
        "  loss = loss + penal_coeff * torch.linalg.norm(div_penalty, dim=(1, 2))\r\n",
        "  loss = torch.mean(loss)\r\n",
        "  return pred, loss\r\n",
        "\r\n",
        "def compute_accuracy(model, data_loader, device):\r\n",
        "  correct_examples = 0\r\n",
        "  num_examples = 0\r\n",
        "  model.eval()\r\n",
        "  with torch.set_grad_enabled(False):\r\n",
        "    for idx, batch in enumerate(data_loader):\r\n",
        "      text = batch.text[0].to(device)\r\n",
        "      if text.size(0) is not 32:\r\n",
        "        continue\r\n",
        "      target = batch.label.to(device)\r\n",
        "      logits, _ = model(text)\r\n",
        "      logits = F.softmax(logits, dim=-1)\r\n",
        "      _, preds = torch.max(logits, 1)\r\n",
        "      correct_examples += (preds == target).sum()\r\n",
        "      num_examples += target.size(0)\r\n",
        "  return correct_examples.float() / num_examples * 100\r\n",
        "\r\n",
        "EPOCHS = 4\r\n",
        "start_time = time.time()\r\n",
        "for epoch in range(EPOCHS):\r\n",
        "  model.train()\r\n",
        "  for idx, batch in enumerate(train_iter):\r\n",
        "    text = batch.text[0].to(device)\r\n",
        "    label = batch.label.to(device)\r\n",
        "\r\n",
        "    if text.size(0) is not 32: # irregular behaviour in one batch\r\n",
        "      continue\r\n",
        "    \r\n",
        "    optimizer.zero_grad()\r\n",
        "    pred, loss = loss_fn(text, label, model, penal_coeff, device)\r\n",
        "    # LOGGING\r\n",
        "    if idx % 100 == 0:\r\n",
        "      # print('Loss: ', loss)\r\n",
        "      print('Batch: %04d/%04d || Epoch: %04d/%04d || Loss: %.2f' % (idx, len(train_iter), epoch+1, EPOCHS, loss))\r\n",
        "    loss.backward()\r\n",
        "    nn.utils.clip_grad_norm_(model.parameters(), max_norm=0.5)\r\n",
        "    optimizer.step()\r\n",
        "  with torch.set_grad_enabled(False):\r\n",
        "    train_acc = compute_accuracy(model, train_iter, device)\r\n",
        "    valid_acc = compute_accuracy(model, valid_iter, device)\r\n",
        "    print('Training Accuracy: ', train_acc)\r\n",
        "    print('Valid Accuracy: ', valid_acc)\r\n",
        "  epoch_elapsed_time = (time.time() - start_time) / 60\r\n",
        "  print('Epoch Elapsed Time: ', epoch_elapsed_time)\r\n",
        "total_training_time = (time.time() - start_time) / 60\r\n",
        "print('Total Training Time: ', total_training_time)"
      ],
      "execution_count": 9,
      "outputs": [
        {
          "output_type": "stream",
          "text": [
            "Batch: 0000/0547 || Epoch: 0001/0004 || Loss: 0.80\n",
            "Batch: 0100/0547 || Epoch: 0001/0004 || Loss: 0.76\n",
            "Batch: 0200/0547 || Epoch: 0001/0004 || Loss: 0.60\n",
            "Batch: 0300/0547 || Epoch: 0001/0004 || Loss: 0.60\n",
            "Batch: 0400/0547 || Epoch: 0001/0004 || Loss: 0.70\n",
            "Batch: 0500/0547 || Epoch: 0001/0004 || Loss: 0.45\n",
            "Training Accuracy:  tensor(91.3290, device='cuda:0')\n",
            "Valid Accuracy:  tensor(83.3467, device='cuda:0')\n",
            "Epoch Elapsed Time:  1.2740498622258505\n",
            "Batch: 0000/0547 || Epoch: 0002/0004 || Loss: 0.34\n",
            "Batch: 0100/0547 || Epoch: 0002/0004 || Loss: 0.35\n",
            "Batch: 0200/0547 || Epoch: 0002/0004 || Loss: 0.38\n",
            "Batch: 0300/0547 || Epoch: 0002/0004 || Loss: 0.31\n",
            "Batch: 0400/0547 || Epoch: 0002/0004 || Loss: 0.30\n",
            "Batch: 0500/0547 || Epoch: 0002/0004 || Loss: 0.34\n",
            "Training Accuracy:  tensor(97.6648, device='cuda:0')\n",
            "Valid Accuracy:  tensor(84.0678, device='cuda:0')\n",
            "Epoch Elapsed Time:  2.5784456213315328\n",
            "Batch: 0000/0547 || Epoch: 0003/0004 || Loss: 0.20\n",
            "Batch: 0100/0547 || Epoch: 0003/0004 || Loss: 0.21\n",
            "Batch: 0200/0547 || Epoch: 0003/0004 || Loss: 0.21\n",
            "Batch: 0300/0547 || Epoch: 0003/0004 || Loss: 0.12\n",
            "Batch: 0400/0547 || Epoch: 0003/0004 || Loss: 0.48\n",
            "Batch: 0500/0547 || Epoch: 0003/0004 || Loss: 0.34\n",
            "Training Accuracy:  tensor(99.3876, device='cuda:0')\n",
            "Valid Accuracy:  tensor(84.0144, device='cuda:0')\n",
            "Epoch Elapsed Time:  3.8960808396339415\n",
            "Batch: 0000/0547 || Epoch: 0004/0004 || Loss: 0.10\n",
            "Batch: 0100/0547 || Epoch: 0004/0004 || Loss: 0.10\n",
            "Batch: 0200/0547 || Epoch: 0004/0004 || Loss: 0.28\n",
            "Batch: 0300/0547 || Epoch: 0004/0004 || Loss: 0.10\n",
            "Batch: 0400/0547 || Epoch: 0004/0004 || Loss: 0.10\n",
            "Batch: 0500/0547 || Epoch: 0004/0004 || Loss: 0.13\n",
            "Training Accuracy:  tensor(99.7997, device='cuda:0')\n",
            "Valid Accuracy:  tensor(83.6538, device='cuda:0')\n",
            "Epoch Elapsed Time:  5.22732892036438\n",
            "Total Training Time:  5.227333339055379\n"
          ],
          "name": "stdout"
        }
      ]
    },
    {
      "cell_type": "code",
      "metadata": {
        "colab": {
          "base_uri": "https://localhost:8080/"
        },
        "id": "R6QqYvtS6QVd",
        "outputId": "b49e35a9-2342-4044-858d-f855eff291d7"
      },
      "source": [
        "# Testing some sentences\r\n",
        "sentence_1 = \"This actor is boring and stupid\"\r\n",
        "sentence_1 = TEXT.preprocess(sentence_1)\r\n",
        "sentence_1 = [[TEXT.vocab.stoi[x] for x in sentence_1]]\r\n",
        "\r\n",
        "model.eval()\r\n",
        "with torch.set_grad_enabled(False):\r\n",
        "  sentence_1 = torch.tensor(sentence_1).to(device)\r\n",
        "  logits, att = model(sentence_1)\r\n",
        "  logits = F.softmax(logits, dim=-1)\r\n",
        "  _, preds = torch.max(logits, 1)\r\n",
        "  if preds.item() is 1:\r\n",
        "    print(\"Positive Sentiment\")\r\n",
        "  else:\r\n",
        "    print(\"Negative Sentiment\")"
      ],
      "execution_count": 25,
      "outputs": [
        {
          "output_type": "stream",
          "text": [
            "Negative Sentiment\n"
          ],
          "name": "stdout"
        }
      ]
    },
    {
      "cell_type": "code",
      "metadata": {
        "colab": {
          "base_uri": "https://localhost:8080/",
          "height": 102
        },
        "id": "rjJEN7vtD9tU",
        "outputId": "dfd8af32-eb75-4bac-83ee-f9b5fa0e1353"
      },
      "source": [
        "# Visualizing the attention layer\r\n",
        "import numpy as np\r\n",
        "import matplotlib.pyplot as plt\r\n",
        "import seaborn as sns\r\n",
        "%matplotlib inline\r\n",
        "\r\n",
        "np.squeeze(att.cpu().numpy(), 0).shape\r\n",
        "plt.figure(figsize=(8,1))\r\n",
        "cmap = sns.diverging_palette(220, 10, as_cmap=True)\r\n",
        "sns.heatmap(np.squeeze(att.cpu().numpy(), 0), cmap=cmap, annot=True,\r\n",
        "            xticklabels=['This', 'actor', 'is', 'boring', 'and', 'stupid'], yticklabels=['att0'])\r\n",
        "plt.show()"
      ],
      "execution_count": 26,
      "outputs": [
        {
          "output_type": "display_data",
          "data": {
            "image/png": "[encoded data removed]",
            "text/plain": [
              "<Figure size 576x72 with 2 Axes>"
            ]
          },
          "metadata": {
            "tags": [],
            "needs_background": "light"
          }
        }
      ]
    },
    {
      "cell_type": "code",
      "metadata": {
        "id": "HxpP8tSlLLGk"
      },
      "source": [
        ""
      ],
      "execution_count": null,
      "outputs": []
    }
  ]
}