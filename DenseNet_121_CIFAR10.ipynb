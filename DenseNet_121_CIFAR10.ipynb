{
  "nbformat": 4,
  "nbformat_minor": 0,
  "metadata": {
    "colab": {
      "name": "DenseNet-121-CIFAR10.ipynb",
      "provenance": [],
      "collapsed_sections": [],
      "authorship_tag": "ABX9TyMQxvPWausj9jw30k3qSJvb",
      "include_colab_link": true
    },
    "kernelspec": {
      "name": "python3",
      "display_name": "Python 3"
    },
    "widgets": {
      "application/vnd.jupyter.widget-state+json": {
        "d9b4309752364971acdc093d9798a6f4": {
          "model_module": "@jupyter-widgets/controls",
          "model_name": "HBoxModel",
          "state": {
            "_view_name": "HBoxView",
            "_dom_classes": [],
            "_model_name": "HBoxModel",
            "_view_module": "@jupyter-widgets/controls",
            "_model_module_version": "1.5.0",
            "_view_count": null,
            "_view_module_version": "1.5.0",
            "box_style": "",
            "layout": "IPY_MODEL_14e2517b0c8f43178823ae67ef8a2af3",
            "_model_module": "@jupyter-widgets/controls",
            "children": [
              "IPY_MODEL_0a6fecfccd254555b5e07f795de08067",
              "IPY_MODEL_f6105933d6ef43dfabd6212c34ecb404"
            ]
          }
        },
        "14e2517b0c8f43178823ae67ef8a2af3": {
          "model_module": "@jupyter-widgets/base",
          "model_name": "LayoutModel",
          "state": {
            "_view_name": "LayoutView",
            "grid_template_rows": null,
            "right": null,
            "justify_content": null,
            "_view_module": "@jupyter-widgets/base",
            "overflow": null,
            "_model_module_version": "1.2.0",
            "_view_count": null,
            "flex_flow": null,
            "width": null,
            "min_width": null,
            "border": null,
            "align_items": null,
            "bottom": null,
            "_model_module": "@jupyter-widgets/base",
            "top": null,
            "grid_column": null,
            "overflow_y": null,
            "overflow_x": null,
            "grid_auto_flow": null,
            "grid_area": null,
            "grid_template_columns": null,
            "flex": null,
            "_model_name": "LayoutModel",
            "justify_items": null,
            "grid_row": null,
            "max_height": null,
            "align_content": null,
            "visibility": null,
            "align_self": null,
            "height": null,
            "min_height": null,
            "padding": null,
            "grid_auto_rows": null,
            "grid_gap": null,
            "max_width": null,
            "order": null,
            "_view_module_version": "1.2.0",
            "grid_template_areas": null,
            "object_position": null,
            "object_fit": null,
            "grid_auto_columns": null,
            "margin": null,
            "display": null,
            "left": null
          }
        },
        "0a6fecfccd254555b5e07f795de08067": {
          "model_module": "@jupyter-widgets/controls",
          "model_name": "FloatProgressModel",
          "state": {
            "_view_name": "ProgressView",
            "style": "IPY_MODEL_e62068be2c474d3d8830f68bc437b528",
            "_dom_classes": [],
            "description": "",
            "_model_name": "FloatProgressModel",
            "bar_style": "info",
            "max": 1,
            "_view_module": "@jupyter-widgets/controls",
            "_model_module_version": "1.5.0",
            "value": 1,
            "_view_count": null,
            "_view_module_version": "1.5.0",
            "orientation": "horizontal",
            "min": 0,
            "description_tooltip": null,
            "_model_module": "@jupyter-widgets/controls",
            "layout": "IPY_MODEL_73f1abcaf94148d8b18c934b6c188add"
          }
        },
        "f6105933d6ef43dfabd6212c34ecb404": {
          "model_module": "@jupyter-widgets/controls",
          "model_name": "HTMLModel",
          "state": {
            "_view_name": "HTMLView",
            "style": "IPY_MODEL_f25e974cc3454366b1da6d786fdc9544",
            "_dom_classes": [],
            "description": "",
            "_model_name": "HTMLModel",
            "placeholder": "​",
            "_view_module": "@jupyter-widgets/controls",
            "_model_module_version": "1.5.0",
            "value": " 170500096/? [00:20&lt;00:00, 81016963.67it/s]",
            "_view_count": null,
            "_view_module_version": "1.5.0",
            "description_tooltip": null,
            "_model_module": "@jupyter-widgets/controls",
            "layout": "IPY_MODEL_bff6d92e9eca410b81d20a54a09752d0"
          }
        },
        "e62068be2c474d3d8830f68bc437b528": {
          "model_module": "@jupyter-widgets/controls",
          "model_name": "ProgressStyleModel",
          "state": {
            "_view_name": "StyleView",
            "_model_name": "ProgressStyleModel",
            "description_width": "initial",
            "_view_module": "@jupyter-widgets/base",
            "_model_module_version": "1.5.0",
            "_view_count": null,
            "_view_module_version": "1.2.0",
            "bar_color": null,
            "_model_module": "@jupyter-widgets/controls"
          }
        },
        "73f1abcaf94148d8b18c934b6c188add": {
          "model_module": "@jupyter-widgets/base",
          "model_name": "LayoutModel",
          "state": {
            "_view_name": "LayoutView",
            "grid_template_rows": null,
            "right": null,
            "justify_content": null,
            "_view_module": "@jupyter-widgets/base",
            "overflow": null,
            "_model_module_version": "1.2.0",
            "_view_count": null,
            "flex_flow": null,
            "width": null,
            "min_width": null,
            "border": null,
            "align_items": null,
            "bottom": null,
            "_model_module": "@jupyter-widgets/base",
            "top": null,
            "grid_column": null,
            "overflow_y": null,
            "overflow_x": null,
            "grid_auto_flow": null,
            "grid_area": null,
            "grid_template_columns": null,
            "flex": null,
            "_model_name": "LayoutModel",
            "justify_items": null,
            "grid_row": null,
            "max_height": null,
            "align_content": null,
            "visibility": null,
            "align_self": null,
            "height": null,
            "min_height": null,
            "padding": null,
            "grid_auto_rows": null,
            "grid_gap": null,
            "max_width": null,
            "order": null,
            "_view_module_version": "1.2.0",
            "grid_template_areas": null,
            "object_position": null,
            "object_fit": null,
            "grid_auto_columns": null,
            "margin": null,
            "display": null,
            "left": null
          }
        },
        "f25e974cc3454366b1da6d786fdc9544": {
          "model_module": "@jupyter-widgets/controls",
          "model_name": "DescriptionStyleModel",
          "state": {
            "_view_name": "StyleView",
            "_model_name": "DescriptionStyleModel",
            "description_width": "",
            "_view_module": "@jupyter-widgets/base",
            "_model_module_version": "1.5.0",
            "_view_count": null,
            "_view_module_version": "1.2.0",
            "_model_module": "@jupyter-widgets/controls"
          }
        },
        "bff6d92e9eca410b81d20a54a09752d0": {
          "model_module": "@jupyter-widgets/base",
          "model_name": "LayoutModel",
          "state": {
            "_view_name": "LayoutView",
            "grid_template_rows": null,
            "right": null,
            "justify_content": null,
            "_view_module": "@jupyter-widgets/base",
            "overflow": null,
            "_model_module_version": "1.2.0",
            "_view_count": null,
            "flex_flow": null,
            "width": null,
            "min_width": null,
            "border": null,
            "align_items": null,
            "bottom": null,
            "_model_module": "@jupyter-widgets/base",
            "top": null,
            "grid_column": null,
            "overflow_y": null,
            "overflow_x": null,
            "grid_auto_flow": null,
            "grid_area": null,
            "grid_template_columns": null,
            "flex": null,
            "_model_name": "LayoutModel",
            "justify_items": null,
            "grid_row": null,
            "max_height": null,
            "align_content": null,
            "visibility": null,
            "align_self": null,
            "height": null,
            "min_height": null,
            "padding": null,
            "grid_auto_rows": null,
            "grid_gap": null,
            "max_width": null,
            "order": null,
            "_view_module_version": "1.2.0",
            "grid_template_areas": null,
            "object_position": null,
            "object_fit": null,
            "grid_auto_columns": null,
            "margin": null,
            "display": null,
            "left": null
          }
        }
      }
    }
  },
  "cells": [
    {
      "cell_type": "markdown",
      "metadata": {
        "id": "view-in-github",
        "colab_type": "text"
      },
      "source": [
        "<a href=\"https://colab.research.google.com/github/vishal-burman/PyTorch-Architectures/blob/master/DenseNet_121_CIFAR10.ipynb\" target=\"_parent\"><img src=\"https://colab.research.google.com/assets/colab-badge.svg\" alt=\"Open In Colab\"/></a>"
      ]
    },
    {
      "cell_type": "code",
      "metadata": {
        "id": "e08eDVJhUBKz"
      },
      "source": [
        "import os\n",
        "import time\n",
        "\n",
        "import numpy as np\n",
        "import pandas as pd\n",
        "\n",
        "import torch\n",
        "import torch.nn as nn\n",
        "import torch.nn.functional as F\n",
        "from torch.utils.data import DataLoader\n",
        "from torch.utils.data.dataset import Subset\n",
        "\n",
        "from torchvision import datasets\n",
        "from torchvision import transforms\n",
        "\n",
        "if torch.cuda.is_available():\n",
        "  torch.backends.cudnn.deterministic = True"
      ],
      "execution_count": null,
      "outputs": []
    },
    {
      "cell_type": "code",
      "metadata": {
        "id": "WSKqwF2wUgqu"
      },
      "source": [
        "###################\n",
        "# Model Settings\n",
        "###################\n",
        "\n",
        "# Hyperparameters\n",
        "RANDOM_SEED = 1\n",
        "LEARNING_RATE = 0.001\n",
        "BATCH_SIZE = 128\n",
        "NUM_EPOCHS = 20\n",
        "\n",
        "# Architecture\n",
        "NUM_CLASSES = 10\n",
        "\n",
        "# Other\n",
        "device = torch.device(\"cuda:0\" if torch.cuda.is_available() else \"cpu\")\n",
        "grayscale = False"
      ],
      "execution_count": null,
      "outputs": []
    },
    {
      "cell_type": "code",
      "metadata": {
        "id": "Ly631DL-U7w5",
        "outputId": "90da489e-e369-4fba-fd06-b65e670d7e06",
        "colab": {
          "base_uri": "https://localhost:8080/",
          "height": 82,
          "referenced_widgets": [
            "d9b4309752364971acdc093d9798a6f4",
            "14e2517b0c8f43178823ae67ef8a2af3",
            "0a6fecfccd254555b5e07f795de08067",
            "f6105933d6ef43dfabd6212c34ecb404",
            "e62068be2c474d3d8830f68bc437b528",
            "73f1abcaf94148d8b18c934b6c188add",
            "f25e974cc3454366b1da6d786fdc9544",
            "bff6d92e9eca410b81d20a54a09752d0"
          ]
        }
      },
      "source": [
        "####################\n",
        "# CIFAR-10 Dataset\n",
        "####################\n",
        "\n",
        "# training samples ~ 48000 samples\n",
        "train_indices = torch.arange(0, 48000)\n",
        "# validation samples ~ 2000 samples\n",
        "valid_indices = torch.arange(48000, 50000)\n",
        "\n",
        "train_and_valid = datasets.CIFAR10(root='data',\n",
        "                                   train=True,\n",
        "                                   transform=transforms.ToTensor(),\n",
        "                                   download=True)\n",
        "\n",
        "train_dataset = Subset(train_and_valid, train_indices)\n",
        "valid_dataset = Subset(train_and_valid, valid_indices)\n",
        "test_dataset = datasets.CIFAR10(root=\"data\",\n",
        "                                train=False,\n",
        "                                transform=transforms.ToTensor(),\n",
        "                                download=False)\n",
        "\n",
        "train_loader = DataLoader(dataset=train_dataset,\n",
        "                          batch_size=BATCH_SIZE,\n",
        "                          num_workers=4,\n",
        "                          shuffle=True)\n",
        "\n",
        "valid_loader = DataLoader(dataset=valid_dataset,\n",
        "                          batch_size=BATCH_SIZE,\n",
        "                          num_workers=4,\n",
        "                          shuffle=False)\n",
        "\n",
        "test_loader = DataLoader(dataset=test_dataset,\n",
        "                         batch_size=BATCH_SIZE,\n",
        "                         num_workers=4,\n",
        "                         shuffle=False)"
      ],
      "execution_count": null,
      "outputs": [
        {
          "output_type": "stream",
          "text": [
            "Downloading https://www.cs.toronto.edu/~kriz/cifar-10-python.tar.gz to data/cifar-10-python.tar.gz\n"
          ],
          "name": "stdout"
        },
        {
          "output_type": "display_data",
          "data": {
            "application/vnd.jupyter.widget-view+json": {
              "model_id": "d9b4309752364971acdc093d9798a6f4",
              "version_minor": 0,
              "version_major": 2
            },
            "text/plain": [
              "HBox(children=(FloatProgress(value=1.0, bar_style='info', max=1.0), HTML(value='')))"
            ]
          },
          "metadata": {
            "tags": []
          }
        },
        {
          "output_type": "stream",
          "text": [
            "Extracting data/cifar-10-python.tar.gz to data\n"
          ],
          "name": "stdout"
        }
      ]
    },
    {
      "cell_type": "code",
      "metadata": {
        "id": "pVh2vtQkWx4x",
        "outputId": "4e0b01ac-3fd0-41c8-9056-28ce34da5f14",
        "colab": {
          "base_uri": "https://localhost:8080/",
          "height": 50
        }
      },
      "source": [
        "# Sanity check the loaders\n",
        "torch.manual_seed(0)\n",
        "\n",
        "for epoch in range(2):\n",
        "  for batch_idx, (features, label) in enumerate(train_loader):\n",
        "\n",
        "    print(\"Epoch: %d | Batch: %d | Batch Size: %d\" % (epoch+1, batch_idx, label.size()[0]))\n",
        "\n",
        "    features = features.to(device)\n",
        "    label = label.to(device)\n",
        "    break"
      ],
      "execution_count": null,
      "outputs": [
        {
          "output_type": "stream",
          "text": [
            "Epoch: 1 | Batch: 0 | Batch Size: 128\n",
            "Epoch: 2 | Batch: 0 | Batch Size: 128\n"
          ],
          "name": "stdout"
        }
      ]
    },
    {
      "cell_type": "code",
      "metadata": {
        "id": "ZacC1dbnX-Zu",
        "outputId": "ac067dff-4b70-42c9-ee3c-3abe4c760f37",
        "colab": {
          "base_uri": "https://localhost:8080/",
          "height": 50
        }
      },
      "source": [
        "# Sanity check shuffling\n",
        "# label indices should be in different order\n",
        "# label order should be different in second epoch\n",
        "\n",
        "for images, labels in train_loader:\n",
        "  pass\n",
        "print(labels[:10])\n",
        "\n",
        "for images, labels in train_loader:\n",
        "  pass\n",
        "print(labels[:10])"
      ],
      "execution_count": null,
      "outputs": [
        {
          "output_type": "stream",
          "text": [
            "tensor([3, 0, 1, 3, 3, 5, 0, 4, 9, 4])\n",
            "tensor([1, 0, 4, 1, 8, 2, 0, 3, 5, 3])\n"
          ],
          "name": "stdout"
        }
      ]
    },
    {
      "cell_type": "code",
      "metadata": {
        "id": "SMoEBXVvYx19",
        "outputId": "d68272e5-c25b-442c-d312-a9e4dfd3ce89",
        "colab": {
          "base_uri": "https://localhost:8080/",
          "height": 50
        }
      },
      "source": [
        "# Sanity check ~ validation and test set should be diverse\n",
        "# ~ should contain all classes\n",
        "\n",
        "for images, labels in valid_loader:\n",
        "  pass\n",
        "print(labels[:10])\n",
        "\n",
        "for images, labels in test_loader:\n",
        "  pass\n",
        "print(labels[:10])"
      ],
      "execution_count": null,
      "outputs": [
        {
          "output_type": "stream",
          "text": [
            "tensor([5, 0, 3, 6, 8, 7, 9, 5, 6, 6])\n",
            "tensor([7, 5, 8, 0, 8, 2, 7, 0, 3, 5])\n"
          ],
          "name": "stdout"
        }
      ]
    },
    {
      "cell_type": "code",
      "metadata": {
        "id": "kf_VAMjVZZU3"
      },
      "source": [
        "#######################\n",
        "# Model\n",
        "######################\n",
        "\n",
        "def _bn_function_factory(norm, relu, conv):\n",
        "  def bn_function(*inputs):\n",
        "    # TODO Add dimension changes\n",
        "    concated_features = torch.cat(inputs, 1)\n",
        "    bottleneck_output = conv(relu(norm(concated_features)))\n",
        "    return bottleneck_output\n",
        "  return bn_function\n",
        "\n",
        "class _DenseLayer(nn.Sequential):\n",
        "  def __init__(self, num_input_features, growth_rate, bn_size, drop_rate, memory_efficient=False):\n",
        "    super(_DenseLayer, self).__init__()\n",
        "    self.add_module('norm1', nn.BatchNorm2d(num_input_features)),\n",
        "    self.add_module('relu1', nn.ReLU(inplace=True)),\n",
        "    self.add_module('conv1', nn.Conv2d(in_channels=num_input_features,\n",
        "                                       out_channels=bn_size * growth_rate,\n",
        "                                       kernel_size=1,\n",
        "                                       stride=1,\n",
        "                                       bias=False)),\n",
        "    self.add_module('norm2', nn.BatchNorm2d(bn_size * growth_rate)),\n",
        "    self.add_module('relu2', nn.ReLU(inplace=True)),\n",
        "    self.add_module('conv2', nn.Conv2d(in_channels=bn_size * growth_rate,\n",
        "                                       out_channels=growth_rate,\n",
        "                                       kernel_size=3,\n",
        "                                       stride=1,\n",
        "                                       padding=1,\n",
        "                                       bias=False)),\n",
        "    self.drop_rate = drop_rate\n",
        "    self.memory_efficient = memory_efficient\n",
        "  \n",
        "  def forward(self, *prev_features):\n",
        "    # TODO Add dimensions\n",
        "    bn_function = _bn_function_factory(self.norm1, self,relu1, self.conv1)\n",
        "    if self.memory_efficient and any(prev_feature.requires_grad for prev_feature in prev_efatures):\n",
        "      bottleneck_output = cp.checkpoint(bn_function, *prev_features)\n",
        "    else:\n",
        "      bottleneck_output = bn_function(*prev_features)\n",
        "    new_features = self.conv2(self.relu2(self.norm2(bottleneck_output)))\n",
        "    if self.drop_rate > 0:\n",
        "      new_features = F.dropout(new_features, p=self.drop_rate,\n",
        "                               training=self.training)\n",
        "    return new_features"
      ],
      "execution_count": null,
      "outputs": []
    },
    {
      "cell_type": "code",
      "metadata": {
        "id": "MX-PlFcGfJfm"
      },
      "source": [
        "class _DenseBlock(nn.Module):\n",
        "  def __init__(self, num_layers, num_input_features, bn_size, growth_rate, drop_rate, memory_efficient=False):\n",
        "    super(_DenseBlock, self).__init__()\n",
        "    for i in range(num_layers):\n",
        "      layer = _DenseLayer(\n",
        "          num_input_features + i * growth_rate,\n",
        "          growth_rate=growth_rate,\n",
        "          bn_size=bn_size,\n",
        "          drop_rate=drop_rate,\n",
        "          memory_efficient=memory_efficient\n",
        "      )\n",
        "      self.add_module('denselayer%d' % (i + 1), layer)\n",
        "  \n",
        "  def forward(self, init_features):\n",
        "    # TODO Add dimension changes\n",
        "    features = [init_features]\n",
        "    for name, layer in self.named_children():\n",
        "      new_features = layer(*features)\n",
        "      features.append(new_features)\n",
        "    return torch.cat(features, 1)"
      ],
      "execution_count": null,
      "outputs": []
    },
    {
      "cell_type": "code",
      "metadata": {
        "id": "V8ROnWum4rrg"
      },
      "source": [
        "class _Transition(nn.Sequential):\n",
        "  def __init__(self, num_input_features, num_output_features):\n",
        "    super(_Transition, self).__init__()\n",
        "    self.add_module('norm', nn.BatchNorm2d(num_input_features))\n",
        "    self.add_module('relu', nn.ReLU(inplace=True))\n",
        "    self.add_module('conv', nn.Conv2d(in_channels=num_input_features,\n",
        "                                      out_channels=num_output_features,\n",
        "                                      kernel_size=1,\n",
        "                                      stride=1,\n",
        "                                      bias=False))\n",
        "    self.add_module('pool', nn.AvgPool2d(kernel_size=2,\n",
        "                                         stride=2))"
      ],
      "execution_count": null,
      "outputs": []
    },
    {
      "cell_type": "code",
      "metadata": {
        "id": "Jr5XFEnm6LPq"
      },
      "source": [
        "class DenseNet121(nn.Module):\n",
        "  def __init__(self, \n",
        "               growth_rate=32, \n",
        "               block_config=(6, 12, 24, 16),\n",
        "               num_init_featuremaps=64,\n",
        "               bn_size=4,\n",
        "               drop_rate=0,\n",
        "               num_classes=1000,\n",
        "               memory_efficient=False):\n",
        "    super(DenseNet121, self).__init__()\n",
        "\n",
        "    # First Convolution\n",
        "    if grayscale:\n",
        "      in_channels = 1\n",
        "    else:\n",
        "      in_channels = 3\n",
        "    \n",
        "    self.features = nn.Sequential(OrderedDict([\n",
        "                                               ('conv0', nn.Conv2d(in_channels=in_channels,\n",
        "                                                                  out_channels=num_init_featuremaps,\n",
        "                                                                  kernel_size=7,\n",
        "                                                                  stride=2,\n",
        "                                                                  padding=3,\n",
        "                                                                  bias=False)),\n",
        "                                               ('norm0', nn.BatchNorm2d(num_features=num_init_featuremaps)),\n",
        "                                               ('relu0', nn.ReLU(inplace=True)),\n",
        "                                               ('pool0', nn.MaxPool2d(kernel_size=3,\n",
        "                                                                      stride=2,\n",
        "                                                                      padding=1)),\n",
        "    ]))\n",
        "\n",
        "    # Each DenseBlock\n",
        "    num_features = num_init_featuremaps\n",
        "    for i, num_layers in enumerate(block_config):\n",
        "      block = _DenseBlock(\n",
        "          num_layers=num_layers,\n",
        "          num_input_features=\n",
        "      )\n"
      ],
      "execution_count": null,
      "outputs": []
    },
    {
      "cell_type": "code",
      "metadata": {
        "id": "P7ORA1796Jgo",
        "outputId": "2045ff7b-57b8-464b-a189-faab144ee65a",
        "colab": {
          "base_uri": "https://localhost:8080/",
          "height": 34
        }
      },
      "source": [
        "for (x, y) in train_loader:\n",
        "  pass\n",
        "print(x.shape)\n"
      ],
      "execution_count": null,
      "outputs": [
        {
          "output_type": "stream",
          "text": [
            "torch.Size([128, 3, 32, 32])\n"
          ],
          "name": "stdout"
        }
      ]
    },
    {
      "cell_type": "code",
      "metadata": {
        "id": "VPM9niZf6Hmn",
        "outputId": "b448ab1b-cd62-41bb-94c0-cf219d2e4a2d",
        "colab": {
          "base_uri": "https://localhost:8080/",
          "height": 34
        }
      },
      "source": [
        "conv_sample = nn.Conv2d(in_channels=3, out_channels=64, kernel_size=7, stride=2, padding=3)\n",
        "x = conv_sample(x)"
      ],
      "execution_count": null,
      "outputs": [
        {
          "output_type": "stream",
          "text": [
            "torch.Size([128, 64, 16, 16])\n"
          ],
          "name": "stdout"
        }
      ]
    },
    {
      "cell_type": "code",
      "metadata": {
        "id": "L7NH4mTC6C8j",
        "outputId": "a3eb396b-96ec-423c-f23c-c25d59d56d9d",
        "colab": {
          "base_uri": "https://localhost:8080/",
          "height": 34
        }
      },
      "source": [
        "pool_sample = nn.MaxPool2d(kernel_size=3, stride=2, padding=1)\n",
        "x = pool_sample(x)\n",
        "print(x.shape)"
      ],
      "execution_count": null,
      "outputs": [
        {
          "output_type": "stream",
          "text": [
            "torch.Size([128, 64, 8, 8])\n"
          ],
          "name": "stdout"
        }
      ]
    },
    {
      "cell_type": "code",
      "metadata": {
        "id": "ItMDF0E8TeJ8"
      },
      "source": [
        ""
      ],
      "execution_count": null,
      "outputs": []
    }
  ]
}