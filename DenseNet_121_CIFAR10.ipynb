{
  "nbformat": 4,
  "nbformat_minor": 0,
  "metadata": {
    "colab": {
      "name": "DenseNet-121-CIFAR10.ipynb",
      "provenance": [],
      "collapsed_sections": [],
      "authorship_tag": "ABX9TyPY6WOhz3AFewHm4MDAzGB5",
      "include_colab_link": true
    },
    "kernelspec": {
      "name": "python3",
      "display_name": "Python 3"
    },
    "widgets": {
      "application/vnd.jupyter.widget-state+json": {
        "7ff40e734dfe4f878929d0e3e6eadc0a": {
          "model_module": "@jupyter-widgets/controls",
          "model_name": "HBoxModel",
          "state": {
            "_view_name": "HBoxView",
            "_dom_classes": [],
            "_model_name": "HBoxModel",
            "_view_module": "@jupyter-widgets/controls",
            "_model_module_version": "1.5.0",
            "_view_count": null,
            "_view_module_version": "1.5.0",
            "box_style": "",
            "layout": "IPY_MODEL_1c74c241e6f44d55be5e6d85805d60bb",
            "_model_module": "@jupyter-widgets/controls",
            "children": [
              "IPY_MODEL_9bf82331f754475ab3168d6401fbc291",
              "IPY_MODEL_182d934377dc4b7095329e103ca92569"
            ]
          }
        },
        "1c74c241e6f44d55be5e6d85805d60bb": {
          "model_module": "@jupyter-widgets/base",
          "model_name": "LayoutModel",
          "state": {
            "_view_name": "LayoutView",
            "grid_template_rows": null,
            "right": null,
            "justify_content": null,
            "_view_module": "@jupyter-widgets/base",
            "overflow": null,
            "_model_module_version": "1.2.0",
            "_view_count": null,
            "flex_flow": null,
            "width": null,
            "min_width": null,
            "border": null,
            "align_items": null,
            "bottom": null,
            "_model_module": "@jupyter-widgets/base",
            "top": null,
            "grid_column": null,
            "overflow_y": null,
            "overflow_x": null,
            "grid_auto_flow": null,
            "grid_area": null,
            "grid_template_columns": null,
            "flex": null,
            "_model_name": "LayoutModel",
            "justify_items": null,
            "grid_row": null,
            "max_height": null,
            "align_content": null,
            "visibility": null,
            "align_self": null,
            "height": null,
            "min_height": null,
            "padding": null,
            "grid_auto_rows": null,
            "grid_gap": null,
            "max_width": null,
            "order": null,
            "_view_module_version": "1.2.0",
            "grid_template_areas": null,
            "object_position": null,
            "object_fit": null,
            "grid_auto_columns": null,
            "margin": null,
            "display": null,
            "left": null
          }
        },
        "9bf82331f754475ab3168d6401fbc291": {
          "model_module": "@jupyter-widgets/controls",
          "model_name": "FloatProgressModel",
          "state": {
            "_view_name": "ProgressView",
            "style": "IPY_MODEL_d4fe8f81c70b41b2bfcfebcb4f595be5",
            "_dom_classes": [],
            "description": "",
            "_model_name": "FloatProgressModel",
            "bar_style": "info",
            "max": 1,
            "_view_module": "@jupyter-widgets/controls",
            "_model_module_version": "1.5.0",
            "value": 1,
            "_view_count": null,
            "_view_module_version": "1.5.0",
            "orientation": "horizontal",
            "min": 0,
            "description_tooltip": null,
            "_model_module": "@jupyter-widgets/controls",
            "layout": "IPY_MODEL_ff17e712b0174a52888c3f7da991300b"
          }
        },
        "182d934377dc4b7095329e103ca92569": {
          "model_module": "@jupyter-widgets/controls",
          "model_name": "HTMLModel",
          "state": {
            "_view_name": "HTMLView",
            "style": "IPY_MODEL_3bc9b265941c476dbc3ca0b2af304b6c",
            "_dom_classes": [],
            "description": "",
            "_model_name": "HTMLModel",
            "placeholder": "​",
            "_view_module": "@jupyter-widgets/controls",
            "_model_module_version": "1.5.0",
            "value": " 170500096/? [00:20&lt;00:00, 78274103.11it/s]",
            "_view_count": null,
            "_view_module_version": "1.5.0",
            "description_tooltip": null,
            "_model_module": "@jupyter-widgets/controls",
            "layout": "IPY_MODEL_74e4ccaa41d7454ebf6a8360f9f69ce1"
          }
        },
        "d4fe8f81c70b41b2bfcfebcb4f595be5": {
          "model_module": "@jupyter-widgets/controls",
          "model_name": "ProgressStyleModel",
          "state": {
            "_view_name": "StyleView",
            "_model_name": "ProgressStyleModel",
            "description_width": "initial",
            "_view_module": "@jupyter-widgets/base",
            "_model_module_version": "1.5.0",
            "_view_count": null,
            "_view_module_version": "1.2.0",
            "bar_color": null,
            "_model_module": "@jupyter-widgets/controls"
          }
        },
        "ff17e712b0174a52888c3f7da991300b": {
          "model_module": "@jupyter-widgets/base",
          "model_name": "LayoutModel",
          "state": {
            "_view_name": "LayoutView",
            "grid_template_rows": null,
            "right": null,
            "justify_content": null,
            "_view_module": "@jupyter-widgets/base",
            "overflow": null,
            "_model_module_version": "1.2.0",
            "_view_count": null,
            "flex_flow": null,
            "width": null,
            "min_width": null,
            "border": null,
            "align_items": null,
            "bottom": null,
            "_model_module": "@jupyter-widgets/base",
            "top": null,
            "grid_column": null,
            "overflow_y": null,
            "overflow_x": null,
            "grid_auto_flow": null,
            "grid_area": null,
            "grid_template_columns": null,
            "flex": null,
            "_model_name": "LayoutModel",
            "justify_items": null,
            "grid_row": null,
            "max_height": null,
            "align_content": null,
            "visibility": null,
            "align_self": null,
            "height": null,
            "min_height": null,
            "padding": null,
            "grid_auto_rows": null,
            "grid_gap": null,
            "max_width": null,
            "order": null,
            "_view_module_version": "1.2.0",
            "grid_template_areas": null,
            "object_position": null,
            "object_fit": null,
            "grid_auto_columns": null,
            "margin": null,
            "display": null,
            "left": null
          }
        },
        "3bc9b265941c476dbc3ca0b2af304b6c": {
          "model_module": "@jupyter-widgets/controls",
          "model_name": "DescriptionStyleModel",
          "state": {
            "_view_name": "StyleView",
            "_model_name": "DescriptionStyleModel",
            "description_width": "",
            "_view_module": "@jupyter-widgets/base",
            "_model_module_version": "1.5.0",
            "_view_count": null,
            "_view_module_version": "1.2.0",
            "_model_module": "@jupyter-widgets/controls"
          }
        },
        "74e4ccaa41d7454ebf6a8360f9f69ce1": {
          "model_module": "@jupyter-widgets/base",
          "model_name": "LayoutModel",
          "state": {
            "_view_name": "LayoutView",
            "grid_template_rows": null,
            "right": null,
            "justify_content": null,
            "_view_module": "@jupyter-widgets/base",
            "overflow": null,
            "_model_module_version": "1.2.0",
            "_view_count": null,
            "flex_flow": null,
            "width": null,
            "min_width": null,
            "border": null,
            "align_items": null,
            "bottom": null,
            "_model_module": "@jupyter-widgets/base",
            "top": null,
            "grid_column": null,
            "overflow_y": null,
            "overflow_x": null,
            "grid_auto_flow": null,
            "grid_area": null,
            "grid_template_columns": null,
            "flex": null,
            "_model_name": "LayoutModel",
            "justify_items": null,
            "grid_row": null,
            "max_height": null,
            "align_content": null,
            "visibility": null,
            "align_self": null,
            "height": null,
            "min_height": null,
            "padding": null,
            "grid_auto_rows": null,
            "grid_gap": null,
            "max_width": null,
            "order": null,
            "_view_module_version": "1.2.0",
            "grid_template_areas": null,
            "object_position": null,
            "object_fit": null,
            "grid_auto_columns": null,
            "margin": null,
            "display": null,
            "left": null
          }
        }
      }
    }
  },
  "cells": [
    {
      "cell_type": "markdown",
      "metadata": {
        "id": "view-in-github",
        "colab_type": "text"
      },
      "source": [
        "<a href=\"https://colab.research.google.com/github/vishal-burman/PyTorch-Architectures/blob/master/DenseNet_121_CIFAR10.ipynb\" target=\"_parent\"><img src=\"https://colab.research.google.com/assets/colab-badge.svg\" alt=\"Open In Colab\"/></a>"
      ]
    },
    {
      "cell_type": "code",
      "metadata": {
        "id": "4VDcltuU0OlZ",
        "colab_type": "code",
        "colab": {}
      },
      "source": [
        "import os\n",
        "import time\n",
        "\n",
        "import numpy as np\n",
        "import pandas as pd\n",
        "\n",
        "import torch\n",
        "import torch.nn as nn\n",
        "import torch.nn.functional as F\n",
        "from torch.utils.data import DataLoader\n",
        "from torch.utils.data.dataset import Subset\n",
        "\n",
        "from torchvision import datasets\n",
        "from torchvision import transforms\n",
        "\n",
        "import matplotlib.pyplot as plt\n",
        "from PIL import Image\n",
        "\n",
        "if torch.cuda.is_available():\n",
        "    torch.backends.cudnn.deterministic = True"
      ],
      "execution_count": 1,
      "outputs": []
    },
    {
      "cell_type": "code",
      "metadata": {
        "id": "8Y0H7Ovr0ZNb",
        "colab_type": "code",
        "colab": {}
      },
      "source": [
        "#####################\n",
        "# Settings\n",
        "#####################\n",
        "\n",
        "# Hyperparameters\n",
        "random_seed = 1\n",
        "learning_rate = 0.001\n",
        "batch_size = 128\n",
        "num_epochs = 20\n",
        "\n",
        "# Architecture\n",
        "num_classes = 10\n",
        "\n",
        "# Other\n",
        "device = torch.device(\"cuda:0\" if torch.cuda.is_available() else \"cpu\")\n",
        "grayscale = False"
      ],
      "execution_count": 2,
      "outputs": []
    },
    {
      "cell_type": "code",
      "metadata": {
        "id": "2mpnzKoS0bNp",
        "colab_type": "code",
        "colab": {
          "base_uri": "https://localhost:8080/",
          "height": 87,
          "referenced_widgets": [
            "7ff40e734dfe4f878929d0e3e6eadc0a",
            "1c74c241e6f44d55be5e6d85805d60bb",
            "9bf82331f754475ab3168d6401fbc291",
            "182d934377dc4b7095329e103ca92569",
            "d4fe8f81c70b41b2bfcfebcb4f595be5",
            "ff17e712b0174a52888c3f7da991300b",
            "3bc9b265941c476dbc3ca0b2af304b6c",
            "74e4ccaa41d7454ebf6a8360f9f69ce1"
          ]
        },
        "outputId": "eb04b343-1cdb-4ad1-f48b-2a9ac88ee8c0"
      },
      "source": [
        "####################\n",
        "# CIFAR-10\n",
        "####################\n",
        "\n",
        "train_indices = torch.arange(0, 48000)\n",
        "valid_indices = torch.arange(48000, 50000)\n",
        "\n",
        "train_and_valid = datasets.CIFAR10(root='data', \n",
        "                                   train=True, \n",
        "                                   transform=transforms.ToTensor(), \n",
        "                                   download=True)\n",
        "\n",
        "train_dataset = Subset(train_and_valid, train_indices)\n",
        "valid_dataset = Subset(train_and_valid, valid_indices)\n",
        "\n",
        "test_dataset = datasets.CIFAR10(root='data', \n",
        "                                train=False, \n",
        "                                transform=transforms.ToTensor(), \n",
        "                                download=False)\n",
        "\n",
        "train_loader = DataLoader(dataset=train_dataset, \n",
        "                          batch_size=batch_size, \n",
        "                          num_workers=4, \n",
        "                          shuffle=True)\n",
        "valid_loader = DataLoader(dataset=valid_dataset, \n",
        "                          batch_size=batch_size, \n",
        "                          num_workers=4, \n",
        "                          shuffle=False)\n",
        "\n",
        "test_loader = DataLoader(dataset=test_dataset, \n",
        "                         batch_size=batch_size, \n",
        "                         num_workers=4, \n",
        "                         shuffle=False)"
      ],
      "execution_count": 3,
      "outputs": [
        {
          "output_type": "stream",
          "text": [
            "Downloading https://www.cs.toronto.edu/~kriz/cifar-10-python.tar.gz to data/cifar-10-python.tar.gz\n"
          ],
          "name": "stdout"
        },
        {
          "output_type": "display_data",
          "data": {
            "application/vnd.jupyter.widget-view+json": {
              "model_id": "7ff40e734dfe4f878929d0e3e6eadc0a",
              "version_minor": 0,
              "version_major": 2
            },
            "text/plain": [
              "HBox(children=(FloatProgress(value=1.0, bar_style='info', max=1.0), HTML(value='')))"
            ]
          },
          "metadata": {
            "tags": []
          }
        },
        {
          "output_type": "stream",
          "text": [
            "Extracting data/cifar-10-python.tar.gz to data\n"
          ],
          "name": "stdout"
        }
      ]
    },
    {
      "cell_type": "code",
      "metadata": {
        "id": "tFLRwYuP0dLD",
        "colab_type": "code",
        "colab": {
          "base_uri": "https://localhost:8080/",
          "height": 55
        },
        "outputId": "459cea03-248a-4d0e-8cca-379eeeabeb38"
      },
      "source": [
        "torch.manual_seed(0)\n",
        "\n",
        "for epoch in range(2):\n",
        "    for batch_idx, (x, y) in enumerate(train_loader):\n",
        "        print('Epoch: %d | Batch index: %d | Batch size: %d' % (epoch+1, batch_idx, y.size()[0]))\n",
        "        x = x.to(device)\n",
        "        y = y.to(device)\n",
        "        break"
      ],
      "execution_count": 4,
      "outputs": [
        {
          "output_type": "stream",
          "text": [
            "Epoch: 1 | Batch index: 0 | Batch size: 128\n",
            "Epoch: 2 | Batch index: 0 | Batch size: 128\n"
          ],
          "name": "stdout"
        }
      ]
    },
    {
      "cell_type": "code",
      "metadata": {
        "id": "L9xXruPF0fgx",
        "colab_type": "code",
        "colab": {
          "base_uri": "https://localhost:8080/",
          "height": 55
        },
        "outputId": "8745e3f7-19c6-4236-f145-d1a86f2c8bf9"
      },
      "source": [
        "# Check if shuffling works properly\n",
        "\n",
        "for images, labels in train_loader:\n",
        "    pass\n",
        "print(labels[:10])\n",
        "\n",
        "for images, labels in train_loader:\n",
        "    pass\n",
        "print(labels[:10])"
      ],
      "execution_count": 5,
      "outputs": [
        {
          "output_type": "stream",
          "text": [
            "tensor([3, 0, 1, 3, 3, 5, 0, 4, 9, 4])\n",
            "tensor([1, 0, 4, 1, 8, 2, 0, 3, 5, 3])\n"
          ],
          "name": "stdout"
        }
      ]
    },
    {
      "cell_type": "code",
      "metadata": {
        "id": "5xpqNGyG0m2S",
        "colab_type": "code",
        "colab": {
          "base_uri": "https://localhost:8080/",
          "height": 55
        },
        "outputId": "944de444-a229-4e49-d995-e6064e97a69a"
      },
      "source": [
        "# Check if validation set and test set are diverse\n",
        "\n",
        "for images, labels in valid_loader:\n",
        "    pass\n",
        "print(labels[:10])\n",
        "\n",
        "for images, labels in test_loader:\n",
        "    pass\n",
        "print(labels[:10])"
      ],
      "execution_count": 6,
      "outputs": [
        {
          "output_type": "stream",
          "text": [
            "tensor([5, 0, 3, 6, 8, 7, 9, 5, 6, 6])\n",
            "tensor([7, 5, 8, 0, 8, 2, 7, 0, 3, 5])\n"
          ],
          "name": "stdout"
        }
      ]
    },
    {
      "cell_type": "code",
      "metadata": {
        "id": "mp1yYDHL0pkF",
        "colab_type": "code",
        "colab": {}
      },
      "source": [
        "############################\n",
        "# Model\n",
        "###########################\n",
        "\n",
        "import re\n",
        "import torch\n",
        "import torch.nn as nn\n",
        "import torch.nn.functional as F\n",
        "import torch.utils.checkpoint as cp\n",
        "from collections import OrderedDict\n",
        "\n",
        "# Maybe hacky\n",
        "def _bn_function_factory(norm, relu, conv):\n",
        "    def bn_function(*inputs):\n",
        "        concated_features = torch.cat(inputs, 1)\n",
        "        bottleneck_output = conv(relu(norm(concated_features)))\n",
        "        return bottleneck_output\n",
        "    return bn_function\n",
        "\n",
        "class _DenseLayer(nn.Sequential):\n",
        "  def __init__(self, num_input_features, growth_rate, bn_size, drop_rate, memory_efficient=False):\n",
        "    super(_DenseLayer, self).__init__()\n",
        "    \n",
        "    self.add_module('norm1', nn.BatchNorm2d(num_input_features)),\n",
        "    self.add_module('relu1', nn.ReLU(inplace=True)),\n",
        "    self.add_module('conv1', nn.Conv2d(num_input_features,\n",
        "                                       bn_size * growth_rate,\n",
        "                                       kernel_size=1,\n",
        "                                       stride=1,\n",
        "                                       bias=False)),\n",
        "    self.add_module('norm2', nn.BatchNorm2d(bn_size * growth_rate)),\n",
        "    self.add_module('relu2', nn.ReLU(inplace=True)),\n",
        "    self.add_module('conv2', nn.Conv2d(bn_size * growth_rate,\n",
        "                                       growth_rate,\n",
        "                                       kernel_size=3,\n",
        "                                       stride=1,\n",
        "                                       padding=1,\n",
        "                                       bias=False))\n",
        "    self.drop_rate = drop_rate\n",
        "    self.memory_efficient = memory_efficient\n",
        "\n",
        "  def forward(self, *prev_features):\n",
        "    bn_function = _bn_function_factory(self.norm1, self.relu_1, self.conv1)\n",
        "    if self.memory_efficient and any(prev_feature.requires_grad for prev_feature in prev_features):\n",
        "      bottleneck_output = cp.checkpoint(bn_function, *prev_features)\n",
        "    else:\n",
        "      bottleneck_output = bn_function(*prev_features)\n",
        "    new_features = self.conv2(self.relu2(self.norm2(bottleneck_output)))\n",
        "    if self.drop_rate > 0:\n",
        "      new_features = F.dropout(new_features, p=self.drop_rate, training=self.training)\n",
        "    return new_features"
      ],
      "execution_count": 8,
      "outputs": []
    },
    {
      "cell_type": "code",
      "metadata": {
        "id": "EjOTGr7LVKAy",
        "colab_type": "code",
        "colab": {}
      },
      "source": [
        "class _DenseBlock(nn.Module):\n",
        "  def __init__(self, num_layers, num_input_features, bn_size, growth_rate, drop_rate, memory_efficient=False):\n",
        "    super(_DenseBlock, self).__init__()\n",
        "    for i in range(num_layers):\n",
        "      layer = _DenseLayer(\n",
        "          num_input_features + i * growth_rate,\n",
        "          growth_rate=growth_rate,\n",
        "          bn_size=bn_size,\n",
        "          drop_rate=drop_rate,\n",
        "          memory_efficient=memory_efficient\n",
        "      )\n",
        "      self.add_module('denselayer%d' % (i+1), layer)\n",
        "    \n",
        "  def forward(self, init_features):\n",
        "    features = [init_features]\n",
        "    for name, layer in self.named_children():\n",
        "      new_features = layer(*features)\n",
        "      features.append(new_features)\n",
        "    return torch.cat(features, 1)"
      ],
      "execution_count": 9,
      "outputs": []
    },
    {
      "cell_type": "code",
      "metadata": {
        "id": "0fB028UvXlGT",
        "colab_type": "code",
        "colab": {}
      },
      "source": [
        "class _Transition(nn.Sequential):\n",
        "  def __init__(self, num_input_features, num_output_features):\n",
        "    super(_Transition, self).__init__()\n",
        "    self.add_module('norm', nn.BatchNorm2d(num_input_features))\n",
        "    self.add_module('relu', nn.ReLU(inplace=True))\n",
        "    self.add_module('conv', nn.Conv2d(num_input_features, \n",
        "                                      num_output_features, \n",
        "                                      kernel_size=1, \n",
        "                                      stride=1, \n",
        "                                      bias=False))\n",
        "    self.add_module('pool', nn.AvgPool2d(kernel_size=2, stride=2))\n",
        "\n",
        "class DenseNet121(nn.Module):\n",
        "  def __init__(self, growth_rate=32, block_config=(6, 12, 24, 16),\n",
        "               num_init_featuremaps=64, bn_size=4, drop_rate=0, num_classes=10, memory_efficient=False,\n",
        "               grayscale=False):\n",
        "    super(DenseNet121, self).__init__()\n",
        "\n",
        "    # First Convolution\n",
        "    if grayscale:\n",
        "      in_channels = 1\n",
        "    else:\n",
        "      in_channels = 3\n",
        "    \n",
        "    self.features = nn.Sequential(OrderedDict([\n",
        "                                                ('conv0', nn.Conv2d(in_channels=in_channels,\n",
        "                                                                    out_channels=num_init_featuremaps,\n",
        "                                                                    kernel_size=7,\n",
        "                                                                    stride=2,\n",
        "                                                                    padding=3, bias=False)),\n",
        "                                               ('norm0', nn.BatchNorm2d(num_init_featuremaps)),\n",
        "                                               ('relu0', nn.ReLU(inplace=True)),\n",
        "                                               ('pool0', nn.AvgPool2d(kernel_size=3, stride=2, padding=1)),\n",
        "    ]))\n",
        "\n",
        "    # Each denseblock\n",
        "    num_features = num_init_featuremaps\n",
        "    for i, num_layers in enumerate(block_config):\n",
        "      block = _DenseBlock(\n",
        "          num_layers=num_layers,\n",
        "          num_input_features=num_features,\n",
        "          bn_size=bn_size,\n",
        "          growth_rate=growth_rate,\n",
        "          memory_efficient=memory_efficient\n",
        "      )\n",
        "      self.features.add_module('denseblock%d' % (i+1), block)\n",
        "      num_features = num_features + num_layers * growth_rate\n",
        "      if i != len(block_config) - 1:\n",
        "        trans = _Transition(num_input_features=num_features,\n",
        "                            num_output_features=num_features//2)\n",
        "        self.features.add_module('transition%d' % (i+1), trans)\n",
        "        num_features = num_features // 2\n",
        "    \n",
        "    # Final Batch Norm\n",
        "    self.features.add_module('norm5', nn.BatchNorm2d(num_features))\n",
        "\n",
        "    # Linear Layer\n",
        "    self.classifier = nn.Linear(num_features, num_classes)\n",
        "\n",
        "    # Official init from torch repo\n",
        "    for m in self.modules():\n",
        "      if isinstance(m, Conv2d):\n",
        "        nn.init.kaiming_normal_(m.weight)\n",
        "      elif isinstance(m, nn.BatchNorm2d):\n",
        "        nn.init.constant_(m.weight, 1)\n",
        "        nn.init.constant_(m.bias, 0)\n",
        "      elif instance(m, nn.Linear):\n",
        "        nn.init.constant_(m.bias, 0)\n",
        "    \n",
        "  def forward(self, x):\n",
        "    features = self.features(x)\n",
        "    out = F.relu(features, inplace=True)\n",
        "    out = F."
      ],
      "execution_count": null,
      "outputs": []
    }
  ]
}