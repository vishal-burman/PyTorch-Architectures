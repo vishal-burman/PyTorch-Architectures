{
  "nbformat": 4,
  "nbformat_minor": 0,
  "metadata": {
    "colab": {
      "name": "test_sample_XLM.ipynb",
      "provenance": [],
      "collapsed_sections": [],
      "authorship_tag": "ABX9TyNhGsKZiOmEq8yJGkwkY2V4",
      "include_colab_link": true
    },
    "kernelspec": {
      "name": "python3",
      "display_name": "Python 3"
    },
    "accelerator": "GPU"
  },
  "cells": [
    {
      "cell_type": "markdown",
      "metadata": {
        "id": "view-in-github",
        "colab_type": "text"
      },
      "source": [
        "<a href=\"https://colab.research.google.com/github/vishal-burman/PyTorch-Architectures/blob/master/modeling_xlm/test_sample_XLM.ipynb\" target=\"_parent\"><img src=\"https://colab.research.google.com/assets/colab-badge.svg\" alt=\"Open In Colab\"/></a>"
      ]
    },
    {
      "cell_type": "code",
      "metadata": {
        "id": "0Xe4oH7bdPi0"
      },
      "source": [
        "! nvidia-smi"
      ],
      "execution_count": null,
      "outputs": []
    },
    {
      "cell_type": "code",
      "metadata": {
        "id": "YQ3md_NNdacn"
      },
      "source": [
        "! git clone https://github.com/vishal-burman/PyTorch-Architectures.git"
      ],
      "execution_count": null,
      "outputs": []
    },
    {
      "cell_type": "code",
      "metadata": {
        "id": "7MropeaTdoEK"
      },
      "source": [
        "%cd PyTorch-Architectures/modeling_xlm/"
      ],
      "execution_count": null,
      "outputs": []
    },
    {
      "cell_type": "code",
      "metadata": {
        "id": "yvQswjwfd7zy"
      },
      "source": [
        "! pip install datasets\n",
        "! pip install transformers"
      ],
      "execution_count": null,
      "outputs": []
    },
    {
      "cell_type": "code",
      "metadata": {
        "id": "8SlpmKsxd9rr"
      },
      "source": [
        "import torch\n",
        "import torch.nn as nn\n",
        "from torch.utils.data import Dataset, DataLoader\n",
        "from transformers import XLMTokenizer\n",
        "from config_xlm import XLMConfig\n",
        "from model import XLMForSequenceClassification\n",
        "from datasets import load_dataset\n",
        "\n",
        "dataset = load_dataset('rotten_tomatoes')\n",
        "device = torch.device(\"cuda:0\" if torch.cuda.is_available() else \"cpu\")"
      ],
      "execution_count": null,
      "outputs": []
    },
    {
      "cell_type": "code",
      "metadata": {
        "id": "yQa653tVgAz9"
      },
      "source": [
        "train_texts = [_['text'] for _ in dataset['train']]\n",
        "train_labels = [_['label'] for _ in dataset['train']]\n",
        "\n",
        "valid_texts = [_['text'] for _ in dataset['validation']]\n",
        "valid_labels = [_['label'] for _ in dataset['validation']]"
      ],
      "execution_count": 6,
      "outputs": []
    },
    {
      "cell_type": "code",
      "metadata": {
        "id": "eonOz6pEgKzd"
      },
      "source": [
        "# Defining the model and tokenizer\n",
        "config = XLMConfig()\n",
        "tokenizer = XLMTokenizer.from_pretrained('xlm-mlm-en-2048')\n",
        "model = XLMForSequenceClassification(config).to(device)"
      ],
      "execution_count": null,
      "outputs": []
    },
    {
      "cell_type": "code",
      "metadata": {
        "id": "Jk-p77OOjiLB",
        "outputId": "7516da2f-c389-468b-aae6-afe38587012f",
        "colab": {
          "base_uri": "https://localhost:8080/",
          "height": 34
        }
      },
      "source": [
        "total_params = sum(p.numel() for p in model.parameters())\n",
        "print(\"Total Parameters = \", total_params)"
      ],
      "execution_count": 8,
      "outputs": [
        {
          "output_type": "stream",
          "text": [
            "Total Parameters =  106974210\n"
          ],
          "name": "stdout"
        }
      ]
    },
    {
      "cell_type": "code",
      "metadata": {
        "id": "kvavBM6Zj9JI"
      },
      "source": [
        "class CustomDataset(Dataset):\n",
        "  def __init__(self, tokenizer, texts, labels, seq_length=64):\n",
        "    self.tokenizer = tokenizer\n",
        "    self.texts = texts\n",
        "    self.labels = labels\n",
        "    self.seq_length = seq_length\n",
        "    self.train_texts = []\n",
        "    self.build()\n",
        "  \n",
        "  def __len__(self):\n",
        "    return len(self.train_texts)\n",
        "  \n",
        "  def __getitem__(self, idx):\n",
        "    input_ids = self.train_texts[idx]['input_ids']\n",
        "    attention_mask = self.train_texts[idx]['attention_mask']\n",
        "    labels = self.train_texts[idx]['labels']\n",
        "    return{\n",
        "        'ids': torch.tensor(input_ids, dtype=torch.long),\n",
        "        'mask': torch.tensor(input_ids, dtype=torch.long),\n",
        "        'tgt': torch.tensor(labels, dtype=torch.long),\n",
        "    }\n",
        "  \n",
        "  def build(self):\n",
        "    for text, label in zip(self.texts, self.labels):\n",
        "      tokens = tokenizer(text, max_length=self.seq_length, truncation=True, padding='max_length')\n",
        "      self.train_texts.append({'input_ids': tokens['input_ids'], 'attention_mask': tokens['attention_mask'], 'labels': label})"
      ],
      "execution_count": 11,
      "outputs": []
    },
    {
      "cell_type": "code",
      "metadata": {
        "id": "40IabZ6UloEz"
      },
      "source": [
        "train_dataset = CustomDataset(tokenizer, train_texts, train_labels)\n",
        "valid_dataset = CustomDataset(tokenizer, valid_texts, valid_labels)"
      ],
      "execution_count": 12,
      "outputs": []
    },
    {
      "cell_type": "code",
      "metadata": {
        "id": "oEhVRaAAtH10",
        "outputId": "f72e2aa6-146a-4a32-83c5-2268195d56e5",
        "colab": {
          "base_uri": "https://localhost:8080/",
          "height": 52
        }
      },
      "source": [
        "BATCH_SIZE = 8\n",
        "LR = 0.001\n",
        "EPOCHS = 5\n",
        "\n",
        "train_loader = DataLoader(dataset=train_dataset, shuffle=True, batch_size=BATCH_SIZE, num_workers=4)\n",
        "valid_loader = DataLoader(dataset=valid_dataset, shuffle=False, batch_size=BATCH_SIZE, num_workers=4)\n",
        "print(\"Length of Train DataLoader: \", len(train_loader))\n",
        "print(\"Length of Valid DataLoader: \", len(valid_loader))\n",
        "\n",
        "optimizer = torch.optim.Adam(model.parameters(), lr=LR)"
      ],
      "execution_count": 18,
      "outputs": [
        {
          "output_type": "stream",
          "text": [
            "Length of Train DataLoader:  1067\n",
            "Length of Valid DataLoader:  134\n"
          ],
          "name": "stdout"
        }
      ]
    },
    {
      "cell_type": "code",
      "metadata": {
        "id": "XoTap1YAtodp",
        "outputId": "c3af6475-300a-46ee-d201-157637a4c5aa",
        "colab": {
          "base_uri": "https://localhost:8080/",
          "height": 34
        }
      },
      "source": [
        "for epoch in range(EPOCHS):\n",
        "  model.train()\n",
        "  for idx, sample in enumerate(train_loader):\n",
        "    ids = sample['ids'].to(device)\n",
        "    mask = sample['mask'].to(device)\n",
        "    labels = sample['tgt'].to(device)\n",
        "    \n",
        "    optimizer.zero_grad()\n",
        "    logits = model(input_ids=ids, attention_mask=mask, labels=labels)\n",
        "    loss = logits[0]\n",
        "    print(loss.item())\n",
        "\n",
        "    loss.backward()\n",
        "    optimizer.step()\n",
        "    break\n",
        "  break"
      ],
      "execution_count": 20,
      "outputs": [
        {
          "output_type": "stream",
          "text": [
            "0.6931471824645996\n"
          ],
          "name": "stdout"
        }
      ]
    },
    {
      "cell_type": "code",
      "metadata": {
        "id": "WQ8Q7WCeva7q"
      },
      "source": [
        ""
      ],
      "execution_count": null,
      "outputs": []
    }
  ]
}