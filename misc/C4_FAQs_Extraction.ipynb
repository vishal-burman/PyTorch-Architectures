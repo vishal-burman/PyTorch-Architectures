{
  "nbformat": 4,
  "nbformat_minor": 0,
  "metadata": {
    "colab": {
      "provenance": [],
      "authorship_tag": "ABX9TyM3ByMVfi7GzWLZN55CUzF/",
      "include_colab_link": true
    },
    "kernelspec": {
      "name": "python3",
      "display_name": "Python 3"
    },
    "language_info": {
      "name": "python"
    },
    "widgets": {
      "application/vnd.jupyter.widget-state+json": {
        "81216e0acb1a4e70baef77798c44e538": {
          "model_module": "@jupyter-widgets/controls",
          "model_name": "HBoxModel",
          "model_module_version": "1.5.0",
          "state": {
            "_dom_classes": [],
            "_model_module": "@jupyter-widgets/controls",
            "_model_module_version": "1.5.0",
            "_model_name": "HBoxModel",
            "_view_count": null,
            "_view_module": "@jupyter-widgets/controls",
            "_view_module_version": "1.5.0",
            "_view_name": "HBoxView",
            "box_style": "",
            "children": [
              "IPY_MODEL_4b44e7a7ca2f4ec0a4a5c1ca97f3e702",
              "IPY_MODEL_d1ffdc5c4b8d4af2a886ad2f0c379170",
              "IPY_MODEL_ec643e8233af4b4a888173dba22764bb"
            ],
            "layout": "IPY_MODEL_0630af64d94144a688b24b0c3d28ddab"
          }
        },
        "4b44e7a7ca2f4ec0a4a5c1ca97f3e702": {
          "model_module": "@jupyter-widgets/controls",
          "model_name": "HTMLModel",
          "model_module_version": "1.5.0",
          "state": {
            "_dom_classes": [],
            "_model_module": "@jupyter-widgets/controls",
            "_model_module_version": "1.5.0",
            "_model_name": "HTMLModel",
            "_view_count": null,
            "_view_module": "@jupyter-widgets/controls",
            "_view_module_version": "1.5.0",
            "_view_name": "HTMLView",
            "description": "",
            "description_tooltip": null,
            "layout": "IPY_MODEL_30ca0a12eae5498cac09a1b9fa301626",
            "placeholder": "​",
            "style": "IPY_MODEL_c8d37083e1934cd487a3bd54cc028bc5",
            "value": "100%"
          }
        },
        "d1ffdc5c4b8d4af2a886ad2f0c379170": {
          "model_module": "@jupyter-widgets/controls",
          "model_name": "FloatProgressModel",
          "model_module_version": "1.5.0",
          "state": {
            "_dom_classes": [],
            "_model_module": "@jupyter-widgets/controls",
            "_model_module_version": "1.5.0",
            "_model_name": "FloatProgressModel",
            "_view_count": null,
            "_view_module": "@jupyter-widgets/controls",
            "_view_module_version": "1.5.0",
            "_view_name": "ProgressView",
            "bar_style": "",
            "description": "",
            "description_tooltip": null,
            "layout": "IPY_MODEL_c9d43c79cc4b4c5582341771d4ee2803",
            "max": 5000,
            "min": 0,
            "orientation": "horizontal",
            "style": "IPY_MODEL_d18134dd0f4c4621b89ff5cb436ab706",
            "value": 5000
          }
        },
        "ec643e8233af4b4a888173dba22764bb": {
          "model_module": "@jupyter-widgets/controls",
          "model_name": "HTMLModel",
          "model_module_version": "1.5.0",
          "state": {
            "_dom_classes": [],
            "_model_module": "@jupyter-widgets/controls",
            "_model_module_version": "1.5.0",
            "_model_name": "HTMLModel",
            "_view_count": null,
            "_view_module": "@jupyter-widgets/controls",
            "_view_module_version": "1.5.0",
            "_view_name": "HTMLView",
            "description": "",
            "description_tooltip": null,
            "layout": "IPY_MODEL_0f606b6273944e33b3640aa726d5f27c",
            "placeholder": "​",
            "style": "IPY_MODEL_5a4762e364cc4f9aa64b46f3767e8304",
            "value": " 5000/5000 [05:45&lt;00:00, 19.57it/s]"
          }
        },
        "0630af64d94144a688b24b0c3d28ddab": {
          "model_module": "@jupyter-widgets/base",
          "model_name": "LayoutModel",
          "model_module_version": "1.2.0",
          "state": {
            "_model_module": "@jupyter-widgets/base",
            "_model_module_version": "1.2.0",
            "_model_name": "LayoutModel",
            "_view_count": null,
            "_view_module": "@jupyter-widgets/base",
            "_view_module_version": "1.2.0",
            "_view_name": "LayoutView",
            "align_content": null,
            "align_items": null,
            "align_self": null,
            "border": null,
            "bottom": null,
            "display": null,
            "flex": null,
            "flex_flow": null,
            "grid_area": null,
            "grid_auto_columns": null,
            "grid_auto_flow": null,
            "grid_auto_rows": null,
            "grid_column": null,
            "grid_gap": null,
            "grid_row": null,
            "grid_template_areas": null,
            "grid_template_columns": null,
            "grid_template_rows": null,
            "height": null,
            "justify_content": null,
            "justify_items": null,
            "left": null,
            "margin": null,
            "max_height": null,
            "max_width": null,
            "min_height": null,
            "min_width": null,
            "object_fit": null,
            "object_position": null,
            "order": null,
            "overflow": null,
            "overflow_x": null,
            "overflow_y": null,
            "padding": null,
            "right": null,
            "top": null,
            "visibility": null,
            "width": null
          }
        },
        "30ca0a12eae5498cac09a1b9fa301626": {
          "model_module": "@jupyter-widgets/base",
          "model_name": "LayoutModel",
          "model_module_version": "1.2.0",
          "state": {
            "_model_module": "@jupyter-widgets/base",
            "_model_module_version": "1.2.0",
            "_model_name": "LayoutModel",
            "_view_count": null,
            "_view_module": "@jupyter-widgets/base",
            "_view_module_version": "1.2.0",
            "_view_name": "LayoutView",
            "align_content": null,
            "align_items": null,
            "align_self": null,
            "border": null,
            "bottom": null,
            "display": null,
            "flex": null,
            "flex_flow": null,
            "grid_area": null,
            "grid_auto_columns": null,
            "grid_auto_flow": null,
            "grid_auto_rows": null,
            "grid_column": null,
            "grid_gap": null,
            "grid_row": null,
            "grid_template_areas": null,
            "grid_template_columns": null,
            "grid_template_rows": null,
            "height": null,
            "justify_content": null,
            "justify_items": null,
            "left": null,
            "margin": null,
            "max_height": null,
            "max_width": null,
            "min_height": null,
            "min_width": null,
            "object_fit": null,
            "object_position": null,
            "order": null,
            "overflow": null,
            "overflow_x": null,
            "overflow_y": null,
            "padding": null,
            "right": null,
            "top": null,
            "visibility": null,
            "width": null
          }
        },
        "c8d37083e1934cd487a3bd54cc028bc5": {
          "model_module": "@jupyter-widgets/controls",
          "model_name": "DescriptionStyleModel",
          "model_module_version": "1.5.0",
          "state": {
            "_model_module": "@jupyter-widgets/controls",
            "_model_module_version": "1.5.0",
            "_model_name": "DescriptionStyleModel",
            "_view_count": null,
            "_view_module": "@jupyter-widgets/base",
            "_view_module_version": "1.2.0",
            "_view_name": "StyleView",
            "description_width": ""
          }
        },
        "c9d43c79cc4b4c5582341771d4ee2803": {
          "model_module": "@jupyter-widgets/base",
          "model_name": "LayoutModel",
          "model_module_version": "1.2.0",
          "state": {
            "_model_module": "@jupyter-widgets/base",
            "_model_module_version": "1.2.0",
            "_model_name": "LayoutModel",
            "_view_count": null,
            "_view_module": "@jupyter-widgets/base",
            "_view_module_version": "1.2.0",
            "_view_name": "LayoutView",
            "align_content": null,
            "align_items": null,
            "align_self": null,
            "border": null,
            "bottom": null,
            "display": null,
            "flex": null,
            "flex_flow": null,
            "grid_area": null,
            "grid_auto_columns": null,
            "grid_auto_flow": null,
            "grid_auto_rows": null,
            "grid_column": null,
            "grid_gap": null,
            "grid_row": null,
            "grid_template_areas": null,
            "grid_template_columns": null,
            "grid_template_rows": null,
            "height": null,
            "justify_content": null,
            "justify_items": null,
            "left": null,
            "margin": null,
            "max_height": null,
            "max_width": null,
            "min_height": null,
            "min_width": null,
            "object_fit": null,
            "object_position": null,
            "order": null,
            "overflow": null,
            "overflow_x": null,
            "overflow_y": null,
            "padding": null,
            "right": null,
            "top": null,
            "visibility": null,
            "width": null
          }
        },
        "d18134dd0f4c4621b89ff5cb436ab706": {
          "model_module": "@jupyter-widgets/controls",
          "model_name": "ProgressStyleModel",
          "model_module_version": "1.5.0",
          "state": {
            "_model_module": "@jupyter-widgets/controls",
            "_model_module_version": "1.5.0",
            "_model_name": "ProgressStyleModel",
            "_view_count": null,
            "_view_module": "@jupyter-widgets/base",
            "_view_module_version": "1.2.0",
            "_view_name": "StyleView",
            "bar_color": null,
            "description_width": ""
          }
        },
        "0f606b6273944e33b3640aa726d5f27c": {
          "model_module": "@jupyter-widgets/base",
          "model_name": "LayoutModel",
          "model_module_version": "1.2.0",
          "state": {
            "_model_module": "@jupyter-widgets/base",
            "_model_module_version": "1.2.0",
            "_model_name": "LayoutModel",
            "_view_count": null,
            "_view_module": "@jupyter-widgets/base",
            "_view_module_version": "1.2.0",
            "_view_name": "LayoutView",
            "align_content": null,
            "align_items": null,
            "align_self": null,
            "border": null,
            "bottom": null,
            "display": null,
            "flex": null,
            "flex_flow": null,
            "grid_area": null,
            "grid_auto_columns": null,
            "grid_auto_flow": null,
            "grid_auto_rows": null,
            "grid_column": null,
            "grid_gap": null,
            "grid_row": null,
            "grid_template_areas": null,
            "grid_template_columns": null,
            "grid_template_rows": null,
            "height": null,
            "justify_content": null,
            "justify_items": null,
            "left": null,
            "margin": null,
            "max_height": null,
            "max_width": null,
            "min_height": null,
            "min_width": null,
            "object_fit": null,
            "object_position": null,
            "order": null,
            "overflow": null,
            "overflow_x": null,
            "overflow_y": null,
            "padding": null,
            "right": null,
            "top": null,
            "visibility": null,
            "width": null
          }
        },
        "5a4762e364cc4f9aa64b46f3767e8304": {
          "model_module": "@jupyter-widgets/controls",
          "model_name": "DescriptionStyleModel",
          "model_module_version": "1.5.0",
          "state": {
            "_model_module": "@jupyter-widgets/controls",
            "_model_module_version": "1.5.0",
            "_model_name": "DescriptionStyleModel",
            "_view_count": null,
            "_view_module": "@jupyter-widgets/base",
            "_view_module_version": "1.2.0",
            "_view_name": "StyleView",
            "description_width": ""
          }
        }
      }
    }
  },
  "cells": [
    {
      "cell_type": "markdown",
      "metadata": {
        "id": "view-in-github",
        "colab_type": "text"
      },
      "source": [
        "<a href=\"https://colab.research.google.com/github/vishal-burman/PyTorch-Architectures/blob/master/misc/C4_FAQs_Extraction.ipynb\" target=\"_parent\"><img src=\"https://colab.research.google.com/assets/colab-badge.svg\" alt=\"Open In Colab\"/></a>"
      ]
    },
    {
      "cell_type": "code",
      "execution_count": null,
      "metadata": {
        "id": "b57isbWPdxsW"
      },
      "outputs": [],
      "source": [
        "! pip install -Uq transformers sentence-transformers datasets sentencepiece"
      ]
    },
    {
      "cell_type": "code",
      "source": [
        "from datasets import load_dataset\n",
        "from tqdm.auto import tqdm\n",
        "import nltk\n",
        "from nltk.tokenize import sent_tokenize, word_tokenize # We need a fast sentence-tokenizer\n",
        "from typing import List\n",
        "nltk.download(\"punkt\")"
      ],
      "metadata": {
        "colab": {
          "base_uri": "https://localhost:8080/"
        },
        "id": "NUJoYq5DfBCq",
        "outputId": "b3600970-cbf5-4028-c280-a412fd449dca"
      },
      "execution_count": 59,
      "outputs": [
        {
          "output_type": "stream",
          "name": "stderr",
          "text": [
            "[nltk_data] Downloading package punkt to /root/nltk_data...\n",
            "[nltk_data]   Package punkt is already up-to-date!\n"
          ]
        },
        {
          "output_type": "execute_result",
          "data": {
            "text/plain": [
              "True"
            ]
          },
          "metadata": {},
          "execution_count": 59
        }
      ]
    },
    {
      "cell_type": "code",
      "source": [
        "dataset = load_dataset(\"c4\", \"en\", split=\"train\", streaming=True)"
      ],
      "metadata": {
        "id": "jnmQ-fdifHnV"
      },
      "execution_count": 2,
      "outputs": []
    },
    {
      "cell_type": "code",
      "source": [
        "def tokenize_text(text: str):\n",
        "  sentence_tokens = sent_tokenize(text)\n",
        "  return sentence_tokens\n",
        "\n",
        "def num_word_tokens(text: str):\n",
        "  return len(word_tokenize(text))\n",
        "\n",
        "def flow(sentence_tokens: List[str]):\n",
        "  initial_question_found = False\n",
        "  questions, answers = [], []\n",
        "  for i, sent in enumerate(sentence_tokens):\n",
        "    if sent.endswith(\"?\"):\n",
        "      questions.append(sent)\n",
        "      answer_j = []\n",
        "      for sent_j in sentence_tokens[i+1:]:\n",
        "        if not sent_j.endswith(\"?\"):\n",
        "          answer_j.append(sent_j)\n",
        "        else:\n",
        "          break\n",
        "      answer_j_text = \" \".join(answer_j)\n",
        "      answers.append(answer_j_text)\n",
        "  \n",
        "  # print(f\"Total questions: {len(questions)}\")\n",
        "  # print(f\"Total answers: {len(answers)}\")\n",
        "  qa_pairs = list(zip(questions, answers))\n",
        "  qa_pairs = list(filter(lambda x: num_word_tokens(x[0]) > 2 and \\\n",
        "                         num_word_tokens(x[1]) > 4, qa_pairs))\n",
        "  return qa_pairs"
      ],
      "metadata": {
        "id": "Adi8lS0-qAlb"
      },
      "execution_count": 80,
      "outputs": []
    },
    {
      "cell_type": "code",
      "source": [
        "count_faqs = 0\n",
        "done_urls = set()\n",
        "limit = 5000\n",
        "progress_bar = tqdm(range(limit))\n",
        "all_questions, all_answers = [], []\n",
        "for dict_ in dataset:\n",
        "  if count_faqs == limit:\n",
        "    break\n",
        "\n",
        "  url = dict_[\"url\"]\n",
        "  text = dict_[\"text\"]\n",
        "  if \"faq\" in url.lower():\n",
        "    count_faqs += 1\n",
        "    progress_bar.update(1)\n",
        "    done_urls.add(url)\n",
        "    qa_pairs = flow(tokenize_text(text))\n",
        "    if qa_pairs:\n",
        "      questions, answers = zip(*qa_pairs)\n",
        "      questions, answers = list(questions), list(answers)\n",
        "      all_questions.append(questions), all_answers.append(answers)"
      ],
      "metadata": {
        "colab": {
          "base_uri": "https://localhost:8080/",
          "height": 49,
          "referenced_widgets": [
            "81216e0acb1a4e70baef77798c44e538",
            "4b44e7a7ca2f4ec0a4a5c1ca97f3e702",
            "d1ffdc5c4b8d4af2a886ad2f0c379170",
            "ec643e8233af4b4a888173dba22764bb",
            "0630af64d94144a688b24b0c3d28ddab",
            "30ca0a12eae5498cac09a1b9fa301626",
            "c8d37083e1934cd487a3bd54cc028bc5",
            "c9d43c79cc4b4c5582341771d4ee2803",
            "d18134dd0f4c4621b89ff5cb436ab706",
            "0f606b6273944e33b3640aa726d5f27c",
            "5a4762e364cc4f9aa64b46f3767e8304"
          ]
        },
        "id": "c-KyfXPPfVYK",
        "outputId": "675e9829-f177-44a4-e626-e576e5e26b37"
      },
      "execution_count": 81,
      "outputs": [
        {
          "output_type": "display_data",
          "data": {
            "text/plain": [
              "  0%|          | 0/5000 [00:00<?, ?it/s]"
            ],
            "application/vnd.jupyter.widget-view+json": {
              "version_major": 2,
              "version_minor": 0,
              "model_id": "81216e0acb1a4e70baef77798c44e538"
            }
          },
          "metadata": {}
        }
      ]
    },
    {
      "cell_type": "code",
      "source": [
        "print(f\"Total filtered faq pages: {len(all_questions)}\")"
      ],
      "metadata": {
        "colab": {
          "base_uri": "https://localhost:8080/"
        },
        "id": "VWlOaG7O1oVX",
        "outputId": "9fb19d42-4c2e-4d17-ea14-4e191ff8fb3d"
      },
      "execution_count": 82,
      "outputs": [
        {
          "output_type": "stream",
          "name": "stdout",
          "text": [
            "Total filtered faq pages: 3804\n"
          ]
        }
      ]
    },
    {
      "cell_type": "code",
      "source": [
        "all_questions[2004]"
      ],
      "metadata": {
        "colab": {
          "base_uri": "https://localhost:8080/"
        },
        "id": "KbE8PwTGhmWi",
        "outputId": "4d95e4dd-18e6-45c4-8454-dcf2c7eef24c"
      },
      "execution_count": 93,
      "outputs": [
        {
          "output_type": "execute_result",
          "data": {
            "text/plain": [
              "['Are there any medical tests required before enrolling for IVF program?',\n",
              " 'How to choose a Surrogate Mother?',\n",
              " 'We want to use our own eggs and sperms and want to use a surrogate only, it is possible?',\n",
              " 'How long does it take on average from beginning (signing contract) till the time you take baby home?',\n",
              " 'What is the process for arranging a Caucasian egg donor- and does this cost very much?',\n",
              " 'Whose names come on baby birth Certificate?',\n",
              " 'It is possible to do shipment of embryos/sperms?',\n",
              " 'What are some of the benefits of having a Client Manager like you?']"
            ]
          },
          "metadata": {},
          "execution_count": 93
        }
      ]
    },
    {
      "cell_type": "code",
      "source": [
        "all_answers[2004]"
      ],
      "metadata": {
        "colab": {
          "base_uri": "https://localhost:8080/"
        },
        "id": "HOulpFtCv0_m",
        "outputId": "8c903fd7-f1e4-460c-90f2-981c5114b61a"
      },
      "execution_count": 94,
      "outputs": [
        {
          "output_type": "execute_result",
          "data": {
            "text/plain": [
              "['For female partner: Hormone tests like FSH, LH, Estradiol, Prolactin, TSH and AMH. These tests can be performed on Day2 to Day3 of her cycle and pelvic ultrasound to rule out possibility of fibroids, cysts, polyps, or fluid in the uterus. For both partners: There are few infectious disease tests which are mandatory for both partners. These tests are done to make sure that prospective parents are not passing any disease to their offspring. These tests include hepatitis B and C, HIV, Gonorrhea and Chlamydia, syphilis. There might be few additional tests as per the screening guidelines for that specific country. In case if you are using egg donor/sperm donor, medical tests is not required for partner who is not donating his/her biological materials. These tests are valid for 3-6 months.',\n",
              " 'Generally surrogate mother will be recruited for your program by your medical team based on her previous obstetrical history and medical tests. It is important to choose a surrogate mother who is at right age group ( 21- 32 years), she should have at least one kid of her own and should be free of any medical or psychological illness. In case she is married, her husband consent is needed.',\n",
              " 'Yes, it is possible. This is known as self-cycle surrogacy. Your client manager will assist you with medical test needed for your eligibility for program and will help your cycle synchronize with surrogate cycle. You will be asked to monitor your menses cycle and matching with surrogate is done accordingly.',\n",
              " 'Roughly it’s a 12-14 months process, including contract signing and 9 months of pregnancy and paperwork to take the baby back. The process of taking baby home varies country to country depending upon the consulates and embassy of your country.',\n",
              " 'We have partner Caucasian egg donor agency partner in US, Europe and Asia. You will be given database access to choose donor of your choice. Egg donor details like medical, family, educational, and social history will be shared with you. Please note that cost of travelling Caucasian donor will be higher as it includes cost of travel and accommodation with one chaperon. Please contact us for exact cost as per your specific case.',\n",
              " 'Each country has different scenarios for baby birth certificate. I would like to confirm that Intended Parents names are on the birth certificate in India, Ukraine and Mexico, even if an egg donor is used. No surrogacy is mentioned in documents and commissioning parents are legal parents of baby. To ensure that we have a high success rate we ensure that the egg donor is below 27 years of age, the surrogate is in the healthy age range of 22-30, the Egg donor is a proven ED as well as the surrogates already have their own kids. Only physically and mentally healthy fertile female are enrolled for surrogacy program. The success rate for donor surrogacy is as high as 70%. Yes, they can, right at the beginning, and at the end of the journey as well. Of course, with the surrogate permission we can arrange for more frequent meetings/skype calls.',\n",
              " 'Yes, it is. We are exclusively partnered with cryo- shipment companies which is trusted and experienced in shipment of delicate shipment process.',\n",
              " 'Discuss possible surrogacy options for you and suggest you best country and program considering your specific case. Assisting you with Medical tests to ensure your eligibility and help you finding a good laboratory for same. Making you aware of surrogacy contracts for donor and surrogacy and assisting you with medical visa requirement and documentation for same. Making you aware of surrogacy country legislation and assisting you with taking baby home documentation and process. Assisting you with logistic support and local support like travel, booking apartment, car service, nursing arrangement etc during your visit. Making sure that you get all medical reports and other update about surrogate on time and if needed, make sure to have skype meeting with surrogate. Planning your visit at the beginning for IVF procedure and then at the time of baby pick up with close monitoring with medical team and legal team.']"
            ]
          },
          "metadata": {},
          "execution_count": 94
        }
      ]
    },
    {
      "cell_type": "code",
      "source": [
        "sum([len(x) for x in all_questions])"
      ],
      "metadata": {
        "colab": {
          "base_uri": "https://localhost:8080/"
        },
        "id": "R84wVVBbv36B",
        "outputId": "509f263e-f17c-4def-b53a-32557435e976"
      },
      "execution_count": 88,
      "outputs": [
        {
          "output_type": "execute_result",
          "data": {
            "text/plain": [
              "23571"
            ]
          },
          "metadata": {},
          "execution_count": 88
        }
      ]
    },
    {
      "cell_type": "code",
      "source": [],
      "metadata": {
        "id": "ygiZACiG3iWe"
      },
      "execution_count": null,
      "outputs": []
    }
  ]
}