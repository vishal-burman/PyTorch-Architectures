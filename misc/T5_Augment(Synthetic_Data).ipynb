{
  "nbformat": 4,
  "nbformat_minor": 0,
  "metadata": {
    "colab": {
      "name": "T5-Augment(Synthetic Data).ipynb",
      "provenance": [],
      "authorship_tag": "ABX9TyO8u8FDCVW0QZ5zKB3FdjsM",
      "include_colab_link": true
    },
    "kernelspec": {
      "name": "python3",
      "display_name": "Python 3"
    },
    "language_info": {
      "name": "python"
    }
  },
  "cells": [
    {
      "cell_type": "markdown",
      "metadata": {
        "id": "view-in-github",
        "colab_type": "text"
      },
      "source": [
        "<a href=\"https://colab.research.google.com/github/vishal-burman/PyTorch-Architectures/blob/master/misc/T5_Augment(Synthetic_Data).ipynb\" target=\"_parent\"><img src=\"https://colab.research.google.com/assets/colab-badge.svg\" alt=\"Open In Colab\"/></a>"
      ]
    },
    {
      "cell_type": "code",
      "execution_count": 1,
      "metadata": {
        "id": "ZYM8NkLmm56x"
      },
      "outputs": [],
      "source": [
        "# An experiment notebook for creating synthetic data specifically for T5 finetuning"
      ]
    },
    {
      "cell_type": "code",
      "source": [
        "! pip install datasets\n",
        "! pip install transformers\n",
        "! pip install nlpaug"
      ],
      "metadata": {
        "id": "seCU5Z9ZnKcR"
      },
      "execution_count": null,
      "outputs": []
    },
    {
      "cell_type": "code",
      "source": [
        "from datasets import load_dataset\n",
        "import nltk\n",
        "from nltk import word_tokenize, sent_tokenize\n",
        "import spacy\n",
        "import nlpaug.augmenter.word as naw\n",
        "from random import randrange\n",
        "\n",
        "nltk.download('punkt')\n",
        "nlp = spacy.load(\"en_core_web_sm\") # Feels more robust than NLTK...will use this!"
      ],
      "metadata": {
        "colab": {
          "base_uri": "https://localhost:8080/"
        },
        "id": "37ANrTxjnTHs",
        "outputId": "7e4a0dfc-c231-40a2-f95f-b8aefd172f77"
      },
      "execution_count": 62,
      "outputs": [
        {
          "output_type": "stream",
          "name": "stdout",
          "text": [
            "[nltk_data] Downloading package punkt to /root/nltk_data...\n",
            "[nltk_data]   Package punkt is already up-to-date!\n"
          ]
        }
      ]
    },
    {
      "cell_type": "code",
      "source": [
        "dataset = load_dataset(\"squad\")"
      ],
      "metadata": {
        "id": "x3V5I_Honnop"
      },
      "execution_count": null,
      "outputs": []
    },
    {
      "cell_type": "code",
      "source": [
        "contexts = []\n",
        "for sample in dataset[\"train\"]:\n",
        "  if len(contexts) >= 1000:\n",
        "    break\n",
        "  \n",
        "  contexts.append(sample[\"context\"])\n",
        "print(f\"Length --> {len(contexts)}\")"
      ],
      "metadata": {
        "colab": {
          "base_uri": "https://localhost:8080/"
        },
        "id": "R5hJREFCnrYI",
        "outputId": "05bec801-0177-454a-c9b5-cd0fcc02b84a"
      },
      "execution_count": 6,
      "outputs": [
        {
          "output_type": "stream",
          "name": "stdout",
          "text": [
            "Length --> 1000\n"
          ]
        }
      ]
    },
    {
      "cell_type": "code",
      "source": [
        "contexts = sorted(contexts, key=len, reverse=True)"
      ],
      "metadata": {
        "colab": {
          "base_uri": "https://localhost:8080/"
        },
        "id": "i0Km9kQ5nxHR",
        "outputId": "45fd9d31-ac28-454c-ee00-8d58aab7c0c6"
      },
      "execution_count": 26,
      "outputs": [
        {
          "output_type": "stream",
          "name": "stdout",
          "text": [
            "On April 4, 2008, Beyoncé married Jay Z. She publicly revealed their marriage in a video montage at the listening party for her third studio album, I Am... Sasha Fierce, in Manhattan's Sony Club on October 22, 2008. I Am... Sasha Fierce was released on November 18, 2008 in the United States. The album formally introduces Beyoncé's alter ego Sasha Fierce, conceived during the making of her 2003 single \"Crazy in Love\", selling 482,000 copies in its first week, debuting atop the Billboard 200, and giving Beyoncé her third consecutive number-one album in the US. The album featured the number-one song \"Single Ladies (Put a Ring on It)\" and the top-five songs \"If I Were a Boy\" and \"Halo\". Achieving the accomplishment of becoming her longest-running Hot 100 single in her career, \"Halo\"'s success in the US helped Beyoncé attain more top-ten singles on the list than any other woman during the 2000s. It also included the successful \"Sweet Dreams\", and singles \"Diva\", \"Ego\", \"Broken-Hearted Girl\" and \"Video Phone\". The music video for \"Single Ladies\" has been parodied and imitated around the world, spawning the \"first major dance craze\" of the Internet age according to the Toronto Star. The video has won several awards, including Best Video at the 2009 MTV Europe Music Awards, the 2009 Scottish MOBO Awards, and the 2009 BET Awards. At the 2009 MTV Video Music Awards, the video was nominated for nine awards, ultimately winning three including Video of the Year. Its failure to win the Best Female Video category, which went to American country pop singer Taylor Swift's \"You Belong with Me\", led to Kanye West interrupting the ceremony and Beyoncé improvising a re-presentation of Swift's award during her own acceptance speech. In March 2009, Beyoncé embarked on the I Am... World Tour, her second headlining worldwide concert tour, consisting of 108 shows, grossing $119.5 million.\n"
          ]
        }
      ]
    },
    {
      "cell_type": "code",
      "source": [
        "aug_insert = naw.ContextualWordEmbsAug(model_path=\"bert-base-uncased\", action=\"insert\")\n",
        "aug_replace = naw.ContextualWordEmbsAug(model_path=\"bert-base-uncased\", action=\"substitute\")"
      ],
      "metadata": {
        "id": "9rEcPXDythIJ"
      },
      "execution_count": 37,
      "outputs": []
    },
    {
      "cell_type": "code",
      "source": [
        "def insert_or_replace_word(text: str, aug_func):\n",
        "  doc = nlp(text)\n",
        "  augmented_texts = []\n",
        "  for sent in list(doc.sents):\n",
        "    augmented_text = aug_func.augment(str(sent))\n",
        "    augmented_texts.append(augmented_text)\n",
        "  final_text = \" \".join(augmented_texts)\n",
        "  return final_text"
      ],
      "metadata": {
        "id": "UUhzBnfpoTg0"
      },
      "execution_count": 38,
      "outputs": []
    },
    {
      "cell_type": "code",
      "source": [
        "# insert_or_replace_word(contexts[len(contexts) - 1], aug_func=aug_replace) # To replace\n",
        "some_text = contexts[len(contexts) - 2]\n",
        "print(f\"Original text --> {some_text}\")\n",
        "insert_or_replace_word(some_text, aug_func=aug_insert) # To insert"
      ],
      "metadata": {
        "colab": {
          "base_uri": "https://localhost:8080/",
          "height": 90
        },
        "id": "z8CGKPQYpe-L",
        "outputId": "6d316e61-a0f0-44f6-a2a3-f809d0f4b6c8"
      },
      "execution_count": 43,
      "outputs": [
        {
          "output_type": "stream",
          "name": "stdout",
          "text": [
            "Original text --> On February 6, 2016, one day before her performance at the Super Bowl, Beyoncé released a new single exclusively on music streaming service Tidal called \"Formation\".\n"
          ]
        },
        {
          "output_type": "execute_result",
          "data": {
            "application/vnd.google.colaboratory.intrinsic+json": {
              "type": "string"
            },
            "text/plain": [
              "'earlier on february december 6, 2016, nearly one day before announcing her performance at the first super bowl, beyonce released a new new new single hosted exclusively on music streaming streaming service tidal media called \" formation \".'"
            ]
          },
          "metadata": {},
          "execution_count": 43
        }
      ]
    },
    {
      "cell_type": "code",
      "source": [
        "from random import randrange\n",
        "\n",
        "list_ = []\n",
        "for _ in range(10000):\n",
        "  i = randrange(2)\n",
        "  list_.append(i)\n",
        "\n",
        "set(list_)"
      ],
      "metadata": {
        "colab": {
          "base_uri": "https://localhost:8080/"
        },
        "id": "DHrsCGc2wZ53",
        "outputId": "71480665-1f4a-4702-ea7c-00f36dd384a4"
      },
      "execution_count": 61,
      "outputs": [
        {
          "output_type": "execute_result",
          "data": {
            "text/plain": [
              "{0, 1}"
            ]
          },
          "metadata": {},
          "execution_count": 61
        }
      ]
    },
    {
      "cell_type": "code",
      "source": [
        ""
      ],
      "metadata": {
        "id": "MpUNmjff4ziw"
      },
      "execution_count": null,
      "outputs": []
    }
  ]
}