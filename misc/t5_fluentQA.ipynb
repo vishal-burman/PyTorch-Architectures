{
  "nbformat": 4,
  "nbformat_minor": 0,
  "metadata": {
    "colab": {
      "name": "t5-fluentQA.ipynb",
      "provenance": [],
      "authorship_tag": "ABX9TyM5LOGTZ7V9QuC+715yelF3",
      "include_colab_link": true
    },
    "kernelspec": {
      "name": "python3",
      "display_name": "Python 3"
    },
    "language_info": {
      "name": "python"
    }
  },
  "cells": [
    {
      "cell_type": "markdown",
      "metadata": {
        "id": "view-in-github",
        "colab_type": "text"
      },
      "source": [
        "<a href=\"https://colab.research.google.com/github/vishal-burman/PyTorch-Architectures/blob/master/misc/t5_fluentQA.ipynb\" target=\"_parent\"><img src=\"https://colab.research.google.com/assets/colab-badge.svg\" alt=\"Open In Colab\"/></a>"
      ]
    },
    {
      "cell_type": "code",
      "metadata": {
        "id": "qQ4eLjBVq3_e"
      },
      "source": [
        "! git clone https://github.com/google-research-datasets/Disfl-QA.git\n",
        "! git clone https://github.com/vishal-burman/PyTorch-Architectures.git\n",
        "%cd PyTorch-Architectures/\n",
        "! cp ../Disfl-QA/*.json ."
      ],
      "execution_count": null,
      "outputs": []
    },
    {
      "cell_type": "code",
      "metadata": {
        "id": "jRqsDqlxM3bQ"
      },
      "source": [
        "! pip install transformers\n",
        "! pip install datasets\n",
        "! pip install sentencepiece\n",
        "! pip install wget"
      ],
      "execution_count": null,
      "outputs": []
    },
    {
      "cell_type": "code",
      "metadata": {
        "id": "rWw1lQW0qrWA"
      },
      "source": [
        "import json\n",
        "import torch\n",
        "from torch.utils.data import Dataset, DataLoader\n",
        "from transformers import T5Tokenizer, T5ForConditionalGeneration\n",
        "from transformers import TrainingArguments, Trainer\n",
        "from transformers.optimization import Adafactor, AdafactorSchedule\n",
        "from toolkit.utils import get_optimal_batchsize, dict_to_device"
      ],
      "execution_count": 23,
      "outputs": []
    },
    {
      "cell_type": "code",
      "metadata": {
        "id": "jaFRpd05rfMv"
      },
      "source": [
        "def get_samples(file_name: str):\n",
        "  final_list = []\n",
        "  with open(file_name, \"r\") as f:\n",
        "    data = json.load(f)\n",
        "  \n",
        "  for key in list(data.keys()):\n",
        "    sample = data[key]\n",
        "    final_list.append((sample[\"original\"], sample[\"disfluent\"]))\n",
        "  \n",
        "  return final_list"
      ],
      "execution_count": 6,
      "outputs": []
    },
    {
      "cell_type": "code",
      "metadata": {
        "id": "b_PryIsVrveK"
      },
      "source": [
        "train_list = get_samples(\"train.json\")\n",
        "valid_list = get_samples(\"dev.json\")\n",
        "test_list = get_samples(\"test.json\")"
      ],
      "execution_count": 7,
      "outputs": []
    },
    {
      "cell_type": "code",
      "metadata": {
        "id": "DnDADhPM9hC1"
      },
      "source": [
        "class CustomDataset(Dataset):\n",
        "  def __init__(self, \n",
        "               tokenizer, \n",
        "               list_samples: list,\n",
        "               max_input_length: int = 16,\n",
        "               max_target_length: int = 16,\n",
        "               ):\n",
        "    self.tokenizer = tokenizer\n",
        "    self.list_samples = list_samples\n",
        "    self.max_input_length = max_input_length\n",
        "    self.max_target_length = max_target_length\n",
        "  \n",
        "  def __len__(self,):\n",
        "    return len(self.list_samples)\n",
        "  \n",
        "  def __getitem__(self, idx):\n",
        "    orig, df = self.list_samples[idx]\n",
        "    return (orig, df)\n",
        "  \n",
        "  def collate_fn(self, batch):\n",
        "    list_orig = []\n",
        "    list_df = []\n",
        "    \n",
        "    for sample in batch:\n",
        "      list_orig.append(sample[0])\n",
        "      list_df.append(sample[1])\n",
        "    \n",
        "    tokens_input = self.tokenizer(\n",
        "        list_orig,\n",
        "        max_length=self.max_input_length,\n",
        "        padding=True,\n",
        "        truncation=True,\n",
        "        return_tensors=\"pt\",\n",
        "    )\n",
        "    tokens_target = self.tokenizer(\n",
        "        list_df,\n",
        "        max_length=self.max_input_length,\n",
        "        padding=True,\n",
        "        truncation=True,\n",
        "        return_tensors=\"pt\",\n",
        "    )\n",
        "\n",
        "    return {\n",
        "        \"input_ids\": tokens_input[\"input_ids\"],\n",
        "        \"attention_mask\": tokens_input[\"attention_mask\"],\n",
        "        \"labels\": tokens_target[\"input_ids\"],\n",
        "    }"
      ],
      "execution_count": 8,
      "outputs": []
    },
    {
      "cell_type": "code",
      "metadata": {
        "id": "j0Jc_QFhNr_1"
      },
      "source": [
        "device = torch.device(\"cuda:0\" if torch.cuda.is_available() else \"cpu\")\n",
        "model_str = \"t5-small\"\n",
        "tokenizer = T5Tokenizer.from_pretrained(model_str)\n",
        "model = T5ForConditionalGeneration.from_pretrained(model_str)\n",
        "model.to(device)"
      ],
      "execution_count": null,
      "outputs": []
    },
    {
      "cell_type": "code",
      "metadata": {
        "id": "LAFa3xvqKwye"
      },
      "source": [
        "dataset_train = CustomDataset(tokenizer=tokenizer,\n",
        "                              list_samples=train_list,\n",
        "                              max_input_length=64,\n",
        "                              max_target_length=64,\n",
        "                              )\n",
        "\n",
        "dataset_valid = CustomDataset(tokenizer=tokenizer,\n",
        "                              list_samples=valid_list,\n",
        "                              max_input_length=64,\n",
        "                              max_target_length=64,\n",
        "                              )"
      ],
      "execution_count": 14,
      "outputs": []
    },
    {
      "cell_type": "code",
      "metadata": {
        "id": "AzWBCtLS2she"
      },
      "source": [
        "# Hyperparameter section\n",
        "BS = 64\n",
        "EPOCHS = 3"
      ],
      "execution_count": 24,
      "outputs": []
    },
    {
      "cell_type": "code",
      "metadata": {
        "colab": {
          "base_uri": "https://localhost:8080/"
        },
        "id": "2rKwWrkR4qgz",
        "outputId": "7ba5e9e2-a0fa-4049-e220-8e054be3d8a6"
      },
      "source": [
        "# Sanity check forward pass\n",
        "sample_loader = DataLoader(dataset=dataset_train,\n",
        "                           batch_size=4,\n",
        "                           collate_fn=dataset_train.collate_fn,\n",
        "                           )\n",
        "model.eval()\n",
        "with torch.set_grad_enabled(False):\n",
        "  for sample in sample_loader:\n",
        "    outputs = model(**sample)\n",
        "    loss = outputs.loss.item()\n",
        "    print(f\"Loss: {loss:.2f}\")\n",
        "    break"
      ],
      "execution_count": 21,
      "outputs": [
        {
          "output_type": "stream",
          "text": [
            "Loss: 4.92\n"
          ],
          "name": "stdout"
        }
      ]
    },
    {
      "cell_type": "code",
      "metadata": {
        "id": "On4HWKaY5Cz3"
      },
      "source": [
        "optimizer = Adafactor(model.parameters(), scale_parameter=True, relative_step=True, warmup_init=True, lr=None)\n",
        "scheduler = AdafactorSchedule(optimizer)"
      ],
      "execution_count": 25,
      "outputs": []
    },
    {
      "cell_type": "code",
      "metadata": {
        "id": "0rPKOjms7dw_"
      },
      "source": [
        ""
      ],
      "execution_count": null,
      "outputs": []
    }
  ]
}