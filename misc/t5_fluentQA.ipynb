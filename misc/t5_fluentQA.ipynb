{
  "nbformat": 4,
  "nbformat_minor": 0,
  "metadata": {
    "colab": {
      "name": "t5-fluentQA.ipynb",
      "provenance": [],
      "collapsed_sections": [],
      "authorship_tag": "ABX9TyMS+CSGUFYmb8pen4r7KYeZ",
      "include_colab_link": true
    },
    "kernelspec": {
      "name": "python3",
      "display_name": "Python 3"
    },
    "language_info": {
      "name": "python"
    },
    "accelerator": "GPU",
    "widgets": {
      "application/vnd.jupyter.widget-state+json": {
        "2949de54730f43b4bfb8ae02bb572925": {
          "model_module": "@jupyter-widgets/controls",
          "model_name": "HBoxModel",
          "state": {
            "_view_name": "HBoxView",
            "_dom_classes": [],
            "_model_name": "HBoxModel",
            "_view_module": "@jupyter-widgets/controls",
            "_model_module_version": "1.5.0",
            "_view_count": null,
            "_view_module_version": "1.5.0",
            "box_style": "",
            "layout": "IPY_MODEL_53fea2b9c69e4cfa8ccca34209bbf241",
            "_model_module": "@jupyter-widgets/controls",
            "children": [
              "IPY_MODEL_eebe5031aaab4c358aec57e3dc3710f5",
              "IPY_MODEL_a18b67b4493d498f876ea63a9e302902",
              "IPY_MODEL_6698500e7272496cb8853e5ce6307374"
            ]
          }
        },
        "53fea2b9c69e4cfa8ccca34209bbf241": {
          "model_module": "@jupyter-widgets/base",
          "model_name": "LayoutModel",
          "state": {
            "_view_name": "LayoutView",
            "grid_template_rows": null,
            "right": null,
            "justify_content": null,
            "_view_module": "@jupyter-widgets/base",
            "overflow": null,
            "_model_module_version": "1.2.0",
            "_view_count": null,
            "flex_flow": null,
            "width": null,
            "min_width": null,
            "border": null,
            "align_items": null,
            "bottom": null,
            "_model_module": "@jupyter-widgets/base",
            "top": null,
            "grid_column": null,
            "overflow_y": null,
            "overflow_x": null,
            "grid_auto_flow": null,
            "grid_area": null,
            "grid_template_columns": null,
            "flex": null,
            "_model_name": "LayoutModel",
            "justify_items": null,
            "grid_row": null,
            "max_height": null,
            "align_content": null,
            "visibility": null,
            "align_self": null,
            "height": null,
            "min_height": null,
            "padding": null,
            "grid_auto_rows": null,
            "grid_gap": null,
            "max_width": null,
            "order": null,
            "_view_module_version": "1.2.0",
            "grid_template_areas": null,
            "object_position": null,
            "object_fit": null,
            "grid_auto_columns": null,
            "margin": null,
            "display": null,
            "left": null
          }
        },
        "eebe5031aaab4c358aec57e3dc3710f5": {
          "model_module": "@jupyter-widgets/controls",
          "model_name": "HTMLModel",
          "state": {
            "_view_name": "HTMLView",
            "style": "IPY_MODEL_fd9fd6edc4b84503a504140fb1552556",
            "_dom_classes": [],
            "description": "",
            "_model_name": "HTMLModel",
            "placeholder": "​",
            "_view_module": "@jupyter-widgets/controls",
            "_model_module_version": "1.5.0",
            "value": "100%",
            "_view_count": null,
            "_view_module_version": "1.5.0",
            "description_tooltip": null,
            "_model_module": "@jupyter-widgets/controls",
            "layout": "IPY_MODEL_e2fe14ad1e494e80bc895e9de39acf23"
          }
        },
        "a18b67b4493d498f876ea63a9e302902": {
          "model_module": "@jupyter-widgets/controls",
          "model_name": "FloatProgressModel",
          "state": {
            "_view_name": "ProgressView",
            "style": "IPY_MODEL_a64b57f79a064622b642030d72613856",
            "_dom_classes": [],
            "description": "",
            "_model_name": "FloatProgressModel",
            "bar_style": "",
            "max": 285,
            "_view_module": "@jupyter-widgets/controls",
            "_model_module_version": "1.5.0",
            "value": 285,
            "_view_count": null,
            "_view_module_version": "1.5.0",
            "orientation": "horizontal",
            "min": 0,
            "description_tooltip": null,
            "_model_module": "@jupyter-widgets/controls",
            "layout": "IPY_MODEL_61d2e46e68174553a794c4128bf133cc"
          }
        },
        "6698500e7272496cb8853e5ce6307374": {
          "model_module": "@jupyter-widgets/controls",
          "model_name": "HTMLModel",
          "state": {
            "_view_name": "HTMLView",
            "style": "IPY_MODEL_ad1a91ab7af248fc9709ecb8c0b60b56",
            "_dom_classes": [],
            "description": "",
            "_model_name": "HTMLModel",
            "placeholder": "​",
            "_view_module": "@jupyter-widgets/controls",
            "_model_module_version": "1.5.0",
            "value": " 285/285 [03:30&lt;00:00,  1.87it/s]",
            "_view_count": null,
            "_view_module_version": "1.5.0",
            "description_tooltip": null,
            "_model_module": "@jupyter-widgets/controls",
            "layout": "IPY_MODEL_4bad01119bf04231906f8a48bac22db5"
          }
        },
        "fd9fd6edc4b84503a504140fb1552556": {
          "model_module": "@jupyter-widgets/controls",
          "model_name": "DescriptionStyleModel",
          "state": {
            "_view_name": "StyleView",
            "_model_name": "DescriptionStyleModel",
            "description_width": "",
            "_view_module": "@jupyter-widgets/base",
            "_model_module_version": "1.5.0",
            "_view_count": null,
            "_view_module_version": "1.2.0",
            "_model_module": "@jupyter-widgets/controls"
          }
        },
        "e2fe14ad1e494e80bc895e9de39acf23": {
          "model_module": "@jupyter-widgets/base",
          "model_name": "LayoutModel",
          "state": {
            "_view_name": "LayoutView",
            "grid_template_rows": null,
            "right": null,
            "justify_content": null,
            "_view_module": "@jupyter-widgets/base",
            "overflow": null,
            "_model_module_version": "1.2.0",
            "_view_count": null,
            "flex_flow": null,
            "width": null,
            "min_width": null,
            "border": null,
            "align_items": null,
            "bottom": null,
            "_model_module": "@jupyter-widgets/base",
            "top": null,
            "grid_column": null,
            "overflow_y": null,
            "overflow_x": null,
            "grid_auto_flow": null,
            "grid_area": null,
            "grid_template_columns": null,
            "flex": null,
            "_model_name": "LayoutModel",
            "justify_items": null,
            "grid_row": null,
            "max_height": null,
            "align_content": null,
            "visibility": null,
            "align_self": null,
            "height": null,
            "min_height": null,
            "padding": null,
            "grid_auto_rows": null,
            "grid_gap": null,
            "max_width": null,
            "order": null,
            "_view_module_version": "1.2.0",
            "grid_template_areas": null,
            "object_position": null,
            "object_fit": null,
            "grid_auto_columns": null,
            "margin": null,
            "display": null,
            "left": null
          }
        },
        "a64b57f79a064622b642030d72613856": {
          "model_module": "@jupyter-widgets/controls",
          "model_name": "ProgressStyleModel",
          "state": {
            "_view_name": "StyleView",
            "_model_name": "ProgressStyleModel",
            "description_width": "",
            "_view_module": "@jupyter-widgets/base",
            "_model_module_version": "1.5.0",
            "_view_count": null,
            "_view_module_version": "1.2.0",
            "bar_color": null,
            "_model_module": "@jupyter-widgets/controls"
          }
        },
        "61d2e46e68174553a794c4128bf133cc": {
          "model_module": "@jupyter-widgets/base",
          "model_name": "LayoutModel",
          "state": {
            "_view_name": "LayoutView",
            "grid_template_rows": null,
            "right": null,
            "justify_content": null,
            "_view_module": "@jupyter-widgets/base",
            "overflow": null,
            "_model_module_version": "1.2.0",
            "_view_count": null,
            "flex_flow": null,
            "width": null,
            "min_width": null,
            "border": null,
            "align_items": null,
            "bottom": null,
            "_model_module": "@jupyter-widgets/base",
            "top": null,
            "grid_column": null,
            "overflow_y": null,
            "overflow_x": null,
            "grid_auto_flow": null,
            "grid_area": null,
            "grid_template_columns": null,
            "flex": null,
            "_model_name": "LayoutModel",
            "justify_items": null,
            "grid_row": null,
            "max_height": null,
            "align_content": null,
            "visibility": null,
            "align_self": null,
            "height": null,
            "min_height": null,
            "padding": null,
            "grid_auto_rows": null,
            "grid_gap": null,
            "max_width": null,
            "order": null,
            "_view_module_version": "1.2.0",
            "grid_template_areas": null,
            "object_position": null,
            "object_fit": null,
            "grid_auto_columns": null,
            "margin": null,
            "display": null,
            "left": null
          }
        },
        "ad1a91ab7af248fc9709ecb8c0b60b56": {
          "model_module": "@jupyter-widgets/controls",
          "model_name": "DescriptionStyleModel",
          "state": {
            "_view_name": "StyleView",
            "_model_name": "DescriptionStyleModel",
            "description_width": "",
            "_view_module": "@jupyter-widgets/base",
            "_model_module_version": "1.5.0",
            "_view_count": null,
            "_view_module_version": "1.2.0",
            "_model_module": "@jupyter-widgets/controls"
          }
        },
        "4bad01119bf04231906f8a48bac22db5": {
          "model_module": "@jupyter-widgets/base",
          "model_name": "LayoutModel",
          "state": {
            "_view_name": "LayoutView",
            "grid_template_rows": null,
            "right": null,
            "justify_content": null,
            "_view_module": "@jupyter-widgets/base",
            "overflow": null,
            "_model_module_version": "1.2.0",
            "_view_count": null,
            "flex_flow": null,
            "width": null,
            "min_width": null,
            "border": null,
            "align_items": null,
            "bottom": null,
            "_model_module": "@jupyter-widgets/base",
            "top": null,
            "grid_column": null,
            "overflow_y": null,
            "overflow_x": null,
            "grid_auto_flow": null,
            "grid_area": null,
            "grid_template_columns": null,
            "flex": null,
            "_model_name": "LayoutModel",
            "justify_items": null,
            "grid_row": null,
            "max_height": null,
            "align_content": null,
            "visibility": null,
            "align_self": null,
            "height": null,
            "min_height": null,
            "padding": null,
            "grid_auto_rows": null,
            "grid_gap": null,
            "max_width": null,
            "order": null,
            "_view_module_version": "1.2.0",
            "grid_template_areas": null,
            "object_position": null,
            "object_fit": null,
            "grid_auto_columns": null,
            "margin": null,
            "display": null,
            "left": null
          }
        }
      }
    }
  },
  "cells": [
    {
      "cell_type": "markdown",
      "metadata": {
        "id": "view-in-github",
        "colab_type": "text"
      },
      "source": [
        "<a href=\"https://colab.research.google.com/github/vishal-burman/PyTorch-Architectures/blob/master/misc/t5_fluentQA.ipynb\" target=\"_parent\"><img src=\"https://colab.research.google.com/assets/colab-badge.svg\" alt=\"Open In Colab\"/></a>"
      ]
    },
    {
      "cell_type": "code",
      "metadata": {
        "id": "6f1IJUFU_98A"
      },
      "source": [
        "! nvidia-smi"
      ],
      "execution_count": null,
      "outputs": []
    },
    {
      "cell_type": "code",
      "metadata": {
        "id": "qQ4eLjBVq3_e",
        "colab": {
          "base_uri": "https://localhost:8080/"
        },
        "outputId": "07325a67-cba3-42b7-e39f-c3c6c6c050f2"
      },
      "source": [
        "! git clone https://github.com/google-research-datasets/Disfl-QA.git\n",
        "! git clone https://github.com/vishal-burman/PyTorch-Architectures.git\n",
        "%cd PyTorch-Architectures/\n",
        "! cp ../Disfl-QA/*.json ."
      ],
      "execution_count": 1,
      "outputs": [
        {
          "output_type": "stream",
          "text": [
            "fatal: destination path 'Disfl-QA' already exists and is not an empty directory.\n",
            "fatal: destination path 'PyTorch-Architectures' already exists and is not an empty directory.\n",
            "/content/PyTorch-Architectures\n"
          ],
          "name": "stdout"
        }
      ]
    },
    {
      "cell_type": "code",
      "metadata": {
        "id": "jRqsDqlxM3bQ"
      },
      "source": [
        "! pip install transformers\n",
        "! pip install datasets\n",
        "! pip install sentencepiece\n",
        "! pip install wget"
      ],
      "execution_count": null,
      "outputs": []
    },
    {
      "cell_type": "code",
      "metadata": {
        "id": "rWw1lQW0qrWA"
      },
      "source": [
        "from tqdm.auto import tqdm\n",
        "import json\n",
        "import torch\n",
        "from torch.utils.data import Dataset, DataLoader\n",
        "from transformers import T5Tokenizer, T5ForConditionalGeneration\n",
        "from transformers.optimization import Adafactor, AdafactorSchedule\n",
        "from toolkit.utils import get_optimal_batchsize, dict_to_device\n",
        "from toolkit.metrics import nlp_compute_mean_loss"
      ],
      "execution_count": 2,
      "outputs": []
    },
    {
      "cell_type": "code",
      "metadata": {
        "id": "jaFRpd05rfMv"
      },
      "source": [
        "def get_samples(file_name: str):\n",
        "  final_list = []\n",
        "  with open(file_name, \"r\") as f:\n",
        "    data = json.load(f)\n",
        "  \n",
        "  for key in list(data.keys()):\n",
        "    sample = data[key]\n",
        "    final_list.append((sample[\"original\"], sample[\"disfluent\"]))\n",
        "  \n",
        "  return final_list"
      ],
      "execution_count": 3,
      "outputs": []
    },
    {
      "cell_type": "code",
      "metadata": {
        "id": "b_PryIsVrveK"
      },
      "source": [
        "train_list = get_samples(\"train.json\")\n",
        "valid_list = get_samples(\"dev.json\")\n",
        "test_list = get_samples(\"test.json\")"
      ],
      "execution_count": 4,
      "outputs": []
    },
    {
      "cell_type": "code",
      "metadata": {
        "id": "DnDADhPM9hC1"
      },
      "source": [
        "class CustomDataset(Dataset):\n",
        "  def __init__(self, \n",
        "               tokenizer, \n",
        "               list_samples: list,\n",
        "               max_input_length: int = 16,\n",
        "               max_target_length: int = 16,\n",
        "               ):\n",
        "    self.tokenizer = tokenizer\n",
        "    self.list_samples = list_samples\n",
        "    self.max_input_length = max_input_length\n",
        "    self.max_target_length = max_target_length\n",
        "  \n",
        "  def __len__(self,):\n",
        "    return len(self.list_samples)\n",
        "  \n",
        "  def __getitem__(self, idx):\n",
        "    orig, df = self.list_samples[idx]\n",
        "    return (orig, df)\n",
        "  \n",
        "  def collate_fn(self, batch):\n",
        "    list_orig = []\n",
        "    list_df = []\n",
        "    \n",
        "    for sample in batch:\n",
        "      list_orig.append(sample[0])\n",
        "      list_df.append(sample[1])\n",
        "    \n",
        "    tokens_target = self.tokenizer(\n",
        "        list_orig,\n",
        "        max_length=self.max_input_length,\n",
        "        padding=True,\n",
        "        truncation=True,\n",
        "        return_tensors=\"pt\",\n",
        "    )\n",
        "    tokens_input = self.tokenizer(\n",
        "        list_df,\n",
        "        max_length=self.max_input_length,\n",
        "        padding=True,\n",
        "        truncation=True,\n",
        "        return_tensors=\"pt\",\n",
        "    )\n",
        "\n",
        "    return {\n",
        "        \"input_ids\": tokens_input[\"input_ids\"],\n",
        "        \"attention_mask\": tokens_input[\"attention_mask\"],\n",
        "        \"labels\": tokens_target[\"input_ids\"],\n",
        "    }"
      ],
      "execution_count": 5,
      "outputs": []
    },
    {
      "cell_type": "code",
      "metadata": {
        "id": "j0Jc_QFhNr_1"
      },
      "source": [
        "device = torch.device(\"cuda:0\" if torch.cuda.is_available() else \"cpu\")\n",
        "model_str = \"t5-small\"\n",
        "tokenizer = T5Tokenizer.from_pretrained(model_str)\n",
        "model = T5ForConditionalGeneration.from_pretrained(model_str)\n",
        "model.to(device)"
      ],
      "execution_count": null,
      "outputs": []
    },
    {
      "cell_type": "code",
      "metadata": {
        "colab": {
          "base_uri": "https://localhost:8080/"
        },
        "id": "oWttQHGcARYh",
        "outputId": "94f8aa7f-4320-4919-fc66-de404fc17bd7"
      },
      "source": [
        "params = sum(p.numel() for p in model.parameters() if p.requires_grad)\n",
        "print(f\"Trainable Parameters: {params}\")"
      ],
      "execution_count": 7,
      "outputs": [
        {
          "output_type": "stream",
          "text": [
            "Trainable Parameters: 60506624\n"
          ],
          "name": "stdout"
        }
      ]
    },
    {
      "cell_type": "code",
      "metadata": {
        "id": "LAFa3xvqKwye"
      },
      "source": [
        "dataset_train = CustomDataset(tokenizer=tokenizer,\n",
        "                              list_samples=train_list,\n",
        "                              max_input_length=64,\n",
        "                              max_target_length=64,\n",
        "                              )\n",
        "\n",
        "dataset_valid = CustomDataset(tokenizer=tokenizer,\n",
        "                              list_samples=valid_list,\n",
        "                              max_input_length=64,\n",
        "                              max_target_length=64,\n",
        "                              )"
      ],
      "execution_count": 8,
      "outputs": []
    },
    {
      "cell_type": "code",
      "metadata": {
        "id": "Y8lXNWnlvGwW",
        "colab": {
          "base_uri": "https://localhost:8080/"
        },
        "outputId": "f3763b84-5802-43e8-87e2-37ebb0607a1b"
      },
      "source": [
        "# get_optimal_batchsize(dataset_train, model) --> 192(fp32)"
      ],
      "execution_count": null,
      "outputs": [
        {
          "output_type": "execute_result",
          "data": {
            "text/plain": [
              "192"
            ]
          },
          "metadata": {
            "tags": []
          },
          "execution_count": 11
        }
      ]
    },
    {
      "cell_type": "code",
      "metadata": {
        "id": "AzWBCtLS2she"
      },
      "source": [
        "# Hyperparameter section\n",
        "BS = 128\n",
        "EPOCHS = 5"
      ],
      "execution_count": 9,
      "outputs": []
    },
    {
      "cell_type": "code",
      "metadata": {
        "colab": {
          "base_uri": "https://localhost:8080/"
        },
        "id": "2rKwWrkR4qgz",
        "outputId": "d902d838-a378-4f87-ccdf-1089a2da5a31"
      },
      "source": [
        "# Sanity check forward pass\n",
        "sample_loader = DataLoader(dataset=dataset_train,\n",
        "                           batch_size=4,\n",
        "                           collate_fn=dataset_train.collate_fn,\n",
        "                           )\n",
        "model.eval()\n",
        "with torch.set_grad_enabled(False):\n",
        "  for sample in sample_loader:\n",
        "    outputs = model(**dict_to_device(sample, device=device))\n",
        "    loss = outputs.loss.item()\n",
        "    print(f\"Loss: {loss:.2f}\")\n",
        "    break"
      ],
      "execution_count": 10,
      "outputs": [
        {
          "output_type": "stream",
          "text": [
            "Loss: 3.05\n"
          ],
          "name": "stdout"
        }
      ]
    },
    {
      "cell_type": "code",
      "metadata": {
        "colab": {
          "base_uri": "https://localhost:8080/"
        },
        "id": "9F8g5Ky2A3W1",
        "outputId": "f2f8947e-c2a4-4aca-d2d7-c58a1a1b402c"
      },
      "source": [
        "train_loader = DataLoader(dataset_train,\n",
        "                          batch_size=BS,\n",
        "                          shuffle=True,\n",
        "                          collate_fn=dataset_train.collate_fn,\n",
        "                          )\n",
        "\n",
        "valid_loader = DataLoader(dataset_valid,\n",
        "                          batch_size=BS,\n",
        "                          shuffle=True,\n",
        "                          collate_fn=dataset_valid.collate_fn,\n",
        "                          )\n",
        "print(f\"Length of Train Loader: {len(train_loader)}\")\n",
        "print(f\"Length of Valid Loader: {len(valid_loader)}\")"
      ],
      "execution_count": 11,
      "outputs": [
        {
          "output_type": "stream",
          "text": [
            "Length of Train Loader: 57\n",
            "Length of Valid Loader: 8\n"
          ],
          "name": "stdout"
        }
      ]
    },
    {
      "cell_type": "code",
      "metadata": {
        "id": "On4HWKaY5Cz3"
      },
      "source": [
        "optimizer = Adafactor(model.parameters(), scale_parameter=True, relative_step=True, warmup_init=True, lr=None)\n",
        "scheduler = AdafactorSchedule(optimizer)"
      ],
      "execution_count": 12,
      "outputs": []
    },
    {
      "cell_type": "code",
      "metadata": {
        "id": "0rPKOjms7dw_",
        "colab": {
          "base_uri": "https://localhost:8080/",
          "height": 136,
          "referenced_widgets": [
            "2949de54730f43b4bfb8ae02bb572925",
            "53fea2b9c69e4cfa8ccca34209bbf241",
            "eebe5031aaab4c358aec57e3dc3710f5",
            "a18b67b4493d498f876ea63a9e302902",
            "6698500e7272496cb8853e5ce6307374",
            "fd9fd6edc4b84503a504140fb1552556",
            "e2fe14ad1e494e80bc895e9de39acf23",
            "a64b57f79a064622b642030d72613856",
            "61d2e46e68174553a794c4128bf133cc",
            "ad1a91ab7af248fc9709ecb8c0b60b56",
            "4bad01119bf04231906f8a48bac22db5"
          ]
        },
        "outputId": "2fe28def-6c9b-46aa-e304-0af116d50b59"
      },
      "source": [
        "num_training_steps = len(train_loader) * EPOCHS\n",
        "progress_bar = tqdm(range(num_training_steps))\n",
        "\n",
        "for epoch in range(EPOCHS):\n",
        "  model.train()\n",
        "  for sample in train_loader:\n",
        "    outputs = model(**dict_to_device(sample, device=device))\n",
        "    loss = outputs.loss\n",
        "    loss.backward()\n",
        "\n",
        "    optimizer.step()\n",
        "    scheduler.step()\n",
        "    optimizer.zero_grad()\n",
        "    progress_bar.update(1)\n",
        "\n",
        "  model.eval()\n",
        "  with torch.set_grad_enabled(False):\n",
        "    valid_loss = nlp_compute_mean_loss(model, valid_loader, device)\n",
        "  print(f\"Valid Perplexity: {valid_loss: .2f}\")"
      ],
      "execution_count": 13,
      "outputs": [
        {
          "output_type": "display_data",
          "data": {
            "application/vnd.jupyter.widget-view+json": {
              "model_id": "2949de54730f43b4bfb8ae02bb572925",
              "version_minor": 0,
              "version_major": 2
            },
            "text/plain": [
              "  0%|          | 0/285 [00:00<?, ?it/s]"
            ]
          },
          "metadata": {
            "tags": []
          }
        },
        {
          "output_type": "stream",
          "text": [
            "Valid Perplexity:  6.89\n",
            "Valid Perplexity:  1.93\n",
            "Valid Perplexity:  1.34\n",
            "Valid Perplexity:  1.21\n",
            "Valid Perplexity:  1.19\n"
          ],
          "name": "stdout"
        }
      ]
    },
    {
      "cell_type": "code",
      "metadata": {
        "colab": {
          "base_uri": "https://localhost:8080/"
        },
        "id": "29jw9vekSpRC",
        "outputId": "648e58a0-bc53-479e-ff57-d8035ce9dd06"
      },
      "source": [
        "index = 7\n",
        "text = valid_list[index][1]\n",
        "model.eval()\n",
        "with torch.set_grad_enabled(False):\n",
        "  tokens = tokenizer(text, return_tensors=\"pt\")\n",
        "  input_ids = tokens[\"input_ids\"].to(device)\n",
        "  outputs = model.generate(input_ids)\n",
        "  print(f\"Original Text: {text}\")\n",
        "  print(f\"Predicted Text: {tokenizer.decode(outputs[0], skip_special_tokens=True)}\")"
      ],
      "execution_count": 30,
      "outputs": [
        {
          "output_type": "stream",
          "text": [
            "Original Text: When or uh what did European empires rely on to supply them with resources?\n",
            "Predicted Text: What did European empires depend on to supply them with resources?\n"
          ],
          "name": "stdout"
        }
      ]
    },
    {
      "cell_type": "code",
      "metadata": {
        "id": "H4o-d4ZtXjO9"
      },
      "source": [
        ""
      ],
      "execution_count": null,
      "outputs": []
    }
  ]
}