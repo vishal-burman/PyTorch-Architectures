{
  "nbformat": 4,
  "nbformat_minor": 0,
  "metadata": {
    "colab": {
      "name": "t5-fluentQA.ipynb",
      "provenance": [],
      "authorship_tag": "ABX9TyMPUubKyJmzeHVmn/vIKp69",
      "include_colab_link": true
    },
    "kernelspec": {
      "name": "python3",
      "display_name": "Python 3"
    },
    "language_info": {
      "name": "python"
    }
  },
  "cells": [
    {
      "cell_type": "markdown",
      "metadata": {
        "id": "view-in-github",
        "colab_type": "text"
      },
      "source": [
        "<a href=\"https://colab.research.google.com/github/vishal-burman/PyTorch-Architectures/blob/master/misc/t5_fluentQA.ipynb\" target=\"_parent\"><img src=\"https://colab.research.google.com/assets/colab-badge.svg\" alt=\"Open In Colab\"/></a>"
      ]
    },
    {
      "cell_type": "code",
      "metadata": {
        "colab": {
          "base_uri": "https://localhost:8080/"
        },
        "id": "qQ4eLjBVq3_e",
        "outputId": "19ba1aa0-566b-4514-d0f5-c34355664f80"
      },
      "source": [
        "! git clone https://github.com/google-research-datasets/Disfl-QA.git\n",
        "! git clone https://github.com/vishal-burman/PyTorch-Architectures.git\n",
        "%cd PyTorch-Architectures/\n",
        "! cp ../Disfl-QA/*.json ."
      ],
      "execution_count": 1,
      "outputs": [
        {
          "output_type": "stream",
          "text": [
            "fatal: destination path 'Disfl-QA' already exists and is not an empty directory.\n",
            "fatal: destination path 'PyTorch-Architectures' already exists and is not an empty directory.\n",
            "/content/PyTorch-Architectures\n"
          ],
          "name": "stdout"
        }
      ]
    },
    {
      "cell_type": "code",
      "metadata": {
        "id": "jRqsDqlxM3bQ"
      },
      "source": [
        "! pip install transformers\n",
        "! pip install datasets\n",
        "! pip install sentencepiece"
      ],
      "execution_count": null,
      "outputs": []
    },
    {
      "cell_type": "code",
      "metadata": {
        "id": "rWw1lQW0qrWA"
      },
      "source": [
        "import json\n",
        "import torch\n",
        "from torch.utils.data import Dataset, DataLoader\n",
        "from transformers import T5Tokenizer, T5ForConditionalGeneration"
      ],
      "execution_count": 2,
      "outputs": []
    },
    {
      "cell_type": "code",
      "metadata": {
        "id": "jaFRpd05rfMv"
      },
      "source": [
        "def get_samples(file_name: str):\n",
        "  final_list = []\n",
        "  with open(file_name, \"r\") as f:\n",
        "    data = json.load(f)\n",
        "  \n",
        "  for key in list(data.keys()):\n",
        "    sample = data[key]\n",
        "    final_list.append((sample[\"original\"], sample[\"disfluent\"]))\n",
        "  \n",
        "  return final_list"
      ],
      "execution_count": 3,
      "outputs": []
    },
    {
      "cell_type": "code",
      "metadata": {
        "id": "b_PryIsVrveK"
      },
      "source": [
        "train_list = get_samples(\"train.json\")\n",
        "valid_list = get_samples(\"dev.json\")\n",
        "test_list = get_samples(\"test.json\")"
      ],
      "execution_count": 4,
      "outputs": []
    },
    {
      "cell_type": "code",
      "metadata": {
        "id": "DnDADhPM9hC1"
      },
      "source": [
        "class CustomDataset(Dataset):\n",
        "  def __init__(self, \n",
        "               tokenizer, \n",
        "               list_samples: list,\n",
        "               max_input_length: int = 16,\n",
        "               max_target_length: int = 16,\n",
        "               ):\n",
        "    self.tokenizer = tokenizer\n",
        "    self.list_samples = list_samples\n",
        "    self.max_input_length = max_input_length\n",
        "    self.max_target_length = max_target_length\n",
        "  \n",
        "  def __len__(self,):\n",
        "    return len(self.list_samples)\n",
        "  \n",
        "  def __getitem__(self, idx):\n",
        "    orig, df = self.list_samples[idx]\n",
        "    return (orig, df)\n",
        "  \n",
        "  def collate_fn(self, batch):\n",
        "    list_orig = []\n",
        "    list_df = []\n",
        "    \n",
        "    for sample in batch:\n",
        "      list_orig.append(sample[0])\n",
        "      list_df.append(sample[1])\n",
        "    \n",
        "    tokens_input = self.tokenizer(\n",
        "        list_orig,\n",
        "        max_length=self.max_input_length,\n",
        "        padding=True,\n",
        "        truncation=True,\n",
        "        return_tensors=\"pt\",\n",
        "    )\n",
        "    tokens_target = self.tokenizer(\n",
        "        list_df,\n",
        "        max_length=self.max_input_length,\n",
        "        padding=True,\n",
        "        truncation=True,\n",
        "        return_tensors=\"pt\",\n",
        "    )\n",
        "\n",
        "    return {\n",
        "        \"orig_ids\": tokens_input[\"input_ids\"],\n",
        "        \"orig_mask\": tokens_input[\"attention_mask\"],\n",
        "        \"df_ids\": tokens_target[\"input_ids\"],\n",
        "    }"
      ],
      "execution_count": 5,
      "outputs": []
    },
    {
      "cell_type": "code",
      "metadata": {
        "id": "j0Jc_QFhNr_1"
      },
      "source": [
        "device = torch.device(\"cuda:0\" if torch.cuda.is_available() else \"cpu\")\n",
        "model_str = \"t5-small\"\n",
        "tokenizer = T5Tokenizer.from_pretrained(model_str)\n",
        "model = T5ForConditionalGeneration.from_pretrained(model_str)\n",
        "model.to(device)"
      ],
      "execution_count": null,
      "outputs": []
    },
    {
      "cell_type": "code",
      "metadata": {
        "id": "LAFa3xvqKwye"
      },
      "source": [
        ""
      ],
      "execution_count": null,
      "outputs": []
    }
  ]
}