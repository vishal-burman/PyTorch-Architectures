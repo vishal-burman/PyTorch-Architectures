{
  "nbformat": 4,
  "nbformat_minor": 0,
  "metadata": {
    "colab": {
      "provenance": [],
      "authorship_tag": "ABX9TyMYx5X5/EpoMLElhH4JyASF",
      "include_colab_link": true
    },
    "kernelspec": {
      "name": "python3",
      "display_name": "Python 3"
    },
    "language_info": {
      "name": "python"
    },
    "widgets": {
      "application/vnd.jupyter.widget-state+json": {
        "07429408e3d446d0b4f37a3a177436b7": {
          "model_module": "@jupyter-widgets/controls",
          "model_name": "HBoxModel",
          "model_module_version": "1.5.0",
          "state": {
            "_dom_classes": [],
            "_model_module": "@jupyter-widgets/controls",
            "_model_module_version": "1.5.0",
            "_model_name": "HBoxModel",
            "_view_count": null,
            "_view_module": "@jupyter-widgets/controls",
            "_view_module_version": "1.5.0",
            "_view_name": "HBoxView",
            "box_style": "",
            "children": [
              "IPY_MODEL_e0806c694a19476298279670b9c5525f",
              "IPY_MODEL_39113e80072e4accb1ff92eac8cf635f",
              "IPY_MODEL_fc94d50edf224ac693df03ea5af75f79"
            ],
            "layout": "IPY_MODEL_2ce0fcb05f614be683960431a6a3cbdb"
          }
        },
        "e0806c694a19476298279670b9c5525f": {
          "model_module": "@jupyter-widgets/controls",
          "model_name": "HTMLModel",
          "model_module_version": "1.5.0",
          "state": {
            "_dom_classes": [],
            "_model_module": "@jupyter-widgets/controls",
            "_model_module_version": "1.5.0",
            "_model_name": "HTMLModel",
            "_view_count": null,
            "_view_module": "@jupyter-widgets/controls",
            "_view_module_version": "1.5.0",
            "_view_name": "HTMLView",
            "description": "",
            "description_tooltip": null,
            "layout": "IPY_MODEL_2de2c9a9998f4964aa7e76769b2a9f01",
            "placeholder": "​",
            "style": "IPY_MODEL_13407f469a254bca90f399418b96d249",
            "value": "Articles:   0%"
          }
        },
        "39113e80072e4accb1ff92eac8cf635f": {
          "model_module": "@jupyter-widgets/controls",
          "model_name": "FloatProgressModel",
          "model_module_version": "1.5.0",
          "state": {
            "_dom_classes": [],
            "_model_module": "@jupyter-widgets/controls",
            "_model_module_version": "1.5.0",
            "_model_name": "FloatProgressModel",
            "_view_count": null,
            "_view_module": "@jupyter-widgets/controls",
            "_view_module_version": "1.5.0",
            "_view_name": "ProgressView",
            "bar_style": "",
            "description": "",
            "description_tooltip": null,
            "layout": "IPY_MODEL_f5dbfdcd40c34830b169a1fe6657087d",
            "max": 1369362325,
            "min": 0,
            "orientation": "horizontal",
            "style": "IPY_MODEL_98ec02bb618b43eb80e491852c74fd9e",
            "value": 3564
          }
        },
        "fc94d50edf224ac693df03ea5af75f79": {
          "model_module": "@jupyter-widgets/controls",
          "model_name": "HTMLModel",
          "model_module_version": "1.5.0",
          "state": {
            "_dom_classes": [],
            "_model_module": "@jupyter-widgets/controls",
            "_model_module_version": "1.5.0",
            "_model_name": "HTMLModel",
            "_view_count": null,
            "_view_module": "@jupyter-widgets/controls",
            "_view_module_version": "1.5.0",
            "_view_name": "HTMLView",
            "description": "",
            "description_tooltip": null,
            "layout": "IPY_MODEL_f1f07bd6e2b744e59db83853a4320906",
            "placeholder": "​",
            "style": "IPY_MODEL_d7336ddb147d480c995485b2b9642cbf",
            "value": " 3564/1369362325 [01:11&lt;4918:54:59, 77.33it/s]"
          }
        },
        "2ce0fcb05f614be683960431a6a3cbdb": {
          "model_module": "@jupyter-widgets/base",
          "model_name": "LayoutModel",
          "model_module_version": "1.2.0",
          "state": {
            "_model_module": "@jupyter-widgets/base",
            "_model_module_version": "1.2.0",
            "_model_name": "LayoutModel",
            "_view_count": null,
            "_view_module": "@jupyter-widgets/base",
            "_view_module_version": "1.2.0",
            "_view_name": "LayoutView",
            "align_content": null,
            "align_items": null,
            "align_self": null,
            "border": null,
            "bottom": null,
            "display": null,
            "flex": null,
            "flex_flow": null,
            "grid_area": null,
            "grid_auto_columns": null,
            "grid_auto_flow": null,
            "grid_auto_rows": null,
            "grid_column": null,
            "grid_gap": null,
            "grid_row": null,
            "grid_template_areas": null,
            "grid_template_columns": null,
            "grid_template_rows": null,
            "height": null,
            "justify_content": null,
            "justify_items": null,
            "left": null,
            "margin": null,
            "max_height": null,
            "max_width": null,
            "min_height": null,
            "min_width": null,
            "object_fit": null,
            "object_position": null,
            "order": null,
            "overflow": null,
            "overflow_x": null,
            "overflow_y": null,
            "padding": null,
            "right": null,
            "top": null,
            "visibility": null,
            "width": null
          }
        },
        "2de2c9a9998f4964aa7e76769b2a9f01": {
          "model_module": "@jupyter-widgets/base",
          "model_name": "LayoutModel",
          "model_module_version": "1.2.0",
          "state": {
            "_model_module": "@jupyter-widgets/base",
            "_model_module_version": "1.2.0",
            "_model_name": "LayoutModel",
            "_view_count": null,
            "_view_module": "@jupyter-widgets/base",
            "_view_module_version": "1.2.0",
            "_view_name": "LayoutView",
            "align_content": null,
            "align_items": null,
            "align_self": null,
            "border": null,
            "bottom": null,
            "display": null,
            "flex": null,
            "flex_flow": null,
            "grid_area": null,
            "grid_auto_columns": null,
            "grid_auto_flow": null,
            "grid_auto_rows": null,
            "grid_column": null,
            "grid_gap": null,
            "grid_row": null,
            "grid_template_areas": null,
            "grid_template_columns": null,
            "grid_template_rows": null,
            "height": null,
            "justify_content": null,
            "justify_items": null,
            "left": null,
            "margin": null,
            "max_height": null,
            "max_width": null,
            "min_height": null,
            "min_width": null,
            "object_fit": null,
            "object_position": null,
            "order": null,
            "overflow": null,
            "overflow_x": null,
            "overflow_y": null,
            "padding": null,
            "right": null,
            "top": null,
            "visibility": null,
            "width": null
          }
        },
        "13407f469a254bca90f399418b96d249": {
          "model_module": "@jupyter-widgets/controls",
          "model_name": "DescriptionStyleModel",
          "model_module_version": "1.5.0",
          "state": {
            "_model_module": "@jupyter-widgets/controls",
            "_model_module_version": "1.5.0",
            "_model_name": "DescriptionStyleModel",
            "_view_count": null,
            "_view_module": "@jupyter-widgets/base",
            "_view_module_version": "1.2.0",
            "_view_name": "StyleView",
            "description_width": ""
          }
        },
        "f5dbfdcd40c34830b169a1fe6657087d": {
          "model_module": "@jupyter-widgets/base",
          "model_name": "LayoutModel",
          "model_module_version": "1.2.0",
          "state": {
            "_model_module": "@jupyter-widgets/base",
            "_model_module_version": "1.2.0",
            "_model_name": "LayoutModel",
            "_view_count": null,
            "_view_module": "@jupyter-widgets/base",
            "_view_module_version": "1.2.0",
            "_view_name": "LayoutView",
            "align_content": null,
            "align_items": null,
            "align_self": null,
            "border": null,
            "bottom": null,
            "display": null,
            "flex": null,
            "flex_flow": null,
            "grid_area": null,
            "grid_auto_columns": null,
            "grid_auto_flow": null,
            "grid_auto_rows": null,
            "grid_column": null,
            "grid_gap": null,
            "grid_row": null,
            "grid_template_areas": null,
            "grid_template_columns": null,
            "grid_template_rows": null,
            "height": null,
            "justify_content": null,
            "justify_items": null,
            "left": null,
            "margin": null,
            "max_height": null,
            "max_width": null,
            "min_height": null,
            "min_width": null,
            "object_fit": null,
            "object_position": null,
            "order": null,
            "overflow": null,
            "overflow_x": null,
            "overflow_y": null,
            "padding": null,
            "right": null,
            "top": null,
            "visibility": null,
            "width": null
          }
        },
        "98ec02bb618b43eb80e491852c74fd9e": {
          "model_module": "@jupyter-widgets/controls",
          "model_name": "ProgressStyleModel",
          "model_module_version": "1.5.0",
          "state": {
            "_model_module": "@jupyter-widgets/controls",
            "_model_module_version": "1.5.0",
            "_model_name": "ProgressStyleModel",
            "_view_count": null,
            "_view_module": "@jupyter-widgets/base",
            "_view_module_version": "1.2.0",
            "_view_name": "StyleView",
            "bar_color": null,
            "description_width": ""
          }
        },
        "f1f07bd6e2b744e59db83853a4320906": {
          "model_module": "@jupyter-widgets/base",
          "model_name": "LayoutModel",
          "model_module_version": "1.2.0",
          "state": {
            "_model_module": "@jupyter-widgets/base",
            "_model_module_version": "1.2.0",
            "_model_name": "LayoutModel",
            "_view_count": null,
            "_view_module": "@jupyter-widgets/base",
            "_view_module_version": "1.2.0",
            "_view_name": "LayoutView",
            "align_content": null,
            "align_items": null,
            "align_self": null,
            "border": null,
            "bottom": null,
            "display": null,
            "flex": null,
            "flex_flow": null,
            "grid_area": null,
            "grid_auto_columns": null,
            "grid_auto_flow": null,
            "grid_auto_rows": null,
            "grid_column": null,
            "grid_gap": null,
            "grid_row": null,
            "grid_template_areas": null,
            "grid_template_columns": null,
            "grid_template_rows": null,
            "height": null,
            "justify_content": null,
            "justify_items": null,
            "left": null,
            "margin": null,
            "max_height": null,
            "max_width": null,
            "min_height": null,
            "min_width": null,
            "object_fit": null,
            "object_position": null,
            "order": null,
            "overflow": null,
            "overflow_x": null,
            "overflow_y": null,
            "padding": null,
            "right": null,
            "top": null,
            "visibility": null,
            "width": null
          }
        },
        "d7336ddb147d480c995485b2b9642cbf": {
          "model_module": "@jupyter-widgets/controls",
          "model_name": "DescriptionStyleModel",
          "model_module_version": "1.5.0",
          "state": {
            "_model_module": "@jupyter-widgets/controls",
            "_model_module_version": "1.5.0",
            "_model_name": "DescriptionStyleModel",
            "_view_count": null,
            "_view_module": "@jupyter-widgets/base",
            "_view_module_version": "1.2.0",
            "_view_name": "StyleView",
            "description_width": ""
          }
        },
        "deb183c90fc94975b9bb340aaec5c303": {
          "model_module": "@jupyter-widgets/controls",
          "model_name": "HBoxModel",
          "model_module_version": "1.5.0",
          "state": {
            "_dom_classes": [],
            "_model_module": "@jupyter-widgets/controls",
            "_model_module_version": "1.5.0",
            "_model_name": "HBoxModel",
            "_view_count": null,
            "_view_module": "@jupyter-widgets/controls",
            "_view_module_version": "1.5.0",
            "_view_name": "HBoxView",
            "box_style": "",
            "children": [
              "IPY_MODEL_38ea14f5003d405e8cd99eaa22cdd37c",
              "IPY_MODEL_09cea0745d27415f822a98240cb1739e",
              "IPY_MODEL_d7bd3d77c561486a831b7cebf26b23e3"
            ],
            "layout": "IPY_MODEL_fa8c666977c7472cba4427bba7f2f7f4"
          }
        },
        "38ea14f5003d405e8cd99eaa22cdd37c": {
          "model_module": "@jupyter-widgets/controls",
          "model_name": "HTMLModel",
          "model_module_version": "1.5.0",
          "state": {
            "_dom_classes": [],
            "_model_module": "@jupyter-widgets/controls",
            "_model_module_version": "1.5.0",
            "_model_name": "HTMLModel",
            "_view_count": null,
            "_view_module": "@jupyter-widgets/controls",
            "_view_module_version": "1.5.0",
            "_view_name": "HTMLView",
            "description": "",
            "description_tooltip": null,
            "layout": "IPY_MODEL_b0607af511d04e06b40111a8c914d26e",
            "placeholder": "​",
            "style": "IPY_MODEL_34feb63901814fb682a0543c08669076",
            "value": "Sentences: "
          }
        },
        "09cea0745d27415f822a98240cb1739e": {
          "model_module": "@jupyter-widgets/controls",
          "model_name": "FloatProgressModel",
          "model_module_version": "1.5.0",
          "state": {
            "_dom_classes": [],
            "_model_module": "@jupyter-widgets/controls",
            "_model_module_version": "1.5.0",
            "_model_name": "FloatProgressModel",
            "_view_count": null,
            "_view_module": "@jupyter-widgets/controls",
            "_view_module_version": "1.5.0",
            "_view_name": "ProgressView",
            "bar_style": "",
            "description": "",
            "description_tooltip": null,
            "layout": "IPY_MODEL_3117a4584b0749b5a574686199598329",
            "max": 100000,
            "min": 0,
            "orientation": "horizontal",
            "style": "IPY_MODEL_5e15751bae604818a7b39bd416080114",
            "value": 100000
          }
        },
        "d7bd3d77c561486a831b7cebf26b23e3": {
          "model_module": "@jupyter-widgets/controls",
          "model_name": "HTMLModel",
          "model_module_version": "1.5.0",
          "state": {
            "_dom_classes": [],
            "_model_module": "@jupyter-widgets/controls",
            "_model_module_version": "1.5.0",
            "_model_name": "HTMLModel",
            "_view_count": null,
            "_view_module": "@jupyter-widgets/controls",
            "_view_module_version": "1.5.0",
            "_view_name": "HTMLView",
            "description": "",
            "description_tooltip": null,
            "layout": "IPY_MODEL_bbe61f387fe4475f86275f6fc03cddd8",
            "placeholder": "​",
            "style": "IPY_MODEL_747119b30feb4d1dbaafd3a69b8e3743",
            "value": " 100023/? [01:11&lt;00:00, 2268.57it/s]"
          }
        },
        "fa8c666977c7472cba4427bba7f2f7f4": {
          "model_module": "@jupyter-widgets/base",
          "model_name": "LayoutModel",
          "model_module_version": "1.2.0",
          "state": {
            "_model_module": "@jupyter-widgets/base",
            "_model_module_version": "1.2.0",
            "_model_name": "LayoutModel",
            "_view_count": null,
            "_view_module": "@jupyter-widgets/base",
            "_view_module_version": "1.2.0",
            "_view_name": "LayoutView",
            "align_content": null,
            "align_items": null,
            "align_self": null,
            "border": null,
            "bottom": null,
            "display": null,
            "flex": null,
            "flex_flow": null,
            "grid_area": null,
            "grid_auto_columns": null,
            "grid_auto_flow": null,
            "grid_auto_rows": null,
            "grid_column": null,
            "grid_gap": null,
            "grid_row": null,
            "grid_template_areas": null,
            "grid_template_columns": null,
            "grid_template_rows": null,
            "height": null,
            "justify_content": null,
            "justify_items": null,
            "left": null,
            "margin": null,
            "max_height": null,
            "max_width": null,
            "min_height": null,
            "min_width": null,
            "object_fit": null,
            "object_position": null,
            "order": null,
            "overflow": null,
            "overflow_x": null,
            "overflow_y": null,
            "padding": null,
            "right": null,
            "top": null,
            "visibility": null,
            "width": null
          }
        },
        "b0607af511d04e06b40111a8c914d26e": {
          "model_module": "@jupyter-widgets/base",
          "model_name": "LayoutModel",
          "model_module_version": "1.2.0",
          "state": {
            "_model_module": "@jupyter-widgets/base",
            "_model_module_version": "1.2.0",
            "_model_name": "LayoutModel",
            "_view_count": null,
            "_view_module": "@jupyter-widgets/base",
            "_view_module_version": "1.2.0",
            "_view_name": "LayoutView",
            "align_content": null,
            "align_items": null,
            "align_self": null,
            "border": null,
            "bottom": null,
            "display": null,
            "flex": null,
            "flex_flow": null,
            "grid_area": null,
            "grid_auto_columns": null,
            "grid_auto_flow": null,
            "grid_auto_rows": null,
            "grid_column": null,
            "grid_gap": null,
            "grid_row": null,
            "grid_template_areas": null,
            "grid_template_columns": null,
            "grid_template_rows": null,
            "height": null,
            "justify_content": null,
            "justify_items": null,
            "left": null,
            "margin": null,
            "max_height": null,
            "max_width": null,
            "min_height": null,
            "min_width": null,
            "object_fit": null,
            "object_position": null,
            "order": null,
            "overflow": null,
            "overflow_x": null,
            "overflow_y": null,
            "padding": null,
            "right": null,
            "top": null,
            "visibility": null,
            "width": null
          }
        },
        "34feb63901814fb682a0543c08669076": {
          "model_module": "@jupyter-widgets/controls",
          "model_name": "DescriptionStyleModel",
          "model_module_version": "1.5.0",
          "state": {
            "_model_module": "@jupyter-widgets/controls",
            "_model_module_version": "1.5.0",
            "_model_name": "DescriptionStyleModel",
            "_view_count": null,
            "_view_module": "@jupyter-widgets/base",
            "_view_module_version": "1.2.0",
            "_view_name": "StyleView",
            "description_width": ""
          }
        },
        "3117a4584b0749b5a574686199598329": {
          "model_module": "@jupyter-widgets/base",
          "model_name": "LayoutModel",
          "model_module_version": "1.2.0",
          "state": {
            "_model_module": "@jupyter-widgets/base",
            "_model_module_version": "1.2.0",
            "_model_name": "LayoutModel",
            "_view_count": null,
            "_view_module": "@jupyter-widgets/base",
            "_view_module_version": "1.2.0",
            "_view_name": "LayoutView",
            "align_content": null,
            "align_items": null,
            "align_self": null,
            "border": null,
            "bottom": null,
            "display": null,
            "flex": null,
            "flex_flow": null,
            "grid_area": null,
            "grid_auto_columns": null,
            "grid_auto_flow": null,
            "grid_auto_rows": null,
            "grid_column": null,
            "grid_gap": null,
            "grid_row": null,
            "grid_template_areas": null,
            "grid_template_columns": null,
            "grid_template_rows": null,
            "height": null,
            "justify_content": null,
            "justify_items": null,
            "left": null,
            "margin": null,
            "max_height": null,
            "max_width": null,
            "min_height": null,
            "min_width": null,
            "object_fit": null,
            "object_position": null,
            "order": null,
            "overflow": null,
            "overflow_x": null,
            "overflow_y": null,
            "padding": null,
            "right": null,
            "top": null,
            "visibility": null,
            "width": null
          }
        },
        "5e15751bae604818a7b39bd416080114": {
          "model_module": "@jupyter-widgets/controls",
          "model_name": "ProgressStyleModel",
          "model_module_version": "1.5.0",
          "state": {
            "_model_module": "@jupyter-widgets/controls",
            "_model_module_version": "1.5.0",
            "_model_name": "ProgressStyleModel",
            "_view_count": null,
            "_view_module": "@jupyter-widgets/base",
            "_view_module_version": "1.2.0",
            "_view_name": "StyleView",
            "bar_color": null,
            "description_width": ""
          }
        },
        "bbe61f387fe4475f86275f6fc03cddd8": {
          "model_module": "@jupyter-widgets/base",
          "model_name": "LayoutModel",
          "model_module_version": "1.2.0",
          "state": {
            "_model_module": "@jupyter-widgets/base",
            "_model_module_version": "1.2.0",
            "_model_name": "LayoutModel",
            "_view_count": null,
            "_view_module": "@jupyter-widgets/base",
            "_view_module_version": "1.2.0",
            "_view_name": "LayoutView",
            "align_content": null,
            "align_items": null,
            "align_self": null,
            "border": null,
            "bottom": null,
            "display": null,
            "flex": null,
            "flex_flow": null,
            "grid_area": null,
            "grid_auto_columns": null,
            "grid_auto_flow": null,
            "grid_auto_rows": null,
            "grid_column": null,
            "grid_gap": null,
            "grid_row": null,
            "grid_template_areas": null,
            "grid_template_columns": null,
            "grid_template_rows": null,
            "height": null,
            "justify_content": null,
            "justify_items": null,
            "left": null,
            "margin": null,
            "max_height": null,
            "max_width": null,
            "min_height": null,
            "min_width": null,
            "object_fit": null,
            "object_position": null,
            "order": null,
            "overflow": null,
            "overflow_x": null,
            "overflow_y": null,
            "padding": null,
            "right": null,
            "top": null,
            "visibility": null,
            "width": null
          }
        },
        "747119b30feb4d1dbaafd3a69b8e3743": {
          "model_module": "@jupyter-widgets/controls",
          "model_name": "DescriptionStyleModel",
          "model_module_version": "1.5.0",
          "state": {
            "_model_module": "@jupyter-widgets/controls",
            "_model_module_version": "1.5.0",
            "_model_name": "DescriptionStyleModel",
            "_view_count": null,
            "_view_module": "@jupyter-widgets/base",
            "_view_module_version": "1.2.0",
            "_view_name": "StyleView",
            "description_width": ""
          }
        }
      }
    }
  },
  "cells": [
    {
      "cell_type": "markdown",
      "metadata": {
        "id": "view-in-github",
        "colab_type": "text"
      },
      "source": [
        "<a href=\"https://colab.research.google.com/github/vishal-burman/PyTorch-Architectures/blob/master/misc/TrueCase_GPT.ipynb\" target=\"_parent\"><img src=\"https://colab.research.google.com/assets/colab-badge.svg\" alt=\"Open In Colab\"/></a>"
      ]
    },
    {
      "cell_type": "markdown",
      "source": [
        "## **This is an in-progress draft!**"
      ],
      "metadata": {
        "id": "PZxtcQze6NZz"
      }
    },
    {
      "cell_type": "code",
      "execution_count": null,
      "metadata": {
        "id": "tKTH9TIx2XCE"
      },
      "outputs": [],
      "source": [
        "! pip install -Uq transformers sentence-transformers datasets"
      ]
    },
    {
      "cell_type": "code",
      "source": [
        "from datasets import load_dataset\n",
        "import nltk\n",
        "from nltk.tokenize import sent_tokenize, word_tokenize\n",
        "import random\n",
        "from tqdm.auto import tqdm\n",
        "from typing import List\n",
        "import re\n",
        "from transformers import AutoTokenizer\n",
        "import math\n",
        "random.seed(1234)\n",
        "nltk.download(\"punkt\")"
      ],
      "metadata": {
        "colab": {
          "base_uri": "https://localhost:8080/"
        },
        "id": "dXEEJytN3lF5",
        "outputId": "74c65926-d095-49ec-f815-65c3bc06ce13"
      },
      "execution_count": 26,
      "outputs": [
        {
          "output_type": "stream",
          "name": "stderr",
          "text": [
            "[nltk_data] Downloading package punkt to /root/nltk_data...\n",
            "[nltk_data]   Package punkt is already up-to-date!\n"
          ]
        },
        {
          "output_type": "execute_result",
          "data": {
            "text/plain": [
              "True"
            ]
          },
          "metadata": {},
          "execution_count": 26
        }
      ]
    },
    {
      "cell_type": "code",
      "source": [
        "# dataset = load_dataset(\"wikitext\", \"wikitext-103-v1\", split=\"train\", streaming=True)\n",
        "dataset = load_dataset(\"cnn_dailymail\", '3.0.0', split=\"train\", streaming=True)"
      ],
      "metadata": {
        "id": "SnhNN9i33umk"
      },
      "execution_count": 3,
      "outputs": []
    },
    {
      "cell_type": "code",
      "source": [
        "tokenizer = AutoTokenizer.from_pretrained(\"gpt2\")"
      ],
      "metadata": {
        "id": "-Jf0u4_2Kvn_"
      },
      "execution_count": 4,
      "outputs": []
    },
    {
      "cell_type": "code",
      "source": [
        "def num_word_tokens(text: str) -> List[str]:\n",
        "  word_tokens = word_tokenize(text)\n",
        "  return len(word_tokens)\n",
        "\n",
        "def num_sent_tokens(text: str) -> List[str]:\n",
        "  sentence_tokens = sent_tokenize(text)\n",
        "  return len(sentence_tokens)\n",
        "\n",
        "assert num_word_tokens(\"This is great\") == 3\n",
        "assert num_sent_tokens(\"This is great. This is sentence 2.\") == 2"
      ],
      "metadata": {
        "id": "T3tmFrGr62cq"
      },
      "execution_count": 5,
      "outputs": []
    },
    {
      "cell_type": "code",
      "source": [
        "def create_dataset(limit: int) -> List[str]:\n",
        "  sentences = []\n",
        "  progress_bar_total = tqdm(range(dataset[\"train\"].dataset_size), desc=\"Articles\")\n",
        "  progress_bar_sentences = tqdm(range(limit), desc=\"Sentences\")\n",
        "  for idx, dict_ in enumerate(dataset[\"train\"]):\n",
        "    progress_bar_total.update(1)\n",
        "    if len(sentences) > limit:\n",
        "      break\n",
        "    text = dict_[\"article\"]\n",
        "    if word_tokenize(text) and len(sent_tokenize(text)) > 4:\n",
        "      sentences_extracted = sent_tokenize(text)[3:]\n",
        "      # sentences_extracted = list(map(preprocess_text, sentences_extracted))\n",
        "      sentences_extracted = list(filter(lambda x: num_word_tokens(x) > 5, sentences_extracted))\n",
        "      if sentences_extracted:\n",
        "        sentences.extend(sentences_extracted)\n",
        "        progress_bar_sentences.update(len(sentences_extracted))\n",
        "  \n",
        "  sentences = random.sample(sentences, limit)\n",
        "  split = math.ceil(0.8 * len(sentences))\n",
        "  train_sentences, validation_sentences = sentences[:split], sentences[split:]\n",
        "  return train_sentences, validation_sentences"
      ],
      "metadata": {
        "id": "5BpmZiR5yqls"
      },
      "execution_count": 29,
      "outputs": []
    },
    {
      "cell_type": "code",
      "source": [
        "train_sentences, validation_sentences = create_dataset(limit=100000)\n",
        "print(f\"Total train sentences: {len(train_sentences)}\")\n",
        "print(f\"Total validation sentences: {len(validation_sentences)}\")"
      ],
      "metadata": {
        "colab": {
          "base_uri": "https://localhost:8080/",
          "height": 132,
          "referenced_widgets": [
            "07429408e3d446d0b4f37a3a177436b7",
            "e0806c694a19476298279670b9c5525f",
            "39113e80072e4accb1ff92eac8cf635f",
            "fc94d50edf224ac693df03ea5af75f79",
            "2ce0fcb05f614be683960431a6a3cbdb",
            "2de2c9a9998f4964aa7e76769b2a9f01",
            "13407f469a254bca90f399418b96d249",
            "f5dbfdcd40c34830b169a1fe6657087d",
            "98ec02bb618b43eb80e491852c74fd9e",
            "f1f07bd6e2b744e59db83853a4320906",
            "d7336ddb147d480c995485b2b9642cbf",
            "deb183c90fc94975b9bb340aaec5c303",
            "38ea14f5003d405e8cd99eaa22cdd37c",
            "09cea0745d27415f822a98240cb1739e",
            "d7bd3d77c561486a831b7cebf26b23e3",
            "fa8c666977c7472cba4427bba7f2f7f4",
            "b0607af511d04e06b40111a8c914d26e",
            "34feb63901814fb682a0543c08669076",
            "3117a4584b0749b5a574686199598329",
            "5e15751bae604818a7b39bd416080114",
            "bbe61f387fe4475f86275f6fc03cddd8",
            "747119b30feb4d1dbaafd3a69b8e3743"
          ]
        },
        "id": "w07XJSEfzr9j",
        "outputId": "f5b4eccc-ed30-49b3-ffa4-3e1bbfa597ae"
      },
      "execution_count": 32,
      "outputs": [
        {
          "output_type": "display_data",
          "data": {
            "text/plain": [
              "Articles:   0%|          | 0/1369362325 [00:00<?, ?it/s]"
            ],
            "application/vnd.jupyter.widget-view+json": {
              "version_major": 2,
              "version_minor": 0,
              "model_id": "07429408e3d446d0b4f37a3a177436b7"
            }
          },
          "metadata": {}
        },
        {
          "output_type": "display_data",
          "data": {
            "text/plain": [
              "Sentences:   0%|          | 0/100000 [00:00<?, ?it/s]"
            ],
            "application/vnd.jupyter.widget-view+json": {
              "version_major": 2,
              "version_minor": 0,
              "model_id": "deb183c90fc94975b9bb340aaec5c303"
            }
          },
          "metadata": {}
        },
        {
          "output_type": "stream",
          "name": "stdout",
          "text": [
            "80000\n",
            "Total train sentences: 80000\n",
            "Total validation sentences: 20000\n"
          ]
        }
      ]
    },
    {
      "cell_type": "code",
      "source": [
        "# Check some train sentences\n",
        "random.sample(train_sentences, 10)"
      ],
      "metadata": {
        "colab": {
          "base_uri": "https://localhost:8080/"
        },
        "id": "vMwPo53U1UCg",
        "outputId": "c2f27be4-085d-40a3-ef2b-e52a659c16ac"
      },
      "execution_count": 33,
      "outputs": [
        {
          "output_type": "execute_result",
          "data": {
            "text/plain": [
              "['He has called for an immediate cease-fire between Hamas and Israel and said he is encouraged that the Egyptian government is trying to broker a truce.',\n",
              " 'In a recent video that has made the rounds on the Internet, a student poses tough questions to the president of Cuba\\'s National Assembly, asking why Cubans cannot travel freely to resorts -- a practice derided by critics as \"tourist apartheid.\"',\n",
              " 'This is particularly vital now given the recent election results.',\n",
              " 'The reason for his rejection was unclear.',\n",
              " 'The prince, who is called sub lieutenant Wales in the navy, is also expected to spend time aboard a mine hunter and submarine during his attachment, which ends August 1.',\n",
              " 'In those days, he had difficulty concentrating, for which he was beaten and taunted at school.',\n",
              " 'America has gone more than seven years without another terrorist attack on our soil.\"',\n",
              " \"Meanwhile, the Library of Congress marks the bicentennial Thursday by opening a special exhibit featuring Lincoln's handwritten speeches and artifacts, including the Bible used last month by Obama during his swearing-in.\",\n",
              " 'Likewise, \"Universal Mind Control,\" with its hook-heavy, synthed-out tracks, represents a \"broadening\" of hip-hop\\'s audience -- one that demands evolution rather than hackneyed revamps of old beats, rhythms and rhymes, Common said.',\n",
              " \"iReport.com: Where's your favorite secret hideaway?\"]"
            ]
          },
          "metadata": {},
          "execution_count": 33
        }
      ]
    },
    {
      "cell_type": "code",
      "source": [
        "# Check some validation sentences\n",
        "random.sample(validation_sentences, 10)"
      ],
      "metadata": {
        "colab": {
          "base_uri": "https://localhost:8080/"
        },
        "id": "zLcCIcEI0JXu",
        "outputId": "a6441e15-0dc6-4668-9f7e-76ba69610b9f"
      },
      "execution_count": 34,
      "outputs": [
        {
          "output_type": "execute_result",
          "data": {
            "text/plain": [
              "['The tanker was carrying two million barrels of crude oil worth about $100 million.',\n",
              " '\"It\\'s pretty clear that the administration just wants to muzzle any comments that reflect negatively on the [al-]Maliki government,\" he said.',\n",
              " 'Legend has it that when grandpa arrived from Ireland, Germany, Italy or Poland, he jumped off the boat, immediately draped himself in the American flag, ripped out his native tongue, and abandoned his culture -- all while singing \"Yankee Doodle Dandy.\"',\n",
              " '\"No casualty is more or less significant than another; each soldier, Marine, airman and sailor is equally precious and their loss equally tragic,\" said Rear Adm. Gregory Smith, the U.S. military\\'s chief spokesman in Iraq.',\n",
              " 'It\\'s all that\\'s right about wine.\"',\n",
              " '\"It\\'s about our fundamental values,\" he said.',\n",
              " 'There were 18 inmates in the jail at the time of the tornado, and they were moved to neighboring jurisdictions, he said.',\n",
              " 'Watch Larry King interview Susan Boyle » .',\n",
              " 'A quart bottle of this material could fill a household in two seconds.\"',\n",
              " \"Eventually, Hannah begins taking over Miley's life, leading Miley to take a soul-searching journey back home to decide what she really wants: notoriety or normality.\"]"
            ]
          },
          "metadata": {},
          "execution_count": 34
        }
      ]
    },
    {
      "cell_type": "code",
      "source": [],
      "metadata": {
        "id": "GplIY37ILNPL"
      },
      "execution_count": null,
      "outputs": []
    }
  ]
}