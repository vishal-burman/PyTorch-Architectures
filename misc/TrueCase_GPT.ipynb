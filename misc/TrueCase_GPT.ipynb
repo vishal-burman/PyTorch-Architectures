{
  "nbformat": 4,
  "nbformat_minor": 0,
  "metadata": {
    "colab": {
      "provenance": [],
      "authorship_tag": "ABX9TyPIjsgmqfA3piBkMGReBbJk",
      "include_colab_link": true
    },
    "kernelspec": {
      "name": "python3",
      "display_name": "Python 3"
    },
    "language_info": {
      "name": "python"
    },
    "widgets": {
      "application/vnd.jupyter.widget-state+json": {
        "c0583aa12f7946ae8a5c359e74467b15": {
          "model_module": "@jupyter-widgets/controls",
          "model_name": "HBoxModel",
          "model_module_version": "1.5.0",
          "state": {
            "_dom_classes": [],
            "_model_module": "@jupyter-widgets/controls",
            "_model_module_version": "1.5.0",
            "_model_name": "HBoxModel",
            "_view_count": null,
            "_view_module": "@jupyter-widgets/controls",
            "_view_module_version": "1.5.0",
            "_view_name": "HBoxView",
            "box_style": "",
            "children": [
              "IPY_MODEL_2edcba4fe653414c896a2f830d7a7278",
              "IPY_MODEL_91a02e410ebc4b7b8c6e5aee21253ab5",
              "IPY_MODEL_7cf6c1d668b04863b606d0afa39027ed"
            ],
            "layout": "IPY_MODEL_22e5cf9afe714e9386fdf065375e46e0"
          }
        },
        "2edcba4fe653414c896a2f830d7a7278": {
          "model_module": "@jupyter-widgets/controls",
          "model_name": "HTMLModel",
          "model_module_version": "1.5.0",
          "state": {
            "_dom_classes": [],
            "_model_module": "@jupyter-widgets/controls",
            "_model_module_version": "1.5.0",
            "_model_name": "HTMLModel",
            "_view_count": null,
            "_view_module": "@jupyter-widgets/controls",
            "_view_module_version": "1.5.0",
            "_view_name": "HTMLView",
            "description": "",
            "description_tooltip": null,
            "layout": "IPY_MODEL_0bbd0b5b970349788a45058e585df9a7",
            "placeholder": "​",
            "style": "IPY_MODEL_90686de0606441dca322b9a3c8228c2f",
            "value": "Articles:   0%"
          }
        },
        "91a02e410ebc4b7b8c6e5aee21253ab5": {
          "model_module": "@jupyter-widgets/controls",
          "model_name": "FloatProgressModel",
          "model_module_version": "1.5.0",
          "state": {
            "_dom_classes": [],
            "_model_module": "@jupyter-widgets/controls",
            "_model_module_version": "1.5.0",
            "_model_name": "FloatProgressModel",
            "_view_count": null,
            "_view_module": "@jupyter-widgets/controls",
            "_view_module_version": "1.5.0",
            "_view_name": "ProgressView",
            "bar_style": "",
            "description": "",
            "description_tooltip": null,
            "layout": "IPY_MODEL_fdaa8afeb5dc42899fcb38dc78dc1d7f",
            "max": 1369362325,
            "min": 0,
            "orientation": "horizontal",
            "style": "IPY_MODEL_f71274e952a5441d84fbe6738ac06ffe",
            "value": 39
          }
        },
        "7cf6c1d668b04863b606d0afa39027ed": {
          "model_module": "@jupyter-widgets/controls",
          "model_name": "HTMLModel",
          "model_module_version": "1.5.0",
          "state": {
            "_dom_classes": [],
            "_model_module": "@jupyter-widgets/controls",
            "_model_module_version": "1.5.0",
            "_model_name": "HTMLModel",
            "_view_count": null,
            "_view_module": "@jupyter-widgets/controls",
            "_view_module_version": "1.5.0",
            "_view_name": "HTMLView",
            "description": "",
            "description_tooltip": null,
            "layout": "IPY_MODEL_fa011a3e65324a79ba4ea6afc40557b7",
            "placeholder": "​",
            "style": "IPY_MODEL_ead6ddb42624431aa6bb5ab6c75b7505",
            "value": " 39/1369362325 [00:28&lt;23623:40:09, 16.10it/s]"
          }
        },
        "22e5cf9afe714e9386fdf065375e46e0": {
          "model_module": "@jupyter-widgets/base",
          "model_name": "LayoutModel",
          "model_module_version": "1.2.0",
          "state": {
            "_model_module": "@jupyter-widgets/base",
            "_model_module_version": "1.2.0",
            "_model_name": "LayoutModel",
            "_view_count": null,
            "_view_module": "@jupyter-widgets/base",
            "_view_module_version": "1.2.0",
            "_view_name": "LayoutView",
            "align_content": null,
            "align_items": null,
            "align_self": null,
            "border": null,
            "bottom": null,
            "display": null,
            "flex": null,
            "flex_flow": null,
            "grid_area": null,
            "grid_auto_columns": null,
            "grid_auto_flow": null,
            "grid_auto_rows": null,
            "grid_column": null,
            "grid_gap": null,
            "grid_row": null,
            "grid_template_areas": null,
            "grid_template_columns": null,
            "grid_template_rows": null,
            "height": null,
            "justify_content": null,
            "justify_items": null,
            "left": null,
            "margin": null,
            "max_height": null,
            "max_width": null,
            "min_height": null,
            "min_width": null,
            "object_fit": null,
            "object_position": null,
            "order": null,
            "overflow": null,
            "overflow_x": null,
            "overflow_y": null,
            "padding": null,
            "right": null,
            "top": null,
            "visibility": null,
            "width": null
          }
        },
        "0bbd0b5b970349788a45058e585df9a7": {
          "model_module": "@jupyter-widgets/base",
          "model_name": "LayoutModel",
          "model_module_version": "1.2.0",
          "state": {
            "_model_module": "@jupyter-widgets/base",
            "_model_module_version": "1.2.0",
            "_model_name": "LayoutModel",
            "_view_count": null,
            "_view_module": "@jupyter-widgets/base",
            "_view_module_version": "1.2.0",
            "_view_name": "LayoutView",
            "align_content": null,
            "align_items": null,
            "align_self": null,
            "border": null,
            "bottom": null,
            "display": null,
            "flex": null,
            "flex_flow": null,
            "grid_area": null,
            "grid_auto_columns": null,
            "grid_auto_flow": null,
            "grid_auto_rows": null,
            "grid_column": null,
            "grid_gap": null,
            "grid_row": null,
            "grid_template_areas": null,
            "grid_template_columns": null,
            "grid_template_rows": null,
            "height": null,
            "justify_content": null,
            "justify_items": null,
            "left": null,
            "margin": null,
            "max_height": null,
            "max_width": null,
            "min_height": null,
            "min_width": null,
            "object_fit": null,
            "object_position": null,
            "order": null,
            "overflow": null,
            "overflow_x": null,
            "overflow_y": null,
            "padding": null,
            "right": null,
            "top": null,
            "visibility": null,
            "width": null
          }
        },
        "90686de0606441dca322b9a3c8228c2f": {
          "model_module": "@jupyter-widgets/controls",
          "model_name": "DescriptionStyleModel",
          "model_module_version": "1.5.0",
          "state": {
            "_model_module": "@jupyter-widgets/controls",
            "_model_module_version": "1.5.0",
            "_model_name": "DescriptionStyleModel",
            "_view_count": null,
            "_view_module": "@jupyter-widgets/base",
            "_view_module_version": "1.2.0",
            "_view_name": "StyleView",
            "description_width": ""
          }
        },
        "fdaa8afeb5dc42899fcb38dc78dc1d7f": {
          "model_module": "@jupyter-widgets/base",
          "model_name": "LayoutModel",
          "model_module_version": "1.2.0",
          "state": {
            "_model_module": "@jupyter-widgets/base",
            "_model_module_version": "1.2.0",
            "_model_name": "LayoutModel",
            "_view_count": null,
            "_view_module": "@jupyter-widgets/base",
            "_view_module_version": "1.2.0",
            "_view_name": "LayoutView",
            "align_content": null,
            "align_items": null,
            "align_self": null,
            "border": null,
            "bottom": null,
            "display": null,
            "flex": null,
            "flex_flow": null,
            "grid_area": null,
            "grid_auto_columns": null,
            "grid_auto_flow": null,
            "grid_auto_rows": null,
            "grid_column": null,
            "grid_gap": null,
            "grid_row": null,
            "grid_template_areas": null,
            "grid_template_columns": null,
            "grid_template_rows": null,
            "height": null,
            "justify_content": null,
            "justify_items": null,
            "left": null,
            "margin": null,
            "max_height": null,
            "max_width": null,
            "min_height": null,
            "min_width": null,
            "object_fit": null,
            "object_position": null,
            "order": null,
            "overflow": null,
            "overflow_x": null,
            "overflow_y": null,
            "padding": null,
            "right": null,
            "top": null,
            "visibility": null,
            "width": null
          }
        },
        "f71274e952a5441d84fbe6738ac06ffe": {
          "model_module": "@jupyter-widgets/controls",
          "model_name": "ProgressStyleModel",
          "model_module_version": "1.5.0",
          "state": {
            "_model_module": "@jupyter-widgets/controls",
            "_model_module_version": "1.5.0",
            "_model_name": "ProgressStyleModel",
            "_view_count": null,
            "_view_module": "@jupyter-widgets/base",
            "_view_module_version": "1.2.0",
            "_view_name": "StyleView",
            "bar_color": null,
            "description_width": ""
          }
        },
        "fa011a3e65324a79ba4ea6afc40557b7": {
          "model_module": "@jupyter-widgets/base",
          "model_name": "LayoutModel",
          "model_module_version": "1.2.0",
          "state": {
            "_model_module": "@jupyter-widgets/base",
            "_model_module_version": "1.2.0",
            "_model_name": "LayoutModel",
            "_view_count": null,
            "_view_module": "@jupyter-widgets/base",
            "_view_module_version": "1.2.0",
            "_view_name": "LayoutView",
            "align_content": null,
            "align_items": null,
            "align_self": null,
            "border": null,
            "bottom": null,
            "display": null,
            "flex": null,
            "flex_flow": null,
            "grid_area": null,
            "grid_auto_columns": null,
            "grid_auto_flow": null,
            "grid_auto_rows": null,
            "grid_column": null,
            "grid_gap": null,
            "grid_row": null,
            "grid_template_areas": null,
            "grid_template_columns": null,
            "grid_template_rows": null,
            "height": null,
            "justify_content": null,
            "justify_items": null,
            "left": null,
            "margin": null,
            "max_height": null,
            "max_width": null,
            "min_height": null,
            "min_width": null,
            "object_fit": null,
            "object_position": null,
            "order": null,
            "overflow": null,
            "overflow_x": null,
            "overflow_y": null,
            "padding": null,
            "right": null,
            "top": null,
            "visibility": null,
            "width": null
          }
        },
        "ead6ddb42624431aa6bb5ab6c75b7505": {
          "model_module": "@jupyter-widgets/controls",
          "model_name": "DescriptionStyleModel",
          "model_module_version": "1.5.0",
          "state": {
            "_model_module": "@jupyter-widgets/controls",
            "_model_module_version": "1.5.0",
            "_model_name": "DescriptionStyleModel",
            "_view_count": null,
            "_view_module": "@jupyter-widgets/base",
            "_view_module_version": "1.2.0",
            "_view_name": "StyleView",
            "description_width": ""
          }
        },
        "0a1da0b0f61746a0964f0b531971d79f": {
          "model_module": "@jupyter-widgets/controls",
          "model_name": "HBoxModel",
          "model_module_version": "1.5.0",
          "state": {
            "_dom_classes": [],
            "_model_module": "@jupyter-widgets/controls",
            "_model_module_version": "1.5.0",
            "_model_name": "HBoxModel",
            "_view_count": null,
            "_view_module": "@jupyter-widgets/controls",
            "_view_module_version": "1.5.0",
            "_view_name": "HBoxView",
            "box_style": "",
            "children": [
              "IPY_MODEL_b2eb9469651e42938fd1eeddaad50e7e",
              "IPY_MODEL_df2e2e5e3a164a82a95a5260f4c0c17c",
              "IPY_MODEL_d9d48f6efa544f77bad70cfeea4233a5"
            ],
            "layout": "IPY_MODEL_94bd43f71f914374b0771c8519cd181f"
          }
        },
        "b2eb9469651e42938fd1eeddaad50e7e": {
          "model_module": "@jupyter-widgets/controls",
          "model_name": "HTMLModel",
          "model_module_version": "1.5.0",
          "state": {
            "_dom_classes": [],
            "_model_module": "@jupyter-widgets/controls",
            "_model_module_version": "1.5.0",
            "_model_name": "HTMLModel",
            "_view_count": null,
            "_view_module": "@jupyter-widgets/controls",
            "_view_module_version": "1.5.0",
            "_view_name": "HTMLView",
            "description": "",
            "description_tooltip": null,
            "layout": "IPY_MODEL_4a814807400940d695efb23b087a4dd7",
            "placeholder": "​",
            "style": "IPY_MODEL_d30d8ae3f19947c6933fc428336de83d",
            "value": "Sentences: "
          }
        },
        "df2e2e5e3a164a82a95a5260f4c0c17c": {
          "model_module": "@jupyter-widgets/controls",
          "model_name": "FloatProgressModel",
          "model_module_version": "1.5.0",
          "state": {
            "_dom_classes": [],
            "_model_module": "@jupyter-widgets/controls",
            "_model_module_version": "1.5.0",
            "_model_name": "FloatProgressModel",
            "_view_count": null,
            "_view_module": "@jupyter-widgets/controls",
            "_view_module_version": "1.5.0",
            "_view_name": "ProgressView",
            "bar_style": "",
            "description": "",
            "description_tooltip": null,
            "layout": "IPY_MODEL_d82a2b9fcdc2424787e0fb886ef39ca7",
            "max": 1000,
            "min": 0,
            "orientation": "horizontal",
            "style": "IPY_MODEL_ba6b12dc01b34c0399a2247b953f3a6e",
            "value": 1000
          }
        },
        "d9d48f6efa544f77bad70cfeea4233a5": {
          "model_module": "@jupyter-widgets/controls",
          "model_name": "HTMLModel",
          "model_module_version": "1.5.0",
          "state": {
            "_dom_classes": [],
            "_model_module": "@jupyter-widgets/controls",
            "_model_module_version": "1.5.0",
            "_model_name": "HTMLModel",
            "_view_count": null,
            "_view_module": "@jupyter-widgets/controls",
            "_view_module_version": "1.5.0",
            "_view_name": "HTMLView",
            "description": "",
            "description_tooltip": null,
            "layout": "IPY_MODEL_735ab972e128472398df788226f626c4",
            "placeholder": "​",
            "style": "IPY_MODEL_df00cd04a379480fbf99e19aaa307bd9",
            "value": " 1039/? [00:28&lt;00:00, 506.77it/s]"
          }
        },
        "94bd43f71f914374b0771c8519cd181f": {
          "model_module": "@jupyter-widgets/base",
          "model_name": "LayoutModel",
          "model_module_version": "1.2.0",
          "state": {
            "_model_module": "@jupyter-widgets/base",
            "_model_module_version": "1.2.0",
            "_model_name": "LayoutModel",
            "_view_count": null,
            "_view_module": "@jupyter-widgets/base",
            "_view_module_version": "1.2.0",
            "_view_name": "LayoutView",
            "align_content": null,
            "align_items": null,
            "align_self": null,
            "border": null,
            "bottom": null,
            "display": null,
            "flex": null,
            "flex_flow": null,
            "grid_area": null,
            "grid_auto_columns": null,
            "grid_auto_flow": null,
            "grid_auto_rows": null,
            "grid_column": null,
            "grid_gap": null,
            "grid_row": null,
            "grid_template_areas": null,
            "grid_template_columns": null,
            "grid_template_rows": null,
            "height": null,
            "justify_content": null,
            "justify_items": null,
            "left": null,
            "margin": null,
            "max_height": null,
            "max_width": null,
            "min_height": null,
            "min_width": null,
            "object_fit": null,
            "object_position": null,
            "order": null,
            "overflow": null,
            "overflow_x": null,
            "overflow_y": null,
            "padding": null,
            "right": null,
            "top": null,
            "visibility": null,
            "width": null
          }
        },
        "4a814807400940d695efb23b087a4dd7": {
          "model_module": "@jupyter-widgets/base",
          "model_name": "LayoutModel",
          "model_module_version": "1.2.0",
          "state": {
            "_model_module": "@jupyter-widgets/base",
            "_model_module_version": "1.2.0",
            "_model_name": "LayoutModel",
            "_view_count": null,
            "_view_module": "@jupyter-widgets/base",
            "_view_module_version": "1.2.0",
            "_view_name": "LayoutView",
            "align_content": null,
            "align_items": null,
            "align_self": null,
            "border": null,
            "bottom": null,
            "display": null,
            "flex": null,
            "flex_flow": null,
            "grid_area": null,
            "grid_auto_columns": null,
            "grid_auto_flow": null,
            "grid_auto_rows": null,
            "grid_column": null,
            "grid_gap": null,
            "grid_row": null,
            "grid_template_areas": null,
            "grid_template_columns": null,
            "grid_template_rows": null,
            "height": null,
            "justify_content": null,
            "justify_items": null,
            "left": null,
            "margin": null,
            "max_height": null,
            "max_width": null,
            "min_height": null,
            "min_width": null,
            "object_fit": null,
            "object_position": null,
            "order": null,
            "overflow": null,
            "overflow_x": null,
            "overflow_y": null,
            "padding": null,
            "right": null,
            "top": null,
            "visibility": null,
            "width": null
          }
        },
        "d30d8ae3f19947c6933fc428336de83d": {
          "model_module": "@jupyter-widgets/controls",
          "model_name": "DescriptionStyleModel",
          "model_module_version": "1.5.0",
          "state": {
            "_model_module": "@jupyter-widgets/controls",
            "_model_module_version": "1.5.0",
            "_model_name": "DescriptionStyleModel",
            "_view_count": null,
            "_view_module": "@jupyter-widgets/base",
            "_view_module_version": "1.2.0",
            "_view_name": "StyleView",
            "description_width": ""
          }
        },
        "d82a2b9fcdc2424787e0fb886ef39ca7": {
          "model_module": "@jupyter-widgets/base",
          "model_name": "LayoutModel",
          "model_module_version": "1.2.0",
          "state": {
            "_model_module": "@jupyter-widgets/base",
            "_model_module_version": "1.2.0",
            "_model_name": "LayoutModel",
            "_view_count": null,
            "_view_module": "@jupyter-widgets/base",
            "_view_module_version": "1.2.0",
            "_view_name": "LayoutView",
            "align_content": null,
            "align_items": null,
            "align_self": null,
            "border": null,
            "bottom": null,
            "display": null,
            "flex": null,
            "flex_flow": null,
            "grid_area": null,
            "grid_auto_columns": null,
            "grid_auto_flow": null,
            "grid_auto_rows": null,
            "grid_column": null,
            "grid_gap": null,
            "grid_row": null,
            "grid_template_areas": null,
            "grid_template_columns": null,
            "grid_template_rows": null,
            "height": null,
            "justify_content": null,
            "justify_items": null,
            "left": null,
            "margin": null,
            "max_height": null,
            "max_width": null,
            "min_height": null,
            "min_width": null,
            "object_fit": null,
            "object_position": null,
            "order": null,
            "overflow": null,
            "overflow_x": null,
            "overflow_y": null,
            "padding": null,
            "right": null,
            "top": null,
            "visibility": null,
            "width": null
          }
        },
        "ba6b12dc01b34c0399a2247b953f3a6e": {
          "model_module": "@jupyter-widgets/controls",
          "model_name": "ProgressStyleModel",
          "model_module_version": "1.5.0",
          "state": {
            "_model_module": "@jupyter-widgets/controls",
            "_model_module_version": "1.5.0",
            "_model_name": "ProgressStyleModel",
            "_view_count": null,
            "_view_module": "@jupyter-widgets/base",
            "_view_module_version": "1.2.0",
            "_view_name": "StyleView",
            "bar_color": null,
            "description_width": ""
          }
        },
        "735ab972e128472398df788226f626c4": {
          "model_module": "@jupyter-widgets/base",
          "model_name": "LayoutModel",
          "model_module_version": "1.2.0",
          "state": {
            "_model_module": "@jupyter-widgets/base",
            "_model_module_version": "1.2.0",
            "_model_name": "LayoutModel",
            "_view_count": null,
            "_view_module": "@jupyter-widgets/base",
            "_view_module_version": "1.2.0",
            "_view_name": "LayoutView",
            "align_content": null,
            "align_items": null,
            "align_self": null,
            "border": null,
            "bottom": null,
            "display": null,
            "flex": null,
            "flex_flow": null,
            "grid_area": null,
            "grid_auto_columns": null,
            "grid_auto_flow": null,
            "grid_auto_rows": null,
            "grid_column": null,
            "grid_gap": null,
            "grid_row": null,
            "grid_template_areas": null,
            "grid_template_columns": null,
            "grid_template_rows": null,
            "height": null,
            "justify_content": null,
            "justify_items": null,
            "left": null,
            "margin": null,
            "max_height": null,
            "max_width": null,
            "min_height": null,
            "min_width": null,
            "object_fit": null,
            "object_position": null,
            "order": null,
            "overflow": null,
            "overflow_x": null,
            "overflow_y": null,
            "padding": null,
            "right": null,
            "top": null,
            "visibility": null,
            "width": null
          }
        },
        "df00cd04a379480fbf99e19aaa307bd9": {
          "model_module": "@jupyter-widgets/controls",
          "model_name": "DescriptionStyleModel",
          "model_module_version": "1.5.0",
          "state": {
            "_model_module": "@jupyter-widgets/controls",
            "_model_module_version": "1.5.0",
            "_model_name": "DescriptionStyleModel",
            "_view_count": null,
            "_view_module": "@jupyter-widgets/base",
            "_view_module_version": "1.2.0",
            "_view_name": "StyleView",
            "description_width": ""
          }
        }
      }
    }
  },
  "cells": [
    {
      "cell_type": "markdown",
      "metadata": {
        "id": "view-in-github",
        "colab_type": "text"
      },
      "source": [
        "<a href=\"https://colab.research.google.com/github/vishal-burman/PyTorch-Architectures/blob/master/misc/TrueCase_GPT.ipynb\" target=\"_parent\"><img src=\"https://colab.research.google.com/assets/colab-badge.svg\" alt=\"Open In Colab\"/></a>"
      ]
    },
    {
      "cell_type": "markdown",
      "source": [
        "## **This is an in-progress draft!**"
      ],
      "metadata": {
        "id": "PZxtcQze6NZz"
      }
    },
    {
      "cell_type": "code",
      "execution_count": null,
      "metadata": {
        "id": "tKTH9TIx2XCE"
      },
      "outputs": [],
      "source": [
        "! pip install -Uq transformers sentence-transformers datasets"
      ]
    },
    {
      "cell_type": "code",
      "source": [
        "from datasets import load_dataset\n",
        "import nltk\n",
        "from nltk.tokenize import sent_tokenize, word_tokenize\n",
        "import random\n",
        "from tqdm.auto import tqdm\n",
        "from typing import List\n",
        "import re\n",
        "from transformers import AutoTokenizer, AutoModelForCausalLM\n",
        "from transformers import DataCollatorForLanguageModeling\n",
        "import math\n",
        "import torch\n",
        "from torch.utils.data import Dataset, DataLoader\n",
        "random.seed(1234)\n",
        "nltk.download(\"punkt\")"
      ],
      "metadata": {
        "colab": {
          "base_uri": "https://localhost:8080/"
        },
        "id": "dXEEJytN3lF5",
        "outputId": "a3eb82e4-b9fd-460d-f5e3-ac2c82536740"
      },
      "execution_count": 1,
      "outputs": [
        {
          "output_type": "stream",
          "name": "stderr",
          "text": [
            "[nltk_data] Downloading package punkt to /root/nltk_data...\n",
            "[nltk_data]   Package punkt is already up-to-date!\n"
          ]
        },
        {
          "output_type": "execute_result",
          "data": {
            "text/plain": [
              "True"
            ]
          },
          "metadata": {},
          "execution_count": 1
        }
      ]
    },
    {
      "cell_type": "code",
      "source": [
        "# dataset = load_dataset(\"wikitext\", \"wikitext-103-v1\", split=\"train\", streaming=True)\n",
        "dataset = load_dataset(\"cnn_dailymail\", '3.0.0', streaming=True)"
      ],
      "metadata": {
        "id": "SnhNN9i33umk"
      },
      "execution_count": 2,
      "outputs": []
    },
    {
      "cell_type": "code",
      "source": [
        "tokenizer = AutoTokenizer.from_pretrained(\"gpt2\")\n",
        "tokenizer.pad_token = tokenizer.eos_token"
      ],
      "metadata": {
        "id": "-Jf0u4_2Kvn_"
      },
      "execution_count": 3,
      "outputs": []
    },
    {
      "cell_type": "code",
      "source": [
        "model = AutoModelForCausalLM.from_pretrained(\"gpt2\")"
      ],
      "metadata": {
        "id": "qtPEpnuRV-6v"
      },
      "execution_count": null,
      "outputs": []
    },
    {
      "cell_type": "code",
      "source": [
        "def num_word_tokens(text: str) -> List[str]:\n",
        "  word_tokens = word_tokenize(text)\n",
        "  return len(word_tokens)\n",
        "\n",
        "def num_sent_tokens(text: str) -> List[str]:\n",
        "  sentence_tokens = sent_tokenize(text)\n",
        "  return len(sentence_tokens)\n",
        "\n",
        "assert num_word_tokens(\"This is great\") == 3\n",
        "assert num_sent_tokens(\"This is great. This is sentence 2.\") == 2"
      ],
      "metadata": {
        "id": "T3tmFrGr62cq"
      },
      "execution_count": 4,
      "outputs": []
    },
    {
      "cell_type": "code",
      "source": [
        "def create_dataset(limit: int) -> List[str]:\n",
        "  sentences = []\n",
        "  progress_bar_total = tqdm(range(dataset[\"train\"].dataset_size), desc=\"Articles\")\n",
        "  progress_bar_sentences = tqdm(range(limit), desc=\"Sentences\")\n",
        "  for idx, dict_ in enumerate(dataset[\"train\"]):\n",
        "    progress_bar_total.update(1)\n",
        "    if len(sentences) > limit:\n",
        "      break\n",
        "    text = dict_[\"article\"]\n",
        "    if word_tokenize(text) and len(sent_tokenize(text)) > 4:\n",
        "      sentences_extracted = sent_tokenize(text)[3:]\n",
        "      # sentences_extracted = list(map(preprocess_text, sentences_extracted))\n",
        "      sentences_extracted = list(filter(lambda x: num_word_tokens(x) > 5, sentences_extracted))\n",
        "      if sentences_extracted:\n",
        "        sentences.extend(sentences_extracted)\n",
        "        progress_bar_sentences.update(len(sentences_extracted))\n",
        "  \n",
        "  sentences = random.sample(sentences, limit)\n",
        "  split = math.ceil(0.8 * len(sentences))\n",
        "  train_sentences, validation_sentences = sentences[:split], sentences[split:]\n",
        "  return train_sentences, validation_sentences"
      ],
      "metadata": {
        "id": "5BpmZiR5yqls"
      },
      "execution_count": 5,
      "outputs": []
    },
    {
      "cell_type": "code",
      "source": [
        "train_sentences, validation_sentences = create_dataset(limit=1000)\n",
        "print(f\"Total train sentences: {len(train_sentences)}\")\n",
        "print(f\"Total validation sentences: {len(validation_sentences)}\")"
      ],
      "metadata": {
        "colab": {
          "base_uri": "https://localhost:8080/",
          "height": 115,
          "referenced_widgets": [
            "c0583aa12f7946ae8a5c359e74467b15",
            "2edcba4fe653414c896a2f830d7a7278",
            "91a02e410ebc4b7b8c6e5aee21253ab5",
            "7cf6c1d668b04863b606d0afa39027ed",
            "22e5cf9afe714e9386fdf065375e46e0",
            "0bbd0b5b970349788a45058e585df9a7",
            "90686de0606441dca322b9a3c8228c2f",
            "fdaa8afeb5dc42899fcb38dc78dc1d7f",
            "f71274e952a5441d84fbe6738ac06ffe",
            "fa011a3e65324a79ba4ea6afc40557b7",
            "ead6ddb42624431aa6bb5ab6c75b7505",
            "0a1da0b0f61746a0964f0b531971d79f",
            "b2eb9469651e42938fd1eeddaad50e7e",
            "df2e2e5e3a164a82a95a5260f4c0c17c",
            "d9d48f6efa544f77bad70cfeea4233a5",
            "94bd43f71f914374b0771c8519cd181f",
            "4a814807400940d695efb23b087a4dd7",
            "d30d8ae3f19947c6933fc428336de83d",
            "d82a2b9fcdc2424787e0fb886ef39ca7",
            "ba6b12dc01b34c0399a2247b953f3a6e",
            "735ab972e128472398df788226f626c4",
            "df00cd04a379480fbf99e19aaa307bd9"
          ]
        },
        "id": "w07XJSEfzr9j",
        "outputId": "34e13766-82a1-4de8-dc76-77438b539075"
      },
      "execution_count": 6,
      "outputs": [
        {
          "output_type": "display_data",
          "data": {
            "text/plain": [
              "Articles:   0%|          | 0/1369362325 [00:00<?, ?it/s]"
            ],
            "application/vnd.jupyter.widget-view+json": {
              "version_major": 2,
              "version_minor": 0,
              "model_id": "c0583aa12f7946ae8a5c359e74467b15"
            }
          },
          "metadata": {}
        },
        {
          "output_type": "display_data",
          "data": {
            "text/plain": [
              "Sentences:   0%|          | 0/1000 [00:00<?, ?it/s]"
            ],
            "application/vnd.jupyter.widget-view+json": {
              "version_major": 2,
              "version_minor": 0,
              "model_id": "0a1da0b0f61746a0964f0b531971d79f"
            }
          },
          "metadata": {}
        },
        {
          "output_type": "stream",
          "name": "stdout",
          "text": [
            "Total train sentences: 800\n",
            "Total validation sentences: 200\n"
          ]
        }
      ]
    },
    {
      "cell_type": "code",
      "source": [
        "# Check some train sentences\n",
        "random.sample(train_sentences, 10)"
      ],
      "metadata": {
        "colab": {
          "base_uri": "https://localhost:8080/"
        },
        "id": "vMwPo53U1UCg",
        "outputId": "f232d637-ef94-45e8-e36f-203f8e099a0b"
      },
      "execution_count": 7,
      "outputs": [
        {
          "output_type": "execute_result",
          "data": {
            "text/plain": [
              "['Carlos Alberto started his career with Fluminense, and helped them to lift the Campeonato Carioca in 2002.',\n",
              " 'But in 1997, a jury found him liable for the deaths in a civil case brought by the Goldman family.',\n",
              " \"Hakan, a 27-year-old security guard in Istanbul with two young children who also requested only his first name be published, told Reuters he received five or six offers from Turkey and Germany, offering 10,000-15,000 lira ($11,600), but he's holding out for 40,000 lira.\",\n",
              " '\"That\\'s a lie.',\n",
              " 'Oakley, described as a low-level employee, apparently did not make contact with any foreign government and is not a foreign agent of any kind, an official familiar with the case said.',\n",
              " \"He elaborated in Arabic: His homeland won't be enjoying such freedoms anytime soon.\",\n",
              " 'The judge in the case will have the final say over the plea agreement.',\n",
              " '\"It sometimes happens -- not often -- that the state will follow a federal prosecution by charging its own crimes for exactly the same behavior,\" Toobin said Friday.',\n",
              " \"CNN's Carol Cratty, Dugald McConnell, and Mike Mount contributed to this report.\",\n",
              " 'He used to do a lot of volunteer work back in Baghdad.']"
            ]
          },
          "metadata": {},
          "execution_count": 7
        }
      ]
    },
    {
      "cell_type": "code",
      "source": [
        "# Check some validation sentences\n",
        "random.sample(validation_sentences, 10)"
      ],
      "metadata": {
        "colab": {
          "base_uri": "https://localhost:8080/"
        },
        "id": "zLcCIcEI0JXu",
        "outputId": "00636726-d2f1-44ad-ebe6-3ec724af47c6"
      },
      "execution_count": 8,
      "outputs": [
        {
          "output_type": "execute_result",
          "data": {
            "text/plain": [
              "[\"His and President Sarkozy's concern for human rights lies behind their eagerness to join Gordon Brown's Britain in a new push for action in Darfur.\",\n",
              " '\"The president wants to encourage everybody to use surveillance,\" Snow said.',\n",
              " 'She will always be remembered for her amazing public work.',\n",
              " 'They were snatched off the street by gunmen.',\n",
              " 'As we have heard from Prince Harry, his mother Diana did all that she could to prepare her sons for the work which lies ahead.',\n",
              " \"Surgeries will be performed by Dr. Peter Grossman, a plastic surgeon with the affiliated Grossman Burn Center who is donating his services for Youssif's cause.\",\n",
              " 'We also get a rare glimpse inside the David Beckham academy in L.A, find out what drives the kids and who are their heroes.',\n",
              " '\"It was fairly mild.\"',\n",
              " 'Romney is leading polls in the early voting states of Iowa and New Hampshire.',\n",
              " \"He said doctors usually help in finding people willing to sell their organs from their patients' lists.\"]"
            ]
          },
          "metadata": {},
          "execution_count": 8
        }
      ]
    },
    {
      "cell_type": "code",
      "source": [
        "# Hyperparameters\n",
        "MAX_LENGTH = 128\n",
        "BATCH_SIZE = 16"
      ],
      "metadata": {
        "id": "nxcrK58aVJWH"
      },
      "execution_count": 46,
      "outputs": []
    },
    {
      "cell_type": "code",
      "source": [
        "class CustomDataset(Dataset):\n",
        "  def __init__(self, \n",
        "               tokenizer, \n",
        "               sentences: List[str],\n",
        "               max_len: int):\n",
        "    self.tokenizer = tokenizer\n",
        "    self.input_sentences = sentences\n",
        "    self.target_sentences = list(map(str.lower, sentences)) # Make target lowercase\n",
        "    self.target_sentences = list(map(lambda x: x + f\" {tokenizer.eos_token}\", \n",
        "                                     self.target_sentences)) # Add eos_token to target\n",
        "    assert len(self.input_sentences) == len(self.target_sentences)\n",
        "    self.max_len = max_len\n",
        "  \n",
        "  def __len__(self,):\n",
        "    return len(self.input_sentences)\n",
        "  \n",
        "  def __getitem__(self, idx):\n",
        "    sents_input = self.input_sentences[idx]\n",
        "    sents_target = self.target_sentences[idx]\n",
        "    return {\n",
        "        \"input_sentences\": sents_input,\n",
        "        \"target_sentences\": sents_target,\n",
        "    }\n",
        "  \n",
        "  def collate_fn(self, batch):\n",
        "    input_sentences = [x[\"input_sentences\"] for x in batch]\n",
        "    target_sentences = [x[\"target_sentences\"] for x in batch]\n",
        "\n",
        "    tokens_inp = self.tokenizer(input_sentences,\n",
        "                            max_length=self.max_len,\n",
        "                            padding=True,\n",
        "                            truncation=True,\n",
        "                            return_tensors=\"pt\"\n",
        "    )\n",
        "    tokens_tgt = self.tokenizer(target_sentences,\n",
        "                                max_length=self.max_len,\n",
        "                                padding=True,\n",
        "                                truncation=True,\n",
        "                                return_tensors=\"pt\")\n",
        "    labels = tokens_tgt[\"input_ids\"]\n",
        "    labels[labels == self.tokenizer.pad_token_id] = -100\n",
        "    tokens_inp[\"labels\"] = labels\n",
        "\n",
        "    return tokens_inp"
      ],
      "metadata": {
        "id": "R_W4KSug-8-g"
      },
      "execution_count": 40,
      "outputs": []
    },
    {
      "cell_type": "code",
      "source": [
        "train_dataset = CustomDataset(tokenizer,\n",
        "                              train_sentences,\n",
        "                              max_len=MAX_LENGTH)\n",
        "validation_dataset = CustomDataset(tokenizer,\n",
        "                              validation_sentences,\n",
        "                              max_len=MAX_LENGTH)\n",
        "\n",
        "train_loader = DataLoader(train_dataset, \n",
        "                          batch_size=BATCH_SIZE, \n",
        "                          shuffle=True, \n",
        "                          collate_fn=train_dataset.collate_fn)\n",
        "validation_loader = DataLoader(validation_dataset,\n",
        "                               batch_size=BATCH_SIZE,\n",
        "                               shuffle=False,\n",
        "                               collate_fn=validation_dataset.collate_fn)\n",
        "\n",
        "print(f\"Length of train loader: {len(train_loader)}\")\n",
        "print(f\"Length of validation loader: {len(validation_loader)}\")"
      ],
      "metadata": {
        "colab": {
          "base_uri": "https://localhost:8080/"
        },
        "id": "jyakV4bACWdn",
        "outputId": "c17e402f-c142-4219-a458-dd0859a3b8de"
      },
      "execution_count": 47,
      "outputs": [
        {
          "output_type": "stream",
          "name": "stdout",
          "text": [
            "Length of train loader: 50\n",
            "Length of validation loader: 13\n"
          ]
        }
      ]
    },
    {
      "cell_type": "code",
      "source": [],
      "metadata": {
        "id": "4T-G1UFjRE_u"
      },
      "execution_count": null,
      "outputs": []
    }
  ]
}