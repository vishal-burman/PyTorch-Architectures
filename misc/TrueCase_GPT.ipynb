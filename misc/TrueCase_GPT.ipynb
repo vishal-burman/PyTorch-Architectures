{
  "nbformat": 4,
  "nbformat_minor": 0,
  "metadata": {
    "colab": {
      "provenance": [],
      "authorship_tag": "ABX9TyOQCA1s631EsMPwZpS8DbOQ",
      "include_colab_link": true
    },
    "kernelspec": {
      "name": "python3",
      "display_name": "Python 3"
    },
    "language_info": {
      "name": "python"
    }
  },
  "cells": [
    {
      "cell_type": "markdown",
      "metadata": {
        "id": "view-in-github",
        "colab_type": "text"
      },
      "source": [
        "<a href=\"https://colab.research.google.com/github/vishal-burman/PyTorch-Architectures/blob/master/misc/TrueCase_GPT.ipynb\" target=\"_parent\"><img src=\"https://colab.research.google.com/assets/colab-badge.svg\" alt=\"Open In Colab\"/></a>"
      ]
    },
    {
      "cell_type": "markdown",
      "source": [
        "## **This is an in-progress draft!**"
      ],
      "metadata": {
        "id": "PZxtcQze6NZz"
      }
    },
    {
      "cell_type": "code",
      "execution_count": 1,
      "metadata": {
        "id": "tKTH9TIx2XCE"
      },
      "outputs": [],
      "source": [
        "! pip install -Uq transformers sentence-transformers datasets"
      ]
    },
    {
      "cell_type": "code",
      "source": [
        "from datasets import load_dataset\n",
        "import nltk\n",
        "from nltk.tokenize import sent_tokenize, word_tokenize\n",
        "import random\n",
        "from tqdm.auto import tqdm\n",
        "from typing import List\n",
        "random.seed(1234)\n",
        "nltk.download(\"punkt\")"
      ],
      "metadata": {
        "colab": {
          "base_uri": "https://localhost:8080/"
        },
        "id": "dXEEJytN3lF5",
        "outputId": "2bdbe766-bb42-4239-ac11-747abd464268"
      },
      "execution_count": 15,
      "outputs": [
        {
          "output_type": "stream",
          "name": "stderr",
          "text": [
            "[nltk_data] Downloading package punkt to /root/nltk_data...\n",
            "[nltk_data]   Package punkt is already up-to-date!\n"
          ]
        },
        {
          "output_type": "execute_result",
          "data": {
            "text/plain": [
              "True"
            ]
          },
          "metadata": {},
          "execution_count": 15
        }
      ]
    },
    {
      "cell_type": "code",
      "source": [
        "dataset = load_dataset(\"wikitext\", \"wikitext-103-v1\", split=\"train\", streaming=True)"
      ],
      "metadata": {
        "id": "SnhNN9i33umk"
      },
      "execution_count": 2,
      "outputs": []
    },
    {
      "cell_type": "code",
      "source": [
        "def get_word_tokens(text: str) -> List[str]:\n",
        "  word_tokens = word_tokenize(text)\n",
        "  return word_tokens\n",
        "\n",
        "def get_sent_tokens(text: str) -> List[str]:\n",
        "  sentence_tokens = sent_tokenize(text)\n",
        "  return sentence_tokens\n",
        "\n",
        "assert len(get_word_tokens(\"This is great\")) == 3\n",
        "assert len(get_sent_tokens(\"This is great. This is sentence 2.\")) == 2"
      ],
      "metadata": {
        "id": "T3tmFrGr62cq"
      },
      "execution_count": 5,
      "outputs": []
    },
    {
      "cell_type": "code",
      "source": [
        "sent_tokens = []\n",
        "for idx, dict_ in enumerate(dataset):\n",
        "  if idx == 100:\n",
        "    break\n",
        "  text = dict_[\"text\"]\n",
        "  if word_tokenize(text) and len(sent_tokenize(text)) > 3:\n",
        "    print(text)\n",
        "    sent_tokens.extend(sent_tokenize(text))"
      ],
      "metadata": {
        "id": "qqXuEIz14hfu"
      },
      "execution_count": null,
      "outputs": []
    },
    {
      "cell_type": "code",
      "source": [
        "random.sample(sent_tokens, 1)[0]"
      ],
      "metadata": {
        "colab": {
          "base_uri": "https://localhost:8080/",
          "height": 35
        },
        "id": "gf9SIv3F4v0h",
        "outputId": "7d4397b6-c193-4dcc-bf99-0d765f1a2dcb"
      },
      "execution_count": 24,
      "outputs": [
        {
          "output_type": "execute_result",
          "data": {
            "text/plain": [
              "'Most of these works were located at or near Arkadelphia on the Ouachita River , 75 miles south from Little Rock .'"
            ],
            "application/vnd.google.colaboratory.intrinsic+json": {
              "type": "string"
            }
          },
          "metadata": {},
          "execution_count": 24
        }
      ]
    },
    {
      "cell_type": "code",
      "source": [],
      "metadata": {
        "id": "y0D3BL3B9ZaW"
      },
      "execution_count": null,
      "outputs": []
    }
  ]
}