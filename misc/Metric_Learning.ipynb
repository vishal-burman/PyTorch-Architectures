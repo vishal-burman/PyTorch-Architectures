{
  "nbformat": 4,
  "nbformat_minor": 0,
  "metadata": {
    "colab": {
      "name": "Metric Learning.ipynb",
      "provenance": [],
      "collapsed_sections": [],
      "authorship_tag": "ABX9TyNsFyIri2qlPAjjQx+0AFPJ",
      "include_colab_link": true
    },
    "kernelspec": {
      "name": "python3",
      "display_name": "Python 3"
    },
    "language_info": {
      "name": "python"
    }
  },
  "cells": [
    {
      "cell_type": "markdown",
      "metadata": {
        "id": "view-in-github",
        "colab_type": "text"
      },
      "source": [
        "<a href=\"https://colab.research.google.com/github/vishal-burman/PyTorch-Architectures/blob/master/misc/Metric_Learning.ipynb\" target=\"_parent\"><img src=\"https://colab.research.google.com/assets/colab-badge.svg\" alt=\"Open In Colab\"/></a>"
      ]
    },
    {
      "cell_type": "code",
      "metadata": {
        "id": "n5uc0bK1Q6jT"
      },
      "source": [
        "import random\n",
        "from collections import defaultdict\n",
        "import numpy as np\n",
        "import matplotlib.pyplot as plt\n",
        "import torch\n",
        "import torch.nn as nn\n",
        "from torch.utils.data import DataLoader, Dataset\n",
        "import torchvision\n",
        "import torchvision.transforms as transforms\n",
        "from torchvision.transforms import functional as F"
      ],
      "execution_count": 1,
      "outputs": []
    },
    {
      "cell_type": "code",
      "metadata": {
        "id": "lsz0Q9OgSPa2"
      },
      "source": [
        "# Hyperparameter Section\n",
        "EPOCHS = 30\n",
        "LR = 1e-3\n",
        "NUM_CLASSES = 10\n",
        "TEMPERATURE = 0.2"
      ],
      "execution_count": 2,
      "outputs": []
    },
    {
      "cell_type": "code",
      "metadata": {
        "id": "7gpa03BrRiga",
        "colab": {
          "base_uri": "https://localhost:8080/"
        },
        "outputId": "6e86a3ef-0d02-4c49-8056-2ef047cff590"
      },
      "source": [
        "transform = transforms.Compose([\n",
        "                                transforms.ToTensor(),\n",
        "                                transforms.Normalize((0.5, 0.5, 0.5), (0.5, 0.5, 0.5))\n",
        "])\n",
        "\n",
        "train_dataset = torchvision.datasets.CIFAR10(root='./data', \n",
        "                                             train=True, \n",
        "                                             transform=transform,\n",
        "                                             download=True)\n",
        "valid_dataset = torchvision.datasets.CIFAR10(root='/.data',\n",
        "                                             train=False,\n",
        "                                             transform=transform,\n",
        "                                             download=True,\n",
        "                                             )"
      ],
      "execution_count": 3,
      "outputs": [
        {
          "output_type": "stream",
          "text": [
            "Files already downloaded and verified\n",
            "Files already downloaded and verified\n"
          ],
          "name": "stdout"
        }
      ]
    },
    {
      "cell_type": "code",
      "metadata": {
        "id": "5Jw-oPPpTUXC"
      },
      "source": [
        "# Form a lookup\n",
        "sample_train_loader = DataLoader(train_dataset,\n",
        "                                 batch_size=1,\n",
        "                                 shuffle=False,)\n",
        "sample_test_loader = DataLoader(valid_dataset,\n",
        "                                batch_size=1,\n",
        "                                shuffle=False)\n",
        "\n",
        "x_train = [sample[0].squeeze(0).numpy() for sample in sample_train_loader]\n",
        "y_train = [sample[1].item() for sample in sample_train_loader]\n",
        "\n",
        "x_test = [sample[0].squeeze(0).numpy() for sample in sample_test_loader]\n",
        "y_test = [sample[1].item() for sample in sample_test_loader]\n",
        "\n",
        "class_idx_to_train = defaultdict(list)\n",
        "for train_idx, y in enumerate(y_train):\n",
        "  class_idx_to_train[y].append(train_idx)\n",
        "\n",
        "class_idx_to_test = defaultdict(list)\n",
        "for test_idx, y in enumerate(y_test):\n",
        "  class_idx_to_test[y].append(test_idx)"
      ],
      "execution_count": 4,
      "outputs": []
    },
    {
      "cell_type": "code",
      "metadata": {
        "colab": {
          "base_uri": "https://localhost:8080/"
        },
        "id": "gzdy3UOrrIOT",
        "outputId": "002da3e9-3b16-493b-a7f5-a2311b43338f"
      },
      "source": [
        "# Check shape\n",
        "print(x_train[0].shape, y_train[0])"
      ],
      "execution_count": 5,
      "outputs": [
        {
          "output_type": "stream",
          "text": [
            "(3, 32, 32) 6\n"
          ],
          "name": "stdout"
        }
      ]
    },
    {
      "cell_type": "code",
      "metadata": {
        "id": "kFNZ1e97XcBW"
      },
      "source": [
        "class AnchorPositivePairs(Dataset):\n",
        "  def __init__(self, class_idx_to_train, num_classes=10):\n",
        "    self.class_idx_to_train = class_idx_to_train\n",
        "    self.num_classes = num_classes\n",
        "\n",
        "  def __len__(self,):\n",
        "    return len(self.class_idx_to_train)\n",
        "  \n",
        "  def __getitem__(self, idx):\n",
        "    anchors = []\n",
        "    positives = []\n",
        "    for class_idx in range(self.num_classes):\n",
        "      examples_for_class = self.class_idx_to_train[class_idx]\n",
        "      anchor_idx = random.choice(examples_for_class)\n",
        "      positive_idx = random.choice(examples_for_class)\n",
        "      while positive_idx == anchor_idx:\n",
        "        positive_idx = random.choice(examples_for_class)\n",
        "      anchors.append(x_train[anchor_idx])\n",
        "      positives.append(x_train[positive_idx])\n",
        "    return {\n",
        "        'anchors': anchors,\n",
        "        'positives': positives,\n",
        "    }\n",
        "  \n",
        "  def collate_fn(self, batch):\n",
        "    for sample in batch:\n",
        "      anchors = sample['anchors']\n",
        "      positives = sample['positives']\n",
        "    anchors = torch.from_numpy(np.stack(anchors))\n",
        "    positives = torch.from_numpy(np.stack(positives))\n",
        "    return {\n",
        "        'anchors': anchors,\n",
        "        'positives': positives,\n",
        "    }"
      ],
      "execution_count": 6,
      "outputs": []
    },
    {
      "cell_type": "code",
      "metadata": {
        "colab": {
          "base_uri": "https://localhost:8080/",
          "height": 237
        },
        "id": "vVFl9wJQp0KJ",
        "outputId": "9a8137ce-1dd9-4042-9446-2f8f8aeaa355"
      },
      "source": [
        "train_dataset = AnchorPositivePairs(class_idx_to_train)\n",
        "train_loader = DataLoader(train_dataset, batch_size=1, collate_fn=train_dataset.collate_fn)\n",
        "for sample in train_loader:\n",
        "  index = 1\n",
        "  img_a = sample['anchors'][index]\n",
        "  img_p = sample['positives'][index]\n",
        "  fig, ax = plt.subplots(1, 2)\n",
        "  ax[0].imshow(img_a.permute(1, 2, 0));\n",
        "  ax[1].imshow(img_p.permute(1, 2, 0));\n",
        "  break"
      ],
      "execution_count": 13,
      "outputs": [
        {
          "output_type": "stream",
          "text": [
            "Clipping input data to the valid range for imshow with RGB data ([0..1] for floats or [0..255] for integers).\n",
            "Clipping input data to the valid range for imshow with RGB data ([0..1] for floats or [0..255] for integers).\n"
          ],
          "name": "stderr"
        },
        {
          "output_type": "display_data",
          "data": {
            "image/png": "[encoded data removed]",
            "text/plain": [
              "<Figure size 432x288 with 2 Axes>"
            ]
          },
          "metadata": {
            "tags": [],
            "needs_background": "light"
          }
        }
      ]
    },
    {
      "cell_type": "code",
      "metadata": {
        "id": "HWP8bEZw5EZt"
      },
      "source": [
        "class MetricEmbedding(nn.Module):\n",
        "  def __init__(self,):\n",
        "    super().__init__()\n",
        "    self.layer_1 = nn.Conv2d(in_channels=3, out_channels=32, kernel_size=3, stride=2)\n",
        "    self.layer_2 = nn.Conv2d(in_channels=32, out_channels=64, kernel_size=3, stride=2)\n",
        "    self.layer_3 = nn.Conv2d(in_channels=64, out_channels=128, kernel_size=3, stride=2)\n",
        "    self.pool = nn.AvgPool2d(kernel_size=3)\n",
        "    self.output = nn.Linear(in_features=128, out_features=8)\n",
        "    self.activation = nn.ReLU()\n",
        "\n",
        "  def forward(self, x):\n",
        "    x = self.activation(self.layer_1(x))\n",
        "    x = self.activation(self.layer_2(x))\n",
        "    x = self.activation(self.layer_3(x))\n",
        "    x = self.pool(x).flatten(1)\n",
        "    logits = self.output(x)\n",
        "    return logits"
      ],
      "execution_count": 14,
      "outputs": []
    },
    {
      "cell_type": "code",
      "metadata": {
        "colab": {
          "base_uri": "https://localhost:8080/"
        },
        "id": "BRtdtzSdG9yw",
        "outputId": "afc722bf-9fcc-4834-bff9-ed58702bbdaa"
      },
      "source": [
        "device = torch.device('cuda:0' if torch.cuda.is_available() else 'cpu')\n",
        "model = MetricEmbedding()\n",
        "model.to(device)\n",
        "\n",
        "params = sum(p.numel() for p in model.parameters() if p.requires_grad)\n",
        "print('Trainable Parameters: ', params)"
      ],
      "execution_count": 15,
      "outputs": [
        {
          "output_type": "stream",
          "text": [
            "Trainable Parameters:  94280\n"
          ],
          "name": "stdout"
        }
      ]
    },
    {
      "cell_type": "code",
      "metadata": {
        "id": "LcjqJ2SyKUv_"
      },
      "source": [
        "optimizer = torch.optim.Adam(model.parameters(), lr=LR)\n",
        "loss_fn = nn.CrossEntropyLoss()"
      ],
      "execution_count": 16,
      "outputs": []
    },
    {
      "cell_type": "code",
      "metadata": {
        "colab": {
          "base_uri": "https://localhost:8080/"
        },
        "id": "-43xKFDtLVVI",
        "outputId": "2ec7f2ab-50ec-431b-959d-7eb76b52535e"
      },
      "source": [
        "model.train()\n",
        "\n",
        "loss_cum = []\n",
        "for epoch in range(EPOCHS):\n",
        "  for step in range(100):\n",
        "    for idx, sample in enumerate(train_loader):\n",
        "      anchors = sample['anchors'].to(device)\n",
        "      positives = sample['positives'].to(device)\n",
        "\n",
        "      anchors_e = model(anchors)\n",
        "      positives_e = model(positives)\n",
        "\n",
        "      similarity = torch.einsum('ae,be->ab', anchors_e, positives_e)\n",
        "      similarity /= TEMPERATURE\n",
        "\n",
        "      labels = torch.arange(NUM_CLASSES)\n",
        "      loss = loss_fn(similarity, labels)\n",
        "      loss_cum.append(loss.item())\n",
        "\n",
        "      loss.backward()\n",
        "      optimizer.step()\n",
        "      optimizer.zero_grad()\n",
        "  loss_mean = torch.tensor(loss_cum).mean().item()\n",
        "  if (epoch + 1) % 10 == 0:\n",
        "    print('Epoch: %04d/%04d || Loss: %.2f' % (epoch + 1, EPOCHS, loss_mean))"
      ],
      "execution_count": 17,
      "outputs": [
        {
          "output_type": "stream",
          "text": [
            "Epoch: 0010/0030 || Loss: 1.90\n",
            "Epoch: 0020/0030 || Loss: 1.78\n",
            "Epoch: 0030/0030 || Loss: 1.69\n"
          ],
          "name": "stdout"
        }
      ]
    },
    {
      "cell_type": "code",
      "metadata": {
        "id": "BEPJQEBERFG2"
      },
      "source": [
        "near_neighbours_per_example = 3\n",
        "model.eval()\n",
        "with torch.set_grad_enabled(False):\n",
        "  torch_test = torch.from_numpy(np.stack(x_test))\n",
        "  embeddings = model(torch_test)\n",
        "  gram_matrix = torch.einsum('ae,be->ab', embeddings, embeddings).numpy()\n",
        "  near_neighbours = np.argsort(gram_matrix.T)[:, -(near_neighbours_per_example + 1) :]"
      ],
      "execution_count": 18,
      "outputs": []
    },
    {
      "cell_type": "code",
      "metadata": {
        "id": "RTyr7cMSbIph"
      },
      "source": [
        "def show_image_row(list_idx):\n",
        "  n = list(reversed(list_idx))[:-1]\n",
        "  p = list_idx[0]\n",
        "  fig, ax = plt.subplots(1, 4)\n",
        "  ax[0].imshow(x_test[p].transpose(1, 2, 0));\n",
        "  ax[1].imshow(x_test[n[0]].transpose(1, 2, 0));\n",
        "  ax[2].imshow(x_test[n[1]].transpose(1, 2, 0));\n",
        "  ax[3].imshow(x_test[n[2]].transpose(1, 2, 0));"
      ],
      "execution_count": 19,
      "outputs": []
    },
    {
      "cell_type": "code",
      "metadata": {
        "colab": {
          "base_uri": "https://localhost:8080/",
          "height": 193
        },
        "id": "-fljIxu0W-fU",
        "outputId": "f7e275f5-d346-439a-e00b-06ef34ec3e22"
      },
      "source": [
        "show_image_row(list(near_neighbours[6]))"
      ],
      "execution_count": 26,
      "outputs": [
        {
          "output_type": "stream",
          "text": [
            "Clipping input data to the valid range for imshow with RGB data ([0..1] for floats or [0..255] for integers).\n",
            "Clipping input data to the valid range for imshow with RGB data ([0..1] for floats or [0..255] for integers).\n",
            "Clipping input data to the valid range for imshow with RGB data ([0..1] for floats or [0..255] for integers).\n",
            "Clipping input data to the valid range for imshow with RGB data ([0..1] for floats or [0..255] for integers).\n"
          ],
          "name": "stderr"
        },
        {
          "output_type": "display_data",
          "data": {
            "image/png": "[encoded data removed]",
            "text/plain": [
              "<Figure size 432x288 with 4 Axes>"
            ]
          },
          "metadata": {
            "tags": [],
            "needs_background": "light"
          }
        }
      ]
    },
    {
      "cell_type": "code",
      "metadata": {
        "colab": {
          "base_uri": "https://localhost:8080/",
          "height": 193
        },
        "id": "31Qe0SbzZTxu",
        "outputId": "be3b684a-e251-4de5-cc34-7374dc48754e"
      },
      "source": [
        "show_image_row(list(near_neighbours[3]))"
      ],
      "execution_count": 29,
      "outputs": [
        {
          "output_type": "stream",
          "text": [
            "Clipping input data to the valid range for imshow with RGB data ([0..1] for floats or [0..255] for integers).\n",
            "Clipping input data to the valid range for imshow with RGB data ([0..1] for floats or [0..255] for integers).\n",
            "Clipping input data to the valid range for imshow with RGB data ([0..1] for floats or [0..255] for integers).\n",
            "Clipping input data to the valid range for imshow with RGB data ([0..1] for floats or [0..255] for integers).\n"
          ],
          "name": "stderr"
        },
        {
          "output_type": "display_data",
          "data": {
            "image/png": "[encoded data removed]",
            "text/plain": [
              "<Figure size 432x288 with 4 Axes>"
            ]
          },
          "metadata": {
            "tags": [],
            "needs_background": "light"
          }
        }
      ]
    },
    {
      "cell_type": "code",
      "metadata": {
        "id": "JillHmK9ljMK"
      },
      "source": [
        ""
      ],
      "execution_count": null,
      "outputs": []
    }
  ]
}