{
  "nbformat": 4,
  "nbformat_minor": 0,
  "metadata": {
    "colab": {
      "name": "Metric Learning.ipynb",
      "provenance": [],
      "collapsed_sections": [],
      "authorship_tag": "ABX9TyMSkz715zv9KuJFna5lXlmr",
      "include_colab_link": true
    },
    "kernelspec": {
      "name": "python3",
      "display_name": "Python 3"
    },
    "language_info": {
      "name": "python"
    }
  },
  "cells": [
    {
      "cell_type": "markdown",
      "metadata": {
        "id": "view-in-github",
        "colab_type": "text"
      },
      "source": [
        "<a href=\"https://colab.research.google.com/github/vishal-burman/PyTorch-Architectures/blob/master/misc/Metric_Learning.ipynb\" target=\"_parent\"><img src=\"https://colab.research.google.com/assets/colab-badge.svg\" alt=\"Open In Colab\"/></a>"
      ]
    },
    {
      "cell_type": "code",
      "metadata": {
        "id": "n5uc0bK1Q6jT"
      },
      "source": [
        "import random\n",
        "from collections import defaultdict\n",
        "import numpy as np\n",
        "import matplotlib.pyplot as plt\n",
        "import torch\n",
        "import torch.nn as nn\n",
        "from torch.utils.data import DataLoader, Dataset\n",
        "import torchvision\n",
        "import torchvision.transforms as transforms\n",
        "from torchvision.transforms import functional as F"
      ],
      "execution_count": 11,
      "outputs": []
    },
    {
      "cell_type": "code",
      "metadata": {
        "id": "lsz0Q9OgSPa2"
      },
      "source": [
        "# Hyperparameter Section\n",
        "EPOCHS = 50\n",
        "LR = 1e-3"
      ],
      "execution_count": 2,
      "outputs": []
    },
    {
      "cell_type": "code",
      "metadata": {
        "id": "7gpa03BrRiga",
        "colab": {
          "base_uri": "https://localhost:8080/"
        },
        "outputId": "65266b41-9aae-474f-a72a-fa1dab2f05c3"
      },
      "source": [
        "transform = transforms.Compose([\n",
        "                                transforms.ToTensor(),\n",
        "                                transforms.Normalize((0.5, 0.5, 0.5), (0.5, 0.5, 0.5))\n",
        "])\n",
        "\n",
        "train_dataset = torchvision.datasets.CIFAR10(root='./data', \n",
        "                                             train=True, \n",
        "                                             transform=transform,\n",
        "                                             download=True)\n",
        "valid_dataset = torchvision.datasets.CIFAR10(root='/.data',\n",
        "                                             train=False,\n",
        "                                             transform=transform,\n",
        "                                             download=True,\n",
        "                                             )"
      ],
      "execution_count": 4,
      "outputs": [
        {
          "output_type": "stream",
          "text": [
            "Files already downloaded and verified\n",
            "Files already downloaded and verified\n"
          ],
          "name": "stdout"
        }
      ]
    },
    {
      "cell_type": "code",
      "metadata": {
        "id": "5Jw-oPPpTUXC"
      },
      "source": [
        "# Form a lookup\n",
        "sample_train_loader = DataLoader(train_dataset,\n",
        "                                 batch_size=1,\n",
        "                                 shuffle=False,)\n",
        "sample_test_loader = DataLoader(valid_dataset,\n",
        "                                batch_size=1,\n",
        "                                shuffle=False)\n",
        "\n",
        "x_train = [sample[0].squeeze(0).numpy() for sample in sample_train_loader]\n",
        "y_train = [sample[1].item() for sample in sample_train_loader]\n",
        "\n",
        "x_test = [sample[0].squeeze(0).numpy() for sample in sample_test_loader]\n",
        "y_test = [sample[1].item() for sample in sample_test_loader]\n",
        "\n",
        "class_idx_to_train = defaultdict(list)\n",
        "for train_idx, y in enumerate(y_train):\n",
        "  class_idx_to_train[y].append(train_idx)\n",
        "\n",
        "class_idx_to_test = defaultdict(list)\n",
        "for test_idx, y in enumerate(y_test):\n",
        "  class_idx_to_test[y].append(test_idx)"
      ],
      "execution_count": 5,
      "outputs": []
    },
    {
      "cell_type": "code",
      "metadata": {
        "colab": {
          "base_uri": "https://localhost:8080/"
        },
        "id": "gzdy3UOrrIOT",
        "outputId": "9b761ba2-0498-45a5-c86e-a6c52764a0d8"
      },
      "source": [
        "# Check shape\n",
        "print(x_train[0].shape, y_train[0])"
      ],
      "execution_count": 6,
      "outputs": [
        {
          "output_type": "stream",
          "text": [
            "(3, 32, 32) 6\n"
          ],
          "name": "stdout"
        }
      ]
    },
    {
      "cell_type": "code",
      "metadata": {
        "id": "kFNZ1e97XcBW"
      },
      "source": [
        "class AnchorPositivePairs(Dataset):\n",
        "  def __init__(self, class_idx_to_train, num_classes=10):\n",
        "    self.class_idx_to_train = class_idx_to_train\n",
        "    self.num_classes = num_classes\n",
        "\n",
        "  def __len__(self,):\n",
        "    return len(self.class_idx_to_train)\n",
        "  \n",
        "  def __getitem__(self, idx):\n",
        "    anchors = []\n",
        "    positives = []\n",
        "    for batch_size in range(idx + 1):\n",
        "      for class_idx in range(self.num_classes):\n",
        "        examples_for_class = self.class_idx_to_train[class_idx]\n",
        "        anchor_idx = random.choice(examples_for_class)\n",
        "        positive_idx = random.choice(examples_for_class)\n",
        "        while positive_idx == anchor_idx:\n",
        "          positive_idx = random.choice(examples_for_class)\n",
        "        anchors.append(x_train[anchor_idx])\n",
        "        positives.append(x_train[positive_idx])\n",
        "    return {\n",
        "        'anchors': anchors,\n",
        "        'positives': positives,\n",
        "    }\n",
        "  \n",
        "  def collate_fn(self, batch):\n",
        "    for sample in batch:\n",
        "      anchors = sample['anchors']\n",
        "      positives = sample['positives']\n",
        "    anchors = torch.from_numpy(np.stack(anchors))\n",
        "    positives = torch.from_numpy(np.stack(positives))\n",
        "    return {\n",
        "        'anchors': anchors,\n",
        "        'positives': positives,\n",
        "    }"
      ],
      "execution_count": 7,
      "outputs": []
    },
    {
      "cell_type": "code",
      "metadata": {
        "colab": {
          "base_uri": "https://localhost:8080/",
          "height": 237
        },
        "id": "vVFl9wJQp0KJ",
        "outputId": "4523b4d1-a0ca-47b1-ed16-c98b33f32c03"
      },
      "source": [
        "sample_dataset = AnchorPositivePairs(class_idx_to_train)\n",
        "loader = DataLoader(sample_dataset, batch_size=1, collate_fn=sample_dataset.collate_fn)\n",
        "for sample in loader:\n",
        "  index = 1\n",
        "  img_a = sample['anchors'][index]\n",
        "  img_p = sample['positives'][index]\n",
        "  fig, ax = plt.subplots(1, 2)\n",
        "  ax[0].imshow(img_a.permute(1, 2, 0));\n",
        "  ax[1].imshow(img_p.permute(1, 2, 0));\n",
        "  break"
      ],
      "execution_count": 9,
      "outputs": [
        {
          "output_type": "stream",
          "text": [
            "Clipping input data to the valid range for imshow with RGB data ([0..1] for floats or [0..255] for integers).\n",
            "Clipping input data to the valid range for imshow with RGB data ([0..1] for floats or [0..255] for integers).\n"
          ],
          "name": "stderr"
        },
        {
          "output_type": "display_data",
          "data": {
            "image/png": "[encoded data removed]",
            "text/plain": [
              "<Figure size 432x288 with 2 Axes>"
            ]
          },
          "metadata": {
            "tags": [],
            "needs_background": "light"
          }
        }
      ]
    },
    {
      "cell_type": "code",
      "metadata": {
        "id": "HWP8bEZw5EZt"
      },
      "source": [
        "class MetricEmbedding(nn.Module):\n",
        "  def __init__(self,):\n",
        "    super().__init__()\n",
        "    self.layer_1 = nn.Conv2d(in_channels=3, out_channels=32, kernel_size=3, stride=2)\n",
        "    self.layer_2 = nn.Conv2d(in_channels=32, out_channels=64, kernel_size=3, stride=2)\n",
        "    self.layer_3 = nn.Conv2d(in_channels=64, out_channels=128, kernel_size=3, stride=2)\n",
        "    self.pool = nn.AvgPool2d(kernel_size=3)\n",
        "    self.output = nn.Linear(in_features=128, out_features=8)\n",
        "    self.activation = nn.ReLU()\n",
        "\n",
        "  def forward(self, x):\n",
        "    x = self.activation(self.layer_1(x))\n",
        "    x = self.activation(self.layer_2(x))\n",
        "    x = self.activation(self.layer_3(x))\n",
        "    x = self.pool(x).flatten(1)\n",
        "    logits = self.output(x)\n",
        "    return logits"
      ],
      "execution_count": 21,
      "outputs": []
    },
    {
      "cell_type": "code",
      "metadata": {
        "id": "BRtdtzSdG9yw"
      },
      "source": [
        ""
      ],
      "execution_count": null,
      "outputs": []
    }
  ]
}