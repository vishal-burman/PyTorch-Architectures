{
  "nbformat": 4,
  "nbformat_minor": 0,
  "metadata": {
    "colab": {
      "name": "test_sample_T5AutoComplete.ipynb",
      "provenance": [],
      "collapsed_sections": [],
      "authorship_tag": "ABX9TyNfOk0W9SmvqAey53g/+Yru",
      "include_colab_link": true
    },
    "kernelspec": {
      "name": "python3",
      "display_name": "Python 3"
    },
    "accelerator": "GPU",
    "widgets": {
      "application/vnd.jupyter.widget-state+json": {
        "fa30b034baa3468dad706b380acf0eac": {
          "model_module": "@jupyter-widgets/controls",
          "model_name": "HBoxModel",
          "state": {
            "_view_name": "HBoxView",
            "_dom_classes": [],
            "_model_name": "HBoxModel",
            "_view_module": "@jupyter-widgets/controls",
            "_model_module_version": "1.5.0",
            "_view_count": null,
            "_view_module_version": "1.5.0",
            "box_style": "",
            "layout": "IPY_MODEL_e2b169c5c32447ebb69c81d758104c7f",
            "_model_module": "@jupyter-widgets/controls",
            "children": [
              "IPY_MODEL_1817e3cc70194106ab753b5849df95d1",
              "IPY_MODEL_78b11392101a44f08e6290e357b99cf5"
            ]
          }
        },
        "e2b169c5c32447ebb69c81d758104c7f": {
          "model_module": "@jupyter-widgets/base",
          "model_name": "LayoutModel",
          "state": {
            "_view_name": "LayoutView",
            "grid_template_rows": null,
            "right": null,
            "justify_content": null,
            "_view_module": "@jupyter-widgets/base",
            "overflow": null,
            "_model_module_version": "1.2.0",
            "_view_count": null,
            "flex_flow": null,
            "width": null,
            "min_width": null,
            "border": null,
            "align_items": null,
            "bottom": null,
            "_model_module": "@jupyter-widgets/base",
            "top": null,
            "grid_column": null,
            "overflow_y": null,
            "overflow_x": null,
            "grid_auto_flow": null,
            "grid_area": null,
            "grid_template_columns": null,
            "flex": null,
            "_model_name": "LayoutModel",
            "justify_items": null,
            "grid_row": null,
            "max_height": null,
            "align_content": null,
            "visibility": null,
            "align_self": null,
            "height": null,
            "min_height": null,
            "padding": null,
            "grid_auto_rows": null,
            "grid_gap": null,
            "max_width": null,
            "order": null,
            "_view_module_version": "1.2.0",
            "grid_template_areas": null,
            "object_position": null,
            "object_fit": null,
            "grid_auto_columns": null,
            "margin": null,
            "display": null,
            "left": null
          }
        },
        "1817e3cc70194106ab753b5849df95d1": {
          "model_module": "@jupyter-widgets/controls",
          "model_name": "FloatProgressModel",
          "state": {
            "_view_name": "ProgressView",
            "style": "IPY_MODEL_20d7cdda02ae46af85357005f055b41d",
            "_dom_classes": [],
            "description": "Downloading: 100%",
            "_model_name": "FloatProgressModel",
            "bar_style": "success",
            "max": 791656,
            "_view_module": "@jupyter-widgets/controls",
            "_model_module_version": "1.5.0",
            "value": 791656,
            "_view_count": null,
            "_view_module_version": "1.5.0",
            "orientation": "horizontal",
            "min": 0,
            "description_tooltip": null,
            "_model_module": "@jupyter-widgets/controls",
            "layout": "IPY_MODEL_be0ad5e2ee324872b92bab41c9223f6a"
          }
        },
        "78b11392101a44f08e6290e357b99cf5": {
          "model_module": "@jupyter-widgets/controls",
          "model_name": "HTMLModel",
          "state": {
            "_view_name": "HTMLView",
            "style": "IPY_MODEL_1ba1ade7fffb44d484c26f4c461a3792",
            "_dom_classes": [],
            "description": "",
            "_model_name": "HTMLModel",
            "placeholder": "​",
            "_view_module": "@jupyter-widgets/controls",
            "_model_module_version": "1.5.0",
            "value": " 792k/792k [00:29&lt;00:00, 26.7kB/s]",
            "_view_count": null,
            "_view_module_version": "1.5.0",
            "description_tooltip": null,
            "_model_module": "@jupyter-widgets/controls",
            "layout": "IPY_MODEL_99548fa249314e34ac697297a11f9ead"
          }
        },
        "20d7cdda02ae46af85357005f055b41d": {
          "model_module": "@jupyter-widgets/controls",
          "model_name": "ProgressStyleModel",
          "state": {
            "_view_name": "StyleView",
            "_model_name": "ProgressStyleModel",
            "description_width": "initial",
            "_view_module": "@jupyter-widgets/base",
            "_model_module_version": "1.5.0",
            "_view_count": null,
            "_view_module_version": "1.2.0",
            "bar_color": null,
            "_model_module": "@jupyter-widgets/controls"
          }
        },
        "be0ad5e2ee324872b92bab41c9223f6a": {
          "model_module": "@jupyter-widgets/base",
          "model_name": "LayoutModel",
          "state": {
            "_view_name": "LayoutView",
            "grid_template_rows": null,
            "right": null,
            "justify_content": null,
            "_view_module": "@jupyter-widgets/base",
            "overflow": null,
            "_model_module_version": "1.2.0",
            "_view_count": null,
            "flex_flow": null,
            "width": null,
            "min_width": null,
            "border": null,
            "align_items": null,
            "bottom": null,
            "_model_module": "@jupyter-widgets/base",
            "top": null,
            "grid_column": null,
            "overflow_y": null,
            "overflow_x": null,
            "grid_auto_flow": null,
            "grid_area": null,
            "grid_template_columns": null,
            "flex": null,
            "_model_name": "LayoutModel",
            "justify_items": null,
            "grid_row": null,
            "max_height": null,
            "align_content": null,
            "visibility": null,
            "align_self": null,
            "height": null,
            "min_height": null,
            "padding": null,
            "grid_auto_rows": null,
            "grid_gap": null,
            "max_width": null,
            "order": null,
            "_view_module_version": "1.2.0",
            "grid_template_areas": null,
            "object_position": null,
            "object_fit": null,
            "grid_auto_columns": null,
            "margin": null,
            "display": null,
            "left": null
          }
        },
        "1ba1ade7fffb44d484c26f4c461a3792": {
          "model_module": "@jupyter-widgets/controls",
          "model_name": "DescriptionStyleModel",
          "state": {
            "_view_name": "StyleView",
            "_model_name": "DescriptionStyleModel",
            "description_width": "",
            "_view_module": "@jupyter-widgets/base",
            "_model_module_version": "1.5.0",
            "_view_count": null,
            "_view_module_version": "1.2.0",
            "_model_module": "@jupyter-widgets/controls"
          }
        },
        "99548fa249314e34ac697297a11f9ead": {
          "model_module": "@jupyter-widgets/base",
          "model_name": "LayoutModel",
          "state": {
            "_view_name": "LayoutView",
            "grid_template_rows": null,
            "right": null,
            "justify_content": null,
            "_view_module": "@jupyter-widgets/base",
            "overflow": null,
            "_model_module_version": "1.2.0",
            "_view_count": null,
            "flex_flow": null,
            "width": null,
            "min_width": null,
            "border": null,
            "align_items": null,
            "bottom": null,
            "_model_module": "@jupyter-widgets/base",
            "top": null,
            "grid_column": null,
            "overflow_y": null,
            "overflow_x": null,
            "grid_auto_flow": null,
            "grid_area": null,
            "grid_template_columns": null,
            "flex": null,
            "_model_name": "LayoutModel",
            "justify_items": null,
            "grid_row": null,
            "max_height": null,
            "align_content": null,
            "visibility": null,
            "align_self": null,
            "height": null,
            "min_height": null,
            "padding": null,
            "grid_auto_rows": null,
            "grid_gap": null,
            "max_width": null,
            "order": null,
            "_view_module_version": "1.2.0",
            "grid_template_areas": null,
            "object_position": null,
            "object_fit": null,
            "grid_auto_columns": null,
            "margin": null,
            "display": null,
            "left": null
          }
        },
        "e9d701e7b47849abbfe455535a5137a8": {
          "model_module": "@jupyter-widgets/controls",
          "model_name": "HBoxModel",
          "state": {
            "_view_name": "HBoxView",
            "_dom_classes": [],
            "_model_name": "HBoxModel",
            "_view_module": "@jupyter-widgets/controls",
            "_model_module_version": "1.5.0",
            "_view_count": null,
            "_view_module_version": "1.5.0",
            "box_style": "",
            "layout": "IPY_MODEL_bdf0ad8d6416484f85c127ed5a64a2df",
            "_model_module": "@jupyter-widgets/controls",
            "children": [
              "IPY_MODEL_f513aac633ae4c48bb4f4b1c32c5d311",
              "IPY_MODEL_6bab7d59024d4cfe9471b400a50c90b5"
            ]
          }
        },
        "bdf0ad8d6416484f85c127ed5a64a2df": {
          "model_module": "@jupyter-widgets/base",
          "model_name": "LayoutModel",
          "state": {
            "_view_name": "LayoutView",
            "grid_template_rows": null,
            "right": null,
            "justify_content": null,
            "_view_module": "@jupyter-widgets/base",
            "overflow": null,
            "_model_module_version": "1.2.0",
            "_view_count": null,
            "flex_flow": null,
            "width": null,
            "min_width": null,
            "border": null,
            "align_items": null,
            "bottom": null,
            "_model_module": "@jupyter-widgets/base",
            "top": null,
            "grid_column": null,
            "overflow_y": null,
            "overflow_x": null,
            "grid_auto_flow": null,
            "grid_area": null,
            "grid_template_columns": null,
            "flex": null,
            "_model_name": "LayoutModel",
            "justify_items": null,
            "grid_row": null,
            "max_height": null,
            "align_content": null,
            "visibility": null,
            "align_self": null,
            "height": null,
            "min_height": null,
            "padding": null,
            "grid_auto_rows": null,
            "grid_gap": null,
            "max_width": null,
            "order": null,
            "_view_module_version": "1.2.0",
            "grid_template_areas": null,
            "object_position": null,
            "object_fit": null,
            "grid_auto_columns": null,
            "margin": null,
            "display": null,
            "left": null
          }
        },
        "f513aac633ae4c48bb4f4b1c32c5d311": {
          "model_module": "@jupyter-widgets/controls",
          "model_name": "FloatProgressModel",
          "state": {
            "_view_name": "ProgressView",
            "style": "IPY_MODEL_ffd315cc63b449dbab2c292bf6485eed",
            "_dom_classes": [],
            "description": "Downloading: 100%",
            "_model_name": "FloatProgressModel",
            "bar_style": "success",
            "max": 1199,
            "_view_module": "@jupyter-widgets/controls",
            "_model_module_version": "1.5.0",
            "value": 1199,
            "_view_count": null,
            "_view_module_version": "1.5.0",
            "orientation": "horizontal",
            "min": 0,
            "description_tooltip": null,
            "_model_module": "@jupyter-widgets/controls",
            "layout": "IPY_MODEL_fc6a8ab6719c4eabb350e6d74a9474c3"
          }
        },
        "6bab7d59024d4cfe9471b400a50c90b5": {
          "model_module": "@jupyter-widgets/controls",
          "model_name": "HTMLModel",
          "state": {
            "_view_name": "HTMLView",
            "style": "IPY_MODEL_49d66e8602634358aceab1df6f0e0bdd",
            "_dom_classes": [],
            "description": "",
            "_model_name": "HTMLModel",
            "placeholder": "​",
            "_view_module": "@jupyter-widgets/controls",
            "_model_module_version": "1.5.0",
            "value": " 1.20k/1.20k [00:00&lt;00:00, 3.31kB/s]",
            "_view_count": null,
            "_view_module_version": "1.5.0",
            "description_tooltip": null,
            "_model_module": "@jupyter-widgets/controls",
            "layout": "IPY_MODEL_2cb1c9bd2edf4b9782c2b32efbb7986b"
          }
        },
        "ffd315cc63b449dbab2c292bf6485eed": {
          "model_module": "@jupyter-widgets/controls",
          "model_name": "ProgressStyleModel",
          "state": {
            "_view_name": "StyleView",
            "_model_name": "ProgressStyleModel",
            "description_width": "initial",
            "_view_module": "@jupyter-widgets/base",
            "_model_module_version": "1.5.0",
            "_view_count": null,
            "_view_module_version": "1.2.0",
            "bar_color": null,
            "_model_module": "@jupyter-widgets/controls"
          }
        },
        "fc6a8ab6719c4eabb350e6d74a9474c3": {
          "model_module": "@jupyter-widgets/base",
          "model_name": "LayoutModel",
          "state": {
            "_view_name": "LayoutView",
            "grid_template_rows": null,
            "right": null,
            "justify_content": null,
            "_view_module": "@jupyter-widgets/base",
            "overflow": null,
            "_model_module_version": "1.2.0",
            "_view_count": null,
            "flex_flow": null,
            "width": null,
            "min_width": null,
            "border": null,
            "align_items": null,
            "bottom": null,
            "_model_module": "@jupyter-widgets/base",
            "top": null,
            "grid_column": null,
            "overflow_y": null,
            "overflow_x": null,
            "grid_auto_flow": null,
            "grid_area": null,
            "grid_template_columns": null,
            "flex": null,
            "_model_name": "LayoutModel",
            "justify_items": null,
            "grid_row": null,
            "max_height": null,
            "align_content": null,
            "visibility": null,
            "align_self": null,
            "height": null,
            "min_height": null,
            "padding": null,
            "grid_auto_rows": null,
            "grid_gap": null,
            "max_width": null,
            "order": null,
            "_view_module_version": "1.2.0",
            "grid_template_areas": null,
            "object_position": null,
            "object_fit": null,
            "grid_auto_columns": null,
            "margin": null,
            "display": null,
            "left": null
          }
        },
        "49d66e8602634358aceab1df6f0e0bdd": {
          "model_module": "@jupyter-widgets/controls",
          "model_name": "DescriptionStyleModel",
          "state": {
            "_view_name": "StyleView",
            "_model_name": "DescriptionStyleModel",
            "description_width": "",
            "_view_module": "@jupyter-widgets/base",
            "_model_module_version": "1.5.0",
            "_view_count": null,
            "_view_module_version": "1.2.0",
            "_model_module": "@jupyter-widgets/controls"
          }
        },
        "2cb1c9bd2edf4b9782c2b32efbb7986b": {
          "model_module": "@jupyter-widgets/base",
          "model_name": "LayoutModel",
          "state": {
            "_view_name": "LayoutView",
            "grid_template_rows": null,
            "right": null,
            "justify_content": null,
            "_view_module": "@jupyter-widgets/base",
            "overflow": null,
            "_model_module_version": "1.2.0",
            "_view_count": null,
            "flex_flow": null,
            "width": null,
            "min_width": null,
            "border": null,
            "align_items": null,
            "bottom": null,
            "_model_module": "@jupyter-widgets/base",
            "top": null,
            "grid_column": null,
            "overflow_y": null,
            "overflow_x": null,
            "grid_auto_flow": null,
            "grid_area": null,
            "grid_template_columns": null,
            "flex": null,
            "_model_name": "LayoutModel",
            "justify_items": null,
            "grid_row": null,
            "max_height": null,
            "align_content": null,
            "visibility": null,
            "align_self": null,
            "height": null,
            "min_height": null,
            "padding": null,
            "grid_auto_rows": null,
            "grid_gap": null,
            "max_width": null,
            "order": null,
            "_view_module_version": "1.2.0",
            "grid_template_areas": null,
            "object_position": null,
            "object_fit": null,
            "grid_auto_columns": null,
            "margin": null,
            "display": null,
            "left": null
          }
        },
        "0ed960e9062f4fcca63604818fc3d4ff": {
          "model_module": "@jupyter-widgets/controls",
          "model_name": "HBoxModel",
          "state": {
            "_view_name": "HBoxView",
            "_dom_classes": [],
            "_model_name": "HBoxModel",
            "_view_module": "@jupyter-widgets/controls",
            "_model_module_version": "1.5.0",
            "_view_count": null,
            "_view_module_version": "1.5.0",
            "box_style": "",
            "layout": "IPY_MODEL_53071f6090d7441aa86e7732c3614f1c",
            "_model_module": "@jupyter-widgets/controls",
            "children": [
              "IPY_MODEL_3132def1a76047b29624ef5094c282e8",
              "IPY_MODEL_3f933a3b22eb474d880970cf5ed973ee"
            ]
          }
        },
        "53071f6090d7441aa86e7732c3614f1c": {
          "model_module": "@jupyter-widgets/base",
          "model_name": "LayoutModel",
          "state": {
            "_view_name": "LayoutView",
            "grid_template_rows": null,
            "right": null,
            "justify_content": null,
            "_view_module": "@jupyter-widgets/base",
            "overflow": null,
            "_model_module_version": "1.2.0",
            "_view_count": null,
            "flex_flow": null,
            "width": null,
            "min_width": null,
            "border": null,
            "align_items": null,
            "bottom": null,
            "_model_module": "@jupyter-widgets/base",
            "top": null,
            "grid_column": null,
            "overflow_y": null,
            "overflow_x": null,
            "grid_auto_flow": null,
            "grid_area": null,
            "grid_template_columns": null,
            "flex": null,
            "_model_name": "LayoutModel",
            "justify_items": null,
            "grid_row": null,
            "max_height": null,
            "align_content": null,
            "visibility": null,
            "align_self": null,
            "height": null,
            "min_height": null,
            "padding": null,
            "grid_auto_rows": null,
            "grid_gap": null,
            "max_width": null,
            "order": null,
            "_view_module_version": "1.2.0",
            "grid_template_areas": null,
            "object_position": null,
            "object_fit": null,
            "grid_auto_columns": null,
            "margin": null,
            "display": null,
            "left": null
          }
        },
        "3132def1a76047b29624ef5094c282e8": {
          "model_module": "@jupyter-widgets/controls",
          "model_name": "FloatProgressModel",
          "state": {
            "_view_name": "ProgressView",
            "style": "IPY_MODEL_89dc243001fe4606b82d05616f4e69e2",
            "_dom_classes": [],
            "description": "Downloading: 100%",
            "_model_name": "FloatProgressModel",
            "bar_style": "success",
            "max": 891691430,
            "_view_module": "@jupyter-widgets/controls",
            "_model_module_version": "1.5.0",
            "value": 891691430,
            "_view_count": null,
            "_view_module_version": "1.5.0",
            "orientation": "horizontal",
            "min": 0,
            "description_tooltip": null,
            "_model_module": "@jupyter-widgets/controls",
            "layout": "IPY_MODEL_eac24d553bd6403b8f8b83133ebfb7da"
          }
        },
        "3f933a3b22eb474d880970cf5ed973ee": {
          "model_module": "@jupyter-widgets/controls",
          "model_name": "HTMLModel",
          "state": {
            "_view_name": "HTMLView",
            "style": "IPY_MODEL_4dd9d4a936de4786ae18ec3f7b496a69",
            "_dom_classes": [],
            "description": "",
            "_model_name": "HTMLModel",
            "placeholder": "​",
            "_view_module": "@jupyter-widgets/controls",
            "_model_module_version": "1.5.0",
            "value": " 892M/892M [00:28&lt;00:00, 31.6MB/s]",
            "_view_count": null,
            "_view_module_version": "1.5.0",
            "description_tooltip": null,
            "_model_module": "@jupyter-widgets/controls",
            "layout": "IPY_MODEL_17df0e8914754b6ebed2aa40d4a0e488"
          }
        },
        "89dc243001fe4606b82d05616f4e69e2": {
          "model_module": "@jupyter-widgets/controls",
          "model_name": "ProgressStyleModel",
          "state": {
            "_view_name": "StyleView",
            "_model_name": "ProgressStyleModel",
            "description_width": "initial",
            "_view_module": "@jupyter-widgets/base",
            "_model_module_version": "1.5.0",
            "_view_count": null,
            "_view_module_version": "1.2.0",
            "bar_color": null,
            "_model_module": "@jupyter-widgets/controls"
          }
        },
        "eac24d553bd6403b8f8b83133ebfb7da": {
          "model_module": "@jupyter-widgets/base",
          "model_name": "LayoutModel",
          "state": {
            "_view_name": "LayoutView",
            "grid_template_rows": null,
            "right": null,
            "justify_content": null,
            "_view_module": "@jupyter-widgets/base",
            "overflow": null,
            "_model_module_version": "1.2.0",
            "_view_count": null,
            "flex_flow": null,
            "width": null,
            "min_width": null,
            "border": null,
            "align_items": null,
            "bottom": null,
            "_model_module": "@jupyter-widgets/base",
            "top": null,
            "grid_column": null,
            "overflow_y": null,
            "overflow_x": null,
            "grid_auto_flow": null,
            "grid_area": null,
            "grid_template_columns": null,
            "flex": null,
            "_model_name": "LayoutModel",
            "justify_items": null,
            "grid_row": null,
            "max_height": null,
            "align_content": null,
            "visibility": null,
            "align_self": null,
            "height": null,
            "min_height": null,
            "padding": null,
            "grid_auto_rows": null,
            "grid_gap": null,
            "max_width": null,
            "order": null,
            "_view_module_version": "1.2.0",
            "grid_template_areas": null,
            "object_position": null,
            "object_fit": null,
            "grid_auto_columns": null,
            "margin": null,
            "display": null,
            "left": null
          }
        },
        "4dd9d4a936de4786ae18ec3f7b496a69": {
          "model_module": "@jupyter-widgets/controls",
          "model_name": "DescriptionStyleModel",
          "state": {
            "_view_name": "StyleView",
            "_model_name": "DescriptionStyleModel",
            "description_width": "",
            "_view_module": "@jupyter-widgets/base",
            "_model_module_version": "1.5.0",
            "_view_count": null,
            "_view_module_version": "1.2.0",
            "_model_module": "@jupyter-widgets/controls"
          }
        },
        "17df0e8914754b6ebed2aa40d4a0e488": {
          "model_module": "@jupyter-widgets/base",
          "model_name": "LayoutModel",
          "state": {
            "_view_name": "LayoutView",
            "grid_template_rows": null,
            "right": null,
            "justify_content": null,
            "_view_module": "@jupyter-widgets/base",
            "overflow": null,
            "_model_module_version": "1.2.0",
            "_view_count": null,
            "flex_flow": null,
            "width": null,
            "min_width": null,
            "border": null,
            "align_items": null,
            "bottom": null,
            "_model_module": "@jupyter-widgets/base",
            "top": null,
            "grid_column": null,
            "overflow_y": null,
            "overflow_x": null,
            "grid_auto_flow": null,
            "grid_area": null,
            "grid_template_columns": null,
            "flex": null,
            "_model_name": "LayoutModel",
            "justify_items": null,
            "grid_row": null,
            "max_height": null,
            "align_content": null,
            "visibility": null,
            "align_self": null,
            "height": null,
            "min_height": null,
            "padding": null,
            "grid_auto_rows": null,
            "grid_gap": null,
            "max_width": null,
            "order": null,
            "_view_module_version": "1.2.0",
            "grid_template_areas": null,
            "object_position": null,
            "object_fit": null,
            "grid_auto_columns": null,
            "margin": null,
            "display": null,
            "left": null
          }
        }
      }
    }
  },
  "cells": [
    {
      "cell_type": "markdown",
      "metadata": {
        "id": "view-in-github",
        "colab_type": "text"
      },
      "source": [
        "<a href=\"https://colab.research.google.com/github/vishal-burman/PyTorch-Architectures/blob/master/misc/test_sample_T5AutoComplete.ipynb\" target=\"_parent\"><img src=\"https://colab.research.google.com/assets/colab-badge.svg\" alt=\"Open In Colab\"/></a>"
      ]
    },
    {
      "cell_type": "code",
      "metadata": {
        "colab": {
          "base_uri": "https://localhost:8080/"
        },
        "id": "7MXxLSPYKxvM",
        "outputId": "8fe456bd-f563-465d-968e-9ff2e764b85e"
      },
      "source": [
        "! nvidia-smi"
      ],
      "execution_count": 1,
      "outputs": [
        {
          "output_type": "stream",
          "text": [
            "Wed Jan 20 14:20:40 2021       \n",
            "+-----------------------------------------------------------------------------+\n",
            "| NVIDIA-SMI 460.32.03    Driver Version: 418.67       CUDA Version: 10.1     |\n",
            "|-------------------------------+----------------------+----------------------+\n",
            "| GPU  Name        Persistence-M| Bus-Id        Disp.A | Volatile Uncorr. ECC |\n",
            "| Fan  Temp  Perf  Pwr:Usage/Cap|         Memory-Usage | GPU-Util  Compute M. |\n",
            "|                               |                      |               MIG M. |\n",
            "|===============================+======================+======================|\n",
            "|   0  Tesla P100-PCIE...  Off  | 00000000:00:04.0 Off |                    0 |\n",
            "| N/A   40C    P0    28W / 250W |      0MiB / 16280MiB |      0%      Default |\n",
            "|                               |                      |                 ERR! |\n",
            "+-------------------------------+----------------------+----------------------+\n",
            "                                                                               \n",
            "+-----------------------------------------------------------------------------+\n",
            "| Processes:                                                                  |\n",
            "|  GPU   GI   CI        PID   Type   Process name                  GPU Memory |\n",
            "|        ID   ID                                                   Usage      |\n",
            "|=============================================================================|\n",
            "|  No running processes found                                                 |\n",
            "+-----------------------------------------------------------------------------+\n"
          ],
          "name": "stdout"
        }
      ]
    },
    {
      "cell_type": "code",
      "metadata": {
        "id": "nADgdqySbSv7"
      },
      "source": [
        "! pip install transformers\r\n",
        "! pip install datasets\r\n",
        "! pip install sentencepiece"
      ],
      "execution_count": null,
      "outputs": []
    },
    {
      "cell_type": "code",
      "metadata": {
        "id": "dj5XP0hQuSMw"
      },
      "source": [
        "# Restart the runtime after this !!\r\n",
        "! python -m spacy download en_core_web_md"
      ],
      "execution_count": null,
      "outputs": []
    },
    {
      "cell_type": "code",
      "metadata": {
        "id": "dYiVGrVKcuR8"
      },
      "source": [
        "import time\r\n",
        "import random\r\n",
        "\r\n",
        "import spacy\r\n",
        "\r\n",
        "import torch\r\n",
        "import torch.nn as nn\r\n",
        "import torch.nn.functional as F\r\n",
        "\r\n",
        "from torch.utils.data import DataLoader, Dataset\r\n",
        "\r\n",
        "from datasets import load_dataset\r\n",
        "from transformers import T5Tokenizer, T5ForConditionalGeneration"
      ],
      "execution_count": 1,
      "outputs": []
    },
    {
      "cell_type": "code",
      "metadata": {
        "id": "310bFaykJeof"
      },
      "source": [
        "nlp = spacy.load('en_core_web_md')\r\n",
        "device = torch.device('cuda:0' if torch.cuda.is_available() else 'cpu')"
      ],
      "execution_count": 2,
      "outputs": []
    },
    {
      "cell_type": "code",
      "metadata": {
        "id": "kdn1Z18JJmOX",
        "colab": {
          "base_uri": "https://localhost:8080/"
        },
        "outputId": "d686d995-1ed8-4b41-ce47-b6d8dece7e47"
      },
      "source": [
        "dataset_quora = load_dataset('quora')\r\n",
        "dataset_cnn = load_dataset('cnn_dailymail', '3.0.0')"
      ],
      "execution_count": 3,
      "outputs": [
        {
          "output_type": "stream",
          "text": [
            "Using custom data configuration default\n",
            "Reusing dataset quora (/root/.cache/huggingface/datasets/quora/default/0.0.0/2be517cf0ac6de94b77a103a36b141347a13f40637fbebaccb56ddbe397876be)\n",
            "Reusing dataset cnn_dailymail (/root/.cache/huggingface/datasets/cnn_dailymail/3.0.0/3.0.0/0128610a44e10f25b4af6689441c72af86205282d26399642f7db38fa7535602)\n"
          ],
          "name": "stderr"
        }
      ]
    },
    {
      "cell_type": "code",
      "metadata": {
        "id": "216r9m-tJpF0",
        "colab": {
          "base_uri": "https://localhost:8080/"
        },
        "outputId": "01ee0a5f-b2a2-4e52-f791-bc818e7af8c6"
      },
      "source": [
        "start_time = time.time()\r\n",
        "samples = dataset_cnn['train']['highlights']\r\n",
        "samples_cnn = []\r\n",
        "for sample in samples:\r\n",
        "  if len(samples_cnn) >= 50000:\r\n",
        "    break\r\n",
        "  doc = nlp(sample)\r\n",
        "  for sent in doc.sents:\r\n",
        "    sentence = sent.string.strip()\r\n",
        "    if len(sentence.split(' ')) >=5 and len(sentence.split(' ')) <= 16:\r\n",
        "      samples_cnn.append(sentence)\r\n",
        "elapsed_time = (time.time() - start_time) / 60\r\n",
        "samples_cnn = samples_cnn[:50000]\r\n",
        "print('Elapsed Time: %.2f min' % (elapsed_time))"
      ],
      "execution_count": 4,
      "outputs": [
        {
          "output_type": "stream",
          "text": [
            "Elapsed Time: 3.50 min\n"
          ],
          "name": "stdout"
        }
      ]
    },
    {
      "cell_type": "code",
      "metadata": {
        "id": "0r9zpactKZ79"
      },
      "source": [
        "samples = dataset_quora['train']['questions']\r\n",
        "samples_quora = [sample['text'][0] for sample in samples if len(sample['text'][0].split(' ')) >= 5 and len(sample['text'][0].split(' ')) <= 16]\r\n",
        "samples_quora = samples_quora[:50000]"
      ],
      "execution_count": 5,
      "outputs": []
    },
    {
      "cell_type": "code",
      "metadata": {
        "colab": {
          "base_uri": "https://localhost:8080/"
        },
        "id": "2bsWtH-7ynL_",
        "outputId": "fa4124d1-8f09-405b-9b9e-b51b03e21281"
      },
      "source": [
        "print('No. of samples from CNN Dailymail: ', len(samples_cnn))\r\n",
        "print('No. of samples from Quora: ', len(samples_quora))"
      ],
      "execution_count": 6,
      "outputs": [
        {
          "output_type": "stream",
          "text": [
            "No. of samples from CNN Dailymail:  50000\n",
            "No. of samples from Quora:  50000\n"
          ],
          "name": "stdout"
        }
      ]
    },
    {
      "cell_type": "code",
      "metadata": {
        "id": "Dpg32ZMa16vQ"
      },
      "source": [
        "samples = []\r\n",
        "samples.extend(samples_cnn)\r\n",
        "samples.extend(samples_quora)\r\n",
        "random.shuffle(samples) # Shuffling statements and questions\r\n",
        "\r\n",
        "train_samples = samples[:80000]\r\n",
        "valid_samples = samples[80000:]"
      ],
      "execution_count": 7,
      "outputs": []
    },
    {
      "cell_type": "code",
      "metadata": {
        "colab": {
          "base_uri": "https://localhost:8080/",
          "height": 187,
          "referenced_widgets": [
            "fa30b034baa3468dad706b380acf0eac",
            "e2b169c5c32447ebb69c81d758104c7f",
            "1817e3cc70194106ab753b5849df95d1",
            "78b11392101a44f08e6290e357b99cf5",
            "20d7cdda02ae46af85357005f055b41d",
            "be0ad5e2ee324872b92bab41c9223f6a",
            "1ba1ade7fffb44d484c26f4c461a3792",
            "99548fa249314e34ac697297a11f9ead",
            "e9d701e7b47849abbfe455535a5137a8",
            "bdf0ad8d6416484f85c127ed5a64a2df",
            "f513aac633ae4c48bb4f4b1c32c5d311",
            "6bab7d59024d4cfe9471b400a50c90b5",
            "ffd315cc63b449dbab2c292bf6485eed",
            "fc6a8ab6719c4eabb350e6d74a9474c3",
            "49d66e8602634358aceab1df6f0e0bdd",
            "2cb1c9bd2edf4b9782c2b32efbb7986b",
            "0ed960e9062f4fcca63604818fc3d4ff",
            "53071f6090d7441aa86e7732c3614f1c",
            "3132def1a76047b29624ef5094c282e8",
            "3f933a3b22eb474d880970cf5ed973ee",
            "89dc243001fe4606b82d05616f4e69e2",
            "eac24d553bd6403b8f8b83133ebfb7da",
            "4dd9d4a936de4786ae18ec3f7b496a69",
            "17df0e8914754b6ebed2aa40d4a0e488"
          ]
        },
        "id": "H_vStktC3Txb",
        "outputId": "42a322cc-b7d0-4a2e-e0f4-d3abb74eb44d"
      },
      "source": [
        "tokenizer = T5Tokenizer.from_pretrained('t5-base')\r\n",
        "model = T5ForConditionalGeneration.from_pretrained('t5-base')\r\n",
        "model.to(device)\r\n",
        "\r\n",
        "params = sum(p.numel() for p in model.parameters() if p.requires_grad)\r\n",
        "print('Total Trainable Parameters: ', params)"
      ],
      "execution_count": 8,
      "outputs": [
        {
          "output_type": "display_data",
          "data": {
            "application/vnd.jupyter.widget-view+json": {
              "model_id": "fa30b034baa3468dad706b380acf0eac",
              "version_minor": 0,
              "version_major": 2
            },
            "text/plain": [
              "HBox(children=(FloatProgress(value=0.0, description='Downloading', max=791656.0, style=ProgressStyle(descripti…"
            ]
          },
          "metadata": {
            "tags": []
          }
        },
        {
          "output_type": "stream",
          "text": [
            "\n"
          ],
          "name": "stdout"
        },
        {
          "output_type": "display_data",
          "data": {
            "application/vnd.jupyter.widget-view+json": {
              "model_id": "e9d701e7b47849abbfe455535a5137a8",
              "version_minor": 0,
              "version_major": 2
            },
            "text/plain": [
              "HBox(children=(FloatProgress(value=0.0, description='Downloading', max=1199.0, style=ProgressStyle(description…"
            ]
          },
          "metadata": {
            "tags": []
          }
        },
        {
          "output_type": "stream",
          "text": [
            "\n"
          ],
          "name": "stdout"
        },
        {
          "output_type": "display_data",
          "data": {
            "application/vnd.jupyter.widget-view+json": {
              "model_id": "0ed960e9062f4fcca63604818fc3d4ff",
              "version_minor": 0,
              "version_major": 2
            },
            "text/plain": [
              "HBox(children=(FloatProgress(value=0.0, description='Downloading', max=891691430.0, style=ProgressStyle(descri…"
            ]
          },
          "metadata": {
            "tags": []
          }
        },
        {
          "output_type": "stream",
          "text": [
            "\n",
            "Total Trainable Parameters:  222903552\n"
          ],
          "name": "stdout"
        }
      ]
    },
    {
      "cell_type": "code",
      "metadata": {
        "id": "0hbXPezsLbQM"
      },
      "source": [
        "class AutoCompleteDataset(Dataset):\r\n",
        "  def __init__(self, tokenizer, texts_list):\r\n",
        "    self.tokenizer = tokenizer\r\n",
        "    self.texts_list = texts_list\r\n",
        "    self.list_samples = []\r\n",
        "    self.build()\r\n",
        "  \r\n",
        "  def __len__(self):\r\n",
        "    return len(self.list_samples)\r\n",
        "  \r\n",
        "  def __getitem__(self, idx):\r\n",
        "    sample = self.list_samples[idx]\r\n",
        "    return {\r\n",
        "        'input': sample['input_sent'],\r\n",
        "        'target': sample['target_sent'],\r\n",
        "    }\r\n",
        "  \r\n",
        "  def build(self):\r\n",
        "    for text in self.texts_list:\r\n",
        "      sample = text.split(' ')\r\n",
        "      rand_int = random.randint(1, 3)\r\n",
        "      input = ' '.join(sample[:rand_int])\r\n",
        "      target = ' '.join(sample[rand_int:])\r\n",
        "      self.list_samples.append({\r\n",
        "          'input_sent': input,\r\n",
        "          'target_sent': target,\r\n",
        "      })"
      ],
      "execution_count": 9,
      "outputs": []
    },
    {
      "cell_type": "code",
      "metadata": {
        "id": "ZaF6Wk4Z2yQi"
      },
      "source": [
        "train_dataset = AutoCompleteDataset(tokenizer, train_samples)\r\n",
        "valid_dataset = AutoCompleteDataset(tokenizer, valid_samples)"
      ],
      "execution_count": 10,
      "outputs": []
    },
    {
      "cell_type": "code",
      "metadata": {
        "colab": {
          "base_uri": "https://localhost:8080/"
        },
        "id": "jjNQAu1O2_uM",
        "outputId": "7ca69d90-5b52-4a5b-d056-36d09685ecc6"
      },
      "source": [
        "# Hyperparameters\r\n",
        "EPOCHS = 5\r\n",
        "BATCH_SIZE = 32\r\n",
        "LEARNING_RATE = 3e-5\r\n",
        "MAX_INPUT_LENGTH = 3\r\n",
        "MAX_TARGET_LENGTH = 16\r\n",
        "\r\n",
        "train_loader = DataLoader(dataset=train_dataset, batch_size=BATCH_SIZE, shuffle=True)\r\n",
        "valid_loader = DataLoader(dataset=valid_dataset, batch_size=BATCH_SIZE, shuffle=False)\r\n",
        "print('Length of Training Loader: ', len(train_loader))\r\n",
        "print('Length of Valid Loader: ', len(valid_loader))\r\n",
        "\r\n",
        "optimizer = torch.optim.AdamW(model.parameters(), lr=LEARNING_RATE)"
      ],
      "execution_count": 11,
      "outputs": [
        {
          "output_type": "stream",
          "text": [
            "Length of Training Loader:  2500\n",
            "Length of Valid Loader:  625\n"
          ],
          "name": "stdout"
        }
      ]
    },
    {
      "cell_type": "code",
      "metadata": {
        "id": "T9pMSiMGBK2t",
        "colab": {
          "base_uri": "https://localhost:8080/"
        },
        "outputId": "9b2db964-b39a-4b0c-ff65-11370c0f6e33"
      },
      "source": [
        "def compute_loss(model, data_loader, device):\r\n",
        "  list_loss = []\r\n",
        "  for sample in data_loader:\r\n",
        "    tokens = tokenizer.prepare_seq2seq_batch(src_texts=sample['input'], tgt_texts=sample['target'], max_length=MAX_INPUT_LENGTH, max_target_length=MAX_TARGET_LENGTH, padding='max_length', truncation=True, return_tensors='pt')\r\n",
        "    ids = tokens['input_ids'].to(device)\r\n",
        "    mask = tokens['attention_mask'].to(device)\r\n",
        "    tgt = tokens['labels'].to(device)\r\n",
        "    loss = model(input_ids=ids, attention_mask=mask, labels=tgt).loss\r\n",
        "    list_loss.append(loss.item())\r\n",
        "  final_loss_mean = torch.tensor(list_loss).mean()\r\n",
        "  return final_loss_mean\r\n",
        "\r\n",
        "start_time = time.time()\r\n",
        "for epoch in range(EPOCHS):\r\n",
        "  model.train()\r\n",
        "  for idx, sample in enumerate(train_loader):\r\n",
        "    tokens = tokenizer.prepare_seq2seq_batch(src_texts=sample['input'], tgt_texts=sample['target'], max_length=MAX_INPUT_LENGTH, max_target_length=MAX_TARGET_LENGTH, padding='max_length', truncation=True, return_tensors='pt')\r\n",
        "    ids = tokens['input_ids'].to(device)\r\n",
        "    mask = tokens['attention_mask'].to(device)\r\n",
        "    tgt = tokens['labels'].to(device)\r\n",
        "    outputs = model(input_ids=ids, attention_mask=mask, labels=tgt)\r\n",
        "\r\n",
        "    optimizer.zero_grad()\r\n",
        "    loss = outputs.loss\r\n",
        "    loss.backward()\r\n",
        "    optimizer.step()\r\n",
        "\r\n",
        "    # LOGGING\r\n",
        "    if idx % 500 == 0:\r\n",
        "      print(\"BATCH: %04d/%04d || Epoch: %04d/%04d || Loss: %.3f\" % (idx, len(train_loader), epoch+1, EPOCHS, loss.item()))\r\n",
        "  \r\n",
        "  model.eval()\r\n",
        "  with torch.set_grad_enabled(False):\r\n",
        "    valid_loss = compute_loss(model, valid_loader, device)\r\n",
        "    print('Valid Loss: %.3f' % (valid_loss))\r\n",
        "  epoch_elapsed_time = (time.time() - start_time) / 60\r\n",
        "  print('Epoch elapsed time: %.2f min' % (epoch_elapsed_time))\r\n",
        "total_training_time = (time.time() - start_time) / 60\r\n",
        "print('Total training time: ', total_training_time)"
      ],
      "execution_count": 12,
      "outputs": [
        {
          "output_type": "stream",
          "text": [
            "BATCH: 0000/2500 || Epoch: 0001/0005 || Loss: 8.682\n",
            "BATCH: 0500/2500 || Epoch: 0001/0005 || Loss: 2.975\n",
            "BATCH: 1000/2500 || Epoch: 0001/0005 || Loss: 2.942\n",
            "BATCH: 1500/2500 || Epoch: 0001/0005 || Loss: 3.403\n",
            "BATCH: 2000/2500 || Epoch: 0001/0005 || Loss: 2.813\n",
            "Valid Loss: 2.732\n",
            "Epoch elapsed time: 9.51 min\n",
            "BATCH: 0000/2500 || Epoch: 0002/0005 || Loss: 3.236\n",
            "BATCH: 0500/2500 || Epoch: 0002/0005 || Loss: 3.046\n",
            "BATCH: 1000/2500 || Epoch: 0002/0005 || Loss: 3.084\n",
            "BATCH: 1500/2500 || Epoch: 0002/0005 || Loss: 2.791\n",
            "BATCH: 2000/2500 || Epoch: 0002/0005 || Loss: 2.896\n",
            "Valid Loss: 2.663\n",
            "Epoch elapsed time: 19.14 min\n",
            "BATCH: 0000/2500 || Epoch: 0003/0005 || Loss: 3.093\n",
            "BATCH: 0500/2500 || Epoch: 0003/0005 || Loss: 2.982\n",
            "BATCH: 1000/2500 || Epoch: 0003/0005 || Loss: 3.227\n",
            "BATCH: 1500/2500 || Epoch: 0003/0005 || Loss: 2.800\n",
            "BATCH: 2000/2500 || Epoch: 0003/0005 || Loss: 2.911\n",
            "Valid Loss: 2.617\n",
            "Epoch elapsed time: 28.73 min\n",
            "BATCH: 0000/2500 || Epoch: 0004/0005 || Loss: 2.687\n",
            "BATCH: 0500/2500 || Epoch: 0004/0005 || Loss: 2.964\n",
            "BATCH: 1000/2500 || Epoch: 0004/0005 || Loss: 2.937\n",
            "BATCH: 1500/2500 || Epoch: 0004/0005 || Loss: 2.751\n",
            "BATCH: 2000/2500 || Epoch: 0004/0005 || Loss: 2.620\n",
            "Valid Loss: 2.597\n",
            "Epoch elapsed time: 38.34 min\n",
            "BATCH: 0000/2500 || Epoch: 0005/0005 || Loss: 2.724\n",
            "BATCH: 0500/2500 || Epoch: 0005/0005 || Loss: 2.311\n",
            "BATCH: 1000/2500 || Epoch: 0005/0005 || Loss: 2.491\n",
            "BATCH: 1500/2500 || Epoch: 0005/0005 || Loss: 2.671\n",
            "BATCH: 2000/2500 || Epoch: 0005/0005 || Loss: 2.535\n",
            "Valid Loss: 2.571\n",
            "Epoch elapsed time: 48.10 min\n",
            "Total training time:  48.10258082548777\n"
          ],
          "name": "stdout"
        }
      ]
    },
    {
      "cell_type": "code",
      "metadata": {
        "colab": {
          "base_uri": "https://localhost:8080/"
        },
        "id": "wMOBnrvrN_d1",
        "outputId": "fce26400-0f43-479a-ecea-5fd8eab4f11a"
      },
      "source": [
        "model.eval()\r\n",
        "with torch.set_grad_enabled(False):\r\n",
        "  text = \"Someone in\"\r\n",
        "  print(\"Your input: \", text)\r\n",
        "  tokens = tokenizer(text, max_length=3, padding='max_length', return_tensors='pt')\r\n",
        "  ids = tokens['input_ids'].to(device)\r\n",
        "  mask = tokens['attention_mask'].to(device)\r\n",
        "  outputs = model.generate(input_ids=ids, max_length=16, early_stopping=True)\r\n",
        "  print(\"Your completed sentence: \", text,tokenizer.decode(outputs[0], skip_special_tokens=True))"
      ],
      "execution_count": 33,
      "outputs": [
        {
          "output_type": "stream",
          "text": [
            "Your input:  Someone in\n",
            "Your completed sentence:  Someone in the United States is suspected of killing a woman in a car crash\n"
          ],
          "name": "stdout"
        }
      ]
    },
    {
      "cell_type": "code",
      "metadata": {
        "id": "x2xsA_cjWpVx"
      },
      "source": [
        ""
      ],
      "execution_count": null,
      "outputs": []
    }
  ]
}