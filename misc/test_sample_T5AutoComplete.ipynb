{
  "nbformat": 4,
  "nbformat_minor": 0,
  "metadata": {
    "colab": {
      "name": "test_sample_T5AutoComplete.ipynb",
      "provenance": [],
      "collapsed_sections": [],
      "authorship_tag": "ABX9TyM+R1KwYC0zauaKhVQBxUn1",
      "include_colab_link": true
    },
    "kernelspec": {
      "name": "python3",
      "display_name": "Python 3"
    }
  },
  "cells": [
    {
      "cell_type": "markdown",
      "metadata": {
        "id": "view-in-github",
        "colab_type": "text"
      },
      "source": [
        "<a href=\"https://colab.research.google.com/github/vishal-burman/PyTorch-Architectures/blob/master/misc/test_sample_T5AutoComplete.ipynb\" target=\"_parent\"><img src=\"https://colab.research.google.com/assets/colab-badge.svg\" alt=\"Open In Colab\"/></a>"
      ]
    },
    {
      "cell_type": "code",
      "metadata": {
        "id": "nADgdqySbSv7"
      },
      "source": [
        "! pip install transformers\r\n",
        "! pip install datasets"
      ],
      "execution_count": null,
      "outputs": []
    },
    {
      "cell_type": "code",
      "metadata": {
        "id": "dj5XP0hQuSMw"
      },
      "source": [
        "# Restart the runtime after this !!\r\n",
        "# ! python -m spacy download en_core_web_md"
      ],
      "execution_count": null,
      "outputs": []
    },
    {
      "cell_type": "code",
      "metadata": {
        "id": "dYiVGrVKcuR8"
      },
      "source": [
        "import time\r\n",
        "import random\r\n",
        "\r\n",
        "import spacy\r\n",
        "\r\n",
        "import torch\r\n",
        "import torch.nn as nn\r\n",
        "import torch.nn.functional as F\r\n",
        "\r\n",
        "from torch.utils.data import DataLoader, Dataset\r\n",
        "\r\n",
        "from datasets import load_dataset\r\n",
        "from transformers import T5Tokenizer, T5ForConditionalGeneration"
      ],
      "execution_count": 6,
      "outputs": []
    },
    {
      "cell_type": "code",
      "metadata": {
        "id": "310bFaykJeof"
      },
      "source": [
        "nlp = spacy.load('en_core_web_md')\r\n",
        "device = torch.device('cuda:0' if torch.cuda.is_available() else 'cpu')"
      ],
      "execution_count": 2,
      "outputs": []
    },
    {
      "cell_type": "code",
      "metadata": {
        "id": "kdn1Z18JJmOX",
        "colab": {
          "base_uri": "https://localhost:8080/"
        },
        "outputId": "e4f2908a-3989-41c9-d5bb-7d8171ccbd04"
      },
      "source": [
        "dataset_quora = load_dataset('quora')\r\n",
        "dataset_cnn = load_dataset('cnn_dailymail', '3.0.0')"
      ],
      "execution_count": 48,
      "outputs": [
        {
          "output_type": "stream",
          "text": [
            "Using custom data configuration default\n",
            "Reusing dataset quora (/root/.cache/huggingface/datasets/quora/default/0.0.0/2be517cf0ac6de94b77a103a36b141347a13f40637fbebaccb56ddbe397876be)\n",
            "Reusing dataset cnn_dailymail (/root/.cache/huggingface/datasets/cnn_dailymail/3.0.0/3.0.0/0128610a44e10f25b4af6689441c72af86205282d26399642f7db38fa7535602)\n"
          ],
          "name": "stderr"
        }
      ]
    },
    {
      "cell_type": "code",
      "metadata": {
        "id": "216r9m-tJpF0",
        "colab": {
          "base_uri": "https://localhost:8080/"
        },
        "outputId": "0bdecde6-fb02-41fe-8e6d-d8df63a832fb"
      },
      "source": [
        "start_time = time.time()\r\n",
        "samples = dataset_cnn['train']['highlights']\r\n",
        "samples_cnn = []\r\n",
        "for sample in samples:\r\n",
        "  if len(samples_cnn) >= 50000:\r\n",
        "    break\r\n",
        "  doc = nlp(sample)\r\n",
        "  for sent in doc.sents:\r\n",
        "    sentence = sent.string.strip()\r\n",
        "    if len(sentence.split(' ')) >=5 and len(sentence.split(' ')) <= 16:\r\n",
        "      samples_cnn.append(sentence)\r\n",
        "elapsed_time = (time.time() - start_time) / 60\r\n",
        "samples_cnn = samples_cnn[:50000]\r\n",
        "print('Elapsed Time: %.2f min' % (elapsed_time))"
      ],
      "execution_count": 46,
      "outputs": [
        {
          "output_type": "stream",
          "text": [
            "Elapsed Time: 3.44 min\n"
          ],
          "name": "stdout"
        }
      ]
    },
    {
      "cell_type": "code",
      "metadata": {
        "id": "0r9zpactKZ79"
      },
      "source": [
        "samples = dataset_quora['train']['questions']\r\n",
        "samples_quora = [sample['text'][0] for sample in samples if len(sample['text'][0].split(' ')) >= 5 and len(sample['text'][0].split(' ')) <= 16]\r\n",
        "samples_quora = samples_quora[:50000]"
      ],
      "execution_count": 52,
      "outputs": []
    },
    {
      "cell_type": "code",
      "metadata": {
        "colab": {
          "base_uri": "https://localhost:8080/"
        },
        "id": "2bsWtH-7ynL_",
        "outputId": "947c0bbe-c94e-4386-cb3c-881c8d41faba"
      },
      "source": [
        "print('No. of samples from CNN Dailymail: ', len(samples_cnn))\r\n",
        "print('No. of samples from Quora: ', len(samples_quora))"
      ],
      "execution_count": 57,
      "outputs": [
        {
          "output_type": "stream",
          "text": [
            "No. of samples from CNN Dailymail:  50000\n",
            "No. of samples from Quora:  50000\n"
          ],
          "name": "stdout"
        }
      ]
    },
    {
      "cell_type": "code",
      "metadata": {
        "colab": {
          "base_uri": "https://localhost:8080/"
        },
        "id": "0hbXPezsLbQM",
        "outputId": "dcf15c77-b250-4239-9f83-dd1dd9ca6c30"
      },
      "source": [
        "class AutoCompleteDataset(Dataset):\r\n",
        "  def __init__(self, tokenizer, texts_list, max_length, input, max_length_target=16):\r\n",
        "    self.tokenizer = tokenizer\r\n",
        "    self.texts_list = texts_list\r\n",
        "    self.max_length_input = max_length_input\r\n",
        "    self.max_length_target = max_length_target\r\n",
        "    self.list_samples = []\r\n",
        "    self.build()\r\n",
        "  \r\n",
        "  def __len__(self):\r\n",
        "    pass\r\n",
        "  \r\n",
        "  def __getitem__(self, idx):\r\n",
        "    pass\r\n",
        "  \r\n",
        "  def build(self):\r\n",
        "    for text in self.texts_list:\r\n",
        "      sample = text.split(' ')\r\n",
        "      rand_int = random.randint(1, 3)\r\n",
        "      input = ' '.join(sample[:rand_int])\r\n",
        "      target = ' '.join(sample[rand_int:])\r\n",
        "      input = tokenizer(input, max_length=)\r\n",
        "      pass"
      ],
      "execution_count": null,
      "outputs": [
        {
          "output_type": "execute_result",
          "data": {
            "text/plain": [
              "['What is the step by step guide to invest in share market in india?',\n",
              " 'What is the story of Kohinoor (Koh-i-Noor) Diamond?',\n",
              " 'How can I increase the speed of my internet connection while using a VPN?',\n",
              " 'Why am I mentally very lonely? How can I solve it?',\n",
              " 'Which one dissolve in water quikly sugar, salt, methane and carbon di oxide?']"
            ]
          },
          "metadata": {
            "tags": []
          },
          "execution_count": 20
        }
      ]
    },
    {
      "cell_type": "code",
      "metadata": {
        "id": "ABxBs3Dvt7K6"
      },
      "source": [
        ""
      ],
      "execution_count": null,
      "outputs": []
    }
  ]
}