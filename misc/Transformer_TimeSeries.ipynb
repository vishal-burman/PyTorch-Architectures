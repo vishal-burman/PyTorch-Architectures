{
  "nbformat": 4,
  "nbformat_minor": 0,
  "metadata": {
    "colab": {
      "name": "Transformer_TimeSeries.ipynb",
      "provenance": [],
      "collapsed_sections": [],
      "authorship_tag": "ABX9TyOy8DODnFS6RK0tULK/+7Fe",
      "include_colab_link": true
    },
    "kernelspec": {
      "name": "python3",
      "display_name": "Python 3"
    },
    "language_info": {
      "name": "python"
    },
    "accelerator": "GPU",
    "widgets": {
      "application/vnd.jupyter.widget-state+json": {
        "759f04cd554142ebb3e3450cdf759168": {
          "model_module": "@jupyter-widgets/controls",
          "model_name": "HBoxModel",
          "state": {
            "_view_name": "HBoxView",
            "_dom_classes": [],
            "_model_name": "HBoxModel",
            "_view_module": "@jupyter-widgets/controls",
            "_model_module_version": "1.5.0",
            "_view_count": null,
            "_view_module_version": "1.5.0",
            "box_style": "",
            "layout": "IPY_MODEL_bd87d1934c3340ab91e54ad1c91b8393",
            "_model_module": "@jupyter-widgets/controls",
            "children": [
              "IPY_MODEL_8a78188b7a4e42258a28bf5cfb353374",
              "IPY_MODEL_3580d0498899491b9b93fcd965aba946",
              "IPY_MODEL_eeff166d1b894a578dad98bb03dbcc25"
            ]
          }
        },
        "bd87d1934c3340ab91e54ad1c91b8393": {
          "model_module": "@jupyter-widgets/base",
          "model_name": "LayoutModel",
          "state": {
            "_view_name": "LayoutView",
            "grid_template_rows": null,
            "right": null,
            "justify_content": null,
            "_view_module": "@jupyter-widgets/base",
            "overflow": null,
            "_model_module_version": "1.2.0",
            "_view_count": null,
            "flex_flow": null,
            "width": null,
            "min_width": null,
            "border": null,
            "align_items": null,
            "bottom": null,
            "_model_module": "@jupyter-widgets/base",
            "top": null,
            "grid_column": null,
            "overflow_y": null,
            "overflow_x": null,
            "grid_auto_flow": null,
            "grid_area": null,
            "grid_template_columns": null,
            "flex": null,
            "_model_name": "LayoutModel",
            "justify_items": null,
            "grid_row": null,
            "max_height": null,
            "align_content": null,
            "visibility": null,
            "align_self": null,
            "height": null,
            "min_height": null,
            "padding": null,
            "grid_auto_rows": null,
            "grid_gap": null,
            "max_width": null,
            "order": null,
            "_view_module_version": "1.2.0",
            "grid_template_areas": null,
            "object_position": null,
            "object_fit": null,
            "grid_auto_columns": null,
            "margin": null,
            "display": null,
            "left": null
          }
        },
        "8a78188b7a4e42258a28bf5cfb353374": {
          "model_module": "@jupyter-widgets/controls",
          "model_name": "HTMLModel",
          "state": {
            "_view_name": "HTMLView",
            "style": "IPY_MODEL_0d29812436c2418a9602af758ccc8f62",
            "_dom_classes": [],
            "description": "",
            "_model_name": "HTMLModel",
            "placeholder": "​",
            "_view_module": "@jupyter-widgets/controls",
            "_model_module_version": "1.5.0",
            "value": "100%",
            "_view_count": null,
            "_view_module_version": "1.5.0",
            "description_tooltip": null,
            "_model_module": "@jupyter-widgets/controls",
            "layout": "IPY_MODEL_34e30db72b6f4bdfa08a89e3c8e9513e"
          }
        },
        "3580d0498899491b9b93fcd965aba946": {
          "model_module": "@jupyter-widgets/controls",
          "model_name": "FloatProgressModel",
          "state": {
            "_view_name": "ProgressView",
            "style": "IPY_MODEL_14c2ebdfb6604f629d3027c6e83b9089",
            "_dom_classes": [],
            "description": "",
            "_model_name": "FloatProgressModel",
            "bar_style": "",
            "max": 580,
            "_view_module": "@jupyter-widgets/controls",
            "_model_module_version": "1.5.0",
            "value": 580,
            "_view_count": null,
            "_view_module_version": "1.5.0",
            "orientation": "horizontal",
            "min": 0,
            "description_tooltip": null,
            "_model_module": "@jupyter-widgets/controls",
            "layout": "IPY_MODEL_02a5285d1ebc47fd94687db3431610bf"
          }
        },
        "eeff166d1b894a578dad98bb03dbcc25": {
          "model_module": "@jupyter-widgets/controls",
          "model_name": "HTMLModel",
          "state": {
            "_view_name": "HTMLView",
            "style": "IPY_MODEL_efce6aea8af64c1aa81d1b5d9f4f779f",
            "_dom_classes": [],
            "description": "",
            "_model_name": "HTMLModel",
            "placeholder": "​",
            "_view_module": "@jupyter-widgets/controls",
            "_model_module_version": "1.5.0",
            "value": " 580/580 [31:34&lt;00:00,  2.73s/it]",
            "_view_count": null,
            "_view_module_version": "1.5.0",
            "description_tooltip": null,
            "_model_module": "@jupyter-widgets/controls",
            "layout": "IPY_MODEL_f7c472b68c694f339182956d1d58a6d3"
          }
        },
        "0d29812436c2418a9602af758ccc8f62": {
          "model_module": "@jupyter-widgets/controls",
          "model_name": "DescriptionStyleModel",
          "state": {
            "_view_name": "StyleView",
            "_model_name": "DescriptionStyleModel",
            "description_width": "",
            "_view_module": "@jupyter-widgets/base",
            "_model_module_version": "1.5.0",
            "_view_count": null,
            "_view_module_version": "1.2.0",
            "_model_module": "@jupyter-widgets/controls"
          }
        },
        "34e30db72b6f4bdfa08a89e3c8e9513e": {
          "model_module": "@jupyter-widgets/base",
          "model_name": "LayoutModel",
          "state": {
            "_view_name": "LayoutView",
            "grid_template_rows": null,
            "right": null,
            "justify_content": null,
            "_view_module": "@jupyter-widgets/base",
            "overflow": null,
            "_model_module_version": "1.2.0",
            "_view_count": null,
            "flex_flow": null,
            "width": null,
            "min_width": null,
            "border": null,
            "align_items": null,
            "bottom": null,
            "_model_module": "@jupyter-widgets/base",
            "top": null,
            "grid_column": null,
            "overflow_y": null,
            "overflow_x": null,
            "grid_auto_flow": null,
            "grid_area": null,
            "grid_template_columns": null,
            "flex": null,
            "_model_name": "LayoutModel",
            "justify_items": null,
            "grid_row": null,
            "max_height": null,
            "align_content": null,
            "visibility": null,
            "align_self": null,
            "height": null,
            "min_height": null,
            "padding": null,
            "grid_auto_rows": null,
            "grid_gap": null,
            "max_width": null,
            "order": null,
            "_view_module_version": "1.2.0",
            "grid_template_areas": null,
            "object_position": null,
            "object_fit": null,
            "grid_auto_columns": null,
            "margin": null,
            "display": null,
            "left": null
          }
        },
        "14c2ebdfb6604f629d3027c6e83b9089": {
          "model_module": "@jupyter-widgets/controls",
          "model_name": "ProgressStyleModel",
          "state": {
            "_view_name": "StyleView",
            "_model_name": "ProgressStyleModel",
            "description_width": "",
            "_view_module": "@jupyter-widgets/base",
            "_model_module_version": "1.5.0",
            "_view_count": null,
            "_view_module_version": "1.2.0",
            "bar_color": null,
            "_model_module": "@jupyter-widgets/controls"
          }
        },
        "02a5285d1ebc47fd94687db3431610bf": {
          "model_module": "@jupyter-widgets/base",
          "model_name": "LayoutModel",
          "state": {
            "_view_name": "LayoutView",
            "grid_template_rows": null,
            "right": null,
            "justify_content": null,
            "_view_module": "@jupyter-widgets/base",
            "overflow": null,
            "_model_module_version": "1.2.0",
            "_view_count": null,
            "flex_flow": null,
            "width": null,
            "min_width": null,
            "border": null,
            "align_items": null,
            "bottom": null,
            "_model_module": "@jupyter-widgets/base",
            "top": null,
            "grid_column": null,
            "overflow_y": null,
            "overflow_x": null,
            "grid_auto_flow": null,
            "grid_area": null,
            "grid_template_columns": null,
            "flex": null,
            "_model_name": "LayoutModel",
            "justify_items": null,
            "grid_row": null,
            "max_height": null,
            "align_content": null,
            "visibility": null,
            "align_self": null,
            "height": null,
            "min_height": null,
            "padding": null,
            "grid_auto_rows": null,
            "grid_gap": null,
            "max_width": null,
            "order": null,
            "_view_module_version": "1.2.0",
            "grid_template_areas": null,
            "object_position": null,
            "object_fit": null,
            "grid_auto_columns": null,
            "margin": null,
            "display": null,
            "left": null
          }
        },
        "efce6aea8af64c1aa81d1b5d9f4f779f": {
          "model_module": "@jupyter-widgets/controls",
          "model_name": "DescriptionStyleModel",
          "state": {
            "_view_name": "StyleView",
            "_model_name": "DescriptionStyleModel",
            "description_width": "",
            "_view_module": "@jupyter-widgets/base",
            "_model_module_version": "1.5.0",
            "_view_count": null,
            "_view_module_version": "1.2.0",
            "_model_module": "@jupyter-widgets/controls"
          }
        },
        "f7c472b68c694f339182956d1d58a6d3": {
          "model_module": "@jupyter-widgets/base",
          "model_name": "LayoutModel",
          "state": {
            "_view_name": "LayoutView",
            "grid_template_rows": null,
            "right": null,
            "justify_content": null,
            "_view_module": "@jupyter-widgets/base",
            "overflow": null,
            "_model_module_version": "1.2.0",
            "_view_count": null,
            "flex_flow": null,
            "width": null,
            "min_width": null,
            "border": null,
            "align_items": null,
            "bottom": null,
            "_model_module": "@jupyter-widgets/base",
            "top": null,
            "grid_column": null,
            "overflow_y": null,
            "overflow_x": null,
            "grid_auto_flow": null,
            "grid_area": null,
            "grid_template_columns": null,
            "flex": null,
            "_model_name": "LayoutModel",
            "justify_items": null,
            "grid_row": null,
            "max_height": null,
            "align_content": null,
            "visibility": null,
            "align_self": null,
            "height": null,
            "min_height": null,
            "padding": null,
            "grid_auto_rows": null,
            "grid_gap": null,
            "max_width": null,
            "order": null,
            "_view_module_version": "1.2.0",
            "grid_template_areas": null,
            "object_position": null,
            "object_fit": null,
            "grid_auto_columns": null,
            "margin": null,
            "display": null,
            "left": null
          }
        }
      }
    }
  },
  "cells": [
    {
      "cell_type": "markdown",
      "metadata": {
        "id": "view-in-github",
        "colab_type": "text"
      },
      "source": [
        "<a href=\"https://colab.research.google.com/github/vishal-burman/PyTorch-Architectures/blob/master/misc/Transformer_TimeSeries.ipynb\" target=\"_parent\"><img src=\"https://colab.research.google.com/assets/colab-badge.svg\" alt=\"Open In Colab\"/></a>"
      ]
    },
    {
      "cell_type": "code",
      "metadata": {
        "colab": {
          "base_uri": "https://localhost:8080/"
        },
        "id": "_CjeAtbr-tMT",
        "outputId": "2bc8608d-2dd9-4c9b-ff42-d8e43602cfa5"
      },
      "source": [
        "# ! pip install wget\n",
        "# ! pip install datasets\n",
        "! git clone https://github.com/vishal-burman/PyTorch-Architectures.git # --> QOL helper methods\n",
        "%cd PyTorch-Architectures/"
      ],
      "execution_count": 1,
      "outputs": [
        {
          "output_type": "stream",
          "text": [
            "fatal: destination path 'PyTorch-Architectures' already exists and is not an empty directory.\n",
            "/content/PyTorch-Architectures\n"
          ],
          "name": "stdout"
        }
      ]
    },
    {
      "cell_type": "code",
      "metadata": {
        "id": "YbPWWPTkT_JU"
      },
      "source": [
        "from tqdm.auto import tqdm\n",
        "import numpy as np\n",
        "import torch\n",
        "import torch.nn as nn\n",
        "import torch.nn.functional as F\n",
        "from torch.utils.data import Dataset, DataLoader\n",
        "from toolkit.utils import get_optimal_batchsize, dict_to_device, EarlyStopping\n",
        "from toolkit.utils import get_linear_schedule_with_warmup"
      ],
      "execution_count": 2,
      "outputs": []
    },
    {
      "cell_type": "code",
      "metadata": {
        "id": "XYnl3-cwSQX9"
      },
      "source": [
        "class CustomDataset(Dataset):\n",
        "  def __init__(self, train=True):\n",
        "    self.root_url = \"https://raw.githubusercontent.com/hfawaz/cd-diagram/master/FordA/\"\n",
        "    self.url = self.root_url + (\"FordA_TRAIN.tsv\" if train else \"FordA_TEST.tsv\")\n",
        "    self.data = np.loadtxt(self.url, delimiter=\"\\t\")\n",
        "    self.x = self.data[:, 1:]\n",
        "    self.y = self.data[:, 0].astype(int)\n",
        "    self.y[self.y == -1] = 0\n",
        "  \n",
        "  def __len__(self,):\n",
        "    return len(self.data)\n",
        "  \n",
        "  def __getitem__(self, idx):\n",
        "    inputs = self.x[idx]\n",
        "    labels = self.y[idx]\n",
        "    return (inputs, labels)\n",
        "\n",
        "  def collate_fn(self, batch):\n",
        "    inputs = []\n",
        "    labels = []\n",
        "    for sample in batch:\n",
        "      inputs.append(sample[0])\n",
        "      labels.append(sample[1])\n",
        "    inputs = torch.tensor(inputs)\n",
        "    labels = torch.tensor(labels, dtype=torch.long)\n",
        "    return {\n",
        "        'inputs': inputs[:, :, None],\n",
        "        'labels': labels[:, None, None],\n",
        "    }"
      ],
      "execution_count": 3,
      "outputs": []
    },
    {
      "cell_type": "code",
      "metadata": {
        "id": "qY7IWTFTrRIs"
      },
      "source": [
        "class Encoder(nn.Module):\n",
        "  def __init__(self, dim, num_heads, dropout=0.):\n",
        "    super().__init__()\n",
        "    self.layernorm = nn.LayerNorm(dim, eps=1e-6)\n",
        "    self.attention = nn.MultiheadAttention(embed_dim=dim, \n",
        "                                           num_heads=num_heads,\n",
        "                                           dropout=dropout,\n",
        "                                           batch_first=True)\n",
        "    self.dropout = nn.Dropout(dropout)\n",
        "\n",
        "    self.lin_1 = nn.Linear(dim, dim * 2)\n",
        "    self.act = nn.ReLU(inplace=True)\n",
        "    self.lin_2 = nn.Linear(dim * 2, dim)\n",
        "  \n",
        "  def forward(self, x):\n",
        "    x_orig = x\n",
        "    x = self.layernorm(x)\n",
        "    x = self.attention(query=x, key=x, value=x)[0]\n",
        "    x = self.dropout(x)\n",
        "    res = x + x_orig\n",
        "\n",
        "    x = self.layernorm(res)\n",
        "    x = self.lin_1(x)\n",
        "    x = self.act(x)\n",
        "    x = self.dropout(x)\n",
        "    x = self.lin_2(x)\n",
        "    return (x + res)"
      ],
      "execution_count": 4,
      "outputs": []
    },
    {
      "cell_type": "code",
      "metadata": {
        "id": "7jz1SZfNp1gV"
      },
      "source": [
        "class TransformerTimeSeries(nn.Module):\n",
        "  def __init__(self, dim, mlp_dim, num_heads, num_classes, depth=4, dropout=0.):\n",
        "    super().__init__()\n",
        "    self.inputs_to_embeds = nn.Linear(1, dim)\n",
        "    self.depth = depth\n",
        "    self.dropout = nn.Dropout(dropout)\n",
        "\n",
        "    self.encoder = nn.ModuleList([])\n",
        "    for _ in range(depth):\n",
        "      self.encoder.append(Encoder(dim=dim, num_heads=num_heads, dropout=dropout))\n",
        "    self.pooler = nn.AvgPool1d(kernel_size=dim)\n",
        "\n",
        "    self.mlp_proj = nn.Linear(500, mlp_dim)\n",
        "    self.act = nn.ReLU(inplace=True)\n",
        "    self.logits_proj = nn.Linear(mlp_dim, num_classes)\n",
        "  \n",
        "  def forward(self, inputs, labels=None):\n",
        "    x = self.inputs_to_embeds(inputs)\n",
        "    x = self.dropout(x)\n",
        "    for enc in self.encoder:\n",
        "      x = enc(x)\n",
        "    pooled_x = self.pooler(x).squeeze(2)\n",
        "    pooled_x = self.act(self.mlp_proj(pooled_x))\n",
        "    pooled_x = self.dropout(pooled_x)\n",
        "    logits = self.logits_proj(pooled_x)\n",
        "    loss = None\n",
        "    if labels is not None:\n",
        "      loss_fct = nn.CrossEntropyLoss()\n",
        "      loss = loss_fct(logits.view(logits.size(0), -1), labels.view(-1))\n",
        "    return (loss, logits)"
      ],
      "execution_count": 5,
      "outputs": []
    },
    {
      "cell_type": "code",
      "metadata": {
        "id": "WOs0VCeOs51Y"
      },
      "source": [
        "device = torch.device(\"cuda:0\" if torch.cuda.is_available() else \"cpu\")\n",
        "model = TransformerTimeSeries(dim=256, \n",
        "                              mlp_dim=128,\n",
        "                              num_heads=4,\n",
        "                              num_classes=2,\n",
        "                              depth=2, \n",
        "                              dropout=0.1)\n",
        "model = model.double()\n",
        "model.to(device)"
      ],
      "execution_count": null,
      "outputs": []
    },
    {
      "cell_type": "code",
      "metadata": {
        "id": "1Wb9h5RtudVX",
        "colab": {
          "base_uri": "https://localhost:8080/"
        },
        "outputId": "4f58f81c-e8dc-4c73-ee6c-ddd19844b134"
      },
      "source": [
        "params = sum(p.numel() for p in model.parameters() if p.requires_grad)\n",
        "print(f\"Trainable Parameters: {params}\")"
      ],
      "execution_count": 7,
      "outputs": [
        {
          "output_type": "stream",
          "text": [
            "Trainable Parameters: 1118082\n"
          ],
          "name": "stdout"
        }
      ]
    },
    {
      "cell_type": "code",
      "metadata": {
        "id": "S42X8bQD_7HX"
      },
      "source": [
        "# Hyperparameter section\n",
        "BS = 128\n",
        "EPOCHS = 20\n",
        "LR = 5e-4\n",
        "early_stop = EarlyStopping(metric=\"val_accuracy\", patience=10, verbose=True)"
      ],
      "execution_count": 8,
      "outputs": []
    },
    {
      "cell_type": "code",
      "metadata": {
        "colab": {
          "base_uri": "https://localhost:8080/"
        },
        "id": "2Utkz-5r-Afu",
        "outputId": "836b28f4-3ad4-41b1-80cb-18e126033915"
      },
      "source": [
        "dataset_train = CustomDataset(train=True)\n",
        "dataset_valid = CustomDataset(train=False)\n",
        "\n",
        "train_loader = DataLoader(dataset_train, batch_size=BS, shuffle=False,\n",
        "                          collate_fn=dataset_train.collate_fn)\n",
        "valid_loader = DataLoader(dataset_valid, batch_size=BS, shuffle=False,\n",
        "                          collate_fn=dataset_valid.collate_fn)\n",
        "\n",
        "print(f\"Length of Train Loader: {len(train_loader)}\")\n",
        "print(f\"Length of Valid Loader: {len(valid_loader)}\")"
      ],
      "execution_count": 9,
      "outputs": [
        {
          "output_type": "stream",
          "text": [
            "Length of Train Loader: 29\n",
            "Length of Valid Loader: 11\n"
          ],
          "name": "stdout"
        }
      ]
    },
    {
      "cell_type": "code",
      "metadata": {
        "id": "9g4AS02MFSjt"
      },
      "source": [
        "# get_optimal_batchsize(dataset_train, model)"
      ],
      "execution_count": 10,
      "outputs": []
    },
    {
      "cell_type": "code",
      "metadata": {
        "id": "Ec7ddsPNAPEz"
      },
      "source": [
        "# Sanity check forward pass\n",
        "loader = DataLoader(dataset_train, batch_size=4, shuffle=False,\n",
        "                          collate_fn=dataset_train.collate_fn)\n",
        "model.eval()\n",
        "with torch.set_grad_enabled(False):\n",
        "  for sample in loader:\n",
        "    outputs = model(**dict_to_device(sample, device=device))\n",
        "    loss, logits = outputs\n",
        "    assert logits.size(-1) == 2, \"Last Dimension not equal to classes\"\n",
        "    break"
      ],
      "execution_count": 10,
      "outputs": []
    },
    {
      "cell_type": "code",
      "metadata": {
        "id": "b2fTdF2rI1mu"
      },
      "source": [
        "num_training_steps = len(train_loader) * EPOCHS\n",
        "optimizer = torch.optim.Adam(model.parameters(), lr=LR)\n",
        "scheduler = get_linear_schedule_with_warmup(optimizer, \n",
        "                                            num_warmup_steps=0,\n",
        "                                            num_training_steps=num_training_steps)"
      ],
      "execution_count": 11,
      "outputs": []
    },
    {
      "cell_type": "code",
      "metadata": {
        "id": "PYrh_3aRQJ0U"
      },
      "source": [
        "def get_accuracy(model, data_loader, device):\n",
        "  correct, total = 0, 0\n",
        "  with torch.set_grad_enabled(False):\n",
        "    for sample in data_loader:\n",
        "      sample = dict_to_device(sample, device=device)\n",
        "      inputs = sample[\"inputs\"]\n",
        "      labels = sample[\"labels\"].view(-1)\n",
        "      _, logits = model(inputs=inputs)\n",
        "      probas = F.softmax(logits, dim=-1)\n",
        "      _, preds = torch.max(probas, dim=-1)\n",
        "      correct += (preds == labels).sum()\n",
        "      total += labels.size(0)\n",
        "  return (correct.float() / total * 100).item()"
      ],
      "execution_count": 12,
      "outputs": []
    },
    {
      "cell_type": "code",
      "metadata": {
        "id": "gF_5KX76BocW",
        "colab": {
          "base_uri": "https://localhost:8080/",
          "height": 396,
          "referenced_widgets": [
            "759f04cd554142ebb3e3450cdf759168",
            "bd87d1934c3340ab91e54ad1c91b8393",
            "8a78188b7a4e42258a28bf5cfb353374",
            "3580d0498899491b9b93fcd965aba946",
            "eeff166d1b894a578dad98bb03dbcc25",
            "0d29812436c2418a9602af758ccc8f62",
            "34e30db72b6f4bdfa08a89e3c8e9513e",
            "14c2ebdfb6604f629d3027c6e83b9089",
            "02a5285d1ebc47fd94687db3431610bf",
            "efce6aea8af64c1aa81d1b5d9f4f779f",
            "f7c472b68c694f339182956d1d58a6d3"
          ]
        },
        "outputId": "a540e1f6-a809-4be0-d6a9-4df48aaa1f64"
      },
      "source": [
        "progress_bar = tqdm(range(num_training_steps))\n",
        "\n",
        "for epoch in range(EPOCHS):\n",
        "  loss_list = []\n",
        "  model.train()\n",
        "  for idx, sample in enumerate(train_loader):\n",
        "    outputs = model(**dict_to_device(sample, device=device))\n",
        "    loss, _ = outputs\n",
        "    loss_list.append(loss.item())\n",
        "    loss.backward()\n",
        "    optimizer.step()\n",
        "    scheduler.step()\n",
        "    optimizer.zero_grad()\n",
        "    progress_bar.update(1)\n",
        "  model.eval()\n",
        "  with torch.set_grad_enabled(False):\n",
        "    val_accuracy = get_accuracy(model, valid_loader, device)\n",
        "    early_stop(val_accuracy, model)\n",
        "    if early_stop.early_stop:\n",
        "      print(\"Early Stopping!\")\n",
        "      break"
      ],
      "execution_count": 13,
      "outputs": [
        {
          "output_type": "display_data",
          "data": {
            "application/vnd.jupyter.widget-view+json": {
              "model_id": "759f04cd554142ebb3e3450cdf759168",
              "version_major": 2,
              "version_minor": 0
            },
            "text/plain": [
              "  0%|          | 0/580 [00:00<?, ?it/s]"
            ]
          },
          "metadata": {
            "tags": []
          }
        },
        {
          "output_type": "stream",
          "text": [
            "Validation accuracy increased from -inf% to 60.98%\n",
            "Validation accuracy increased from 60.98% to 71.21%\n",
            "Validation accuracy increased from 71.21% to 74.17%\n",
            "Validation accuracy increased from 74.17% to 76.29%\n",
            "Validation accuracy increased from 76.29% to 77.42%\n",
            "Validation accuracy increased from 77.42% to 78.56%\n",
            "Validation accuracy increased from 78.56% to 78.86%\n",
            "Validation accuracy increased from 78.86% to 79.47%\n",
            "Validation accuracy increased from 79.47% to 80.00%\n",
            "EarlyStopping counter: 1 out of 10\n",
            "Validation accuracy increased from 80.00% to 80.91%\n",
            "EarlyStopping counter: 1 out of 10\n",
            "EarlyStopping counter: 2 out of 10\n",
            "EarlyStopping counter: 3 out of 10\n",
            "Validation accuracy increased from 80.91% to 81.06%\n",
            "EarlyStopping counter: 1 out of 10\n",
            "EarlyStopping counter: 2 out of 10\n",
            "EarlyStopping counter: 3 out of 10\n",
            "EarlyStopping counter: 4 out of 10\n",
            "EarlyStopping counter: 5 out of 10\n"
          ],
          "name": "stdout"
        }
      ]
    },
    {
      "cell_type": "code",
      "metadata": {
        "id": "1uycz8SvTLrb"
      },
      "source": [
        ""
      ],
      "execution_count": null,
      "outputs": []
    }
  ]
}