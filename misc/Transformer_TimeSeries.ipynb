{
  "nbformat": 4,
  "nbformat_minor": 0,
  "metadata": {
    "colab": {
      "name": "Transformer_TimeSeries.ipynb",
      "provenance": [],
      "collapsed_sections": [],
      "authorship_tag": "ABX9TyNUkJ9qYxgkKe9LjkhNFU8L",
      "include_colab_link": true
    },
    "kernelspec": {
      "name": "python3",
      "display_name": "Python 3"
    },
    "language_info": {
      "name": "python"
    }
  },
  "cells": [
    {
      "cell_type": "markdown",
      "metadata": {
        "id": "view-in-github",
        "colab_type": "text"
      },
      "source": [
        "<a href=\"https://colab.research.google.com/github/vishal-burman/PyTorch-Architectures/blob/master/misc/Transformer_TimeSeries.ipynb\" target=\"_parent\"><img src=\"https://colab.research.google.com/assets/colab-badge.svg\" alt=\"Open In Colab\"/></a>"
      ]
    },
    {
      "cell_type": "code",
      "metadata": {
        "id": "YbPWWPTkT_JU"
      },
      "source": [
        "import numpy as np\n",
        "import torch\n",
        "import torch.nn as nn\n",
        "from torch.utils.data import Dataset, DataLoader"
      ],
      "execution_count": 1,
      "outputs": []
    },
    {
      "cell_type": "code",
      "metadata": {
        "id": "XYnl3-cwSQX9"
      },
      "source": [
        "class CustomDataset(Dataset):\n",
        "  def __init__(self, train=True):\n",
        "    self.root_url = \"https://raw.githubusercontent.com/hfawaz/cd-diagram/master/FordA/\"\n",
        "    self.url = self.root_url + (\"FordA_TRAIN.tsv\" if train else \"FordA_TEST.tsv\")\n",
        "    self.data = np.loadtxt(self.url, delimiter=\"\\t\")\n",
        "    self.x = self.data[:, 1:]\n",
        "    self.y = self.data[:, 0].astype(int)\n",
        "    self.y[self.y == -1] = 0\n",
        "  \n",
        "  def __len__(self,):\n",
        "    return len(self.data)\n",
        "  \n",
        "  def __getitem__(self, idx):\n",
        "    inputs = self.x[idx]\n",
        "    labels = self.y[idx]\n",
        "    return (inputs, labels)\n",
        "\n",
        "  def collate_fn(self, batch):\n",
        "    inputs = []\n",
        "    labels = []\n",
        "    for sample in batch:\n",
        "      inputs.append(sample[0])\n",
        "      labels.append(sample[1])\n",
        "    inputs = torch.tensor(inputs)\n",
        "    labels = torch.tensor(labels, dtype=torch.long)\n",
        "    return {\n",
        "        'inputs': inputs[:, :, None],\n",
        "        'labels': labels[:, None, None],\n",
        "    }"
      ],
      "execution_count": 2,
      "outputs": []
    },
    {
      "cell_type": "code",
      "metadata": {
        "id": "gRWhsUxpVOCf"
      },
      "source": [
        "class PreNorm(nn.Module):\n",
        "  def __init__(self, dim, fn):\n",
        "    super().__init__()\n",
        "    self.layernorm = nn.LayerNorm(dim)\n",
        "    self.fn = fn\n",
        "  \n",
        "  def forward(self, x, **kwargs):\n",
        "    return self.fn(self.layernorm(x), **kwargs)"
      ],
      "execution_count": 3,
      "outputs": []
    },
    {
      "cell_type": "code",
      "metadata": {
        "id": "geVIdoPPZObo"
      },
      "source": [
        "class Residual(nn.Module):\n",
        "  def __init__(self, fn):\n",
        "    super().__init__()\n",
        "    self.fn = fn\n",
        "  \n",
        "  def forward(self, x, **kwargs):\n",
        "    return self.fn(x, **kwargs) + x"
      ],
      "execution_count": 4,
      "outputs": []
    },
    {
      "cell_type": "code",
      "metadata": {
        "id": "iDV9JopJobCo"
      },
      "source": [
        "class FeedForward(nn.Module):\n",
        "  def __init__(self, dim, hidden_dim, dropout=0.):\n",
        "    super().__init__()\n",
        "    self.net = nn.Sequential(\n",
        "        nn.Linear(dim, hidden_dim),\n",
        "        nn.GELU(),\n",
        "        nn.Dropout(dropout),\n",
        "        nn.Linear(hidden_dim, dim),\n",
        "        nn.Dropout(dropout),\n",
        "    )\n",
        "  \n",
        "  def forward(self, x):\n",
        "    return self.net(x)"
      ],
      "execution_count": 5,
      "outputs": []
    },
    {
      "cell_type": "code",
      "metadata": {
        "id": "qY7IWTFTrRIs"
      },
      "source": [
        "# Code for Attention\n",
        "class Attention(nn.Module):\n",
        "  def __init__(self, dim, heads=8, dropout=0.):\n",
        "    super().__init__()\n",
        "    self.heads = heads\n",
        "    self.scale = dim ** -0.5\n",
        "\n",
        "    self.to_qkv = nn.Linear(dim, dim * 3, bias=False)\n",
        "    self.to_out = nn.Sequential(\n",
        "        nn.Linear(dim, dim),\n",
        "        nn.Dropout(dropout),\n",
        "    )\n",
        "  \n",
        "  def forward(self, x):\n",
        "    b, n, dim, h = *x.shape, self.heads\n",
        "    qkv = self.to_qkv(x).chunk(3, dim=-1)\n",
        "    q, k, v = map(lambda t: t.reshape(b, n, h, dim // h).transpose(1, 2), qkv)\n",
        "    \n",
        "    dots = q @ k.transpose(-2, -1) * self.scale\n",
        "    attn = dots.softmax(dim=-1) # attn ~ [b, h, n, n]    \n",
        "    out = (attn @ v).transpose(1, 2).reshape(b, n, -1)\n",
        "    \n",
        "    out = self.to_out(out)\n",
        "    return out"
      ],
      "execution_count": 6,
      "outputs": []
    },
    {
      "cell_type": "code",
      "metadata": {
        "id": "7jz1SZfNp1gV"
      },
      "source": [
        "class TransformerTimeSeries(nn.Module):\n",
        "  def __init__(self, dim, hidden_dim, mlp_dim, num_classes, depth=4, dropout=0.):\n",
        "    super().__init__()\n",
        "    self.inputs_to_embeds = nn.Linear(1, dim)\n",
        "    self.dropout = nn.Dropout(dropout)\n",
        "    self.cls_token = nn.Parameter(torch.randn(1, 1, dim))\n",
        "\n",
        "    self.layers = nn.ModuleList([])\n",
        "    for _ in range(depth):\n",
        "      self.layers.append(nn.ModuleList([\n",
        "          Residual(PreNorm(dim, Attention(dim, dropout=dropout))),\n",
        "          Residual(PreNorm(dim, FeedForward(dim, mlp_dim, dropout=dropout))),\n",
        "      ]))\n",
        "\n",
        "    self.mlp_head = nn.Sequential(\n",
        "        nn.LayerNorm(dim),\n",
        "        nn.Linear(dim, mlp_dim),\n",
        "        nn.GELU(),\n",
        "        nn.Dropout(dropout),\n",
        "        nn.Linear(mlp_dim, num_classes),        \n",
        "    )\n",
        "  \n",
        "  def forward(self, x, labels=None):\n",
        "    x = self.inputs_to_embeds(x)\n",
        "    b, n, _ = x.shape\n",
        "    cls_token = self.cls_token.expand(b, -1, -1)\n",
        "    x = torch.cat([cls_token, x], dim=1)\n",
        "    x = self.dropout(x)\n",
        "    for att, ff in self.layers:\n",
        "      x = att(x)\n",
        "      x = ff(x)\n",
        "    pooled_x = x[:, 0]\n",
        "    logits = self.mlp_head(pooled_x)\n",
        "    loss = None\n",
        "    if labels is not None:\n",
        "      loss_fct = nn.CrossEntropyLoss()\n",
        "      loss = loss_fct(logits.view(logits.size(0), -1), labels.view(-1))\n",
        "    return (loss, logits)"
      ],
      "execution_count": 52,
      "outputs": []
    },
    {
      "cell_type": "code",
      "metadata": {
        "id": "WOs0VCeOs51Y"
      },
      "source": [
        "TS = TransformerTimeSeries(dim=1024, \n",
        "                           hidden_dim=2048, \n",
        "                           mlp_dim=512, \n",
        "                           num_classes=2,\n",
        "                           depth=4, \n",
        "                           dropout=0.5)\n",
        "TS = TS.double()"
      ],
      "execution_count": 53,
      "outputs": []
    },
    {
      "cell_type": "code",
      "metadata": {
        "id": "1Wb9h5RtudVX"
      },
      "source": [
        ""
      ],
      "execution_count": null,
      "outputs": []
    }
  ]
}