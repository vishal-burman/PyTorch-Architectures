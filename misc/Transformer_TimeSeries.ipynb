{
  "nbformat": 4,
  "nbformat_minor": 0,
  "metadata": {
    "colab": {
      "name": "Transformer_TimeSeries.ipynb",
      "provenance": [],
      "authorship_tag": "ABX9TyPnC9sWDGr07pDbBoxpUDIh",
      "include_colab_link": true
    },
    "kernelspec": {
      "name": "python3",
      "display_name": "Python 3"
    },
    "language_info": {
      "name": "python"
    }
  },
  "cells": [
    {
      "cell_type": "markdown",
      "metadata": {
        "id": "view-in-github",
        "colab_type": "text"
      },
      "source": [
        "<a href=\"https://colab.research.google.com/github/vishal-burman/PyTorch-Architectures/blob/master/misc/Transformer_TimeSeries.ipynb\" target=\"_parent\"><img src=\"https://colab.research.google.com/assets/colab-badge.svg\" alt=\"Open In Colab\"/></a>"
      ]
    },
    {
      "cell_type": "code",
      "metadata": {
        "id": "YbPWWPTkT_JU"
      },
      "source": [
        "import numpy as np\n",
        "import torch\n",
        "import torch.nn as nn\n",
        "from torch.utils.data import Dataset, DataLoader"
      ],
      "execution_count": 1,
      "outputs": []
    },
    {
      "cell_type": "code",
      "metadata": {
        "id": "XYnl3-cwSQX9"
      },
      "source": [
        "class CustomDataset(Dataset):\n",
        "  def __init__(self, train=True):\n",
        "    self.root_url = \"https://raw.githubusercontent.com/hfawaz/cd-diagram/master/FordA/\"\n",
        "    self.url = self.root_url + (\"FordA_TRAIN.tsv\" if train else \"FordA_TEST.tsv\")\n",
        "    self.data = np.loadtxt(self.url, delimiter=\"\\t\")\n",
        "    self.x = self.data[:, 1:]\n",
        "    self.y = self.data[:, 0].astype(int)\n",
        "    self.y[self.y == -1] = 0\n",
        "  \n",
        "  def __len__(self,):\n",
        "    return len(self.data)\n",
        "  \n",
        "  def __getitem__(self, idx):\n",
        "    inputs = self.x[idx]\n",
        "    labels = self.y[idx]\n",
        "    return (inputs, labels)\n",
        "\n",
        "  def collate_fn(self, batch):\n",
        "    inputs = []\n",
        "    labels = []\n",
        "    for sample in batch:\n",
        "      inputs.append(sample[0])\n",
        "      labels.append(sample[1])\n",
        "    inputs = torch.tensor(inputs)\n",
        "    labels = torch.tensor(labels, dtype=torch.long)\n",
        "    return {\n",
        "        'inputs': inputs[:, :, None],\n",
        "        'labels': labels[:, None, None],\n",
        "    }"
      ],
      "execution_count": 90,
      "outputs": []
    },
    {
      "cell_type": "code",
      "metadata": {
        "id": "gRWhsUxpVOCf"
      },
      "source": [
        "class PreNorm(nn.Module):\n",
        "  def __init__(self, dim, fn):\n",
        "    super().__init__()\n",
        "    self.layernorm = nn.LayerNorm(dim)\n",
        "    self.fn = fn\n",
        "  \n",
        "  def forward(self, x, **kwargs):\n",
        "    return self.fn(self.layernorm(x), **kwargs)"
      ],
      "execution_count": 93,
      "outputs": []
    },
    {
      "cell_type": "code",
      "metadata": {
        "id": "geVIdoPPZObo"
      },
      "source": [
        "class Residual(nn.Module):\n",
        "  def __init__(self, fn):\n",
        "    super().__init__()\n",
        "    self.fn = fn\n",
        "  \n",
        "  def forward(self, x, **kwargs):\n",
        "    return self.fn(x, **kwargs) + x"
      ],
      "execution_count": 94,
      "outputs": []
    },
    {
      "cell_type": "code",
      "metadata": {
        "id": "iDV9JopJobCo"
      },
      "source": [
        "class FeedForward(nn.Module):\n",
        "  def __init__(self, dim, hidden_dim, dropout=0.):\n",
        "    super().__init__()\n",
        "    self.net = nn.Sequential(\n",
        "        nn.Linear(dim, hidden_dim),\n",
        "        nn.GELU(),\n",
        "        nn.Dropout(dropout),\n",
        "        nn.Linear(hidden_dim, dim),\n",
        "        nn.Dropout(dropout),\n",
        "    )\n",
        "  \n",
        "  def forward(self, x):\n",
        "    return self.net(x)"
      ],
      "execution_count": 95,
      "outputs": []
    },
    {
      "cell_type": "code",
      "metadata": {
        "id": "7jz1SZfNp1gV"
      },
      "source": [
        ""
      ],
      "execution_count": null,
      "outputs": []
    }
  ]
}