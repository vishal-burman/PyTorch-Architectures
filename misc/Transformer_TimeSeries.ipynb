{
  "nbformat": 4,
  "nbformat_minor": 0,
  "metadata": {
    "colab": {
      "name": "Transformer_TimeSeries.ipynb",
      "provenance": [],
      "authorship_tag": "ABX9TyMaax1mmh+YDIc7Jhz04M7/",
      "include_colab_link": true
    },
    "kernelspec": {
      "name": "python3",
      "display_name": "Python 3"
    },
    "language_info": {
      "name": "python"
    }
  },
  "cells": [
    {
      "cell_type": "markdown",
      "metadata": {
        "id": "view-in-github",
        "colab_type": "text"
      },
      "source": [
        "<a href=\"https://colab.research.google.com/github/vishal-burman/PyTorch-Architectures/blob/master/misc/Transformer_TimeSeries.ipynb\" target=\"_parent\"><img src=\"https://colab.research.google.com/assets/colab-badge.svg\" alt=\"Open In Colab\"/></a>"
      ]
    },
    {
      "cell_type": "code",
      "metadata": {
        "id": "YbPWWPTkT_JU"
      },
      "source": [
        "import numpy as np\n",
        "import torch\n",
        "import torch.nn as nn\n",
        "from torch.utils.data import Dataset, DataLoader"
      ],
      "execution_count": 1,
      "outputs": []
    },
    {
      "cell_type": "code",
      "metadata": {
        "id": "XYnl3-cwSQX9"
      },
      "source": [
        "class CustomDataset(Dataset):\n",
        "  def __init__(self, train=True):\n",
        "    self.root_url = \"https://raw.githubusercontent.com/hfawaz/cd-diagram/master/FordA/\"\n",
        "    self.url = self.root_url + (\"FordA_TRAIN.tsv\" if train else \"FordA_TEST.tsv\")\n",
        "    self.data = np.loadtxt(self.url, delimiter=\"\\t\")\n",
        "    self.x = self.data[:, 1:]\n",
        "    self.y = self.data[:, 0]\n",
        "  \n",
        "  def __len__(self,):\n",
        "    return len(self.data)\n",
        "  \n",
        "  def __getitem__(self, idx):\n",
        "    inputs = self.x[idx]\n",
        "    labels = self.y[idx]\n",
        "    return (inputs, labels)\n",
        "\n",
        "  def collate_fn(self, batch):\n",
        "    inputs = []\n",
        "    labels = []\n",
        "    for sample in batch:\n",
        "      inputs.append(sample[0])\n",
        "      labels.append(sample[1])\n",
        "    return {\n",
        "        'inputs': torch.tensor(inputs),\n",
        "        'labels': torch.tensor(labels, dtype=torch.long),\n",
        "    }"
      ],
      "execution_count": 58,
      "outputs": []
    },
    {
      "cell_type": "code",
      "metadata": {
        "id": "gRWhsUxpVOCf"
      },
      "source": [
        ""
      ],
      "execution_count": null,
      "outputs": []
    }
  ]
}