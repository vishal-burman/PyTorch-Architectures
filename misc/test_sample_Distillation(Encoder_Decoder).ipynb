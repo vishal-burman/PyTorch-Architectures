{
  "nbformat": 4,
  "nbformat_minor": 0,
  "metadata": {
    "colab": {
      "name": "test_sample_Distillation(Encoder-Decoder).ipynb",
      "provenance": [],
      "collapsed_sections": [],
      "authorship_tag": "ABX9TyNIEyVmXwbyrtGrC5eXE6Di",
      "include_colab_link": true
    },
    "kernelspec": {
      "name": "python3",
      "display_name": "Python 3"
    }
  },
  "cells": [
    {
      "cell_type": "markdown",
      "metadata": {
        "id": "view-in-github",
        "colab_type": "text"
      },
      "source": [
        "<a href=\"https://colab.research.google.com/github/vishal-burman/PyTorch-Architectures/blob/master/misc/test_sample_Distillation(Encoder_Decoder).ipynb\" target=\"_parent\"><img src=\"https://colab.research.google.com/assets/colab-badge.svg\" alt=\"Open In Colab\"/></a>"
      ]
    },
    {
      "cell_type": "code",
      "metadata": {
        "id": "MFQWhZKYG1vt"
      },
      "source": [
        "! pip install transformers\r\n",
        "! pip install sentencepiece"
      ],
      "execution_count": null,
      "outputs": []
    },
    {
      "cell_type": "code",
      "metadata": {
        "id": "85CyA_nvK9wT"
      },
      "source": [
        "from transformers import AutoModelForSeq2SeqLM, AutoTokenizer"
      ],
      "execution_count": 2,
      "outputs": []
    },
    {
      "cell_type": "code",
      "metadata": {
        "id": "PHtxVHZmLNfp"
      },
      "source": [
        "#############\r\n",
        "# Settings\r\n",
        "#############\r\n",
        "\r\n",
        "teacher = 't5-small'\r\n",
        "e = 3 # --> target encoder layers\r\n",
        "d = 3 # --> target decoder layers\r\n",
        "save_path = 'save_folder'"
      ],
      "execution_count": 4,
      "outputs": []
    },
    {
      "cell_type": "code",
      "metadata": {
        "id": "-zLIOMRfLfWa"
      },
      "source": [
        "AutoTokenizer.from_pretrained(teacher).save_pretrained(save_path) # --> purely for convenience\r\n",
        "teacher = AutoModelForSeq2SeqLM.from_pretrained(teacher).eval()"
      ],
      "execution_count": null,
      "outputs": []
    },
    {
      "cell_type": "code",
      "metadata": {
        "id": "jFj4KKnwMNeH"
      },
      "source": [
        "init_kwargs = teacher.config.to_diff_dict()\r\n",
        "teacher_e, teacher_d = teacher.config.num_layers, teacher.config.num_decoder_layers\r\n",
        "init_kwargs.update({'num_layers': e, 'num_decoder_layers': d}) # --> update configuration with target encoder & decoder layers"
      ],
      "execution_count": 10,
      "outputs": []
    },
    {
      "cell_type": "code",
      "metadata": {
        "id": "YEG-wA4SMXMS"
      },
      "source": [
        "student_cfg = teacher.config_class(**init_kwargs)\r\n",
        "student = AutoModelForSeq2SeqLM.from_config(student_cfg)\r\n",
        "info = student.load_state_dict(teacher.state_dict(), strict=False)\r\n",
        "assert info.missing_keys == [], info.missing_keys # --> every student should have teacher keys"
      ],
      "execution_count": 12,
      "outputs": []
    },
    {
      "cell_type": "code",
      "metadata": {
        "colab": {
          "base_uri": "https://localhost:8080/"
        },
        "id": "2x9a-5qFNTta",
        "outputId": "1c3f8426-4508-4647-f7f0-5176aec7b9c9"
      },
      "source": [
        "# TODO\r\n",
        "\r\n",
        "def pick_layers_to_copy(n_student, n_teacher):\r\n",
        "  pass\r\n",
        "\r\n",
        "if e is not None:\r\n",
        "  e_layers_to_copy = pick_layers_to_copy(e, teacher_e)\r\n",
        "\r\n",
        "if d is not None:\r\n",
        "  d_layers_to_copy = pick_layers_to_copy(d, teacher_d)"
      ],
      "execution_count": 13,
      "outputs": [
        {
          "output_type": "execute_result",
          "data": {
            "text/plain": [
              "True"
            ]
          },
          "metadata": {
            "tags": []
          },
          "execution_count": 13
        }
      ]
    },
    {
      "cell_type": "code",
      "metadata": {
        "id": "yHvQcX--PGez"
      },
      "source": [
        ""
      ],
      "execution_count": null,
      "outputs": []
    }
  ]
}