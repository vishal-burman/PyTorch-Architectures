{
  "nbformat": 4,
  "nbformat_minor": 0,
  "metadata": {
    "colab": {
      "name": "T5Unjumble.ipynb",
      "provenance": [],
      "collapsed_sections": [],
      "authorship_tag": "ABX9TyP7z7dbwDzBaPVQ1Xow2/7g",
      "include_colab_link": true
    },
    "kernelspec": {
      "name": "python3",
      "display_name": "Python 3"
    },
    "widgets": {
      "application/vnd.jupyter.widget-state+json": {
        "60985f4aabea46b5ae0496c8919e20c2": {
          "model_module": "@jupyter-widgets/controls",
          "model_name": "HBoxModel",
          "state": {
            "_view_name": "HBoxView",
            "_dom_classes": [],
            "_model_name": "HBoxModel",
            "_view_module": "@jupyter-widgets/controls",
            "_model_module_version": "1.5.0",
            "_view_count": null,
            "_view_module_version": "1.5.0",
            "box_style": "",
            "layout": "IPY_MODEL_91cfe260de0d464b91cb20d79a0e18bf",
            "_model_module": "@jupyter-widgets/controls",
            "children": [
              "IPY_MODEL_ae2292dfb7ba4d3f8326c73c7695c5de",
              "IPY_MODEL_104a001be05f4d4c87401e91c6588f48"
            ]
          }
        },
        "91cfe260de0d464b91cb20d79a0e18bf": {
          "model_module": "@jupyter-widgets/base",
          "model_name": "LayoutModel",
          "state": {
            "_view_name": "LayoutView",
            "grid_template_rows": null,
            "right": null,
            "justify_content": null,
            "_view_module": "@jupyter-widgets/base",
            "overflow": null,
            "_model_module_version": "1.2.0",
            "_view_count": null,
            "flex_flow": null,
            "width": null,
            "min_width": null,
            "border": null,
            "align_items": null,
            "bottom": null,
            "_model_module": "@jupyter-widgets/base",
            "top": null,
            "grid_column": null,
            "overflow_y": null,
            "overflow_x": null,
            "grid_auto_flow": null,
            "grid_area": null,
            "grid_template_columns": null,
            "flex": null,
            "_model_name": "LayoutModel",
            "justify_items": null,
            "grid_row": null,
            "max_height": null,
            "align_content": null,
            "visibility": null,
            "align_self": null,
            "height": null,
            "min_height": null,
            "padding": null,
            "grid_auto_rows": null,
            "grid_gap": null,
            "max_width": null,
            "order": null,
            "_view_module_version": "1.2.0",
            "grid_template_areas": null,
            "object_position": null,
            "object_fit": null,
            "grid_auto_columns": null,
            "margin": null,
            "display": null,
            "left": null
          }
        },
        "ae2292dfb7ba4d3f8326c73c7695c5de": {
          "model_module": "@jupyter-widgets/controls",
          "model_name": "FloatProgressModel",
          "state": {
            "_view_name": "ProgressView",
            "style": "IPY_MODEL_27baa413659b44e19c27706bd00d0f37",
            "_dom_classes": [],
            "description": "Downloading: 100%",
            "_model_name": "FloatProgressModel",
            "bar_style": "success",
            "max": 791656,
            "_view_module": "@jupyter-widgets/controls",
            "_model_module_version": "1.5.0",
            "value": 791656,
            "_view_count": null,
            "_view_module_version": "1.5.0",
            "orientation": "horizontal",
            "min": 0,
            "description_tooltip": null,
            "_model_module": "@jupyter-widgets/controls",
            "layout": "IPY_MODEL_a66e6f1523cc4d4a870232ede3e2c3ca"
          }
        },
        "104a001be05f4d4c87401e91c6588f48": {
          "model_module": "@jupyter-widgets/controls",
          "model_name": "HTMLModel",
          "state": {
            "_view_name": "HTMLView",
            "style": "IPY_MODEL_b86f6c4b391c4272a5529c191d1c114d",
            "_dom_classes": [],
            "description": "",
            "_model_name": "HTMLModel",
            "placeholder": "​",
            "_view_module": "@jupyter-widgets/controls",
            "_model_module_version": "1.5.0",
            "value": " 792k/792k [00:00&lt;00:00, 984kB/s]",
            "_view_count": null,
            "_view_module_version": "1.5.0",
            "description_tooltip": null,
            "_model_module": "@jupyter-widgets/controls",
            "layout": "IPY_MODEL_86e76bb81f8145c18e17b16fd10f0f93"
          }
        },
        "27baa413659b44e19c27706bd00d0f37": {
          "model_module": "@jupyter-widgets/controls",
          "model_name": "ProgressStyleModel",
          "state": {
            "_view_name": "StyleView",
            "_model_name": "ProgressStyleModel",
            "description_width": "initial",
            "_view_module": "@jupyter-widgets/base",
            "_model_module_version": "1.5.0",
            "_view_count": null,
            "_view_module_version": "1.2.0",
            "bar_color": null,
            "_model_module": "@jupyter-widgets/controls"
          }
        },
        "a66e6f1523cc4d4a870232ede3e2c3ca": {
          "model_module": "@jupyter-widgets/base",
          "model_name": "LayoutModel",
          "state": {
            "_view_name": "LayoutView",
            "grid_template_rows": null,
            "right": null,
            "justify_content": null,
            "_view_module": "@jupyter-widgets/base",
            "overflow": null,
            "_model_module_version": "1.2.0",
            "_view_count": null,
            "flex_flow": null,
            "width": null,
            "min_width": null,
            "border": null,
            "align_items": null,
            "bottom": null,
            "_model_module": "@jupyter-widgets/base",
            "top": null,
            "grid_column": null,
            "overflow_y": null,
            "overflow_x": null,
            "grid_auto_flow": null,
            "grid_area": null,
            "grid_template_columns": null,
            "flex": null,
            "_model_name": "LayoutModel",
            "justify_items": null,
            "grid_row": null,
            "max_height": null,
            "align_content": null,
            "visibility": null,
            "align_self": null,
            "height": null,
            "min_height": null,
            "padding": null,
            "grid_auto_rows": null,
            "grid_gap": null,
            "max_width": null,
            "order": null,
            "_view_module_version": "1.2.0",
            "grid_template_areas": null,
            "object_position": null,
            "object_fit": null,
            "grid_auto_columns": null,
            "margin": null,
            "display": null,
            "left": null
          }
        },
        "b86f6c4b391c4272a5529c191d1c114d": {
          "model_module": "@jupyter-widgets/controls",
          "model_name": "DescriptionStyleModel",
          "state": {
            "_view_name": "StyleView",
            "_model_name": "DescriptionStyleModel",
            "description_width": "",
            "_view_module": "@jupyter-widgets/base",
            "_model_module_version": "1.5.0",
            "_view_count": null,
            "_view_module_version": "1.2.0",
            "_model_module": "@jupyter-widgets/controls"
          }
        },
        "86e76bb81f8145c18e17b16fd10f0f93": {
          "model_module": "@jupyter-widgets/base",
          "model_name": "LayoutModel",
          "state": {
            "_view_name": "LayoutView",
            "grid_template_rows": null,
            "right": null,
            "justify_content": null,
            "_view_module": "@jupyter-widgets/base",
            "overflow": null,
            "_model_module_version": "1.2.0",
            "_view_count": null,
            "flex_flow": null,
            "width": null,
            "min_width": null,
            "border": null,
            "align_items": null,
            "bottom": null,
            "_model_module": "@jupyter-widgets/base",
            "top": null,
            "grid_column": null,
            "overflow_y": null,
            "overflow_x": null,
            "grid_auto_flow": null,
            "grid_area": null,
            "grid_template_columns": null,
            "flex": null,
            "_model_name": "LayoutModel",
            "justify_items": null,
            "grid_row": null,
            "max_height": null,
            "align_content": null,
            "visibility": null,
            "align_self": null,
            "height": null,
            "min_height": null,
            "padding": null,
            "grid_auto_rows": null,
            "grid_gap": null,
            "max_width": null,
            "order": null,
            "_view_module_version": "1.2.0",
            "grid_template_areas": null,
            "object_position": null,
            "object_fit": null,
            "grid_auto_columns": null,
            "margin": null,
            "display": null,
            "left": null
          }
        },
        "dd9e598a1b604720a4ed5848687e095b": {
          "model_module": "@jupyter-widgets/controls",
          "model_name": "HBoxModel",
          "state": {
            "_view_name": "HBoxView",
            "_dom_classes": [],
            "_model_name": "HBoxModel",
            "_view_module": "@jupyter-widgets/controls",
            "_model_module_version": "1.5.0",
            "_view_count": null,
            "_view_module_version": "1.5.0",
            "box_style": "",
            "layout": "IPY_MODEL_3d760605c18f426c9cec5e8e60d49c22",
            "_model_module": "@jupyter-widgets/controls",
            "children": [
              "IPY_MODEL_fa4aebe4f3a64837b11f7ded9265e267",
              "IPY_MODEL_a77322ba37c94f968d649fde6d8afaab"
            ]
          }
        },
        "3d760605c18f426c9cec5e8e60d49c22": {
          "model_module": "@jupyter-widgets/base",
          "model_name": "LayoutModel",
          "state": {
            "_view_name": "LayoutView",
            "grid_template_rows": null,
            "right": null,
            "justify_content": null,
            "_view_module": "@jupyter-widgets/base",
            "overflow": null,
            "_model_module_version": "1.2.0",
            "_view_count": null,
            "flex_flow": null,
            "width": null,
            "min_width": null,
            "border": null,
            "align_items": null,
            "bottom": null,
            "_model_module": "@jupyter-widgets/base",
            "top": null,
            "grid_column": null,
            "overflow_y": null,
            "overflow_x": null,
            "grid_auto_flow": null,
            "grid_area": null,
            "grid_template_columns": null,
            "flex": null,
            "_model_name": "LayoutModel",
            "justify_items": null,
            "grid_row": null,
            "max_height": null,
            "align_content": null,
            "visibility": null,
            "align_self": null,
            "height": null,
            "min_height": null,
            "padding": null,
            "grid_auto_rows": null,
            "grid_gap": null,
            "max_width": null,
            "order": null,
            "_view_module_version": "1.2.0",
            "grid_template_areas": null,
            "object_position": null,
            "object_fit": null,
            "grid_auto_columns": null,
            "margin": null,
            "display": null,
            "left": null
          }
        },
        "fa4aebe4f3a64837b11f7ded9265e267": {
          "model_module": "@jupyter-widgets/controls",
          "model_name": "FloatProgressModel",
          "state": {
            "_view_name": "ProgressView",
            "style": "IPY_MODEL_9775f3b9bfce4523ba9aedfcd250c2d0",
            "_dom_classes": [],
            "description": "Downloading: 100%",
            "_model_name": "FloatProgressModel",
            "bar_style": "success",
            "max": 1199,
            "_view_module": "@jupyter-widgets/controls",
            "_model_module_version": "1.5.0",
            "value": 1199,
            "_view_count": null,
            "_view_module_version": "1.5.0",
            "orientation": "horizontal",
            "min": 0,
            "description_tooltip": null,
            "_model_module": "@jupyter-widgets/controls",
            "layout": "IPY_MODEL_480b48cd7c954a7397b4416e3c97d6b6"
          }
        },
        "a77322ba37c94f968d649fde6d8afaab": {
          "model_module": "@jupyter-widgets/controls",
          "model_name": "HTMLModel",
          "state": {
            "_view_name": "HTMLView",
            "style": "IPY_MODEL_8bc65abf1e7b4f05a3096d19ed79d9af",
            "_dom_classes": [],
            "description": "",
            "_model_name": "HTMLModel",
            "placeholder": "​",
            "_view_module": "@jupyter-widgets/controls",
            "_model_module_version": "1.5.0",
            "value": " 1.20k/1.20k [00:35&lt;00:00, 33.6B/s]",
            "_view_count": null,
            "_view_module_version": "1.5.0",
            "description_tooltip": null,
            "_model_module": "@jupyter-widgets/controls",
            "layout": "IPY_MODEL_d35388f70ee54863ac42ad942238f914"
          }
        },
        "9775f3b9bfce4523ba9aedfcd250c2d0": {
          "model_module": "@jupyter-widgets/controls",
          "model_name": "ProgressStyleModel",
          "state": {
            "_view_name": "StyleView",
            "_model_name": "ProgressStyleModel",
            "description_width": "initial",
            "_view_module": "@jupyter-widgets/base",
            "_model_module_version": "1.5.0",
            "_view_count": null,
            "_view_module_version": "1.2.0",
            "bar_color": null,
            "_model_module": "@jupyter-widgets/controls"
          }
        },
        "480b48cd7c954a7397b4416e3c97d6b6": {
          "model_module": "@jupyter-widgets/base",
          "model_name": "LayoutModel",
          "state": {
            "_view_name": "LayoutView",
            "grid_template_rows": null,
            "right": null,
            "justify_content": null,
            "_view_module": "@jupyter-widgets/base",
            "overflow": null,
            "_model_module_version": "1.2.0",
            "_view_count": null,
            "flex_flow": null,
            "width": null,
            "min_width": null,
            "border": null,
            "align_items": null,
            "bottom": null,
            "_model_module": "@jupyter-widgets/base",
            "top": null,
            "grid_column": null,
            "overflow_y": null,
            "overflow_x": null,
            "grid_auto_flow": null,
            "grid_area": null,
            "grid_template_columns": null,
            "flex": null,
            "_model_name": "LayoutModel",
            "justify_items": null,
            "grid_row": null,
            "max_height": null,
            "align_content": null,
            "visibility": null,
            "align_self": null,
            "height": null,
            "min_height": null,
            "padding": null,
            "grid_auto_rows": null,
            "grid_gap": null,
            "max_width": null,
            "order": null,
            "_view_module_version": "1.2.0",
            "grid_template_areas": null,
            "object_position": null,
            "object_fit": null,
            "grid_auto_columns": null,
            "margin": null,
            "display": null,
            "left": null
          }
        },
        "8bc65abf1e7b4f05a3096d19ed79d9af": {
          "model_module": "@jupyter-widgets/controls",
          "model_name": "DescriptionStyleModel",
          "state": {
            "_view_name": "StyleView",
            "_model_name": "DescriptionStyleModel",
            "description_width": "",
            "_view_module": "@jupyter-widgets/base",
            "_model_module_version": "1.5.0",
            "_view_count": null,
            "_view_module_version": "1.2.0",
            "_model_module": "@jupyter-widgets/controls"
          }
        },
        "d35388f70ee54863ac42ad942238f914": {
          "model_module": "@jupyter-widgets/base",
          "model_name": "LayoutModel",
          "state": {
            "_view_name": "LayoutView",
            "grid_template_rows": null,
            "right": null,
            "justify_content": null,
            "_view_module": "@jupyter-widgets/base",
            "overflow": null,
            "_model_module_version": "1.2.0",
            "_view_count": null,
            "flex_flow": null,
            "width": null,
            "min_width": null,
            "border": null,
            "align_items": null,
            "bottom": null,
            "_model_module": "@jupyter-widgets/base",
            "top": null,
            "grid_column": null,
            "overflow_y": null,
            "overflow_x": null,
            "grid_auto_flow": null,
            "grid_area": null,
            "grid_template_columns": null,
            "flex": null,
            "_model_name": "LayoutModel",
            "justify_items": null,
            "grid_row": null,
            "max_height": null,
            "align_content": null,
            "visibility": null,
            "align_self": null,
            "height": null,
            "min_height": null,
            "padding": null,
            "grid_auto_rows": null,
            "grid_gap": null,
            "max_width": null,
            "order": null,
            "_view_module_version": "1.2.0",
            "grid_template_areas": null,
            "object_position": null,
            "object_fit": null,
            "grid_auto_columns": null,
            "margin": null,
            "display": null,
            "left": null
          }
        },
        "a811218582424170bb37d6b6ff100543": {
          "model_module": "@jupyter-widgets/controls",
          "model_name": "HBoxModel",
          "state": {
            "_view_name": "HBoxView",
            "_dom_classes": [],
            "_model_name": "HBoxModel",
            "_view_module": "@jupyter-widgets/controls",
            "_model_module_version": "1.5.0",
            "_view_count": null,
            "_view_module_version": "1.5.0",
            "box_style": "",
            "layout": "IPY_MODEL_c608a51c1bd6424b8bef817c401105bb",
            "_model_module": "@jupyter-widgets/controls",
            "children": [
              "IPY_MODEL_6b84f1bd5b074a36b0be72add3b4b6e5",
              "IPY_MODEL_247a8773483d46d99b1abedc4d8b8ab4"
            ]
          }
        },
        "c608a51c1bd6424b8bef817c401105bb": {
          "model_module": "@jupyter-widgets/base",
          "model_name": "LayoutModel",
          "state": {
            "_view_name": "LayoutView",
            "grid_template_rows": null,
            "right": null,
            "justify_content": null,
            "_view_module": "@jupyter-widgets/base",
            "overflow": null,
            "_model_module_version": "1.2.0",
            "_view_count": null,
            "flex_flow": null,
            "width": null,
            "min_width": null,
            "border": null,
            "align_items": null,
            "bottom": null,
            "_model_module": "@jupyter-widgets/base",
            "top": null,
            "grid_column": null,
            "overflow_y": null,
            "overflow_x": null,
            "grid_auto_flow": null,
            "grid_area": null,
            "grid_template_columns": null,
            "flex": null,
            "_model_name": "LayoutModel",
            "justify_items": null,
            "grid_row": null,
            "max_height": null,
            "align_content": null,
            "visibility": null,
            "align_self": null,
            "height": null,
            "min_height": null,
            "padding": null,
            "grid_auto_rows": null,
            "grid_gap": null,
            "max_width": null,
            "order": null,
            "_view_module_version": "1.2.0",
            "grid_template_areas": null,
            "object_position": null,
            "object_fit": null,
            "grid_auto_columns": null,
            "margin": null,
            "display": null,
            "left": null
          }
        },
        "6b84f1bd5b074a36b0be72add3b4b6e5": {
          "model_module": "@jupyter-widgets/controls",
          "model_name": "FloatProgressModel",
          "state": {
            "_view_name": "ProgressView",
            "style": "IPY_MODEL_fb604bce78234c6ab34000d27a6e7891",
            "_dom_classes": [],
            "description": "Downloading: 100%",
            "_model_name": "FloatProgressModel",
            "bar_style": "success",
            "max": 891691430,
            "_view_module": "@jupyter-widgets/controls",
            "_model_module_version": "1.5.0",
            "value": 891691430,
            "_view_count": null,
            "_view_module_version": "1.5.0",
            "orientation": "horizontal",
            "min": 0,
            "description_tooltip": null,
            "_model_module": "@jupyter-widgets/controls",
            "layout": "IPY_MODEL_ec8493d308ec434b9674976d7cf764c4"
          }
        },
        "247a8773483d46d99b1abedc4d8b8ab4": {
          "model_module": "@jupyter-widgets/controls",
          "model_name": "HTMLModel",
          "state": {
            "_view_name": "HTMLView",
            "style": "IPY_MODEL_852bf6e4a52642a297f5997e47592c1f",
            "_dom_classes": [],
            "description": "",
            "_model_name": "HTMLModel",
            "placeholder": "​",
            "_view_module": "@jupyter-widgets/controls",
            "_model_module_version": "1.5.0",
            "value": " 892M/892M [00:29&lt;00:00, 30.7MB/s]",
            "_view_count": null,
            "_view_module_version": "1.5.0",
            "description_tooltip": null,
            "_model_module": "@jupyter-widgets/controls",
            "layout": "IPY_MODEL_211d2efb53804f1bbe20c5a3329f8b49"
          }
        },
        "fb604bce78234c6ab34000d27a6e7891": {
          "model_module": "@jupyter-widgets/controls",
          "model_name": "ProgressStyleModel",
          "state": {
            "_view_name": "StyleView",
            "_model_name": "ProgressStyleModel",
            "description_width": "initial",
            "_view_module": "@jupyter-widgets/base",
            "_model_module_version": "1.5.0",
            "_view_count": null,
            "_view_module_version": "1.2.0",
            "bar_color": null,
            "_model_module": "@jupyter-widgets/controls"
          }
        },
        "ec8493d308ec434b9674976d7cf764c4": {
          "model_module": "@jupyter-widgets/base",
          "model_name": "LayoutModel",
          "state": {
            "_view_name": "LayoutView",
            "grid_template_rows": null,
            "right": null,
            "justify_content": null,
            "_view_module": "@jupyter-widgets/base",
            "overflow": null,
            "_model_module_version": "1.2.0",
            "_view_count": null,
            "flex_flow": null,
            "width": null,
            "min_width": null,
            "border": null,
            "align_items": null,
            "bottom": null,
            "_model_module": "@jupyter-widgets/base",
            "top": null,
            "grid_column": null,
            "overflow_y": null,
            "overflow_x": null,
            "grid_auto_flow": null,
            "grid_area": null,
            "grid_template_columns": null,
            "flex": null,
            "_model_name": "LayoutModel",
            "justify_items": null,
            "grid_row": null,
            "max_height": null,
            "align_content": null,
            "visibility": null,
            "align_self": null,
            "height": null,
            "min_height": null,
            "padding": null,
            "grid_auto_rows": null,
            "grid_gap": null,
            "max_width": null,
            "order": null,
            "_view_module_version": "1.2.0",
            "grid_template_areas": null,
            "object_position": null,
            "object_fit": null,
            "grid_auto_columns": null,
            "margin": null,
            "display": null,
            "left": null
          }
        },
        "852bf6e4a52642a297f5997e47592c1f": {
          "model_module": "@jupyter-widgets/controls",
          "model_name": "DescriptionStyleModel",
          "state": {
            "_view_name": "StyleView",
            "_model_name": "DescriptionStyleModel",
            "description_width": "",
            "_view_module": "@jupyter-widgets/base",
            "_model_module_version": "1.5.0",
            "_view_count": null,
            "_view_module_version": "1.2.0",
            "_model_module": "@jupyter-widgets/controls"
          }
        },
        "211d2efb53804f1bbe20c5a3329f8b49": {
          "model_module": "@jupyter-widgets/base",
          "model_name": "LayoutModel",
          "state": {
            "_view_name": "LayoutView",
            "grid_template_rows": null,
            "right": null,
            "justify_content": null,
            "_view_module": "@jupyter-widgets/base",
            "overflow": null,
            "_model_module_version": "1.2.0",
            "_view_count": null,
            "flex_flow": null,
            "width": null,
            "min_width": null,
            "border": null,
            "align_items": null,
            "bottom": null,
            "_model_module": "@jupyter-widgets/base",
            "top": null,
            "grid_column": null,
            "overflow_y": null,
            "overflow_x": null,
            "grid_auto_flow": null,
            "grid_area": null,
            "grid_template_columns": null,
            "flex": null,
            "_model_name": "LayoutModel",
            "justify_items": null,
            "grid_row": null,
            "max_height": null,
            "align_content": null,
            "visibility": null,
            "align_self": null,
            "height": null,
            "min_height": null,
            "padding": null,
            "grid_auto_rows": null,
            "grid_gap": null,
            "max_width": null,
            "order": null,
            "_view_module_version": "1.2.0",
            "grid_template_areas": null,
            "object_position": null,
            "object_fit": null,
            "grid_auto_columns": null,
            "margin": null,
            "display": null,
            "left": null
          }
        }
      }
    },
    "accelerator": "GPU"
  },
  "cells": [
    {
      "cell_type": "markdown",
      "metadata": {
        "id": "view-in-github",
        "colab_type": "text"
      },
      "source": [
        "<a href=\"https://colab.research.google.com/github/vishal-burman/PyTorch-Architectures/blob/master/misc/T5Unjumble.ipynb\" target=\"_parent\"><img src=\"https://colab.research.google.com/assets/colab-badge.svg\" alt=\"Open In Colab\"/></a>"
      ]
    },
    {
      "cell_type": "code",
      "metadata": {
        "id": "xsBGK-2pnfRe"
      },
      "source": [
        "! pip install transformers\r\n",
        "! pip install datasets\r\n",
        "! pip install sentencepiece"
      ],
      "execution_count": null,
      "outputs": []
    },
    {
      "cell_type": "code",
      "metadata": {
        "id": "xaCg7m9FnpDj",
        "colab": {
          "base_uri": "https://localhost:8080/"
        },
        "outputId": "6a7a6edb-7ee9-459c-d1ed-a7b80025030b"
      },
      "source": [
        "import time\r\n",
        "import random\r\n",
        "\r\n",
        "import torch\r\n",
        "from torch.utils.data import DataLoader, Dataset\r\n",
        "\r\n",
        "from transformers import T5ForConditionalGeneration, T5Tokenizer\r\n",
        "from datasets import load_dataset\r\n",
        "\r\n",
        "dataset = load_dataset('quora')"
      ],
      "execution_count": 1,
      "outputs": [
        {
          "output_type": "stream",
          "text": [
            "Using custom data configuration default\n",
            "Reusing dataset quora (/root/.cache/huggingface/datasets/quora/default/0.0.0/2be517cf0ac6de94b77a103a36b141347a13f40637fbebaccb56ddbe397876be)\n"
          ],
          "name": "stderr"
        }
      ]
    },
    {
      "cell_type": "code",
      "metadata": {
        "id": "odz7aLtPoonu"
      },
      "source": [
        "device = torch.device(\"cuda:0\" if torch.cuda.is_available() else \"cpu\")"
      ],
      "execution_count": 2,
      "outputs": []
    },
    {
      "cell_type": "code",
      "metadata": {
        "id": "t5HlSdhypnHb"
      },
      "source": [
        "question_list = dataset['train']['questions']"
      ],
      "execution_count": 3,
      "outputs": []
    },
    {
      "cell_type": "code",
      "metadata": {
        "id": "Z8B7doXgqGna"
      },
      "source": [
        "sent_train = [question['text'][0] for question in question_list[:10000]]\r\n",
        "sent_valid = [question['text'][0] for question in question_list[10000:15000]]"
      ],
      "execution_count": 4,
      "outputs": []
    },
    {
      "cell_type": "code",
      "metadata": {
        "id": "R6SYPaA5o0wE"
      },
      "source": [
        "class UJDataset(Dataset):\r\n",
        "  def __init__(self, sent_list):\r\n",
        "    self.sent_list = sent_list\r\n",
        "    self.sample_list = []\r\n",
        "    self.build()\r\n",
        "\r\n",
        "  def __len__(self):\r\n",
        "    return len(self.sample_list)\r\n",
        "  \r\n",
        "  def __getitem__(self, idx):\r\n",
        "    sample = self.sample_list[idx]\r\n",
        "    return {\r\n",
        "        'src': sample['src'],\r\n",
        "        'tgt': sample['tgt'],\r\n",
        "    }\r\n",
        "\r\n",
        "  def build(self):\r\n",
        "    for sent in self.sent_list:\r\n",
        "      unj = sent\r\n",
        "      words = sent.split(\" \")\r\n",
        "      random.shuffle(words)\r\n",
        "      jum = ' '.join(words)\r\n",
        "      self.sample_list.append({'src': jum, 'tgt': unj})"
      ],
      "execution_count": 5,
      "outputs": []
    },
    {
      "cell_type": "code",
      "metadata": {
        "colab": {
          "base_uri": "https://localhost:8080/",
          "height": 264,
          "referenced_widgets": [
            "60985f4aabea46b5ae0496c8919e20c2",
            "91cfe260de0d464b91cb20d79a0e18bf",
            "ae2292dfb7ba4d3f8326c73c7695c5de",
            "104a001be05f4d4c87401e91c6588f48",
            "27baa413659b44e19c27706bd00d0f37",
            "a66e6f1523cc4d4a870232ede3e2c3ca",
            "b86f6c4b391c4272a5529c191d1c114d",
            "86e76bb81f8145c18e17b16fd10f0f93",
            "dd9e598a1b604720a4ed5848687e095b",
            "3d760605c18f426c9cec5e8e60d49c22",
            "fa4aebe4f3a64837b11f7ded9265e267",
            "a77322ba37c94f968d649fde6d8afaab",
            "9775f3b9bfce4523ba9aedfcd250c2d0",
            "480b48cd7c954a7397b4416e3c97d6b6",
            "8bc65abf1e7b4f05a3096d19ed79d9af",
            "d35388f70ee54863ac42ad942238f914",
            "a811218582424170bb37d6b6ff100543",
            "c608a51c1bd6424b8bef817c401105bb",
            "6b84f1bd5b074a36b0be72add3b4b6e5",
            "247a8773483d46d99b1abedc4d8b8ab4",
            "fb604bce78234c6ab34000d27a6e7891",
            "ec8493d308ec434b9674976d7cf764c4",
            "852bf6e4a52642a297f5997e47592c1f",
            "211d2efb53804f1bbe20c5a3329f8b49"
          ]
        },
        "id": "Nmib6M0ioILu",
        "outputId": "41230531-89a6-41d5-fbef-0adce3a672c0"
      },
      "source": [
        "tokenizer = T5Tokenizer.from_pretrained('t5-base')\r\n",
        "model = T5ForConditionalGeneration.from_pretrained('t5-base')\r\n",
        "model.to(device)\r\n",
        "\r\n",
        "params = sum(p.numel() for p in model.parameters() if p.requires_grad)\r\n",
        "print('Total Trainable Parameters: ', params)"
      ],
      "execution_count": 6,
      "outputs": [
        {
          "output_type": "display_data",
          "data": {
            "application/vnd.jupyter.widget-view+json": {
              "model_id": "60985f4aabea46b5ae0496c8919e20c2",
              "version_minor": 0,
              "version_major": 2
            },
            "text/plain": [
              "HBox(children=(FloatProgress(value=0.0, description='Downloading', max=791656.0, style=ProgressStyle(descripti…"
            ]
          },
          "metadata": {
            "tags": []
          }
        },
        {
          "output_type": "stream",
          "text": [
            "\n"
          ],
          "name": "stdout"
        },
        {
          "output_type": "display_data",
          "data": {
            "application/vnd.jupyter.widget-view+json": {
              "model_id": "dd9e598a1b604720a4ed5848687e095b",
              "version_minor": 0,
              "version_major": 2
            },
            "text/plain": [
              "HBox(children=(FloatProgress(value=0.0, description='Downloading', max=1199.0, style=ProgressStyle(description…"
            ]
          },
          "metadata": {
            "tags": []
          }
        },
        {
          "output_type": "stream",
          "text": [
            "\n"
          ],
          "name": "stdout"
        },
        {
          "output_type": "display_data",
          "data": {
            "application/vnd.jupyter.widget-view+json": {
              "model_id": "a811218582424170bb37d6b6ff100543",
              "version_minor": 0,
              "version_major": 2
            },
            "text/plain": [
              "HBox(children=(FloatProgress(value=0.0, description='Downloading', max=891691430.0, style=ProgressStyle(descri…"
            ]
          },
          "metadata": {
            "tags": []
          }
        },
        {
          "output_type": "stream",
          "text": [
            "\n"
          ],
          "name": "stdout"
        },
        {
          "output_type": "stream",
          "text": [
            "Some weights of the model checkpoint at t5-base were not used when initializing T5ForConditionalGeneration: ['decoder.block.0.layer.1.EncDecAttention.relative_attention_bias.weight']\n",
            "- This IS expected if you are initializing T5ForConditionalGeneration from the checkpoint of a model trained on another task or with another architecture (e.g. initializing a BertForSequenceClassification model from a BertForPreTraining model).\n",
            "- This IS NOT expected if you are initializing T5ForConditionalGeneration from the checkpoint of a model that you expect to be exactly identical (initializing a BertForSequenceClassification model from a BertForSequenceClassification model).\n"
          ],
          "name": "stderr"
        },
        {
          "output_type": "stream",
          "text": [
            "Total Trainable Parameters:  222903552\n"
          ],
          "name": "stdout"
        }
      ]
    },
    {
      "cell_type": "code",
      "metadata": {
        "id": "jptOB1jbSsb7"
      },
      "source": [
        "train_dataset = UJDataset(sent_train)\r\n",
        "valid_dataset = UJDataset(sent_valid)"
      ],
      "execution_count": 7,
      "outputs": []
    },
    {
      "cell_type": "code",
      "metadata": {
        "id": "TlBQBk7hblrx",
        "colab": {
          "base_uri": "https://localhost:8080/"
        },
        "outputId": "8f585e82-193e-48ab-f36c-1271b4104226"
      },
      "source": [
        "BATCH_SIZE = 8\r\n",
        "EPOCHS = 5\r\n",
        "LEARNING_RATE = 3e-5\r\n",
        "MAX_LENGTH = 16\r\n",
        "\r\n",
        "train_loader = DataLoader(dataset=train_dataset, batch_size=BATCH_SIZE, shuffle=True)\r\n",
        "valid_loader = DataLoader(dataset=valid_dataset, batch_size=BATCH_SIZE, shuffle=False)\r\n",
        "\r\n",
        "# Check dataset\r\n",
        "for sample in train_loader:\r\n",
        "  print(sample['src'], \"\\n\")\r\n",
        "  break\r\n",
        "\r\n",
        "print(\"Length of Train Loader: \", len(train_loader))\r\n",
        "print(\"Length of Valid Loader: \", len(valid_loader))\r\n",
        "\r\n",
        "optimizer = torch.optim.AdamW(model.parameters(), lr=LEARNING_RATE)"
      ],
      "execution_count": 8,
      "outputs": [
        {
          "output_type": "stream",
          "text": [
            "['practice in coding IT essential Is firms? placement for competitive', 'do should How live? we', 'are What blogs Quora? some on good', 'can spoken my English I How improve ability?', '(logical is reasoning) LR best CAT? the book What for', 'are started to What or references learning? books machine get with some good', 'according Trump When was to that year great last campaign? was the the America', 'the play guitar learn by the What way to to myself? best is'] \n",
            "\n",
            "Length of Train Loader:  1250\n",
            "Length of Valid Loader:  625\n"
          ],
          "name": "stdout"
        }
      ]
    },
    {
      "cell_type": "code",
      "metadata": {
        "id": "mC--rFvNcAxJ",
        "colab": {
          "base_uri": "https://localhost:8080/"
        },
        "outputId": "01f0655b-154a-4513-b381-a043a72dace7"
      },
      "source": [
        "def compute_loss(model, data_loader, device):\r\n",
        "  list_loss = []\r\n",
        "  for sample in data_loader:\r\n",
        "    tokens = tokenizer.prepare_seq2seq_batch(src_texts=sample['src'], tgt_texts=sample['tgt'], max_length=MAX_LENGTH, max_target_length=MAX_LENGTH, padding='max_length', truncation=True, return_tensors='pt')\r\n",
        "    ids = tokens['input_ids'].to(device)\r\n",
        "    mask = tokens['attention_mask'].to(device)\r\n",
        "    tgt = tokens['labels'].to(device)\r\n",
        "    loss = model(input_ids=ids, attention_mask=mask, labels=tgt).loss\r\n",
        "    list_loss.append(loss.item())\r\n",
        "  final_loss_mean = torch.tensor(list_loss).mean()\r\n",
        "  return final_loss_mean\r\n",
        "\r\n",
        "start_time = time.time()\r\n",
        "for epoch in range(EPOCHS):\r\n",
        "  model.train()\r\n",
        "  for idx, sample in enumerate(train_loader):\r\n",
        "    tokens = tokenizer.prepare_seq2seq_batch(src_texts=sample['src'], tgt_texts=sample['tgt'], max_length=MAX_LENGTH, max_target_length=MAX_LENGTH, padding='max_length', truncation=True, return_tensors='pt')\r\n",
        "    ids = tokens['input_ids'].to(device)\r\n",
        "    mask = tokens['attention_mask'].to(device)\r\n",
        "    tgt = tokens['labels'].to(device)\r\n",
        "    outputs = model(input_ids=ids, attention_mask=mask, labels=tgt)\r\n",
        "    \r\n",
        "    optimizer.zero_grad()\r\n",
        "    loss = outputs.loss\r\n",
        "    loss.backward()\r\n",
        "    optimizer.step()\r\n",
        "\r\n",
        "    # LOGGING\r\n",
        "    if idx % 300 == 0:\r\n",
        "      print(\"BATCH: %04d/%04d || Epoch: %04d/%04d || Loss: %.3f\" % (idx, len(train_loader), epoch+1, EPOCHS, loss.item()))\r\n",
        "  \r\n",
        "  model.eval()\r\n",
        "  with torch.set_grad_enabled(False):\r\n",
        "    valid_loss = compute_loss(model, valid_loader, device)\r\n",
        "    print('Valid Loss: %.3f' % (valid_loss))\r\n",
        "  epoch_elapsed_time = (time.time() - start_time) / 60\r\n",
        "  print('Epoch elapsed time: %.2f min' % (epoch_elapsed_time))\r\n",
        "total_training_time = (time.time() - start_time) / 60\r\n",
        "print('Total training time: ', total_training_time)"
      ],
      "execution_count": 9,
      "outputs": [
        {
          "output_type": "stream",
          "text": [
            "BATCH: 0000/1250 || Epoch: 0001/0005 || Loss: 4.356\n",
            "BATCH: 0300/1250 || Epoch: 0001/0005 || Loss: 1.365\n",
            "BATCH: 0600/1250 || Epoch: 0001/0005 || Loss: 1.478\n",
            "BATCH: 0900/1250 || Epoch: 0001/0005 || Loss: 1.519\n",
            "BATCH: 1200/1250 || Epoch: 0001/0005 || Loss: 1.603\n",
            "Valid Loss: 0.744\n",
            "Epoch elapsed time: 4.04 min\n",
            "BATCH: 0000/1250 || Epoch: 0002/0005 || Loss: 0.477\n",
            "BATCH: 0300/1250 || Epoch: 0002/0005 || Loss: 0.813\n",
            "BATCH: 0600/1250 || Epoch: 0002/0005 || Loss: 0.381\n",
            "BATCH: 0900/1250 || Epoch: 0002/0005 || Loss: 1.549\n",
            "BATCH: 1200/1250 || Epoch: 0002/0005 || Loss: 0.477\n",
            "Valid Loss: 0.651\n",
            "Epoch elapsed time: 8.05 min\n",
            "BATCH: 0000/1250 || Epoch: 0003/0005 || Loss: 0.538\n",
            "BATCH: 0300/1250 || Epoch: 0003/0005 || Loss: 0.451\n",
            "BATCH: 0600/1250 || Epoch: 0003/0005 || Loss: 0.922\n",
            "BATCH: 0900/1250 || Epoch: 0003/0005 || Loss: 0.604\n",
            "BATCH: 1200/1250 || Epoch: 0003/0005 || Loss: 0.346\n",
            "Valid Loss: 0.619\n",
            "Epoch elapsed time: 12.04 min\n",
            "BATCH: 0000/1250 || Epoch: 0004/0005 || Loss: 0.377\n",
            "BATCH: 0300/1250 || Epoch: 0004/0005 || Loss: 0.468\n",
            "BATCH: 0600/1250 || Epoch: 0004/0005 || Loss: 0.408\n",
            "BATCH: 0900/1250 || Epoch: 0004/0005 || Loss: 0.311\n",
            "BATCH: 1200/1250 || Epoch: 0004/0005 || Loss: 0.656\n",
            "Valid Loss: 0.602\n",
            "Epoch elapsed time: 16.04 min\n",
            "BATCH: 0000/1250 || Epoch: 0005/0005 || Loss: 0.049\n",
            "BATCH: 0300/1250 || Epoch: 0005/0005 || Loss: 0.640\n",
            "BATCH: 0600/1250 || Epoch: 0005/0005 || Loss: 0.701\n",
            "BATCH: 0900/1250 || Epoch: 0005/0005 || Loss: 0.143\n",
            "BATCH: 1200/1250 || Epoch: 0005/0005 || Loss: 0.488\n",
            "Valid Loss: 0.602\n",
            "Epoch elapsed time: 20.04 min\n",
            "Total training time:  20.038053127129874\n"
          ],
          "name": "stdout"
        }
      ]
    },
    {
      "cell_type": "code",
      "metadata": {
        "colab": {
          "base_uri": "https://localhost:8080/"
        },
        "id": "EFJTFOtzx7xv",
        "outputId": "2b4fc063-b2fa-47bc-f5c3-cb01ec088aff"
      },
      "source": [
        "model.eval()\r\n",
        "with torch.set_grad_enabled(False):\r\n",
        "  text = \"person is where the responsible this? for\"\r\n",
        "  print(\"Your input(jumbled sentence): \", text)\r\n",
        "  tokens = tokenizer(text, return_tensors='pt')\r\n",
        "  ids = tokens['input_ids'].to(device)\r\n",
        "  mask = tokens['attention_mask'].to(device)\r\n",
        "  outputs = model.generate(input_ids=ids, max_length=16, early_stopping=True)\r\n",
        "  print(\"Unjumbled Sentence: \", tokenizer.decode(outputs[0], skip_special_tokens=True))"
      ],
      "execution_count": 20,
      "outputs": [
        {
          "output_type": "stream",
          "text": [
            "Your input(jumbled sentence):  person is where the responsible this? for\n",
            "Unjumbled Sentence:  Where is the person responsible for this?\n"
          ],
          "name": "stdout"
        }
      ]
    },
    {
      "cell_type": "code",
      "metadata": {
        "id": "ZKy0FnbR3N7j"
      },
      "source": [
        ""
      ],
      "execution_count": null,
      "outputs": []
    }
  ]
}