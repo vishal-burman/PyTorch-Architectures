{
  "nbformat": 4,
  "nbformat_minor": 0,
  "metadata": {
    "colab": {
      "name": "Finetune vs Finetune_after_MLM",
      "provenance": [],
      "collapsed_sections": [],
      "authorship_tag": "ABX9TyNz3CrpvD6CvxtNaPx+gv6X",
      "include_colab_link": true
    },
    "kernelspec": {
      "name": "python3",
      "display_name": "Python 3"
    },
    "language_info": {
      "name": "python"
    },
    "widgets": {
      "application/vnd.jupyter.widget-state+json": {
        "e5064e61b0bf42ce83979b3e0dfe2fab": {
          "model_module": "@jupyter-widgets/controls",
          "model_name": "HBoxModel",
          "state": {
            "_view_name": "HBoxView",
            "_dom_classes": [],
            "_model_name": "HBoxModel",
            "_view_module": "@jupyter-widgets/controls",
            "_model_module_version": "1.5.0",
            "_view_count": null,
            "_view_module_version": "1.5.0",
            "box_style": "",
            "layout": "IPY_MODEL_f2c1e3402f1b40b58722a93a7f2c22ad",
            "_model_module": "@jupyter-widgets/controls",
            "children": [
              "IPY_MODEL_4225b8acb2f94b48b00c011f0fabc686",
              "IPY_MODEL_625b299fd6034bdca104f10beee0e80c"
            ]
          }
        },
        "f2c1e3402f1b40b58722a93a7f2c22ad": {
          "model_module": "@jupyter-widgets/base",
          "model_name": "LayoutModel",
          "state": {
            "_view_name": "LayoutView",
            "grid_template_rows": null,
            "right": null,
            "justify_content": null,
            "_view_module": "@jupyter-widgets/base",
            "overflow": null,
            "_model_module_version": "1.2.0",
            "_view_count": null,
            "flex_flow": null,
            "width": null,
            "min_width": null,
            "border": null,
            "align_items": null,
            "bottom": null,
            "_model_module": "@jupyter-widgets/base",
            "top": null,
            "grid_column": null,
            "overflow_y": null,
            "overflow_x": null,
            "grid_auto_flow": null,
            "grid_area": null,
            "grid_template_columns": null,
            "flex": null,
            "_model_name": "LayoutModel",
            "justify_items": null,
            "grid_row": null,
            "max_height": null,
            "align_content": null,
            "visibility": null,
            "align_self": null,
            "height": null,
            "min_height": null,
            "padding": null,
            "grid_auto_rows": null,
            "grid_gap": null,
            "max_width": null,
            "order": null,
            "_view_module_version": "1.2.0",
            "grid_template_areas": null,
            "object_position": null,
            "object_fit": null,
            "grid_auto_columns": null,
            "margin": null,
            "display": null,
            "left": null
          }
        },
        "4225b8acb2f94b48b00c011f0fabc686": {
          "model_module": "@jupyter-widgets/controls",
          "model_name": "FloatProgressModel",
          "state": {
            "_view_name": "ProgressView",
            "style": "IPY_MODEL_eb2d66b4a7484872a25bb20c8d919afe",
            "_dom_classes": [],
            "description": "100%",
            "_model_name": "FloatProgressModel",
            "bar_style": "",
            "max": 1581,
            "_view_module": "@jupyter-widgets/controls",
            "_model_module_version": "1.5.0",
            "value": 1580,
            "_view_count": null,
            "_view_module_version": "1.5.0",
            "orientation": "horizontal",
            "min": 0,
            "description_tooltip": null,
            "_model_module": "@jupyter-widgets/controls",
            "layout": "IPY_MODEL_54bb2671a9d04921baca120f194ab35a"
          }
        },
        "625b299fd6034bdca104f10beee0e80c": {
          "model_module": "@jupyter-widgets/controls",
          "model_name": "HTMLModel",
          "state": {
            "_view_name": "HTMLView",
            "style": "IPY_MODEL_4b85fb74a1474458827d88dca93a2b65",
            "_dom_classes": [],
            "description": "",
            "_model_name": "HTMLModel",
            "placeholder": "​",
            "_view_module": "@jupyter-widgets/controls",
            "_model_module_version": "1.5.0",
            "value": " 1580/1581 [06:53&lt;00:00,  4.53it/s]",
            "_view_count": null,
            "_view_module_version": "1.5.0",
            "description_tooltip": null,
            "_model_module": "@jupyter-widgets/controls",
            "layout": "IPY_MODEL_eaedf68d7ff74ec48a5c8a4ec141128d"
          }
        },
        "eb2d66b4a7484872a25bb20c8d919afe": {
          "model_module": "@jupyter-widgets/controls",
          "model_name": "ProgressStyleModel",
          "state": {
            "_view_name": "StyleView",
            "_model_name": "ProgressStyleModel",
            "description_width": "initial",
            "_view_module": "@jupyter-widgets/base",
            "_model_module_version": "1.5.0",
            "_view_count": null,
            "_view_module_version": "1.2.0",
            "bar_color": null,
            "_model_module": "@jupyter-widgets/controls"
          }
        },
        "54bb2671a9d04921baca120f194ab35a": {
          "model_module": "@jupyter-widgets/base",
          "model_name": "LayoutModel",
          "state": {
            "_view_name": "LayoutView",
            "grid_template_rows": null,
            "right": null,
            "justify_content": null,
            "_view_module": "@jupyter-widgets/base",
            "overflow": null,
            "_model_module_version": "1.2.0",
            "_view_count": null,
            "flex_flow": null,
            "width": null,
            "min_width": null,
            "border": null,
            "align_items": null,
            "bottom": null,
            "_model_module": "@jupyter-widgets/base",
            "top": null,
            "grid_column": null,
            "overflow_y": null,
            "overflow_x": null,
            "grid_auto_flow": null,
            "grid_area": null,
            "grid_template_columns": null,
            "flex": null,
            "_model_name": "LayoutModel",
            "justify_items": null,
            "grid_row": null,
            "max_height": null,
            "align_content": null,
            "visibility": null,
            "align_self": null,
            "height": null,
            "min_height": null,
            "padding": null,
            "grid_auto_rows": null,
            "grid_gap": null,
            "max_width": null,
            "order": null,
            "_view_module_version": "1.2.0",
            "grid_template_areas": null,
            "object_position": null,
            "object_fit": null,
            "grid_auto_columns": null,
            "margin": null,
            "display": null,
            "left": null
          }
        },
        "4b85fb74a1474458827d88dca93a2b65": {
          "model_module": "@jupyter-widgets/controls",
          "model_name": "DescriptionStyleModel",
          "state": {
            "_view_name": "StyleView",
            "_model_name": "DescriptionStyleModel",
            "description_width": "",
            "_view_module": "@jupyter-widgets/base",
            "_model_module_version": "1.5.0",
            "_view_count": null,
            "_view_module_version": "1.2.0",
            "_model_module": "@jupyter-widgets/controls"
          }
        },
        "eaedf68d7ff74ec48a5c8a4ec141128d": {
          "model_module": "@jupyter-widgets/base",
          "model_name": "LayoutModel",
          "state": {
            "_view_name": "LayoutView",
            "grid_template_rows": null,
            "right": null,
            "justify_content": null,
            "_view_module": "@jupyter-widgets/base",
            "overflow": null,
            "_model_module_version": "1.2.0",
            "_view_count": null,
            "flex_flow": null,
            "width": null,
            "min_width": null,
            "border": null,
            "align_items": null,
            "bottom": null,
            "_model_module": "@jupyter-widgets/base",
            "top": null,
            "grid_column": null,
            "overflow_y": null,
            "overflow_x": null,
            "grid_auto_flow": null,
            "grid_area": null,
            "grid_template_columns": null,
            "flex": null,
            "_model_name": "LayoutModel",
            "justify_items": null,
            "grid_row": null,
            "max_height": null,
            "align_content": null,
            "visibility": null,
            "align_self": null,
            "height": null,
            "min_height": null,
            "padding": null,
            "grid_auto_rows": null,
            "grid_gap": null,
            "max_width": null,
            "order": null,
            "_view_module_version": "1.2.0",
            "grid_template_areas": null,
            "object_position": null,
            "object_fit": null,
            "grid_auto_columns": null,
            "margin": null,
            "display": null,
            "left": null
          }
        }
      }
    }
  },
  "cells": [
    {
      "cell_type": "markdown",
      "metadata": {
        "id": "view-in-github",
        "colab_type": "text"
      },
      "source": [
        "<a href=\"https://colab.research.google.com/github/vishal-burman/PyTorch-Architectures/blob/master/misc/Finetune_vs_Finetune_after_MLM.ipynb\" target=\"_parent\"><img src=\"https://colab.research.google.com/assets/colab-badge.svg\" alt=\"Open In Colab\"/></a>"
      ]
    },
    {
      "cell_type": "code",
      "metadata": {
        "id": "qQiiHShLYeLQ"
      },
      "source": [
        "! nvidia-smi"
      ],
      "execution_count": null,
      "outputs": []
    },
    {
      "cell_type": "code",
      "metadata": {
        "id": "aLkze-Bj8QhD"
      },
      "source": [
        "! pip install transformers\n",
        "! pip install datasets"
      ],
      "execution_count": null,
      "outputs": []
    },
    {
      "cell_type": "code",
      "metadata": {
        "id": "ioMN0CRKEBf_"
      },
      "source": [
        "! rm -rf PyTorch-Architectures/\n",
        "! git clone https://github.com/vishal-burman/PyTorch-Architectures.git/\n",
        "%cd PyTorch-Architectures/"
      ],
      "execution_count": null,
      "outputs": []
    },
    {
      "cell_type": "code",
      "metadata": {
        "id": "I8G7grhB8hq4"
      },
      "source": [
        "import random\n",
        "import torch\n",
        "from torch.utils.data import Dataset, DataLoader\n",
        "from transformers import DistilBertTokenizer, DistilBertForSequenceClassification, DistilBertForMaskedLM\n",
        "from toolkit.custom_dataset_nlp import DataLoaderTextClassification, DatasetLanguageModeling\n",
        "from toolkit.utils import get_linear_schedule_with_warmup, dict_to_device\n",
        "from toolkit.metrics import nlp_compute_accuracy\n",
        "from tqdm.auto import tqdm"
      ],
      "execution_count": 35,
      "outputs": []
    },
    {
      "cell_type": "code",
      "metadata": {
        "id": "KMAR3VtvLbL0"
      },
      "source": [
        "# Hyperparameters\n",
        "BS = 128\n",
        "EPOCHS = 3\n",
        "LR = 5e-4"
      ],
      "execution_count": 5,
      "outputs": []
    },
    {
      "cell_type": "code",
      "metadata": {
        "id": "0-fPITzPEnkT"
      },
      "source": [
        "tokenizer = DistilBertTokenizer.from_pretrained('distilbert-base-uncased')\n",
        "device = torch.device('cuda:0' if torch.cuda.is_available() else 'cpu')\n",
        "model = DistilBertForSequenceClassification.from_pretrained('distilbert-base-uncased')\n",
        "model.to(device)"
      ],
      "execution_count": null,
      "outputs": []
    },
    {
      "cell_type": "code",
      "metadata": {
        "colab": {
          "base_uri": "https://localhost:8080/"
        },
        "id": "JbdEmLYb-Cur",
        "outputId": "9d2e73f3-5105-495d-a96c-884b416ddef1"
      },
      "source": [
        "dataset_train = DataLoaderTextClassification(tokenizer, train=True, split=500)\n",
        "dataset_valid = DataLoaderTextClassification(tokenizer, train=False, split=500)"
      ],
      "execution_count": 8,
      "outputs": [
        {
          "output_type": "stream",
          "text": [
            "Reusing dataset glue (/root/.cache/huggingface/datasets/glue/sst2/1.0.0/dacbe3125aa31d7f70367a07a8a9e72a5a0bfeb5fc42e75c9db75b96da6053ad)\n",
            "Reusing dataset glue (/root/.cache/huggingface/datasets/glue/sst2/1.0.0/dacbe3125aa31d7f70367a07a8a9e72a5a0bfeb5fc42e75c9db75b96da6053ad)\n"
          ],
          "name": "stderr"
        }
      ]
    },
    {
      "cell_type": "code",
      "metadata": {
        "colab": {
          "base_uri": "https://localhost:8080/"
        },
        "id": "pMjwAZcq-MTc",
        "outputId": "87b51391-84dd-468f-fdbf-dc1c86eb642a"
      },
      "source": [
        "train_loader = dataset_train.return_dataloader(batch_size=BS, shuffle=True)\n",
        "valid_loader = dataset_valid.return_dataloader(batch_size=BS, shuffle=False)\n",
        "print('Length of Train Loader: ', len(train_loader))\n",
        "print('Length of Valid Loader: ', len(valid_loader))"
      ],
      "execution_count": 9,
      "outputs": [
        {
          "output_type": "stream",
          "text": [
            "Length of Train Loader:  4\n",
            "Length of Valid Loader:  4\n"
          ],
          "name": "stdout"
        }
      ]
    },
    {
      "cell_type": "code",
      "metadata": {
        "colab": {
          "base_uri": "https://localhost:8080/"
        },
        "id": "sAUabBLQkLoh",
        "outputId": "698c8b85-7ba9-4d02-d986-f13da06563da"
      },
      "source": [
        "# Sanity check forward pass\n",
        "model.eval()\n",
        "for sample in train_loader:\n",
        "  outputs = model(**dict_to_device(sample, device))\n",
        "  print(outputs.loss.item())\n",
        "  break"
      ],
      "execution_count": null,
      "outputs": [
        {
          "output_type": "stream",
          "text": [
            "0.6993951201438904\n"
          ],
          "name": "stdout"
        }
      ]
    },
    {
      "cell_type": "code",
      "metadata": {
        "id": "CTkIVkxmfPP7"
      },
      "source": [
        "optimizer = torch.optim.AdamW(model.parameters(), lr=LR)\n",
        "scheduler = get_linear_schedule_with_warmup(optimizer,\n",
        "                                            num_warmup_steps=0, \n",
        "                                            num_training_steps=len(train_loader) * EPOCHS)"
      ],
      "execution_count": null,
      "outputs": []
    },
    {
      "cell_type": "code",
      "metadata": {
        "id": "QYotmvv4gFxl",
        "colab": {
          "base_uri": "https://localhost:8080/",
          "height": 105,
          "referenced_widgets": [
            "e5064e61b0bf42ce83979b3e0dfe2fab",
            "f2c1e3402f1b40b58722a93a7f2c22ad",
            "4225b8acb2f94b48b00c011f0fabc686",
            "625b299fd6034bdca104f10beee0e80c",
            "eb2d66b4a7484872a25bb20c8d919afe",
            "54bb2671a9d04921baca120f194ab35a",
            "4b85fb74a1474458827d88dca93a2b65",
            "eaedf68d7ff74ec48a5c8a4ec141128d"
          ]
        },
        "outputId": "e9a7940d-0b2d-44c4-d938-d6d4ca083fb9"
      },
      "source": [
        "progress_bar = tqdm(range(len(train_loader) * EPOCHS))\n",
        "\n",
        "for epoch in range(EPOCHS):\n",
        "  model.train()\n",
        "  for idx, sample in enumerate(train_loader):\n",
        "    outputs = model(**dict_to_device(sample, device))\n",
        "\n",
        "    loss = outputs.loss\n",
        "    loss.backward()\n",
        "\n",
        "    optimizer.step()\n",
        "    scheduler.step()\n",
        "    optimizer.zero_grad()\n",
        "    progress_bar.update(1)\n",
        "  model.eval()\n",
        "  with torch.set_grad_enabled(False):\n",
        "    train_acc = nlp_compute_accuracy(model, train_loader, device)\n",
        "    valid_acc = nlp_compute_accuracy(model, valid_loader, device)\n",
        "  print('Train Accuracy: %.2f%% || Valid Accuracy: %.2f%%' % (train_acc, valid_acc))"
      ],
      "execution_count": null,
      "outputs": [
        {
          "output_type": "display_data",
          "data": {
            "application/vnd.jupyter.widget-view+json": {
              "model_id": "e5064e61b0bf42ce83979b3e0dfe2fab",
              "version_minor": 0,
              "version_major": 2
            },
            "text/plain": [
              "HBox(children=(FloatProgress(value=0.0, max=1581.0), HTML(value='')))"
            ]
          },
          "metadata": {
            "tags": []
          }
        },
        {
          "output_type": "stream",
          "text": [
            "Train Accuracy: 91.29% || Valid Accuracy: 76.15%\n",
            "Train Accuracy: 95.34% || Valid Accuracy: 77.18%\n",
            "Train Accuracy: 96.86% || Valid Accuracy: 77.18%\n"
          ],
          "name": "stdout"
        }
      ]
    },
    {
      "cell_type": "code",
      "metadata": {
        "id": "g319cvBwjryP"
      },
      "source": [
        "all_texts = dataset_train.dataset.sents\n",
        "all_texts.extend(dataset_valid.dataset.sents)"
      ],
      "execution_count": 30,
      "outputs": []
    },
    {
      "cell_type": "code",
      "metadata": {
        "id": "uip5iAb7SyFp"
      },
      "source": [
        "random.shuffle(all_texts)\n",
        "split = 90 * len(train_texts) // 100\n",
        "train_texts = all_texts[:split]\n",
        "valid_texts = all_texts[split:]"
      ],
      "execution_count": 31,
      "outputs": []
    },
    {
      "cell_type": "code",
      "metadata": {
        "id": "NtMDTCVkQVwX"
      },
      "source": [
        "mlm_dataset_train = DatasetLanguageModeling(tokenizer, input_texts=train_texts)\n",
        "mlm_dataset_valid = DatasetLanguageModeling(tokenizer, input_texts=valid_texts)"
      ],
      "execution_count": 32,
      "outputs": []
    },
    {
      "cell_type": "code",
      "metadata": {
        "colab": {
          "base_uri": "https://localhost:8080/"
        },
        "id": "vA3rDBJ4Qy4o",
        "outputId": "3c7a17f2-4ced-4b3a-cbfe-62097568b464"
      },
      "source": [
        "mlm_train_loader = DataLoader(mlm_dataset_train, batch_size=BS, shuffle=True, collate_fn=mlm_dataset.collate_fn)\n",
        "mlm_valid_loader = DataLoader(mlm_dataset_valid, batch_size=BS, shuffle=False, collate_fn=mlm_dataset.collate_fn)\n",
        "print('Length of mlm_loader: ', len(mlm_train_loader))\n",
        "print('Length of mlm_loader: ', len(mlm_valid_loader))"
      ],
      "execution_count": 33,
      "outputs": [
        {
          "output_type": "stream",
          "text": [
            "Length of mlm_loader:  7\n",
            "Length of mlm_loader:  6\n"
          ],
          "name": "stdout"
        }
      ]
    },
    {
      "cell_type": "code",
      "metadata": {
        "id": "czGz1VG0RVaC"
      },
      "source": [
        "device = torch.device('cuda:0' if torch.cuda.is_available() else 'cpu')\n",
        "tokenizer = DistilBertTokenizer.from_pretrained('distilbert-base-uncased')\n",
        "model = DistilBertForMaskedLM.from_pretrained('distilbert-base-uncased')\n",
        "model.to(device)"
      ],
      "execution_count": null,
      "outputs": []
    },
    {
      "cell_type": "code",
      "metadata": {
        "colab": {
          "base_uri": "https://localhost:8080/"
        },
        "id": "-7QKgPGyRgLn",
        "outputId": "24d5547f-6144-46fb-e9ab-0fb8580a9c0f"
      },
      "source": [
        "# Sanity check forward pass\n",
        "model.eval()\n",
        "with torch.set_grad_enabled(False):\n",
        "  for sample in mlm_loader:\n",
        "    sample = dict_to_device(sample, device=device)\n",
        "    outputs = model(input_ids=sample['input_ids'],\n",
        "                    attention_mask=sample['attention_mask'],\n",
        "                    labels=sample['target_ids'])\n",
        "    print(outputs.loss.item())\n",
        "    break"
      ],
      "execution_count": 39,
      "outputs": [
        {
          "output_type": "stream",
          "text": [
            "4.427879333496094\n"
          ],
          "name": "stdout"
        }
      ]
    },
    {
      "cell_type": "code",
      "metadata": {
        "id": "S0HCmHEUgt5B"
      },
      "source": [
        ""
      ],
      "execution_count": null,
      "outputs": []
    }
  ]
}