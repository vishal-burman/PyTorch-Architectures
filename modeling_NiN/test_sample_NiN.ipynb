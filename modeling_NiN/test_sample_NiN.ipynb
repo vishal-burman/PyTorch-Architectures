{
  "nbformat": 4,
  "nbformat_minor": 0,
  "metadata": {
    "colab": {
      "name": "test_sample_NiN.ipynb",
      "provenance": [],
      "authorship_tag": "ABX9TyM2hE0waoT5fKgBxZuA7Xx3",
      "include_colab_link": true
    },
    "kernelspec": {
      "name": "python3",
      "display_name": "Python 3"
    },
    "accelerator": "GPU",
    "widgets": {
      "application/vnd.jupyter.widget-state+json": {
        "3c0a2418ec624b51ac27f80737347f37": {
          "model_module": "@jupyter-widgets/controls",
          "model_name": "HBoxModel",
          "state": {
            "_view_name": "HBoxView",
            "_dom_classes": [],
            "_model_name": "HBoxModel",
            "_view_module": "@jupyter-widgets/controls",
            "_model_module_version": "1.5.0",
            "_view_count": null,
            "_view_module_version": "1.5.0",
            "box_style": "",
            "layout": "IPY_MODEL_a0fca7842b2246d1930864502356677a",
            "_model_module": "@jupyter-widgets/controls",
            "children": [
              "IPY_MODEL_e7d4fe4e033343cfb80963dc45f9d546",
              "IPY_MODEL_b9d19ee180cc4d368d0be2b7d6e4328d"
            ]
          }
        },
        "a0fca7842b2246d1930864502356677a": {
          "model_module": "@jupyter-widgets/base",
          "model_name": "LayoutModel",
          "state": {
            "_view_name": "LayoutView",
            "grid_template_rows": null,
            "right": null,
            "justify_content": null,
            "_view_module": "@jupyter-widgets/base",
            "overflow": null,
            "_model_module_version": "1.2.0",
            "_view_count": null,
            "flex_flow": null,
            "width": null,
            "min_width": null,
            "border": null,
            "align_items": null,
            "bottom": null,
            "_model_module": "@jupyter-widgets/base",
            "top": null,
            "grid_column": null,
            "overflow_y": null,
            "overflow_x": null,
            "grid_auto_flow": null,
            "grid_area": null,
            "grid_template_columns": null,
            "flex": null,
            "_model_name": "LayoutModel",
            "justify_items": null,
            "grid_row": null,
            "max_height": null,
            "align_content": null,
            "visibility": null,
            "align_self": null,
            "height": null,
            "min_height": null,
            "padding": null,
            "grid_auto_rows": null,
            "grid_gap": null,
            "max_width": null,
            "order": null,
            "_view_module_version": "1.2.0",
            "grid_template_areas": null,
            "object_position": null,
            "object_fit": null,
            "grid_auto_columns": null,
            "margin": null,
            "display": null,
            "left": null
          }
        },
        "e7d4fe4e033343cfb80963dc45f9d546": {
          "model_module": "@jupyter-widgets/controls",
          "model_name": "FloatProgressModel",
          "state": {
            "_view_name": "ProgressView",
            "style": "IPY_MODEL_785133776ea145d0af2dbcc83060da15",
            "_dom_classes": [],
            "description": "",
            "_model_name": "FloatProgressModel",
            "bar_style": "info",
            "max": 1,
            "_view_module": "@jupyter-widgets/controls",
            "_model_module_version": "1.5.0",
            "value": 1,
            "_view_count": null,
            "_view_module_version": "1.5.0",
            "orientation": "horizontal",
            "min": 0,
            "description_tooltip": null,
            "_model_module": "@jupyter-widgets/controls",
            "layout": "IPY_MODEL_b0d52b809ef949f3adb74c8cc1f87894"
          }
        },
        "b9d19ee180cc4d368d0be2b7d6e4328d": {
          "model_module": "@jupyter-widgets/controls",
          "model_name": "HTMLModel",
          "state": {
            "_view_name": "HTMLView",
            "style": "IPY_MODEL_639f76299da542bf99aba5d04f48066d",
            "_dom_classes": [],
            "description": "",
            "_model_name": "HTMLModel",
            "placeholder": "​",
            "_view_module": "@jupyter-widgets/controls",
            "_model_module_version": "1.5.0",
            "value": " 170500096/? [00:20&lt;00:00, 54876113.95it/s]",
            "_view_count": null,
            "_view_module_version": "1.5.0",
            "description_tooltip": null,
            "_model_module": "@jupyter-widgets/controls",
            "layout": "IPY_MODEL_f64da57055e9468ead0c30784d0123ba"
          }
        },
        "785133776ea145d0af2dbcc83060da15": {
          "model_module": "@jupyter-widgets/controls",
          "model_name": "ProgressStyleModel",
          "state": {
            "_view_name": "StyleView",
            "_model_name": "ProgressStyleModel",
            "description_width": "initial",
            "_view_module": "@jupyter-widgets/base",
            "_model_module_version": "1.5.0",
            "_view_count": null,
            "_view_module_version": "1.2.0",
            "bar_color": null,
            "_model_module": "@jupyter-widgets/controls"
          }
        },
        "b0d52b809ef949f3adb74c8cc1f87894": {
          "model_module": "@jupyter-widgets/base",
          "model_name": "LayoutModel",
          "state": {
            "_view_name": "LayoutView",
            "grid_template_rows": null,
            "right": null,
            "justify_content": null,
            "_view_module": "@jupyter-widgets/base",
            "overflow": null,
            "_model_module_version": "1.2.0",
            "_view_count": null,
            "flex_flow": null,
            "width": null,
            "min_width": null,
            "border": null,
            "align_items": null,
            "bottom": null,
            "_model_module": "@jupyter-widgets/base",
            "top": null,
            "grid_column": null,
            "overflow_y": null,
            "overflow_x": null,
            "grid_auto_flow": null,
            "grid_area": null,
            "grid_template_columns": null,
            "flex": null,
            "_model_name": "LayoutModel",
            "justify_items": null,
            "grid_row": null,
            "max_height": null,
            "align_content": null,
            "visibility": null,
            "align_self": null,
            "height": null,
            "min_height": null,
            "padding": null,
            "grid_auto_rows": null,
            "grid_gap": null,
            "max_width": null,
            "order": null,
            "_view_module_version": "1.2.0",
            "grid_template_areas": null,
            "object_position": null,
            "object_fit": null,
            "grid_auto_columns": null,
            "margin": null,
            "display": null,
            "left": null
          }
        },
        "639f76299da542bf99aba5d04f48066d": {
          "model_module": "@jupyter-widgets/controls",
          "model_name": "DescriptionStyleModel",
          "state": {
            "_view_name": "StyleView",
            "_model_name": "DescriptionStyleModel",
            "description_width": "",
            "_view_module": "@jupyter-widgets/base",
            "_model_module_version": "1.5.0",
            "_view_count": null,
            "_view_module_version": "1.2.0",
            "_model_module": "@jupyter-widgets/controls"
          }
        },
        "f64da57055e9468ead0c30784d0123ba": {
          "model_module": "@jupyter-widgets/base",
          "model_name": "LayoutModel",
          "state": {
            "_view_name": "LayoutView",
            "grid_template_rows": null,
            "right": null,
            "justify_content": null,
            "_view_module": "@jupyter-widgets/base",
            "overflow": null,
            "_model_module_version": "1.2.0",
            "_view_count": null,
            "flex_flow": null,
            "width": null,
            "min_width": null,
            "border": null,
            "align_items": null,
            "bottom": null,
            "_model_module": "@jupyter-widgets/base",
            "top": null,
            "grid_column": null,
            "overflow_y": null,
            "overflow_x": null,
            "grid_auto_flow": null,
            "grid_area": null,
            "grid_template_columns": null,
            "flex": null,
            "_model_name": "LayoutModel",
            "justify_items": null,
            "grid_row": null,
            "max_height": null,
            "align_content": null,
            "visibility": null,
            "align_self": null,
            "height": null,
            "min_height": null,
            "padding": null,
            "grid_auto_rows": null,
            "grid_gap": null,
            "max_width": null,
            "order": null,
            "_view_module_version": "1.2.0",
            "grid_template_areas": null,
            "object_position": null,
            "object_fit": null,
            "grid_auto_columns": null,
            "margin": null,
            "display": null,
            "left": null
          }
        }
      }
    }
  },
  "cells": [
    {
      "cell_type": "markdown",
      "metadata": {
        "id": "view-in-github",
        "colab_type": "text"
      },
      "source": [
        "<a href=\"https://colab.research.google.com/github/vishal-burman/PyTorch-Architectures/blob/master/modeling_NiN/test_sample_NiN.ipynb\" target=\"_parent\"><img src=\"https://colab.research.google.com/assets/colab-badge.svg\" alt=\"Open In Colab\"/></a>"
      ]
    },
    {
      "cell_type": "code",
      "metadata": {
        "id": "KGErnOAB841W"
      },
      "source": [
        "# ! rm -rf PyTorch-Architectures/\r\n",
        "! git clone https://github.com/vishal-burman/PyTorch-Architectures.git"
      ],
      "execution_count": null,
      "outputs": []
    },
    {
      "cell_type": "code",
      "metadata": {
        "colab": {
          "base_uri": "https://localhost:8080/"
        },
        "id": "waYc-g42csoy",
        "outputId": "4faea7c1-2faf-48c8-80b0-1fb75148600b"
      },
      "source": [
        "%cd PyTorch-Architectures/modeling_NiN/"
      ],
      "execution_count": 3,
      "outputs": [
        {
          "output_type": "stream",
          "text": [
            "/content/PyTorch-Architectures/modeling_NiN\n"
          ],
          "name": "stdout"
        }
      ]
    },
    {
      "cell_type": "code",
      "metadata": {
        "id": "roxh__qJ5YHl"
      },
      "source": [
        "import time\r\n",
        "\r\n",
        "import torch\r\n",
        "import torch.nn as nn\r\n",
        "import torch.nn.functional as F\r\n",
        "\r\n",
        "from torch.utils.data import Dataset, DataLoader, Subset\r\n",
        "\r\n",
        "from torchvision import datasets, transforms\r\n",
        "\r\n",
        "from model import NiN\r\n",
        "\r\n",
        "if torch.cuda.is_available():\r\n",
        "  torch.backends.cudnn.deterministic = True"
      ],
      "execution_count": 4,
      "outputs": []
    },
    {
      "cell_type": "code",
      "metadata": {
        "id": "xBHSSe6T59pf"
      },
      "source": [
        "#############\r\n",
        "# Settings\r\n",
        "#############\r\n",
        "\r\n",
        "RANDOM_SEED = 1\r\n",
        "LEARNING_RATE = 0.0005\r\n",
        "BATCH_SIZE = 256\r\n",
        "EPOCHS = 10\r\n",
        "\r\n",
        "# Architecture\r\n",
        "NUM_CLASSES = 10\r\n",
        "\r\n",
        "# Other\r\n",
        "DEVICE = torch.device(\"cuda:0\" if torch.cuda.is_available() else \"cpu\")\r\n",
        "GRAYSCALE = False"
      ],
      "execution_count": 5,
      "outputs": []
    },
    {
      "cell_type": "code",
      "metadata": {
        "colab": {
          "base_uri": "https://localhost:8080/",
          "height": 308,
          "referenced_widgets": [
            "3c0a2418ec624b51ac27f80737347f37",
            "a0fca7842b2246d1930864502356677a",
            "e7d4fe4e033343cfb80963dc45f9d546",
            "b9d19ee180cc4d368d0be2b7d6e4328d",
            "785133776ea145d0af2dbcc83060da15",
            "b0d52b809ef949f3adb74c8cc1f87894",
            "639f76299da542bf99aba5d04f48066d",
            "f64da57055e9468ead0c30784d0123ba"
          ]
        },
        "id": "T-CYxwLI6YQf",
        "outputId": "2a5ff76f-2c15-4a70-a6a2-e6dee294010e"
      },
      "source": [
        "########################\r\n",
        "# CIFAR-10\r\n",
        "########################\r\n",
        "\r\n",
        "train_indices = torch.arange(0, 49000)\r\n",
        "valid_indices = torch.arange(49000, 50000)\r\n",
        "\r\n",
        "train_and_valid = datasets.CIFAR10(root='data',\r\n",
        "                                   train=True,\r\n",
        "                                   transform=transforms.ToTensor(),\r\n",
        "                                   download=True)\r\n",
        "\r\n",
        "train_dataset = Subset(train_and_valid, train_indices)\r\n",
        "valid_dataset = Subset(train_and_valid, valid_indices)\r\n",
        "\r\n",
        "test_dataset = datasets.CIFAR10(root='data',\r\n",
        "                                train=False, \r\n",
        "                                transform=transforms.ToTensor())\r\n",
        "\r\n",
        "########################\r\n",
        "# DataLoaders\r\n",
        "########################\r\n",
        "\r\n",
        "train_loader = DataLoader(dataset=train_dataset,\r\n",
        "                          batch_size=BATCH_SIZE,\r\n",
        "                          num_workers=4,\r\n",
        "                          shuffle=True)\r\n",
        "valid_loader = DataLoader(dataset=valid_dataset,\r\n",
        "                          batch_size=BATCH_SIZE,\r\n",
        "                          num_workers=4,\r\n",
        "                          shuffle=False)\r\n",
        "test_loader = DataLoader(dataset=test_dataset,\r\n",
        "                         batch_size=BATCH_SIZE,\r\n",
        "                         num_workers=4,\r\n",
        "                         shuffle=False)\r\n",
        "\r\n",
        "############################\r\n",
        "# Check dataset\r\n",
        "############################\r\n",
        "for images, labels in train_loader:\r\n",
        "  print('Images Dimensions: ', images.shape)\r\n",
        "  print('Labels Dimensions: ', labels.shape, \"\\n\")\r\n",
        "  break\r\n",
        "\r\n",
        "for images, labels in valid_loader:\r\n",
        "  print('Images Dimensions: ', images.shape)\r\n",
        "  print('Labels Dimensions: ', labels.shape, \"\\n\")\r\n",
        "  break\r\n",
        "\r\n",
        "for images, labels in test_loader:\r\n",
        "  print('Images Dimensions: ', images.shape)\r\n",
        "  print('Labels Dimensions: ', labels.shape, \"\\n\")\r\n",
        "  break\r\n",
        "\r\n",
        "print('Length of train_loader: ', len(train_loader))\r\n",
        "print('Length of valid_loader: ', len(valid_loader))\r\n",
        "print('Length of test_loader: ', len(test_loader))"
      ],
      "execution_count": 6,
      "outputs": [
        {
          "output_type": "stream",
          "text": [
            "Downloading https://www.cs.toronto.edu/~kriz/cifar-10-python.tar.gz to data/cifar-10-python.tar.gz\n"
          ],
          "name": "stdout"
        },
        {
          "output_type": "display_data",
          "data": {
            "application/vnd.jupyter.widget-view+json": {
              "model_id": "3c0a2418ec624b51ac27f80737347f37",
              "version_minor": 0,
              "version_major": 2
            },
            "text/plain": [
              "HBox(children=(FloatProgress(value=1.0, bar_style='info', max=1.0), HTML(value='')))"
            ]
          },
          "metadata": {
            "tags": []
          }
        },
        {
          "output_type": "stream",
          "text": [
            "Extracting data/cifar-10-python.tar.gz to data\n",
            "Images Dimensions:  torch.Size([256, 3, 32, 32])\n",
            "Labels Dimensions:  torch.Size([256]) \n",
            "\n",
            "Images Dimensions:  torch.Size([256, 3, 32, 32])\n",
            "Labels Dimensions:  torch.Size([256]) \n",
            "\n",
            "Images Dimensions:  torch.Size([256, 3, 32, 32])\n",
            "Labels Dimensions:  torch.Size([256]) \n",
            "\n",
            "Length of train_loader:  192\n",
            "Length of valid_loader:  4\n",
            "Length of test_loader:  40\n"
          ],
          "name": "stdout"
        }
      ]
    },
    {
      "cell_type": "code",
      "metadata": {
        "colab": {
          "base_uri": "https://localhost:8080/"
        },
        "id": "dtVDpyAS77Dj",
        "outputId": "2fa90489-3762-44ad-86d7-e289c5543031"
      },
      "source": [
        "torch.manual_seed(RANDOM_SEED)\r\n",
        "\r\n",
        "model = NiN(num_classes=NUM_CLASSES, is_memory_efficient=True)\r\n",
        "model.to(DEVICE)\r\n",
        "\r\n",
        "params = sum(p.numel() for p in model.parameters() if p.requires_grad)\r\n",
        "print('Total trainable parameters: ', params)\r\n",
        "\r\n",
        "optimizer = torch.optim.Adam(model.parameters(), lr=LEARNING_RATE)"
      ],
      "execution_count": 7,
      "outputs": [
        {
          "output_type": "stream",
          "text": [
            "Total trainable parameters:  966986\n"
          ],
          "name": "stdout"
        }
      ]
    },
    {
      "cell_type": "code",
      "metadata": {
        "colab": {
          "base_uri": "https://localhost:8080/"
        },
        "id": "-rWeRzW59XjX",
        "outputId": "b0bdcf39-0078-4862-f522-7f54cb5d90e7"
      },
      "source": [
        "def compute_accuracy(model, data_loader, device):\r\n",
        "  correct_pred, num_examples = 0, 0\r\n",
        "  for idx, (features, targets) in enumerate(data_loader):\r\n",
        "    features = features.to(device)\r\n",
        "    targets = targets.to(device)\r\n",
        "\r\n",
        "    logits, probas = model(features)\r\n",
        "    _, predicted_labels = torch.max(probas, 1)\r\n",
        "    correct_pred += (predicted_labels == targets).sum()\r\n",
        "    num_examples += targets.size(0)\r\n",
        "  return correct_pred.float()/ num_examples * 100\r\n",
        "\r\n",
        "start_time = time.time()\r\n",
        "for epoch in range(EPOCHS):\r\n",
        "  model.train()\r\n",
        "  for idx, (features, targets) in enumerate(train_loader):\r\n",
        "    features = features.to(DEVICE)\r\n",
        "    targets = targets.to(DEVICE)\r\n",
        "\r\n",
        "    logits, _ = model(features)\r\n",
        "\r\n",
        "    loss = F.cross_entropy(logits, targets)\r\n",
        "    optimizer.zero_grad()\r\n",
        "    loss.backward()\r\n",
        "    optimizer.step()\r\n",
        "\r\n",
        "    # LOGGING\r\n",
        "    if idx % 120 == 0:\r\n",
        "      print('Batch: %04d/%04d || Epoch: %04d/%04d || Loss: %.3f' % (idx, len(train_loader), epoch+1, EPOCHS, loss.item()))\r\n",
        "  \r\n",
        "  model.eval()\r\n",
        "  with torch.set_grad_enabled(False):\r\n",
        "    train_accuracy = compute_accuracy(model, train_loader, DEVICE)\r\n",
        "    valid_accuracy = compute_accuracy(model, valid_loader, DEVICE)\r\n",
        "    print('Train Accuracy: %.2f' % (train_accuracy))\r\n",
        "    print('Valid Accuracy: %.2f' % (valid_accuracy))\r\n",
        "  epoch_elapsed_time = (time.time() - start_time) / 60\r\n",
        "  print('Epoch Elapsed Time: %.2f min' % (epoch_elapsed_time))\r\n",
        "total_elapsed_time = (time.time() - start_time) / 60\r\n",
        "print('Total Elapsed Time: %.2f min' % (total_elapsed_time))"
      ],
      "execution_count": 8,
      "outputs": [
        {
          "output_type": "stream",
          "text": [
            "Batch: 0000/0192 || Epoch: 0001/0010 || Loss: 2.305\n",
            "Batch: 0120/0192 || Epoch: 0001/0010 || Loss: 1.988\n",
            "Train Accuracy: 25.42\n",
            "Valid Accuracy: 26.10\n",
            "Epoch Elapsed Time: 0.56 min\n",
            "Batch: 0000/0192 || Epoch: 0002/0010 || Loss: 1.920\n",
            "Batch: 0120/0192 || Epoch: 0002/0010 || Loss: 1.727\n",
            "Train Accuracy: 37.59\n",
            "Valid Accuracy: 37.70\n",
            "Epoch Elapsed Time: 1.14 min\n",
            "Batch: 0000/0192 || Epoch: 0003/0010 || Loss: 1.644\n",
            "Batch: 0120/0192 || Epoch: 0003/0010 || Loss: 1.710\n",
            "Train Accuracy: 41.98\n",
            "Valid Accuracy: 43.80\n",
            "Epoch Elapsed Time: 1.72 min\n",
            "Batch: 0000/0192 || Epoch: 0004/0010 || Loss: 1.532\n",
            "Batch: 0120/0192 || Epoch: 0004/0010 || Loss: 1.503\n",
            "Train Accuracy: 46.33\n",
            "Valid Accuracy: 46.70\n",
            "Epoch Elapsed Time: 2.30 min\n",
            "Batch: 0000/0192 || Epoch: 0005/0010 || Loss: 1.417\n",
            "Batch: 0120/0192 || Epoch: 0005/0010 || Loss: 1.490\n",
            "Train Accuracy: 49.79\n",
            "Valid Accuracy: 50.70\n",
            "Epoch Elapsed Time: 2.88 min\n",
            "Batch: 0000/0192 || Epoch: 0006/0010 || Loss: 1.476\n",
            "Batch: 0120/0192 || Epoch: 0006/0010 || Loss: 1.396\n",
            "Train Accuracy: 51.32\n",
            "Valid Accuracy: 52.10\n",
            "Epoch Elapsed Time: 3.45 min\n",
            "Batch: 0000/0192 || Epoch: 0007/0010 || Loss: 1.388\n",
            "Batch: 0120/0192 || Epoch: 0007/0010 || Loss: 1.234\n",
            "Train Accuracy: 54.90\n",
            "Valid Accuracy: 53.30\n",
            "Epoch Elapsed Time: 4.03 min\n",
            "Batch: 0000/0192 || Epoch: 0008/0010 || Loss: 1.360\n",
            "Batch: 0120/0192 || Epoch: 0008/0010 || Loss: 1.139\n",
            "Train Accuracy: 58.26\n",
            "Valid Accuracy: 58.40\n",
            "Epoch Elapsed Time: 4.61 min\n",
            "Batch: 0000/0192 || Epoch: 0009/0010 || Loss: 1.189\n",
            "Batch: 0120/0192 || Epoch: 0009/0010 || Loss: 1.228\n",
            "Train Accuracy: 59.04\n",
            "Valid Accuracy: 59.50\n",
            "Epoch Elapsed Time: 5.19 min\n",
            "Batch: 0000/0192 || Epoch: 0010/0010 || Loss: 1.161\n",
            "Batch: 0120/0192 || Epoch: 0010/0010 || Loss: 1.074\n",
            "Train Accuracy: 60.91\n",
            "Valid Accuracy: 60.20\n",
            "Epoch Elapsed Time: 5.77 min\n",
            "Total Elapsed Time: 5.77 min\n"
          ],
          "name": "stdout"
        }
      ]
    },
    {
      "cell_type": "code",
      "metadata": {
        "colab": {
          "base_uri": "https://localhost:8080/"
        },
        "id": "o6X3v1cVi9QM",
        "outputId": "a56e4a8e-0740-4a5a-f4f4-a3ea962c7e49"
      },
      "source": [
        "! nvidia-smi --format=csv --query-gpu=memory.used"
      ],
      "execution_count": 9,
      "outputs": [
        {
          "output_type": "stream",
          "text": [
            "memory.used [MiB]\n",
            "2695 MiB\n"
          ],
          "name": "stdout"
        }
      ]
    },
    {
      "cell_type": "code",
      "metadata": {
        "id": "tukfHvVpogLb"
      },
      "source": [
        ""
      ],
      "execution_count": null,
      "outputs": []
    }
  ]
}