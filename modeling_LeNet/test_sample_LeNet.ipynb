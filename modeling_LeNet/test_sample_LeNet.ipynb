{
  "nbformat": 4,
  "nbformat_minor": 0,
  "metadata": {
    "colab": {
      "name": "modeling_LeNet.ipynb",
      "provenance": [],
      "collapsed_sections": [],
      "authorship_tag": "ABX9TyPcYyOzt0eqlUjRi5esXS1N",
      "include_colab_link": true
    },
    "kernelspec": {
      "name": "python3",
      "display_name": "Python 3"
    },
    "widgets": {
      "application/vnd.jupyter.widget-state+json": {
        "57da426a516d47df860d5165f4cc7b95": {
          "model_module": "@jupyter-widgets/controls",
          "model_name": "HBoxModel",
          "state": {
            "_view_name": "HBoxView",
            "_dom_classes": [],
            "_model_name": "HBoxModel",
            "_view_module": "@jupyter-widgets/controls",
            "_model_module_version": "1.5.0",
            "_view_count": null,
            "_view_module_version": "1.5.0",
            "box_style": "",
            "layout": "IPY_MODEL_ebc2f839c014450eb6bdc6aaf87c0f4a",
            "_model_module": "@jupyter-widgets/controls",
            "children": [
              "IPY_MODEL_cd232d54acba4e4c8cdf64b5e5171236",
              "IPY_MODEL_51df0132cb5c4c2e91e2f5a0e0065aa9"
            ]
          }
        },
        "ebc2f839c014450eb6bdc6aaf87c0f4a": {
          "model_module": "@jupyter-widgets/base",
          "model_name": "LayoutModel",
          "state": {
            "_view_name": "LayoutView",
            "grid_template_rows": null,
            "right": null,
            "justify_content": null,
            "_view_module": "@jupyter-widgets/base",
            "overflow": null,
            "_model_module_version": "1.2.0",
            "_view_count": null,
            "flex_flow": null,
            "width": null,
            "min_width": null,
            "border": null,
            "align_items": null,
            "bottom": null,
            "_model_module": "@jupyter-widgets/base",
            "top": null,
            "grid_column": null,
            "overflow_y": null,
            "overflow_x": null,
            "grid_auto_flow": null,
            "grid_area": null,
            "grid_template_columns": null,
            "flex": null,
            "_model_name": "LayoutModel",
            "justify_items": null,
            "grid_row": null,
            "max_height": null,
            "align_content": null,
            "visibility": null,
            "align_self": null,
            "height": null,
            "min_height": null,
            "padding": null,
            "grid_auto_rows": null,
            "grid_gap": null,
            "max_width": null,
            "order": null,
            "_view_module_version": "1.2.0",
            "grid_template_areas": null,
            "object_position": null,
            "object_fit": null,
            "grid_auto_columns": null,
            "margin": null,
            "display": null,
            "left": null
          }
        },
        "cd232d54acba4e4c8cdf64b5e5171236": {
          "model_module": "@jupyter-widgets/controls",
          "model_name": "FloatProgressModel",
          "state": {
            "_view_name": "ProgressView",
            "style": "IPY_MODEL_b41ad2b5ffc943ee8ad1560a137a6311",
            "_dom_classes": [],
            "description": "",
            "_model_name": "FloatProgressModel",
            "bar_style": "info",
            "max": 1,
            "_view_module": "@jupyter-widgets/controls",
            "_model_module_version": "1.5.0",
            "value": 1,
            "_view_count": null,
            "_view_module_version": "1.5.0",
            "orientation": "horizontal",
            "min": 0,
            "description_tooltip": null,
            "_model_module": "@jupyter-widgets/controls",
            "layout": "IPY_MODEL_c3814df8b70a4f309c9b2c9163c3c6ab"
          }
        },
        "51df0132cb5c4c2e91e2f5a0e0065aa9": {
          "model_module": "@jupyter-widgets/controls",
          "model_name": "HTMLModel",
          "state": {
            "_view_name": "HTMLView",
            "style": "IPY_MODEL_ee959b1336a449abba3eed33f6a19f67",
            "_dom_classes": [],
            "description": "",
            "_model_name": "HTMLModel",
            "placeholder": "​",
            "_view_module": "@jupyter-widgets/controls",
            "_model_module_version": "1.5.0",
            "value": " 170500096/? [00:20&lt;00:00, 77678258.61it/s]",
            "_view_count": null,
            "_view_module_version": "1.5.0",
            "description_tooltip": null,
            "_model_module": "@jupyter-widgets/controls",
            "layout": "IPY_MODEL_e206c2fad995442db81d4a617a22f698"
          }
        },
        "b41ad2b5ffc943ee8ad1560a137a6311": {
          "model_module": "@jupyter-widgets/controls",
          "model_name": "ProgressStyleModel",
          "state": {
            "_view_name": "StyleView",
            "_model_name": "ProgressStyleModel",
            "description_width": "initial",
            "_view_module": "@jupyter-widgets/base",
            "_model_module_version": "1.5.0",
            "_view_count": null,
            "_view_module_version": "1.2.0",
            "bar_color": null,
            "_model_module": "@jupyter-widgets/controls"
          }
        },
        "c3814df8b70a4f309c9b2c9163c3c6ab": {
          "model_module": "@jupyter-widgets/base",
          "model_name": "LayoutModel",
          "state": {
            "_view_name": "LayoutView",
            "grid_template_rows": null,
            "right": null,
            "justify_content": null,
            "_view_module": "@jupyter-widgets/base",
            "overflow": null,
            "_model_module_version": "1.2.0",
            "_view_count": null,
            "flex_flow": null,
            "width": null,
            "min_width": null,
            "border": null,
            "align_items": null,
            "bottom": null,
            "_model_module": "@jupyter-widgets/base",
            "top": null,
            "grid_column": null,
            "overflow_y": null,
            "overflow_x": null,
            "grid_auto_flow": null,
            "grid_area": null,
            "grid_template_columns": null,
            "flex": null,
            "_model_name": "LayoutModel",
            "justify_items": null,
            "grid_row": null,
            "max_height": null,
            "align_content": null,
            "visibility": null,
            "align_self": null,
            "height": null,
            "min_height": null,
            "padding": null,
            "grid_auto_rows": null,
            "grid_gap": null,
            "max_width": null,
            "order": null,
            "_view_module_version": "1.2.0",
            "grid_template_areas": null,
            "object_position": null,
            "object_fit": null,
            "grid_auto_columns": null,
            "margin": null,
            "display": null,
            "left": null
          }
        },
        "ee959b1336a449abba3eed33f6a19f67": {
          "model_module": "@jupyter-widgets/controls",
          "model_name": "DescriptionStyleModel",
          "state": {
            "_view_name": "StyleView",
            "_model_name": "DescriptionStyleModel",
            "description_width": "",
            "_view_module": "@jupyter-widgets/base",
            "_model_module_version": "1.5.0",
            "_view_count": null,
            "_view_module_version": "1.2.0",
            "_model_module": "@jupyter-widgets/controls"
          }
        },
        "e206c2fad995442db81d4a617a22f698": {
          "model_module": "@jupyter-widgets/base",
          "model_name": "LayoutModel",
          "state": {
            "_view_name": "LayoutView",
            "grid_template_rows": null,
            "right": null,
            "justify_content": null,
            "_view_module": "@jupyter-widgets/base",
            "overflow": null,
            "_model_module_version": "1.2.0",
            "_view_count": null,
            "flex_flow": null,
            "width": null,
            "min_width": null,
            "border": null,
            "align_items": null,
            "bottom": null,
            "_model_module": "@jupyter-widgets/base",
            "top": null,
            "grid_column": null,
            "overflow_y": null,
            "overflow_x": null,
            "grid_auto_flow": null,
            "grid_area": null,
            "grid_template_columns": null,
            "flex": null,
            "_model_name": "LayoutModel",
            "justify_items": null,
            "grid_row": null,
            "max_height": null,
            "align_content": null,
            "visibility": null,
            "align_self": null,
            "height": null,
            "min_height": null,
            "padding": null,
            "grid_auto_rows": null,
            "grid_gap": null,
            "max_width": null,
            "order": null,
            "_view_module_version": "1.2.0",
            "grid_template_areas": null,
            "object_position": null,
            "object_fit": null,
            "grid_auto_columns": null,
            "margin": null,
            "display": null,
            "left": null
          }
        }
      }
    }
  },
  "cells": [
    {
      "cell_type": "markdown",
      "metadata": {
        "id": "view-in-github",
        "colab_type": "text"
      },
      "source": [
        "<a href=\"https://colab.research.google.com/github/vishal-burman/PyTorch-Architectures/blob/master/modeling_LeNet/test_sample_LeNet.ipynb\" target=\"_parent\"><img src=\"https://colab.research.google.com/assets/colab-badge.svg\" alt=\"Open In Colab\"/></a>"
      ]
    },
    {
      "cell_type": "code",
      "metadata": {
        "id": "onBgDTxwKXVf"
      },
      "source": [
        "! git clone https://github.com/vishal-burman/PyTorch-Architectures.git"
      ],
      "execution_count": null,
      "outputs": []
    },
    {
      "cell_type": "code",
      "metadata": {
        "colab": {
          "base_uri": "https://localhost:8080/"
        },
        "id": "jCIZYSY9KaZj",
        "outputId": "2edbd50b-886d-4325-8a9c-7927ce069bcb"
      },
      "source": [
        "%cd PyTorch-Architectures/modeling_LeNet/"
      ],
      "execution_count": 2,
      "outputs": [
        {
          "output_type": "stream",
          "text": [
            "/content/PyTorch-Architectures/modeling_LeNet\n"
          ],
          "name": "stdout"
        }
      ]
    },
    {
      "cell_type": "code",
      "metadata": {
        "id": "V_6wRUqQIEh1"
      },
      "source": [
        "import time\n",
        "import torch\n",
        "import torch.nn.functional as F\n",
        "from torch.utils.data import DataLoader\n",
        "from torchvision import datasets, transforms\n",
        "from model import LeNet"
      ],
      "execution_count": 13,
      "outputs": []
    },
    {
      "cell_type": "code",
      "metadata": {
        "id": "Bkne9aGNJpGG"
      },
      "source": [
        "#############\n",
        "# Settings\n",
        "#############\n",
        "\n",
        "# Hyperparameters\n",
        "random_seed = 1\n",
        "learning_rate = 0.001\n",
        "batch_size = 128\n",
        "num_epochs = 10\n",
        "\n",
        "# Architecture\n",
        "num_features = 32*32\n",
        "num_classes = 10\n",
        "\n",
        "# Other\n",
        "device = torch.device(\"cuda:0\" if torch.cuda.is_available() else \"cpu\")\n",
        "grayscale = False"
      ],
      "execution_count": 4,
      "outputs": []
    },
    {
      "cell_type": "code",
      "metadata": {
        "colab": {
          "base_uri": "https://localhost:8080/",
          "height": 118,
          "referenced_widgets": [
            "57da426a516d47df860d5165f4cc7b95",
            "ebc2f839c014450eb6bdc6aaf87c0f4a",
            "cd232d54acba4e4c8cdf64b5e5171236",
            "51df0132cb5c4c2e91e2f5a0e0065aa9",
            "b41ad2b5ffc943ee8ad1560a137a6311",
            "c3814df8b70a4f309c9b2c9163c3c6ab",
            "ee959b1336a449abba3eed33f6a19f67",
            "e206c2fad995442db81d4a617a22f698"
          ]
        },
        "id": "kaNzuqSTJwcw",
        "outputId": "fa827e58-7068-473c-e067-292455dad58b"
      },
      "source": [
        "################\n",
        "# CIFAR 10\n",
        "################\n",
        "\n",
        "train_dataset = datasets.CIFAR10(root = \"data\",\n",
        "                                 train = True,\n",
        "                                 transform = transforms.ToTensor(), # scales it to 0-1 range\n",
        "                                 download = True\n",
        "                                )\n",
        "\n",
        "test_dataset = datasets.CIFAR10(root = \"data\",\n",
        "                                train = False,\n",
        "                                transform = transforms.ToTensor()\n",
        "                               )\n",
        "\n",
        "train_loader = DataLoader(dataset = train_dataset, batch_size = batch_size, num_workers = 8, shuffle = True)\n",
        "\n",
        "test_loader = DataLoader(dataset = test_dataset, batch_size = batch_size, num_workers = 8, shuffle = False)\n",
        "\n",
        "# Checking the dataset\n",
        "for images, labels in train_loader:\n",
        "    print(\"Image Dimensions: \", images.shape)\n",
        "    print(\"Label Dimensions: \", labels.shape)\n",
        "    break"
      ],
      "execution_count": 7,
      "outputs": [
        {
          "output_type": "stream",
          "text": [
            "Downloading https://www.cs.toronto.edu/~kriz/cifar-10-python.tar.gz to data/cifar-10-python.tar.gz\n"
          ],
          "name": "stdout"
        },
        {
          "output_type": "display_data",
          "data": {
            "application/vnd.jupyter.widget-view+json": {
              "model_id": "57da426a516d47df860d5165f4cc7b95",
              "version_minor": 0,
              "version_major": 2
            },
            "text/plain": [
              "HBox(children=(FloatProgress(value=1.0, bar_style='info', max=1.0), HTML(value='')))"
            ]
          },
          "metadata": {
            "tags": []
          }
        },
        {
          "output_type": "stream",
          "text": [
            "Extracting data/cifar-10-python.tar.gz to data\n",
            "Image Dimensions:  torch.Size([128, 3, 32, 32])\n",
            "Label Dimensions:  torch.Size([128])\n"
          ],
          "name": "stdout"
        }
      ]
    },
    {
      "cell_type": "code",
      "metadata": {
        "id": "X8adycKiJz0G"
      },
      "source": [
        "torch.manual_seed(random_seed)\n",
        "\n",
        "model = LeNet(num_classes, grayscale)\n",
        "model.to(device)\n",
        "\n",
        "optimizer = torch.optim.Adam(model.parameters(), lr = learning_rate)"
      ],
      "execution_count": 9,
      "outputs": []
    },
    {
      "cell_type": "code",
      "metadata": {
        "colab": {
          "base_uri": "https://localhost:8080/"
        },
        "id": "P0e0WRZuLByF",
        "outputId": "2e32b85c-ebdf-4bcb-81e9-21fbaaa61c4f"
      },
      "source": [
        "def compute_accuracy(model, data_loader, device):\n",
        "    correct_pred, num_examples = 0, 0\n",
        "    for i, (features, targets) in enumerate(data_loader):\n",
        "        \n",
        "        features = features.to(device)\n",
        "        targets = targets.to(device)\n",
        "        \n",
        "        logits, probas = model(features)\n",
        "        \n",
        "        _, predicted_labels = torch.max(probas, 1)\n",
        "        num_examples += targets.size(0)\n",
        "        correct_pred += (predicted_labels == targets).sum()\n",
        "    \n",
        "    return correct_pred.float() / num_examples * 100\n",
        "\n",
        "start_time = time.time()\n",
        "for epoch in range(num_epochs):\n",
        "    \n",
        "    model.train()\n",
        "    \n",
        "    for i, (features, targets) in enumerate(train_loader):\n",
        "        \n",
        "        features = features.to(device)\n",
        "        targets = targets.to(device)\n",
        "        \n",
        "        # Forward and Backprop\n",
        "        logits, probas = model(features)\n",
        "        cost = F.cross_entropy(logits, targets)\n",
        "        optimizer.zero_grad()\n",
        "        \n",
        "        cost.backward()\n",
        "        \n",
        "        # Update model parameters\n",
        "        optimizer.step()\n",
        "        \n",
        "        # LOGGING\n",
        "        if not i % 50:\n",
        "            print(\"Epoch: %03d/%03d || Batch: %03d/%03d || Cost: %.4f\" % (epoch+1, num_epochs, i, len(train_loader), cost))\n",
        "        \n",
        "    model.eval()\n",
        "    with torch.set_grad_enabled(False):\n",
        "        print(\"Epoch: %03d/%03d || Train: %.3f%%\" % (epoch+1, num_epochs, compute_accuracy(model, train_loader, device)))\n",
        "    \n",
        "    print(\"Time Elapsed: %.2f min\" % ((time.time()-start_time)/60))\n",
        "\n",
        "print(\"Total Training Time: %.2f min\" % ((time.time()-start_time)/60))"
      ],
      "execution_count": 14,
      "outputs": [
        {
          "output_type": "stream",
          "text": [
            "Epoch: 001/010 || Batch: 000/391 || Cost: 2.2970\n",
            "Epoch: 001/010 || Batch: 050/391 || Cost: 1.6929\n",
            "Epoch: 001/010 || Batch: 100/391 || Cost: 1.6304\n",
            "Epoch: 001/010 || Batch: 150/391 || Cost: 1.4826\n",
            "Epoch: 001/010 || Batch: 200/391 || Cost: 1.4744\n",
            "Epoch: 001/010 || Batch: 250/391 || Cost: 1.4785\n",
            "Epoch: 001/010 || Batch: 300/391 || Cost: 1.4919\n",
            "Epoch: 001/010 || Batch: 350/391 || Cost: 1.3508\n",
            "Epoch: 001/010 || Train: 54.470%\n",
            "Time Elapsed: 1.33 min\n",
            "Epoch: 002/010 || Batch: 000/391 || Cost: 1.4622\n",
            "Epoch: 002/010 || Batch: 050/391 || Cost: 1.2202\n",
            "Epoch: 002/010 || Batch: 100/391 || Cost: 1.3271\n",
            "Epoch: 002/010 || Batch: 150/391 || Cost: 1.1654\n",
            "Epoch: 002/010 || Batch: 200/391 || Cost: 1.4047\n",
            "Epoch: 002/010 || Batch: 250/391 || Cost: 1.2564\n",
            "Epoch: 002/010 || Batch: 300/391 || Cost: 1.3212\n",
            "Epoch: 002/010 || Batch: 350/391 || Cost: 1.2312\n",
            "Epoch: 002/010 || Train: 59.430%\n",
            "Time Elapsed: 2.67 min\n",
            "Epoch: 003/010 || Batch: 000/391 || Cost: 1.2066\n",
            "Epoch: 003/010 || Batch: 050/391 || Cost: 1.1034\n",
            "Epoch: 003/010 || Batch: 100/391 || Cost: 1.0780\n",
            "Epoch: 003/010 || Batch: 150/391 || Cost: 0.9725\n",
            "Epoch: 003/010 || Batch: 200/391 || Cost: 0.9769\n",
            "Epoch: 003/010 || Batch: 250/391 || Cost: 1.1264\n",
            "Epoch: 003/010 || Batch: 300/391 || Cost: 1.0259\n",
            "Epoch: 003/010 || Batch: 350/391 || Cost: 0.8338\n",
            "Epoch: 003/010 || Train: 64.880%\n",
            "Time Elapsed: 4.01 min\n",
            "Epoch: 004/010 || Batch: 000/391 || Cost: 0.9565\n",
            "Epoch: 004/010 || Batch: 050/391 || Cost: 0.9375\n",
            "Epoch: 004/010 || Batch: 100/391 || Cost: 1.0231\n",
            "Epoch: 004/010 || Batch: 150/391 || Cost: 1.1006\n",
            "Epoch: 004/010 || Batch: 200/391 || Cost: 1.1668\n",
            "Epoch: 004/010 || Batch: 250/391 || Cost: 1.0739\n",
            "Epoch: 004/010 || Batch: 300/391 || Cost: 1.0603\n",
            "Epoch: 004/010 || Batch: 350/391 || Cost: 0.9066\n",
            "Epoch: 004/010 || Train: 68.948%\n",
            "Time Elapsed: 5.34 min\n",
            "Epoch: 005/010 || Batch: 000/391 || Cost: 1.0953\n",
            "Epoch: 005/010 || Batch: 050/391 || Cost: 0.8175\n",
            "Epoch: 005/010 || Batch: 100/391 || Cost: 0.9852\n",
            "Epoch: 005/010 || Batch: 150/391 || Cost: 0.7651\n",
            "Epoch: 005/010 || Batch: 200/391 || Cost: 1.0875\n",
            "Epoch: 005/010 || Batch: 250/391 || Cost: 0.9295\n",
            "Epoch: 005/010 || Batch: 300/391 || Cost: 0.8441\n",
            "Epoch: 005/010 || Batch: 350/391 || Cost: 0.8299\n",
            "Epoch: 005/010 || Train: 71.610%\n",
            "Time Elapsed: 6.68 min\n",
            "Epoch: 006/010 || Batch: 000/391 || Cost: 0.9214\n",
            "Epoch: 006/010 || Batch: 050/391 || Cost: 0.7639\n",
            "Epoch: 006/010 || Batch: 100/391 || Cost: 0.9428\n",
            "Epoch: 006/010 || Batch: 150/391 || Cost: 0.6695\n",
            "Epoch: 006/010 || Batch: 200/391 || Cost: 0.9877\n",
            "Epoch: 006/010 || Batch: 250/391 || Cost: 0.7853\n",
            "Epoch: 006/010 || Batch: 300/391 || Cost: 0.7801\n",
            "Epoch: 006/010 || Batch: 350/391 || Cost: 0.6884\n",
            "Epoch: 006/010 || Train: 75.182%\n",
            "Time Elapsed: 8.01 min\n",
            "Epoch: 007/010 || Batch: 000/391 || Cost: 0.7442\n",
            "Epoch: 007/010 || Batch: 050/391 || Cost: 0.6553\n",
            "Epoch: 007/010 || Batch: 100/391 || Cost: 0.7738\n",
            "Epoch: 007/010 || Batch: 150/391 || Cost: 0.7750\n",
            "Epoch: 007/010 || Batch: 200/391 || Cost: 0.7612\n",
            "Epoch: 007/010 || Batch: 250/391 || Cost: 0.8086\n",
            "Epoch: 007/010 || Batch: 300/391 || Cost: 0.7241\n",
            "Epoch: 007/010 || Batch: 350/391 || Cost: 0.8441\n",
            "Epoch: 007/010 || Train: 78.514%\n",
            "Time Elapsed: 9.35 min\n",
            "Epoch: 008/010 || Batch: 000/391 || Cost: 0.6737\n",
            "Epoch: 008/010 || Batch: 050/391 || Cost: 0.6705\n",
            "Epoch: 008/010 || Batch: 100/391 || Cost: 0.6950\n",
            "Epoch: 008/010 || Batch: 150/391 || Cost: 0.5694\n",
            "Epoch: 008/010 || Batch: 200/391 || Cost: 0.6642\n",
            "Epoch: 008/010 || Batch: 250/391 || Cost: 0.6968\n",
            "Epoch: 008/010 || Batch: 300/391 || Cost: 0.6484\n",
            "Epoch: 008/010 || Batch: 350/391 || Cost: 0.6615\n",
            "Epoch: 008/010 || Train: 83.434%\n",
            "Time Elapsed: 10.69 min\n",
            "Epoch: 009/010 || Batch: 000/391 || Cost: 0.4920\n",
            "Epoch: 009/010 || Batch: 050/391 || Cost: 0.5800\n",
            "Epoch: 009/010 || Batch: 100/391 || Cost: 0.5266\n",
            "Epoch: 009/010 || Batch: 150/391 || Cost: 0.6984\n",
            "Epoch: 009/010 || Batch: 200/391 || Cost: 0.6013\n",
            "Epoch: 009/010 || Batch: 250/391 || Cost: 0.5291\n",
            "Epoch: 009/010 || Batch: 300/391 || Cost: 0.4319\n",
            "Epoch: 009/010 || Batch: 350/391 || Cost: 0.5653\n",
            "Epoch: 009/010 || Train: 86.588%\n",
            "Time Elapsed: 12.04 min\n",
            "Epoch: 010/010 || Batch: 000/391 || Cost: 0.3739\n",
            "Epoch: 010/010 || Batch: 050/391 || Cost: 0.3558\n",
            "Epoch: 010/010 || Batch: 100/391 || Cost: 0.3853\n",
            "Epoch: 010/010 || Batch: 150/391 || Cost: 0.3762\n",
            "Epoch: 010/010 || Batch: 200/391 || Cost: 0.4345\n",
            "Epoch: 010/010 || Batch: 250/391 || Cost: 0.4835\n",
            "Epoch: 010/010 || Batch: 300/391 || Cost: 0.4783\n",
            "Epoch: 010/010 || Batch: 350/391 || Cost: 0.4752\n",
            "Epoch: 010/010 || Train: 90.108%\n",
            "Time Elapsed: 13.38 min\n",
            "Total Training Time: 13.38 min\n"
          ],
          "name": "stdout"
        }
      ]
    },
    {
      "cell_type": "code",
      "metadata": {
        "id": "yXFtkSB0LITt"
      },
      "source": [
        ""
      ],
      "execution_count": null,
      "outputs": []
    }
  ]
}