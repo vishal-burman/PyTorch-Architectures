{
  "nbformat": 4,
  "nbformat_minor": 0,
  "metadata": {
    "colab": {
      "provenance": [],
      "collapsed_sections": [],
      "authorship_tag": "ABX9TyMQEwbI3LKcpJH9jbm40qiT",
      "include_colab_link": true
    },
    "kernelspec": {
      "name": "python3",
      "display_name": "Python 3"
    },
    "accelerator": "GPU",
    "widgets": {
      "application/vnd.jupyter.widget-state+json": {
        "dec486d277d3455da69dac9bb888ec2d": {
          "model_module": "@jupyter-widgets/controls",
          "model_name": "HBoxModel",
          "model_module_version": "1.5.0",
          "state": {
            "_dom_classes": [],
            "_model_module": "@jupyter-widgets/controls",
            "_model_module_version": "1.5.0",
            "_model_name": "HBoxModel",
            "_view_count": null,
            "_view_module": "@jupyter-widgets/controls",
            "_view_module_version": "1.5.0",
            "_view_name": "HBoxView",
            "box_style": "",
            "children": [
              "IPY_MODEL_727c10f8a59a4d4691239987027dd33a",
              "IPY_MODEL_f4763308e02846169e501dcb70ddc366",
              "IPY_MODEL_d4d876cfcbfc4ea28807703070b002a9"
            ],
            "layout": "IPY_MODEL_9478daa351744e63bab74dc2d1f25626"
          }
        },
        "727c10f8a59a4d4691239987027dd33a": {
          "model_module": "@jupyter-widgets/controls",
          "model_name": "HTMLModel",
          "model_module_version": "1.5.0",
          "state": {
            "_dom_classes": [],
            "_model_module": "@jupyter-widgets/controls",
            "_model_module_version": "1.5.0",
            "_model_name": "HTMLModel",
            "_view_count": null,
            "_view_module": "@jupyter-widgets/controls",
            "_view_module_version": "1.5.0",
            "_view_name": "HTMLView",
            "description": "",
            "description_tooltip": null,
            "layout": "IPY_MODEL_73c33628cb3c4a3fb5657d8336452382",
            "placeholder": "​",
            "style": "IPY_MODEL_a38019de131549aca8e45e48257b8db2",
            "value": "100%"
          }
        },
        "f4763308e02846169e501dcb70ddc366": {
          "model_module": "@jupyter-widgets/controls",
          "model_name": "FloatProgressModel",
          "model_module_version": "1.5.0",
          "state": {
            "_dom_classes": [],
            "_model_module": "@jupyter-widgets/controls",
            "_model_module_version": "1.5.0",
            "_model_name": "FloatProgressModel",
            "_view_count": null,
            "_view_module": "@jupyter-widgets/controls",
            "_view_module_version": "1.5.0",
            "_view_name": "ProgressView",
            "bar_style": "",
            "description": "",
            "description_tooltip": null,
            "layout": "IPY_MODEL_4a7183188b684a8f8d3a0e84b5917258",
            "max": 588,
            "min": 0,
            "orientation": "horizontal",
            "style": "IPY_MODEL_2dea3d87528d40439a5d2a3ba414d28b",
            "value": 588
          }
        },
        "d4d876cfcbfc4ea28807703070b002a9": {
          "model_module": "@jupyter-widgets/controls",
          "model_name": "HTMLModel",
          "model_module_version": "1.5.0",
          "state": {
            "_dom_classes": [],
            "_model_module": "@jupyter-widgets/controls",
            "_model_module_version": "1.5.0",
            "_model_name": "HTMLModel",
            "_view_count": null,
            "_view_module": "@jupyter-widgets/controls",
            "_view_module_version": "1.5.0",
            "_view_name": "HTMLView",
            "description": "",
            "description_tooltip": null,
            "layout": "IPY_MODEL_50df94c2e5d540909d2057b020cd2287",
            "placeholder": "​",
            "style": "IPY_MODEL_3a91dc80ac044cfd807f3028c6464329",
            "value": " 588/588 [04:05&lt;00:00,  2.94it/s]"
          }
        },
        "9478daa351744e63bab74dc2d1f25626": {
          "model_module": "@jupyter-widgets/base",
          "model_name": "LayoutModel",
          "model_module_version": "1.2.0",
          "state": {
            "_model_module": "@jupyter-widgets/base",
            "_model_module_version": "1.2.0",
            "_model_name": "LayoutModel",
            "_view_count": null,
            "_view_module": "@jupyter-widgets/base",
            "_view_module_version": "1.2.0",
            "_view_name": "LayoutView",
            "align_content": null,
            "align_items": null,
            "align_self": null,
            "border": null,
            "bottom": null,
            "display": null,
            "flex": null,
            "flex_flow": null,
            "grid_area": null,
            "grid_auto_columns": null,
            "grid_auto_flow": null,
            "grid_auto_rows": null,
            "grid_column": null,
            "grid_gap": null,
            "grid_row": null,
            "grid_template_areas": null,
            "grid_template_columns": null,
            "grid_template_rows": null,
            "height": null,
            "justify_content": null,
            "justify_items": null,
            "left": null,
            "margin": null,
            "max_height": null,
            "max_width": null,
            "min_height": null,
            "min_width": null,
            "object_fit": null,
            "object_position": null,
            "order": null,
            "overflow": null,
            "overflow_x": null,
            "overflow_y": null,
            "padding": null,
            "right": null,
            "top": null,
            "visibility": null,
            "width": null
          }
        },
        "73c33628cb3c4a3fb5657d8336452382": {
          "model_module": "@jupyter-widgets/base",
          "model_name": "LayoutModel",
          "model_module_version": "1.2.0",
          "state": {
            "_model_module": "@jupyter-widgets/base",
            "_model_module_version": "1.2.0",
            "_model_name": "LayoutModel",
            "_view_count": null,
            "_view_module": "@jupyter-widgets/base",
            "_view_module_version": "1.2.0",
            "_view_name": "LayoutView",
            "align_content": null,
            "align_items": null,
            "align_self": null,
            "border": null,
            "bottom": null,
            "display": null,
            "flex": null,
            "flex_flow": null,
            "grid_area": null,
            "grid_auto_columns": null,
            "grid_auto_flow": null,
            "grid_auto_rows": null,
            "grid_column": null,
            "grid_gap": null,
            "grid_row": null,
            "grid_template_areas": null,
            "grid_template_columns": null,
            "grid_template_rows": null,
            "height": null,
            "justify_content": null,
            "justify_items": null,
            "left": null,
            "margin": null,
            "max_height": null,
            "max_width": null,
            "min_height": null,
            "min_width": null,
            "object_fit": null,
            "object_position": null,
            "order": null,
            "overflow": null,
            "overflow_x": null,
            "overflow_y": null,
            "padding": null,
            "right": null,
            "top": null,
            "visibility": null,
            "width": null
          }
        },
        "a38019de131549aca8e45e48257b8db2": {
          "model_module": "@jupyter-widgets/controls",
          "model_name": "DescriptionStyleModel",
          "model_module_version": "1.5.0",
          "state": {
            "_model_module": "@jupyter-widgets/controls",
            "_model_module_version": "1.5.0",
            "_model_name": "DescriptionStyleModel",
            "_view_count": null,
            "_view_module": "@jupyter-widgets/base",
            "_view_module_version": "1.2.0",
            "_view_name": "StyleView",
            "description_width": ""
          }
        },
        "4a7183188b684a8f8d3a0e84b5917258": {
          "model_module": "@jupyter-widgets/base",
          "model_name": "LayoutModel",
          "model_module_version": "1.2.0",
          "state": {
            "_model_module": "@jupyter-widgets/base",
            "_model_module_version": "1.2.0",
            "_model_name": "LayoutModel",
            "_view_count": null,
            "_view_module": "@jupyter-widgets/base",
            "_view_module_version": "1.2.0",
            "_view_name": "LayoutView",
            "align_content": null,
            "align_items": null,
            "align_self": null,
            "border": null,
            "bottom": null,
            "display": null,
            "flex": null,
            "flex_flow": null,
            "grid_area": null,
            "grid_auto_columns": null,
            "grid_auto_flow": null,
            "grid_auto_rows": null,
            "grid_column": null,
            "grid_gap": null,
            "grid_row": null,
            "grid_template_areas": null,
            "grid_template_columns": null,
            "grid_template_rows": null,
            "height": null,
            "justify_content": null,
            "justify_items": null,
            "left": null,
            "margin": null,
            "max_height": null,
            "max_width": null,
            "min_height": null,
            "min_width": null,
            "object_fit": null,
            "object_position": null,
            "order": null,
            "overflow": null,
            "overflow_x": null,
            "overflow_y": null,
            "padding": null,
            "right": null,
            "top": null,
            "visibility": null,
            "width": null
          }
        },
        "2dea3d87528d40439a5d2a3ba414d28b": {
          "model_module": "@jupyter-widgets/controls",
          "model_name": "ProgressStyleModel",
          "model_module_version": "1.5.0",
          "state": {
            "_model_module": "@jupyter-widgets/controls",
            "_model_module_version": "1.5.0",
            "_model_name": "ProgressStyleModel",
            "_view_count": null,
            "_view_module": "@jupyter-widgets/base",
            "_view_module_version": "1.2.0",
            "_view_name": "StyleView",
            "bar_color": null,
            "description_width": ""
          }
        },
        "50df94c2e5d540909d2057b020cd2287": {
          "model_module": "@jupyter-widgets/base",
          "model_name": "LayoutModel",
          "model_module_version": "1.2.0",
          "state": {
            "_model_module": "@jupyter-widgets/base",
            "_model_module_version": "1.2.0",
            "_model_name": "LayoutModel",
            "_view_count": null,
            "_view_module": "@jupyter-widgets/base",
            "_view_module_version": "1.2.0",
            "_view_name": "LayoutView",
            "align_content": null,
            "align_items": null,
            "align_self": null,
            "border": null,
            "bottom": null,
            "display": null,
            "flex": null,
            "flex_flow": null,
            "grid_area": null,
            "grid_auto_columns": null,
            "grid_auto_flow": null,
            "grid_auto_rows": null,
            "grid_column": null,
            "grid_gap": null,
            "grid_row": null,
            "grid_template_areas": null,
            "grid_template_columns": null,
            "grid_template_rows": null,
            "height": null,
            "justify_content": null,
            "justify_items": null,
            "left": null,
            "margin": null,
            "max_height": null,
            "max_width": null,
            "min_height": null,
            "min_width": null,
            "object_fit": null,
            "object_position": null,
            "order": null,
            "overflow": null,
            "overflow_x": null,
            "overflow_y": null,
            "padding": null,
            "right": null,
            "top": null,
            "visibility": null,
            "width": null
          }
        },
        "3a91dc80ac044cfd807f3028c6464329": {
          "model_module": "@jupyter-widgets/controls",
          "model_name": "DescriptionStyleModel",
          "model_module_version": "1.5.0",
          "state": {
            "_model_module": "@jupyter-widgets/controls",
            "_model_module_version": "1.5.0",
            "_model_name": "DescriptionStyleModel",
            "_view_count": null,
            "_view_module": "@jupyter-widgets/base",
            "_view_module_version": "1.2.0",
            "_view_name": "StyleView",
            "description_width": ""
          }
        }
      }
    }
  },
  "cells": [
    {
      "cell_type": "markdown",
      "metadata": {
        "id": "view-in-github",
        "colab_type": "text"
      },
      "source": [
        "<a href=\"https://colab.research.google.com/github/vishal-burman/PyTorch-Architectures/blob/master/modeling_AlexNet/test_sample_AlexNet.ipynb\" target=\"_parent\"><img src=\"https://colab.research.google.com/assets/colab-badge.svg\" alt=\"Open In Colab\"/></a>"
      ]
    },
    {
      "cell_type": "code",
      "source": [
        "! nvidia-smi"
      ],
      "metadata": {
        "colab": {
          "base_uri": "https://localhost:8080/"
        },
        "id": "7bWudhSvCG2P",
        "outputId": "dc9ef0c8-7d2f-48dc-ed00-0a8076c4a042"
      },
      "execution_count": 1,
      "outputs": [
        {
          "output_type": "stream",
          "name": "stdout",
          "text": [
            "Sun Sep  4 15:05:39 2022       \n",
            "+-----------------------------------------------------------------------------+\n",
            "| NVIDIA-SMI 460.32.03    Driver Version: 460.32.03    CUDA Version: 11.2     |\n",
            "|-------------------------------+----------------------+----------------------+\n",
            "| GPU  Name        Persistence-M| Bus-Id        Disp.A | Volatile Uncorr. ECC |\n",
            "| Fan  Temp  Perf  Pwr:Usage/Cap|         Memory-Usage | GPU-Util  Compute M. |\n",
            "|                               |                      |               MIG M. |\n",
            "|===============================+======================+======================|\n",
            "|   0  Tesla T4            Off  | 00000000:00:04.0 Off |                    0 |\n",
            "| N/A   41C    P8     9W /  70W |      0MiB / 15109MiB |      0%      Default |\n",
            "|                               |                      |                  N/A |\n",
            "+-------------------------------+----------------------+----------------------+\n",
            "                                                                               \n",
            "+-----------------------------------------------------------------------------+\n",
            "| Processes:                                                                  |\n",
            "|  GPU   GI   CI        PID   Type   Process name                  GPU Memory |\n",
            "|        ID   ID                                                   Usage      |\n",
            "|=============================================================================|\n",
            "|  No running processes found                                                 |\n",
            "+-----------------------------------------------------------------------------+\n"
          ]
        }
      ]
    },
    {
      "cell_type": "code",
      "metadata": {
        "id": "nXlNDk-czPyO"
      },
      "source": [
        "! pip install -q wget datasets fire transformers"
      ],
      "execution_count": null,
      "outputs": []
    },
    {
      "cell_type": "code",
      "metadata": {
        "id": "RJLf4qaJm3so",
        "colab": {
          "base_uri": "https://localhost:8080/"
        },
        "outputId": "d6d372d6-b26f-4a77-faf9-23c481041fd0"
      },
      "source": [
        "! rm -rf PyTorch-Architectures/\n",
        "! git clone https://github.com/vishal-burman/PyTorch-Architectures.git"
      ],
      "execution_count": 1,
      "outputs": [
        {
          "output_type": "stream",
          "name": "stdout",
          "text": [
            "Cloning into 'PyTorch-Architectures'...\n",
            "remote: Enumerating objects: 4931, done.\u001b[K\n",
            "remote: Counting objects:   0% (1/215)\u001b[K\rremote: Counting objects:   1% (3/215)\u001b[K\rremote: Counting objects:   2% (5/215)\u001b[K\rremote: Counting objects:   3% (7/215)\u001b[K\rremote: Counting objects:   4% (9/215)\u001b[K\rremote: Counting objects:   5% (11/215)\u001b[K\rremote: Counting objects:   6% (13/215)\u001b[K\rremote: Counting objects:   7% (16/215)\u001b[K\rremote: Counting objects:   8% (18/215)\u001b[K\rremote: Counting objects:   9% (20/215)\u001b[K\rremote: Counting objects:  10% (22/215)\u001b[K\rremote: Counting objects:  11% (24/215)\u001b[K\rremote: Counting objects:  12% (26/215)\u001b[K\rremote: Counting objects:  13% (28/215)\u001b[K\rremote: Counting objects:  14% (31/215)\u001b[K\rremote: Counting objects:  15% (33/215)\u001b[K\rremote: Counting objects:  16% (35/215)\u001b[K\rremote: Counting objects:  17% (37/215)\u001b[K\rremote: Counting objects:  18% (39/215)\u001b[K\rremote: Counting objects:  19% (41/215)\u001b[K\rremote: Counting objects:  20% (43/215)\u001b[K\rremote: Counting objects:  21% (46/215)\u001b[K\rremote: Counting objects:  22% (48/215)\u001b[K\rremote: Counting objects:  23% (50/215)\u001b[K\rremote: Counting objects:  24% (52/215)\u001b[K\rremote: Counting objects:  25% (54/215)\u001b[K\rremote: Counting objects:  26% (56/215)\u001b[K\rremote: Counting objects:  27% (59/215)\u001b[K\rremote: Counting objects:  28% (61/215)\u001b[K\rremote: Counting objects:  29% (63/215)\u001b[K\rremote: Counting objects:  30% (65/215)\u001b[K\rremote: Counting objects:  31% (67/215)\u001b[K\rremote: Counting objects:  32% (69/215)\u001b[K\rremote: Counting objects:  33% (71/215)\u001b[K\rremote: Counting objects:  34% (74/215)\u001b[K\rremote: Counting objects:  35% (76/215)\u001b[K\rremote: Counting objects:  36% (78/215)\u001b[K\rremote: Counting objects:  37% (80/215)\u001b[K\rremote: Counting objects:  38% (82/215)\u001b[K\rremote: Counting objects:  39% (84/215)\u001b[K\rremote: Counting objects:  40% (86/215)\u001b[K\rremote: Counting objects:  41% (89/215)\u001b[K\rremote: Counting objects:  42% (91/215)\u001b[K\rremote: Counting objects:  43% (93/215)\u001b[K\rremote: Counting objects:  44% (95/215)\u001b[K\rremote: Counting objects:  45% (97/215)\u001b[K\rremote: Counting objects:  46% (99/215)\u001b[K\rremote: Counting objects:  47% (102/215)\u001b[K\rremote: Counting objects:  48% (104/215)\u001b[K\rremote: Counting objects:  49% (106/215)\u001b[K\rremote: Counting objects:  50% (108/215)\u001b[K\rremote: Counting objects:  51% (110/215)\u001b[K\rremote: Counting objects:  52% (112/215)\u001b[K\rremote: Counting objects:  53% (114/215)\u001b[K\rremote: Counting objects:  54% (117/215)\u001b[K\rremote: Counting objects:  55% (119/215)\u001b[K\rremote: Counting objects:  56% (121/215)\u001b[K\rremote: Counting objects:  57% (123/215)\u001b[K\rremote: Counting objects:  58% (125/215)\u001b[K\rremote: Counting objects:  59% (127/215)\u001b[K\rremote: Counting objects:  60% (129/215)\u001b[K\rremote: Counting objects:  61% (132/215)\u001b[K\rremote: Counting objects:  62% (134/215)\u001b[K\rremote: Counting objects:  63% (136/215)\u001b[K\rremote: Counting objects:  64% (138/215)\u001b[K\rremote: Counting objects:  65% (140/215)\u001b[K\rremote: Counting objects:  66% (142/215)\u001b[K\rremote: Counting objects:  67% (145/215)\u001b[K\rremote: Counting objects:  68% (147/215)\u001b[K\rremote: Counting objects:  69% (149/215)\u001b[K\rremote: Counting objects:  70% (151/215)\u001b[K\rremote: Counting objects:  71% (153/215)\u001b[K\rremote: Counting objects:  72% (155/215)\u001b[K\rremote: Counting objects:  73% (157/215)\u001b[K\rremote: Counting objects:  74% (160/215)\u001b[K\rremote: Counting objects:  75% (162/215)\u001b[K\rremote: Counting objects:  76% (164/215)\u001b[K\rremote: Counting objects:  77% (166/215)\u001b[K\rremote: Counting objects:  78% (168/215)\u001b[K\rremote: Counting objects:  79% (170/215)\u001b[K\rremote: Counting objects:  80% (172/215)\u001b[K\rremote: Counting objects:  81% (175/215)\u001b[K\rremote: Counting objects:  82% (177/215)\u001b[K\rremote: Counting objects:  83% (179/215)\u001b[K\rremote: Counting objects:  84% (181/215)\u001b[K\rremote: Counting objects:  85% (183/215)\u001b[K\rremote: Counting objects:  86% (185/215)\u001b[K\rremote: Counting objects:  87% (188/215)\u001b[K\rremote: Counting objects:  88% (190/215)\u001b[K\rremote: Counting objects:  89% (192/215)\u001b[K\rremote: Counting objects:  90% (194/215)\u001b[K\rremote: Counting objects:  91% (196/215)\u001b[K\rremote: Counting objects:  92% (198/215)\u001b[K\rremote: Counting objects:  93% (200/215)\u001b[K\rremote: Counting objects:  94% (203/215)\u001b[K\rremote: Counting objects:  95% (205/215)\u001b[K\rremote: Counting objects:  96% (207/215)\u001b[K\rremote: Counting objects:  97% (209/215)\u001b[K\rremote: Counting objects:  98% (211/215)\u001b[K\rremote: Counting objects:  99% (213/215)\u001b[K\rremote: Counting objects: 100% (215/215)\u001b[K\rremote: Counting objects: 100% (215/215), done.\u001b[K\n",
            "remote: Compressing objects: 100% (122/122), done.\u001b[K\n",
            "remote: Total 4931 (delta 161), reused 123 (delta 92), pack-reused 4716\u001b[K\n",
            "Receiving objects: 100% (4931/4931), 11.32 MiB | 25.31 MiB/s, done.\n",
            "Resolving deltas: 100% (2898/2898), done.\n"
          ]
        }
      ]
    },
    {
      "cell_type": "code",
      "metadata": {
        "colab": {
          "base_uri": "https://localhost:8080/"
        },
        "id": "DnJcivhHm529",
        "outputId": "2e07bf51-0dfd-491e-dc31-5db0b50599b1"
      },
      "source": [
        "%cd PyTorch-Architectures/"
      ],
      "execution_count": 2,
      "outputs": [
        {
          "output_type": "stream",
          "name": "stdout",
          "text": [
            "/content/PyTorch-Architectures\n"
          ]
        }
      ]
    },
    {
      "cell_type": "code",
      "metadata": {
        "id": "8XNgQm9ynSKP"
      },
      "source": [
        "import torch\n",
        "from torchvision import datasets, transforms\n",
        "from torch.utils.data import Dataset, DataLoader\n",
        "from modeling_AlexNet import AlexNet\n",
        "from toolkit.custom_dataset_cv import DataLoaderCIFAR10Classification\n",
        "from toolkit.utils import dict_to_device\n",
        "from toolkit import Trainer"
      ],
      "execution_count": 3,
      "outputs": []
    },
    {
      "cell_type": "code",
      "source": [
        "# Unit test the model\n",
        "! python -m unittest modeling_AlexNet/test_model.py"
      ],
      "metadata": {
        "colab": {
          "base_uri": "https://localhost:8080/"
        },
        "id": "L4ePDCaTChg3",
        "outputId": "6ad2c060-6394-4ef3-d3ed-c5308b32e125"
      },
      "execution_count": 4,
      "outputs": [
        {
          "output_type": "stream",
          "name": "stdout",
          "text": [
            "..\n",
            "----------------------------------------------------------------------\n",
            "Ran 2 tests in 0.918s\n",
            "\n",
            "OK\n"
          ]
        }
      ]
    },
    {
      "cell_type": "code",
      "metadata": {
        "id": "KLfFV8qGnOAL"
      },
      "source": [
        "# Hyperparameters\n",
        "INPUT_SIZE = 128\n",
        "BATCH_SIZE = 256\n",
        "LEARNING_RATE = 0.0001\n",
        "EPOCHS = 3"
      ],
      "execution_count": 7,
      "outputs": []
    },
    {
      "cell_type": "code",
      "metadata": {
        "id": "G7x6TeZnrKKM",
        "colab": {
          "base_uri": "https://localhost:8080/"
        },
        "outputId": "bb079629-a392-4441-b8cc-765e67fdba54"
      },
      "source": [
        "train_loader = DataLoaderCIFAR10Classification(resize=INPUT_SIZE, \n",
        "                                               train=True,\n",
        "                                               batch_size=BATCH_SIZE,\n",
        "                                               shuffle=True)\n",
        "\n",
        "valid_loader = DataLoaderCIFAR10Classification(resize=INPUT_SIZE, \n",
        "                                               train=False,\n",
        "                                               batch_size=BATCH_SIZE,\n",
        "                                               shuffle=False)\n",
        "\n",
        "print(f\"Length of Train Loader --> {len(train_loader)}\")\n",
        "print(f\"Length of Valid Loader --> {len(valid_loader)}\")"
      ],
      "execution_count": 6,
      "outputs": [
        {
          "output_type": "stream",
          "name": "stdout",
          "text": [
            "cifar10 extracted...\n",
            "cifar10 exists...\n",
            "Length of Train Loader --> 196\n",
            "Length of Valid Loader --> 40\n"
          ]
        }
      ]
    },
    {
      "cell_type": "code",
      "metadata": {
        "id": "IYIYphZu0D0r"
      },
      "source": [
        "# Sanity check DataLoader\n",
        "for sample in train_loader:\n",
        "  assert sample[\"pixel_values\"].dim() == 4\n",
        "  assert sample[\"pixel_values\"].size(2) == INPUT_SIZE\n",
        "  break"
      ],
      "execution_count": 8,
      "outputs": []
    },
    {
      "cell_type": "code",
      "metadata": {
        "colab": {
          "base_uri": "https://localhost:8080/"
        },
        "id": "YsHtZsMS0bUA",
        "outputId": "536a50f5-4489-415e-d3c0-44b5278f2a0c"
      },
      "source": [
        "device = torch.device(\"cuda:0\" if torch.cuda.is_available() else \"cpu\")\n",
        "model = AlexNet(num_classes=10)\n",
        "model.to(device)\n",
        "\n",
        "params = sum(p.numel() for p in model.parameters() if p.requires_grad)\n",
        "print(f\"Trainable Parameters --> {params}\")"
      ],
      "execution_count": 9,
      "outputs": [
        {
          "output_type": "stream",
          "name": "stdout",
          "text": [
            "Trainable Parameters --> 57044810\n"
          ]
        }
      ]
    },
    {
      "cell_type": "code",
      "metadata": {
        "colab": {
          "base_uri": "https://localhost:8080/"
        },
        "id": "LFQqLbt70hpG",
        "outputId": "3136d2c9-e0bc-4388-d9be-5aca11282b23"
      },
      "source": [
        "# Sanity check forward pass\n",
        "model.eval()\n",
        "with torch.set_grad_enabled(False):\n",
        "  for sample in train_loader:\n",
        "    loss, logits = model(**dict_to_device(sample, device=device))\n",
        "    print(f\"Loss --> {loss.item(): .2f}\")\n",
        "    print(f\"Logits Shape --> {logits.shape}\")\n",
        "    break"
      ],
      "execution_count": 10,
      "outputs": [
        {
          "output_type": "stream",
          "name": "stdout",
          "text": [
            "Loss -->  2.30\n",
            "Logits Shape --> torch.Size([256, 10])\n"
          ]
        }
      ]
    },
    {
      "cell_type": "code",
      "metadata": {
        "id": "TX93Kqm40rGB"
      },
      "source": [
        "trainer = Trainer(model=model,\n",
        "                  train_dataset=train_loader,\n",
        "                  valid_dataset=valid_loader,\n",
        "                  optimizer=\"adam\",\n",
        "                  scheduler=None,\n",
        "                  lr=LEARNING_RATE,\n",
        "                  epochs=EPOCHS,\n",
        "                  batch_size=BATCH_SIZE,\n",
        "                  gradient_accumulation_steps=2,\n",
        "                  use_amp=False,\n",
        "                  eval_metric=\"cv_accuracy\",\n",
        "                  show_grad_flow=True\n",
        "                  )"
      ],
      "execution_count": 11,
      "outputs": []
    },
    {
      "cell_type": "code",
      "metadata": {
        "id": "OBmjPba057ni",
        "colab": {
          "base_uri": "https://localhost:8080/",
          "height": 1000,
          "referenced_widgets": [
            "dec486d277d3455da69dac9bb888ec2d",
            "727c10f8a59a4d4691239987027dd33a",
            "f4763308e02846169e501dcb70ddc366",
            "d4d876cfcbfc4ea28807703070b002a9",
            "9478daa351744e63bab74dc2d1f25626",
            "73c33628cb3c4a3fb5657d8336452382",
            "a38019de131549aca8e45e48257b8db2",
            "4a7183188b684a8f8d3a0e84b5917258",
            "2dea3d87528d40439a5d2a3ba414d28b",
            "50df94c2e5d540909d2057b020cd2287",
            "3a91dc80ac044cfd807f3028c6464329"
          ]
        },
        "outputId": "460e30ea-6318-4ab0-b867-6e8229ca7b1a"
      },
      "source": [
        "trainer.train()"
      ],
      "execution_count": 12,
      "outputs": [
        {
          "output_type": "stream",
          "name": "stdout",
          "text": [
            "********** Running Training **********\n",
            "  Total Training Steps = 588  \n",
            "  Epochs = 3  \n",
            "  Batch Size = 256  \n",
            "  Length of Train DataLoader = 196  \n",
            "  Length of Valid DataLoader = 40  \n"
          ]
        },
        {
          "output_type": "display_data",
          "data": {
            "text/plain": [
              "  0%|          | 0/588 [00:00<?, ?it/s]"
            ],
            "application/vnd.jupyter.widget-view+json": {
              "version_major": 2,
              "version_minor": 0,
              "model_id": "dec486d277d3455da69dac9bb888ec2d"
            }
          },
          "metadata": {}
        },
        {
          "output_type": "stream",
          "name": "stdout",
          "text": [
            "\n",
            "Epoch: 1 || Training Loss: 1.878 || cv_accuracy: 37.960\n",
            "\n",
            "Gradient-Flow for epoch 1\n"
          ]
        },
        {
          "output_type": "display_data",
          "data": {
            "text/plain": [
              "<Figure size 432x288 with 1 Axes>"
            ],
            "image/png": "[encoded data removed]"
          },
          "metadata": {
            "needs_background": "light"
          }
        },
        {
          "output_type": "stream",
          "name": "stdout",
          "text": [
            "\n",
            "Epoch: 2 || Training Loss: 1.489 || cv_accuracy: 49.600\n",
            "\n",
            "Gradient-Flow for epoch 2\n"
          ]
        },
        {
          "output_type": "display_data",
          "data": {
            "text/plain": [
              "<Figure size 432x288 with 1 Axes>"
            ],
            "image/png": "[encoded data removed]"
          },
          "metadata": {
            "needs_background": "light"
          }
        },
        {
          "output_type": "stream",
          "name": "stdout",
          "text": [
            "\n",
            "Epoch: 3 || Training Loss: 1.286 || cv_accuracy: 56.210\n",
            "\n",
            "Gradient-Flow for epoch 3\n"
          ]
        },
        {
          "output_type": "display_data",
          "data": {
            "text/plain": [
              "<Figure size 432x288 with 1 Axes>"
            ],
            "image/png": "[encoded data removed]"
          },
          "metadata": {
            "needs_background": "light"
          }
        }
      ]
    },
    {
      "cell_type": "code",
      "source": [],
      "metadata": {
        "id": "9_cGadHwDujD"
      },
      "execution_count": null,
      "outputs": []
    }
  ]
}