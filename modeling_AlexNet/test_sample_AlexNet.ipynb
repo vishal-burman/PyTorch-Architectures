{
  "nbformat": 4,
  "nbformat_minor": 0,
  "metadata": {
    "colab": {
      "name": "test_sample_AlexNet.ipynb",
      "provenance": [],
      "collapsed_sections": [],
      "authorship_tag": "ABX9TyNZpDs978FhlR7l43yaof4t",
      "include_colab_link": true
    },
    "kernelspec": {
      "name": "python3",
      "display_name": "Python 3"
    },
    "accelerator": "GPU"
  },
  "cells": [
    {
      "cell_type": "markdown",
      "metadata": {
        "id": "view-in-github",
        "colab_type": "text"
      },
      "source": [
        "<a href=\"https://colab.research.google.com/github/vishal-burman/PyTorch-Architectures/blob/master/modeling_AlexNet/test_sample_AlexNet.ipynb\" target=\"_parent\"><img src=\"https://colab.research.google.com/assets/colab-badge.svg\" alt=\"Open In Colab\"/></a>"
      ]
    },
    {
      "cell_type": "code",
      "metadata": {
        "id": "RJLf4qaJm3so"
      },
      "source": [
        "! git clone https://github.com/vishal-burman/PyTorch-Architectures.git"
      ],
      "execution_count": null,
      "outputs": []
    },
    {
      "cell_type": "code",
      "metadata": {
        "colab": {
          "base_uri": "https://localhost:8080/"
        },
        "id": "DnJcivhHm529",
        "outputId": "c7019855-1174-46e1-cdd5-3d1739ade742"
      },
      "source": [
        "%cd PyTorch-Architectures/modeling_AlexNet/"
      ],
      "execution_count": 2,
      "outputs": [
        {
          "output_type": "stream",
          "text": [
            "/content/PyTorch-Architectures/modeling_AlexNet\n"
          ],
          "name": "stdout"
        }
      ]
    },
    {
      "cell_type": "code",
      "metadata": {
        "id": "8XNgQm9ynSKP"
      },
      "source": [
        "import time\n",
        "import torch\n",
        "import torch.nn.functional as F\n",
        "from torch.utils.data import DataLoader\n",
        "from torch.utils.data.dataset import Subset\n",
        "\n",
        "from torchvision import datasets\n",
        "from torchvision import transforms\n",
        "\n",
        "from model import AlexNet"
      ],
      "execution_count": 12,
      "outputs": []
    },
    {
      "cell_type": "code",
      "metadata": {
        "id": "KLfFV8qGnOAL"
      },
      "source": [
        "# SETTINGS\n",
        "\n",
        "# Model Settings\n",
        "random_seed=1\n",
        "learning_rate=0.0001\n",
        "batch_size=256\n",
        "num_epochs=20\n",
        "\n",
        "# Architecture\n",
        "num_classes=10\n",
        "\n",
        "# Other\n",
        "device=torch.device(\"cuda:0\" if torch.cuda.is_available() else \"cpu\")"
      ],
      "execution_count": 5,
      "outputs": []
    },
    {
      "cell_type": "code",
      "metadata": {
        "id": "FZNSsBz9nfjk"
      },
      "source": [
        "# Dataset\n",
        "train_indices=torch.arange(0, 48000)\n",
        "valid_indices=torch.arange(48000, 50000)\n",
        "\n",
        "train_transform=transforms.Compose([transforms.Resize((70, 70)),\n",
        "                                    transforms.RandomCrop((64, 64)),\n",
        "                                    transforms.ToTensor()])\n",
        "\n",
        "test_transform=transforms.Compose([transforms.Resize((70, 70)),\n",
        "                                   transforms.CenterCrop((64, 64)),\n",
        "                                   transforms.ToTensor()])\n",
        "\n",
        "train_and_valid=datasets.CIFAR10(root=\"data\", train=True, transform=train_transform, download=True)\n",
        "\n",
        "train_dataset=Subset(train_and_valid, train_indices)\n",
        "valid_dataset=Subset(train_and_valid, valid_indices)\n",
        "test_dataset=datasets.CIFAR10(root=\"data\", train=False, transform=test_transform, download=False)\n",
        "\n",
        "train_loader=DataLoader(dataset=train_dataset, batch_size=batch_size, num_workers=4)\n",
        "\n",
        "valid_loader=DataLoader(dataset=valid_dataset, batch_size=batch_size, num_workers=4)\n",
        "\n",
        "test_loader=DataLoader(dataset=test_dataset, batch_size=batch_size, num_workers=4)"
      ],
      "execution_count": null,
      "outputs": []
    },
    {
      "cell_type": "code",
      "metadata": {
        "colab": {
          "base_uri": "https://localhost:8080/"
        },
        "id": "zcE_gsjanju0",
        "outputId": "04204745-bc9e-425d-c0d7-5b317a5290e8"
      },
      "source": [
        "# Checking the dataset\n",
        "print(\"Training Set:\\n\")\n",
        "for images, labels in train_loader:\n",
        "    print(\"Image batch dimensions: \", images.shape)\n",
        "    print(\"Image label dimensions: \", labels.shape)\n",
        "    break\n",
        "\n",
        "# Checking the dataset\n",
        "print(\"\\nValidation Set:\")\n",
        "for images, labels in valid_loader:\n",
        "    print(\"Image batch dimensions: \", images.shape)\n",
        "    print(\"Image label dimensions: \", labels.shape)\n",
        "    break\n",
        "\n",
        "# Checking the dataset\n",
        "print(\"\\nTest Set:\")\n",
        "for images, labels in test_loader:\n",
        "    print(\"Image batch dimensions: \", images.shape)\n",
        "    print(\"Image label dimensions: \", labels.shape)\n",
        "    break"
      ],
      "execution_count": 8,
      "outputs": [
        {
          "output_type": "stream",
          "text": [
            "Training Set:\n",
            "\n",
            "Image batch dimensions:  torch.Size([256, 3, 64, 64])\n",
            "Image label dimensions:  torch.Size([256])\n",
            "\n",
            "Validation Set:\n",
            "Image batch dimensions:  torch.Size([256, 3, 64, 64])\n",
            "Image label dimensions:  torch.Size([256])\n",
            "\n",
            "Test Set:\n",
            "Image batch dimensions:  torch.Size([256, 3, 64, 64])\n",
            "Image label dimensions:  torch.Size([256])\n"
          ],
          "name": "stdout"
        }
      ]
    },
    {
      "cell_type": "code",
      "metadata": {
        "id": "qf8Feg2fnvW4"
      },
      "source": [
        "torch.manual_seed(random_seed)\n",
        "model=AlexNet(num_classes=num_classes).to(device)\n",
        "\n",
        "optimizer=torch.optim.Adam(model.parameters(), lr=learning_rate)"
      ],
      "execution_count": 11,
      "outputs": []
    },
    {
      "cell_type": "code",
      "metadata": {
        "colab": {
          "base_uri": "https://localhost:8080/"
        },
        "id": "z_XbWhTgn5z2",
        "outputId": "47a21c10-c8ef-44fe-b9bc-194068d6c81e"
      },
      "source": [
        "# Training\n",
        "def compute_accuracy(model, data_loader, device):\n",
        "    correct_pred, num_examples=0, 0\n",
        "    model.eval()\n",
        "    for i, (features, targets) in enumerate(data_loader):\n",
        "        \n",
        "        features=features.to(device)\n",
        "        targets=targets.to(device)\n",
        "        \n",
        "        logits, probas=model(features)\n",
        "        _, predicted_labels=torch.max(probas, 1)\n",
        "        num_examples+=targets.size(0)\n",
        "        assert predicted_labels.size()==targets.size()\n",
        "        correct_pred+=(predicted_labels==targets).sum()\n",
        "    return correct_pred.float()/num_examples*100\n",
        "\n",
        "\n",
        "start_time=time.time()\n",
        "cost_list=[]\n",
        "train_acc_list, valid_acc_list=[], []\n",
        "\n",
        "for epoch in range(num_epochs):\n",
        "    \n",
        "    model.train()\n",
        "    for batch_idx, (features, targets) in enumerate(train_loader):\n",
        "        \n",
        "        features=features.to(device)\n",
        "        targets=targets.to(device)\n",
        "        \n",
        "        # Forward and backprop\n",
        "        logits, probas=model(features)\n",
        "        cost=F.cross_entropy(logits, targets)\n",
        "        optimizer.zero_grad()\n",
        "        \n",
        "        cost.backward()\n",
        "        \n",
        "        # Update model parameters\n",
        "        optimizer.step()\n",
        "        \n",
        "        # ONLY FOR LOGGING\n",
        "        cost_list.append(cost.item())\n",
        "        if not batch_idx % 150:\n",
        "            print(\"Batch: %03d/%03d | Epoch: %03d/%03d | Cost: %.2f\" % (batch_idx, len(train_loader), epoch+1, num_epochs, cost))\n",
        "        \n",
        "    model.eval()\n",
        "    with torch.set_grad_enabled(False):\n",
        "\n",
        "        train_acc=compute_accuracy(model, train_loader, device)\n",
        "        valid_acc=compute_accuracy(model, valid_loader, device)\n",
        "\n",
        "        print(f'Epoch: {epoch+1:03d}/{num_epochs:03d}\\n'\n",
        "              f'Train ACC: {train_acc:.2f} | Validation ACC: {valid_acc:.2f}')\n",
        "        \n",
        "        train_acc_list.append(train_acc)\n",
        "        valid_acc_list.append(valid_acc)\n",
        "    \n",
        "    elapsed=(time.time()-start_time)/60\n",
        "    print(f'Time Elapsed: {elapsed:.2f} min')\n",
        "\n",
        "elapsed=(time.time()-start_time)/60\n",
        "print(f'Total Training Time: {elapsed:.2f} min')"
      ],
      "execution_count": 13,
      "outputs": [
        {
          "output_type": "stream",
          "text": [
            "Batch: 000/188 | Epoch: 001/020 | Cost: 2.30\n",
            "Batch: 150/188 | Epoch: 001/020 | Cost: 1.77\n",
            "Epoch: 001/020\n",
            "Train ACC: 32.51 | Validation ACC: 33.35\n",
            "Time Elapsed: 0.54 min\n",
            "Batch: 000/188 | Epoch: 002/020 | Cost: 1.71\n",
            "Batch: 150/188 | Epoch: 002/020 | Cost: 1.53\n",
            "Epoch: 002/020\n",
            "Train ACC: 43.76 | Validation ACC: 43.00\n",
            "Time Elapsed: 1.07 min\n",
            "Batch: 000/188 | Epoch: 003/020 | Cost: 1.46\n",
            "Batch: 150/188 | Epoch: 003/020 | Cost: 1.31\n",
            "Epoch: 003/020\n",
            "Train ACC: 50.90 | Validation ACC: 51.90\n",
            "Time Elapsed: 1.61 min\n",
            "Batch: 000/188 | Epoch: 004/020 | Cost: 1.25\n",
            "Batch: 150/188 | Epoch: 004/020 | Cost: 1.22\n",
            "Epoch: 004/020\n",
            "Train ACC: 53.08 | Validation ACC: 53.55\n",
            "Time Elapsed: 2.15 min\n",
            "Batch: 000/188 | Epoch: 005/020 | Cost: 1.16\n",
            "Batch: 150/188 | Epoch: 005/020 | Cost: 1.14\n",
            "Epoch: 005/020\n",
            "Train ACC: 56.93 | Validation ACC: 57.65\n",
            "Time Elapsed: 2.69 min\n",
            "Batch: 000/188 | Epoch: 006/020 | Cost: 1.07\n",
            "Batch: 150/188 | Epoch: 006/020 | Cost: 1.04\n",
            "Epoch: 006/020\n",
            "Train ACC: 61.80 | Validation ACC: 61.20\n",
            "Time Elapsed: 3.23 min\n",
            "Batch: 000/188 | Epoch: 007/020 | Cost: 0.92\n",
            "Batch: 150/188 | Epoch: 007/020 | Cost: 0.96\n",
            "Epoch: 007/020\n",
            "Train ACC: 64.50 | Validation ACC: 63.20\n",
            "Time Elapsed: 3.77 min\n",
            "Batch: 000/188 | Epoch: 008/020 | Cost: 0.86\n",
            "Batch: 150/188 | Epoch: 008/020 | Cost: 0.90\n",
            "Epoch: 008/020\n",
            "Train ACC: 67.05 | Validation ACC: 65.50\n",
            "Time Elapsed: 4.31 min\n",
            "Batch: 000/188 | Epoch: 009/020 | Cost: 0.83\n",
            "Batch: 150/188 | Epoch: 009/020 | Cost: 0.84\n",
            "Epoch: 009/020\n",
            "Train ACC: 68.02 | Validation ACC: 65.05\n",
            "Time Elapsed: 4.85 min\n",
            "Batch: 000/188 | Epoch: 010/020 | Cost: 0.79\n",
            "Batch: 150/188 | Epoch: 010/020 | Cost: 0.77\n",
            "Epoch: 010/020\n",
            "Train ACC: 67.75 | Validation ACC: 64.60\n",
            "Time Elapsed: 5.40 min\n",
            "Batch: 000/188 | Epoch: 011/020 | Cost: 0.81\n",
            "Batch: 150/188 | Epoch: 011/020 | Cost: 0.74\n",
            "Epoch: 011/020\n",
            "Train ACC: 70.19 | Validation ACC: 66.45\n",
            "Time Elapsed: 5.94 min\n",
            "Batch: 000/188 | Epoch: 012/020 | Cost: 0.68\n",
            "Batch: 150/188 | Epoch: 012/020 | Cost: 0.70\n",
            "Epoch: 012/020\n",
            "Train ACC: 72.78 | Validation ACC: 67.55\n",
            "Time Elapsed: 6.48 min\n",
            "Batch: 000/188 | Epoch: 013/020 | Cost: 0.67\n",
            "Batch: 150/188 | Epoch: 013/020 | Cost: 0.68\n",
            "Epoch: 013/020\n",
            "Train ACC: 74.87 | Validation ACC: 68.80\n",
            "Time Elapsed: 7.02 min\n",
            "Batch: 000/188 | Epoch: 014/020 | Cost: 0.59\n",
            "Batch: 150/188 | Epoch: 014/020 | Cost: 0.64\n",
            "Epoch: 014/020\n",
            "Train ACC: 76.16 | Validation ACC: 68.80\n",
            "Time Elapsed: 7.57 min\n",
            "Batch: 000/188 | Epoch: 015/020 | Cost: 0.57\n",
            "Batch: 150/188 | Epoch: 015/020 | Cost: 0.58\n",
            "Epoch: 015/020\n",
            "Train ACC: 79.91 | Validation ACC: 70.60\n",
            "Time Elapsed: 8.11 min\n",
            "Batch: 000/188 | Epoch: 016/020 | Cost: 0.49\n",
            "Batch: 150/188 | Epoch: 016/020 | Cost: 0.59\n",
            "Epoch: 016/020\n",
            "Train ACC: 80.12 | Validation ACC: 71.10\n",
            "Time Elapsed: 8.65 min\n",
            "Batch: 000/188 | Epoch: 017/020 | Cost: 0.53\n",
            "Batch: 150/188 | Epoch: 017/020 | Cost: 0.61\n",
            "Epoch: 017/020\n",
            "Train ACC: 80.83 | Validation ACC: 69.50\n",
            "Time Elapsed: 9.20 min\n",
            "Batch: 000/188 | Epoch: 018/020 | Cost: 0.44\n",
            "Batch: 150/188 | Epoch: 018/020 | Cost: 0.55\n",
            "Epoch: 018/020\n",
            "Train ACC: 81.96 | Validation ACC: 72.45\n",
            "Time Elapsed: 9.74 min\n",
            "Batch: 000/188 | Epoch: 019/020 | Cost: 0.49\n",
            "Batch: 150/188 | Epoch: 019/020 | Cost: 0.51\n",
            "Epoch: 019/020\n",
            "Train ACC: 83.28 | Validation ACC: 71.05\n",
            "Time Elapsed: 10.28 min\n",
            "Batch: 000/188 | Epoch: 020/020 | Cost: 0.37\n",
            "Batch: 150/188 | Epoch: 020/020 | Cost: 0.45\n",
            "Epoch: 020/020\n",
            "Train ACC: 82.31 | Validation ACC: 69.35\n",
            "Time Elapsed: 10.83 min\n",
            "Total Training Time: 10.83 min\n"
          ],
          "name": "stdout"
        }
      ]
    },
    {
      "cell_type": "code",
      "metadata": {
        "colab": {
          "base_uri": "https://localhost:8080/"
        },
        "id": "jzQXwFzeoIuB",
        "outputId": "1d4284cd-dafb-4c6f-e8b1-25732956cc52"
      },
      "source": [
        "model.eval()\n",
        "with torch.set_grad_enabled(False): # save memory during inference\n",
        "    test_acc=compute_accuracy(model=model, data_loader=test_loader, device=device)\n",
        "    valid_acc=compute_accuracy(model=model, data_loader=valid_loader, device=device)\n",
        "\n",
        "print(\"Valid Accuracy: %.2f%% || Test Accuracy: %.2f%%\" % (valid_acc, test_acc))"
      ],
      "execution_count": 14,
      "outputs": [
        {
          "output_type": "stream",
          "text": [
            "Valid Accuracy: 69.80% || Test Accuracy: 70.18%\n"
          ],
          "name": "stdout"
        }
      ]
    },
    {
      "cell_type": "code",
      "metadata": {
        "id": "G7x6TeZnrKKM"
      },
      "source": [
        ""
      ],
      "execution_count": null,
      "outputs": []
    }
  ]
}