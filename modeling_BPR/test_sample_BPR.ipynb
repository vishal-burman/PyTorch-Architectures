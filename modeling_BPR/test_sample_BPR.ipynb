{
  "nbformat": 4,
  "nbformat_minor": 0,
  "metadata": {
    "colab": {
      "name": "test_sample_BPR.ipynb",
      "provenance": [],
      "collapsed_sections": [],
      "authorship_tag": "ABX9TyMCJDUR6B2ZrplM82wk4lgq",
      "include_colab_link": true
    },
    "kernelspec": {
      "name": "python3",
      "display_name": "Python 3"
    }
  },
  "cells": [
    {
      "cell_type": "markdown",
      "metadata": {
        "id": "view-in-github",
        "colab_type": "text"
      },
      "source": [
        "<a href=\"https://colab.research.google.com/github/vishal-burman/PyTorch-Architectures/blob/master/modeling_BPR/test_sample_BPR.ipynb\" target=\"_parent\"><img src=\"https://colab.research.google.com/assets/colab-badge.svg\" alt=\"Open In Colab\"/></a>"
      ]
    },
    {
      "cell_type": "code",
      "metadata": {
        "id": "I6IWfhuRUSJl"
      },
      "source": [
        "! wget https://raw.githubusercontent.com/RUCAIBox/RecBole/master/recbole/dataset_example/ml-100k/ml-100k.inter"
      ],
      "execution_count": null,
      "outputs": []
    },
    {
      "cell_type": "code",
      "metadata": {
        "id": "wFGJ5cNrUMiu"
      },
      "source": [
        "import pandas as pd\r\n",
        "import numpy as np\r\n",
        "import scipy.sparse as sp\r\n",
        "\r\n",
        "import torch\r\n",
        "import torch.nn as nn\r\n",
        "import torch.nn.functional as F\r\n",
        "from torch.utils.data import Dataset, DataLoader"
      ],
      "execution_count": 41,
      "outputs": []
    },
    {
      "cell_type": "code",
      "metadata": {
        "id": "M2KXDe9EUyhU"
      },
      "source": [
        "dataset = pd.read_csv('ml-100k.inter', sep='\\t')"
      ],
      "execution_count": 9,
      "outputs": []
    },
    {
      "cell_type": "code",
      "metadata": {
        "colab": {
          "base_uri": "https://localhost:8080/",
          "height": 206
        },
        "id": "ow88QqSwU3OE",
        "outputId": "addb33f9-0ac1-4bdb-a5f6-f4043cf75519"
      },
      "source": [
        "dataset.head()"
      ],
      "execution_count": 10,
      "outputs": [
        {
          "output_type": "execute_result",
          "data": {
            "text/html": [
              "<div>\n",
              "<style scoped>\n",
              "    .dataframe tbody tr th:only-of-type {\n",
              "        vertical-align: middle;\n",
              "    }\n",
              "\n",
              "    .dataframe tbody tr th {\n",
              "        vertical-align: top;\n",
              "    }\n",
              "\n",
              "    .dataframe thead th {\n",
              "        text-align: right;\n",
              "    }\n",
              "</style>\n",
              "<table border=\"1\" class=\"dataframe\">\n",
              "  <thead>\n",
              "    <tr style=\"text-align: right;\">\n",
              "      <th></th>\n",
              "      <th>user_id:token</th>\n",
              "      <th>item_id:token</th>\n",
              "      <th>rating:float</th>\n",
              "      <th>timestamp:float</th>\n",
              "    </tr>\n",
              "  </thead>\n",
              "  <tbody>\n",
              "    <tr>\n",
              "      <th>0</th>\n",
              "      <td>196</td>\n",
              "      <td>242</td>\n",
              "      <td>3</td>\n",
              "      <td>881250949</td>\n",
              "    </tr>\n",
              "    <tr>\n",
              "      <th>1</th>\n",
              "      <td>186</td>\n",
              "      <td>302</td>\n",
              "      <td>3</td>\n",
              "      <td>891717742</td>\n",
              "    </tr>\n",
              "    <tr>\n",
              "      <th>2</th>\n",
              "      <td>22</td>\n",
              "      <td>377</td>\n",
              "      <td>1</td>\n",
              "      <td>878887116</td>\n",
              "    </tr>\n",
              "    <tr>\n",
              "      <th>3</th>\n",
              "      <td>244</td>\n",
              "      <td>51</td>\n",
              "      <td>2</td>\n",
              "      <td>880606923</td>\n",
              "    </tr>\n",
              "    <tr>\n",
              "      <th>4</th>\n",
              "      <td>166</td>\n",
              "      <td>346</td>\n",
              "      <td>1</td>\n",
              "      <td>886397596</td>\n",
              "    </tr>\n",
              "  </tbody>\n",
              "</table>\n",
              "</div>"
            ],
            "text/plain": [
              "   user_id:token  item_id:token  rating:float  timestamp:float\n",
              "0            196            242             3        881250949\n",
              "1            186            302             3        891717742\n",
              "2             22            377             1        878887116\n",
              "3            244             51             2        880606923\n",
              "4            166            346             1        886397596"
            ]
          },
          "metadata": {
            "tags": []
          },
          "execution_count": 10
        }
      ]
    },
    {
      "cell_type": "code",
      "metadata": {
        "id": "fgoa8qPxU425"
      },
      "source": [
        "user_num = dataset['user_id:token'].max() + 1\r\n",
        "item_num = dataset['item_id:token'].max() + 1"
      ],
      "execution_count": 13,
      "outputs": []
    },
    {
      "cell_type": "code",
      "metadata": {
        "id": "kI85QQ1sVRB7"
      },
      "source": [
        "train_data = dataset.values.tolist()"
      ],
      "execution_count": 15,
      "outputs": []
    },
    {
      "cell_type": "code",
      "metadata": {
        "id": "Z82I3MKQVgzj"
      },
      "source": [
        "train_mat = sp.dok_matrix((user_num, item_num), dtype=np.float32)"
      ],
      "execution_count": 20,
      "outputs": []
    },
    {
      "cell_type": "code",
      "metadata": {
        "id": "LokFS4LRVl2S"
      },
      "source": [
        "for x in train_data:\r\n",
        "  train_mat[x[0], x[1]] = 1.0"
      ],
      "execution_count": 23,
      "outputs": []
    },
    {
      "cell_type": "code",
      "metadata": {
        "id": "exaKJ_GwV_56"
      },
      "source": [
        "features_fill = []\r\n",
        "for x in train_data:\r\n",
        "  u, i = x[0], x[1]\r\n",
        "  for t in range(4):\r\n",
        "    j = np.random.randint(item_num)\r\n",
        "    while (u, j) in train_mat:\r\n",
        "      j = np.random.randint(item_num)\r\n",
        "    features_fill.append([u, i, j])"
      ],
      "execution_count": 31,
      "outputs": []
    },
    {
      "cell_type": "code",
      "metadata": {
        "id": "cbNfJCjvbvQY"
      },
      "source": [
        "class RecDataset(Dataset):\r\n",
        "  def __init__(self, features, num_item, train_mat=None, num_ng=4, is_training=False):\r\n",
        "    self.features = features\r\n",
        "    self.num_item = num_item\r\n",
        "    self.train_mat = train_mat\r\n",
        "    self.num_ng = num_ng\r\n",
        "    self.is_training = is_training\r\n",
        "    if self.is_training:\r\n",
        "      self.negative_sample()\r\n",
        "    \r\n",
        "  def negative_sample(self):\r\n",
        "    assert self.is_training, 'no need to sample while testing'\r\n",
        "    self.features_fill = []\r\n",
        "    for x in self.features:\r\n",
        "      u, i = x[0], x[1]\r\n",
        "      for t in range(self.num_ng):\r\n",
        "        j = np.random.randint(self.num_item)\r\n",
        "        while (u, j) in self.train_mat:\r\n",
        "          j = np.random.randint(self.num_item)\r\n",
        "        self.features_fill.append([u, i, j])\r\n",
        "  \r\n",
        "  def __len__(self):\r\n",
        "    return self.num_ng * len(self.features) if self.is_training else len(self.features)\r\n",
        "  \r\n",
        "  def __getitem__(self, idx):\r\n",
        "    features = self.features_fill if self.is_training else self.features\r\n",
        "    user = self.features[idx][0]\r\n",
        "    item_pos = self.features[idx][1]\r\n",
        "    item_neg = self.features[idx][2] if self.is_training else self.features[idx][1]\r\n",
        "    return {\r\n",
        "        'user_id': torch.tensor(user),\r\n",
        "        'pos_item_id': torch.tensor(item_pos),\r\n",
        "        'neg_item_id': torch.tensor(item_neg),\r\n",
        "    }"
      ],
      "execution_count": 54,
      "outputs": []
    },
    {
      "cell_type": "code",
      "metadata": {
        "id": "UpyITSknqOGO"
      },
      "source": [
        "dataset = RecDataset(train_data, num_item=item_num, train_mat=train_mat, is_training=True)"
      ],
      "execution_count": 55,
      "outputs": []
    },
    {
      "cell_type": "code",
      "metadata": {
        "colab": {
          "base_uri": "https://localhost:8080/"
        },
        "id": "YY8MdmQQqtSB",
        "outputId": "eb759014-cdfb-4258-99ec-af2fb9a96639"
      },
      "source": [
        "loader = DataLoader(dataset, shuffle=False, batch_size=2)"
      ],
      "execution_count": 59,
      "outputs": [
        {
          "output_type": "stream",
          "text": [
            "torch.Size([2])\n"
          ],
          "name": "stdout"
        }
      ]
    },
    {
      "cell_type": "code",
      "metadata": {
        "id": "s6pvwCB9rXXk"
      },
      "source": [
        ""
      ],
      "execution_count": null,
      "outputs": []
    }
  ]
}