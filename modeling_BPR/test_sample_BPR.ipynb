{
  "nbformat": 4,
  "nbformat_minor": 0,
  "metadata": {
    "colab": {
      "name": "test_sample_BPR.ipynb",
      "provenance": [],
      "collapsed_sections": [],
      "authorship_tag": "ABX9TyOj8fZ02nN0pIXK5+ONElqi",
      "include_colab_link": true
    },
    "kernelspec": {
      "name": "python3",
      "display_name": "Python 3"
    },
    "accelerator": "GPU"
  },
  "cells": [
    {
      "cell_type": "markdown",
      "metadata": {
        "id": "view-in-github",
        "colab_type": "text"
      },
      "source": [
        "<a href=\"https://colab.research.google.com/github/vishal-burman/PyTorch-Architectures/blob/master/modeling_BPR/test_sample_BPR.ipynb\" target=\"_parent\"><img src=\"https://colab.research.google.com/assets/colab-badge.svg\" alt=\"Open In Colab\"/></a>"
      ]
    },
    {
      "cell_type": "code",
      "metadata": {
        "colab": {
          "base_uri": "https://localhost:8080/"
        },
        "id": "dNU4zH6DRyAv",
        "outputId": "061231b3-782d-45e9-ce09-aa6eccbb099a"
      },
      "source": [
        "! nvidia-smi"
      ],
      "execution_count": 1,
      "outputs": [
        {
          "output_type": "stream",
          "text": [
            "Tue Jan 12 06:27:32 2021       \n",
            "+-----------------------------------------------------------------------------+\n",
            "| NVIDIA-SMI 460.27.04    Driver Version: 418.67       CUDA Version: 10.1     |\n",
            "|-------------------------------+----------------------+----------------------+\n",
            "| GPU  Name        Persistence-M| Bus-Id        Disp.A | Volatile Uncorr. ECC |\n",
            "| Fan  Temp  Perf  Pwr:Usage/Cap|         Memory-Usage | GPU-Util  Compute M. |\n",
            "|                               |                      |               MIG M. |\n",
            "|===============================+======================+======================|\n",
            "|   0  Tesla T4            Off  | 00000000:00:04.0 Off |                    0 |\n",
            "| N/A   45C    P8     9W /  70W |      0MiB / 15079MiB |      0%      Default |\n",
            "|                               |                      |                 ERR! |\n",
            "+-------------------------------+----------------------+----------------------+\n",
            "                                                                               \n",
            "+-----------------------------------------------------------------------------+\n",
            "| Processes:                                                                  |\n",
            "|  GPU   GI   CI        PID   Type   Process name                  GPU Memory |\n",
            "|        ID   ID                                                   Usage      |\n",
            "|=============================================================================|\n",
            "|  No running processes found                                                 |\n",
            "+-----------------------------------------------------------------------------+\n"
          ],
          "name": "stdout"
        }
      ]
    },
    {
      "cell_type": "code",
      "metadata": {
        "id": "aK0Fvdt6B3MZ"
      },
      "source": [
        "# ! rm -rf PyTorch-Architectures/\r\n",
        "! git clone https://github.com/vishal-burman/PyTorch-Architectures.git\r\n",
        "%cd PyTorch-Architectures/modeling_BPR/"
      ],
      "execution_count": null,
      "outputs": []
    },
    {
      "cell_type": "code",
      "metadata": {
        "id": "I6IWfhuRUSJl"
      },
      "source": [
        "! wget https://raw.githubusercontent.com/hexiangnan/neural_collaborative_filtering/master/Data/ml-1m.train.rating\r\n",
        "! wget https://raw.githubusercontent.com/hexiangnan/neural_collaborative_filtering/master/Data/ml-1m.test.negative"
      ],
      "execution_count": null,
      "outputs": []
    },
    {
      "cell_type": "code",
      "metadata": {
        "id": "wFGJ5cNrUMiu"
      },
      "source": [
        "import time\r\n",
        "import pandas as pd\r\n",
        "import numpy as np\r\n",
        "import scipy.sparse as sp\r\n",
        "\r\n",
        "import torch\r\n",
        "import torch.nn as nn\r\n",
        "import torch.nn.functional as F\r\n",
        "from torch.utils.data import Dataset, DataLoader\r\n",
        "\r\n",
        "from model import BPR"
      ],
      "execution_count": 3,
      "outputs": []
    },
    {
      "cell_type": "code",
      "metadata": {
        "id": "M2KXDe9EUyhU"
      },
      "source": [
        "dataset = pd.read_csv('ml-1m.train.rating', sep='\\t', names=['user_id', 'item_id', 'rating', 'timestamp'])"
      ],
      "execution_count": 4,
      "outputs": []
    },
    {
      "cell_type": "code",
      "metadata": {
        "colab": {
          "base_uri": "https://localhost:8080/",
          "height": 206
        },
        "id": "ow88QqSwU3OE",
        "outputId": "812d0be5-9e18-4903-e7b6-4266029a090e"
      },
      "source": [
        "dataset.head()"
      ],
      "execution_count": 5,
      "outputs": [
        {
          "output_type": "execute_result",
          "data": {
            "text/html": [
              "<div>\n",
              "<style scoped>\n",
              "    .dataframe tbody tr th:only-of-type {\n",
              "        vertical-align: middle;\n",
              "    }\n",
              "\n",
              "    .dataframe tbody tr th {\n",
              "        vertical-align: top;\n",
              "    }\n",
              "\n",
              "    .dataframe thead th {\n",
              "        text-align: right;\n",
              "    }\n",
              "</style>\n",
              "<table border=\"1\" class=\"dataframe\">\n",
              "  <thead>\n",
              "    <tr style=\"text-align: right;\">\n",
              "      <th></th>\n",
              "      <th>user_id</th>\n",
              "      <th>item_id</th>\n",
              "      <th>rating</th>\n",
              "      <th>timestamp</th>\n",
              "    </tr>\n",
              "  </thead>\n",
              "  <tbody>\n",
              "    <tr>\n",
              "      <th>0</th>\n",
              "      <td>0</td>\n",
              "      <td>32</td>\n",
              "      <td>4</td>\n",
              "      <td>978824330</td>\n",
              "    </tr>\n",
              "    <tr>\n",
              "      <th>1</th>\n",
              "      <td>0</td>\n",
              "      <td>34</td>\n",
              "      <td>4</td>\n",
              "      <td>978824330</td>\n",
              "    </tr>\n",
              "    <tr>\n",
              "      <th>2</th>\n",
              "      <td>0</td>\n",
              "      <td>4</td>\n",
              "      <td>5</td>\n",
              "      <td>978824291</td>\n",
              "    </tr>\n",
              "    <tr>\n",
              "      <th>3</th>\n",
              "      <td>0</td>\n",
              "      <td>35</td>\n",
              "      <td>4</td>\n",
              "      <td>978824291</td>\n",
              "    </tr>\n",
              "    <tr>\n",
              "      <th>4</th>\n",
              "      <td>0</td>\n",
              "      <td>30</td>\n",
              "      <td>4</td>\n",
              "      <td>978824291</td>\n",
              "    </tr>\n",
              "  </tbody>\n",
              "</table>\n",
              "</div>"
            ],
            "text/plain": [
              "   user_id  item_id  rating  timestamp\n",
              "0        0       32       4  978824330\n",
              "1        0       34       4  978824330\n",
              "2        0        4       5  978824291\n",
              "3        0       35       4  978824291\n",
              "4        0       30       4  978824291"
            ]
          },
          "metadata": {
            "tags": []
          },
          "execution_count": 5
        }
      ]
    },
    {
      "cell_type": "code",
      "metadata": {
        "id": "fgoa8qPxU425"
      },
      "source": [
        "user_num = dataset['user_id'].max() + 1\r\n",
        "item_num = dataset['item_id'].max() + 1"
      ],
      "execution_count": 6,
      "outputs": []
    },
    {
      "cell_type": "code",
      "metadata": {
        "id": "PZAgEyneIf5M"
      },
      "source": [
        "test_data = []\r\n",
        "with open('ml-1m.test.negative', 'r') as fd:\r\n",
        "  line = fd.readline()\r\n",
        "  while line != None and line != '':\r\n",
        "    arr = line.split('\\t')\r\n",
        "    u = eval(arr[0])[0]\r\n",
        "    test_data.append([u, eval(arr[0])[1]])\r\n",
        "    for i in arr[1:]:\r\n",
        "      test_data.append([u, int(i)])\r\n",
        "    line = fd.readline()"
      ],
      "execution_count": 7,
      "outputs": []
    },
    {
      "cell_type": "code",
      "metadata": {
        "id": "kI85QQ1sVRB7"
      },
      "source": [
        "train_data = dataset.values.tolist()"
      ],
      "execution_count": 8,
      "outputs": []
    },
    {
      "cell_type": "code",
      "metadata": {
        "id": "Z82I3MKQVgzj"
      },
      "source": [
        "train_mat = sp.dok_matrix((user_num, item_num), dtype=np.float32)"
      ],
      "execution_count": 9,
      "outputs": []
    },
    {
      "cell_type": "code",
      "metadata": {
        "id": "LokFS4LRVl2S"
      },
      "source": [
        "for x in train_data:\r\n",
        "  train_mat[x[0], x[1]] = 1.0"
      ],
      "execution_count": 10,
      "outputs": []
    },
    {
      "cell_type": "code",
      "metadata": {
        "id": "cbNfJCjvbvQY"
      },
      "source": [
        "class RecDataset(Dataset):\r\n",
        "  def __init__(self, features, num_item, train_mat=None, num_ng=4, is_training=False):\r\n",
        "    self.features = features\r\n",
        "    self.num_item = num_item\r\n",
        "    self.train_mat = train_mat\r\n",
        "    self.num_ng = num_ng\r\n",
        "    self.is_training = is_training\r\n",
        "    self.features_fill = []\r\n",
        "    if self.is_training:\r\n",
        "      self.negative_sample()\r\n",
        "    \r\n",
        "  def negative_sample(self):\r\n",
        "    assert self.is_training, 'no need to sample while testing'\r\n",
        "    for x in self.features:\r\n",
        "      u, i = x[0], x[1]\r\n",
        "      for t in range(self.num_ng):\r\n",
        "        j = np.random.randint(self.num_item)\r\n",
        "        while (u, j) in self.train_mat:\r\n",
        "          j = np.random.randint(self.num_item)\r\n",
        "        self.features_fill.append([u, i, j])\r\n",
        "  \r\n",
        "  def __len__(self):\r\n",
        "    return self.num_ng * len(self.features) if self.is_training else len(self.features)\r\n",
        "  \r\n",
        "  def __getitem__(self, index):\r\n",
        "    features = self.features_fill if self.is_training else self.features\r\n",
        "    user = features[index][0]\r\n",
        "    item_pos = features[index][1]\r\n",
        "    item_neg = features[index][2] if self.is_training else features[index][1]\r\n",
        "    return {\r\n",
        "        'user_id': torch.tensor(user),\r\n",
        "        'pos_item_id': torch.tensor(item_pos),\r\n",
        "        'neg_item_id': torch.tensor(item_neg),\r\n",
        "    }"
      ],
      "execution_count": 11,
      "outputs": []
    },
    {
      "cell_type": "code",
      "metadata": {
        "id": "UpyITSknqOGO"
      },
      "source": [
        "train_dataset = RecDataset(train_data, num_item=item_num, train_mat=train_mat, is_training=True)\r\n",
        "test_dataset = RecDataset(test_data, num_item=item_num, train_mat=train_mat, is_training=False)"
      ],
      "execution_count": 12,
      "outputs": []
    },
    {
      "cell_type": "code",
      "metadata": {
        "id": "s6pvwCB9rXXk",
        "colab": {
          "base_uri": "https://localhost:8080/"
        },
        "outputId": "0f6fec97-5be5-47f9-de3a-69b25835419e"
      },
      "source": [
        "device = torch.device('cuda:0' if torch.cuda.is_available() else 'cpu')\r\n",
        "\r\n",
        "model = BPR(n_users=user_num, n_items=item_num, embedding_size=64)\r\n",
        "model.to(device)\r\n",
        "\r\n",
        "params = sum(p.numel() for p in model.parameters() if p.requires_grad)\r\n",
        "print('Total Trainable Parameters: ', params)"
      ],
      "execution_count": 13,
      "outputs": [
        {
          "output_type": "stream",
          "text": [
            "Total Trainable Parameters:  623744\n"
          ],
          "name": "stdout"
        }
      ]
    },
    {
      "cell_type": "code",
      "metadata": {
        "colab": {
          "base_uri": "https://localhost:8080/"
        },
        "id": "hThvwrRSKpok",
        "outputId": "03ff9ba1-15d8-492d-ade7-e3a5c36b0185"
      },
      "source": [
        "# Hyperparameters\r\n",
        "BATCH_SIZE_TRAIN = 2048\r\n",
        "BATCH_SIZE_TEST = 100\r\n",
        "EPOCHS = 3\r\n",
        "LEARNING_RATE = 0.001\r\n",
        "\r\n",
        "optimizer = torch.optim.Adam(model.parameters(), lr=LEARNING_RATE)\r\n",
        "train_loader = DataLoader(dataset=train_dataset, batch_size=BATCH_SIZE_TRAIN, shuffle=False)\r\n",
        "test_loader = DataLoader(dataset=test_dataset, batch_size=BATCH_SIZE_TEST, shuffle=False)\r\n",
        "\r\n",
        "print('Length of Train Loader: ', len(train_loader))\r\n",
        "print('Length of Test Loader: ', len(test_loader))\r\n",
        "\r\n",
        "# Sanity check\r\n",
        "for sample1, sample2 in zip(train_loader, test_loader):\r\n",
        "  print(sample1.keys(), \" \", sample2.keys())\r\n",
        "  break"
      ],
      "execution_count": 14,
      "outputs": [
        {
          "output_type": "stream",
          "text": [
            "Length of Train Loader:  1942\n",
            "Length of Test Loader:  6040\n",
            "dict_keys(['user_id', 'pos_item_id', 'neg_item_id'])   dict_keys(['user_id', 'pos_item_id', 'neg_item_id'])\n"
          ],
          "name": "stdout"
        }
      ]
    },
    {
      "cell_type": "code",
      "metadata": {
        "id": "qFdZerAqYzoc",
        "colab": {
          "base_uri": "https://localhost:8080/"
        },
        "outputId": "651f2be9-e2fc-4aaa-931e-4331cea98f32"
      },
      "source": [
        "def hit(item, recommends):\r\n",
        "  if item in recommends:\r\n",
        "    return 1.\r\n",
        "  return 0.\r\n",
        "\r\n",
        "def calculate_hit_rate(model, data_loader, top_k, device):\r\n",
        "  HR = []\r\n",
        "  with torch.set_grad_enabled(False):\r\n",
        "    for sample in data_loader:\r\n",
        "      u_id = sample['user_id'].to(device)\r\n",
        "      p_id = sample['pos_item_id'].to(device)\r\n",
        "      n_id = sample['neg_item_id'].to(device) # not useful while testing\r\n",
        "\r\n",
        "      interaction = {\r\n",
        "          'user_id': u_id,\r\n",
        "          'pos_item_id': p_id,\r\n",
        "          'neg_item_id': n_id,\r\n",
        "      }\r\n",
        "\r\n",
        "      scores = model.predict(interaction)\r\n",
        "      _, indices = torch.topk(scores, k=top_k)\r\n",
        "      recommends = torch.take(p_id, indices)\r\n",
        "\r\n",
        "      gt_item = p_id[0].item()\r\n",
        "      HR.append(hit(gt_item, recommends))\r\n",
        "  return torch.tensor(HR).mean().item()\r\n",
        "\r\n",
        "start_time = time.time()\r\n",
        "for epoch in range(EPOCHS):\r\n",
        "  model.train()\r\n",
        "  for idx, sample in enumerate(train_loader):\r\n",
        "    u_id = sample['user_id'].to(device)\r\n",
        "    p_item = sample['pos_item_id'].to(device)\r\n",
        "    n_item = sample['neg_item_id'].to(device)\r\n",
        "\r\n",
        "    interaction = {\r\n",
        "        'user_id': u_id,\r\n",
        "        'pos_item_id': p_item,\r\n",
        "        'neg_item_id': n_item,\r\n",
        "    }\r\n",
        "\r\n",
        "    optimizer.zero_grad()\r\n",
        "    loss = model.calculate_loss(interaction=interaction)\r\n",
        "    loss.backward()\r\n",
        "    optimizer.step()\r\n",
        "\r\n",
        "    # LOGGING\r\n",
        "    if idx % 500 == 0:\r\n",
        "      print('Epoch: %04d/%04d || Batch: %04d/%04d || Loss: %.3f' % (epoch+1, EPOCHS, idx, len(train_loader), loss.item()))\r\n",
        "  \r\n",
        "  model.eval()\r\n",
        "  with torch.set_grad_enabled(False):\r\n",
        "    test_hr = calculate_hit_rate(model, test_loader, top_k=10, device=device)\r\n",
        "    print('Test Hit Rate: ', test_hr)\r\n",
        "  epoch_time = (time.time() - start_time) / 60\r\n",
        "  print(\"Epoch Elapsed Time: %.2f min\" % (epoch_time))\r\n",
        "total_elapsed_time = (time.time() - start_time) / 60\r\n",
        "print('Total Training Time: %.2f min' % (total_elapsed_time))"
      ],
      "execution_count": 15,
      "outputs": [
        {
          "output_type": "stream",
          "text": [
            "Epoch: 0001/0003 || Batch: 0000/1942 || Loss: 0.693\n",
            "Epoch: 0001/0003 || Batch: 0500/1942 || Loss: 0.692\n",
            "Epoch: 0001/0003 || Batch: 1000/1942 || Loss: 0.695\n",
            "Epoch: 0001/0003 || Batch: 1500/1942 || Loss: 0.691\n",
            "Test Hit Rate:  0.3889072835445404\n",
            "Epoch Elapsed Time: 0.94 min\n",
            "Epoch: 0002/0003 || Batch: 0000/1942 || Loss: 0.690\n",
            "Epoch: 0002/0003 || Batch: 0500/1942 || Loss: 0.499\n",
            "Epoch: 0002/0003 || Batch: 1000/1942 || Loss: 0.448\n",
            "Epoch: 0002/0003 || Batch: 1500/1942 || Loss: 0.347\n",
            "Test Hit Rate:  0.44387418031692505\n",
            "Epoch Elapsed Time: 1.86 min\n",
            "Epoch: 0003/0003 || Batch: 0000/1942 || Loss: 0.384\n",
            "Epoch: 0003/0003 || Batch: 0500/1942 || Loss: 0.181\n",
            "Epoch: 0003/0003 || Batch: 1000/1942 || Loss: 0.314\n",
            "Epoch: 0003/0003 || Batch: 1500/1942 || Loss: 0.248\n",
            "Test Hit Rate:  0.4596026539802551\n",
            "Epoch Elapsed Time: 2.81 min\n",
            "Total Training Time: 2.81 min\n"
          ],
          "name": "stdout"
        }
      ]
    },
    {
      "cell_type": "code",
      "metadata": {
        "id": "USRGjwLMM05d"
      },
      "source": [
        ""
      ],
      "execution_count": null,
      "outputs": []
    }
  ]
}