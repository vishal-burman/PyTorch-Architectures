{
  "nbformat": 4,
  "nbformat_minor": 0,
  "metadata": {
    "colab": {
      "name": "test_sample_Seq2Seq.ipynb",
      "provenance": [],
      "collapsed_sections": [],
      "authorship_tag": "ABX9TyNolfiwmqENKgQnULNG7h7s",
      "include_colab_link": true
    },
    "kernelspec": {
      "name": "python3",
      "display_name": "Python 3"
    },
    "language_info": {
      "name": "python"
    }
  },
  "cells": [
    {
      "cell_type": "markdown",
      "metadata": {
        "id": "view-in-github",
        "colab_type": "text"
      },
      "source": [
        "<a href=\"https://colab.research.google.com/github/vishal-burman/PyTorch-Architectures/blob/master/modeling_Seq2Seq/test_sample_Seq2Seq.ipynb\" target=\"_parent\"><img src=\"https://colab.research.google.com/assets/colab-badge.svg\" alt=\"Open In Colab\"/></a>"
      ]
    },
    {
      "cell_type": "code",
      "metadata": {
        "id": "f79ZeRSEjDK7"
      },
      "source": [
        "! git clone https://github.com/vishal-burman/PyTorch-Architectures.git\n",
        "%cd PyTorch-Architectures/modeling_Seq2Seq/"
      ],
      "execution_count": null,
      "outputs": []
    },
    {
      "cell_type": "code",
      "metadata": {
        "id": "L1LL3xX7_jxC"
      },
      "source": [
        "! pip install datasets\n",
        "! pip install tokenizers"
      ],
      "execution_count": null,
      "outputs": []
    },
    {
      "cell_type": "code",
      "metadata": {
        "id": "rWYjGbAQDTyc"
      },
      "source": [
        "from datasets import load_dataset\n",
        "from tokenizers import Tokenizer\n",
        "from tokenizers import Tokenizer\n",
        "from tokenizers.models import BPE\n",
        "from tokenizers.trainers import BpeTrainer\n",
        "from tokenizers.pre_tokenizers import Whitespace\n",
        "from tokenizers.processors import TemplateProcessing\n",
        "\n",
        "import torch\n",
        "import torch.nn as nn\n",
        "import torch.nn.functional as F\n",
        "from torch.utils.data import DataLoader, Dataset\n",
        "from model import Seq2Seq"
      ],
      "execution_count": 5,
      "outputs": []
    },
    {
      "cell_type": "code",
      "metadata": {
        "id": "3HDBiboTAezL"
      },
      "source": [
        "dataset = load_dataset('mt_eng_vietnamese', 'iwslt2015-en-vi')"
      ],
      "execution_count": null,
      "outputs": []
    },
    {
      "cell_type": "code",
      "metadata": {
        "colab": {
          "base_uri": "https://localhost:8080/"
        },
        "id": "ZOwbnUkXArPp",
        "outputId": "6e63d84d-384a-47e3-8ed1-5397d35c3ca8"
      },
      "source": [
        "# Sample from the dataset\n",
        "dataset['train']['translation'][0]"
      ],
      "execution_count": 7,
      "outputs": [
        {
          "output_type": "execute_result",
          "data": {
            "text/plain": [
              "{'en': 'Rachel Pike : The science behind a climate headline',\n",
              " 'vi': 'Khoa học đằng sau một tiêu đề về khí hậu'}"
            ]
          },
          "metadata": {
            "tags": []
          },
          "execution_count": 7
        }
      ]
    },
    {
      "cell_type": "code",
      "metadata": {
        "id": "2ST17Cw7BDHH"
      },
      "source": [
        "train_sentences = dataset['train']\n",
        "en_sentences = []\n",
        "vi_sentences = []\n",
        "for value in train_sentences:\n",
        "  en_sentences.append(value['translation']['en'])\n",
        "  vi_sentences.append(value['translation']['vi'])"
      ],
      "execution_count": 8,
      "outputs": []
    },
    {
      "cell_type": "code",
      "metadata": {
        "id": "vczI_eamDIXu"
      },
      "source": [
        "tokenizer_en = Tokenizer(BPE(unk_token=\"[UNK]\"))\n",
        "tokenizer_vi = Tokenizer(BPE(unk_token=\"[UNK]\"))\n",
        "trainer_en = BpeTrainer(special_tokens=[\"[UNK]\", \"[EOS]\", \"[PAD]\"])\n",
        "trainer_vi = BpeTrainer(special_tokens=[\"[UNK]\", \"[EOS]\", \"[PAD]\"])"
      ],
      "execution_count": 9,
      "outputs": []
    },
    {
      "cell_type": "code",
      "metadata": {
        "id": "ff0KcPeoEFpa"
      },
      "source": [
        "tokenizer_en.pre_tokenizer = Whitespace()\n",
        "tokenizer_vi.pre_tokenizer = Whitespace()"
      ],
      "execution_count": 10,
      "outputs": []
    },
    {
      "cell_type": "code",
      "metadata": {
        "id": "wMpDSfiRERUm"
      },
      "source": [
        "tokenizer_en.train_from_iterator(en_sentences, trainer_en)\n",
        "tokenizer_vi.train_from_iterator(vi_sentences, trainer_vi)"
      ],
      "execution_count": 11,
      "outputs": []
    },
    {
      "cell_type": "code",
      "metadata": {
        "id": "0DyIax-jEbkT"
      },
      "source": [
        "tokenizer_en.post_processor = TemplateProcessing(\n",
        "    single = \"$A [EOS]\",\n",
        "    special_tokens = [\n",
        "                      (\"[EOS]\", tokenizer_en.token_to_id(\"[EOS]\")),\n",
        "    ],\n",
        ")\n",
        "\n",
        "tokenizer_vi.post_processor = TemplateProcessing(\n",
        "    single = \"$A [EOS]\",\n",
        "    special_tokens = [\n",
        "                      (\"[EOS]\", tokenizer_vi.token_to_id(\"[EOS]\")),\n",
        "    ],\n",
        ")\n",
        "\n",
        "# Paper uses the following format:\n",
        "# en_sentence [EOS] --> vi_sentence[EOS]"
      ],
      "execution_count": 12,
      "outputs": []
    },
    {
      "cell_type": "code",
      "metadata": {
        "colab": {
          "base_uri": "https://localhost:8080/"
        },
        "id": "Bhbj0naDHQCJ",
        "outputId": "c1851f22-0548-463b-8fd1-318461f10b90"
      },
      "source": [
        "# Sample tokenization of an english sentence\n",
        "sample_sentence = \"This is amazing and great!\"\n",
        "print('Sentence --> ', sample_sentence)\n",
        "output = tokenizer_en.encode(sample_sentence)\n",
        "output.tokens"
      ],
      "execution_count": 13,
      "outputs": [
        {
          "output_type": "stream",
          "text": [
            "Sentence -->  This is amazing and great!\n"
          ],
          "name": "stdout"
        },
        {
          "output_type": "execute_result",
          "data": {
            "text/plain": [
              "['This', 'is', 'amazing', 'and', 'great', '!', '[EOS]']"
            ]
          },
          "metadata": {
            "tags": []
          },
          "execution_count": 13
        }
      ]
    },
    {
      "cell_type": "code",
      "metadata": {
        "id": "lLZQE827JMHg",
        "colab": {
          "base_uri": "https://localhost:8080/"
        },
        "outputId": "8276089a-e9ad-42a1-ec62-d2d028ec8d27"
      },
      "source": [
        "# Sample tokenization of a vietnamese sentence\n",
        "print('Sentence --> ', vi_sentences[0])\n",
        "output = tokenizer_vi.encode(vi_sentences[0])\n",
        "output.tokens"
      ],
      "execution_count": 14,
      "outputs": [
        {
          "output_type": "stream",
          "text": [
            "Sentence -->  Khoa học đằng sau một tiêu đề về khí hậu\n"
          ],
          "name": "stdout"
        },
        {
          "output_type": "execute_result",
          "data": {
            "text/plain": [
              "['Khoa',\n",
              " 'học',\n",
              " 'đằng',\n",
              " 'sau',\n",
              " 'một',\n",
              " 'tiêu',\n",
              " 'đề',\n",
              " 'về',\n",
              " 'khí',\n",
              " 'hậu',\n",
              " '[EOS]']"
            ]
          },
          "metadata": {
            "tags": []
          },
          "execution_count": 14
        }
      ]
    },
    {
      "cell_type": "code",
      "metadata": {
        "id": "uSY3Hn4YJNGM"
      },
      "source": [
        ""
      ],
      "execution_count": null,
      "outputs": []
    }
  ]
}