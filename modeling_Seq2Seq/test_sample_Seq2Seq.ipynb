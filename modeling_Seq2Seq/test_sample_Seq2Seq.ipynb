{
  "nbformat": 4,
  "nbformat_minor": 0,
  "metadata": {
    "colab": {
      "name": "test_sample_Seq2Seq.ipynb",
      "provenance": [],
      "collapsed_sections": [],
      "authorship_tag": "ABX9TyMKCecg/9c9N7oowMqOvTjU",
      "include_colab_link": true
    },
    "kernelspec": {
      "name": "python3",
      "display_name": "Python 3"
    },
    "language_info": {
      "name": "python"
    }
  },
  "cells": [
    {
      "cell_type": "markdown",
      "metadata": {
        "id": "view-in-github",
        "colab_type": "text"
      },
      "source": [
        "<a href=\"https://colab.research.google.com/github/vishal-burman/PyTorch-Architectures/blob/master/modeling_Seq2Seq/test_sample_Seq2Seq.ipynb\" target=\"_parent\"><img src=\"https://colab.research.google.com/assets/colab-badge.svg\" alt=\"Open In Colab\"/></a>"
      ]
    },
    {
      "cell_type": "code",
      "metadata": {
        "id": "f79ZeRSEjDK7",
        "colab": {
          "base_uri": "https://localhost:8080/"
        },
        "outputId": "805c4e9d-277f-443d-83b1-0e4789768e68"
      },
      "source": [
        "! git clone https://github.com/vishal-burman/PyTorch-Architectures.git\n",
        "%cd PyTorch-Architectures/modeling_Seq2Seq/"
      ],
      "execution_count": 1,
      "outputs": [
        {
          "output_type": "stream",
          "text": [
            "fatal: destination path 'PyTorch-Architectures' already exists and is not an empty directory.\n",
            "/content/PyTorch-Architectures/modeling_Seq2Seq\n"
          ],
          "name": "stdout"
        }
      ]
    },
    {
      "cell_type": "code",
      "metadata": {
        "id": "L1LL3xX7_jxC"
      },
      "source": [
        "! pip install datasets\n",
        "! pip install tokenizers"
      ],
      "execution_count": null,
      "outputs": []
    },
    {
      "cell_type": "code",
      "metadata": {
        "id": "rWYjGbAQDTyc"
      },
      "source": [
        "from datasets import load_dataset\n",
        "from tokenizers import Tokenizer\n",
        "from tokenizers import Tokenizer\n",
        "from tokenizers.models import BPE\n",
        "from tokenizers.trainers import BpeTrainer\n",
        "from tokenizers.pre_tokenizers import Whitespace\n",
        "from tokenizers.processors import TemplateProcessing\n",
        "\n",
        "import time\n",
        "import torch\n",
        "import torch.nn as nn\n",
        "import torch.nn.functional as F\n",
        "from torch.utils.data import DataLoader, Dataset\n",
        "from model import Seq2Seq, Encoder, Decoder"
      ],
      "execution_count": 3,
      "outputs": []
    },
    {
      "cell_type": "code",
      "metadata": {
        "colab": {
          "base_uri": "https://localhost:8080/"
        },
        "id": "3HDBiboTAezL",
        "outputId": "d5d8edd6-4cf7-4277-ff59-1bbe60da8860"
      },
      "source": [
        "dataset = load_dataset('mt_eng_vietnamese', 'iwslt2015-en-vi')"
      ],
      "execution_count": 4,
      "outputs": [
        {
          "output_type": "stream",
          "text": [
            "Reusing dataset mt_eng_vietnamese (/root/.cache/huggingface/datasets/mt_eng_vietnamese/iwslt2015-en-vi/1.0.0/53add551a01e9874588066f89d42925f9fad43db347199dad00f7e4b0c905a71)\n"
          ],
          "name": "stderr"
        }
      ]
    },
    {
      "cell_type": "code",
      "metadata": {
        "colab": {
          "base_uri": "https://localhost:8080/"
        },
        "id": "ZOwbnUkXArPp",
        "outputId": "d5c0ce3c-8b55-40b0-9825-7fb7fa67b067"
      },
      "source": [
        "# Sample from the dataset\n",
        "dataset['train']['translation'][0]"
      ],
      "execution_count": 5,
      "outputs": [
        {
          "output_type": "execute_result",
          "data": {
            "text/plain": [
              "{'en': 'Rachel Pike : The science behind a climate headline',\n",
              " 'vi': 'Khoa học đằng sau một tiêu đề về khí hậu'}"
            ]
          },
          "metadata": {
            "tags": []
          },
          "execution_count": 5
        }
      ]
    },
    {
      "cell_type": "code",
      "metadata": {
        "id": "2ST17Cw7BDHH"
      },
      "source": [
        "train_sentences = dataset['train']\n",
        "en_sentences = []\n",
        "vi_sentences = []\n",
        "for value in train_sentences:\n",
        "  en_sentences.append(value['translation']['en'])\n",
        "  vi_sentences.append(value['translation']['vi'])"
      ],
      "execution_count": 6,
      "outputs": []
    },
    {
      "cell_type": "code",
      "metadata": {
        "id": "vczI_eamDIXu"
      },
      "source": [
        "tokenizer_en = Tokenizer(BPE(unk_token=\"[UNK]\"))\n",
        "tokenizer_vi = Tokenizer(BPE(unk_token=\"[UNK]\"))\n",
        "trainer_en = BpeTrainer(special_tokens=[\"[UNK]\", \"[SOS]\", \"[EOS]\", \"[PAD]\"])\n",
        "trainer_vi = BpeTrainer(special_tokens=[\"[UNK]\", \"[SOS]\", \"[EOS]\", \"[PAD]\"])"
      ],
      "execution_count": 7,
      "outputs": []
    },
    {
      "cell_type": "code",
      "metadata": {
        "id": "ff0KcPeoEFpa"
      },
      "source": [
        "tokenizer_en.pre_tokenizer = Whitespace()\n",
        "tokenizer_vi.pre_tokenizer = Whitespace()"
      ],
      "execution_count": 8,
      "outputs": []
    },
    {
      "cell_type": "code",
      "metadata": {
        "id": "wMpDSfiRERUm"
      },
      "source": [
        "tokenizer_en.train_from_iterator(en_sentences, trainer_en)\n",
        "tokenizer_vi.train_from_iterator(vi_sentences, trainer_vi)"
      ],
      "execution_count": 9,
      "outputs": []
    },
    {
      "cell_type": "code",
      "metadata": {
        "id": "0DyIax-jEbkT"
      },
      "source": [
        "tokenizer_en.post_processor = TemplateProcessing(\n",
        "    single = \"[SOS] $A [EOS]\",\n",
        "    special_tokens = [\n",
        "                      (\"[SOS]\", tokenizer_en.token_to_id(\"[SOS]\")),\n",
        "                      (\"[EOS]\", tokenizer_en.token_to_id(\"[EOS]\")),\n",
        "    ],\n",
        ")\n",
        "\n",
        "tokenizer_vi.post_processor = TemplateProcessing(\n",
        "    single = \"[SOS] $A [EOS]\",\n",
        "    special_tokens = [\n",
        "                      (\"[SOS]\", tokenizer_vi.token_to_id(\"[SOS]\")),\n",
        "                      (\"[EOS]\", tokenizer_vi.token_to_id(\"[EOS]\"))\n",
        "    ],\n",
        ")\n",
        "\n",
        "# Paper uses the following format:\n",
        "# en_sentence [EOS] --> vi_sentence [EOS]"
      ],
      "execution_count": 10,
      "outputs": []
    },
    {
      "cell_type": "code",
      "metadata": {
        "id": "1xW6QEPswCU0"
      },
      "source": [
        "# Cell for hyperparameters\n",
        "MAX_LENGTH = 16\n",
        "INPUT_DIM_ENCODER = tokenizer_en.get_vocab_size()\n",
        "INPUT_DIM_DECODER = tokenizer_vi.get_vocab_size()\n",
        "EMB_DIM_ENCODER = 256\n",
        "EMB_DIM_DECODER = 256\n",
        "HIDDEN_DIM_ENCODER = 512\n",
        "HIDDEN_DIM_DECODER = 512\n",
        "DROPOUT_ENCODER = 0.5\n",
        "DROPOUT_DECODER = 0.5\n",
        "NUM_LAYERS = 4\n",
        "BATCH_SIZE = 32\n",
        "LEARNING_RATE = 3e-5"
      ],
      "execution_count": 11,
      "outputs": []
    },
    {
      "cell_type": "code",
      "metadata": {
        "id": "ZsgtM1O9vGn9"
      },
      "source": [
        "tokenizer_en.enable_padding(pad_id=2, pad_token=\"[PAD]\", len=MAX_LENGTH)\n",
        "tokenizer_vi.enable_padding(pad_id=2, pad_token=\"[PAD]\", len=MAX_LENGTH)\n",
        "tokenizer_en.enable_truncation(max_length=MAX_LENGTH)\n",
        "tokenizer_vi.enable_truncation(max_length=MAX_LENGTH)"
      ],
      "execution_count": 12,
      "outputs": []
    },
    {
      "cell_type": "code",
      "metadata": {
        "colab": {
          "base_uri": "https://localhost:8080/"
        },
        "id": "Bhbj0naDHQCJ",
        "outputId": "0d4a98f7-062f-4d33-9e82-9b4be77ee190"
      },
      "source": [
        "# Sample tokenization of a batch of english sentences --> pad uses max_length in batch\n",
        "sample_sentence = \"This is amazing and great!\"\n",
        "print('Sentences --> ', sample_sentence)\n",
        "output = tokenizer_en.encode(sample_sentence)\n",
        "output.tokens"
      ],
      "execution_count": 13,
      "outputs": [
        {
          "output_type": "stream",
          "text": [
            "Sentences -->  This is amazing and great!\n"
          ],
          "name": "stdout"
        },
        {
          "output_type": "execute_result",
          "data": {
            "text/plain": [
              "['[SOS]', 'This', 'is', 'amazing', 'and', 'great', '!', '[EOS]']"
            ]
          },
          "metadata": {
            "tags": []
          },
          "execution_count": 13
        }
      ]
    },
    {
      "cell_type": "code",
      "metadata": {
        "id": "lLZQE827JMHg",
        "colab": {
          "base_uri": "https://localhost:8080/"
        },
        "outputId": "8b1463f9-b95a-49dc-b964-1a0017f49619"
      },
      "source": [
        "# Sample tokenization of a vietnamese sentence\n",
        "print('Sentence --> ', vi_sentences[0])\n",
        "output = tokenizer_vi.encode(vi_sentences[0])\n",
        "output.tokens"
      ],
      "execution_count": 14,
      "outputs": [
        {
          "output_type": "stream",
          "text": [
            "Sentence -->  Khoa học đằng sau một tiêu đề về khí hậu\n"
          ],
          "name": "stdout"
        },
        {
          "output_type": "execute_result",
          "data": {
            "text/plain": [
              "['[SOS]',\n",
              " 'Khoa',\n",
              " 'học',\n",
              " 'đằng',\n",
              " 'sau',\n",
              " 'một',\n",
              " 'tiêu',\n",
              " 'đề',\n",
              " 'về',\n",
              " 'khí',\n",
              " 'hậu',\n",
              " '[EOS]']"
            ]
          },
          "metadata": {
            "tags": []
          },
          "execution_count": 14
        }
      ]
    },
    {
      "cell_type": "code",
      "metadata": {
        "id": "uSY3Hn4YJNGM"
      },
      "source": [
        "def collate_fn_en(batch):\n",
        "  sentences = []\n",
        "  for sent in batch:\n",
        "    sentences.append(sent[0])\n",
        "  outputs = tokenizer_en.encode_batch(sentences)\n",
        "  input_ids = []\n",
        "  for i in range(len(outputs)):\n",
        "    input_ids.append(outputs[i].ids)\n",
        "  return torch.tensor(input_ids, dtype=torch.long)\n",
        "\n",
        "def collate_fn_vi(batch):\n",
        "  sentences = []\n",
        "  for sent in batch:\n",
        "    sentences.append(sent[0])\n",
        "  outputs = tokenizer_vi.encode_batch(sentences)\n",
        "  input_ids = []\n",
        "  for i in range(len(outputs)):\n",
        "    input_ids.append(outputs[i].ids)\n",
        "  return torch.tensor(input_ids, dtype=torch.long)\n",
        "\n",
        "class CustomDataset(Dataset):\n",
        "  def __init__(self, tokenizer, sentences, max_input_length=16):\n",
        "    self.tokenizer = tokenizer\n",
        "    self.sentences = sentences\n",
        "    self.max_input_length = max_input_length\n",
        "  \n",
        "  def __len__(self):\n",
        "    return len(self.sentences)\n",
        "  \n",
        "  def __getitem__(self, idx):\n",
        "    sents = [self.sentences[idx]]\n",
        "    sents_list = []\n",
        "    for sent in sents:\n",
        "      sents_list.append(sent)\n",
        "    return sents_list"
      ],
      "execution_count": 15,
      "outputs": []
    },
    {
      "cell_type": "code",
      "metadata": {
        "colab": {
          "base_uri": "https://localhost:8080/"
        },
        "id": "xm8vix3-toUs",
        "outputId": "6326e62f-e86c-4dd9-972a-ad326595cc45"
      },
      "source": [
        "# Sanity check DataLoader\n",
        "sample_sentences_en = en_sentences[:4]\n",
        "sample_dataset_en = CustomDataset(tokenizer_en, sample_sentences_en)\n",
        "sample_dataloader_en = DataLoader(dataset=sample_dataset_en, batch_size=2, shuffle=False, drop_last=True, collate_fn=collate_fn_en)\n",
        "\n",
        "for sample in sample_dataloader_en:\n",
        "  print(sample.shape)\n",
        "  break\n",
        "\n",
        "sample_sentences_vi = vi_sentences[:4]\n",
        "sample_dataset_vi = CustomDataset(tokenizer_vi, sample_sentences_vi)\n",
        "sample_dataloader_vi = DataLoader(dataset=sample_dataset_vi, batch_size=2, shuffle=False, drop_last=True, collate_fn=collate_fn_vi)\n",
        "\n",
        "for sample in sample_dataloader_vi:\n",
        "  print(sample.shape)\n",
        "  break"
      ],
      "execution_count": 16,
      "outputs": [
        {
          "output_type": "stream",
          "text": [
            "torch.Size([2, 16])\n",
            "torch.Size([2, 16])\n"
          ],
          "name": "stdout"
        }
      ]
    },
    {
      "cell_type": "code",
      "metadata": {
        "id": "Gil4zFQpJV6A"
      },
      "source": [
        "device = torch.device('cuda:0' if torch.cuda.is_available() else 'cpu')\n",
        "\n",
        "encoder = Encoder(input_dim=INPUT_DIM_DECODER,\n",
        "                  emb_dim=EMB_DIM_ENCODER,\n",
        "                  hidden_dim=HIDDEN_DIM_ENCODER,\n",
        "                  num_layers=NUM_LAYERS,\n",
        "                  p_drop=DROPOUT_ENCODER)\n",
        "\n",
        "decoder = Decoder(output_dim=INPUT_DIM_DECODER,\n",
        "                  emb_dim=EMB_DIM_DECODER,\n",
        "                  hidden_dim=HIDDEN_DIM_DECODER,\n",
        "                  num_layers=NUM_LAYERS,\n",
        "                  p_drop=DROPOUT_DECODER)\n",
        "\n",
        "model = Seq2Seq(encoder=encoder,\n",
        "                decoder=decoder)"
      ],
      "execution_count": 17,
      "outputs": []
    },
    {
      "cell_type": "code",
      "metadata": {
        "colab": {
          "base_uri": "https://localhost:8080/"
        },
        "id": "eXwxtUOqDSGy",
        "outputId": "7bdc0539-7290-4c3d-8e4e-523bf917416c"
      },
      "source": [
        "def init_weights(m):\n",
        "  for name, param in model.named_parameters():\n",
        "    nn.init.uniform_(param.data, -0.08, 0.08)\n",
        "\n",
        "model.apply(init_weights)\n",
        "model.to(device)"
      ],
      "execution_count": 18,
      "outputs": [
        {
          "output_type": "execute_result",
          "data": {
            "text/plain": [
              "Seq2Seq(\n",
              "  (encoder): Encoder(\n",
              "    (embedding): Embedding(30000, 256)\n",
              "    (rnn): LSTM(256, 512, num_layers=4, dropout=0.5)\n",
              "    (dropout): Dropout(p=0.5, inplace=False)\n",
              "  )\n",
              "  (decoder): Decoder(\n",
              "    (embedding): Embedding(30000, 256)\n",
              "    (rnn): LSTM(256, 512, num_layers=4, dropout=0.5)\n",
              "    (fc_out): Linear(in_features=512, out_features=30000, bias=True)\n",
              "    (dropout): Dropout(p=0.5, inplace=False)\n",
              "  )\n",
              ")"
            ]
          },
          "metadata": {
            "tags": []
          },
          "execution_count": 18
        }
      ]
    },
    {
      "cell_type": "code",
      "metadata": {
        "colab": {
          "base_uri": "https://localhost:8080/"
        },
        "id": "waOUl7P-3-v0",
        "outputId": "009e5c54-ade3-4c08-a7b8-4d8a0733e2ae"
      },
      "source": [
        "params = sum(p.numel() for p in model.parameters() if p.requires_grad)\n",
        "print('Trainable Parameters: ', params)"
      ],
      "execution_count": 19,
      "outputs": [
        {
          "output_type": "stream",
          "text": [
            "Trainable Parameters:  46511408\n"
          ],
          "name": "stdout"
        }
      ]
    },
    {
      "cell_type": "code",
      "metadata": {
        "colab": {
          "base_uri": "https://localhost:8080/"
        },
        "id": "3ImwfodJ6szu",
        "outputId": "08f9797b-00a6-4aeb-ed9f-706ecc6bf6f6"
      },
      "source": [
        "assert len(en_sentences) == len(vi_sentences)\n",
        "split = 90 * len(en_sentences) // 100\n",
        "en_sentences_train = en_sentences[:split]\n",
        "vi_sentences_train = vi_sentences[:split]\n",
        "en_sentences_valid = en_sentences[split:]\n",
        "vi_sentences_valid = vi_sentences[split:]\n",
        "\n",
        "print('Training samples: ', len(en_sentences_train))\n",
        "print('Valid samples: ', len(vi_sentences_valid))\n",
        "\n",
        "assert (len(en_sentences_train) + len(en_sentences_valid)) == \\\n",
        "        (len(vi_sentences_train) + len(vi_sentences_valid))"
      ],
      "execution_count": 20,
      "outputs": [
        {
          "output_type": "stream",
          "text": [
            "Training samples:  119986\n",
            "Valid samples:  13332\n"
          ],
          "name": "stdout"
        }
      ]
    },
    {
      "cell_type": "code",
      "metadata": {
        "id": "6r-PcGI47wKf"
      },
      "source": [
        "en_sentences_train_dataset = CustomDataset(tokenizer=tokenizer_en,\n",
        "                                          sentences=en_sentences_train)\n",
        "vi_sentences_train_dataset = CustomDataset(tokenizer=tokenizer_vi,\n",
        "                                           sentences=vi_sentences_train)\n",
        "\n",
        "en_sentences_valid_dataset = CustomDataset(tokenizer=tokenizer_en,\n",
        "                                           sentences=en_sentences_valid)\n",
        "vi_sentences_valid_dataset = CustomDataset(tokenizer=tokenizer_vi,\n",
        "                                           sentences=vi_sentences_valid)"
      ],
      "execution_count": 21,
      "outputs": []
    },
    {
      "cell_type": "code",
      "metadata": {
        "colab": {
          "base_uri": "https://localhost:8080/"
        },
        "id": "G39RpiOiAR9k",
        "outputId": "570ac0f9-db4d-4602-ffaa-cb1b25dc0d0c"
      },
      "source": [
        "en_sentences_train_loader = DataLoader(dataset=en_sentences_train_dataset,\n",
        "                                       batch_size=BATCH_SIZE,\n",
        "                                       shuffle=False,\n",
        "                                       collate_fn=collate_fn_en,)\n",
        "vi_sentences_train_loader = DataLoader(dataset=vi_sentences_train_dataset,\n",
        "                                       batch_size=BATCH_SIZE,\n",
        "                                       shuffle=False,\n",
        "                                       collate_fn=collate_fn_vi)\n",
        "\n",
        "en_sentences_valid_loader = DataLoader(dataset=en_sentences_valid_dataset,\n",
        "                                       batch_size=BATCH_SIZE,\n",
        "                                       shuffle=False,\n",
        "                                       collate_fn=collate_fn_en)\n",
        "vi_sentences_valid_loader = DataLoader(dataset=vi_sentences_valid_dataset,\n",
        "                                       batch_size=BATCH_SIZE,\n",
        "                                       shuffle=False,\n",
        "                                       collate_fn=collate_fn_vi)\n",
        "\n",
        "assert len(en_sentences_train_loader) == len(vi_sentences_train_loader)\n",
        "assert len(en_sentences_valid_loader) == len(vi_sentences_valid_loader)\n",
        "\n",
        "print('Length of Train DataLoader: ', len(en_sentences_train_loader))\n",
        "print('Length of Valid DataLoader: ', len(en_sentences_valid_loader))"
      ],
      "execution_count": 22,
      "outputs": [
        {
          "output_type": "stream",
          "text": [
            "Length of Train DataLoader:  3750\n",
            "Length of Valid DataLoader:  417\n"
          ],
          "name": "stdout"
        }
      ]
    },
    {
      "cell_type": "code",
      "metadata": {
        "id": "S0Q766uDB3Ls"
      },
      "source": [
        "optimizer = torch.optim.AdamW(model.parameters(), lr=LEARNING_RATE)\n",
        "loss = nn.CrossEntropyLoss(ignore_index=tokenizer_vi.token_to_id(\"[PAD]\"))"
      ],
      "execution_count": 23,
      "outputs": []
    },
    {
      "cell_type": "code",
      "metadata": {
        "colab": {
          "base_uri": "https://localhost:8080/"
        },
        "id": "l-Kc4YJTCoZw",
        "outputId": "d9851768-e062-4ff3-f5f7-71225c0c8995"
      },
      "source": [
        "# Sanity check forward pass\n",
        "model.eval()\n",
        "with torch.set_grad_enabled(False):\n",
        "  for en_sample, vi_sample in zip(en_sentences_train_loader, vi_sentences_train_loader):\n",
        "    en_sample = en_sample.transpose(0, 1).contiguous()\n",
        "    vi_sample = vi_sample.transpose(0, 1).contiguous()\n",
        "    output = model(src=en_sample, trg=vi_sample)\n",
        "\n",
        "    print(output[1:].view(-1, output.size(2)).shape)\n",
        "    print(vi_sample[1:].view(-1).shape)\n",
        "    assert output.dim() == 3\n",
        "    assert output.size(0) == en_sample.size(0)\n",
        "    assert output.size(1) == en_sample.size(1)\n",
        "    break"
      ],
      "execution_count": 26,
      "outputs": [
        {
          "output_type": "stream",
          "text": [
            "torch.Size([480, 30000])\n",
            "torch.Size([480])\n"
          ],
          "name": "stdout"
        }
      ]
    },
    {
      "cell_type": "code",
      "metadata": {
        "colab": {
          "base_uri": "https://localhost:8080/"
        },
        "id": "vyvAcHykDNQB",
        "outputId": "921d14ec-2a5a-4c6b-b409-f3a83dd52012"
      },
      "source": [
        "def compute_loss(model, src_loader, valid_loader, device):\n",
        "  pass\n",
        "\n",
        "start_time = time.time()\n",
        "for epoch in range(EPOCHS):\n",
        "  model.train()\n",
        "  for sample_en, sample_vi in zip(en_sentences_train_loader, vi_sentences_train_loader):\n",
        "    sample_en = sample_en.transpose(0, 1).contiguous().to(device)\n",
        "    sample_vi = sample_vi.transpose(0, 1).contiguous().to(device)\n",
        "\n",
        "    output = model(src=sample_en, trg=sample_vi)\n",
        "    pass\n",
        "  model.eval()\n",
        "  with torch.set_grad_enabled(False):\n",
        "    pass"
      ],
      "execution_count": 49,
      "outputs": [
        {
          "output_type": "execute_result",
          "data": {
            "text/plain": [
              "480"
            ]
          },
          "metadata": {
            "tags": []
          },
          "execution_count": 49
        }
      ]
    },
    {
      "cell_type": "code",
      "metadata": {
        "id": "S0xfgHGsIYgZ"
      },
      "source": [
        ""
      ],
      "execution_count": null,
      "outputs": []
    }
  ]
}