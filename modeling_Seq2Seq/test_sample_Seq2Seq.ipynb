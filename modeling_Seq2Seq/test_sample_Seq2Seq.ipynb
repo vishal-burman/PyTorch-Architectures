{
  "nbformat": 4,
  "nbformat_minor": 0,
  "metadata": {
    "colab": {
      "name": "test_sample_Seq2Seq.ipynb",
      "provenance": [],
      "collapsed_sections": [],
      "authorship_tag": "ABX9TyP/vO96hM8PTfGbGmyZ/tSp",
      "include_colab_link": true
    },
    "kernelspec": {
      "name": "python3",
      "display_name": "Python 3"
    },
    "language_info": {
      "name": "python"
    }
  },
  "cells": [
    {
      "cell_type": "markdown",
      "metadata": {
        "id": "view-in-github",
        "colab_type": "text"
      },
      "source": [
        "<a href=\"https://colab.research.google.com/github/vishal-burman/PyTorch-Architectures/blob/master/modeling_Seq2Seq/test_sample_Seq2Seq.ipynb\" target=\"_parent\"><img src=\"https://colab.research.google.com/assets/colab-badge.svg\" alt=\"Open In Colab\"/></a>"
      ]
    },
    {
      "cell_type": "code",
      "metadata": {
        "id": "f79ZeRSEjDK7"
      },
      "source": [
        "! git clone https://github.com/vishal-burman/PyTorch-Architectures.git\n",
        "%cd PyTorch-Architectures/modeling_Seq2Seq/"
      ],
      "execution_count": null,
      "outputs": []
    },
    {
      "cell_type": "code",
      "metadata": {
        "id": "L1LL3xX7_jxC"
      },
      "source": [
        "! pip install datasets\n",
        "! pip install tokenizers"
      ],
      "execution_count": null,
      "outputs": []
    },
    {
      "cell_type": "code",
      "metadata": {
        "id": "rWYjGbAQDTyc"
      },
      "source": [
        "from datasets import load_dataset\n",
        "from tokenizers import Tokenizer\n",
        "from tokenizers import Tokenizer\n",
        "from tokenizers.models import BPE\n",
        "from tokenizers.trainers import BpeTrainer\n",
        "from tokenizers.pre_tokenizers import Whitespace\n",
        "from tokenizers.processors import TemplateProcessing\n",
        "\n",
        "import torch\n",
        "import torch.nn as nn\n",
        "import torch.nn.functional as F\n",
        "from torch.utils.data import DataLoader, Dataset\n",
        "from model import Seq2Seq, Encoder, Decoder"
      ],
      "execution_count": 4,
      "outputs": []
    },
    {
      "cell_type": "code",
      "metadata": {
        "id": "3HDBiboTAezL"
      },
      "source": [
        "dataset = load_dataset('mt_eng_vietnamese', 'iwslt2015-en-vi')"
      ],
      "execution_count": null,
      "outputs": []
    },
    {
      "cell_type": "code",
      "metadata": {
        "colab": {
          "base_uri": "https://localhost:8080/"
        },
        "id": "ZOwbnUkXArPp",
        "outputId": "35fdf189-00a7-491e-d53e-aa9d7e435757"
      },
      "source": [
        "# Sample from the dataset\n",
        "dataset['train']['translation'][0]"
      ],
      "execution_count": 6,
      "outputs": [
        {
          "output_type": "execute_result",
          "data": {
            "text/plain": [
              "{'en': 'Rachel Pike : The science behind a climate headline',\n",
              " 'vi': 'Khoa học đằng sau một tiêu đề về khí hậu'}"
            ]
          },
          "metadata": {
            "tags": []
          },
          "execution_count": 6
        }
      ]
    },
    {
      "cell_type": "code",
      "metadata": {
        "id": "2ST17Cw7BDHH"
      },
      "source": [
        "train_sentences = dataset['train']\n",
        "en_sentences = []\n",
        "vi_sentences = []\n",
        "for value in train_sentences:\n",
        "  en_sentences.append(value['translation']['en'])\n",
        "  vi_sentences.append(value['translation']['vi'])"
      ],
      "execution_count": 7,
      "outputs": []
    },
    {
      "cell_type": "code",
      "metadata": {
        "id": "vczI_eamDIXu"
      },
      "source": [
        "tokenizer_en = Tokenizer(BPE(unk_token=\"[UNK]\"))\n",
        "tokenizer_vi = Tokenizer(BPE(unk_token=\"[UNK]\"))\n",
        "trainer_en = BpeTrainer(special_tokens=[\"[UNK]\", \"[EOS]\", \"[PAD]\"])\n",
        "trainer_vi = BpeTrainer(special_tokens=[\"[UNK]\", \"[EOS]\", \"[PAD]\"])"
      ],
      "execution_count": 8,
      "outputs": []
    },
    {
      "cell_type": "code",
      "metadata": {
        "id": "ff0KcPeoEFpa"
      },
      "source": [
        "tokenizer_en.pre_tokenizer = Whitespace()\n",
        "tokenizer_vi.pre_tokenizer = Whitespace()"
      ],
      "execution_count": 9,
      "outputs": []
    },
    {
      "cell_type": "code",
      "metadata": {
        "id": "wMpDSfiRERUm"
      },
      "source": [
        "tokenizer_en.train_from_iterator(en_sentences, trainer_en)\n",
        "tokenizer_vi.train_from_iterator(vi_sentences, trainer_vi)"
      ],
      "execution_count": 10,
      "outputs": []
    },
    {
      "cell_type": "code",
      "metadata": {
        "id": "0DyIax-jEbkT"
      },
      "source": [
        "tokenizer_en.post_processor = TemplateProcessing(\n",
        "    single = \"$A [EOS]\",\n",
        "    special_tokens = [\n",
        "                      (\"[EOS]\", tokenizer_en.token_to_id(\"[EOS]\")),\n",
        "    ],\n",
        ")\n",
        "\n",
        "tokenizer_vi.post_processor = TemplateProcessing(\n",
        "    single = \"$A [EOS]\",\n",
        "    special_tokens = [\n",
        "                      (\"[EOS]\", tokenizer_vi.token_to_id(\"[EOS]\")),\n",
        "    ],\n",
        ")\n",
        "\n",
        "# Paper uses the following format:\n",
        "# en_sentence [EOS] --> vi_sentence [EOS]"
      ],
      "execution_count": 11,
      "outputs": []
    },
    {
      "cell_type": "code",
      "metadata": {
        "id": "1xW6QEPswCU0"
      },
      "source": [
        "# Cell for hyperparameters\n",
        "MAX_LENGTH = 16\n",
        "INPUT_DIM_ENCODER = tokenizer_en.get_vocab_size()\n",
        "INPUT_DIM_DECODER = tokenizer_vi.get_vocab_size()\n",
        "EMB_DIM_ENCODER = 256\n",
        "EMB_DIM_DECODER = 256\n",
        "HIDDEN_DIM_ENCODER = 512\n",
        "HIDDEN_DIM_DECODER = 512\n",
        "DROPOUT_ENCODER = 0.5\n",
        "DROPOUT_DECODER = 0.5\n",
        "NUM_LAYERS = 4\n",
        "BATCH_SIZE = 32"
      ],
      "execution_count": 28,
      "outputs": []
    },
    {
      "cell_type": "code",
      "metadata": {
        "id": "ZsgtM1O9vGn9"
      },
      "source": [
        "tokenizer_en.enable_padding(pad_id=2, pad_token=\"[PAD]\", len=MAX_LENGTH)\n",
        "tokenizer_vi.enable_padding(pad_id=2, pad_token=\"[PAD]\", len=MAX_LENGTH)\n",
        "tokenizer_en.enable_truncation(max_length=MAX_LENGTH)\n",
        "tokenizer_vi.enable_truncation(max_length=MAX_LENGTH)"
      ],
      "execution_count": 15,
      "outputs": []
    },
    {
      "cell_type": "code",
      "metadata": {
        "colab": {
          "base_uri": "https://localhost:8080/"
        },
        "id": "Bhbj0naDHQCJ",
        "outputId": "65cb76b2-3ec9-40b4-be5c-fd3b7d0035b6"
      },
      "source": [
        "# Sample tokenization of a batch of english sentences --> pad uses max_length in batch\n",
        "sample_sentence = \"This is amazing and great!\"\n",
        "print('Sentences --> ', sample_sentence)\n",
        "output = tokenizer_en.encode(sample_sentence)\n",
        "output.tokens"
      ],
      "execution_count": 16,
      "outputs": [
        {
          "output_type": "stream",
          "text": [
            "Sentences -->  This is amazing and great!\n"
          ],
          "name": "stdout"
        },
        {
          "output_type": "execute_result",
          "data": {
            "text/plain": [
              "['This', 'is', 'amazing', 'and', 'great', '!', '[EOS]']"
            ]
          },
          "metadata": {
            "tags": []
          },
          "execution_count": 16
        }
      ]
    },
    {
      "cell_type": "code",
      "metadata": {
        "id": "lLZQE827JMHg",
        "colab": {
          "base_uri": "https://localhost:8080/"
        },
        "outputId": "169b6d32-0c98-42b1-b069-e50cd6cfd8ff"
      },
      "source": [
        "# Sample tokenization of a vietnamese sentence\n",
        "print('Sentence --> ', vi_sentences[0])\n",
        "output = tokenizer_vi.encode(vi_sentences[0])\n",
        "output.tokens"
      ],
      "execution_count": 17,
      "outputs": [
        {
          "output_type": "stream",
          "text": [
            "Sentence -->  Khoa học đằng sau một tiêu đề về khí hậu\n"
          ],
          "name": "stdout"
        },
        {
          "output_type": "execute_result",
          "data": {
            "text/plain": [
              "['Khoa',\n",
              " 'học',\n",
              " 'đằng',\n",
              " 'sau',\n",
              " 'một',\n",
              " 'tiêu',\n",
              " 'đề',\n",
              " 'về',\n",
              " 'khí',\n",
              " 'hậu',\n",
              " '[EOS]']"
            ]
          },
          "metadata": {
            "tags": []
          },
          "execution_count": 17
        }
      ]
    },
    {
      "cell_type": "code",
      "metadata": {
        "id": "uSY3Hn4YJNGM"
      },
      "source": [
        "def collate_fn_en(batch):\n",
        "  sentences = []\n",
        "  for sent in batch:\n",
        "    sentences.append(sent[0])\n",
        "  outputs = tokenizer_en.encode_batch(sentences)\n",
        "  input_ids = []\n",
        "  for i in range(len(outputs)):\n",
        "    input_ids.append(outputs[i].ids)\n",
        "  return torch.tensor(input_ids, dtype=torch.long)\n",
        "\n",
        "def collate_fn_vi(batch):\n",
        "  sentences = []\n",
        "  for sent in batch:\n",
        "    sentences.append(sent[0])\n",
        "  outputs = tokenizer_vi.encode_batch(sentences)\n",
        "  input_ids = []\n",
        "  for i in range(len(outputs)):\n",
        "    input_ids.append(outputs[i].ids)\n",
        "  return torch.tensor(input_ids, dtype=torch.long)\n",
        "\n",
        "class CustomDataset(Dataset):\n",
        "  def __init__(self, tokenizer, sentences, max_input_length=16):\n",
        "    self.tokenizer = tokenizer\n",
        "    self.sentences = sentences\n",
        "    self.max_input_length = max_input_length\n",
        "  \n",
        "  def __len__(self):\n",
        "    return len(self.sentences)\n",
        "  \n",
        "  def __getitem__(self, idx):\n",
        "    sents = [self.sentences[idx]]\n",
        "    sents_list = []\n",
        "    for sent in sents:\n",
        "      sents_list.append(sent)\n",
        "    return sents_list"
      ],
      "execution_count": 18,
      "outputs": []
    },
    {
      "cell_type": "code",
      "metadata": {
        "colab": {
          "base_uri": "https://localhost:8080/"
        },
        "id": "xm8vix3-toUs",
        "outputId": "8743d8f7-0a7b-4377-96c5-2eb1c56e9f58"
      },
      "source": [
        "# Sanity check DataLoader\n",
        "sample_sentences_en = en_sentences[:4]\n",
        "sample_dataset_en = CustomDataset(tokenizer_en, sample_sentences_en)\n",
        "sample_dataloader_en = DataLoader(dataset=sample_dataset_en, batch_size=2, shuffle=False, drop_last=True, collate_fn=collate_fn_en)\n",
        "\n",
        "for sample in sample_dataloader_en:\n",
        "  print(sample.shape)\n",
        "  break\n",
        "\n",
        "sample_sentences_vi = vi_sentences[:4]\n",
        "sample_dataset_vi = CustomDataset(tokenizer_vi, sample_sentences_vi)\n",
        "sample_dataloader_vi = DataLoader(dataset=sample_dataset_vi, batch_size=2, shuffle=False, drop_last=True, collate_fn=collate_fn_vi)\n",
        "\n",
        "for sample in sample_dataloader_vi:\n",
        "  print(sample.shape)\n",
        "  break"
      ],
      "execution_count": 19,
      "outputs": [
        {
          "output_type": "stream",
          "text": [
            "torch.Size([2, 16])\n",
            "torch.Size([2, 16])\n"
          ],
          "name": "stdout"
        }
      ]
    },
    {
      "cell_type": "code",
      "metadata": {
        "id": "Gil4zFQpJV6A",
        "colab": {
          "base_uri": "https://localhost:8080/"
        },
        "outputId": "28729238-98ac-4046-da6b-74e93ac773dc"
      },
      "source": [
        "device = torch.device('cuda:0' if torch.cuda.is_available() else 'cpu')\n",
        "\n",
        "encoder = Encoder(input_dim=INPUT_DIM_DECODER,\n",
        "                  emb_dim=EMB_DIM_ENCODER,\n",
        "                  hidden_dim=HIDDEN_DIM_ENCODER,\n",
        "                  num_layers=NUM_LAYERS,\n",
        "                  p_drop=DROPOUT_ENCODER)\n",
        "\n",
        "decoder = Decoder(output_dim=INPUT_DIM_DECODER,\n",
        "                  emb_dim=EMB_DIM_DECODER,\n",
        "                  hidden_dim=HIDDEN_DIM_DECODER,\n",
        "                  num_layers=NUM_LAYERS,\n",
        "                  p_drop=DROPOUT_DECODER)\n",
        "\n",
        "model = Seq2Seq(encoder=encoder,\n",
        "                decoder=decoder)\n",
        "\n",
        "model.to(device)"
      ],
      "execution_count": 23,
      "outputs": [
        {
          "output_type": "execute_result",
          "data": {
            "text/plain": [
              "Seq2Seq(\n",
              "  (encoder): Encoder(\n",
              "    (embedding): Embedding(30000, 256)\n",
              "    (rnn): LSTM(256, 512, num_layers=4, dropout=0.5)\n",
              "    (dropout): Dropout(p=0.5, inplace=False)\n",
              "  )\n",
              "  (decoder): Decoder(\n",
              "    (embedding): Embedding(30000, 256)\n",
              "    (rnn): LSTM(256, 512, num_layers=4, dropout=0.5)\n",
              "    (fc_out): Linear(in_features=512, out_features=30000, bias=True)\n",
              "    (dropout): Dropout(p=0.5, inplace=False)\n",
              "  )\n",
              ")"
            ]
          },
          "metadata": {
            "tags": []
          },
          "execution_count": 23
        }
      ]
    },
    {
      "cell_type": "code",
      "metadata": {
        "colab": {
          "base_uri": "https://localhost:8080/"
        },
        "id": "waOUl7P-3-v0",
        "outputId": "45126921-2597-436e-9942-b338080117b8"
      },
      "source": [
        "params = sum(p.numel() for p in model.parameters() if p.requires_grad)\n",
        "print('Trainable Parameters: ', params)"
      ],
      "execution_count": 24,
      "outputs": [
        {
          "output_type": "stream",
          "text": [
            "Trainable Parameters:  46511408\n"
          ],
          "name": "stdout"
        }
      ]
    },
    {
      "cell_type": "code",
      "metadata": {
        "colab": {
          "base_uri": "https://localhost:8080/"
        },
        "id": "3ImwfodJ6szu",
        "outputId": "3fdb7f2a-0825-4d7f-9480-4b7d4aafd1ca"
      },
      "source": [
        "assert len(en_sentences) == len(vi_sentences)\n",
        "split = 90 * len(en_sentences) // 100\n",
        "en_sentences_train = en_sentences[:split]\n",
        "vi_sentences_train = vi_sentences[:split]\n",
        "en_sentences_valid = en_sentences[split:]\n",
        "vi_sentences_valid = vi_sentences[split:]\n",
        "\n",
        "print('Training samples: ', len(en_sentences_train))\n",
        "print('Valid samples: ', len(vi_sentences_valid))\n",
        "\n",
        "assert (len(en_sentences_train) + len(en_sentences_valid)) == \\\n",
        "        (len(vi_sentences_train) + len(vi_sentences_valid))"
      ],
      "execution_count": 26,
      "outputs": [
        {
          "output_type": "stream",
          "text": [
            "Training samples:  119986\n",
            "Valid samples:  13332\n"
          ],
          "name": "stdout"
        }
      ]
    },
    {
      "cell_type": "code",
      "metadata": {
        "id": "6r-PcGI47wKf"
      },
      "source": [
        "en_sentences_train_dataset = CustomDataset(tokenizer=tokenizer_en,\n",
        "                                          sentences=en_sentences_train)\n",
        "vi_sentences_train_dataset = CustomDataset(tokenizer=tokenizer_vi,\n",
        "                                           sentences=vi_sentences_train)\n",
        "\n",
        "en_sentences_valid_dataset = CustomDataset(tokenizer=tokenizer_en,\n",
        "                                           sentences=en_sentences_valid)\n",
        "vi_sentences_valid_dataset = CustomDataset(tokenizer=tokenizer_vi,\n",
        "                                           sentences=vi_sentences_valid)"
      ],
      "execution_count": 27,
      "outputs": []
    },
    {
      "cell_type": "code",
      "metadata": {
        "colab": {
          "base_uri": "https://localhost:8080/"
        },
        "id": "G39RpiOiAR9k",
        "outputId": "cca2d9f5-6bc2-42ff-999a-0d8af4dfee46"
      },
      "source": [
        "en_sentences_train_loader = DataLoader(dataset=en_sentences_train_dataset,\n",
        "                                       batch_size=BATCH_SIZE,\n",
        "                                       shuffle=True,)\n",
        "vi_sentences_train_loader = DataLoader(dataset=vi_sentences_train_dataset,\n",
        "                                       batch_size=BATCH_SIZE)\n",
        "\n",
        "en_sentences_valid_loader = DataLoader(dataset=en_sentences_valid_dataset,\n",
        "                                       batch_size=BATCH_SIZE,\n",
        "                                       shuffle=False,)\n",
        "vi_sentences_valid_loader = DataLoader(dataset=vi_sentences_valid_dataset,\n",
        "                                       batch_size=BATCH_SIZE,\n",
        "                                       shuffle=False,)\n",
        "\n",
        "assert len(en_sentences_train_loader) == len(vi_sentences_train_loader)\n",
        "assert len(en_sentences_valid_loader) == len(vi_sentences_valid_loader)\n",
        "\n",
        "print('Length of Train DataLoader: ', len(en_sentences_train_loader))\n",
        "print('Length of Valid DataLoader: ', len(en_sentences_valid_loader))"
      ],
      "execution_count": 29,
      "outputs": [
        {
          "output_type": "stream",
          "text": [
            "Length of Train DataLoader:  3750\n",
            "Length of Valid DataLoader:  417\n"
          ],
          "name": "stdout"
        }
      ]
    },
    {
      "cell_type": "code",
      "metadata": {
        "id": "S0Q766uDB3Ls"
      },
      "source": [
        ""
      ],
      "execution_count": null,
      "outputs": []
    }
  ]
}