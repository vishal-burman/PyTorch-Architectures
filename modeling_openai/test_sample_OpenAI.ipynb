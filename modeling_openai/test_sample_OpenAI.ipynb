{
  "nbformat": 4,
  "nbformat_minor": 0,
  "metadata": {
    "colab": {
      "name": "test_sample_OpenAI.ipynb",
      "provenance": [],
      "collapsed_sections": []
    },
    "kernelspec": {
      "name": "python3",
      "display_name": "Python 3"
    },
    "accelerator": "GPU"
  },
  "cells": [
    {
      "cell_type": "code",
      "metadata": {
        "id": "z0XEos5U4XDq",
        "colab_type": "code",
        "colab": {
          "base_uri": "https://localhost:8080/",
          "height": 34
        },
        "outputId": "75668e07-3d12-46cd-d562-b706ed567725"
      },
      "source": [
        "! git clone https://github.com/vishal-burman/PyTorch-Architectures.git"
      ],
      "execution_count": 1,
      "outputs": [
        {
          "output_type": "stream",
          "text": [
            "fatal: destination path 'PyTorch-Architectures' already exists and is not an empty directory.\n"
          ],
          "name": "stdout"
        }
      ]
    },
    {
      "cell_type": "code",
      "metadata": {
        "id": "n_YPRyY04elA",
        "colab_type": "code",
        "colab": {
          "base_uri": "https://localhost:8080/",
          "height": 34
        },
        "outputId": "2e67c781-508d-47e6-fe76-c757e5769015"
      },
      "source": [
        "%cd PyTorch-Architectures/modeling_openai/"
      ],
      "execution_count": 1,
      "outputs": [
        {
          "output_type": "stream",
          "text": [
            "/content/PyTorch-Architectures/modeling_openai\n"
          ],
          "name": "stdout"
        }
      ]
    },
    {
      "cell_type": "code",
      "metadata": {
        "id": "na-7XQLs5EIi",
        "colab_type": "code",
        "colab": {}
      },
      "source": [
        "! pip install transformers\n",
        "! pip install ftfy\n",
        "! pip install spacy\n",
        "! pip install datasets"
      ],
      "execution_count": null,
      "outputs": []
    },
    {
      "cell_type": "code",
      "metadata": {
        "id": "lgq_ZGOn46em",
        "colab_type": "code",
        "colab": {}
      },
      "source": [
        "import time\n",
        "import torch\n",
        "import torch.nn as nn\n",
        "from torch.utils.data import DataLoader, Dataset\n",
        "from transformers import OpenAIGPTTokenizer\n",
        "from model import OpenAIGPTLMHeadModel\n",
        "from config_openai import OpenAIGPTConfig\n",
        "config = OpenAIGPTConfig()\n",
        "tokenizer = OpenAIGPTTokenizer.from_pretrained(\"openai-gpt\")\n",
        "# pad_token is not set by default\n",
        "tokenizer.pad_token = '[PAD]'\n",
        "device = torch.device(\"cuda:0\" if torch.cuda.is_available() else \"cpu\")"
      ],
      "execution_count": 20,
      "outputs": []
    },
    {
      "cell_type": "code",
      "metadata": {
        "id": "BDhr7XO76ndr",
        "colab_type": "code",
        "colab": {}
      },
      "source": [
        "from datasets import load_dataset\n",
        "dataset = load_dataset('cnn_dailymail', '3.0.0')"
      ],
      "execution_count": null,
      "outputs": []
    },
    {
      "cell_type": "code",
      "metadata": {
        "id": "Z_17WW1k47Qz",
        "colab_type": "code",
        "colab": {}
      },
      "source": [
        "##############################################\n",
        "# PyTorch Dataset\n",
        "class CustomDataset(Dataset):\n",
        "\n",
        "    def __init__(self, texts, tokenizer):\n",
        "        self.texts = texts\n",
        "        self.tokenizer = tokenizer\n",
        "        self.list_texts = []\n",
        "        self.build()\n",
        "\n",
        "    def __len__(self):\n",
        "        return len(self.list_texts)\n",
        "\n",
        "    def __getitem__(self, index):\n",
        "        ids = self.list_texts[index]['input_ids']\n",
        "        mask = self.list_texts[index]['attention_mask']\n",
        "        \n",
        "        return{\n",
        "                'ids': torch.tensor(ids, dtype=torch.long),\n",
        "                'mask': torch.tensor(mask, dtype=torch.long)\n",
        "                }\n",
        "\n",
        "    def build(self):\n",
        "        for text in self.texts:\n",
        "            self.list_texts.append(self.tokenizer(text, max_length=32, pad_to_max_length=True, truncation=True))\n",
        "################################################"
      ],
      "execution_count": 4,
      "outputs": []
    },
    {
      "cell_type": "code",
      "metadata": {
        "id": "P_ccJxd_52Iv",
        "colab_type": "code",
        "colab": {
          "base_uri": "https://localhost:8080/",
          "height": 89
        },
        "outputId": "2fceda13-2310-4738-848d-91077749b26f"
      },
      "source": [
        "texts_train = dataset['train']['article'][:20000]\n",
        "texts_valid = dataset['validation']['article'][:2000]\n",
        "\n",
        "start_time = time.time()\n",
        "train_dataset = CustomDataset(texts_train, tokenizer)\n",
        "valid_dataset = CustomDataset(texts_valid, tokenizer)\n",
        "print(\"Time Taken = \", (time.time() - start_time) / 60)"
      ],
      "execution_count": 22,
      "outputs": [
        {
          "output_type": "stream",
          "text": [
            "/usr/local/lib/python3.6/dist-packages/transformers/tokenization_utils_base.py:1770: FutureWarning: The `pad_to_max_length` argument is deprecated and will be removed in a future version, use `padding=True` or `padding='longest'` to pad to the longest sequence in the batch, or use `padding='max_length'` to pad to a max length. In this case, you can give a specific length with `max_length` (e.g. `max_length=45`) or leave max_length to None to pad to the maximal input size of the model (e.g. 512 for Bert).\n",
            "  FutureWarning,\n"
          ],
          "name": "stderr"
        },
        {
          "output_type": "stream",
          "text": [
            "Time Taken =  3.646211123466492\n"
          ],
          "name": "stdout"
        }
      ]
    },
    {
      "cell_type": "code",
      "metadata": {
        "id": "Vyx6RivQ7429",
        "colab_type": "code",
        "colab": {
          "base_uri": "https://localhost:8080/",
          "height": 52
        },
        "outputId": "3203b7a9-e014-43e2-b694-2aa5d3a9fd03"
      },
      "source": [
        "train_loader = DataLoader(dataset=train_dataset, shuffle=True, batch_size=2)\n",
        "valid_loader = DataLoader(dataset=valid_dataset, shuffle=False, batch_size=2)\n",
        "print(\"Training Samples = \", len(train_loader))\n",
        "print(\"Validation Samples = \", len(valid_loader))"
      ],
      "execution_count": 25,
      "outputs": [
        {
          "output_type": "stream",
          "text": [
            "Training Samples =  10000\n",
            "Validation Samples =  1000\n"
          ],
          "name": "stdout"
        }
      ]
    },
    {
      "cell_type": "code",
      "metadata": {
        "id": "ZW8m5QPP_zrz",
        "colab_type": "code",
        "colab": {
          "base_uri": "https://localhost:8080/",
          "height": 34
        },
        "outputId": "1a50a75a-30c9-4ce9-92cd-0318dee4e352"
      },
      "source": [
        "model = OpenAIGPTLMHeadModel(config).to(device)\n",
        "total_params = sum(p.numel() for p in model.parameters())\n",
        "print(\"Total Parameters = \", total_params)"
      ],
      "execution_count": 26,
      "outputs": [
        {
          "output_type": "stream",
          "text": [
            "Total Parameters =  74007552\n"
          ],
          "name": "stdout"
        }
      ]
    },
    {
      "cell_type": "code",
      "metadata": {
        "id": "3Yz8UuXzA_JI",
        "colab_type": "code",
        "colab": {}
      },
      "source": [
        "EPOCHS = 10\n",
        "LEARNING_RATE = 12345\n",
        "optimizer = torch.optim.Adam(params=model.parameters(), lr=LEARNING_RATE)"
      ],
      "execution_count": null,
      "outputs": []
    },
    {
      "cell_type": "code",
      "metadata": {
        "id": "cRiteqwdADXT",
        "colab_type": "code",
        "colab": {}
      },
      "source": [
        "def compute_accuracy(model, data_loader, device):\n",
        "  correct_pred, num_examples = 0, 0\n",
        "  model.eval()\n",
        "  for sample in data_loader:\n",
        "    pass\n",
        "\n",
        "for epoch in EPOCHS:\n",
        "  for sample in train_loader:\n",
        "    ids = sample['ids'].to(device)\n",
        "    mask = sample['mask'].to(device)\n",
        "    pass\n",
        "  pass "
      ],
      "execution_count": null,
      "outputs": []
    }
  ]
}