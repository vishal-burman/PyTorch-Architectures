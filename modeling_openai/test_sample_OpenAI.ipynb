{
  "nbformat": 4,
  "nbformat_minor": 0,
  "metadata": {
    "colab": {
      "name": "test_sample_OpenAI.ipynb",
      "provenance": [],
      "collapsed_sections": []
    },
    "kernelspec": {
      "name": "python3",
      "display_name": "Python 3"
    },
    "accelerator": "GPU"
  },
  "cells": [
    {
      "cell_type": "code",
      "metadata": {
        "id": "z0XEos5U4XDq",
        "colab_type": "code",
        "colab": {
          "base_uri": "https://localhost:8080/",
          "height": 139
        },
        "outputId": "08e9866c-2088-4da7-b604-864a00368a58"
      },
      "source": [
        "! git clone https://github.com/vishal-burman/PyTorch-Architectures.git"
      ],
      "execution_count": 1,
      "outputs": [
        {
          "output_type": "stream",
          "text": [
            "Cloning into 'PyTorch-Architectures'...\n",
            "remote: Enumerating objects: 405, done.\u001b[K\n",
            "remote: Counting objects: 100% (405/405), done.\u001b[K\n",
            "remote: Compressing objects: 100% (242/242), done.\u001b[K\n",
            "remote: Total 405 (delta 256), reused 283 (delta 149), pack-reused 0\u001b[K\n",
            "Receiving objects: 100% (405/405), 89.05 KiB | 747.00 KiB/s, done.\n",
            "Resolving deltas: 100% (256/256), done.\n"
          ],
          "name": "stdout"
        }
      ]
    },
    {
      "cell_type": "code",
      "metadata": {
        "id": "n_YPRyY04elA",
        "colab_type": "code",
        "colab": {
          "base_uri": "https://localhost:8080/",
          "height": 34
        },
        "outputId": "7658b99f-7285-4631-88c1-d574589db92a"
      },
      "source": [
        "%cd PyTorch-Architectures/modeling_openai/"
      ],
      "execution_count": 1,
      "outputs": [
        {
          "output_type": "stream",
          "text": [
            "/content/PyTorch-Architectures/modeling_openai\n"
          ],
          "name": "stdout"
        }
      ]
    },
    {
      "cell_type": "code",
      "metadata": {
        "id": "na-7XQLs5EIi",
        "colab_type": "code",
        "colab": {}
      },
      "source": [
        "! pip install transformers\n",
        "! pip install ftfy\n",
        "! pip install spacy\n",
        "! pip install datasets"
      ],
      "execution_count": null,
      "outputs": []
    },
    {
      "cell_type": "code",
      "metadata": {
        "id": "lgq_ZGOn46em",
        "colab_type": "code",
        "colab": {}
      },
      "source": [
        "import time\n",
        "import torch\n",
        "import torch.nn as nn\n",
        "from torch.utils.data import DataLoader, Dataset\n",
        "from transformers import OpenAIGPTTokenizer\n",
        "from model import OpenAIGPTLMHeadModel\n",
        "from config_openai import OpenAIGPTConfig\n",
        "config = OpenAIGPTConfig()\n",
        "tokenizer = OpenAIGPTTokenizer.from_pretrained(\"openai-gpt\")\n",
        "# pad_token is not set by default\n",
        "tokenizer.pad_token = '[PAD]'\n",
        "device = torch.device(\"cuda:0\" if torch.cuda.is_available() else \"cpu\")"
      ],
      "execution_count": 2,
      "outputs": []
    },
    {
      "cell_type": "code",
      "metadata": {
        "id": "BDhr7XO76ndr",
        "colab_type": "code",
        "colab": {
          "base_uri": "https://localhost:8080/",
          "height": 34
        },
        "outputId": "57086b14-c73d-42f5-d8cd-5e3f5001c57b"
      },
      "source": [
        "from datasets import load_dataset\n",
        "dataset = load_dataset('cnn_dailymail', '3.0.0')"
      ],
      "execution_count": 3,
      "outputs": [
        {
          "output_type": "stream",
          "text": [
            "Reusing dataset cnn_dailymail (/root/.cache/huggingface/datasets/cnn_dailymail/3.0.0/3.0.0/0128610a44e10f25b4af6689441c72af86205282d26399642f7db38fa7535602)\n"
          ],
          "name": "stderr"
        }
      ]
    },
    {
      "cell_type": "code",
      "metadata": {
        "id": "Z_17WW1k47Qz",
        "colab_type": "code",
        "colab": {}
      },
      "source": [
        "##############################################\n",
        "# PyTorch Dataset\n",
        "class CustomDataset(Dataset):\n",
        "\n",
        "    def __init__(self, texts, tokenizer):\n",
        "        self.texts = texts\n",
        "        self.tokenizer = tokenizer\n",
        "        self.list_texts = []\n",
        "        self.build()\n",
        "\n",
        "    def __len__(self):\n",
        "        return len(self.list_texts)\n",
        "\n",
        "    def __getitem__(self, index):\n",
        "        ids = self.list_texts[index]['input_ids']\n",
        "        mask = self.list_texts[index]['attention_mask']\n",
        "        \n",
        "        return{\n",
        "                'ids': torch.tensor(ids, dtype=torch.long),\n",
        "                'mask': torch.tensor(mask, dtype=torch.long)\n",
        "                }\n",
        "\n",
        "    def build(self):\n",
        "        for text in self.texts:\n",
        "            self.list_texts.append(self.tokenizer(text, max_length=128, pad_to_max_length=True, truncation=True))\n",
        "################################################"
      ],
      "execution_count": 4,
      "outputs": []
    },
    {
      "cell_type": "code",
      "metadata": {
        "id": "P_ccJxd_52Iv",
        "colab_type": "code",
        "colab": {
          "base_uri": "https://localhost:8080/",
          "height": 89
        },
        "outputId": "0f104c4c-5d29-44ef-a285-602a0c6e906a"
      },
      "source": [
        "texts_train = dataset['train']['article'][:20000]\n",
        "texts_valid = dataset['validation']['article'][:2000]\n",
        "\n",
        "start_time = time.time()\n",
        "train_dataset = CustomDataset(texts_train, tokenizer)\n",
        "valid_dataset = CustomDataset(texts_valid, tokenizer)\n",
        "print(\"Time Taken = \", (time.time() - start_time) / 60)"
      ],
      "execution_count": 5,
      "outputs": [
        {
          "output_type": "stream",
          "text": [
            "/usr/local/lib/python3.6/dist-packages/transformers/tokenization_utils_base.py:1770: FutureWarning: The `pad_to_max_length` argument is deprecated and will be removed in a future version, use `padding=True` or `padding='longest'` to pad to the longest sequence in the batch, or use `padding='max_length'` to pad to a max length. In this case, you can give a specific length with `max_length` (e.g. `max_length=45`) or leave max_length to None to pad to the maximal input size of the model (e.g. 512 for Bert).\n",
            "  FutureWarning,\n"
          ],
          "name": "stderr"
        },
        {
          "output_type": "stream",
          "text": [
            "Time Taken =  4.5742229183514915\n"
          ],
          "name": "stdout"
        }
      ]
    },
    {
      "cell_type": "code",
      "metadata": {
        "id": "Vyx6RivQ7429",
        "colab_type": "code",
        "colab": {
          "base_uri": "https://localhost:8080/",
          "height": 52
        },
        "outputId": "77270a70-c680-46b1-85ab-3c1abc190079"
      },
      "source": [
        "train_loader = DataLoader(dataset=train_dataset, shuffle=True, batch_size=8, num_workers=4)\n",
        "valid_loader = DataLoader(dataset=valid_dataset, shuffle=False, batch_size=8, num_workers=4)\n",
        "print(\"Training Samples = \", len(train_loader))\n",
        "print(\"Validation Samples = \", len(valid_loader))"
      ],
      "execution_count": 6,
      "outputs": [
        {
          "output_type": "stream",
          "text": [
            "Training Samples =  2500\n",
            "Validation Samples =  250\n"
          ],
          "name": "stdout"
        }
      ]
    },
    {
      "cell_type": "code",
      "metadata": {
        "id": "ZW8m5QPP_zrz",
        "colab_type": "code",
        "colab": {
          "base_uri": "https://localhost:8080/",
          "height": 34
        },
        "outputId": "03701e94-7dc4-4b0a-e58f-4230d01b8428"
      },
      "source": [
        "model = OpenAIGPTLMHeadModel(config).to(device)\n",
        "total_params = sum(p.numel() for p in model.parameters())\n",
        "print(\"Total Parameters = \", total_params)"
      ],
      "execution_count": 7,
      "outputs": [
        {
          "output_type": "stream",
          "text": [
            "Total Parameters =  74007552\n"
          ],
          "name": "stdout"
        }
      ]
    },
    {
      "cell_type": "code",
      "metadata": {
        "id": "3Yz8UuXzA_JI",
        "colab_type": "code",
        "colab": {}
      },
      "source": [
        "EPOCHS = 5\n",
        "LEARNING_RATE = 2.5e-4\n",
        "optimizer = torch.optim.Adam(params=model.parameters(), lr=LEARNING_RATE)"
      ],
      "execution_count": 8,
      "outputs": []
    },
    {
      "cell_type": "code",
      "metadata": {
        "id": "cRiteqwdADXT",
        "colab_type": "code",
        "colab": {
          "base_uri": "https://localhost:8080/",
          "height": 642
        },
        "outputId": "92277d3c-395f-4c8f-a087-eeea498c176c"
      },
      "source": [
        "def compute_loss(model, data_loader, device):\n",
        "  total_loss = 0\n",
        "  model.eval()\n",
        "  for sample in data_loader:\n",
        "    ids = sample['ids'].to(device)\n",
        "    mask = sample['mask'].to(device)\n",
        "\n",
        "    outputs = model(input_ids=ids, attention_mask=mask, labels=ids)\n",
        "    loss = outputs[0]\n",
        "    total_loss += loss.item()\n",
        "  average_loss = total_loss / len(data_loader)\n",
        "  return average_loss\n",
        "\n",
        "start_time = time.time()\n",
        "for epoch in range(EPOCHS):\n",
        "  model.train()\n",
        "  for idx, sample in enumerate(train_loader):\n",
        "    ids = sample['ids'].to(device)\n",
        "    mask = sample['mask'].to(device)\n",
        "\n",
        "    optimizer.zero_grad()\n",
        "    outputs = model(input_ids=ids, attention_mask=mask, labels=ids)\n",
        "    loss = outputs[0]\n",
        "\n",
        "    # LOGGING\n",
        "    if idx % 500 == 0:\n",
        "      print(\"Batch: %04d/%04d || Epoch: %03d/%03d || Loss: %.3f\" % (idx, len(train_loader), epoch, EPOCHS, loss.item()))\n",
        "    \n",
        "    loss.backward()\n",
        "    optimizer.step()\n",
        "\n",
        "  model.eval()\n",
        "  with torch.set_grad_enabled(False):\n",
        "    valid_loss = compute_loss(model, valid_loader, device)\n",
        "    print(\"Validation Average Loss: \", valid_loss)\n",
        "  \n",
        "  epoch_elapsed_time = (time.time() - start_time) / 60\n",
        "  print(\"Epoch Elapsed Time: \", epoch_elapsed_time)\n",
        "total_elapsed_time = (time.time() - start_time) / 60\n",
        "print(\"Total Training Elapsed Time: \", total_elapsed_time)"
      ],
      "execution_count": 9,
      "outputs": [
        {
          "output_type": "stream",
          "text": [
            "Batch: 0000/2500 || Epoch: 000/005 || Loss: 10.752\n",
            "Batch: 0500/2500 || Epoch: 000/005 || Loss: 6.136\n",
            "Batch: 1000/2500 || Epoch: 000/005 || Loss: 5.956\n",
            "Batch: 1500/2500 || Epoch: 000/005 || Loss: 5.709\n",
            "Batch: 2000/2500 || Epoch: 000/005 || Loss: 5.590\n",
            "Validation Average Loss:  5.443012643814087\n",
            "Epoch Elapsed Time:  15.019711887836456\n",
            "Batch: 0000/2500 || Epoch: 001/005 || Loss: 4.707\n",
            "Batch: 0500/2500 || Epoch: 001/005 || Loss: 4.754\n",
            "Batch: 1000/2500 || Epoch: 001/005 || Loss: 4.360\n",
            "Batch: 1500/2500 || Epoch: 001/005 || Loss: 4.381\n",
            "Batch: 2000/2500 || Epoch: 001/005 || Loss: 4.885\n",
            "Validation Average Loss:  5.090670545578003\n",
            "Epoch Elapsed Time:  30.04678885539373\n",
            "Batch: 0000/2500 || Epoch: 002/005 || Loss: 4.206\n",
            "Batch: 0500/2500 || Epoch: 002/005 || Loss: 3.991\n",
            "Batch: 1000/2500 || Epoch: 002/005 || Loss: 4.221\n",
            "Batch: 1500/2500 || Epoch: 002/005 || Loss: 4.418\n",
            "Batch: 2000/2500 || Epoch: 002/005 || Loss: 4.178\n",
            "Validation Average Loss:  4.952536115646362\n",
            "Epoch Elapsed Time:  45.07101541360219\n",
            "Batch: 0000/2500 || Epoch: 003/005 || Loss: 3.897\n",
            "Batch: 0500/2500 || Epoch: 003/005 || Loss: 3.893\n",
            "Batch: 1000/2500 || Epoch: 003/005 || Loss: 3.841\n",
            "Batch: 1500/2500 || Epoch: 003/005 || Loss: 3.870\n",
            "Batch: 2000/2500 || Epoch: 003/005 || Loss: 3.895\n",
            "Validation Average Loss:  4.936832920074463\n",
            "Epoch Elapsed Time:  60.03473726113637\n",
            "Batch: 0000/2500 || Epoch: 004/005 || Loss: 3.618\n",
            "Batch: 0500/2500 || Epoch: 004/005 || Loss: 3.612\n",
            "Batch: 1000/2500 || Epoch: 004/005 || Loss: 3.618\n",
            "Batch: 1500/2500 || Epoch: 004/005 || Loss: 3.684\n",
            "Batch: 2000/2500 || Epoch: 004/005 || Loss: 4.000\n",
            "Validation Average Loss:  4.973322526931763\n",
            "Epoch Elapsed Time:  75.01018062829971\n",
            "Total Training Elapsed Time:  75.01018663247426\n"
          ],
          "name": "stdout"
        }
      ]
    },
    {
      "cell_type": "code",
      "metadata": {
        "id": "_bOYTDVJoQIP",
        "colab_type": "code",
        "colab": {
          "base_uri": "https://localhost:8080/",
          "height": 106
        },
        "outputId": "b08c7467-71da-47db-9bd4-418bda53439f"
      },
      "source": [
        "# Testing the model TODO (Needs more training as of now)\n",
        "import torch.nn.functional as F\n",
        "text = [\"the man is\"]\n",
        "dataset = CustomDataset(text, tokenizer)\n",
        "data_loader = DataLoader(dataset=dataset, shuffle=False, batch_size=1)\n",
        "model.eval()\n",
        "with torch.set_grad_enabled(False):\n",
        "  for sample in data_loader:\n",
        "    ids = sample['ids'].to(device)\n",
        "    mask = sample['mask'].to(device)\n",
        "    outputs = model(input_ids=ids, attention_mask=mask)\n",
        "    logits = outputs[0]\n",
        "    logits = logits.view(-1, logits.size(-1))\n",
        "    # print(logits.shape)\n",
        "    probas = F.softmax(logits, dim=1)\n",
        "    _, predicted_logit = torch.max(logits, 1)\n",
        "    predicted_logit = predicted_logit[2]\n",
        "    print(\"Original text= \",text[0], \"\\npredicted_next_token --> \", tokenizer.decode([predicted_logit]))"
      ],
      "execution_count": 45,
      "outputs": [
        {
          "output_type": "stream",
          "text": [
            "Original text=  the man is \n",
            "predicted_next_token -->  accused\n"
          ],
          "name": "stdout"
        },
        {
          "output_type": "stream",
          "text": [
            "/usr/local/lib/python3.6/dist-packages/transformers/tokenization_utils_base.py:1770: FutureWarning: The `pad_to_max_length` argument is deprecated and will be removed in a future version, use `padding=True` or `padding='longest'` to pad to the longest sequence in the batch, or use `padding='max_length'` to pad to a max length. In this case, you can give a specific length with `max_length` (e.g. `max_length=45`) or leave max_length to None to pad to the maximal input size of the model (e.g. 512 for Bert).\n",
            "  FutureWarning,\n"
          ],
          "name": "stderr"
        }
      ]
    },
    {
      "cell_type": "code",
      "metadata": {
        "id": "3xEFmfeX1qDs",
        "colab_type": "code",
        "colab": {}
      },
      "source": [
        ""
      ],
      "execution_count": null,
      "outputs": []
    }
  ]
}