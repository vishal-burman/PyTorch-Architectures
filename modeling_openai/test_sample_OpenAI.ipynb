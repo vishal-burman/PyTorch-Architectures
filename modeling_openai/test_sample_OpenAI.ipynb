{
  "nbformat": 4,
  "nbformat_minor": 0,
  "metadata": {
    "colab": {
      "name": "test_sample_OpenAI.ipynb",
      "provenance": [],
      "collapsed_sections": [],
      "authorship_tag": "ABX9TyOgLxqenZOkOyZ8vH23V/S4",
      "include_colab_link": true
    },
    "kernelspec": {
      "name": "python3",
      "display_name": "Python 3"
    },
    "accelerator": "GPU"
  },
  "cells": [
    {
      "cell_type": "markdown",
      "metadata": {
        "id": "view-in-github",
        "colab_type": "text"
      },
      "source": [
        "<a href=\"https://colab.research.google.com/github/vishal-burman/PyTorch-Architectures/blob/master/modeling_openai/test_sample_OpenAI.ipynb\" target=\"_parent\"><img src=\"https://colab.research.google.com/assets/colab-badge.svg\" alt=\"Open In Colab\"/></a>"
      ]
    },
    {
      "cell_type": "code",
      "metadata": {
        "id": "z0XEos5U4XDq"
      },
      "source": [
        "! git clone https://github.com/vishal-burman/PyTorch-Architectures.git"
      ],
      "execution_count": null,
      "outputs": []
    },
    {
      "cell_type": "code",
      "metadata": {
        "id": "n_YPRyY04elA",
        "colab": {
          "base_uri": "https://localhost:8080/"
        },
        "outputId": "574f97e2-3fd8-46c4-8181-b540f01e89aa"
      },
      "source": [
        "%cd PyTorch-Architectures/modeling_openai/"
      ],
      "execution_count": 7,
      "outputs": [
        {
          "output_type": "stream",
          "text": [
            "/content/PyTorch-Architectures/modeling_openai\n"
          ],
          "name": "stdout"
        }
      ]
    },
    {
      "cell_type": "code",
      "metadata": {
        "id": "na-7XQLs5EIi"
      },
      "source": [
        "! pip install transformers\n",
        "! pip install ftfy\n",
        "! pip install spacy\n",
        "! pip install datasets"
      ],
      "execution_count": null,
      "outputs": []
    },
    {
      "cell_type": "code",
      "metadata": {
        "id": "lgq_ZGOn46em"
      },
      "source": [
        "import time\n",
        "import torch\n",
        "import torch.nn as nn\n",
        "from torch.utils.data import DataLoader, Dataset\n",
        "from transformers import OpenAIGPTTokenizer\n",
        "from model import OpenAIGPTLMHeadModel\n",
        "from utils import Conv1D\n",
        "from config_openai import OpenAIGPTConfig\n",
        "config = OpenAIGPTConfig()\n",
        "tokenizer = OpenAIGPTTokenizer.from_pretrained(\"openai-gpt\")\n",
        "# pad_token is not set by default\n",
        "tokenizer.pad_token = '[PAD]'\n",
        "device = torch.device(\"cuda:0\" if torch.cuda.is_available() else \"cpu\")"
      ],
      "execution_count": 21,
      "outputs": []
    },
    {
      "cell_type": "code",
      "metadata": {
        "id": "BDhr7XO76ndr",
        "colab": {
          "base_uri": "https://localhost:8080/"
        },
        "outputId": "8bfedfce-6bd7-40db-9b67-f2393b9716b7"
      },
      "source": [
        "from datasets import load_dataset\n",
        "dataset = load_dataset('cnn_dailymail', '3.0.0')"
      ],
      "execution_count": 9,
      "outputs": [
        {
          "output_type": "stream",
          "text": [
            "Reusing dataset cnn_dailymail (/root/.cache/huggingface/datasets/cnn_dailymail/3.0.0/3.0.0/0128610a44e10f25b4af6689441c72af86205282d26399642f7db38fa7535602)\n"
          ],
          "name": "stderr"
        }
      ]
    },
    {
      "cell_type": "code",
      "metadata": {
        "id": "Z_17WW1k47Qz"
      },
      "source": [
        "##############################################\n",
        "# PyTorch Dataset\n",
        "class CustomDataset(Dataset):\n",
        "\n",
        "    def __init__(self, texts, tokenizer):\n",
        "        self.texts = texts\n",
        "        self.tokenizer = tokenizer\n",
        "        self.list_texts = []\n",
        "        self.build()\n",
        "\n",
        "    def __len__(self):\n",
        "        return len(self.list_texts)\n",
        "\n",
        "    def __getitem__(self, index):\n",
        "        ids = self.list_texts[index]['input_ids']\n",
        "        mask = self.list_texts[index]['attention_mask']\n",
        "        \n",
        "        return{\n",
        "                'ids': torch.tensor(ids, dtype=torch.long),\n",
        "                'mask': torch.tensor(mask, dtype=torch.long)\n",
        "                }\n",
        "\n",
        "    def build(self):\n",
        "        for text in self.texts:\n",
        "            self.list_texts.append(self.tokenizer(text, max_length=128, padding='max_length', truncation=True))\n",
        "################################################"
      ],
      "execution_count": 10,
      "outputs": []
    },
    {
      "cell_type": "code",
      "metadata": {
        "id": "P_ccJxd_52Iv",
        "colab": {
          "base_uri": "https://localhost:8080/"
        },
        "outputId": "c7d01e59-23fa-4250-efab-e807a7a620c0"
      },
      "source": [
        "texts_train = dataset['train']['article'][:20000]\n",
        "texts_valid = dataset['validation']['article'][:2000]\n",
        "\n",
        "start_time = time.time()\n",
        "train_dataset = CustomDataset(texts_train, tokenizer)\n",
        "valid_dataset = CustomDataset(texts_valid, tokenizer)\n",
        "print(\"Time Taken = \", (time.time() - start_time) / 60)"
      ],
      "execution_count": 11,
      "outputs": [
        {
          "output_type": "stream",
          "text": [
            "Time Taken =  4.11614770491918\n"
          ],
          "name": "stdout"
        }
      ]
    },
    {
      "cell_type": "code",
      "metadata": {
        "id": "Vyx6RivQ7429",
        "colab": {
          "base_uri": "https://localhost:8080/"
        },
        "outputId": "10ec1cb4-1b53-487a-ca8e-bca94790b5f4"
      },
      "source": [
        "train_loader = DataLoader(dataset=train_dataset, shuffle=True, batch_size=8, num_workers=4)\n",
        "valid_loader = DataLoader(dataset=valid_dataset, shuffle=False, batch_size=8, num_workers=4)\n",
        "print(\"Training Samples = \", len(train_loader))\n",
        "print(\"Validation Samples = \", len(valid_loader))"
      ],
      "execution_count": 12,
      "outputs": [
        {
          "output_type": "stream",
          "text": [
            "Training Samples =  2500\n",
            "Validation Samples =  250\n"
          ],
          "name": "stdout"
        }
      ]
    },
    {
      "cell_type": "code",
      "metadata": {
        "id": "ZW8m5QPP_zrz",
        "colab": {
          "base_uri": "https://localhost:8080/"
        },
        "outputId": "05e42d5d-565e-446c-c388-c62648c363b3"
      },
      "source": [
        "model = OpenAIGPTLMHeadModel(config)\n",
        "def _init_weights(module):\n",
        "  if isinstance(module, (nn.Linear, nn.Embedding, Conv1D)):\n",
        "      module.weight.data.normal_(mean=0.0, std=0.02)\n",
        "      if isinstance(module, (nn.Linear, Conv1D)) and module.bias is not None:\n",
        "          module.bias.data.zero_()\n",
        "  elif isinstance(module, nn.LayerNorm):\n",
        "      module.bias.data.zero_()\n",
        "      module.weight.data.fill_(1.0)\n",
        "model.apply(_init_weights)\n",
        "model = model.to(device)\n",
        "total_params = sum(p.numel() for p in model.parameters())\n",
        "print(\"Total Parameters = \", total_params)"
      ],
      "execution_count": 22,
      "outputs": [
        {
          "output_type": "stream",
          "text": [
            "Total Parameters =  105094656\n"
          ],
          "name": "stdout"
        }
      ]
    },
    {
      "cell_type": "code",
      "metadata": {
        "id": "3Yz8UuXzA_JI"
      },
      "source": [
        "EPOCHS = 5\n",
        "LEARNING_RATE = 3e-5\n",
        "optimizer = torch.optim.AdamW(params=model.parameters(), lr=LEARNING_RATE)"
      ],
      "execution_count": 15,
      "outputs": []
    },
    {
      "cell_type": "code",
      "metadata": {
        "id": "cRiteqwdADXT",
        "colab": {
          "base_uri": "https://localhost:8080/"
        },
        "outputId": "61053863-a55e-4f7c-d5e3-55408b81530d"
      },
      "source": [
        "def compute_loss(model, data_loader, device):\n",
        "  total_loss = 0\n",
        "  model.eval()\n",
        "  for sample in data_loader:\n",
        "    ids = sample['ids'].to(device)\n",
        "    mask = sample['mask'].to(device)\n",
        "\n",
        "    outputs = model(input_ids=ids, attention_mask=mask, labels=ids)\n",
        "    loss = outputs[0]\n",
        "    total_loss += loss.item()\n",
        "  average_loss = total_loss / len(data_loader)\n",
        "  return average_loss\n",
        "\n",
        "start_time = time.time()\n",
        "for epoch in range(EPOCHS):\n",
        "  model.train()\n",
        "  for idx, sample in enumerate(train_loader):\n",
        "    ids = sample['ids'].to(device)\n",
        "    mask = sample['mask'].to(device)\n",
        "\n",
        "    optimizer.zero_grad()\n",
        "    outputs = model(input_ids=ids, attention_mask=mask, labels=ids)\n",
        "    loss = outputs[0]\n",
        "\n",
        "    # LOGGING\n",
        "    if idx % 500 == 0:\n",
        "      print(\"Batch: %04d/%04d || Epoch: %03d/%03d || Loss: %.3f\" % (idx, len(train_loader), epoch, EPOCHS, loss.item()))\n",
        "    \n",
        "    loss.backward()\n",
        "    optimizer.step()\n",
        "\n",
        "  model.eval()\n",
        "  with torch.set_grad_enabled(False):\n",
        "    valid_loss = compute_loss(model, valid_loader, device)\n",
        "    print(\"Validation Average Loss: \", valid_loss)\n",
        "  \n",
        "  epoch_elapsed_time = (time.time() - start_time) / 60\n",
        "  print(\"Epoch Elapsed Time: \", epoch_elapsed_time)\n",
        "total_elapsed_time = (time.time() - start_time) / 60\n",
        "print(\"Total Training Elapsed Time: \", total_elapsed_time)"
      ],
      "execution_count": 16,
      "outputs": [
        {
          "output_type": "stream",
          "text": [
            "Batch: 0000/2500 || Epoch: 000/005 || Loss: 10.787\n",
            "Batch: 0500/2500 || Epoch: 000/005 || Loss: 6.876\n",
            "Batch: 1000/2500 || Epoch: 000/005 || Loss: 6.932\n",
            "Batch: 1500/2500 || Epoch: 000/005 || Loss: 6.204\n",
            "Batch: 2000/2500 || Epoch: 000/005 || Loss: 6.247\n",
            "Validation Average Loss:  6.36370386505127\n",
            "Epoch Elapsed Time:  8.491429289182028\n",
            "Batch: 0000/2500 || Epoch: 001/005 || Loss: 6.227\n",
            "Batch: 0500/2500 || Epoch: 001/005 || Loss: 5.949\n",
            "Batch: 1000/2500 || Epoch: 001/005 || Loss: 6.295\n",
            "Batch: 1500/2500 || Epoch: 001/005 || Loss: 5.695\n",
            "Batch: 2000/2500 || Epoch: 001/005 || Loss: 5.676\n",
            "Validation Average Loss:  6.002708009719848\n",
            "Epoch Elapsed Time:  17.0772571961085\n",
            "Batch: 0000/2500 || Epoch: 002/005 || Loss: 5.313\n",
            "Batch: 0500/2500 || Epoch: 002/005 || Loss: 5.680\n",
            "Batch: 1000/2500 || Epoch: 002/005 || Loss: 5.416\n",
            "Batch: 1500/2500 || Epoch: 002/005 || Loss: 5.358\n",
            "Batch: 2000/2500 || Epoch: 002/005 || Loss: 5.644\n",
            "Validation Average Loss:  5.781677068710327\n",
            "Epoch Elapsed Time:  25.670752584934235\n",
            "Batch: 0000/2500 || Epoch: 003/005 || Loss: 5.657\n",
            "Batch: 0500/2500 || Epoch: 003/005 || Loss: 5.121\n",
            "Batch: 1000/2500 || Epoch: 003/005 || Loss: 5.074\n",
            "Batch: 1500/2500 || Epoch: 003/005 || Loss: 5.411\n",
            "Batch: 2000/2500 || Epoch: 003/005 || Loss: 5.238\n",
            "Validation Average Loss:  5.647781726837159\n",
            "Epoch Elapsed Time:  34.268024583657585\n",
            "Batch: 0000/2500 || Epoch: 004/005 || Loss: 4.942\n",
            "Batch: 0500/2500 || Epoch: 004/005 || Loss: 4.976\n",
            "Batch: 1000/2500 || Epoch: 004/005 || Loss: 5.549\n",
            "Batch: 1500/2500 || Epoch: 004/005 || Loss: 5.042\n",
            "Batch: 2000/2500 || Epoch: 004/005 || Loss: 5.699\n",
            "Validation Average Loss:  5.537538290023804\n",
            "Epoch Elapsed Time:  42.869463880856834\n",
            "Total Training Elapsed Time:  42.86946996450424\n"
          ],
          "name": "stdout"
        }
      ]
    },
    {
      "cell_type": "code",
      "metadata": {
        "id": "_bOYTDVJoQIP",
        "colab": {
          "base_uri": "https://localhost:8080/"
        },
        "outputId": "b156543a-3a20-4a3e-af80-11526fbb2dcb"
      },
      "source": [
        "# Testing the model TODO (Needs more training as of now)\n",
        "import torch.nn.functional as F\n",
        "text = [\"there is a\"]\n",
        "dataset = CustomDataset(text, tokenizer)\n",
        "data_loader = DataLoader(dataset=dataset, shuffle=False, batch_size=1)\n",
        "model.eval()\n",
        "with torch.set_grad_enabled(False):\n",
        "  for sample in data_loader:\n",
        "    ids = sample['ids'].to(device)\n",
        "    mask = sample['mask'].to(device)\n",
        "    outputs = model(input_ids=ids, attention_mask=mask)\n",
        "    logits = outputs[0]\n",
        "    logits = logits.view(-1, logits.size(-1))\n",
        "    # print(logits.shape)\n",
        "    probas = F.softmax(logits, dim=1)\n",
        "    _, predicted_logit = torch.max(logits, 1)\n",
        "    predicted_logit = predicted_logit[2]\n",
        "    print(\"Original text= \",text[0], \"\\npredicted_next_token --> \", tokenizer.decode([predicted_logit]))"
      ],
      "execution_count": 18,
      "outputs": [
        {
          "output_type": "stream",
          "text": [
            "Original text=  there is a \n",
            "predicted_next_token -->  lot\n"
          ],
          "name": "stdout"
        }
      ]
    },
    {
      "cell_type": "code",
      "metadata": {
        "id": "3xEFmfeX1qDs"
      },
      "source": [
        ""
      ],
      "execution_count": null,
      "outputs": []
    }
  ]
}