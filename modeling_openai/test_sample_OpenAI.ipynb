{
  "nbformat": 4,
  "nbformat_minor": 0,
  "metadata": {
    "colab": {
      "name": "test_sample_OpenAI.ipynb",
      "provenance": [],
      "collapsed_sections": []
    },
    "kernelspec": {
      "name": "python3",
      "display_name": "Python 3"
    },
    "accelerator": "GPU"
  },
  "cells": [
    {
      "cell_type": "code",
      "metadata": {
        "id": "z0XEos5U4XDq",
        "colab_type": "code",
        "colab": {
          "base_uri": "https://localhost:8080/",
          "height": 139
        },
        "outputId": "08e9866c-2088-4da7-b604-864a00368a58"
      },
      "source": [
        "! git clone https://github.com/vishal-burman/PyTorch-Architectures.git"
      ],
      "execution_count": 1,
      "outputs": [
        {
          "output_type": "stream",
          "text": [
            "Cloning into 'PyTorch-Architectures'...\n",
            "remote: Enumerating objects: 405, done.\u001b[K\n",
            "remote: Counting objects: 100% (405/405), done.\u001b[K\n",
            "remote: Compressing objects: 100% (242/242), done.\u001b[K\n",
            "remote: Total 405 (delta 256), reused 283 (delta 149), pack-reused 0\u001b[K\n",
            "Receiving objects: 100% (405/405), 89.05 KiB | 747.00 KiB/s, done.\n",
            "Resolving deltas: 100% (256/256), done.\n"
          ],
          "name": "stdout"
        }
      ]
    },
    {
      "cell_type": "code",
      "metadata": {
        "id": "n_YPRyY04elA",
        "colab_type": "code",
        "colab": {
          "base_uri": "https://localhost:8080/",
          "height": 34
        },
        "outputId": "08ffada0-5875-4db8-c4d1-2d74ef1df9bf"
      },
      "source": [
        "%cd PyTorch-Architectures/modeling_openai/"
      ],
      "execution_count": 1,
      "outputs": [
        {
          "output_type": "stream",
          "text": [
            "/content/PyTorch-Architectures/modeling_openai\n"
          ],
          "name": "stdout"
        }
      ]
    },
    {
      "cell_type": "code",
      "metadata": {
        "id": "na-7XQLs5EIi",
        "colab_type": "code",
        "colab": {}
      },
      "source": [
        "! pip install transformers\n",
        "! pip install ftfy\n",
        "! pip install spacy\n",
        "! pip install datasets"
      ],
      "execution_count": null,
      "outputs": []
    },
    {
      "cell_type": "code",
      "metadata": {
        "id": "lgq_ZGOn46em",
        "colab_type": "code",
        "colab": {}
      },
      "source": [
        "import time\n",
        "import torch\n",
        "import torch.nn as nn\n",
        "from torch.utils.data import DataLoader, Dataset\n",
        "from transformers import OpenAIGPTTokenizer\n",
        "from model import OpenAIGPTLMHeadModel\n",
        "from config_openai import OpenAIGPTConfig\n",
        "config = OpenAIGPTConfig()\n",
        "tokenizer = OpenAIGPTTokenizer.from_pretrained(\"openai-gpt\")\n",
        "# pad_token is not set by default\n",
        "tokenizer.pad_token = '[PAD]'\n",
        "device = torch.device(\"cuda:0\" if torch.cuda.is_available() else \"cpu\")"
      ],
      "execution_count": 2,
      "outputs": []
    },
    {
      "cell_type": "code",
      "metadata": {
        "id": "BDhr7XO76ndr",
        "colab_type": "code",
        "colab": {
          "base_uri": "https://localhost:8080/",
          "height": 34
        },
        "outputId": "3a93eeba-9234-4956-bcc5-86bc25478bd2"
      },
      "source": [
        "from datasets import load_dataset\n",
        "dataset = load_dataset('cnn_dailymail', '3.0.0')"
      ],
      "execution_count": 3,
      "outputs": [
        {
          "output_type": "stream",
          "text": [
            "Reusing dataset cnn_dailymail (/root/.cache/huggingface/datasets/cnn_dailymail/3.0.0/3.0.0/0128610a44e10f25b4af6689441c72af86205282d26399642f7db38fa7535602)\n"
          ],
          "name": "stderr"
        }
      ]
    },
    {
      "cell_type": "code",
      "metadata": {
        "id": "Z_17WW1k47Qz",
        "colab_type": "code",
        "colab": {}
      },
      "source": [
        "##############################################\n",
        "# PyTorch Dataset\n",
        "class CustomDataset(Dataset):\n",
        "\n",
        "    def __init__(self, texts, tokenizer):\n",
        "        self.texts = texts\n",
        "        self.tokenizer = tokenizer\n",
        "        self.list_texts = []\n",
        "        self.build()\n",
        "\n",
        "    def __len__(self):\n",
        "        return len(self.list_texts)\n",
        "\n",
        "    def __getitem__(self, index):\n",
        "        ids = self.list_texts[index]['input_ids']\n",
        "        mask = self.list_texts[index]['attention_mask']\n",
        "        \n",
        "        return{\n",
        "                'ids': torch.tensor(ids, dtype=torch.long),\n",
        "                'mask': torch.tensor(mask, dtype=torch.long)\n",
        "                }\n",
        "\n",
        "    def build(self):\n",
        "        for text in self.texts:\n",
        "            self.list_texts.append(self.tokenizer(text, max_length=64, pad_to_max_length=True, truncation=True))\n",
        "################################################"
      ],
      "execution_count": 4,
      "outputs": []
    },
    {
      "cell_type": "code",
      "metadata": {
        "id": "P_ccJxd_52Iv",
        "colab_type": "code",
        "colab": {
          "base_uri": "https://localhost:8080/",
          "height": 89
        },
        "outputId": "df8f3841-bb36-4eff-8f0b-0ee03bcf5bd7"
      },
      "source": [
        "texts_train = dataset['train']['article'][:10000]\n",
        "texts_valid = dataset['validation']['article'][:1000]\n",
        "\n",
        "start_time = time.time()\n",
        "train_dataset = CustomDataset(texts_train, tokenizer)\n",
        "valid_dataset = CustomDataset(texts_valid, tokenizer)\n",
        "print(\"Time Taken = \", (time.time() - start_time) / 60)"
      ],
      "execution_count": 5,
      "outputs": [
        {
          "output_type": "stream",
          "text": [
            "/usr/local/lib/python3.6/dist-packages/transformers/tokenization_utils_base.py:1770: FutureWarning: The `pad_to_max_length` argument is deprecated and will be removed in a future version, use `padding=True` or `padding='longest'` to pad to the longest sequence in the batch, or use `padding='max_length'` to pad to a max length. In this case, you can give a specific length with `max_length` (e.g. `max_length=45`) or leave max_length to None to pad to the maximal input size of the model (e.g. 512 for Bert).\n",
            "  FutureWarning,\n"
          ],
          "name": "stderr"
        },
        {
          "output_type": "stream",
          "text": [
            "Time Taken =  2.3026591738065085\n"
          ],
          "name": "stdout"
        }
      ]
    },
    {
      "cell_type": "code",
      "metadata": {
        "id": "Vyx6RivQ7429",
        "colab_type": "code",
        "colab": {
          "base_uri": "https://localhost:8080/",
          "height": 52
        },
        "outputId": "ead37e87-1179-46d5-e6a9-581722233799"
      },
      "source": [
        "train_loader = DataLoader(dataset=train_dataset, shuffle=True, batch_size=8)\n",
        "valid_loader = DataLoader(dataset=valid_dataset, shuffle=False, batch_size=8)\n",
        "print(\"Training Samples = \", len(train_loader))\n",
        "print(\"Validation Samples = \", len(valid_loader))"
      ],
      "execution_count": 7,
      "outputs": [
        {
          "output_type": "stream",
          "text": [
            "Training Samples =  1250\n",
            "Validation Samples =  125\n"
          ],
          "name": "stdout"
        }
      ]
    },
    {
      "cell_type": "code",
      "metadata": {
        "id": "ZW8m5QPP_zrz",
        "colab_type": "code",
        "colab": {
          "base_uri": "https://localhost:8080/",
          "height": 34
        },
        "outputId": "7adbfeb7-baa6-44e7-92f6-999eab981159"
      },
      "source": [
        "model = OpenAIGPTLMHeadModel(config).to(device)\n",
        "total_params = sum(p.numel() for p in model.parameters())\n",
        "print(\"Total Parameters = \", total_params)"
      ],
      "execution_count": 8,
      "outputs": [
        {
          "output_type": "stream",
          "text": [
            "Total Parameters =  74007552\n"
          ],
          "name": "stdout"
        }
      ]
    },
    {
      "cell_type": "code",
      "metadata": {
        "id": "3Yz8UuXzA_JI",
        "colab_type": "code",
        "colab": {}
      },
      "source": [
        "EPOCHS = 5\n",
        "LEARNING_RATE = 2.5e-4\n",
        "optimizer = torch.optim.Adam(params=model.parameters(), lr=LEARNING_RATE)"
      ],
      "execution_count": 9,
      "outputs": []
    },
    {
      "cell_type": "code",
      "metadata": {
        "id": "cRiteqwdADXT",
        "colab_type": "code",
        "colab": {
          "base_uri": "https://localhost:8080/",
          "height": 469
        },
        "outputId": "eeffb495-7c9c-4a42-d052-5da8fba22af9"
      },
      "source": [
        "def compute_loss(model, data_loader, device):\n",
        "  total_loss = 0\n",
        "  model.eval()\n",
        "  for sample in data_loader:\n",
        "    ids = sample['ids'].to(device)\n",
        "    mask = sample['mask'].to(device)\n",
        "\n",
        "    outputs = model(input_ids=ids, attention_mask=mask, labels=ids)\n",
        "    loss = outputs[0]\n",
        "    total_loss += loss.item()\n",
        "  average_loss = total_loss / len(data_loader)\n",
        "  return average_loss\n",
        "\n",
        "start_time = time.time()\n",
        "for epoch in range(EPOCHS):\n",
        "  model.train()\n",
        "  for idx, sample in enumerate(train_loader):\n",
        "    ids = sample['ids'].to(device)\n",
        "    mask = sample['mask'].to(device)\n",
        "\n",
        "    optimizer.zero_grad()\n",
        "    outputs = model(input_ids=ids, attention_mask=mask, labels=ids)\n",
        "    loss = outputs[0]\n",
        "\n",
        "    # LOGGING\n",
        "    if idx % 500 == 0:\n",
        "      print(\"Batch: %04d/%04d || Epoch: %03d/%03d || Loss: %.3f\" % (idx, len(train_loader), epoch, EPOCHS, loss.item()))\n",
        "    \n",
        "    loss.backward()\n",
        "    optimizer.step()\n",
        "\n",
        "  model.eval()\n",
        "  with torch.set_grad_enabled(False):\n",
        "    valid_loss = compute_loss(model, valid_loader, device)\n",
        "    print(\"Validation Average Loss: \", valid_loss)\n",
        "  \n",
        "  epoch_elapsed_time = (time.time() - start_time) / 60\n",
        "  print(\"Epoch Elapsed Time: \", epoch_elapsed_time)\n",
        "total_elapsed_time = (time.time() - start_time) / 60\n",
        "print(\"Total Training Elapsed Time: \", total_elapsed_time)"
      ],
      "execution_count": 10,
      "outputs": [
        {
          "output_type": "stream",
          "text": [
            "Batch: 000/1250 || Epoch: 000/005 || Loss: 10.763\n",
            "Batch: 500/1250 || Epoch: 000/005 || Loss: 5.851\n",
            "Batch: 1000/1250 || Epoch: 000/005 || Loss: 6.006\n",
            "Validation Average Loss:  5.818221267700196\n",
            "Epoch Elapsed Time:  4.116805644830068\n",
            "Batch: 000/1250 || Epoch: 001/005 || Loss: 5.253\n",
            "Batch: 500/1250 || Epoch: 001/005 || Loss: 5.417\n",
            "Batch: 1000/1250 || Epoch: 001/005 || Loss: 5.270\n",
            "Validation Average Loss:  5.475076210021973\n",
            "Epoch Elapsed Time:  8.238336928685506\n",
            "Batch: 000/1250 || Epoch: 002/005 || Loss: 4.346\n",
            "Batch: 500/1250 || Epoch: 002/005 || Loss: 4.931\n",
            "Batch: 1000/1250 || Epoch: 002/005 || Loss: 4.698\n",
            "Validation Average Loss:  5.348075637817383\n",
            "Epoch Elapsed Time:  12.362340748310089\n",
            "Batch: 000/1250 || Epoch: 003/005 || Loss: 3.807\n",
            "Batch: 500/1250 || Epoch: 003/005 || Loss: 4.117\n",
            "Batch: 1000/1250 || Epoch: 003/005 || Loss: 4.159\n",
            "Validation Average Loss:  5.350865081787109\n",
            "Epoch Elapsed Time:  16.48643560409546\n",
            "Batch: 000/1250 || Epoch: 004/005 || Loss: 3.408\n",
            "Batch: 500/1250 || Epoch: 004/005 || Loss: 3.646\n",
            "Batch: 1000/1250 || Epoch: 004/005 || Loss: 3.396\n",
            "Validation Average Loss:  5.4725674018859864\n",
            "Epoch Elapsed Time:  20.611920217672985\n",
            "Total Training Elapsed Time:  20.611925387382506\n"
          ],
          "name": "stdout"
        }
      ]
    },
    {
      "cell_type": "code",
      "metadata": {
        "id": "_bOYTDVJoQIP",
        "colab_type": "code",
        "colab": {
          "base_uri": "https://localhost:8080/",
          "height": 89
        },
        "outputId": "9664eb32-0165-49bd-e500-1cc1a19e21c4"
      },
      "source": [
        "# Testing the model TODO (Needs more training as of now)\n",
        "import torch.nn.functional as F\n",
        "text = [\"his\"]\n",
        "dataset = CustomDataset(text, tokenizer)\n",
        "data_loader = DataLoader(dataset=dataset, shuffle=False, batch_size=1)\n",
        "model.eval()\n",
        "with torch.set_grad_enabled(False):\n",
        "  for sample in data_loader:\n",
        "    ids = sample['ids'].to(device)\n",
        "    mask = sample['mask'].to(device)\n",
        "    outputs = model(input_ids=ids, attention_mask=mask)\n",
        "    logits = outputs[0]\n",
        "    logits = logits.view(-1, logits.size(-1))\n",
        "    # print(logits.shape)\n",
        "    probas = F.softmax(logits, dim=1)\n",
        "    _, predicted_logit = torch.max(logits, 1)\n",
        "    predicted_logit = predicted_logit[0]\n",
        "    print(tokenizer.decode([predicted_logit]))"
      ],
      "execution_count": 51,
      "outputs": [
        {
          "output_type": "stream",
          "text": [
            "wife\n"
          ],
          "name": "stdout"
        },
        {
          "output_type": "stream",
          "text": [
            "/usr/local/lib/python3.6/dist-packages/transformers/tokenization_utils_base.py:1770: FutureWarning: The `pad_to_max_length` argument is deprecated and will be removed in a future version, use `padding=True` or `padding='longest'` to pad to the longest sequence in the batch, or use `padding='max_length'` to pad to a max length. In this case, you can give a specific length with `max_length` (e.g. `max_length=45`) or leave max_length to None to pad to the maximal input size of the model (e.g. 512 for Bert).\n",
            "  FutureWarning,\n"
          ],
          "name": "stderr"
        }
      ]
    },
    {
      "cell_type": "code",
      "metadata": {
        "id": "3xEFmfeX1qDs",
        "colab_type": "code",
        "colab": {}
      },
      "source": [
        ""
      ],
      "execution_count": null,
      "outputs": []
    }
  ]
}