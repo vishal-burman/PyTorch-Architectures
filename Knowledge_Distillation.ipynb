{
  "nbformat": 4,
  "nbformat_minor": 0,
  "metadata": {
    "colab": {
      "name": "Knowledge_Distillation.ipynb",
      "provenance": [],
      "collapsed_sections": [],
      "authorship_tag": "ABX9TyP8ZBIC4F3CgcVbZw4520eO",
      "include_colab_link": true
    },
    "kernelspec": {
      "name": "python3",
      "display_name": "Python 3"
    }
  },
  "cells": [
    {
      "cell_type": "markdown",
      "metadata": {
        "id": "view-in-github",
        "colab_type": "text"
      },
      "source": [
        "<a href=\"https://colab.research.google.com/github/vishal-burman/PyTorch-Architectures/blob/master/Knowledge_Distillation.ipynb\" target=\"_parent\"><img src=\"https://colab.research.google.com/assets/colab-badge.svg\" alt=\"Open In Colab\"/></a>"
      ]
    },
    {
      "cell_type": "code",
      "metadata": {
        "id": "zTadUnQPtoDF"
      },
      "source": [
        "import torch\n",
        "import torch.nn as nn\n",
        "import torch.nn.functional as F\n",
        "from torch.utils.data import Dataset, DataLoader\n",
        "from torchvision import datasets, transforms\n",
        "device = torch.device(\"cuda:0\" if torch.cuda.is_available() else \"cpu\")"
      ],
      "execution_count": null,
      "outputs": []
    },
    {
      "cell_type": "code",
      "metadata": {
        "id": "hZjCtwhbLhf9"
      },
      "source": [
        "batch_size = 64\n",
        "train_dataset = datasets.MNIST(root='data', \n",
        "                               train=True, \n",
        "                               transform=transforms.ToTensor(),\n",
        "                               download=True)\n",
        "\n",
        "test_dataset = datasets.MNIST(root='data', \n",
        "                              train=False, \n",
        "                              transform=transforms.ToTensor())\n",
        "\n",
        "\n",
        "train_loader = DataLoader(dataset=train_dataset, \n",
        "                          batch_size=batch_size, \n",
        "                          shuffle=True)\n",
        "\n",
        "test_loader = DataLoader(dataset=test_dataset, \n",
        "                         batch_size=batch_size, \n",
        "                         shuffle=False)"
      ],
      "execution_count": 56,
      "outputs": []
    },
    {
      "cell_type": "code",
      "metadata": {
        "id": "HTyo36hhukih"
      },
      "source": [
        "# Create the teacher\n",
        "class Teacher(nn.Module):\n",
        "  def __init__(self, num_classes=10):\n",
        "    super(Teacher, self).__init__()\n",
        "    # input_shape ~ [batch_size, 1, 28, 28]\n",
        "    # shape ~ [batch_size, 256, 14, 14]\n",
        "    self.conv_1 = nn.Conv2d(in_channels=1, out_channels=256, kernel_size=(3, 3), stride=(2, 2), padding=(1, 1))\n",
        "    # shape ~ [batch_size, 256, 14, 14]\n",
        "    self.lr_1 = nn.LeakyReLU(inplace=True)\n",
        "    # shape ~ [batch_size, 256, 15, 15]\n",
        "    self.pool_1 = nn.MaxPool2d(kernel_size=(2, 2), stride=(1, 1), padding=(1, 1))\n",
        "    # shape ~ [batch_size, 512, 8, 8]\n",
        "    self.conv_2 = nn.Conv2d(in_channels=256, out_channels=512, kernel_size=(3, 3), stride=(2, 2), padding=(1, 1))\n",
        "    # shape ~ [batch_size, 10]\n",
        "    self.lin_1 = nn.Linear(in_features=512 * 8 * 8, out_features=10)\n",
        "\n",
        "  def forward(self, x):\n",
        "    x = self.conv_1(x)\n",
        "    x = F.leaky_relu(x)\n",
        "    x = self.pool_1(x)\n",
        "    x = self.conv_2(x)\n",
        "    x = self.x.view(x.size(0), -1)\n",
        "    x = self.lin_1(x)\n",
        "    return x"
      ],
      "execution_count": 55,
      "outputs": []
    },
    {
      "cell_type": "code",
      "metadata": {
        "id": "fUcz7icbGMB4"
      },
      "source": [
        "# Create the student\n",
        "student = nn.Sequential(\n",
        "    # input_shape ~ [batch_size, 1, 28, 28]\n",
        "    nn.Conv2d(in_channels=1, out_channels=16, kernel_size=(3, 3), stride=(2, 2), padding=(1, 1)),\n",
        "    nn.LeakyReLU(inplace=True),\n",
        "    nn.MaxPool2d(kernel_size=(2, 2), stride=(1, 1), padding=(1, 1)),\n",
        "    nn.Conv2d(in_channels=16, out_channels=32, kernel_size=(3, 3), stride=(2, 2), padding=(1, 1)),\n",
        "    nn.Flatten(),\n",
        "    nn.Linear(in_features=32 * 8 * 8, out_features=10)\n",
        ")"
      ],
      "execution_count": null,
      "outputs": []
    },
    {
      "cell_type": "code",
      "metadata": {
        "id": "knQj3hlrJfX6",
        "outputId": "b66d28c0-ca5b-46ed-b1ea-d9083efc5bc5",
        "colab": {
          "base_uri": "https://localhost:8080/",
          "height": 50
        }
      },
      "source": [
        "teacher = Teacher(num_classes=10)\n",
        "student = student.to(device)\n",
        "teacher = teacher.to(device)\n",
        "total_params_t = sum(p.numel() for p in teacher.parameters())\n",
        "total_params_s = sum(p.numel() for p in student.parameters())\n",
        "print(\"Total Parameters in Teacher: \", total_params_t)\n",
        "print(\"Total Parameters in Student: \", total_params_s)"
      ],
      "execution_count": 57,
      "outputs": [
        {
          "output_type": "stream",
          "text": [
            "Total Parameters in Teacher:  1510410\n",
            "Total Parameters in Student:  25290\n"
          ],
          "name": "stdout"
        }
      ]
    },
    {
      "cell_type": "code",
      "metadata": {
        "id": "1gjgZDN3NV9l"
      },
      "source": [
        ""
      ],
      "execution_count": null,
      "outputs": []
    }
  ]
}