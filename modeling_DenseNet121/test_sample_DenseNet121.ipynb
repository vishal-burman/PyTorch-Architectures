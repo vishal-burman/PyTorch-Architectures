{
  "nbformat": 4,
  "nbformat_minor": 0,
  "metadata": {
    "colab": {
      "name": "test_sample_DenseNet121.ipynb",
      "provenance": [],
      "collapsed_sections": [],
      "authorship_tag": "ABX9TyNi9ai4KJZucMFzcfa9K0wh",
      "include_colab_link": true
    },
    "kernelspec": {
      "name": "python3",
      "display_name": "Python 3"
    },
    "accelerator": "GPU"
  },
  "cells": [
    {
      "cell_type": "markdown",
      "metadata": {
        "id": "view-in-github",
        "colab_type": "text"
      },
      "source": [
        "<a href=\"https://colab.research.google.com/github/vishal-burman/PyTorch-Architectures/blob/master/modeling_DenseNet121/test_sample_DenseNet121.ipynb\" target=\"_parent\"><img src=\"https://colab.research.google.com/assets/colab-badge.svg\" alt=\"Open In Colab\"/></a>"
      ]
    },
    {
      "cell_type": "code",
      "metadata": {
        "id": "bZIi9a6MKiqN"
      },
      "source": [
        "! git clone https://github.com/vishal-burman/PyTorch-Architectures.git"
      ],
      "execution_count": null,
      "outputs": []
    },
    {
      "cell_type": "code",
      "metadata": {
        "colab": {
          "base_uri": "https://localhost:8080/"
        },
        "id": "HV18Ma35KiS3",
        "outputId": "682be86b-93a5-432d-994e-1aafedaa69bc"
      },
      "source": [
        "%cd PyTorch-Architectures/modeling_DenseNet121/"
      ],
      "execution_count": null,
      "outputs": [
        {
          "output_type": "stream",
          "text": [
            "/content/PyTorch-Architectures/modeling_DenseNet121\n"
          ],
          "name": "stdout"
        }
      ]
    },
    {
      "cell_type": "code",
      "metadata": {
        "id": "e08eDVJhUBKz"
      },
      "source": [
        "import os\n",
        "import time\n",
        "import torch\n",
        "import torch.nn as nn\n",
        "import torch.nn.functional as F\n",
        "from torch.utils.data import DataLoader\n",
        "from torch.utils.data.dataset import Subset\n",
        "\n",
        "from torchvision import datasets\n",
        "from torchvision import transforms\n",
        "\n",
        "from model import DenseNet121\n",
        "\n",
        "if torch.cuda.is_available():\n",
        "  torch.backends.cudnn.deterministic = True"
      ],
      "execution_count": 11,
      "outputs": []
    },
    {
      "cell_type": "code",
      "metadata": {
        "id": "WSKqwF2wUgqu"
      },
      "source": [
        "###################\n",
        "# Model Settings\n",
        "###################\n",
        "\n",
        "# Hyperparameters\n",
        "RANDOM_SEED = 1\n",
        "LEARNING_RATE = 0.001\n",
        "BATCH_SIZE = 128\n",
        "NUM_EPOCHS = 20\n",
        "\n",
        "# Architecture\n",
        "NUM_CLASSES = 10\n",
        "\n",
        "# Other\n",
        "device = torch.device(\"cuda:0\" if torch.cuda.is_available() else \"cpu\")\n",
        "grayscale = False"
      ],
      "execution_count": null,
      "outputs": []
    },
    {
      "cell_type": "code",
      "metadata": {
        "id": "Ly631DL-U7w5"
      },
      "source": [
        "####################\n",
        "# CIFAR-10 Dataset\n",
        "####################\n",
        "\n",
        "# training samples ~ 48000 samples\n",
        "train_indices = torch.arange(0, 48000)\n",
        "# validation samples ~ 2000 samples\n",
        "valid_indices = torch.arange(48000, 50000)\n",
        "\n",
        "train_and_valid = datasets.CIFAR10(root='data',\n",
        "                                   train=True,\n",
        "                                   transform=transforms.ToTensor(),\n",
        "                                   download=True)\n",
        "\n",
        "train_dataset = Subset(train_and_valid, train_indices)\n",
        "valid_dataset = Subset(train_and_valid, valid_indices)\n",
        "test_dataset = datasets.CIFAR10(root=\"data\",\n",
        "                                train=False,\n",
        "                                transform=transforms.ToTensor(),\n",
        "                                download=False)\n",
        "\n",
        "train_loader = DataLoader(dataset=train_dataset,\n",
        "                          batch_size=BATCH_SIZE,\n",
        "                          num_workers=4,\n",
        "                          shuffle=True)\n",
        "\n",
        "valid_loader = DataLoader(dataset=valid_dataset,\n",
        "                          batch_size=BATCH_SIZE,\n",
        "                          num_workers=4,\n",
        "                          shuffle=False)\n",
        "\n",
        "test_loader = DataLoader(dataset=test_dataset,\n",
        "                         batch_size=BATCH_SIZE,\n",
        "                         num_workers=4,\n",
        "                         shuffle=False)"
      ],
      "execution_count": null,
      "outputs": []
    },
    {
      "cell_type": "code",
      "metadata": {
        "id": "pVh2vtQkWx4x",
        "colab": {
          "base_uri": "https://localhost:8080/"
        },
        "outputId": "8339e55c-2d82-4394-dfb3-fe8a463fc7ac"
      },
      "source": [
        "# Sanity check the loaders\n",
        "torch.manual_seed(0)\n",
        "\n",
        "for epoch in range(2):\n",
        "  for batch_idx, (features, label) in enumerate(train_loader):\n",
        "\n",
        "    print(\"Epoch: %d | Batch: %d | Batch Size: %d\" % (epoch+1, batch_idx, label.size()[0]))\n",
        "\n",
        "    features = features.to(device)\n",
        "    label = label.to(device)\n",
        "    break"
      ],
      "execution_count": null,
      "outputs": [
        {
          "output_type": "stream",
          "text": [
            "Epoch: 1 | Batch: 0 | Batch Size: 128\n",
            "Epoch: 2 | Batch: 0 | Batch Size: 128\n"
          ],
          "name": "stdout"
        }
      ]
    },
    {
      "cell_type": "code",
      "metadata": {
        "id": "ZacC1dbnX-Zu",
        "colab": {
          "base_uri": "https://localhost:8080/"
        },
        "outputId": "e0c3a0fc-a6dc-43ec-9181-c26d17f02c93"
      },
      "source": [
        "# Sanity check shuffling\n",
        "# label indices should be in different order\n",
        "# label order should be different in second epoch\n",
        "for images, labels in train_loader:\n",
        "  pass\n",
        "print(labels[:10])\n",
        "\n",
        "for images, labels in train_loader:\n",
        "  pass\n",
        "print(labels[:10])"
      ],
      "execution_count": null,
      "outputs": [
        {
          "output_type": "stream",
          "text": [
            "tensor([3, 0, 5, 4, 8, 2, 1, 7, 5, 4])\n",
            "tensor([5, 9, 3, 0, 6, 4, 7, 2, 2, 1])\n"
          ],
          "name": "stdout"
        }
      ]
    },
    {
      "cell_type": "code",
      "metadata": {
        "id": "SMoEBXVvYx19",
        "colab": {
          "base_uri": "https://localhost:8080/"
        },
        "outputId": "71dbdf68-2e47-498b-d0dc-98e2077374aa"
      },
      "source": [
        "# Sanity check ~ validation and test set should be diverse\n",
        "# ~ should contain all classes\n",
        "\n",
        "for images, labels in valid_loader:\n",
        "  pass\n",
        "print(labels[:10])\n",
        "\n",
        "for images, labels in test_loader:\n",
        "  pass\n",
        "print(labels[:10])"
      ],
      "execution_count": null,
      "outputs": [
        {
          "output_type": "stream",
          "text": [
            "tensor([5, 0, 3, 6, 8, 7, 9, 5, 6, 6])\n",
            "tensor([7, 5, 8, 0, 8, 2, 7, 0, 3, 5])\n"
          ],
          "name": "stdout"
        }
      ]
    },
    {
      "cell_type": "code",
      "metadata": {
        "id": "P7ORA1796Jgo"
      },
      "source": [
        "torch.manual_seed(RANDOM_SEED)\n",
        "model = DenseNet121(num_classes=NUM_CLASSES, grayscale=grayscale).to(device)\n",
        "\n",
        "optimizer = torch.optim.AdamW(model.parameters(), lr=LEARNING_RATE)"
      ],
      "execution_count": 13,
      "outputs": []
    },
    {
      "cell_type": "code",
      "metadata": {
        "id": "VPM9niZf6Hmn"
      },
      "source": [
        "# Training\n",
        "def compute_accuracy(model, data_loader, device):\n",
        "  correct_pred, num_examples = 0., 0\n",
        "  model.eval()\n",
        "  for i, (features, targets) in enumerate(data_loader):\n",
        "\n",
        "    features = features.to(device)\n",
        "    targets = targets.to(device)\n",
        "\n",
        "    logits, probas = model(features)\n",
        "    _, predicted_labels = torch.max(probas, 1)\n",
        "    num_examples += targets.size(0)\n",
        "    assert predicted_labels.size() == targets.size()\n",
        "\n",
        "    correct_pred += (predicted_labels==targets).sum()\n",
        "  return correct_pred / num_examples * 100"
      ],
      "execution_count": 14,
      "outputs": []
    },
    {
      "cell_type": "code",
      "metadata": {
        "id": "L7NH4mTC6C8j",
        "colab": {
          "base_uri": "https://localhost:8080/"
        },
        "outputId": "a60d9a96-1c65-48d2-8b42-e3b34d90c299"
      },
      "source": [
        "start_time = time.time()\n",
        "\n",
        "for epoch in range(NUM_EPOCHS):\n",
        "  model.train()\n",
        "  \n",
        "  for batch_idx, (features, targets) in enumerate(train_loader):\n",
        "\n",
        "    features = features.to(device)\n",
        "    targets = targets.to(device)\n",
        "\n",
        "    # FORWARD & BACKPROP\n",
        "    logits, probas = model(features)\n",
        "    cost = F.cross_entropy(logits, targets)\n",
        "    optimizer.zero_grad()\n",
        "\n",
        "    cost.backward()\n",
        "\n",
        "    # UPDATE MODEL PARAMETERS\n",
        "    optimizer.step()\n",
        "\n",
        "    if batch_idx % 150 == 0:\n",
        "      print(\"Batch: %04d/%04d || Epoch: %04d/%04d || Cost: %.3f\" % (batch_idx, len(train_loader), epoch+1, NUM_EPOCHS, cost.item()))\n",
        "    \n",
        "  model.eval()\n",
        "  with torch.set_grad_enabled(False):\n",
        "    train_acc = compute_accuracy(model, train_loader, device)\n",
        "    valid_acc = compute_accuracy(model, valid_loader, device)\n",
        "\n",
        "    print(\"Train Accuracy: %.2f\" % (train_acc))\n",
        "    print(\"Valid Accuracy: %.2f\" % (valid_acc))\n",
        "  elapsed_time = (time.time() - start_time) / 60\n",
        "  print(\"Epoch Elapsed Time: \", elapsed_time, \" mins\")\n",
        "elapsed_time = (time.time() - start_time) / 60\n",
        "print(\"Total Training Time: \", elapsed_time, \" mins\")"
      ],
      "execution_count": 15,
      "outputs": [
        {
          "output_type": "stream",
          "text": [
            "Batch: 0000/0375 || Epoch: 0001/0020 || Cost: 2.337\n",
            "Batch: 0150/0375 || Epoch: 0001/0020 || Cost: 1.527\n",
            "Batch: 0300/0375 || Epoch: 0001/0020 || Cost: 1.262\n",
            "Train Accuracy: 58.92\n",
            "Valid Accuracy: 57.15\n",
            "Epoch Elapsed Time:  0.9925715287526449  mins\n",
            "Batch: 0000/0375 || Epoch: 0002/0020 || Cost: 1.101\n",
            "Batch: 0150/0375 || Epoch: 0002/0020 || Cost: 0.997\n",
            "Batch: 0300/0375 || Epoch: 0002/0020 || Cost: 0.851\n",
            "Train Accuracy: 66.61\n",
            "Valid Accuracy: 65.20\n",
            "Epoch Elapsed Time:  2.0043345212936403  mins\n",
            "Batch: 0000/0375 || Epoch: 0003/0020 || Cost: 0.844\n",
            "Batch: 0150/0375 || Epoch: 0003/0020 || Cost: 0.683\n",
            "Batch: 0300/0375 || Epoch: 0003/0020 || Cost: 0.902\n",
            "Train Accuracy: 61.20\n",
            "Valid Accuracy: 59.60\n",
            "Epoch Elapsed Time:  3.035874553521474  mins\n",
            "Batch: 0000/0375 || Epoch: 0004/0020 || Cost: 0.587\n",
            "Batch: 0150/0375 || Epoch: 0004/0020 || Cost: 0.620\n",
            "Batch: 0300/0375 || Epoch: 0004/0020 || Cost: 0.717\n",
            "Train Accuracy: 76.72\n",
            "Valid Accuracy: 70.60\n",
            "Epoch Elapsed Time:  4.07206107378006  mins\n",
            "Batch: 0000/0375 || Epoch: 0005/0020 || Cost: 0.418\n",
            "Batch: 0150/0375 || Epoch: 0005/0020 || Cost: 0.556\n",
            "Batch: 0300/0375 || Epoch: 0005/0020 || Cost: 0.494\n",
            "Train Accuracy: 79.66\n",
            "Valid Accuracy: 71.80\n",
            "Epoch Elapsed Time:  5.098853890101115  mins\n",
            "Batch: 0000/0375 || Epoch: 0006/0020 || Cost: 0.489\n",
            "Batch: 0150/0375 || Epoch: 0006/0020 || Cost: 0.569\n",
            "Batch: 0300/0375 || Epoch: 0006/0020 || Cost: 0.573\n",
            "Train Accuracy: 82.41\n",
            "Valid Accuracy: 73.15\n",
            "Epoch Elapsed Time:  6.123202848434448  mins\n",
            "Batch: 0000/0375 || Epoch: 0007/0020 || Cost: 0.438\n",
            "Batch: 0150/0375 || Epoch: 0007/0020 || Cost: 0.565\n",
            "Batch: 0300/0375 || Epoch: 0007/0020 || Cost: 0.425\n",
            "Train Accuracy: 84.84\n",
            "Valid Accuracy: 72.45\n",
            "Epoch Elapsed Time:  7.151154871781667  mins\n",
            "Batch: 0000/0375 || Epoch: 0008/0020 || Cost: 0.235\n",
            "Batch: 0150/0375 || Epoch: 0008/0020 || Cost: 0.203\n",
            "Batch: 0300/0375 || Epoch: 0008/0020 || Cost: 0.286\n",
            "Train Accuracy: 84.89\n",
            "Valid Accuracy: 72.70\n",
            "Epoch Elapsed Time:  8.143111526966095  mins\n",
            "Batch: 0000/0375 || Epoch: 0009/0020 || Cost: 0.335\n",
            "Batch: 0150/0375 || Epoch: 0009/0020 || Cost: 0.202\n",
            "Batch: 0300/0375 || Epoch: 0009/0020 || Cost: 0.444\n",
            "Train Accuracy: 90.44\n",
            "Valid Accuracy: 75.90\n",
            "Epoch Elapsed Time:  9.146068958441417  mins\n",
            "Batch: 0000/0375 || Epoch: 0010/0020 || Cost: 0.138\n",
            "Batch: 0150/0375 || Epoch: 0010/0020 || Cost: 0.185\n",
            "Batch: 0300/0375 || Epoch: 0010/0020 || Cost: 0.187\n",
            "Train Accuracy: 92.74\n",
            "Valid Accuracy: 76.90\n",
            "Epoch Elapsed Time:  10.159886872768402  mins\n",
            "Batch: 0000/0375 || Epoch: 0011/0020 || Cost: 0.117\n",
            "Batch: 0150/0375 || Epoch: 0011/0020 || Cost: 0.237\n",
            "Batch: 0300/0375 || Epoch: 0011/0020 || Cost: 0.376\n",
            "Train Accuracy: 92.45\n",
            "Valid Accuracy: 75.80\n",
            "Epoch Elapsed Time:  11.16710186402003  mins\n",
            "Batch: 0000/0375 || Epoch: 0012/0020 || Cost: 0.094\n",
            "Batch: 0150/0375 || Epoch: 0012/0020 || Cost: 0.165\n",
            "Batch: 0300/0375 || Epoch: 0012/0020 || Cost: 0.118\n",
            "Train Accuracy: 94.19\n",
            "Valid Accuracy: 77.20\n",
            "Epoch Elapsed Time:  12.16644681294759  mins\n",
            "Batch: 0000/0375 || Epoch: 0013/0020 || Cost: 0.292\n",
            "Batch: 0150/0375 || Epoch: 0013/0020 || Cost: 0.070\n",
            "Batch: 0300/0375 || Epoch: 0013/0020 || Cost: 0.251\n",
            "Train Accuracy: 95.70\n",
            "Valid Accuracy: 76.65\n",
            "Epoch Elapsed Time:  13.195598963896433  mins\n",
            "Batch: 0000/0375 || Epoch: 0014/0020 || Cost: 0.060\n",
            "Batch: 0150/0375 || Epoch: 0014/0020 || Cost: 0.078\n",
            "Batch: 0300/0375 || Epoch: 0014/0020 || Cost: 0.128\n",
            "Train Accuracy: 94.41\n",
            "Valid Accuracy: 76.85\n",
            "Epoch Elapsed Time:  14.192219658692677  mins\n",
            "Batch: 0000/0375 || Epoch: 0015/0020 || Cost: 0.121\n",
            "Batch: 0150/0375 || Epoch: 0015/0020 || Cost: 0.064\n",
            "Batch: 0300/0375 || Epoch: 0015/0020 || Cost: 0.087\n",
            "Train Accuracy: 95.48\n",
            "Valid Accuracy: 76.20\n",
            "Epoch Elapsed Time:  15.22150668700536  mins\n",
            "Batch: 0000/0375 || Epoch: 0016/0020 || Cost: 0.080\n",
            "Batch: 0150/0375 || Epoch: 0016/0020 || Cost: 0.027\n",
            "Batch: 0300/0375 || Epoch: 0016/0020 || Cost: 0.111\n",
            "Train Accuracy: 91.91\n",
            "Valid Accuracy: 74.20\n",
            "Epoch Elapsed Time:  16.24054278532664  mins\n",
            "Batch: 0000/0375 || Epoch: 0017/0020 || Cost: 0.172\n",
            "Batch: 0150/0375 || Epoch: 0017/0020 || Cost: 0.105\n",
            "Batch: 0300/0375 || Epoch: 0017/0020 || Cost: 0.144\n",
            "Train Accuracy: 95.48\n",
            "Valid Accuracy: 76.30\n",
            "Epoch Elapsed Time:  17.28549750248591  mins\n",
            "Batch: 0000/0375 || Epoch: 0018/0020 || Cost: 0.064\n",
            "Batch: 0150/0375 || Epoch: 0018/0020 || Cost: 0.053\n",
            "Batch: 0300/0375 || Epoch: 0018/0020 || Cost: 0.110\n",
            "Train Accuracy: 97.26\n",
            "Valid Accuracy: 78.90\n",
            "Epoch Elapsed Time:  18.310938636461895  mins\n",
            "Batch: 0000/0375 || Epoch: 0019/0020 || Cost: 0.027\n",
            "Batch: 0150/0375 || Epoch: 0019/0020 || Cost: 0.044\n",
            "Batch: 0300/0375 || Epoch: 0019/0020 || Cost: 0.062\n",
            "Train Accuracy: 94.60\n",
            "Valid Accuracy: 75.80\n",
            "Epoch Elapsed Time:  19.33152067263921  mins\n",
            "Batch: 0000/0375 || Epoch: 0020/0020 || Cost: 0.124\n",
            "Batch: 0150/0375 || Epoch: 0020/0020 || Cost: 0.069\n",
            "Batch: 0300/0375 || Epoch: 0020/0020 || Cost: 0.097\n",
            "Train Accuracy: 93.53\n",
            "Valid Accuracy: 75.80\n",
            "Epoch Elapsed Time:  20.372867012023924  mins\n",
            "Total Training Time:  20.372873961925507  mins\n"
          ],
          "name": "stdout"
        }
      ]
    },
    {
      "cell_type": "code",
      "metadata": {
        "id": "8spxxFjysa_F",
        "colab": {
          "base_uri": "https://localhost:8080/"
        },
        "outputId": "0d026a07-ea35-4b56-bec7-bfe328a000d2"
      },
      "source": [
        "# Testing Set\n",
        "model.eval()\n",
        "with torch.set_grad_enabled(False):\n",
        "  test_acc = compute_accuracy(model, test_loader, device)\n",
        "  print(\"Test Accuracy: %.2f\" % (test_acc.item()))"
      ],
      "execution_count": 16,
      "outputs": [
        {
          "output_type": "stream",
          "text": [
            "Test Accuracy: 73.53\n"
          ],
          "name": "stdout"
        }
      ]
    },
    {
      "cell_type": "code",
      "metadata": {
        "id": "NAbNAVVl0V_6"
      },
      "source": [
        ""
      ],
      "execution_count": null,
      "outputs": []
    }
  ]
}