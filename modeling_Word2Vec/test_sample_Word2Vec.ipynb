{
  "nbformat": 4,
  "nbformat_minor": 0,
  "metadata": {
    "colab": {
      "name": "test_sample_Word2Vec.ipynb",
      "provenance": [],
      "collapsed_sections": [],
      "authorship_tag": "ABX9TyM0mHK7u+mkFPxarincyrhK",
      "include_colab_link": true
    },
    "kernelspec": {
      "name": "python3",
      "display_name": "Python 3"
    },
    "accelerator": "GPU"
  },
  "cells": [
    {
      "cell_type": "markdown",
      "metadata": {
        "id": "view-in-github",
        "colab_type": "text"
      },
      "source": [
        "<a href=\"https://colab.research.google.com/github/vishal-burman/PyTorch-Architectures/blob/master/modeling_Word2Vec/test_sample_Word2Vec.ipynb\" target=\"_parent\"><img src=\"https://colab.research.google.com/assets/colab-badge.svg\" alt=\"Open In Colab\"/></a>"
      ]
    },
    {
      "cell_type": "code",
      "metadata": {
        "id": "8AeNBcSor2UN"
      },
      "source": [
        "! pip install datasets\r\n",
        "! git clone https://github.com/vishal-burman/PyTorch-Architectures.git"
      ],
      "execution_count": null,
      "outputs": []
    },
    {
      "cell_type": "code",
      "metadata": {
        "id": "PD3AJSPGuFJJ",
        "colab": {
          "base_uri": "https://localhost:8080/"
        },
        "outputId": "a2a1ed21-043e-4702-df65-aa427cf4a787"
      },
      "source": [
        "%cd PyTorch-Architectures/modeling_Word2Vec/"
      ],
      "execution_count": 1,
      "outputs": [
        {
          "output_type": "stream",
          "text": [
            "/content/PyTorch-Architectures/modeling_Word2Vec\n"
          ],
          "name": "stdout"
        }
      ]
    },
    {
      "cell_type": "code",
      "metadata": {
        "id": "Jq16j9GVuVN9",
        "colab": {
          "base_uri": "https://localhost:8080/"
        },
        "outputId": "3b3b9262-419e-4d78-e612-649c1fc6a0f9"
      },
      "source": [
        "import time\r\n",
        "import random\r\n",
        "import matplotlib.pyplot as plt\r\n",
        "import torch\r\n",
        "import torch.nn as nn\r\n",
        "import torch.nn.functional as F\r\n",
        "from torch.utils.data import Dataset, DataLoader\r\n",
        "from datasets import load_dataset\r\n",
        "from model import Word2Vec\r\n",
        "\r\n",
        "dataset = load_dataset('quora')"
      ],
      "execution_count": 14,
      "outputs": [
        {
          "output_type": "stream",
          "text": [
            "Using custom data configuration default\n",
            "Reusing dataset quora (/root/.cache/huggingface/datasets/quora/default/0.0.0/2be517cf0ac6de94b77a103a36b141347a13f40637fbebaccb56ddbe397876be)\n"
          ],
          "name": "stderr"
        }
      ]
    },
    {
      "cell_type": "code",
      "metadata": {
        "colab": {
          "base_uri": "https://localhost:8080/"
        },
        "id": "sVH7cmq24VG6",
        "outputId": "d0f62bcd-3a67-4514-915b-983647c0d09d"
      },
      "source": [
        "sentences = []\r\n",
        "for sample in dataset['train']:\r\n",
        "  if len(sentences) == 1000:\r\n",
        "    break\r\n",
        "  sentences.append(sample['questions']['text'][0].lower())\r\n",
        "\r\n",
        "word_sequence = ' '.join(sentences).split()\r\n",
        "word_list = ' '.join(sentences).split()\r\n",
        "word_list = list(set(word_list))\r\n",
        "word_dict = {w: i for i, w in enumerate(word_list)}\r\n",
        "print('Vocabulary Size: ', len(word_list))"
      ],
      "execution_count": 3,
      "outputs": [
        {
          "output_type": "stream",
          "text": [
            "Vocabulary Size:  3395\n"
          ],
          "name": "stdout"
        }
      ]
    },
    {
      "cell_type": "code",
      "metadata": {
        "colab": {
          "base_uri": "https://localhost:8080/"
        },
        "id": "rr9LUozm5IOE",
        "outputId": "398c598f-969e-4bfd-e48f-814f19ccd8dc"
      },
      "source": [
        "skip_grams = []\r\n",
        "for i in range(1, len(word_sequence) - 1):\r\n",
        "  target = word_dict[word_sequence[i]]\r\n",
        "  context = [word_dict[word_sequence[i-1]], word_dict[word_sequence[i+1]]]\r\n",
        "  for w in context:\r\n",
        "    skip_grams.append([target, w])\r\n",
        "\r\n",
        "random.shuffle(skip_grams)\r\n",
        "print('Number of Skip-Grams: ', len(skip_grams))"
      ],
      "execution_count": 4,
      "outputs": [
        {
          "output_type": "stream",
          "text": [
            "Number of Skip-Grams:  21350\n"
          ],
          "name": "stdout"
        }
      ]
    },
    {
      "cell_type": "code",
      "metadata": {
        "colab": {
          "base_uri": "https://localhost:8080/"
        },
        "id": "FAlMjesGGaX6",
        "outputId": "5905fff4-ad02-4baa-8ffe-913f72262796"
      },
      "source": [
        "split = 90 * len(skip_grams) // 100\r\n",
        "train_skip_grams = skip_grams[:split]\r\n",
        "valid_skip_grams = skip_grams[split:]\r\n",
        "print('Train Skip-Grams: ', len(train_skip_grams))\r\n",
        "print('Valid Skip-Grams: ', len(valid_skip_grams))"
      ],
      "execution_count": 5,
      "outputs": [
        {
          "output_type": "stream",
          "text": [
            "Train Skip-Grams:  19215\n",
            "Valid Skip-Grams:  2135\n"
          ],
          "name": "stdout"
        }
      ]
    },
    {
      "cell_type": "code",
      "metadata": {
        "id": "my0GAIht51uf"
      },
      "source": [
        "class CustomDataset(Dataset):\r\n",
        "  def __init__(self, skip_grams, voc_size):\r\n",
        "    self.skip_grams = skip_grams\r\n",
        "    self.voc_size = voc_size\r\n",
        "    self.eye = torch.eye(self.voc_size)\r\n",
        "  \r\n",
        "  def __len__(self):\r\n",
        "    return len(self.skip_grams)\r\n",
        "  \r\n",
        "  def __getitem__(self, idx):\r\n",
        "    random_inputs = self.eye[skip_grams[idx][0]]\r\n",
        "    random_labels = torch.tensor(skip_grams[idx][1])\r\n",
        "    return random_inputs, random_labels"
      ],
      "execution_count": 6,
      "outputs": []
    },
    {
      "cell_type": "code",
      "metadata": {
        "id": "makn1YjSHq3N"
      },
      "source": [
        "# Hyperparameters\r\n",
        "VOCAB_SIZE = len(word_list)\r\n",
        "EMB_SIZE = 2\r\n",
        "BATCH_SIZE = 32\r\n",
        "LEARNING_RATE = 0.001\r\n",
        "EPOCHS = 10"
      ],
      "execution_count": 7,
      "outputs": []
    },
    {
      "cell_type": "code",
      "metadata": {
        "id": "-wmD3yos7ZIg"
      },
      "source": [
        "train_dataset = CustomDataset(train_skip_grams, voc_size=VOCAB_SIZE)\r\n",
        "valid_dataset = CustomDataset(valid_skip_grams, voc_size=VOCAB_SIZE)"
      ],
      "execution_count": 8,
      "outputs": []
    },
    {
      "cell_type": "code",
      "metadata": {
        "colab": {
          "base_uri": "https://localhost:8080/"
        },
        "id": "Xp9p-mI8E2uV",
        "outputId": "3b1e6907-09fc-465c-ae7f-67aa4bdde7e9"
      },
      "source": [
        "device = torch.device('cuda:0' if torch.cuda.is_available() else 'cpu')\r\n",
        "model = Word2Vec(vocab_size=VOCAB_SIZE, emb_size=EMB_SIZE)\r\n",
        "model.to(device)"
      ],
      "execution_count": 9,
      "outputs": [
        {
          "output_type": "execute_result",
          "data": {
            "text/plain": [
              "Word2Vec(\n",
              "  (W): Linear(in_features=3395, out_features=2, bias=False)\n",
              "  (WT): Linear(in_features=2, out_features=3395, bias=False)\n",
              ")"
            ]
          },
          "metadata": {
            "tags": []
          },
          "execution_count": 9
        }
      ]
    },
    {
      "cell_type": "code",
      "metadata": {
        "colab": {
          "base_uri": "https://localhost:8080/"
        },
        "id": "CJllhHuWIHnd",
        "outputId": "a876e946-e77a-4fb4-f8d9-481840e99c59"
      },
      "source": [
        "train_loader = DataLoader(dataset=train_dataset, batch_size=BATCH_SIZE, shuffle=True)\r\n",
        "valid_loader = DataLoader(dataset=valid_dataset, batch_size=BATCH_SIZE, shuffle=False)\r\n",
        "\r\n",
        "print(\"Length of Train Loader: \", len(train_loader))\r\n",
        "print('Length of Valid Loader: ', len(valid_loader))\r\n",
        "\r\n",
        "# Sanity checks\r\n",
        "for inputs, targets in train_loader:\r\n",
        "  assert inputs.dim() == 2\r\n",
        "  assert inputs.size(1) == VOCAB_SIZE\r\n",
        "  assert targets.size(0) == BATCH_SIZE\r\n",
        "  break"
      ],
      "execution_count": 10,
      "outputs": [
        {
          "output_type": "stream",
          "text": [
            "Length of Train Loader:  601\n",
            "Length of Valid Loader:  67\n"
          ],
          "name": "stdout"
        }
      ]
    },
    {
      "cell_type": "code",
      "metadata": {
        "id": "nYuZA_ZmI0Qf"
      },
      "source": [
        "optimizer = torch.optim.AdamW(model.parameters(), lr=LEARNING_RATE)"
      ],
      "execution_count": 11,
      "outputs": []
    },
    {
      "cell_type": "code",
      "metadata": {
        "colab": {
          "base_uri": "https://localhost:8080/"
        },
        "id": "YqQDEpjYJSvm",
        "outputId": "26401bf9-160f-4bc4-80d3-2a049abcba30"
      },
      "source": [
        "def compute_loss(model, data_loader, device):\r\n",
        "  loss_list = []\r\n",
        "  with torch.set_grad_enabled(False):\r\n",
        "    for (inputs, targets) in data_loader:\r\n",
        "      inputs = inputs.to(device)\r\n",
        "      targets = targets.to(device)\r\n",
        "      logits = model(inputs)\r\n",
        "\r\n",
        "      loss = F.cross_entropy(logits, targets)\r\n",
        "      loss_list.append(loss.item())\r\n",
        "  return torch.tensor(loss_list).mean()\r\n",
        "\r\n",
        "start_time = time.time()\r\n",
        "for epoch in range(EPOCHS):\r\n",
        "  model.train()\r\n",
        "  for batch_idx, (inputs, targets) in enumerate(train_loader):\r\n",
        "    inputs = inputs.to(device)\r\n",
        "    targets = targets.to(device)\r\n",
        "    logits = model(inputs)\r\n",
        "    loss = F.cross_entropy(logits, targets)\r\n",
        "\r\n",
        "    optimizer.zero_grad()\r\n",
        "    loss.backward()\r\n",
        "    optimizer.step()\r\n",
        "    \r\n",
        "    # LOGGING\r\n",
        "    if batch_idx % 200 == 0:\r\n",
        "      print('Epoch: %04d/%04d || Batch: %04d/%04d || Loss: %.2f' % (epoch+1, EPOCHS, batch_idx, len(train_loader), loss.item()))\r\n",
        "  \r\n",
        "  model.eval()\r\n",
        "  with torch.set_grad_enabled(False):\r\n",
        "    train_loss = compute_loss(model, train_loader, device)\r\n",
        "    valid_loss = compute_loss(model, valid_loader, device)\r\n",
        "    print('Train Loss: %.2f' % (train_loss.item()))\r\n",
        "    print('Valid Loss: %.2f' % (valid_loss.item()))\r\n",
        "  epoch_elapsed_time = (time.time() - start_time) / 60\r\n",
        "  print('Epoch elapsed time: %.2f min' % (epoch_elapsed_time))\r\n",
        "total_training_time = (time.time() - start_time) / 60\r\n",
        "print('Total training time: %.2f min' % (total_training_time))"
      ],
      "execution_count": 12,
      "outputs": [
        {
          "output_type": "stream",
          "text": [
            "Epoch: 0001/0010 || Batch: 0000/0601 || Loss: 8.13\n",
            "Epoch: 0001/0010 || Batch: 0200/0601 || Loss: 8.12\n",
            "Epoch: 0001/0010 || Batch: 0400/0601 || Loss: 8.13\n",
            "Epoch: 0001/0010 || Batch: 0600/0601 || Loss: 8.11\n",
            "Train Loss: 8.09\n",
            "Valid Loss: 8.09\n",
            "Epoch elapsed time: 0.02 min\n",
            "Epoch: 0002/0010 || Batch: 0000/0601 || Loss: 8.12\n",
            "Epoch: 0002/0010 || Batch: 0200/0601 || Loss: 8.06\n",
            "Epoch: 0002/0010 || Batch: 0400/0601 || Loss: 8.02\n",
            "Epoch: 0002/0010 || Batch: 0600/0601 || Loss: 7.95\n",
            "Train Loss: 7.88\n",
            "Valid Loss: 7.87\n",
            "Epoch elapsed time: 0.05 min\n",
            "Epoch: 0003/0010 || Batch: 0000/0601 || Loss: 7.91\n",
            "Epoch: 0003/0010 || Batch: 0200/0601 || Loss: 7.81\n",
            "Epoch: 0003/0010 || Batch: 0400/0601 || Loss: 7.76\n",
            "Epoch: 0003/0010 || Batch: 0600/0601 || Loss: 7.92\n",
            "Train Loss: 7.57\n",
            "Valid Loss: 7.55\n",
            "Epoch elapsed time: 0.07 min\n",
            "Epoch: 0004/0010 || Batch: 0000/0601 || Loss: 7.54\n",
            "Epoch: 0004/0010 || Batch: 0200/0601 || Loss: 7.38\n",
            "Epoch: 0004/0010 || Batch: 0400/0601 || Loss: 7.47\n",
            "Epoch: 0004/0010 || Batch: 0600/0601 || Loss: 7.60\n",
            "Train Loss: 7.31\n",
            "Valid Loss: 7.29\n",
            "Epoch elapsed time: 0.09 min\n",
            "Epoch: 0005/0010 || Batch: 0000/0601 || Loss: 7.07\n",
            "Epoch: 0005/0010 || Batch: 0200/0601 || Loss: 7.36\n",
            "Epoch: 0005/0010 || Batch: 0400/0601 || Loss: 7.22\n",
            "Epoch: 0005/0010 || Batch: 0600/0601 || Loss: 7.30\n",
            "Train Loss: 7.14\n",
            "Valid Loss: 7.11\n",
            "Epoch elapsed time: 0.12 min\n",
            "Epoch: 0006/0010 || Batch: 0000/0601 || Loss: 7.42\n",
            "Epoch: 0006/0010 || Batch: 0200/0601 || Loss: 6.76\n",
            "Epoch: 0006/0010 || Batch: 0400/0601 || Loss: 6.75\n",
            "Epoch: 0006/0010 || Batch: 0600/0601 || Loss: 7.27\n",
            "Train Loss: 7.02\n",
            "Valid Loss: 6.99\n",
            "Epoch elapsed time: 0.14 min\n",
            "Epoch: 0007/0010 || Batch: 0000/0601 || Loss: 7.11\n",
            "Epoch: 0007/0010 || Batch: 0200/0601 || Loss: 6.87\n",
            "Epoch: 0007/0010 || Batch: 0400/0601 || Loss: 7.08\n",
            "Epoch: 0007/0010 || Batch: 0600/0601 || Loss: 6.20\n",
            "Train Loss: 6.93\n",
            "Valid Loss: 6.89\n",
            "Epoch elapsed time: 0.16 min\n",
            "Epoch: 0008/0010 || Batch: 0000/0601 || Loss: 6.81\n",
            "Epoch: 0008/0010 || Batch: 0200/0601 || Loss: 7.14\n",
            "Epoch: 0008/0010 || Batch: 0400/0601 || Loss: 7.44\n",
            "Epoch: 0008/0010 || Batch: 0600/0601 || Loss: 7.58\n",
            "Train Loss: 6.85\n",
            "Valid Loss: 6.81\n",
            "Epoch elapsed time: 0.19 min\n",
            "Epoch: 0009/0010 || Batch: 0000/0601 || Loss: 6.25\n",
            "Epoch: 0009/0010 || Batch: 0200/0601 || Loss: 6.55\n",
            "Epoch: 0009/0010 || Batch: 0400/0601 || Loss: 5.92\n",
            "Epoch: 0009/0010 || Batch: 0600/0601 || Loss: 6.39\n",
            "Train Loss: 6.79\n",
            "Valid Loss: 6.74\n",
            "Epoch elapsed time: 0.21 min\n",
            "Epoch: 0010/0010 || Batch: 0000/0601 || Loss: 6.41\n",
            "Epoch: 0010/0010 || Batch: 0200/0601 || Loss: 6.44\n",
            "Epoch: 0010/0010 || Batch: 0400/0601 || Loss: 6.87\n",
            "Epoch: 0010/0010 || Batch: 0600/0601 || Loss: 6.18\n",
            "Train Loss: 6.72\n",
            "Valid Loss: 6.68\n",
            "Epoch elapsed time: 0.24 min\n",
            "Total training time: 0.24 min\n"
          ],
          "name": "stdout"
        }
      ]
    },
    {
      "cell_type": "code",
      "metadata": {
        "colab": {
          "base_uri": "https://localhost:8080/",
          "height": 267
        },
        "id": "PwOzoFSwNMRU",
        "outputId": "efa8b10e-62b4-44e3-95ae-7417539d7004"
      },
      "source": [
        "model.eval()\r\n",
        "for i, label in enumerate(word_list[:10]):\r\n",
        "  with torch.set_grad_enabled(False):\r\n",
        "    W, WT = model.parameters()\r\n",
        "  x, y = W[0][i].item(), W[1][i].item()\r\n",
        "  plt.scatter(x, y)\r\n",
        "  plt.annotate(label, xy=(x, y), xytext=(5, 2), textcoords='offset points', ha='right', va='bottom')\r\n",
        "plt.show()"
      ],
      "execution_count": 17,
      "outputs": [
        {
          "output_type": "display_data",
          "data": {
            "image/png": "[encoded data removed]",
            "text/plain": [
              "<Figure size 432x288 with 1 Axes>"
            ]
          },
          "metadata": {
            "tags": [],
            "needs_background": "light"
          }
        }
      ]
    },
    {
      "cell_type": "code",
      "metadata": {
        "id": "0FP1hjcYkE-Z"
      },
      "source": [
        ""
      ],
      "execution_count": null,
      "outputs": []
    }
  ]
}