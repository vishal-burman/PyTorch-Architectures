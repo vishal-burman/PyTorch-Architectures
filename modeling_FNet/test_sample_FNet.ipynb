{
  "nbformat": 4,
  "nbformat_minor": 0,
  "metadata": {
    "colab": {
      "name": "test_sample_FNet.ipynb",
      "provenance": [],
      "authorship_tag": "ABX9TyNwQCIWzh5cP56RJlQ+aMQz",
      "include_colab_link": true
    },
    "kernelspec": {
      "name": "python3",
      "display_name": "Python 3"
    },
    "language_info": {
      "name": "python"
    },
    "accelerator": "GPU"
  },
  "cells": [
    {
      "cell_type": "markdown",
      "metadata": {
        "id": "view-in-github",
        "colab_type": "text"
      },
      "source": [
        "<a href=\"https://colab.research.google.com/github/vishal-burman/PyTorch-Architectures/blob/master/modeling_FNet/test_sample_FNet.ipynb\" target=\"_parent\"><img src=\"https://colab.research.google.com/assets/colab-badge.svg\" alt=\"Open In Colab\"/></a>"
      ]
    },
    {
      "cell_type": "code",
      "metadata": {
        "id": "P0Hds_YyxHvt"
      },
      "source": [
        "! nvidia-smi"
      ],
      "execution_count": null,
      "outputs": []
    },
    {
      "cell_type": "code",
      "metadata": {
        "id": "sdJ7D7BFnn7r"
      },
      "source": [
        "! pip install datasets\n",
        "! pip install transformers"
      ],
      "execution_count": null,
      "outputs": []
    },
    {
      "cell_type": "code",
      "metadata": {
        "id": "S_AjOdjNn6fA"
      },
      "source": [
        "! rm -rf PyTorch-Architectures/\n",
        "! git clone https://github.com/vishal-burman/PyTorch-Architectures.git\n",
        "%cd PyTorch-Architectures/"
      ],
      "execution_count": null,
      "outputs": []
    },
    {
      "cell_type": "code",
      "metadata": {
        "id": "DDUtmOdRoOG0"
      },
      "source": [
        "import time\n",
        "from datasets import load_dataset\n",
        "import torch\n",
        "from toolkit.custom_dataset import DataLoaderTextClassification\n",
        "from toolkit.metrics import compute_accuracy\n",
        "from transformers import DistilBertTokenizer\n",
        "from modeling_FNet.model import FNetClassify\n",
        "from modeling_FNet.config import FNetConfig"
      ],
      "execution_count": 2,
      "outputs": []
    },
    {
      "cell_type": "code",
      "metadata": {
        "id": "qE-N38uzo4JY"
      },
      "source": [
        "# HyperParameter section\n",
        "MAX_INP_LEN = 32\n",
        "BS = 64\n",
        "LR = 3e-5\n",
        "EPOCHS = 5"
      ],
      "execution_count": 3,
      "outputs": []
    },
    {
      "cell_type": "code",
      "metadata": {
        "id": "KbYcsVF3pUHl"
      },
      "source": [
        "tokenizer = DistilBertTokenizer.from_pretrained('distilbert-base-uncased')"
      ],
      "execution_count": 4,
      "outputs": []
    },
    {
      "cell_type": "code",
      "metadata": {
        "id": "-JrSxSZ-pm75"
      },
      "source": [
        "train_loader = DataLoaderTextClassification(tokenizer=tokenizer, max_input_length=MAX_INP_LEN).return_dataloader(batch_size=BS, shuffle=True)\n",
        "valid_loader = DataLoaderTextClassification(tokenizer=tokenizer, max_input_length=MAX_INP_LEN, train=False).return_dataloader(batch_size=BS, shuffle=False)"
      ],
      "execution_count": null,
      "outputs": []
    },
    {
      "cell_type": "code",
      "metadata": {
        "colab": {
          "base_uri": "https://localhost:8080/"
        },
        "id": "KFM1SeOLpswa",
        "outputId": "73ffee5a-f241-4f4d-d460-2c58a381d8f1"
      },
      "source": [
        "print('Length of Train Loader: ', len(train_loader))\n",
        "print('Length of Valid Loader: ', len(valid_loader))\n",
        "\n",
        "# Sanity check train_loaders:\n",
        "for sample in train_loader:\n",
        "  assert sample['input_ids'].size(0) == sample['labels'].size(0)\n",
        "  break"
      ],
      "execution_count": 6,
      "outputs": [
        {
          "output_type": "stream",
          "text": [
            "Length of Train Loader:  1053\n",
            "Length of Valid Loader:  14\n"
          ],
          "name": "stdout"
        }
      ]
    },
    {
      "cell_type": "code",
      "metadata": {
        "id": "CAO_HM-Hq8c6"
      },
      "source": [
        "device = torch.device('cuda:0' if torch.cuda.is_available() else 'cpu')\n",
        "config = FNetConfig()\n",
        "model = FNetClassify(config)\n",
        "model.to(device)"
      ],
      "execution_count": null,
      "outputs": []
    },
    {
      "cell_type": "code",
      "metadata": {
        "colab": {
          "base_uri": "https://localhost:8080/"
        },
        "id": "544-GuXdsPXj",
        "outputId": "99fab988-af94-4ca4-aba9-0d399f2f6eba"
      },
      "source": [
        "params = sum(p.numel() for p in model.parameters() if p.requires_grad)\n",
        "print('Trainable Parameters: ', params)"
      ],
      "execution_count": 8,
      "outputs": [
        {
          "output_type": "stream",
          "text": [
            "Trainable Parameters:  49640706\n"
          ],
          "name": "stdout"
        }
      ]
    },
    {
      "cell_type": "code",
      "metadata": {
        "id": "5MwJHSiivoDv"
      },
      "source": [
        "optimizer = torch.optim.AdamW(model.parameters(), lr=LR)"
      ],
      "execution_count": 9,
      "outputs": []
    },
    {
      "cell_type": "code",
      "metadata": {
        "colab": {
          "base_uri": "https://localhost:8080/"
        },
        "id": "q6w2rg6ksX-x",
        "outputId": "074ef2c4-f391-4db3-f84f-13a10bcefb8e"
      },
      "source": [
        "# Sanity check model forward pass\n",
        "model.eval()\n",
        "with torch.set_grad_enabled(False):\n",
        "  input_ids = sample['input_ids'].to(device)\n",
        "  labels = sample['labels'].to(device)\n",
        "  outputs = model(input_ids=input_ids, labels=labels)\n",
        "  print(outputs[0].item(), outputs[1].shape)"
      ],
      "execution_count": 10,
      "outputs": [
        {
          "output_type": "stream",
          "text": [
            "64.25020599365234 torch.Size([64, 2])\n"
          ],
          "name": "stdout"
        }
      ]
    },
    {
      "cell_type": "code",
      "metadata": {
        "colab": {
          "base_uri": "https://localhost:8080/"
        },
        "id": "6Z4-lJ_zuUKX",
        "outputId": "3ed148b2-cbbb-43d3-de31-9c34f31107ab"
      },
      "source": [
        "start_time = time.time()\n",
        "for epoch in range(EPOCHS):\n",
        "  model.train()\n",
        "  for idx, sample in enumerate(train_loader):\n",
        "    input_ids = sample['input_ids'].to(device)\n",
        "    labels = sample['labels'].to(device)\n",
        "    outputs = model(input_ids=input_ids, labels=labels)\n",
        "\n",
        "    optimizer.zero_grad()\n",
        "    loss = outputs[0]\n",
        "    loss.backward()\n",
        "    optimizer.step()\n",
        "\n",
        "    if idx % 500 == 0:\n",
        "      print('Epoch: %04d/%04d || Batch: %04d/%04d || Loss: %.2f' % (epoch+1,\n",
        "                                                                    EPOCHS,\n",
        "                                                                    idx,\n",
        "                                                                    len(train_loader),\n",
        "                                                                    loss.item()))\n",
        "  model.eval()\n",
        "  with torch.set_grad_enabled(False):\n",
        "    train_acc = compute_accuracy(model, train_loader, device)\n",
        "    valid_acc = compute_accuracy(model, valid_loader, device)\n",
        "  print('Train Accuracy: %.2f%% || Valid Accuracy: %.2f%%' % (train_acc.item(),\n",
        "                                                              valid_acc.item()))\n",
        "  epoch_elapsed_time = (time.time() - start_time) / 60\n",
        "  print('Epoch Elapsed Time: %.2f min' % (epoch_elapsed_time))\n",
        "total_training_time = (time.time() - start_time) / 60\n",
        "print('Total Training Time: %.2f min' % (total_training_time))"
      ],
      "execution_count": 11,
      "outputs": [
        {
          "output_type": "stream",
          "text": [
            "Epoch: 0001/0005 || Batch: 0000/1053 || Loss: 69.94\n",
            "Epoch: 0001/0005 || Batch: 0500/1053 || Loss: 27.37\n",
            "Epoch: 0001/0005 || Batch: 1000/1053 || Loss: 12.73\n",
            "Train Accuracy: 59.08% || Valid Accuracy: 55.62%\n",
            "Epoch Elapsed Time: 2.96 min\n",
            "Epoch: 0002/0005 || Batch: 0000/1053 || Loss: 14.11\n",
            "Epoch: 0002/0005 || Batch: 0500/1053 || Loss: 3.01\n",
            "Epoch: 0002/0005 || Batch: 1000/1053 || Loss: 0.75\n",
            "Train Accuracy: 58.54% || Valid Accuracy: 54.13%\n",
            "Epoch Elapsed Time: 5.93 min\n",
            "Epoch: 0003/0005 || Batch: 0000/1053 || Loss: 1.27\n",
            "Epoch: 0003/0005 || Batch: 0500/1053 || Loss: 0.71\n",
            "Epoch: 0003/0005 || Batch: 1000/1053 || Loss: 0.71\n",
            "Train Accuracy: 59.47% || Valid Accuracy: 56.88%\n",
            "Epoch Elapsed Time: 8.91 min\n",
            "Epoch: 0004/0005 || Batch: 0000/1053 || Loss: 0.68\n",
            "Epoch: 0004/0005 || Batch: 0500/1053 || Loss: 0.65\n",
            "Epoch: 0004/0005 || Batch: 1000/1053 || Loss: 0.72\n",
            "Train Accuracy: 58.03% || Valid Accuracy: 54.01%\n",
            "Epoch Elapsed Time: 11.89 min\n",
            "Epoch: 0005/0005 || Batch: 0000/1053 || Loss: 0.66\n",
            "Epoch: 0005/0005 || Batch: 0500/1053 || Loss: 0.69\n",
            "Epoch: 0005/0005 || Batch: 1000/1053 || Loss: 0.68\n",
            "Train Accuracy: 62.65% || Valid Accuracy: 60.32%\n",
            "Epoch Elapsed Time: 14.86 min\n",
            "Total Training Time: 14.86 min\n"
          ],
          "name": "stdout"
        }
      ]
    },
    {
      "cell_type": "code",
      "metadata": {
        "id": "Y3mE6gVMxiAf"
      },
      "source": [
        ""
      ],
      "execution_count": null,
      "outputs": []
    }
  ]
}