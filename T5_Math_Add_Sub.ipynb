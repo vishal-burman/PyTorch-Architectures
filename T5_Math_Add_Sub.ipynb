{
  "nbformat": 4,
  "nbformat_minor": 0,
  "metadata": {
    "colab": {
      "name": "T5_Math_Add_Sub.ipynb",
      "provenance": [],
      "collapsed_sections": [],
      "authorship_tag": "ABX9TyNA/y/h3zxH93tMuxvZCkMc",
      "include_colab_link": true
    },
    "kernelspec": {
      "name": "python3",
      "display_name": "Python 3"
    },
    "accelerator": "GPU"
  },
  "cells": [
    {
      "cell_type": "markdown",
      "metadata": {
        "id": "view-in-github",
        "colab_type": "text"
      },
      "source": [
        "<a href=\"https://colab.research.google.com/github/vishal-burman/PyTorch-Architectures/blob/master/T5_Math_Add_Sub.ipynb\" target=\"_parent\"><img src=\"https://colab.research.google.com/assets/colab-badge.svg\" alt=\"Open In Colab\"/></a>"
      ]
    },
    {
      "cell_type": "code",
      "metadata": {
        "id": "SH3O2a8ka4EB"
      },
      "source": [
        "! pip install transformers\n",
        "! pip install datasets"
      ],
      "execution_count": null,
      "outputs": []
    },
    {
      "cell_type": "code",
      "metadata": {
        "id": "AQGGfmLgbshb",
        "outputId": "30736f99-8a4c-45d3-8a6f-dbb79da3276b",
        "colab": {
          "base_uri": "https://localhost:8080/",
          "height": 54
        }
      },
      "source": [
        "import time\n",
        "import torch\n",
        "import torch.nn as nn\n",
        "from torch.utils.data import Dataset, DataLoader\n",
        "from transformers import T5Tokenizer, T5ForConditionalGeneration\n",
        "\n",
        "device = torch.device(\"cuda:0\" if torch.cuda.is_available() else \"cpu\")\n",
        "from datasets import load_dataset\n",
        "dataset = load_dataset('math_dataset', 'arithmetic__add_or_sub')"
      ],
      "execution_count": 1,
      "outputs": [
        {
          "output_type": "stream",
          "text": [
            "Reusing dataset math_dataset (/root/.cache/huggingface/datasets/math_dataset/arithmetic__add_or_sub/1.0.0/2f29b6d4f28d5ba488f8fd53c0306771b5e4c8c636521ef729ecc5a4b586c5e6)\n"
          ],
          "name": "stderr"
        }
      ]
    },
    {
      "cell_type": "code",
      "metadata": {
        "id": "0LiDqfoycbps"
      },
      "source": [
        "tokenizer = T5Tokenizer.from_pretrained('t5-large')\n",
        "model = T5ForConditionalGeneration.from_pretrained('t5-large').to(device)"
      ],
      "execution_count": 2,
      "outputs": []
    },
    {
      "cell_type": "code",
      "metadata": {
        "id": "EzND35wicnHE"
      },
      "source": [
        "class CustomDataset(Dataset):\n",
        "  def __init__(self, texts, labels, tokenizer, max_len_src=16, max_len_tgt=4):\n",
        "    self.texts = texts\n",
        "    self.labels = labels\n",
        "    self.tokenizer = tokenizer\n",
        "    self.max_len_src = max_len_src\n",
        "    self.max_len_tgt = max_len_tgt\n",
        "    self.final_list = []\n",
        "    self.build()\n",
        "  \n",
        "  def __len__(self):\n",
        "    return len(self.final_list)\n",
        "  \n",
        "  def __getitem__(self, idx):\n",
        "    tokens = self.final_list[idx]['tokens']\n",
        "    labels = self.final_list[idx]['labels']\n",
        "    src_ids = tokens['input_ids']\n",
        "    src_mask = tokens['attention_mask']\n",
        "    label_ids = labels['input_ids']\n",
        "    return {\n",
        "        'src_ids': torch.tensor(src_ids, dtype=torch.long),\n",
        "        'src_mask': torch.tensor(src_mask, dtype=torch.long),\n",
        "        'label_ids': torch.tensor(label_ids, dtype=torch.long)\n",
        "    }\n",
        "  \n",
        "  def build(self):\n",
        "    for text, label in zip(self.texts, self.labels):\n",
        "      text = text + \" </s>\"\n",
        "      tokens = tokenizer(text, max_length=self.max_len_src, truncation=True, padding='max_length')\n",
        "      label = label + \" </s>\"\n",
        "      label = tokenizer(label, max_length=self.max_len_tgt, truncation=True, padding='max_length')\n",
        "      self.final_list.append({'tokens': tokens, 'labels': label})"
      ],
      "execution_count": 3,
      "outputs": []
    },
    {
      "cell_type": "code",
      "metadata": {
        "id": "1syb23jadhhp"
      },
      "source": [
        "train_texts = dataset['train']['question'][:10000]\n",
        "train_labels = dataset['train']['answer'][:10000]\n",
        "valid_texts = dataset['test']['question'][:1000]\n",
        "valid_labels = dataset['test']['answer'][:1000]"
      ],
      "execution_count": 4,
      "outputs": []
    },
    {
      "cell_type": "code",
      "metadata": {
        "id": "VcxjfN-dfFMZ",
        "outputId": "3ba2f4a3-e645-46a2-9f70-d123d07af074",
        "colab": {
          "base_uri": "https://localhost:8080/",
          "height": 34
        }
      },
      "source": [
        "# texts_train = [text.replace(\" \", \"\") for text in train]\n",
        "# labels_train = [text for text in train]\n",
        "\n",
        "# texts_valid = [text.replace(\" \", \"\") for text in valid]\n",
        "# labels_valid = [text for text in valid]\n",
        "for text, label in zip(train_texts, train_labels):\n",
        "  print(text, label)\n",
        "  break"
      ],
      "execution_count": 5,
      "outputs": [
        {
          "output_type": "stream",
          "text": [
            "What is -5 - 110911? -110916\n"
          ],
          "name": "stdout"
        }
      ]
    },
    {
      "cell_type": "code",
      "metadata": {
        "id": "_HtbtiygfT66",
        "outputId": "e4f2f8df-6cc0-47ec-ce29-64d5606a08a5",
        "colab": {
          "base_uri": "https://localhost:8080/",
          "height": 70
        }
      },
      "source": [
        "train_dataset = CustomDataset(train_texts, train_labels, tokenizer)\n",
        "valid_dataset = CustomDataset(valid_texts, valid_labels, tokenizer)"
      ],
      "execution_count": 6,
      "outputs": [
        {
          "output_type": "stream",
          "text": [
            "/usr/local/lib/python3.6/dist-packages/transformers/tokenization_t5.py:185: UserWarning: This sequence already has </s>. In future versions this behavior may lead to duplicated eos tokens being added.\n",
            "  f\"This sequence already has {self.eos_token}. In future versions this behavior may lead to duplicated eos tokens being added.\"\n"
          ],
          "name": "stderr"
        }
      ]
    },
    {
      "cell_type": "code",
      "metadata": {
        "id": "x372mplciEvx",
        "outputId": "df3a1526-e85b-40b8-98f9-5d56a3cb4249",
        "colab": {
          "base_uri": "https://localhost:8080/",
          "height": 50
        }
      },
      "source": [
        "BATCH_SIZE = 8\n",
        "LEARNING_RATE = 3e-5\n",
        "EPOCHS = 5\n",
        "\n",
        "optimizer = torch.optim.Adam(model.parameters(), lr=LEARNING_RATE)\n",
        "\n",
        "train_loader = DataLoader(dataset=train_dataset, shuffle=True, batch_size=BATCH_SIZE)\n",
        "valid_loader = DataLoader(dataset=valid_dataset, shuffle=False, batch_size=BATCH_SIZE)\n",
        "print(\"Length of Training DataLoader: \", len(train_loader))\n",
        "print(\"Length of Valid DataLoader: \", len(valid_loader))"
      ],
      "execution_count": 7,
      "outputs": [
        {
          "output_type": "stream",
          "text": [
            "Length of Training DataLoader:  1250\n",
            "Length of Valid DataLoader:  125\n"
          ],
          "name": "stdout"
        }
      ]
    },
    {
      "cell_type": "code",
      "metadata": {
        "id": "6LeoxpZEix7V",
        "outputId": "48150a02-ed4c-4829-a743-4d038711873e",
        "colab": {
          "base_uri": "https://localhost:8080/",
          "height": 773
        }
      },
      "source": [
        "pad_token_id = tokenizer.pad_token_id\n",
        "def compute_loss(model, data_loader, device):\n",
        "  total_loss = 0\n",
        "  for idx, sample in enumerate(data_loader):\n",
        "    ids = sample['src_ids'].to(device)\n",
        "    mask = sample['src_mask'].to(device)\n",
        "    labels = sample['label_ids'].to(device)\n",
        "\n",
        "    decoder_input_ids = model._shift_right(labels)\n",
        "    outputs = model(ids, attention_mask=mask, decoder_input_ids=decoder_input_ids)\n",
        "    lm_logits = outputs[0]\n",
        "    ce_loss_fct = nn.CrossEntropyLoss(ignore_index=pad_token_id)\n",
        "    loss = ce_loss_fct(lm_logits.view(-1, lm_logits.shape[-1]), labels.view(-1))\n",
        "    total_loss += loss\n",
        "  return total_loss / len(data_loader)\n",
        "\n",
        "start_time = time.time()\n",
        "for epoch in range(EPOCHS):\n",
        "  model.train()\n",
        "  for idx, sample in enumerate(train_loader):\n",
        "    ids = sample['src_ids'].to(device)\n",
        "    mask = sample['src_mask'].to(device)\n",
        "    labels = sample['label_ids'].to(device)\n",
        "\n",
        "    decoder_input_ids = model._shift_right(labels)\n",
        "\n",
        "    optimizer.zero_grad()\n",
        "    outputs = model(ids, attention_mask=mask, decoder_input_ids=decoder_input_ids, use_cache=False)\n",
        "    lm_logits = outputs[0]\n",
        "    ce_loss_fct = nn.CrossEntropyLoss(ignore_index=pad_token_id)\n",
        "    loss = ce_loss_fct(lm_logits.view(-1, lm_logits.shape[-1]), labels.view(-1))\n",
        "\n",
        "    # LOGGING\n",
        "    if idx % 200 == 0:\n",
        "      print(\"Batch: %03d/%03d || Epoch: %03d/%03d\" % (idx, len(train_loader), epoch+1, EPOCHS))\n",
        "\n",
        "    loss.backward()\n",
        "    optimizer.step()\n",
        "  \n",
        "  model.eval()\n",
        "  with torch.set_grad_enabled(False):\n",
        "    valid_loss = compute_loss(model, valid_loader, device)\n",
        "    print(\"Average Validation Loss: \", valid_loss.item())\n",
        "  epoch_elapsed_time = (time.time() - start_time) / 60\n",
        "  print(\"Epoch Elapsed Time: \", epoch_elapsed_time)\n",
        "total_training_time = (time.time() - start_time) / 60"
      ],
      "execution_count": 8,
      "outputs": [
        {
          "output_type": "stream",
          "text": [
            "Batch: 000/1250 || Epoch: 001/005\n",
            "Batch: 200/1250 || Epoch: 001/005\n",
            "Batch: 400/1250 || Epoch: 001/005\n",
            "Batch: 600/1250 || Epoch: 001/005\n",
            "Batch: 800/1250 || Epoch: 001/005\n",
            "Batch: 1000/1250 || Epoch: 001/005\n",
            "Batch: 1200/1250 || Epoch: 001/005\n",
            "Average Validation Loss:  1.124136209487915\n",
            "Epoch Elapsed Time:  9.743300990263622\n",
            "Batch: 000/1250 || Epoch: 002/005\n",
            "Batch: 200/1250 || Epoch: 002/005\n",
            "Batch: 400/1250 || Epoch: 002/005\n",
            "Batch: 600/1250 || Epoch: 002/005\n",
            "Batch: 800/1250 || Epoch: 002/005\n",
            "Batch: 1000/1250 || Epoch: 002/005\n",
            "Batch: 1200/1250 || Epoch: 002/005\n",
            "Average Validation Loss:  1.0466009378433228\n",
            "Epoch Elapsed Time:  19.39113906621933\n",
            "Batch: 000/1250 || Epoch: 003/005\n",
            "Batch: 200/1250 || Epoch: 003/005\n",
            "Batch: 400/1250 || Epoch: 003/005\n",
            "Batch: 600/1250 || Epoch: 003/005\n",
            "Batch: 800/1250 || Epoch: 003/005\n",
            "Batch: 1000/1250 || Epoch: 003/005\n",
            "Batch: 1200/1250 || Epoch: 003/005\n",
            "Average Validation Loss:  0.9864254593849182\n",
            "Epoch Elapsed Time:  29.005708662668862\n",
            "Batch: 000/1250 || Epoch: 004/005\n",
            "Batch: 200/1250 || Epoch: 004/005\n",
            "Batch: 400/1250 || Epoch: 004/005\n",
            "Batch: 600/1250 || Epoch: 004/005\n",
            "Batch: 800/1250 || Epoch: 004/005\n",
            "Batch: 1000/1250 || Epoch: 004/005\n",
            "Batch: 1200/1250 || Epoch: 004/005\n",
            "Average Validation Loss:  0.9501299262046814\n",
            "Epoch Elapsed Time:  38.59255461295446\n",
            "Batch: 000/1250 || Epoch: 005/005\n",
            "Batch: 200/1250 || Epoch: 005/005\n",
            "Batch: 400/1250 || Epoch: 005/005\n",
            "Batch: 600/1250 || Epoch: 005/005\n",
            "Batch: 800/1250 || Epoch: 005/005\n",
            "Batch: 1000/1250 || Epoch: 005/005\n",
            "Batch: 1200/1250 || Epoch: 005/005\n",
            "Average Validation Loss:  0.9610757827758789\n",
            "Epoch Elapsed Time:  48.15529544750849\n"
          ],
          "name": "stdout"
        }
      ]
    },
    {
      "cell_type": "code",
      "metadata": {
        "id": "JazFxW0XjGkF",
        "outputId": "f7d6a2b1-b137-4793-ec8f-477685ba92a7",
        "colab": {
          "base_uri": "https://localhost:8080/",
          "height": 118
        }
      },
      "source": [
        "texts = [\"Calculate 7+3\", \"What is 2 + 4?\"] \n",
        "for text in texts:\n",
        "  print(\"Original text = \", text)\n",
        "  tokens = tokenizer(text, max_length=16, truncation=True, padding='max_length')\n",
        "  ids = torch.tensor(tokens['input_ids'], dtype=torch.long).unsqueeze(0)\n",
        "  mask = torch.tensor(tokens['attention_mask'], dtype=torch.long).unsqueeze(0)\n",
        "  model.eval()\n",
        "  with torch.set_grad_enabled(False):\n",
        "    outs = model.generate(input_ids=ids.to(device), attention_mask=mask.to(device), max_length=4, num_beams=1, early_stopping=True)\n",
        "    print(\"T5's Answer = \", tokenizer.decode(outs[0], skip_special_tokens=True), \"\\n\")"
      ],
      "execution_count": 25,
      "outputs": [
        {
          "output_type": "stream",
          "text": [
            "Original text =  Calculate 7+3\n",
            "T5's Answer =  10 \n",
            "\n",
            "Original text =  What is 2 + 4?\n",
            "T5's Answer =  6 \n",
            "\n"
          ],
          "name": "stdout"
        }
      ]
    },
    {
      "cell_type": "code",
      "metadata": {
        "id": "PSxrwn4S1RSm"
      },
      "source": [
        "# Needs more Training."
      ],
      "execution_count": 26,
      "outputs": []
    },
    {
      "cell_type": "code",
      "metadata": {
        "id": "nIndp6mfLLdL"
      },
      "source": [
        ""
      ],
      "execution_count": null,
      "outputs": []
    }
  ]
}