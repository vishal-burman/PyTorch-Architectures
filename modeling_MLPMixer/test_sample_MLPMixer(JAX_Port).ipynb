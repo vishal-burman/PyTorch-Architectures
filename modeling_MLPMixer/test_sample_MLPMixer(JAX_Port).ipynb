{
  "nbformat": 4,
  "nbformat_minor": 0,
  "metadata": {
    "colab": {
      "name": "test_sample_MLPMixer(JAX-Port).ipynb",
      "provenance": [],
      "collapsed_sections": [],
      "authorship_tag": "ABX9TyOGMjRMWJT9ckBe77hjeXKV",
      "include_colab_link": true
    },
    "kernelspec": {
      "name": "python3",
      "display_name": "Python 3"
    },
    "language_info": {
      "name": "python"
    },
    "accelerator": "GPU"
  },
  "cells": [
    {
      "cell_type": "markdown",
      "metadata": {
        "id": "view-in-github",
        "colab_type": "text"
      },
      "source": [
        "<a href=\"https://colab.research.google.com/github/vishal-burman/PyTorch-Architectures/blob/master/modeling_MLPMixer/test_sample_MLPMixer(JAX_Port).ipynb\" target=\"_parent\"><img src=\"https://colab.research.google.com/assets/colab-badge.svg\" alt=\"Open In Colab\"/></a>"
      ]
    },
    {
      "cell_type": "code",
      "metadata": {
        "id": "RSq3bgK2d5y6"
      },
      "source": [
        "! nvidia-smi"
      ],
      "execution_count": null,
      "outputs": []
    },
    {
      "cell_type": "code",
      "metadata": {
        "id": "lkqBsFpnse5t"
      },
      "source": [
        "! rm -rf PyTorch-Architectures/\n",
        "! git clone https://github.com/vishal-burman/PyTorch-Architectures.git\n",
        "%cd PyTorch-Architectures/"
      ],
      "execution_count": null,
      "outputs": []
    },
    {
      "cell_type": "code",
      "metadata": {
        "id": "FsfRBvk4tRkF"
      },
      "source": [
        "import time\n",
        "import torch\n",
        "import torch.nn as nn\n",
        "from toolkit.custom_dataset_cv import DataLoaderCIFAR10Classification\n",
        "from modeling_MLPMixer.model_jax_port import MLPMixer\n",
        "from modeling_MLPMixer.model_jax_port_config import MLPMixerConfig\n",
        "from toolkit.metrics import cv_compute_accuracy"
      ],
      "execution_count": 3,
      "outputs": []
    },
    {
      "cell_type": "code",
      "metadata": {
        "id": "-pcGPrTBhjtH"
      },
      "source": [
        "# Hyperparameters\n",
        "BS = 64\n",
        "LR = 3e-4\n",
        "EPOCHS = 3"
      ],
      "execution_count": 4,
      "outputs": []
    },
    {
      "cell_type": "code",
      "metadata": {
        "id": "bzWE7fhrh95T"
      },
      "source": [
        "device = torch.device('cuda:0' if torch.cuda.is_available() else 'cpu')\n",
        "config = MLPMixerConfig()\n",
        "config.num_classes = 10\n",
        "model = MLPMixer(config)\n",
        "model.to(device)"
      ],
      "execution_count": null,
      "outputs": []
    },
    {
      "cell_type": "code",
      "metadata": {
        "colab": {
          "base_uri": "https://localhost:8080/"
        },
        "id": "r1lQTBttTkTL",
        "outputId": "332f8c99-e6b1-48e0-bd21-94f6090b31f5"
      },
      "source": [
        "params = sum(p.numel() for p in model.parameters() if p.requires_grad)\n",
        "print('Trainable Parameters: ', params)"
      ],
      "execution_count": 6,
      "outputs": [
        {
          "output_type": "stream",
          "text": [
            "Trainable Parameters:  191018\n"
          ],
          "name": "stdout"
        }
      ]
    },
    {
      "cell_type": "code",
      "metadata": {
        "id": "OUSrSAvYuO09"
      },
      "source": [
        "train_loader = DataLoaderCIFAR10Classification(train=True).return_dataloader(batch_size=BS)\n",
        "valid_loader = DataLoaderCIFAR10Classification(train=False).return_dataloader(batch_size=BS)\n",
        "\n",
        "print('Length of Train Loader: ', len(train_loader))\n",
        "print('Length of Valid Loader: ', len(valid_loader))"
      ],
      "execution_count": null,
      "outputs": []
    },
    {
      "cell_type": "code",
      "metadata": {
        "id": "Vz9EruS2vhCl"
      },
      "source": [
        "# Sanity check DataLoaders\n",
        "for sample in train_loader:\n",
        "  assert sample[0].dim() == 4, 'Images should be 4-dimensional'\n",
        "  assert sample[0].size(0) == sample[1].size(0)\n",
        "  break"
      ],
      "execution_count": 8,
      "outputs": []
    },
    {
      "cell_type": "code",
      "metadata": {
        "id": "2zXCRqnVw5sf"
      },
      "source": [
        "# Sanity check forward pass\n",
        "model.eval()\n",
        "with torch.set_grad_enabled(False):\n",
        "  outputs = model(sample[0].to(device), labels=sample[1].to(device))\n",
        "  assert outputs[1].size(1) == config.num_classes"
      ],
      "execution_count": 10,
      "outputs": []
    },
    {
      "cell_type": "code",
      "metadata": {
        "id": "syC70Ttmaop8"
      },
      "source": [
        "optimizer = torch.optim.AdamW(model.parameters(), lr=LR)"
      ],
      "execution_count": 11,
      "outputs": []
    },
    {
      "cell_type": "code",
      "metadata": {
        "colab": {
          "base_uri": "https://localhost:8080/"
        },
        "id": "xYhqdx7XWE9B",
        "outputId": "13bdbc59-b986-4200-fc66-e39cfb8ab90e"
      },
      "source": [
        "start_time = time.time()\n",
        "for epoch in range(EPOCHS):\n",
        "  model.train()\n",
        "  for idx, sample in enumerate(train_loader):\n",
        "    imgs = sample[0].to(device)\n",
        "    labels = sample[1].to(device)\n",
        "    outputs = model(imgs, labels=labels)\n",
        "\n",
        "    optimizer.zero_grad()\n",
        "    loss = outputs[0]\n",
        "    loss.backward()\n",
        "    optimizer.step()\n",
        "\n",
        "    # LOGGING\n",
        "    if idx % 300 == 0:\n",
        "      print('Epochs: %04d/%04d || Batch: %04d/%04d || Loss: %.2f' % (epoch+1,\n",
        "                                                                     EPOCHS,\n",
        "                                                                     idx,\n",
        "                                                                     len(train_loader),\n",
        "                                                                     loss.item()))\n",
        "  model.eval()\n",
        "  with torch.set_grad_enabled(False):\n",
        "    train_acc = cv_compute_accuracy(model, train_loader, device)\n",
        "    valid_acc = cv_compute_accuracy(model, valid_loader, device)\n",
        "  print('Train Accuracy: %.2f%% || Valid Accuracy: %.2f%%' % (train_acc,\n",
        "                                                              valid_acc))\n",
        "  epoch_elapsed_time = (time.time() - start_time) / 60\n",
        "  print('Epoch Elapsed Time: %.2f min' % (epoch_elapsed_time))\n",
        "total_training_time = (time.time() - start_time) / 60\n",
        "print('Total Training Time: %.2f min' % (total_training_time))"
      ],
      "execution_count": 13,
      "outputs": [
        {
          "output_type": "stream",
          "text": [
            "Epochs: 0001/0003 || Batch: 0000/0782 || Loss: 2.34\n",
            "Epochs: 0001/0003 || Batch: 0300/0782 || Loss: 1.89\n",
            "Epochs: 0001/0003 || Batch: 0600/0782 || Loss: 1.64\n",
            "Train Accuracy: 49.62% || Valid Accuracy: 48.69%\n",
            "Epoch Elapsed Time: 3.86 min\n",
            "Epochs: 0002/0003 || Batch: 0000/0782 || Loss: 1.45\n",
            "Epochs: 0002/0003 || Batch: 0300/0782 || Loss: 1.42\n",
            "Epochs: 0002/0003 || Batch: 0600/0782 || Loss: 1.30\n",
            "Train Accuracy: 56.59% || Valid Accuracy: 53.85%\n",
            "Epoch Elapsed Time: 7.64 min\n",
            "Epochs: 0003/0003 || Batch: 0000/0782 || Loss: 1.19\n",
            "Epochs: 0003/0003 || Batch: 0300/0782 || Loss: 1.36\n",
            "Epochs: 0003/0003 || Batch: 0600/0782 || Loss: 1.16\n",
            "Train Accuracy: 60.71% || Valid Accuracy: 55.89%\n",
            "Epoch Elapsed Time: 11.40 min\n",
            "Total Training Time: 11.40 min\n"
          ],
          "name": "stdout"
        }
      ]
    },
    {
      "cell_type": "code",
      "metadata": {
        "id": "PPLF1j4Dcj0F"
      },
      "source": [
        ""
      ],
      "execution_count": null,
      "outputs": []
    }
  ]
}