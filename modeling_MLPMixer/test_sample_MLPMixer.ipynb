{
  "nbformat": 4,
  "nbformat_minor": 0,
  "metadata": {
    "colab": {
      "name": "test_sample_MLPMixer.ipynb",
      "provenance": [],
      "collapsed_sections": [],
      "authorship_tag": "ABX9TyN6J41aVo7Q08CB2lbgoZzu",
      "include_colab_link": true
    },
    "kernelspec": {
      "name": "python3",
      "display_name": "Python 3"
    },
    "language_info": {
      "name": "python"
    }
  },
  "cells": [
    {
      "cell_type": "markdown",
      "metadata": {
        "id": "view-in-github",
        "colab_type": "text"
      },
      "source": [
        "<a href=\"https://colab.research.google.com/github/vishal-burman/PyTorch-Architectures/blob/master/modeling_MLPMixer/test_sample_MLPMixer.ipynb\" target=\"_parent\"><img src=\"https://colab.research.google.com/assets/colab-badge.svg\" alt=\"Open In Colab\"/></a>"
      ]
    },
    {
      "cell_type": "code",
      "metadata": {
        "id": "0KRyA3xJRs-Y"
      },
      "source": [
        "! pip install -q kaggle"
      ],
      "execution_count": 1,
      "outputs": []
    },
    {
      "cell_type": "code",
      "metadata": {
        "id": "kZt9XTA1fzqM"
      },
      "source": [
        "from google.colab import files\n",
        "files.upload()"
      ],
      "execution_count": null,
      "outputs": []
    },
    {
      "cell_type": "code",
      "metadata": {
        "id": "b6lkq69Sf-gl"
      },
      "source": [
        "! mkdir ~/.kaggle\n",
        "! cp kaggle.json ~/.kaggle/\n",
        "! chmod 600 ~/.kaggle/kaggle.json"
      ],
      "execution_count": 3,
      "outputs": []
    },
    {
      "cell_type": "code",
      "metadata": {
        "id": "Uj7IRx5hscag"
      },
      "source": [
        "! kaggle competitions download -c dogs-vs-cats"
      ],
      "execution_count": null,
      "outputs": []
    },
    {
      "cell_type": "code",
      "metadata": {
        "id": "A55wOMksgO5M"
      },
      "source": [
        "# ! kaggle datasets download -d dansbecker/hot-dog-not-hot-dog\n",
        "# ! unzip -q hot-dog-not-hot-dog.zip"
      ],
      "execution_count": null,
      "outputs": []
    },
    {
      "cell_type": "code",
      "metadata": {
        "id": "fupdC_yhgSmx"
      },
      "source": [
        "! unzip -q train.zip\n",
        "! rm train.zip\n",
        "! unzip -q test1.zip\n",
        "! rm test1.zip"
      ],
      "execution_count": 5,
      "outputs": []
    },
    {
      "cell_type": "code",
      "metadata": {
        "id": "ALnI5szug5Q8",
        "colab": {
          "base_uri": "https://localhost:8080/"
        },
        "outputId": "3a06eadc-24b9-49aa-8049-e98cdd0208ed"
      },
      "source": [
        "! git clone https://github.com/vishal-burman/PyTorch-Architectures.git\n",
        "%cd PyTorch-Architectures/modeling_MLPMixer"
      ],
      "execution_count": 1,
      "outputs": [
        {
          "output_type": "stream",
          "text": [
            "fatal: destination path 'PyTorch-Architectures' already exists and is not an empty directory.\n",
            "/content/PyTorch-Architectures/modeling_MLPMixer\n"
          ],
          "name": "stdout"
        }
      ]
    },
    {
      "cell_type": "code",
      "metadata": {
        "id": "Ou9KOPh7h3AQ"
      },
      "source": [
        "! mv /content/train .\n",
        "! mv /content/test1 ."
      ],
      "execution_count": 7,
      "outputs": []
    },
    {
      "cell_type": "code",
      "metadata": {
        "id": "JaAFKDUhgVR0"
      },
      "source": [
        "import os\n",
        "import time\n",
        "from PIL import Image\n",
        "import random\n",
        "import torch\n",
        "import torch.nn as nn\n",
        "import torch.nn.functional as F\n",
        "from torch.utils.data import Dataset, DataLoader\n",
        "from torchvision import transforms\n",
        "from model import MLPMixer"
      ],
      "execution_count": 2,
      "outputs": []
    },
    {
      "cell_type": "code",
      "metadata": {
        "colab": {
          "base_uri": "https://localhost:8080/"
        },
        "id": "840tJ5lIo6p2",
        "outputId": "b2d6dace-9f47-4776-c6d4-846707e9f31f"
      },
      "source": [
        "samples = os.listdir('train')\n",
        "print('Total Samples: ', len(samples))"
      ],
      "execution_count": 3,
      "outputs": [
        {
          "output_type": "stream",
          "text": [
            "Total Samples:  25000\n"
          ],
          "name": "stdout"
        }
      ]
    },
    {
      "cell_type": "code",
      "metadata": {
        "id": "FPG3bLxsrg2T"
      },
      "source": [
        "parent_path = '/content/PyTorch-Architectures/modeling_MLPMixer/train/'\n",
        "samples = [parent_path + str(sample) for sample in samples]\n",
        "samples = [(sample, 1) if 'dog' in sample else (sample, 0) for sample in samples]"
      ],
      "execution_count": 4,
      "outputs": []
    },
    {
      "cell_type": "code",
      "metadata": {
        "colab": {
          "base_uri": "https://localhost:8080/"
        },
        "id": "PTuNDBqVq2Ig",
        "outputId": "8bd2bd64-0ac6-461b-d135-a80f21cd9c6c"
      },
      "source": [
        "random.shuffle(samples)\n",
        "\n",
        "split = 90 * len(samples) // 100\n",
        "train_samples = samples[:split]\n",
        "valid_samples = samples[split:]\n",
        "\n",
        "print('Train Samples: ', len(train_samples))\n",
        "print('Valid Samples: ', len(valid_samples))"
      ],
      "execution_count": 5,
      "outputs": [
        {
          "output_type": "stream",
          "text": [
            "Train Samples:  22500\n",
            "Valid Samples:  2500\n"
          ],
          "name": "stdout"
        }
      ]
    },
    {
      "cell_type": "code",
      "metadata": {
        "id": "qKqNrgl3j_O7"
      },
      "source": [
        "class CustomDataset(Dataset):\n",
        "  def __init__(self, path_images, transforms=None):\n",
        "    self.path_images = path_images\n",
        "    self.transforms = transforms\n",
        "  \n",
        "  def __len__(self):\n",
        "    return len(self.path_images)\n",
        "  \n",
        "  def __getitem__(self, idx):\n",
        "    images, labels = self.path_images[idx][0], self.path_images[idx][1]\n",
        "    images = Image.open(images)\n",
        "    if self.transforms is not None:\n",
        "      images = self.transforms(images)\n",
        "    return {\n",
        "        'img': images,\n",
        "        'labels': torch.tensor(labels),\n",
        "    }\n",
        "\n",
        "transformations = transforms.Compose([\n",
        "                                 transforms.Resize(size=(256, 256)),\n",
        "                                 transforms.ToTensor(),\n",
        "])"
      ],
      "execution_count": 6,
      "outputs": []
    },
    {
      "cell_type": "code",
      "metadata": {
        "colab": {
          "base_uri": "https://localhost:8080/"
        },
        "id": "cECLb_5uyeXP",
        "outputId": "79bfc636-a395-4058-ea68-d774af7c35af"
      },
      "source": [
        "sample_dataset = CustomDataset(path_images=train_samples, transforms=transformations)\n",
        "sample_loader = DataLoader(dataset=sample_dataset, batch_size=2)\n",
        "for sample in sample_loader:\n",
        "  print(sample['img'].shape, sample['labels'].shape)\n",
        "  print(sample['labels'])\n",
        "  break"
      ],
      "execution_count": 9,
      "outputs": [
        {
          "output_type": "stream",
          "text": [
            "torch.Size([2, 3, 256, 256]) torch.Size([2])\n",
            "tensor([1, 0])\n"
          ],
          "name": "stdout"
        }
      ]
    },
    {
      "cell_type": "code",
      "metadata": {
        "id": "9OXLq3NN5Cxw"
      },
      "source": [
        "device = torch.device('cuda:0' if torch.cuda.is_available() else 'cpu')\n",
        "model = MLPMixer(image_size=256,\n",
        "                 patch_size=16,\n",
        "                 channel=3,\n",
        "                 dim=512,\n",
        "                 depth=8,\n",
        "                 num_classes=2)\n",
        "model.to(device)"
      ],
      "execution_count": null,
      "outputs": []
    },
    {
      "cell_type": "code",
      "metadata": {
        "colab": {
          "base_uri": "https://localhost:8080/"
        },
        "id": "f3No8h1hqWnf",
        "outputId": "c550366f-35b1-49ea-e5d6-775b4bd9672a"
      },
      "source": [
        "params = sum(p.numel() for p in model.parameters() if p.requires_grad)\n",
        "print('Trainable Parameters: ', params)"
      ],
      "execution_count": 11,
      "outputs": [
        {
          "output_type": "stream",
          "text": [
            "Trainable Parameters:  988418\n"
          ],
          "name": "stdout"
        }
      ]
    },
    {
      "cell_type": "code",
      "metadata": {
        "id": "JqXz6OVCqgpC"
      },
      "source": [
        "# Hyperparameter section\n",
        "EPOCHS = 3\n",
        "LR = 3e-4\n",
        "BATCH_SIZE = 32"
      ],
      "execution_count": 12,
      "outputs": []
    },
    {
      "cell_type": "code",
      "metadata": {
        "colab": {
          "base_uri": "https://localhost:8080/"
        },
        "id": "EILP_jTUrVA7",
        "outputId": "4b0aa892-41c3-4275-c21c-7872669b6208"
      },
      "source": [
        "train_dataset = CustomDataset(path_images=train_samples, transforms=transformations)\n",
        "valid_dataset = CustomDataset(path_images=valid_samples, transforms=transformations)\n",
        "\n",
        "train_loader = DataLoader(dataset=train_dataset, batch_size=BATCH_SIZE, shuffle=True)\n",
        "valid_loader = DataLoader(dataset=valid_dataset, batch_size=BATCH_SIZE, shuffle=False)\n",
        "\n",
        "print('Length of Train Loader: ', len(train_loader))\n",
        "print('Length of Valid Loader: ', len(valid_loader))"
      ],
      "execution_count": 13,
      "outputs": [
        {
          "output_type": "stream",
          "text": [
            "Length of Train Loader:  704\n",
            "Length of Valid Loader:  79\n"
          ],
          "name": "stdout"
        }
      ]
    },
    {
      "cell_type": "code",
      "metadata": {
        "id": "hbc6y7qir3Aq"
      },
      "source": [
        ""
      ],
      "execution_count": null,
      "outputs": []
    }
  ]
}