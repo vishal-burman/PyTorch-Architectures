{
  "nbformat": 4,
  "nbformat_minor": 0,
  "metadata": {
    "colab": {
      "name": "test_sample_TabTransformer.ipynb",
      "provenance": [],
      "collapsed_sections": [],
      "authorship_tag": "ABX9TyNlX6kobzN6aQhVCC55Ye/M",
      "include_colab_link": true
    },
    "kernelspec": {
      "name": "python3",
      "display_name": "Python 3"
    }
  },
  "cells": [
    {
      "cell_type": "markdown",
      "metadata": {
        "id": "view-in-github",
        "colab_type": "text"
      },
      "source": [
        "<a href=\"https://colab.research.google.com/github/vishal-burman/PyTorch-Architectures/blob/master/modeling_TabTransformer/test_sample_TabTransformer.ipynb\" target=\"_parent\"><img src=\"https://colab.research.google.com/assets/colab-badge.svg\" alt=\"Open In Colab\"/></a>"
      ]
    },
    {
      "cell_type": "code",
      "metadata": {
        "id": "do9R5Tpv8JzP",
        "colab": {
          "base_uri": "https://localhost:8080/"
        },
        "outputId": "9bcdb49b-fa9e-4681-eae3-8a595734c83a"
      },
      "source": [
        "! git clone https://github.com/vishal-burman/PyTorch-Architectures.git\r\n",
        "%cd PyTorch-Architectures/modeling_TabTransformer/"
      ],
      "execution_count": 1,
      "outputs": [
        {
          "output_type": "stream",
          "text": [
            "fatal: destination path 'PyTorch-Architectures' already exists and is not an empty directory.\n",
            "/content/PyTorch-Architectures/modeling_TabTransformer\n"
          ],
          "name": "stdout"
        }
      ]
    },
    {
      "cell_type": "code",
      "metadata": {
        "id": "nZ8P_8r98k9n",
        "colab": {
          "base_uri": "https://localhost:8080/"
        },
        "outputId": "cb81434a-12c4-4ad9-eb5f-869ab4661c67"
      },
      "source": [
        "! wget https://archive.ics.uci.edu/ml/machine-learning-databases/adult/adult.data"
      ],
      "execution_count": 2,
      "outputs": [
        {
          "output_type": "stream",
          "text": [
            "--2021-01-04 08:45:36--  https://archive.ics.uci.edu/ml/machine-learning-databases/adult/adult.data\n",
            "Resolving archive.ics.uci.edu (archive.ics.uci.edu)... 128.195.10.252\n",
            "Connecting to archive.ics.uci.edu (archive.ics.uci.edu)|128.195.10.252|:443... connected.\n",
            "HTTP request sent, awaiting response... 200 OK\n",
            "Length: 3974305 (3.8M) [application/x-httpd-php]\n",
            "Saving to: ‘adult.data.8’\n",
            "\n",
            "adult.data.8        100%[===================>]   3.79M  7.38MB/s    in 0.5s    \n",
            "\n",
            "2021-01-04 08:45:37 (7.38 MB/s) - ‘adult.data.8’ saved [3974305/3974305]\n",
            "\n"
          ],
          "name": "stdout"
        }
      ]
    },
    {
      "cell_type": "code",
      "metadata": {
        "id": "ycTP3JCw8oJ8"
      },
      "source": [
        "import time\r\n",
        "import pandas as pd\r\n",
        "from sklearn.preprocessing import LabelEncoder\r\n",
        "\r\n",
        "import torch\r\n",
        "import torch.nn as nn\r\n",
        "import torch.nn.functional as F\r\n",
        "from torch.utils.data import Dataset, DataLoader\r\n",
        "from model import TabTransformer\r\n",
        "\r\n",
        "device = torch.device(\"cuda:0\" if torch.cuda.is_available() else \"cpu\")"
      ],
      "execution_count": 3,
      "outputs": []
    },
    {
      "cell_type": "code",
      "metadata": {
        "id": "jH3M4X1Z_ZAg"
      },
      "source": [
        "dataset = pd.read_csv('adult.data', names=['age', 'workclass', 'fnlwgt', 'education', 'education-num', 'marital-status', 'occupation', 'relationship', 'race', 'sex', 'capital-gain', 'capital-loss', 'hours-per-week', 'native-country', 'target'])"
      ],
      "execution_count": 4,
      "outputs": []
    },
    {
      "cell_type": "code",
      "metadata": {
        "colab": {
          "base_uri": "https://localhost:8080/",
          "height": 293
        },
        "id": "4klVHgzl_ZsD",
        "outputId": "a3785dfc-b151-4cfd-bdd8-6d975cc76603"
      },
      "source": [
        "dataset.head()"
      ],
      "execution_count": 5,
      "outputs": [
        {
          "output_type": "execute_result",
          "data": {
            "text/html": [
              "<div>\n",
              "<style scoped>\n",
              "    .dataframe tbody tr th:only-of-type {\n",
              "        vertical-align: middle;\n",
              "    }\n",
              "\n",
              "    .dataframe tbody tr th {\n",
              "        vertical-align: top;\n",
              "    }\n",
              "\n",
              "    .dataframe thead th {\n",
              "        text-align: right;\n",
              "    }\n",
              "</style>\n",
              "<table border=\"1\" class=\"dataframe\">\n",
              "  <thead>\n",
              "    <tr style=\"text-align: right;\">\n",
              "      <th></th>\n",
              "      <th>age</th>\n",
              "      <th>workclass</th>\n",
              "      <th>fnlwgt</th>\n",
              "      <th>education</th>\n",
              "      <th>education-num</th>\n",
              "      <th>marital-status</th>\n",
              "      <th>occupation</th>\n",
              "      <th>relationship</th>\n",
              "      <th>race</th>\n",
              "      <th>sex</th>\n",
              "      <th>capital-gain</th>\n",
              "      <th>capital-loss</th>\n",
              "      <th>hours-per-week</th>\n",
              "      <th>native-country</th>\n",
              "      <th>target</th>\n",
              "    </tr>\n",
              "  </thead>\n",
              "  <tbody>\n",
              "    <tr>\n",
              "      <th>0</th>\n",
              "      <td>39</td>\n",
              "      <td>State-gov</td>\n",
              "      <td>77516</td>\n",
              "      <td>Bachelors</td>\n",
              "      <td>13</td>\n",
              "      <td>Never-married</td>\n",
              "      <td>Adm-clerical</td>\n",
              "      <td>Not-in-family</td>\n",
              "      <td>White</td>\n",
              "      <td>Male</td>\n",
              "      <td>2174</td>\n",
              "      <td>0</td>\n",
              "      <td>40</td>\n",
              "      <td>United-States</td>\n",
              "      <td>&lt;=50K</td>\n",
              "    </tr>\n",
              "    <tr>\n",
              "      <th>1</th>\n",
              "      <td>50</td>\n",
              "      <td>Self-emp-not-inc</td>\n",
              "      <td>83311</td>\n",
              "      <td>Bachelors</td>\n",
              "      <td>13</td>\n",
              "      <td>Married-civ-spouse</td>\n",
              "      <td>Exec-managerial</td>\n",
              "      <td>Husband</td>\n",
              "      <td>White</td>\n",
              "      <td>Male</td>\n",
              "      <td>0</td>\n",
              "      <td>0</td>\n",
              "      <td>13</td>\n",
              "      <td>United-States</td>\n",
              "      <td>&lt;=50K</td>\n",
              "    </tr>\n",
              "    <tr>\n",
              "      <th>2</th>\n",
              "      <td>38</td>\n",
              "      <td>Private</td>\n",
              "      <td>215646</td>\n",
              "      <td>HS-grad</td>\n",
              "      <td>9</td>\n",
              "      <td>Divorced</td>\n",
              "      <td>Handlers-cleaners</td>\n",
              "      <td>Not-in-family</td>\n",
              "      <td>White</td>\n",
              "      <td>Male</td>\n",
              "      <td>0</td>\n",
              "      <td>0</td>\n",
              "      <td>40</td>\n",
              "      <td>United-States</td>\n",
              "      <td>&lt;=50K</td>\n",
              "    </tr>\n",
              "    <tr>\n",
              "      <th>3</th>\n",
              "      <td>53</td>\n",
              "      <td>Private</td>\n",
              "      <td>234721</td>\n",
              "      <td>11th</td>\n",
              "      <td>7</td>\n",
              "      <td>Married-civ-spouse</td>\n",
              "      <td>Handlers-cleaners</td>\n",
              "      <td>Husband</td>\n",
              "      <td>Black</td>\n",
              "      <td>Male</td>\n",
              "      <td>0</td>\n",
              "      <td>0</td>\n",
              "      <td>40</td>\n",
              "      <td>United-States</td>\n",
              "      <td>&lt;=50K</td>\n",
              "    </tr>\n",
              "    <tr>\n",
              "      <th>4</th>\n",
              "      <td>28</td>\n",
              "      <td>Private</td>\n",
              "      <td>338409</td>\n",
              "      <td>Bachelors</td>\n",
              "      <td>13</td>\n",
              "      <td>Married-civ-spouse</td>\n",
              "      <td>Prof-specialty</td>\n",
              "      <td>Wife</td>\n",
              "      <td>Black</td>\n",
              "      <td>Female</td>\n",
              "      <td>0</td>\n",
              "      <td>0</td>\n",
              "      <td>40</td>\n",
              "      <td>Cuba</td>\n",
              "      <td>&lt;=50K</td>\n",
              "    </tr>\n",
              "  </tbody>\n",
              "</table>\n",
              "</div>"
            ],
            "text/plain": [
              "   age          workclass  fnlwgt  ... hours-per-week  native-country  target\n",
              "0   39          State-gov   77516  ...             40   United-States   <=50K\n",
              "1   50   Self-emp-not-inc   83311  ...             13   United-States   <=50K\n",
              "2   38            Private  215646  ...             40   United-States   <=50K\n",
              "3   53            Private  234721  ...             40   United-States   <=50K\n",
              "4   28            Private  338409  ...             40            Cuba   <=50K\n",
              "\n",
              "[5 rows x 15 columns]"
            ]
          },
          "metadata": {
            "tags": []
          },
          "execution_count": 5
        }
      ]
    },
    {
      "cell_type": "code",
      "metadata": {
        "id": "vsVwuN_7bbjj"
      },
      "source": [
        "cont_classes = ['age', 'fnlwgt', 'education-num', 'capital-gain', 'capital-loss', 'hours-per-week']\r\n",
        "cat_classes = ['workclass', 'education', 'marital-status', 'occupation', 'relationship', 'race', 'sex', 'native-country']\r\n",
        "\r\n",
        "\r\n",
        "def transform_df(list_col):\r\n",
        "  for col in list_col:\r\n",
        "    le = LabelEncoder()\r\n",
        "    sample = dataset[col]\r\n",
        "    le.fit(sample)\r\n",
        "    dataset[col] = le.transform(dataset[col])\r\n",
        "\r\n",
        "transform_df(cat_classes)"
      ],
      "execution_count": 6,
      "outputs": []
    },
    {
      "cell_type": "code",
      "metadata": {
        "colab": {
          "base_uri": "https://localhost:8080/",
          "height": 223
        },
        "id": "5CK4TRjvdY-x",
        "outputId": "f1bc4fd3-8eab-4f48-815e-27c54187a113"
      },
      "source": [
        "dataset.head()"
      ],
      "execution_count": 7,
      "outputs": [
        {
          "output_type": "execute_result",
          "data": {
            "text/html": [
              "<div>\n",
              "<style scoped>\n",
              "    .dataframe tbody tr th:only-of-type {\n",
              "        vertical-align: middle;\n",
              "    }\n",
              "\n",
              "    .dataframe tbody tr th {\n",
              "        vertical-align: top;\n",
              "    }\n",
              "\n",
              "    .dataframe thead th {\n",
              "        text-align: right;\n",
              "    }\n",
              "</style>\n",
              "<table border=\"1\" class=\"dataframe\">\n",
              "  <thead>\n",
              "    <tr style=\"text-align: right;\">\n",
              "      <th></th>\n",
              "      <th>age</th>\n",
              "      <th>workclass</th>\n",
              "      <th>fnlwgt</th>\n",
              "      <th>education</th>\n",
              "      <th>education-num</th>\n",
              "      <th>marital-status</th>\n",
              "      <th>occupation</th>\n",
              "      <th>relationship</th>\n",
              "      <th>race</th>\n",
              "      <th>sex</th>\n",
              "      <th>capital-gain</th>\n",
              "      <th>capital-loss</th>\n",
              "      <th>hours-per-week</th>\n",
              "      <th>native-country</th>\n",
              "      <th>target</th>\n",
              "    </tr>\n",
              "  </thead>\n",
              "  <tbody>\n",
              "    <tr>\n",
              "      <th>0</th>\n",
              "      <td>39</td>\n",
              "      <td>7</td>\n",
              "      <td>77516</td>\n",
              "      <td>9</td>\n",
              "      <td>13</td>\n",
              "      <td>4</td>\n",
              "      <td>1</td>\n",
              "      <td>1</td>\n",
              "      <td>4</td>\n",
              "      <td>1</td>\n",
              "      <td>2174</td>\n",
              "      <td>0</td>\n",
              "      <td>40</td>\n",
              "      <td>39</td>\n",
              "      <td>&lt;=50K</td>\n",
              "    </tr>\n",
              "    <tr>\n",
              "      <th>1</th>\n",
              "      <td>50</td>\n",
              "      <td>6</td>\n",
              "      <td>83311</td>\n",
              "      <td>9</td>\n",
              "      <td>13</td>\n",
              "      <td>2</td>\n",
              "      <td>4</td>\n",
              "      <td>0</td>\n",
              "      <td>4</td>\n",
              "      <td>1</td>\n",
              "      <td>0</td>\n",
              "      <td>0</td>\n",
              "      <td>13</td>\n",
              "      <td>39</td>\n",
              "      <td>&lt;=50K</td>\n",
              "    </tr>\n",
              "    <tr>\n",
              "      <th>2</th>\n",
              "      <td>38</td>\n",
              "      <td>4</td>\n",
              "      <td>215646</td>\n",
              "      <td>11</td>\n",
              "      <td>9</td>\n",
              "      <td>0</td>\n",
              "      <td>6</td>\n",
              "      <td>1</td>\n",
              "      <td>4</td>\n",
              "      <td>1</td>\n",
              "      <td>0</td>\n",
              "      <td>0</td>\n",
              "      <td>40</td>\n",
              "      <td>39</td>\n",
              "      <td>&lt;=50K</td>\n",
              "    </tr>\n",
              "    <tr>\n",
              "      <th>3</th>\n",
              "      <td>53</td>\n",
              "      <td>4</td>\n",
              "      <td>234721</td>\n",
              "      <td>1</td>\n",
              "      <td>7</td>\n",
              "      <td>2</td>\n",
              "      <td>6</td>\n",
              "      <td>0</td>\n",
              "      <td>2</td>\n",
              "      <td>1</td>\n",
              "      <td>0</td>\n",
              "      <td>0</td>\n",
              "      <td>40</td>\n",
              "      <td>39</td>\n",
              "      <td>&lt;=50K</td>\n",
              "    </tr>\n",
              "    <tr>\n",
              "      <th>4</th>\n",
              "      <td>28</td>\n",
              "      <td>4</td>\n",
              "      <td>338409</td>\n",
              "      <td>9</td>\n",
              "      <td>13</td>\n",
              "      <td>2</td>\n",
              "      <td>10</td>\n",
              "      <td>5</td>\n",
              "      <td>2</td>\n",
              "      <td>0</td>\n",
              "      <td>0</td>\n",
              "      <td>0</td>\n",
              "      <td>40</td>\n",
              "      <td>5</td>\n",
              "      <td>&lt;=50K</td>\n",
              "    </tr>\n",
              "  </tbody>\n",
              "</table>\n",
              "</div>"
            ],
            "text/plain": [
              "   age  workclass  fnlwgt  ...  hours-per-week  native-country  target\n",
              "0   39          7   77516  ...              40              39   <=50K\n",
              "1   50          6   83311  ...              13              39   <=50K\n",
              "2   38          4  215646  ...              40              39   <=50K\n",
              "3   53          4  234721  ...              40              39   <=50K\n",
              "4   28          4  338409  ...              40               5   <=50K\n",
              "\n",
              "[5 rows x 15 columns]"
            ]
          },
          "metadata": {
            "tags": []
          },
          "execution_count": 7
        }
      ]
    },
    {
      "cell_type": "code",
      "metadata": {
        "colab": {
          "base_uri": "https://localhost:8080/",
          "height": 223
        },
        "id": "zrha9Br-fcs3",
        "outputId": "8ba420bf-6534-4ad9-e38c-003c495d3653"
      },
      "source": [
        "dataset['target'] = dataset['target'].apply(lambda x: 0 if x == \" <=50K\" else 1)\r\n",
        "dataset.head()"
      ],
      "execution_count": 8,
      "outputs": [
        {
          "output_type": "execute_result",
          "data": {
            "text/html": [
              "<div>\n",
              "<style scoped>\n",
              "    .dataframe tbody tr th:only-of-type {\n",
              "        vertical-align: middle;\n",
              "    }\n",
              "\n",
              "    .dataframe tbody tr th {\n",
              "        vertical-align: top;\n",
              "    }\n",
              "\n",
              "    .dataframe thead th {\n",
              "        text-align: right;\n",
              "    }\n",
              "</style>\n",
              "<table border=\"1\" class=\"dataframe\">\n",
              "  <thead>\n",
              "    <tr style=\"text-align: right;\">\n",
              "      <th></th>\n",
              "      <th>age</th>\n",
              "      <th>workclass</th>\n",
              "      <th>fnlwgt</th>\n",
              "      <th>education</th>\n",
              "      <th>education-num</th>\n",
              "      <th>marital-status</th>\n",
              "      <th>occupation</th>\n",
              "      <th>relationship</th>\n",
              "      <th>race</th>\n",
              "      <th>sex</th>\n",
              "      <th>capital-gain</th>\n",
              "      <th>capital-loss</th>\n",
              "      <th>hours-per-week</th>\n",
              "      <th>native-country</th>\n",
              "      <th>target</th>\n",
              "    </tr>\n",
              "  </thead>\n",
              "  <tbody>\n",
              "    <tr>\n",
              "      <th>0</th>\n",
              "      <td>39</td>\n",
              "      <td>7</td>\n",
              "      <td>77516</td>\n",
              "      <td>9</td>\n",
              "      <td>13</td>\n",
              "      <td>4</td>\n",
              "      <td>1</td>\n",
              "      <td>1</td>\n",
              "      <td>4</td>\n",
              "      <td>1</td>\n",
              "      <td>2174</td>\n",
              "      <td>0</td>\n",
              "      <td>40</td>\n",
              "      <td>39</td>\n",
              "      <td>0</td>\n",
              "    </tr>\n",
              "    <tr>\n",
              "      <th>1</th>\n",
              "      <td>50</td>\n",
              "      <td>6</td>\n",
              "      <td>83311</td>\n",
              "      <td>9</td>\n",
              "      <td>13</td>\n",
              "      <td>2</td>\n",
              "      <td>4</td>\n",
              "      <td>0</td>\n",
              "      <td>4</td>\n",
              "      <td>1</td>\n",
              "      <td>0</td>\n",
              "      <td>0</td>\n",
              "      <td>13</td>\n",
              "      <td>39</td>\n",
              "      <td>0</td>\n",
              "    </tr>\n",
              "    <tr>\n",
              "      <th>2</th>\n",
              "      <td>38</td>\n",
              "      <td>4</td>\n",
              "      <td>215646</td>\n",
              "      <td>11</td>\n",
              "      <td>9</td>\n",
              "      <td>0</td>\n",
              "      <td>6</td>\n",
              "      <td>1</td>\n",
              "      <td>4</td>\n",
              "      <td>1</td>\n",
              "      <td>0</td>\n",
              "      <td>0</td>\n",
              "      <td>40</td>\n",
              "      <td>39</td>\n",
              "      <td>0</td>\n",
              "    </tr>\n",
              "    <tr>\n",
              "      <th>3</th>\n",
              "      <td>53</td>\n",
              "      <td>4</td>\n",
              "      <td>234721</td>\n",
              "      <td>1</td>\n",
              "      <td>7</td>\n",
              "      <td>2</td>\n",
              "      <td>6</td>\n",
              "      <td>0</td>\n",
              "      <td>2</td>\n",
              "      <td>1</td>\n",
              "      <td>0</td>\n",
              "      <td>0</td>\n",
              "      <td>40</td>\n",
              "      <td>39</td>\n",
              "      <td>0</td>\n",
              "    </tr>\n",
              "    <tr>\n",
              "      <th>4</th>\n",
              "      <td>28</td>\n",
              "      <td>4</td>\n",
              "      <td>338409</td>\n",
              "      <td>9</td>\n",
              "      <td>13</td>\n",
              "      <td>2</td>\n",
              "      <td>10</td>\n",
              "      <td>5</td>\n",
              "      <td>2</td>\n",
              "      <td>0</td>\n",
              "      <td>0</td>\n",
              "      <td>0</td>\n",
              "      <td>40</td>\n",
              "      <td>5</td>\n",
              "      <td>0</td>\n",
              "    </tr>\n",
              "  </tbody>\n",
              "</table>\n",
              "</div>"
            ],
            "text/plain": [
              "   age  workclass  fnlwgt  ...  hours-per-week  native-country  target\n",
              "0   39          7   77516  ...              40              39       0\n",
              "1   50          6   83311  ...              13              39       0\n",
              "2   38          4  215646  ...              40              39       0\n",
              "3   53          4  234721  ...              40              39       0\n",
              "4   28          4  338409  ...              40               5       0\n",
              "\n",
              "[5 rows x 15 columns]"
            ]
          },
          "metadata": {
            "tags": []
          },
          "execution_count": 8
        }
      ]
    },
    {
      "cell_type": "code",
      "metadata": {
        "id": "5pq6geXjqsYw"
      },
      "source": [
        "list_columns = dataset.columns.tolist()\r\n",
        "cat_classes_index = []\r\n",
        "cont_classes_index = []\r\n",
        "\r\n",
        "for col in cat_classes:\r\n",
        "  cat_classes_index.append(list_columns.index(col))\r\n",
        "\r\n",
        "for col in cont_classes:\r\n",
        "  cont_classes_index.append(list_columns.index(col))\r\n",
        "\r\n",
        "cat_dataset = dataset.iloc[:, cat_classes_index]\r\n",
        "cont_dataset = dataset.iloc[:, cont_classes_index]\r\n",
        "\r\n",
        "# Convert to numpy arrays\r\n",
        "cat_dataset_numpy = cat_dataset.to_numpy()\r\n",
        "cont_dataset_numpy = cont_dataset.to_numpy()\r\n",
        "target_numpy = dataset['target'].to_numpy()\r\n",
        "assert len(cat_dataset) == len(cont_dataset)\r\n",
        "assert len(cont_dataset) == len(target_numpy)"
      ],
      "execution_count": 9,
      "outputs": []
    },
    {
      "cell_type": "code",
      "metadata": {
        "id": "10ozDJ4PK0O_"
      },
      "source": [
        "class TabDataset(Dataset):\r\n",
        "  def __init__(self, cat_dataset_numpy, cont_dataset_numpy, targets):\r\n",
        "    self.cat_dataset = cat_dataset_numpy\r\n",
        "    self.cont_dataset = cont_dataset_numpy\r\n",
        "    self.targets = targets\r\n",
        "    self.length = len(targets)\r\n",
        "    self.list_samples = []\r\n",
        "    self.build()\r\n",
        "  \r\n",
        "  def __len__(self):\r\n",
        "    return len(self.list_samples)\r\n",
        "  \r\n",
        "  def __getitem__(self, idx):\r\n",
        "    sample = self.list_samples[idx]\r\n",
        "    return {\r\n",
        "        'cat_tensor': torch.tensor(sample['cat_list']),\r\n",
        "        'cont_tensor': torch.tensor(sample['cont_list'], dtype=torch.float),\r\n",
        "        'target': torch.tensor(sample['target']),\r\n",
        "    }\r\n",
        "\r\n",
        "  def build(self):\r\n",
        "    for i in range(self.length):\r\n",
        "      cat = self.cat_dataset[i]\r\n",
        "      cont = self.cont_dataset[i]\r\n",
        "      target = self.targets[i]\r\n",
        "      self.list_samples.append({\r\n",
        "          'cat_list': cat,\r\n",
        "          'cont_list': cont,\r\n",
        "          'target': target,\r\n",
        "      })"
      ],
      "execution_count": 10,
      "outputs": []
    },
    {
      "cell_type": "code",
      "metadata": {
        "id": "3U7LMe2LQldy"
      },
      "source": [
        "# Split --> 80% train 20% valid\r\n",
        "len_train = 80 * len(cat_dataset) // 100\r\n",
        "\r\n",
        "cat_dataset_numpy_train = cat_dataset_numpy[:len_train]\r\n",
        "cat_dataset_numpy_valid = cat_dataset_numpy[len_train:]\r\n",
        "\r\n",
        "cont_dataset_numpy_train = cont_dataset_numpy[:len_train]\r\n",
        "cont_dataset_numpy_valid = cont_dataset_numpy[len_train:]\r\n",
        "\r\n",
        "target_train = target_numpy[:len_train]\r\n",
        "target_valid = target_numpy[len_train:]"
      ],
      "execution_count": 11,
      "outputs": []
    },
    {
      "cell_type": "code",
      "metadata": {
        "id": "EKKJY_5LT3e9"
      },
      "source": [
        "train_dataset = TabDataset(cat_dataset_numpy_train, cont_dataset_numpy_train, target_train)\r\n",
        "valid_dataset = TabDataset(cat_dataset_numpy_valid, cont_dataset_numpy_valid, target_valid)"
      ],
      "execution_count": 12,
      "outputs": []
    },
    {
      "cell_type": "code",
      "metadata": {
        "colab": {
          "base_uri": "https://localhost:8080/"
        },
        "id": "ENVlFxw_VIG0",
        "outputId": "082e6fc4-fc49-4afa-a4e0-9f3ed47f2223"
      },
      "source": [
        "BATCH_SIZE = 8\r\n",
        "\r\n",
        "train_loader = DataLoader(dataset=train_dataset, batch_size=BATCH_SIZE, shuffle=False)\r\n",
        "valid_loader = DataLoader(dataset=valid_dataset, batch_size=BATCH_SIZE, shuffle=False)\r\n",
        "\r\n",
        "print(\"Length of Train Loader: \", len(train_loader))\r\n",
        "print(\"Length of Valid Loader:\", len(valid_loader), \"\\n\")\r\n",
        "\r\n",
        "# Check dataset\r\n",
        "for sample1, sample2 in zip(train_loader, valid_loader):\r\n",
        "  print(sample1['cat_tensor'].shape, sample2['cont_tensor'].shape)\r\n",
        "  break"
      ],
      "execution_count": 13,
      "outputs": [
        {
          "output_type": "stream",
          "text": [
            "Length of Train Loader:  3256\n",
            "Length of Valid Loader: 815 \n",
            "\n",
            "torch.Size([8, 8]) torch.Size([8, 6])\n"
          ],
          "name": "stdout"
        }
      ]
    },
    {
      "cell_type": "code",
      "metadata": {
        "colab": {
          "base_uri": "https://localhost:8080/"
        },
        "id": "dSL3soYfYZlw",
        "outputId": "768aa5c7-d7d7-4573-afa2-21ba3e06c1f2"
      },
      "source": [
        "model = TabTransformer(\r\n",
        "    categories=(9, 16, 7, 15, 6, 5, 2, 42),\r\n",
        "    num_continuous=6,\r\n",
        "    dim=32,\r\n",
        "    dim_out=2,\r\n",
        "    depth=6,\r\n",
        "    heads=8,\r\n",
        "    attn_dropout=0.1,\r\n",
        "    ff_dropout=0.1,\r\n",
        "    mlp_hidden_mults=(4, 2),\r\n",
        "    mlp_act=nn.ReLU(),\r\n",
        ")\r\n",
        "model.to(device)\r\n",
        "\r\n",
        "params = sum(p.numel() for p in model.parameters() if p.requires_grad)\r\n",
        "print(\"Total trainable parameters = \", params)"
      ],
      "execution_count": 14,
      "outputs": [
        {
          "output_type": "stream",
          "text": [
            "Total trainable parameters =  220110\n"
          ],
          "name": "stdout"
        }
      ]
    },
    {
      "cell_type": "code",
      "metadata": {
        "id": "YRpQIw4xZlsh"
      },
      "source": [
        "LEARNING_RATE = 3e-4\r\n",
        "EPOCHS = 2\r\n",
        "optimizer = torch.optim.AdamW(model.parameters(), lr=LEARNING_RATE)"
      ],
      "execution_count": 15,
      "outputs": []
    },
    {
      "cell_type": "code",
      "metadata": {
        "colab": {
          "base_uri": "https://localhost:8080/"
        },
        "id": "L7_NVsKQdLXD",
        "outputId": "321a073d-2a57-40fe-ca67-6169eaa09596"
      },
      "source": [
        "def compute_accuracy(model, data_loader, device):\r\n",
        "  correct_preds, total_examples = 0, 0\r\n",
        "  with torch.set_grad_enabled(False):\r\n",
        "    for sample in data_loader:\r\n",
        "      cat_tensor = sample['cat_tensor'].to(device)\r\n",
        "      cont_tensor = sample['cont_tensor'].to(device)\r\n",
        "      target = sample['target'].to(device)\r\n",
        "\r\n",
        "      logits = model(cat_tensor, cont_tensor)\r\n",
        "      probas = F.softmax(logits, dim=1)\r\n",
        "      _, pred_labels = torch.max(probas, 1)\r\n",
        "      correct_preds += (pred_labels == target).sum()\r\n",
        "      total_examples += target.size(0)\r\n",
        "    return correct_preds.float() / total_examples * 100\r\n",
        "\r\n",
        "start_time = time.time()\r\n",
        "for epoch in range(EPOCHS):\r\n",
        "  model.train()\r\n",
        "  for idx, sample in enumerate(train_loader):\r\n",
        "    cat_tensor = sample['cat_tensor'].to(device)\r\n",
        "    cont_tensor = sample['cont_tensor'].to(device)\r\n",
        "    target = sample['target'].to(device)\r\n",
        "\r\n",
        "    optimizer.zero_grad()\r\n",
        "    logits = model(cat_tensor, cont_tensor)\r\n",
        "    loss = F.cross_entropy(logits, target)\r\n",
        "    loss.backward()\r\n",
        "    optimizer.step()\r\n",
        "\r\n",
        "    # LOGGING\r\n",
        "    if idx % 500 == 0:\r\n",
        "      print(\"Batch: %04d/%04d || Epoch: %04d/%04d || Loss: %.3f\" % (idx, len(train_loader), epoch+1, EPOCHS, loss.item()))\r\n",
        "  \r\n",
        "  model.eval()\r\n",
        "  with torch.set_grad_enabled(False):\r\n",
        "    train_acc = compute_accuracy(model, train_loader, device)\r\n",
        "    valid_acc = compute_accuracy(model, valid_loader, device)\r\n",
        "    print('Train Accuracy: %.3f%%' % (train_acc))\r\n",
        "    print('Valid Accuracy: %.3f%%' % (valid_acc))\r\n",
        "  epoch_elapsed_time = (time.time() - start_time) / 60\r\n",
        "  print('Epoch Elapsed Time: ', epoch_elapsed_time)\r\n",
        "total_training_time = (time.time() - start_time) / 60\r\n",
        "print('Total Training Time: ', total_training_time)"
      ],
      "execution_count": 16,
      "outputs": [
        {
          "output_type": "stream",
          "text": [
            "Batch: 0000/3256 || Epoch: 0001/0002 || Loss: 0.650\n",
            "Batch: 0500/3256 || Epoch: 0001/0002 || Loss: 0.835\n",
            "Batch: 1000/3256 || Epoch: 0001/0002 || Loss: 0.265\n",
            "Batch: 1500/3256 || Epoch: 0001/0002 || Loss: 0.566\n",
            "Batch: 2000/3256 || Epoch: 0001/0002 || Loss: 0.565\n",
            "Batch: 2500/3256 || Epoch: 0001/0002 || Loss: 0.190\n",
            "Batch: 3000/3256 || Epoch: 0001/0002 || Loss: 0.311\n",
            "Train Accuracy: 83.150%\n",
            "Valid Accuracy: 83.080%\n",
            "Epoch Elapsed Time:  1.6121505180994669\n",
            "Batch: 0000/3256 || Epoch: 0002/0002 || Loss: 0.699\n",
            "Batch: 0500/3256 || Epoch: 0002/0002 || Loss: 0.603\n",
            "Batch: 1000/3256 || Epoch: 0002/0002 || Loss: 0.262\n",
            "Batch: 1500/3256 || Epoch: 0002/0002 || Loss: 0.571\n",
            "Batch: 2000/3256 || Epoch: 0002/0002 || Loss: 0.582\n",
            "Batch: 2500/3256 || Epoch: 0002/0002 || Loss: 0.185\n",
            "Batch: 3000/3256 || Epoch: 0002/0002 || Loss: 0.310\n",
            "Train Accuracy: 83.584%\n",
            "Valid Accuracy: 83.249%\n",
            "Epoch Elapsed Time:  3.2195717891057334\n",
            "Total Training Time:  3.2195752461751304\n"
          ],
          "name": "stdout"
        }
      ]
    },
    {
      "cell_type": "code",
      "metadata": {
        "id": "FsQNraqRj-EW"
      },
      "source": [
        ""
      ],
      "execution_count": null,
      "outputs": []
    }
  ]
}