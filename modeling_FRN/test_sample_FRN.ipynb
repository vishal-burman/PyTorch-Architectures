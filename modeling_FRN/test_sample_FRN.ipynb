{
  "nbformat": 4,
  "nbformat_minor": 0,
  "metadata": {
    "colab": {
      "name": "test_sample_FRN.ipynb",
      "provenance": [],
      "authorship_tag": "ABX9TyOX+cjfyblI5H0yYreM+Zcl",
      "include_colab_link": true
    },
    "kernelspec": {
      "name": "python3",
      "display_name": "Python 3"
    },
    "accelerator": "GPU"
  },
  "cells": [
    {
      "cell_type": "markdown",
      "metadata": {
        "id": "view-in-github",
        "colab_type": "text"
      },
      "source": [
        "<a href=\"https://colab.research.google.com/github/vishal-burman/PyTorch-Architectures/blob/master/modeling_FRN/test_sample_FRN.ipynb\" target=\"_parent\"><img src=\"https://colab.research.google.com/assets/colab-badge.svg\" alt=\"Open In Colab\"/></a>"
      ]
    },
    {
      "cell_type": "code",
      "metadata": {
        "colab": {
          "base_uri": "https://localhost:8080/"
        },
        "id": "QaRugmp-ZV34",
        "outputId": "fd794796-21c8-49b1-cadc-f96ef248ea75"
      },
      "source": [
        "! git clone https://github.com/vishal-burman/PyTorch-Architectures.git"
      ],
      "execution_count": 1,
      "outputs": [
        {
          "output_type": "stream",
          "text": [
            "Cloning into 'PyTorch-Architectures'...\n",
            "remote: Enumerating objects: 178, done.\u001b[K\n",
            "remote: Counting objects: 100% (178/178), done.\u001b[K\n",
            "remote: Compressing objects: 100% (74/74), done.\u001b[K\n",
            "remote: Total 1481 (delta 96), reused 162 (delta 87), pack-reused 1303\u001b[K\n",
            "Receiving objects: 100% (1481/1481), 8.58 MiB | 23.36 MiB/s, done.\n",
            "Resolving deltas: 100% (864/864), done.\n"
          ],
          "name": "stdout"
        }
      ]
    },
    {
      "cell_type": "code",
      "metadata": {
        "colab": {
          "base_uri": "https://localhost:8080/"
        },
        "id": "Gy2xgMwQb7TZ",
        "outputId": "7914e2fc-c835-4697-95ed-7cfb7e9afad1"
      },
      "source": [
        "%cd PyTorch-Architectures/modeling_FRN/"
      ],
      "execution_count": 1,
      "outputs": [
        {
          "output_type": "stream",
          "text": [
            "/content/PyTorch-Architectures/modeling_FRN\n"
          ],
          "name": "stdout"
        }
      ]
    },
    {
      "cell_type": "code",
      "metadata": {
        "id": "9AlKyReab_vH"
      },
      "source": [
        "import time\r\n",
        "\r\n",
        "import torch\r\n",
        "import torch.nn as nn\r\n",
        "import torch.nn.functional as F\r\n",
        "\r\n",
        "from torch.utils.data import Dataset, DataLoader, Subset\r\n",
        "\r\n",
        "from torchvision import datasets, transforms\r\n",
        "\r\n",
        "from model import NiN\r\n",
        "\r\n",
        "if torch.cuda.is_available():\r\n",
        "  torch.backends.cudnn.deterministic = True"
      ],
      "execution_count": 2,
      "outputs": []
    },
    {
      "cell_type": "code",
      "metadata": {
        "id": "R0hDY1XlcDTo"
      },
      "source": [
        "#############\r\n",
        "# Settings\r\n",
        "#############\r\n",
        "\r\n",
        "RANDOM_SEED = 1\r\n",
        "LEARNING_RATE = 0.00005\r\n",
        "BATCH_SIZE = 256\r\n",
        "EPOCHS = 10\r\n",
        "\r\n",
        "# Architecture\r\n",
        "NUM_CLASSES = 10\r\n",
        "\r\n",
        "# Other\r\n",
        "DEVICE = torch.device(\"cuda:0\" if torch.cuda.is_available() else \"cpu\")\r\n",
        "GRAYSCALE = False"
      ],
      "execution_count": 4,
      "outputs": []
    },
    {
      "cell_type": "code",
      "metadata": {
        "colab": {
          "base_uri": "https://localhost:8080/"
        },
        "id": "KjO-STQQcIl5",
        "outputId": "cf832ecd-9df8-4e35-93ce-698c4064ccdf"
      },
      "source": [
        "########################\r\n",
        "# CIFAR-10\r\n",
        "########################\r\n",
        "\r\n",
        "train_indices = torch.arange(0, 49000)\r\n",
        "valid_indices = torch.arange(49000, 50000)\r\n",
        "\r\n",
        "train_and_valid = datasets.CIFAR10(root='data',\r\n",
        "                                   train=True,\r\n",
        "                                   transform=transforms.ToTensor(),\r\n",
        "                                   download=True)\r\n",
        "\r\n",
        "train_dataset = Subset(train_and_valid, train_indices)\r\n",
        "valid_dataset = Subset(train_and_valid, valid_indices)\r\n",
        "\r\n",
        "test_dataset = datasets.CIFAR10(root='data',\r\n",
        "                                train=False, \r\n",
        "                                transform=transforms.ToTensor())\r\n",
        "\r\n",
        "########################\r\n",
        "# DataLoaders\r\n",
        "########################\r\n",
        "\r\n",
        "train_loader = DataLoader(dataset=train_dataset,\r\n",
        "                          batch_size=BATCH_SIZE,\r\n",
        "                          num_workers=4,\r\n",
        "                          shuffle=True)\r\n",
        "valid_loader = DataLoader(dataset=valid_dataset,\r\n",
        "                          batch_size=BATCH_SIZE,\r\n",
        "                          num_workers=4,\r\n",
        "                          shuffle=False)\r\n",
        "test_loader = DataLoader(dataset=test_dataset,\r\n",
        "                         batch_size=BATCH_SIZE,\r\n",
        "                         num_workers=4,\r\n",
        "                         shuffle=False)\r\n",
        "\r\n",
        "############################\r\n",
        "# Check dataset\r\n",
        "############################\r\n",
        "for images, labels in train_loader:\r\n",
        "  print('Images Dimensions: ', images.shape)\r\n",
        "  print('Labels Dimensions: ', labels.shape, \"\\n\")\r\n",
        "  break\r\n",
        "\r\n",
        "for images, labels in valid_loader:\r\n",
        "  print('Images Dimensions: ', images.shape)\r\n",
        "  print('Labels Dimensions: ', labels.shape, \"\\n\")\r\n",
        "  break\r\n",
        "\r\n",
        "for images, labels in test_loader:\r\n",
        "  print('Images Dimensions: ', images.shape)\r\n",
        "  print('Labels Dimensions: ', labels.shape, \"\\n\")\r\n",
        "  break\r\n",
        "\r\n",
        "print('Length of train_loader: ', len(train_loader))\r\n",
        "print('Length of valid_loader: ', len(valid_loader))\r\n",
        "print('Length of test_loader: ', len(test_loader))"
      ],
      "execution_count": 5,
      "outputs": [
        {
          "output_type": "stream",
          "text": [
            "Files already downloaded and verified\n",
            "Images Dimensions:  torch.Size([256, 3, 32, 32])\n",
            "Labels Dimensions:  torch.Size([256]) \n",
            "\n",
            "Images Dimensions:  torch.Size([256, 3, 32, 32])\n",
            "Labels Dimensions:  torch.Size([256]) \n",
            "\n",
            "Images Dimensions:  torch.Size([256, 3, 32, 32])\n",
            "Labels Dimensions:  torch.Size([256]) \n",
            "\n",
            "Length of train_loader:  192\n",
            "Length of valid_loader:  4\n",
            "Length of test_loader:  40\n"
          ],
          "name": "stdout"
        }
      ]
    },
    {
      "cell_type": "code",
      "metadata": {
        "colab": {
          "base_uri": "https://localhost:8080/"
        },
        "id": "C-c14utmcLg2",
        "outputId": "e08afa08-152d-4417-bd5c-36c58239316a"
      },
      "source": [
        "torch.manual_seed(RANDOM_SEED)\r\n",
        "\r\n",
        "model = NiN(num_classes=NUM_CLASSES)\r\n",
        "model.to(DEVICE)\r\n",
        "\r\n",
        "params = sum(p.numel() for p in model.parameters() if p.requires_grad)\r\n",
        "print('Total trainable parameters: ', params)\r\n",
        "\r\n",
        "optimizer = torch.optim.Adam(model.parameters(), lr=LEARNING_RATE)"
      ],
      "execution_count": 6,
      "outputs": [
        {
          "output_type": "stream",
          "text": [
            "Total trainable parameters:  969802\n"
          ],
          "name": "stdout"
        }
      ]
    },
    {
      "cell_type": "code",
      "metadata": {
        "colab": {
          "base_uri": "https://localhost:8080/"
        },
        "id": "7h4WOgwYcOy9",
        "outputId": "6bb6af83-4a6c-41fb-f5c8-208c02ce508b"
      },
      "source": [
        "def compute_accuracy(model, data_loader, device):\r\n",
        "  correct_pred, num_examples = 0, 0\r\n",
        "  for idx, (features, targets) in enumerate(data_loader):\r\n",
        "    features = features.to(device)\r\n",
        "    targets = targets.to(device)\r\n",
        "\r\n",
        "    logits, probas = model(features)\r\n",
        "    _, predicted_labels = torch.max(probas, 1)\r\n",
        "    correct_pred += (predicted_labels == targets).sum()\r\n",
        "    num_examples += targets.size(0)\r\n",
        "  return correct_pred.float()/ num_examples * 100\r\n",
        "\r\n",
        "start_time = time.time()\r\n",
        "for epoch in range(EPOCHS):\r\n",
        "  model.train()\r\n",
        "  for idx, (features, targets) in enumerate(train_loader):\r\n",
        "    features = features.to(DEVICE)\r\n",
        "    targets = targets.to(DEVICE)\r\n",
        "\r\n",
        "    logits, _ = model(features)\r\n",
        "\r\n",
        "    loss = F.cross_entropy(logits, targets)\r\n",
        "    optimizer.zero_grad()\r\n",
        "    loss.backward()\r\n",
        "    optimizer.step()\r\n",
        "\r\n",
        "    # LOGGING\r\n",
        "    if idx % 120 == 0:\r\n",
        "      print('Batch: %04d/%04d || Epoch: %04d/%04d || Loss: %.3f' % (idx, len(train_loader), epoch+1, EPOCHS, loss.item()))\r\n",
        "  \r\n",
        "  model.eval()\r\n",
        "  with torch.set_grad_enabled(False):\r\n",
        "    train_accuracy = compute_accuracy(model, train_loader, DEVICE)\r\n",
        "    valid_accuracy = compute_accuracy(model, valid_loader, DEVICE)\r\n",
        "    print('Train Accuracy: %.2f' % (train_accuracy))\r\n",
        "    print('Valid Accuracy: %.2f' % (valid_accuracy))\r\n",
        "  epoch_elapsed_time = (time.time() - start_time) / 60\r\n",
        "  print('Epoch Elapsed Time: %.2f min' % (epoch_elapsed_time))\r\n",
        "total_elapsed_time = (time.time() - start_time) / 60\r\n",
        "print('Total Elapsed Time: %.2f min' % (total_elapsed_time))"
      ],
      "execution_count": 7,
      "outputs": [
        {
          "output_type": "stream",
          "text": [
            "Batch: 0000/0192 || Epoch: 0001/0010 || Loss: 2.309\n",
            "Batch: 0120/0192 || Epoch: 0001/0010 || Loss: 2.215\n",
            "Train Accuracy: 19.33\n",
            "Valid Accuracy: 20.40\n",
            "Epoch Elapsed Time: 0.95 min\n",
            "Batch: 0000/0192 || Epoch: 0002/0010 || Loss: 2.127\n",
            "Batch: 0120/0192 || Epoch: 0002/0010 || Loss: 2.109\n",
            "Train Accuracy: 24.33\n",
            "Valid Accuracy: 27.30\n",
            "Epoch Elapsed Time: 1.90 min\n",
            "Batch: 0000/0192 || Epoch: 0003/0010 || Loss: 2.041\n",
            "Batch: 0120/0192 || Epoch: 0003/0010 || Loss: 2.022\n",
            "Train Accuracy: 28.69\n",
            "Valid Accuracy: 32.30\n",
            "Epoch Elapsed Time: 2.86 min\n",
            "Batch: 0000/0192 || Epoch: 0004/0010 || Loss: 1.979\n",
            "Batch: 0120/0192 || Epoch: 0004/0010 || Loss: 1.916\n",
            "Train Accuracy: 31.25\n",
            "Valid Accuracy: 33.20\n",
            "Epoch Elapsed Time: 3.82 min\n",
            "Batch: 0000/0192 || Epoch: 0005/0010 || Loss: 1.931\n",
            "Batch: 0120/0192 || Epoch: 0005/0010 || Loss: 1.971\n",
            "Train Accuracy: 34.18\n",
            "Valid Accuracy: 36.40\n",
            "Epoch Elapsed Time: 4.78 min\n",
            "Batch: 0000/0192 || Epoch: 0006/0010 || Loss: 1.905\n",
            "Batch: 0120/0192 || Epoch: 0006/0010 || Loss: 1.856\n",
            "Train Accuracy: 33.66\n",
            "Valid Accuracy: 35.90\n",
            "Epoch Elapsed Time: 5.73 min\n",
            "Batch: 0000/0192 || Epoch: 0007/0010 || Loss: 1.937\n",
            "Batch: 0120/0192 || Epoch: 0007/0010 || Loss: 1.729\n",
            "Train Accuracy: 36.63\n",
            "Valid Accuracy: 40.10\n",
            "Epoch Elapsed Time: 6.69 min\n",
            "Batch: 0000/0192 || Epoch: 0008/0010 || Loss: 1.849\n",
            "Batch: 0120/0192 || Epoch: 0008/0010 || Loss: 1.917\n",
            "Train Accuracy: 38.52\n",
            "Valid Accuracy: 39.90\n",
            "Epoch Elapsed Time: 7.65 min\n",
            "Batch: 0000/0192 || Epoch: 0009/0010 || Loss: 1.813\n",
            "Batch: 0120/0192 || Epoch: 0009/0010 || Loss: 1.768\n",
            "Train Accuracy: 38.66\n",
            "Valid Accuracy: 40.90\n",
            "Epoch Elapsed Time: 8.61 min\n",
            "Batch: 0000/0192 || Epoch: 0010/0010 || Loss: 1.771\n",
            "Batch: 0120/0192 || Epoch: 0010/0010 || Loss: 1.656\n",
            "Train Accuracy: 42.64\n",
            "Valid Accuracy: 43.70\n",
            "Epoch Elapsed Time: 9.57 min\n",
            "Total Elapsed Time: 9.57 min\n"
          ],
          "name": "stdout"
        }
      ]
    },
    {
      "cell_type": "code",
      "metadata": {
        "id": "sRt8F5DwcWIH"
      },
      "source": [
        ""
      ],
      "execution_count": null,
      "outputs": []
    }
  ]
}